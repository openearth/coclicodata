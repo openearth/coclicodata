{
 "cells": [
  {
   "attachments": {},
   "cell_type": "markdown",
   "id": "58b6628a",
   "metadata": {},
   "source": [
    "# Storm surge level\n",
    "\n",
    "Notebook environment to migrate netcdf files to CF compliant zarr"
   ]
  },
  {
   "cell_type": "code",
   "execution_count": 22,
   "id": "d213fe1c",
   "metadata": {},
   "outputs": [
    {
     "name": "stdout",
     "output_type": "stream",
     "text": [
      "The nb_black extension is already loaded. To reload it, use:\n",
      "  %reload_ext nb_black\n"
     ]
    },
    {
     "data": {
      "application/javascript": "\n            setTimeout(function() {\n                var nbb_cell_id = 22;\n                var nbb_unformatted_code = \"# Optional; code formatter, installed as jupyter lab extension\\n#%load_ext lab_black\\n# Optional; code formatter, installed as jupyter notebook extension\\n%load_ext nb_black\";\n                var nbb_formatted_code = \"# Optional; code formatter, installed as jupyter lab extension\\n# %load_ext lab_black\\n# Optional; code formatter, installed as jupyter notebook extension\\n%load_ext nb_black\";\n                var nbb_cells = Jupyter.notebook.get_cells();\n                for (var i = 0; i < nbb_cells.length; ++i) {\n                    if (nbb_cells[i].input_prompt_number == nbb_cell_id) {\n                        if (nbb_cells[i].get_text() == nbb_unformatted_code) {\n                             nbb_cells[i].set_text(nbb_formatted_code);\n                        }\n                        break;\n                    }\n                }\n            }, 500);\n            ",
      "text/plain": [
       "<IPython.core.display.Javascript object>"
      ]
     },
     "metadata": {},
     "output_type": "display_data"
    }
   ],
   "source": [
    "# Optional; code formatter, installed as jupyter lab extension\n",
    "#%load_ext lab_black\n",
    "# Optional; code formatter, installed as jupyter notebook extension\n",
    "%load_ext nb_black"
   ]
  },
  {
   "attachments": {},
   "cell_type": "markdown",
   "id": "892785ae",
   "metadata": {},
   "source": [
    "### Configure OS independent paths"
   ]
  },
  {
   "cell_type": "code",
   "execution_count": 23,
   "id": "e200dc11",
   "metadata": {},
   "outputs": [
    {
     "data": {
      "application/javascript": "\n            setTimeout(function() {\n                var nbb_cell_id = 23;\n                var nbb_unformatted_code = \"# Import standard packages\\nimport os\\nimport pathlib\\nimport sys\\nimport numpy as np\\nimport geopandas as gpd\\nimport pandas as pd\\nimport matplotlib.pyplot as plt\\nimport xarray as xr\\n\\n# Make root directories importable by appending root to path\\ncwd = pathlib.Path().resolve()\\nsys.path.append(os.path.dirname(cwd))\\n\\n# Get root paths\\nhome = pathlib.Path().home()\\nroot = home.root\\n\\n# Import custom functionality\\nfrom coclicodata.drive_config import p_drive\\nfrom coclicodata.etl.cf_compliancy_checker import check_compliancy, save_compliancy\\n\\n# Define (local and) remote drives\\ncoclico_data_dir = p_drive.joinpath(r\\\"C:\\\\Users\\\\Skoulikaris\\\\test_github\\\\11207608-coclico\\\\FASTTRACK_DATA\\\")\\n\\n# Workaround to the Windows OS (10) udunits error after installation of cfchecker: https://github.com/SciTools/iris/issues/404\\n# os.environ[\\\"UDUNITS2_XML_PATH\\\"] = str(\\n#     home.joinpath(  # change to the udunits2.xml file dir in your Python installation\\n#         r\\\"Anaconda3\\\\pkgs\\\\udunits2-2.2.28-h892ecd3_0\\\\Library\\\\share\\\\udunits\\\\udunits2.xml\\\"\\n#     )\\n# )\";\n                var nbb_formatted_code = \"# Import standard packages\\nimport os\\nimport pathlib\\nimport sys\\nimport numpy as np\\nimport geopandas as gpd\\nimport pandas as pd\\nimport matplotlib.pyplot as plt\\nimport xarray as xr\\n\\n# Make root directories importable by appending root to path\\ncwd = pathlib.Path().resolve()\\nsys.path.append(os.path.dirname(cwd))\\n\\n# Get root paths\\nhome = pathlib.Path().home()\\nroot = home.root\\n\\n# Import custom functionality\\nfrom coclicodata.drive_config import p_drive\\nfrom coclicodata.etl.cf_compliancy_checker import check_compliancy, save_compliancy\\n\\n# Define (local and) remote drives\\ncoclico_data_dir = p_drive.joinpath(\\n    r\\\"C:\\\\Users\\\\Skoulikaris\\\\test_github\\\\11207608-coclico\\\\FASTTRACK_DATA\\\"\\n)\\n\\n# Workaround to the Windows OS (10) udunits error after installation of cfchecker: https://github.com/SciTools/iris/issues/404\\n# os.environ[\\\"UDUNITS2_XML_PATH\\\"] = str(\\n#     home.joinpath(  # change to the udunits2.xml file dir in your Python installation\\n#         r\\\"Anaconda3\\\\pkgs\\\\udunits2-2.2.28-h892ecd3_0\\\\Library\\\\share\\\\udunits\\\\udunits2.xml\\\"\\n#     )\\n# )\";\n                var nbb_cells = Jupyter.notebook.get_cells();\n                for (var i = 0; i < nbb_cells.length; ++i) {\n                    if (nbb_cells[i].input_prompt_number == nbb_cell_id) {\n                        if (nbb_cells[i].get_text() == nbb_unformatted_code) {\n                             nbb_cells[i].set_text(nbb_formatted_code);\n                        }\n                        break;\n                    }\n                }\n            }, 500);\n            ",
      "text/plain": [
       "<IPython.core.display.Javascript object>"
      ]
     },
     "metadata": {},
     "output_type": "display_data"
    }
   ],
   "source": [
    "# Import standard packages\n",
    "import os\n",
    "import pathlib\n",
    "import sys\n",
    "import numpy as np\n",
    "import geopandas as gpd\n",
    "import pandas as pd\n",
    "import matplotlib.pyplot as plt\n",
    "import xarray as xr\n",
    "\n",
    "# Make root directories importable by appending root to path\n",
    "cwd = pathlib.Path().resolve()\n",
    "sys.path.append(os.path.dirname(cwd))\n",
    "\n",
    "# Get root paths\n",
    "home = pathlib.Path().home()\n",
    "root = home.root\n",
    "\n",
    "# Import custom functionality\n",
    "from coclicodata.drive_config import p_drive\n",
    "from coclicodata.etl.cf_compliancy_checker import check_compliancy, save_compliancy\n",
    "\n",
    "# Define (local and) remote drives\n",
    "coclico_data_dir = p_drive.joinpath(r\"C:\\Users\\Skoulikaris\\test_github\\11207608-coclico\\FASTTRACK_DATA\")\n",
    "\n",
    "# Workaround to the Windows OS (10) udunits error after installation of cfchecker: https://github.com/SciTools/iris/issues/404\n",
    "# os.environ[\"UDUNITS2_XML_PATH\"] = str(\n",
    "#     home.joinpath(  # change to the udunits2.xml file dir in your Python installation\n",
    "#         r\"Anaconda3\\pkgs\\udunits2-2.2.28-h892ecd3_0\\Library\\share\\udunits\\udunits2.xml\"\n",
    "#     )\n",
    "# )"
   ]
  },
  {
   "cell_type": "code",
   "execution_count": 24,
   "id": "96c526d7",
   "metadata": {},
   "outputs": [
    {
     "data": {
      "application/javascript": "\n            setTimeout(function() {\n                var nbb_cell_id = 24;\n                var nbb_unformatted_code = \"# Project paths & files (manual input)\\ndataset_dir = coclico_data_dir.joinpath(\\\"01_MarineDynamicsChanges_TWL\\\")\\ndataset_ssp245_path = dataset_dir.joinpath(\\\"CTP_MarineDynamicsChanges_ssp245.nc\\\")\\ndataset_ssp585_path = dataset_dir.joinpath(\\\"CTP_MarineDynamicsChanges_ssp585.nc\\\")\\ndataset_ReturnPeriods_SLR_path = dataset_dir.joinpath(\\\"CTP_ReturnPeriods_SLR.nc\\\")\\ndataset_out_file = \\\"MarineDynamicsChanges_EESSL\\\"\\nCF_dir = coclico_data_dir.joinpath(r\\\"CF_WP4\\\")  # directory to save output CF check files\";\n                var nbb_formatted_code = \"# Project paths & files (manual input)\\ndataset_dir = coclico_data_dir.joinpath(\\\"01_MarineDynamicsChanges_TWL\\\")\\ndataset_ssp245_path = dataset_dir.joinpath(\\\"CTP_MarineDynamicsChanges_ssp245.nc\\\")\\ndataset_ssp585_path = dataset_dir.joinpath(\\\"CTP_MarineDynamicsChanges_ssp585.nc\\\")\\ndataset_ReturnPeriods_SLR_path = dataset_dir.joinpath(\\\"CTP_ReturnPeriods_SLR.nc\\\")\\ndataset_out_file = \\\"MarineDynamicsChanges_EESSL\\\"\\nCF_dir = coclico_data_dir.joinpath(r\\\"CF_WP4\\\")  # directory to save output CF check files\";\n                var nbb_cells = Jupyter.notebook.get_cells();\n                for (var i = 0; i < nbb_cells.length; ++i) {\n                    if (nbb_cells[i].input_prompt_number == nbb_cell_id) {\n                        if (nbb_cells[i].get_text() == nbb_unformatted_code) {\n                             nbb_cells[i].set_text(nbb_formatted_code);\n                        }\n                        break;\n                    }\n                }\n            }, 500);\n            ",
      "text/plain": [
       "<IPython.core.display.Javascript object>"
      ]
     },
     "metadata": {},
     "output_type": "display_data"
    }
   ],
   "source": [
    "# Project paths & files (manual input)\n",
    "dataset_dir = coclico_data_dir.joinpath(\"01_MarineDynamicsChanges_TWL\")\n",
    "dataset_ssp245_path = dataset_dir.joinpath(\"CTP_MarineDynamicsChanges_ssp245.nc\")\n",
    "dataset_ssp585_path = dataset_dir.joinpath(\"CTP_MarineDynamicsChanges_ssp585.nc\")\n",
    "dataset_ReturnPeriods_SLR_path = dataset_dir.joinpath(\"CTP_ReturnPeriods_SLR.nc\")\n",
    "dataset_out_file = \"MarineDynamicsChanges_EESSL\"\n",
    "CF_dir = coclico_data_dir.joinpath(r\"CF_WP4\")  # directory to save output CF check files"
   ]
  },
  {
   "attachments": {},
   "cell_type": "markdown",
   "id": "f8d5c913",
   "metadata": {},
   "source": [
    "### Check CF compliancy original NetCDF files"
   ]
  },
  {
   "cell_type": "code",
   "execution_count": 25,
   "id": "7d9c6980",
   "metadata": {},
   "outputs": [
    {
     "data": {
      "text/html": [
       "<div><svg style=\"position: absolute; width: 0; height: 0; overflow: hidden\">\n",
       "<defs>\n",
       "<symbol id=\"icon-database\" viewBox=\"0 0 32 32\">\n",
       "<path d=\"M16 0c-8.837 0-16 2.239-16 5v4c0 2.761 7.163 5 16 5s16-2.239 16-5v-4c0-2.761-7.163-5-16-5z\"></path>\n",
       "<path d=\"M16 17c-8.837 0-16-2.239-16-5v6c0 2.761 7.163 5 16 5s16-2.239 16-5v-6c0 2.761-7.163 5-16 5z\"></path>\n",
       "<path d=\"M16 26c-8.837 0-16-2.239-16-5v6c0 2.761 7.163 5 16 5s16-2.239 16-5v-6c0 2.761-7.163 5-16 5z\"></path>\n",
       "</symbol>\n",
       "<symbol id=\"icon-file-text2\" viewBox=\"0 0 32 32\">\n",
       "<path d=\"M28.681 7.159c-0.694-0.947-1.662-2.053-2.724-3.116s-2.169-2.030-3.116-2.724c-1.612-1.182-2.393-1.319-2.841-1.319h-15.5c-1.378 0-2.5 1.121-2.5 2.5v27c0 1.378 1.122 2.5 2.5 2.5h23c1.378 0 2.5-1.122 2.5-2.5v-19.5c0-0.448-0.137-1.23-1.319-2.841zM24.543 5.457c0.959 0.959 1.712 1.825 2.268 2.543h-4.811v-4.811c0.718 0.556 1.584 1.309 2.543 2.268zM28 29.5c0 0.271-0.229 0.5-0.5 0.5h-23c-0.271 0-0.5-0.229-0.5-0.5v-27c0-0.271 0.229-0.5 0.5-0.5 0 0 15.499-0 15.5 0v7c0 0.552 0.448 1 1 1h7v19.5z\"></path>\n",
       "<path d=\"M23 26h-14c-0.552 0-1-0.448-1-1s0.448-1 1-1h14c0.552 0 1 0.448 1 1s-0.448 1-1 1z\"></path>\n",
       "<path d=\"M23 22h-14c-0.552 0-1-0.448-1-1s0.448-1 1-1h14c0.552 0 1 0.448 1 1s-0.448 1-1 1z\"></path>\n",
       "<path d=\"M23 18h-14c-0.552 0-1-0.448-1-1s0.448-1 1-1h14c0.552 0 1 0.448 1 1s-0.448 1-1 1z\"></path>\n",
       "</symbol>\n",
       "</defs>\n",
       "</svg>\n",
       "<style>/* CSS stylesheet for displaying xarray objects in jupyterlab.\n",
       " *\n",
       " */\n",
       "\n",
       ":root {\n",
       "  --xr-font-color0: var(--jp-content-font-color0, rgba(0, 0, 0, 1));\n",
       "  --xr-font-color2: var(--jp-content-font-color2, rgba(0, 0, 0, 0.54));\n",
       "  --xr-font-color3: var(--jp-content-font-color3, rgba(0, 0, 0, 0.38));\n",
       "  --xr-border-color: var(--jp-border-color2, #e0e0e0);\n",
       "  --xr-disabled-color: var(--jp-layout-color3, #bdbdbd);\n",
       "  --xr-background-color: var(--jp-layout-color0, white);\n",
       "  --xr-background-color-row-even: var(--jp-layout-color1, white);\n",
       "  --xr-background-color-row-odd: var(--jp-layout-color2, #eeeeee);\n",
       "}\n",
       "\n",
       "html[theme=dark],\n",
       "body[data-theme=dark],\n",
       "body.vscode-dark {\n",
       "  --xr-font-color0: rgba(255, 255, 255, 1);\n",
       "  --xr-font-color2: rgba(255, 255, 255, 0.54);\n",
       "  --xr-font-color3: rgba(255, 255, 255, 0.38);\n",
       "  --xr-border-color: #1F1F1F;\n",
       "  --xr-disabled-color: #515151;\n",
       "  --xr-background-color: #111111;\n",
       "  --xr-background-color-row-even: #111111;\n",
       "  --xr-background-color-row-odd: #313131;\n",
       "}\n",
       "\n",
       ".xr-wrap {\n",
       "  display: block !important;\n",
       "  min-width: 300px;\n",
       "  max-width: 700px;\n",
       "}\n",
       "\n",
       ".xr-text-repr-fallback {\n",
       "  /* fallback to plain text repr when CSS is not injected (untrusted notebook) */\n",
       "  display: none;\n",
       "}\n",
       "\n",
       ".xr-header {\n",
       "  padding-top: 6px;\n",
       "  padding-bottom: 6px;\n",
       "  margin-bottom: 4px;\n",
       "  border-bottom: solid 1px var(--xr-border-color);\n",
       "}\n",
       "\n",
       ".xr-header > div,\n",
       ".xr-header > ul {\n",
       "  display: inline;\n",
       "  margin-top: 0;\n",
       "  margin-bottom: 0;\n",
       "}\n",
       "\n",
       ".xr-obj-type,\n",
       ".xr-array-name {\n",
       "  margin-left: 2px;\n",
       "  margin-right: 10px;\n",
       "}\n",
       "\n",
       ".xr-obj-type {\n",
       "  color: var(--xr-font-color2);\n",
       "}\n",
       "\n",
       ".xr-sections {\n",
       "  padding-left: 0 !important;\n",
       "  display: grid;\n",
       "  grid-template-columns: 150px auto auto 1fr 20px 20px;\n",
       "}\n",
       "\n",
       ".xr-section-item {\n",
       "  display: contents;\n",
       "}\n",
       "\n",
       ".xr-section-item input {\n",
       "  display: none;\n",
       "}\n",
       "\n",
       ".xr-section-item input + label {\n",
       "  color: var(--xr-disabled-color);\n",
       "}\n",
       "\n",
       ".xr-section-item input:enabled + label {\n",
       "  cursor: pointer;\n",
       "  color: var(--xr-font-color2);\n",
       "}\n",
       "\n",
       ".xr-section-item input:enabled + label:hover {\n",
       "  color: var(--xr-font-color0);\n",
       "}\n",
       "\n",
       ".xr-section-summary {\n",
       "  grid-column: 1;\n",
       "  color: var(--xr-font-color2);\n",
       "  font-weight: 500;\n",
       "}\n",
       "\n",
       ".xr-section-summary > span {\n",
       "  display: inline-block;\n",
       "  padding-left: 0.5em;\n",
       "}\n",
       "\n",
       ".xr-section-summary-in:disabled + label {\n",
       "  color: var(--xr-font-color2);\n",
       "}\n",
       "\n",
       ".xr-section-summary-in + label:before {\n",
       "  display: inline-block;\n",
       "  content: '►';\n",
       "  font-size: 11px;\n",
       "  width: 15px;\n",
       "  text-align: center;\n",
       "}\n",
       "\n",
       ".xr-section-summary-in:disabled + label:before {\n",
       "  color: var(--xr-disabled-color);\n",
       "}\n",
       "\n",
       ".xr-section-summary-in:checked + label:before {\n",
       "  content: '▼';\n",
       "}\n",
       "\n",
       ".xr-section-summary-in:checked + label > span {\n",
       "  display: none;\n",
       "}\n",
       "\n",
       ".xr-section-summary,\n",
       ".xr-section-inline-details {\n",
       "  padding-top: 4px;\n",
       "  padding-bottom: 4px;\n",
       "}\n",
       "\n",
       ".xr-section-inline-details {\n",
       "  grid-column: 2 / -1;\n",
       "}\n",
       "\n",
       ".xr-section-details {\n",
       "  display: none;\n",
       "  grid-column: 1 / -1;\n",
       "  margin-bottom: 5px;\n",
       "}\n",
       "\n",
       ".xr-section-summary-in:checked ~ .xr-section-details {\n",
       "  display: contents;\n",
       "}\n",
       "\n",
       ".xr-array-wrap {\n",
       "  grid-column: 1 / -1;\n",
       "  display: grid;\n",
       "  grid-template-columns: 20px auto;\n",
       "}\n",
       "\n",
       ".xr-array-wrap > label {\n",
       "  grid-column: 1;\n",
       "  vertical-align: top;\n",
       "}\n",
       "\n",
       ".xr-preview {\n",
       "  color: var(--xr-font-color3);\n",
       "}\n",
       "\n",
       ".xr-array-preview,\n",
       ".xr-array-data {\n",
       "  padding: 0 5px !important;\n",
       "  grid-column: 2;\n",
       "}\n",
       "\n",
       ".xr-array-data,\n",
       ".xr-array-in:checked ~ .xr-array-preview {\n",
       "  display: none;\n",
       "}\n",
       "\n",
       ".xr-array-in:checked ~ .xr-array-data,\n",
       ".xr-array-preview {\n",
       "  display: inline-block;\n",
       "}\n",
       "\n",
       ".xr-dim-list {\n",
       "  display: inline-block !important;\n",
       "  list-style: none;\n",
       "  padding: 0 !important;\n",
       "  margin: 0;\n",
       "}\n",
       "\n",
       ".xr-dim-list li {\n",
       "  display: inline-block;\n",
       "  padding: 0;\n",
       "  margin: 0;\n",
       "}\n",
       "\n",
       ".xr-dim-list:before {\n",
       "  content: '(';\n",
       "}\n",
       "\n",
       ".xr-dim-list:after {\n",
       "  content: ')';\n",
       "}\n",
       "\n",
       ".xr-dim-list li:not(:last-child):after {\n",
       "  content: ',';\n",
       "  padding-right: 5px;\n",
       "}\n",
       "\n",
       ".xr-has-index {\n",
       "  font-weight: bold;\n",
       "}\n",
       "\n",
       ".xr-var-list,\n",
       ".xr-var-item {\n",
       "  display: contents;\n",
       "}\n",
       "\n",
       ".xr-var-item > div,\n",
       ".xr-var-item label,\n",
       ".xr-var-item > .xr-var-name span {\n",
       "  background-color: var(--xr-background-color-row-even);\n",
       "  margin-bottom: 0;\n",
       "}\n",
       "\n",
       ".xr-var-item > .xr-var-name:hover span {\n",
       "  padding-right: 5px;\n",
       "}\n",
       "\n",
       ".xr-var-list > li:nth-child(odd) > div,\n",
       ".xr-var-list > li:nth-child(odd) > label,\n",
       ".xr-var-list > li:nth-child(odd) > .xr-var-name span {\n",
       "  background-color: var(--xr-background-color-row-odd);\n",
       "}\n",
       "\n",
       ".xr-var-name {\n",
       "  grid-column: 1;\n",
       "}\n",
       "\n",
       ".xr-var-dims {\n",
       "  grid-column: 2;\n",
       "}\n",
       "\n",
       ".xr-var-dtype {\n",
       "  grid-column: 3;\n",
       "  text-align: right;\n",
       "  color: var(--xr-font-color2);\n",
       "}\n",
       "\n",
       ".xr-var-preview {\n",
       "  grid-column: 4;\n",
       "}\n",
       "\n",
       ".xr-index-preview {\n",
       "  grid-column: 2 / 5;\n",
       "  color: var(--xr-font-color2);\n",
       "}\n",
       "\n",
       ".xr-var-name,\n",
       ".xr-var-dims,\n",
       ".xr-var-dtype,\n",
       ".xr-preview,\n",
       ".xr-attrs dt {\n",
       "  white-space: nowrap;\n",
       "  overflow: hidden;\n",
       "  text-overflow: ellipsis;\n",
       "  padding-right: 10px;\n",
       "}\n",
       "\n",
       ".xr-var-name:hover,\n",
       ".xr-var-dims:hover,\n",
       ".xr-var-dtype:hover,\n",
       ".xr-attrs dt:hover {\n",
       "  overflow: visible;\n",
       "  width: auto;\n",
       "  z-index: 1;\n",
       "}\n",
       "\n",
       ".xr-var-attrs,\n",
       ".xr-var-data,\n",
       ".xr-index-data {\n",
       "  display: none;\n",
       "  background-color: var(--xr-background-color) !important;\n",
       "  padding-bottom: 5px !important;\n",
       "}\n",
       "\n",
       ".xr-var-attrs-in:checked ~ .xr-var-attrs,\n",
       ".xr-var-data-in:checked ~ .xr-var-data,\n",
       ".xr-index-data-in:checked ~ .xr-index-data {\n",
       "  display: block;\n",
       "}\n",
       "\n",
       ".xr-var-data > table {\n",
       "  float: right;\n",
       "}\n",
       "\n",
       ".xr-var-name span,\n",
       ".xr-var-data,\n",
       ".xr-index-name div,\n",
       ".xr-index-data,\n",
       ".xr-attrs {\n",
       "  padding-left: 25px !important;\n",
       "}\n",
       "\n",
       ".xr-attrs,\n",
       ".xr-var-attrs,\n",
       ".xr-var-data,\n",
       ".xr-index-data {\n",
       "  grid-column: 1 / -1;\n",
       "}\n",
       "\n",
       "dl.xr-attrs {\n",
       "  padding: 0;\n",
       "  margin: 0;\n",
       "  display: grid;\n",
       "  grid-template-columns: 125px auto;\n",
       "}\n",
       "\n",
       ".xr-attrs dt,\n",
       ".xr-attrs dd {\n",
       "  padding: 0;\n",
       "  margin: 0;\n",
       "  float: left;\n",
       "  padding-right: 10px;\n",
       "  width: auto;\n",
       "}\n",
       "\n",
       ".xr-attrs dt {\n",
       "  font-weight: normal;\n",
       "  grid-column: 1;\n",
       "}\n",
       "\n",
       ".xr-attrs dt:hover span {\n",
       "  display: inline-block;\n",
       "  background: var(--xr-background-color);\n",
       "  padding-right: 10px;\n",
       "}\n",
       "\n",
       ".xr-attrs dd {\n",
       "  grid-column: 2;\n",
       "  white-space: pre-wrap;\n",
       "  word-break: break-all;\n",
       "}\n",
       "\n",
       ".xr-icon-database,\n",
       ".xr-icon-file-text2,\n",
       ".xr-no-icon {\n",
       "  display: inline-block;\n",
       "  vertical-align: middle;\n",
       "  width: 1em;\n",
       "  height: 1.5em !important;\n",
       "  stroke-width: 0;\n",
       "  stroke: currentColor;\n",
       "  fill: currentColor;\n",
       "}\n",
       "</style><pre class='xr-text-repr-fallback'>&lt;xarray.Dataset&gt; Size: 2MB\n",
       "Dimensions:   (locs: 51010)\n",
       "Coordinates:\n",
       "    lon       (locs) float64 408kB ...\n",
       "    lat       (locs) float64 408kB ...\n",
       "Dimensions without coordinates: locs\n",
       "Data variables:\n",
       "    chg_hs    (locs) float64 408kB ...\n",
       "    chg_tm02  (locs) float64 408kB ...\n",
       "    chg_ss99  (locs) float64 408kB ...\n",
       "Attributes:\n",
       "    title:             EU Coastal Target Points - Coastal marine climatologies\n",
       "    summary:           Location of Coastal Target Points and their respective...\n",
       "    institution:       Universidad de Cantabria, Instituto de Hidráulica Ambi...\n",
       "    keywords:          Waves, Storm surge, tide, coast, EU scale\n",
       "    date_created:      23rd of September 2024\n",
       "    project:           CoCliCo - Coastal Climate Core Services\n",
       "    CMIP_phase:        CMIP6\n",
       "    CMIP_models:       MRI-ESM2-0 MPI-ESM1-2-HR EC-Earth3 CNRM-CM6-1-HR\n",
       "    forcing_scenario:  ssp245\n",
       "    reference_period:  from 1995-01-01 to 2014-12-31\n",
       "    period:            from 2081-01-01 to 2100-12-31\n",
       "    Conventions:       CF-1.8</pre><div class='xr-wrap' style='display:none'><div class='xr-header'><div class='xr-obj-type'>xarray.Dataset</div></div><ul class='xr-sections'><li class='xr-section-item'><input id='section-0bb85ec6-1c92-4c38-bedd-d93cce99f2fc' class='xr-section-summary-in' type='checkbox' disabled ><label for='section-0bb85ec6-1c92-4c38-bedd-d93cce99f2fc' class='xr-section-summary'  title='Expand/collapse section'>Dimensions:</label><div class='xr-section-inline-details'><ul class='xr-dim-list'><li><span>locs</span>: 51010</li></ul></div><div class='xr-section-details'></div></li><li class='xr-section-item'><input id='section-3c0f08c5-161c-4788-a7ed-b534157a8d0a' class='xr-section-summary-in' type='checkbox'  checked><label for='section-3c0f08c5-161c-4788-a7ed-b534157a8d0a' class='xr-section-summary' >Coordinates: <span>(2)</span></label><div class='xr-section-inline-details'></div><div class='xr-section-details'><ul class='xr-var-list'><li class='xr-var-item'><div class='xr-var-name'><span>lon</span></div><div class='xr-var-dims'>(locs)</div><div class='xr-var-dtype'>float64</div><div class='xr-var-preview xr-preview'>...</div><input id='attrs-c797d15c-a112-454a-a84d-836cf007836c' class='xr-var-attrs-in' type='checkbox' ><label for='attrs-c797d15c-a112-454a-a84d-836cf007836c' title='Show/Hide attributes'><svg class='icon xr-icon-file-text2'><use xlink:href='#icon-file-text2'></use></svg></label><input id='data-3e3907bd-e5d6-4d1a-89f9-2e803623d0eb' class='xr-var-data-in' type='checkbox'><label for='data-3e3907bd-e5d6-4d1a-89f9-2e803623d0eb' title='Show/Hide data repr'><svg class='icon xr-icon-database'><use xlink:href='#icon-database'></use></svg></label><div class='xr-var-attrs'><dl class='xr-attrs'><dt><span>long_name :</span></dt><dd>longitude</dd><dt><span>short_name :</span></dt><dd>lon</dd><dt><span>standard_name :</span></dt><dd>longitude</dd><dt><span>units :</span></dt><dd>degrees_east</dd></dl></div><div class='xr-var-data'><pre>[51010 values with dtype=float64]</pre></div></li><li class='xr-var-item'><div class='xr-var-name'><span>lat</span></div><div class='xr-var-dims'>(locs)</div><div class='xr-var-dtype'>float64</div><div class='xr-var-preview xr-preview'>...</div><input id='attrs-ae993cf5-a9d6-4d23-9b9e-3ba0139a203b' class='xr-var-attrs-in' type='checkbox' ><label for='attrs-ae993cf5-a9d6-4d23-9b9e-3ba0139a203b' title='Show/Hide attributes'><svg class='icon xr-icon-file-text2'><use xlink:href='#icon-file-text2'></use></svg></label><input id='data-4fd1e9e1-1db6-4592-a0d3-e72986076b01' class='xr-var-data-in' type='checkbox'><label for='data-4fd1e9e1-1db6-4592-a0d3-e72986076b01' title='Show/Hide data repr'><svg class='icon xr-icon-database'><use xlink:href='#icon-database'></use></svg></label><div class='xr-var-attrs'><dl class='xr-attrs'><dt><span>long_name :</span></dt><dd>latitude</dd><dt><span>short_name :</span></dt><dd>lat</dd><dt><span>standard_name :</span></dt><dd>latitude</dd><dt><span>units :</span></dt><dd>degrees_north</dd></dl></div><div class='xr-var-data'><pre>[51010 values with dtype=float64]</pre></div></li></ul></div></li><li class='xr-section-item'><input id='section-312a056e-402c-428f-b3b8-674520d09399' class='xr-section-summary-in' type='checkbox'  checked><label for='section-312a056e-402c-428f-b3b8-674520d09399' class='xr-section-summary' >Data variables: <span>(3)</span></label><div class='xr-section-inline-details'></div><div class='xr-section-details'><ul class='xr-var-list'><li class='xr-var-item'><div class='xr-var-name'><span>chg_hs</span></div><div class='xr-var-dims'>(locs)</div><div class='xr-var-dtype'>float64</div><div class='xr-var-preview xr-preview'>...</div><input id='attrs-85ba0d9c-2c2f-4a37-a607-fde49f669f11' class='xr-var-attrs-in' type='checkbox' ><label for='attrs-85ba0d9c-2c2f-4a37-a607-fde49f669f11' title='Show/Hide attributes'><svg class='icon xr-icon-file-text2'><use xlink:href='#icon-file-text2'></use></svg></label><input id='data-7194f3ad-434d-4695-b684-31e7f6a392c8' class='xr-var-data-in' type='checkbox'><label for='data-7194f3ad-434d-4695-b684-31e7f6a392c8' title='Show/Hide data repr'><svg class='icon xr-icon-database'><use xlink:href='#icon-database'></use></svg></label><div class='xr-var-attrs'><dl class='xr-attrs'><dt><span>long_name :</span></dt><dd>Relative change in annual mean significant height of wind and swell waves (Hs)</dd><dt><span>short_name :</span></dt><dd>Relative change in mean Hs</dd><dt><span>units :</span></dt><dd>%</dd><dt><span>description :</span></dt><dd>Ensemble mean relative change in the annual mean of Hs hourly time over for the period 2081-2100 with respect to the period 1995-2014 for the scenario ssp245</dd></dl></div><div class='xr-var-data'><pre>[51010 values with dtype=float64]</pre></div></li><li class='xr-var-item'><div class='xr-var-name'><span>chg_tm02</span></div><div class='xr-var-dims'>(locs)</div><div class='xr-var-dtype'>float64</div><div class='xr-var-preview xr-preview'>...</div><input id='attrs-163b9f68-1ca1-4567-bce0-f27816aa2241' class='xr-var-attrs-in' type='checkbox' ><label for='attrs-163b9f68-1ca1-4567-bce0-f27816aa2241' title='Show/Hide attributes'><svg class='icon xr-icon-file-text2'><use xlink:href='#icon-file-text2'></use></svg></label><input id='data-e9927f1e-332f-40b8-b777-1e071a4f38d7' class='xr-var-data-in' type='checkbox'><label for='data-e9927f1e-332f-40b8-b777-1e071a4f38d7' title='Show/Hide data repr'><svg class='icon xr-icon-database'><use xlink:href='#icon-database'></use></svg></label><div class='xr-var-attrs'><dl class='xr-attrs'><dt><span>long_name :</span></dt><dd>Relative change in annual mean sea surface wave mean period from variance spectral density second frequency moment (Tm02)</dd><dt><span>short_name :</span></dt><dd>Relative change in mean Tm02</dd><dt><span>units :</span></dt><dd>%</dd><dt><span>description :</span></dt><dd>Ensemble mean relative change in the annual mean of Tm02 hourly time over for the period 2081-2100 with respect to the period 1995-2014 for the scenario ssp245</dd></dl></div><div class='xr-var-data'><pre>[51010 values with dtype=float64]</pre></div></li><li class='xr-var-item'><div class='xr-var-name'><span>chg_ss99</span></div><div class='xr-var-dims'>(locs)</div><div class='xr-var-dtype'>float64</div><div class='xr-var-preview xr-preview'>...</div><input id='attrs-1b14832c-720c-4195-a6e6-efd945a89c04' class='xr-var-attrs-in' type='checkbox' ><label for='attrs-1b14832c-720c-4195-a6e6-efd945a89c04' title='Show/Hide attributes'><svg class='icon xr-icon-file-text2'><use xlink:href='#icon-file-text2'></use></svg></label><input id='data-d6bcbfab-7dad-464c-891a-2dd01118fd32' class='xr-var-data-in' type='checkbox'><label for='data-d6bcbfab-7dad-464c-891a-2dd01118fd32' title='Show/Hide data repr'><svg class='icon xr-icon-database'><use xlink:href='#icon-database'></use></svg></label><div class='xr-var-attrs'><dl class='xr-attrs'><dt><span>long_name :</span></dt><dd>Relative change in the 99th percentile of storm surge sea level variation (SS)</dd><dt><span>short_name :</span></dt><dd>Relative change in 99th SS</dd><dt><span>units :</span></dt><dd>%</dd><dt><span>description :</span></dt><dd>Ensemble mean relative change in the 99th percentile of storm surge hourly time series over the period 2081-2100 with respect to the period 1995-2014 for the scenario ssp245</dd></dl></div><div class='xr-var-data'><pre>[51010 values with dtype=float64]</pre></div></li></ul></div></li><li class='xr-section-item'><input id='section-701c084e-9e08-4032-92db-c2f1eb866dc8' class='xr-section-summary-in' type='checkbox' disabled ><label for='section-701c084e-9e08-4032-92db-c2f1eb866dc8' class='xr-section-summary'  title='Expand/collapse section'>Indexes: <span>(0)</span></label><div class='xr-section-inline-details'></div><div class='xr-section-details'><ul class='xr-var-list'></ul></div></li><li class='xr-section-item'><input id='section-d2a49a2a-99e8-47d9-9a39-4e70e82ec872' class='xr-section-summary-in' type='checkbox'  ><label for='section-d2a49a2a-99e8-47d9-9a39-4e70e82ec872' class='xr-section-summary' >Attributes: <span>(12)</span></label><div class='xr-section-inline-details'></div><div class='xr-section-details'><dl class='xr-attrs'><dt><span>title :</span></dt><dd>EU Coastal Target Points - Coastal marine climatologies</dd><dt><span>summary :</span></dt><dd>Location of Coastal Target Points and their respective mean significant wave height, 99th percentile storm surge and mean tidal range</dd><dt><span>institution :</span></dt><dd>Universidad de Cantabria, Instituto de Hidráulica Ambiental de la Universidad de Cantabria - IHCantabria (UC-IHC)</dd><dt><span>keywords :</span></dt><dd>Waves, Storm surge, tide, coast, EU scale</dd><dt><span>date_created :</span></dt><dd>23rd of September 2024</dd><dt><span>project :</span></dt><dd>CoCliCo - Coastal Climate Core Services</dd><dt><span>CMIP_phase :</span></dt><dd>CMIP6</dd><dt><span>CMIP_models :</span></dt><dd>MRI-ESM2-0 MPI-ESM1-2-HR EC-Earth3 CNRM-CM6-1-HR</dd><dt><span>forcing_scenario :</span></dt><dd>ssp245</dd><dt><span>reference_period :</span></dt><dd>from 1995-01-01 to 2014-12-31</dd><dt><span>period :</span></dt><dd>from 2081-01-01 to 2100-12-31</dd><dt><span>Conventions :</span></dt><dd>CF-1.8</dd></dl></div></li></ul></div></div>"
      ],
      "text/plain": [
       "<xarray.Dataset> Size: 2MB\n",
       "Dimensions:   (locs: 51010)\n",
       "Coordinates:\n",
       "    lon       (locs) float64 408kB ...\n",
       "    lat       (locs) float64 408kB ...\n",
       "Dimensions without coordinates: locs\n",
       "Data variables:\n",
       "    chg_hs    (locs) float64 408kB ...\n",
       "    chg_tm02  (locs) float64 408kB ...\n",
       "    chg_ss99  (locs) float64 408kB ...\n",
       "Attributes:\n",
       "    title:             EU Coastal Target Points - Coastal marine climatologies\n",
       "    summary:           Location of Coastal Target Points and their respective...\n",
       "    institution:       Universidad de Cantabria, Instituto de Hidráulica Ambi...\n",
       "    keywords:          Waves, Storm surge, tide, coast, EU scale\n",
       "    date_created:      23rd of September 2024\n",
       "    project:           CoCliCo - Coastal Climate Core Services\n",
       "    CMIP_phase:        CMIP6\n",
       "    CMIP_models:       MRI-ESM2-0 MPI-ESM1-2-HR EC-Earth3 CNRM-CM6-1-HR\n",
       "    forcing_scenario:  ssp245\n",
       "    reference_period:  from 1995-01-01 to 2014-12-31\n",
       "    period:            from 2081-01-01 to 2100-12-31\n",
       "    Conventions:       CF-1.8"
      ]
     },
     "execution_count": 25,
     "metadata": {},
     "output_type": "execute_result"
    },
    {
     "data": {
      "application/javascript": "\n            setTimeout(function() {\n                var nbb_cell_id = 25;\n                var nbb_unformatted_code = \"# open datasets\\ndataset_ssp245 = xr.open_dataset(dataset_ssp245_path)\\ndataset_ssp585 = xr.open_dataset(dataset_ssp585_path)\\ndataset_SLR = xr.open_dataset(dataset_ReturnPeriods_SLR_path)\\n\\n# check original dataset\\ndataset_ssp245\";\n                var nbb_formatted_code = \"# open datasets\\ndataset_ssp245 = xr.open_dataset(dataset_ssp245_path)\\ndataset_ssp585 = xr.open_dataset(dataset_ssp585_path)\\ndataset_SLR = xr.open_dataset(dataset_ReturnPeriods_SLR_path)\\n\\n# check original dataset\\ndataset_ssp245\";\n                var nbb_cells = Jupyter.notebook.get_cells();\n                for (var i = 0; i < nbb_cells.length; ++i) {\n                    if (nbb_cells[i].input_prompt_number == nbb_cell_id) {\n                        if (nbb_cells[i].get_text() == nbb_unformatted_code) {\n                             nbb_cells[i].set_text(nbb_formatted_code);\n                        }\n                        break;\n                    }\n                }\n            }, 500);\n            ",
      "text/plain": [
       "<IPython.core.display.Javascript object>"
      ]
     },
     "metadata": {},
     "output_type": "display_data"
    }
   ],
   "source": [
    "# open datasets\n",
    "dataset_ssp245 = xr.open_dataset(dataset_ssp245_path)\n",
    "dataset_ssp585 = xr.open_dataset(dataset_ssp585_path)\n",
    "dataset_SLR = xr.open_dataset(dataset_ReturnPeriods_SLR_path)\n",
    "\n",
    "# check original dataset\n",
    "dataset_ssp245"
   ]
  },
  {
   "cell_type": "code",
   "execution_count": 26,
   "id": "5e0a7b33",
   "metadata": {},
   "outputs": [
    {
     "data": {
      "application/javascript": "\n            setTimeout(function() {\n                var nbb_cell_id = 26;\n                var nbb_unformatted_code = \"%%capture cap --no-stderr\\n# check original CF compliancy\\n\\ncheck_compliancy(testfile=dataset_ssp245_path, working_dir=CF_dir)\";\n                var nbb_formatted_code = \"%%capture cap --no-stderr\\n# check original CF compliancy\\n\\ncheck_compliancy(testfile=dataset_ssp245_path, working_dir=CF_dir)\";\n                var nbb_cells = Jupyter.notebook.get_cells();\n                for (var i = 0; i < nbb_cells.length; ++i) {\n                    if (nbb_cells[i].input_prompt_number == nbb_cell_id) {\n                        if (nbb_cells[i].get_text() == nbb_unformatted_code) {\n                             nbb_cells[i].set_text(nbb_formatted_code);\n                        }\n                        break;\n                    }\n                }\n            }, 500);\n            ",
      "text/plain": [
       "<IPython.core.display.Javascript object>"
      ]
     },
     "metadata": {},
     "output_type": "display_data"
    }
   ],
   "source": [
    "%%capture cap --no-stderr\n",
    "# check original CF compliancy\n",
    "\n",
    "check_compliancy(testfile=dataset_ssp245_path, working_dir=CF_dir)"
   ]
  },
  {
   "cell_type": "code",
   "execution_count": 27,
   "id": "f5550244",
   "metadata": {},
   "outputs": [
    {
     "name": "stdout",
     "output_type": "stream",
     "text": [
      "{'C:\\\\Users\\\\Skoulikaris\\\\test_github\\\\11207608-coclico\\\\FASTTRACK_DATA\\\\01_MarineDynamicsChanges_TWL\\\\CTP_MarineDynamicsChanges_ssp245.nc': {'warnings': '0', 'errors': '0'}}\n"
     ]
    },
    {
     "data": {
      "application/javascript": "\n            setTimeout(function() {\n                var nbb_cell_id = 27;\n                var nbb_unformatted_code = \"# save original CF compliancy\\nsave_compliancy(cap, testfile=dataset_ssp245_path, working_dir=CF_dir)\";\n                var nbb_formatted_code = \"# save original CF compliancy\\nsave_compliancy(cap, testfile=dataset_ssp245_path, working_dir=CF_dir)\";\n                var nbb_cells = Jupyter.notebook.get_cells();\n                for (var i = 0; i < nbb_cells.length; ++i) {\n                    if (nbb_cells[i].input_prompt_number == nbb_cell_id) {\n                        if (nbb_cells[i].get_text() == nbb_unformatted_code) {\n                             nbb_cells[i].set_text(nbb_formatted_code);\n                        }\n                        break;\n                    }\n                }\n            }, 500);\n            ",
      "text/plain": [
       "<IPython.core.display.Javascript object>"
      ]
     },
     "metadata": {},
     "output_type": "display_data"
    }
   ],
   "source": [
    "# save original CF compliancy\n",
    "save_compliancy(cap, testfile=dataset_ssp245_path, working_dir=CF_dir)"
   ]
  },
  {
   "cell_type": "code",
   "execution_count": 28,
   "id": "ac6632d3",
   "metadata": {},
   "outputs": [
    {
     "data": {
      "application/javascript": "\n            setTimeout(function() {\n                var nbb_cell_id = 28;\n                var nbb_unformatted_code = \"%%capture cap --no-stderr\\n# check original CF compliancy\\n\\ncheck_compliancy(testfile=dataset_ssp585_path, working_dir=CF_dir)\";\n                var nbb_formatted_code = \"%%capture cap --no-stderr\\n# check original CF compliancy\\n\\ncheck_compliancy(testfile=dataset_ssp585_path, working_dir=CF_dir)\";\n                var nbb_cells = Jupyter.notebook.get_cells();\n                for (var i = 0; i < nbb_cells.length; ++i) {\n                    if (nbb_cells[i].input_prompt_number == nbb_cell_id) {\n                        if (nbb_cells[i].get_text() == nbb_unformatted_code) {\n                             nbb_cells[i].set_text(nbb_formatted_code);\n                        }\n                        break;\n                    }\n                }\n            }, 500);\n            ",
      "text/plain": [
       "<IPython.core.display.Javascript object>"
      ]
     },
     "metadata": {},
     "output_type": "display_data"
    }
   ],
   "source": [
    "%%capture cap --no-stderr\n",
    "# check original CF compliancy\n",
    "\n",
    "check_compliancy(testfile=dataset_ssp585_path, working_dir=CF_dir)"
   ]
  },
  {
   "cell_type": "code",
   "execution_count": 29,
   "id": "4f94a2e4",
   "metadata": {},
   "outputs": [
    {
     "name": "stdout",
     "output_type": "stream",
     "text": [
      "{'C:\\\\Users\\\\Skoulikaris\\\\test_github\\\\11207608-coclico\\\\FASTTRACK_DATA\\\\01_MarineDynamicsChanges_TWL\\\\CTP_MarineDynamicsChanges_ssp585.nc': {'warnings': '0', 'errors': '0'}}\n"
     ]
    },
    {
     "data": {
      "application/javascript": "\n            setTimeout(function() {\n                var nbb_cell_id = 29;\n                var nbb_unformatted_code = \"# save original CF compliancy\\nsave_compliancy(cap, testfile=dataset_ssp585_path, working_dir=CF_dir)\";\n                var nbb_formatted_code = \"# save original CF compliancy\\nsave_compliancy(cap, testfile=dataset_ssp585_path, working_dir=CF_dir)\";\n                var nbb_cells = Jupyter.notebook.get_cells();\n                for (var i = 0; i < nbb_cells.length; ++i) {\n                    if (nbb_cells[i].input_prompt_number == nbb_cell_id) {\n                        if (nbb_cells[i].get_text() == nbb_unformatted_code) {\n                             nbb_cells[i].set_text(nbb_formatted_code);\n                        }\n                        break;\n                    }\n                }\n            }, 500);\n            ",
      "text/plain": [
       "<IPython.core.display.Javascript object>"
      ]
     },
     "metadata": {},
     "output_type": "display_data"
    }
   ],
   "source": [
    "# save original CF compliancy\n",
    "save_compliancy(cap, testfile=dataset_ssp585_path, working_dir=CF_dir)"
   ]
  },
  {
   "cell_type": "code",
   "execution_count": 30,
   "id": "05e69f6a",
   "metadata": {},
   "outputs": [
    {
     "data": {
      "application/javascript": "\n            setTimeout(function() {\n                var nbb_cell_id = 30;\n                var nbb_unformatted_code = \"%%capture cap --no-stderr\\n# check original CF compliancy\\n\\ncheck_compliancy(testfile=dataset_ReturnPeriods_path, working_dir=CF_dir)\";\n                var nbb_formatted_code = \"%%capture cap --no-stderr\\n# check original CF compliancy\\n\\ncheck_compliancy(testfile=dataset_ReturnPeriods_path, working_dir=CF_dir)\";\n                var nbb_cells = Jupyter.notebook.get_cells();\n                for (var i = 0; i < nbb_cells.length; ++i) {\n                    if (nbb_cells[i].input_prompt_number == nbb_cell_id) {\n                        if (nbb_cells[i].get_text() == nbb_unformatted_code) {\n                             nbb_cells[i].set_text(nbb_formatted_code);\n                        }\n                        break;\n                    }\n                }\n            }, 500);\n            ",
      "text/plain": [
       "<IPython.core.display.Javascript object>"
      ]
     },
     "metadata": {},
     "output_type": "display_data"
    }
   ],
   "source": [
    "%%capture cap --no-stderr\n",
    "# check original CF compliancy\n",
    "\n",
    "check_compliancy(testfile=dataset_ReturnPeriods_path, working_dir=CF_dir)"
   ]
  },
  {
   "cell_type": "code",
   "execution_count": 31,
   "id": "d444ca8a",
   "metadata": {},
   "outputs": [
    {
     "name": "stdout",
     "output_type": "stream",
     "text": [
      "{'C:\\\\Users\\\\Skoulikaris\\\\test_github\\\\11207608-coclico\\\\FASTTRACK_DATA\\\\01_MarineDynamicsChanges_TWL\\\\CTP_ReturnPeriods_SLR.nc': {'warnings': '0', 'errors': '0'}}\n"
     ]
    },
    {
     "data": {
      "application/javascript": "\n            setTimeout(function() {\n                var nbb_cell_id = 31;\n                var nbb_unformatted_code = \"# save original CF compliancy\\nsave_compliancy(cap, testfile=dataset_ReturnPeriods_path, working_dir=CF_dir)\";\n                var nbb_formatted_code = \"# save original CF compliancy\\nsave_compliancy(cap, testfile=dataset_ReturnPeriods_path, working_dir=CF_dir)\";\n                var nbb_cells = Jupyter.notebook.get_cells();\n                for (var i = 0; i < nbb_cells.length; ++i) {\n                    if (nbb_cells[i].input_prompt_number == nbb_cell_id) {\n                        if (nbb_cells[i].get_text() == nbb_unformatted_code) {\n                             nbb_cells[i].set_text(nbb_formatted_code);\n                        }\n                        break;\n                    }\n                }\n            }, 500);\n            ",
      "text/plain": [
       "<IPython.core.display.Javascript object>"
      ]
     },
     "metadata": {},
     "output_type": "display_data"
    }
   ],
   "source": [
    "# save original CF compliancy\n",
    "save_compliancy(cap, testfile=dataset_ReturnPeriods_path, working_dir=CF_dir)"
   ]
  },
  {
   "attachments": {},
   "cell_type": "markdown",
   "id": "8155e887",
   "metadata": {},
   "source": [
    "### write data to Zarr files"
   ]
  },
  {
   "cell_type": "code",
   "execution_count": null,
   "id": "88359b96",
   "metadata": {},
   "outputs": [],
   "source": []
  }
 ],
 "metadata": {
  "kernelspec": {
   "display_name": "Python 3",
   "language": "python",
   "name": "python3"
  },
  "language_info": {
   "codemirror_mode": {
    "name": "ipython",
    "version": 3
   },
   "file_extension": ".py",
   "mimetype": "text/x-python",
   "name": "python",
   "nbconvert_exporter": "python",
   "pygments_lexer": "ipython3",
   "version": "3.12.3"
  }
 },
 "nbformat": 4,
 "nbformat_minor": 5
}
