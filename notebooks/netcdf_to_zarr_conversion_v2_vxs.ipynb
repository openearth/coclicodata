{
 "cells": [
  {
   "attachments": {},
   "cell_type": "markdown",
   "id": "58b6628a",
   "metadata": {},
   "source": [
    "# .nc to .zarr\n",
    "\n",
    "Notebook environment to migrate netcdf files to CF compliant zarr"
   ]
  },
  {
   "cell_type": "code",
   "execution_count": 22,
   "id": "d213fe1c",
   "metadata": {},
   "outputs": [
    {
     "name": "stdout",
     "output_type": "stream",
     "text": [
      "The nb_black extension is already loaded. To reload it, use:\n",
      "  %reload_ext nb_black\n"
     ]
    },
    {
     "data": {
      "application/javascript": "\n            setTimeout(function() {\n                var nbb_cell_id = 22;\n                var nbb_unformatted_code = \"# Optional; code formatter, installed as jupyter lab extension\\n#%load_ext lab_black\\n# Optional; code formatter, installed as jupyter notebook extension\\n%load_ext nb_black\";\n                var nbb_formatted_code = \"# Optional; code formatter, installed as jupyter lab extension\\n# %load_ext lab_black\\n# Optional; code formatter, installed as jupyter notebook extension\\n%load_ext nb_black\";\n                var nbb_cells = Jupyter.notebook.get_cells();\n                for (var i = 0; i < nbb_cells.length; ++i) {\n                    if (nbb_cells[i].input_prompt_number == nbb_cell_id) {\n                        if (nbb_cells[i].get_text() == nbb_unformatted_code) {\n                             nbb_cells[i].set_text(nbb_formatted_code);\n                        }\n                        break;\n                    }\n                }\n            }, 500);\n            ",
      "text/plain": [
       "<IPython.core.display.Javascript object>"
      ]
     },
     "metadata": {},
     "output_type": "display_data"
    }
   ],
   "source": [
    "# Optional; code formatter, installed as jupyter lab extension\n",
    "#%load_ext lab_black\n",
    "# Optional; code formatter, installed as jupyter notebook extension\n",
    "%load_ext nb_black"
   ]
  },
  {
   "attachments": {},
   "cell_type": "markdown",
   "id": "892785ae",
   "metadata": {},
   "source": [
    "### Configure OS independent paths"
   ]
  },
  {
   "cell_type": "code",
   "execution_count": 1,
   "id": "e200dc11",
   "metadata": {},
   "outputs": [],
   "source": [
    "# Import standard packages\n",
    "import os\n",
    "import pathlib\n",
    "import sys\n",
    "import numpy as np\n",
    "import geopandas as gpd\n",
    "import pandas as pd\n",
    "import matplotlib.pyplot as plt\n",
    "import xarray as xr\n",
    "\n"
   ]
  },
  {
   "cell_type": "code",
   "execution_count": null,
   "id": "96c526d7",
   "metadata": {},
   "outputs": [],
   "source": [
    "# Specify the directory containing .nc files\n",
    "input_directory = r\"C:\\Users\\Skoulikaris\\test_github\\11207608-coclico\\FASTTRACK_DATA\\01_MarineDynamicsChanges_TWL\"  # Replace with the path to your .nc files directory\n",
    "output_directory = r\"C:\\Users\\Skoulikaris\\test_github\\11207608-coclico\\FASTTRACK_DATA\\01_MarineDynamicsChanges_TWL\\zarr\"  # Replace with the directory where .zarr files will be saved"
   ]
  },
  {
   "attachments": {},
   "cell_type": "markdown",
   "id": "f8d5c913",
   "metadata": {},
   "source": [
    "### Check CF compliancy original NetCDF files"
   ]
  },
  {
   "cell_type": "code",
   "execution_count": null,
   "id": "7d9c6980",
   "metadata": {},
   "outputs": [],
   "source": [
    "#Create the output directory if it does not exist\n",
    "os.makedirs(output_directory, exist_ok=True)\n"
   ]
  },
  {
   "cell_type": "code",
   "execution_count": 4,
   "id": "5e0a7b33",
   "metadata": {},
   "outputs": [
    {
     "name": "stdout",
     "output_type": "stream",
     "text": [
      "Processing file: CTP_MarineDynamicsChanges_ssp245.nc\n",
      "Successfully loaded CTP_MarineDynamicsChanges_ssp245.nc\n",
      "Successfully converted CTP_MarineDynamicsChanges_ssp245.nc to C:\\Users\\Skoulikaris\\test_github\\11207608-coclico\\FASTTRACK_DATA\\01_MarineDynamicsChanges_TWL\\zarr\\CTP_MarineDynamicsChanges_ssp245.zarr\n",
      "Processing file: CTP_MarineDynamicsChanges_ssp585.nc\n",
      "Successfully loaded CTP_MarineDynamicsChanges_ssp585.nc\n",
      "Successfully converted CTP_MarineDynamicsChanges_ssp585.nc to C:\\Users\\Skoulikaris\\test_github\\11207608-coclico\\FASTTRACK_DATA\\01_MarineDynamicsChanges_TWL\\zarr\\CTP_MarineDynamicsChanges_ssp585.zarr\n",
      "Processing file: CTP_ReturnPeriods_SLR.nc\n",
      "Successfully loaded CTP_ReturnPeriods_SLR.nc\n",
      "Successfully converted CTP_ReturnPeriods_SLR.nc to C:\\Users\\Skoulikaris\\test_github\\11207608-coclico\\FASTTRACK_DATA\\01_MarineDynamicsChanges_TWL\\zarr\\CTP_ReturnPeriods_SLR.zarr\n",
      "All .nc files have been processed.\n"
     ]
    }
   ],
   "source": [
    "#Loop through all .nc files in the input directory and convert them to .zarr\n",
    "for file in os.listdir(input_directory):\n",
    "    if file.endswith(\".nc\"):\n",
    "        # Construct full input and output paths\n",
    "        input_file_path = os.path.join(input_directory, file)\n",
    "        output_file_path = os.path.join(output_directory, file.replace(\".nc\", \".zarr\"))\n",
    "        \n",
    "        print(f\"Processing file: {file}\")\n",
    "        \n",
    "        # Open the .nc file using xarray\n",
    "        try:\n",
    "            dataset = xr.open_dataset(input_file_path)\n",
    "            print(f\"Successfully loaded {file}\")\n",
    "        except Exception as e:\n",
    "            print(f\"Error loading {file}: {e}\")\n",
    "            continue\n",
    "        \n",
    "        # Convert the dataset to .zarr format and save it\n",
    "        try:\n",
    "            dataset.to_zarr(output_file_path, mode=\"w\")\n",
    "            print(f\"Successfully converted {file} to {output_file_path}\")\n",
    "        except Exception as e:\n",
    "            print(f\"Error during .zarr conversion for {file}: {e}\")\n",
    "            continue\n",
    "\n",
    "# Final message\n",
    "print(\"All .nc files have been processed.\")"
   ]
  }
 ],
 "metadata": {
  "kernelspec": {
   "display_name": "Python 3",
   "language": "python",
   "name": "python3"
  },
  "language_info": {
   "codemirror_mode": {
    "name": "ipython",
    "version": 3
   },
   "file_extension": ".py",
   "mimetype": "text/x-python",
   "name": "python",
   "nbconvert_exporter": "python",
   "pygments_lexer": "ipython3",
   "version": "3.12.3"
  }
 },
 "nbformat": 4,
 "nbformat_minor": 5
}
