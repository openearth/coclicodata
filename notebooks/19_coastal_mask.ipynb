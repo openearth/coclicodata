{
 "cells": [
  {
   "cell_type": "markdown",
   "id": "c82a9c1c-7ab7-4a68-9d9d-c74ba6f308bc",
   "metadata": {},
   "source": [
    "## Coastal Mask\n",
    "\n",
    "Notebook environment to migrate TIF files to CF compliant CoG"
   ]
  },
  {
   "cell_type": "code",
   "execution_count": 1,
   "id": "7cb80ff3",
   "metadata": {},
   "outputs": [
    {
     "data": {
      "application/javascript": "\n            setTimeout(function() {\n                var nbb_cell_id = 1;\n                var nbb_unformatted_code = \"# Optional; code formatter, installed as jupyter lab extension\\n#%load_ext lab_black\\n# Optional; code formatter, installed as jupyter notebook extension\\n%load_ext nb_black\";\n                var nbb_formatted_code = \"# Optional; code formatter, installed as jupyter lab extension\\n# %load_ext lab_black\\n# Optional; code formatter, installed as jupyter notebook extension\\n%load_ext nb_black\";\n                var nbb_cells = Jupyter.notebook.get_cells();\n                for (var i = 0; i < nbb_cells.length; ++i) {\n                    if (nbb_cells[i].input_prompt_number == nbb_cell_id) {\n                        if (nbb_cells[i].get_text() == nbb_unformatted_code) {\n                             nbb_cells[i].set_text(nbb_formatted_code);\n                        }\n                        break;\n                    }\n                }\n            }, 500);\n            ",
      "text/plain": [
       "<IPython.core.display.Javascript object>"
      ]
     },
     "metadata": {},
     "output_type": "display_data"
    }
   ],
   "source": [
    "# Optional; code formatter, installed as jupyter lab extension\n",
    "#%load_ext lab_black\n",
    "# Optional; code formatter, installed as jupyter notebook extension\n",
    "%load_ext nb_black"
   ]
  },
  {
   "cell_type": "markdown",
   "id": "db4bb39d",
   "metadata": {},
   "source": [
    "### Configure OS independent paths"
   ]
  },
  {
   "cell_type": "code",
   "execution_count": 2,
   "id": "c0bec42a",
   "metadata": {},
   "outputs": [
    {
     "name": "stderr",
     "output_type": "stream",
     "text": [
      "C:\\Users\\kras\\AppData\\Local\\Temp\\ipykernel_12324\\2464473686.py:6: DeprecationWarning: Shapely 2.0 is installed, but because PyGEOS is also installed, GeoPandas still uses PyGEOS by default. However, starting with version 0.14, the default will switch to Shapely. To force to use Shapely 2.0 now, you can either uninstall PyGEOS or set the environment variable USE_PYGEOS=0. You can do this before starting the Python process, or in your code before importing geopandas:\n",
      "\n",
      "import os\n",
      "os.environ['USE_PYGEOS'] = '0'\n",
      "import geopandas\n",
      "\n",
      "In the next release, GeoPandas will switch to using Shapely by default, even if PyGEOS is installed. If you only have PyGEOS installed to get speed-ups, this switch should be smooth. However, if you are using PyGEOS directly (calling PyGEOS functions on geometries from GeoPandas), this will then stop working and you are encouraged to migrate from PyGEOS to Shapely 2.0 (https://shapely.readthedocs.io/en/latest/migration_pygeos.html).\n",
      "  import geopandas as gpd\n"
     ]
    },
    {
     "data": {
      "application/javascript": "\n            setTimeout(function() {\n                var nbb_cell_id = 2;\n                var nbb_unformatted_code = \"# Import standard packages\\nimport os\\nimport pathlib\\nimport sys\\nimport numpy as np\\nimport geopandas as gpd\\nimport pandas as pd\\nimport matplotlib.pyplot as plt\\nimport xarray as xr\\nfrom dotenv import load_dotenv\\nimport math\\nfrom pathlib import Path\\nfrom typing import Any, Dict, List, Optional, Tuple, Union\\nimport rioxarray as rio\\n#load_dotenv()\\n\\n# Import custom functionality\\nfrom coclicodata.drive_config import p_drive\\nfrom coclicodata.etl.cf_compliancy_checker import check_compliancy, save_compliancy\\nfrom coastmonitor.io.utils import name_block\\n\\n# Define (local and) remote drives\\ncoclico_data_dir = p_drive.joinpath(\\\"11207608-coclico\\\", \\\"FASTTRACK_DATA\\\")\\n\\n# Workaround to the Windows OS (10) udunits error after installation of cfchecker: https://github.com/SciTools/iris/issues/404\\nos.environ[\\\"UDUNITS2_XML_PATH\\\"] = str(\\n    pathlib.Path().home().joinpath(  # change to the udunits2.xml file dir in your Python installation\\n        r\\\"Anaconda3\\\\pkgs\\\\udunits2-2.2.28-h892ecd3_0\\\\Library\\\\share\\\\udunits\\\\udunits2.xml\\\"\\n    )\\n)\\n\\n# use local or remote data dir\\nuse_local_data = False\\nds_dirname = \\\"19_coastal_mask\\\"\\n\\nif use_local_data: \\n    ds_dir = pathlib.Path().home().joinpath(\\\"data\\\", \\\"tmp\\\", ds_dirname)\\nelse: \\n    ds_dir = coclico_data_dir.joinpath(ds_dirname)\\n\\nif not ds_dir.exists():\\n    raise FileNotFoundError(\\\"Directory with data does not exist.\\\")\\n\\n# directory to export result (make if not exists)\\ncog_dir = ds_dir.joinpath(\\\"cog\\\") # for checking CF compliancy\\ncog_dirs = ds_dir.joinpath(\\\"cogs_test2\\\") # for making all files CF compliant\\ncog_dir.mkdir(parents=True, exist_ok=True)\";\n                var nbb_formatted_code = \"# Import standard packages\\nimport os\\nimport pathlib\\nimport sys\\nimport numpy as np\\nimport geopandas as gpd\\nimport pandas as pd\\nimport matplotlib.pyplot as plt\\nimport xarray as xr\\nfrom dotenv import load_dotenv\\nimport math\\nfrom pathlib import Path\\nfrom typing import Any, Dict, List, Optional, Tuple, Union\\nimport rioxarray as rio\\n\\n# load_dotenv()\\n\\n# Import custom functionality\\nfrom coclicodata.drive_config import p_drive\\nfrom coclicodata.etl.cf_compliancy_checker import check_compliancy, save_compliancy\\nfrom coastmonitor.io.utils import name_block\\n\\n# Define (local and) remote drives\\ncoclico_data_dir = p_drive.joinpath(\\\"11207608-coclico\\\", \\\"FASTTRACK_DATA\\\")\\n\\n# Workaround to the Windows OS (10) udunits error after installation of cfchecker: https://github.com/SciTools/iris/issues/404\\nos.environ[\\\"UDUNITS2_XML_PATH\\\"] = str(\\n    pathlib.Path()\\n    .home()\\n    .joinpath(  # change to the udunits2.xml file dir in your Python installation\\n        r\\\"Anaconda3\\\\pkgs\\\\udunits2-2.2.28-h892ecd3_0\\\\Library\\\\share\\\\udunits\\\\udunits2.xml\\\"\\n    )\\n)\\n\\n# use local or remote data dir\\nuse_local_data = False\\nds_dirname = \\\"19_coastal_mask\\\"\\n\\nif use_local_data:\\n    ds_dir = pathlib.Path().home().joinpath(\\\"data\\\", \\\"tmp\\\", ds_dirname)\\nelse:\\n    ds_dir = coclico_data_dir.joinpath(ds_dirname)\\n\\nif not ds_dir.exists():\\n    raise FileNotFoundError(\\\"Directory with data does not exist.\\\")\\n\\n# directory to export result (make if not exists)\\ncog_dir = ds_dir.joinpath(\\\"cog\\\")  # for checking CF compliancy\\ncog_dirs = ds_dir.joinpath(\\\"cogs_test2\\\")  # for making all files CF compliant\\ncog_dir.mkdir(parents=True, exist_ok=True)\";\n                var nbb_cells = Jupyter.notebook.get_cells();\n                for (var i = 0; i < nbb_cells.length; ++i) {\n                    if (nbb_cells[i].input_prompt_number == nbb_cell_id) {\n                        if (nbb_cells[i].get_text() == nbb_unformatted_code) {\n                             nbb_cells[i].set_text(nbb_formatted_code);\n                        }\n                        break;\n                    }\n                }\n            }, 500);\n            ",
      "text/plain": [
       "<IPython.core.display.Javascript object>"
      ]
     },
     "metadata": {},
     "output_type": "display_data"
    }
   ],
   "source": [
    "# Import standard packages\n",
    "import os\n",
    "import pathlib\n",
    "import sys\n",
    "import numpy as np\n",
    "import geopandas as gpd\n",
    "import pandas as pd\n",
    "import matplotlib.pyplot as plt\n",
    "import xarray as xr\n",
    "from dotenv import load_dotenv\n",
    "import math\n",
    "from pathlib import Path\n",
    "from typing import Any, Dict, List, Optional, Tuple, Union\n",
    "import rioxarray as rio\n",
    "#load_dotenv()\n",
    "\n",
    "# Import custom functionality\n",
    "from coclicodata.drive_config import p_drive\n",
    "from coclicodata.etl.cf_compliancy_checker import check_compliancy, save_compliancy\n",
    "from coastmonitor.io.utils import name_block\n",
    "\n",
    "# Define (local and) remote drives\n",
    "coclico_data_dir = p_drive.joinpath(\"11207608-coclico\", \"FASTTRACK_DATA\")\n",
    "\n",
    "# Workaround to the Windows OS (10) udunits error after installation of cfchecker: https://github.com/SciTools/iris/issues/404\n",
    "os.environ[\"UDUNITS2_XML_PATH\"] = str(\n",
    "    pathlib.Path().home().joinpath(  # change to the udunits2.xml file dir in your Python installation\n",
    "        r\"Anaconda3\\pkgs\\udunits2-2.2.28-h892ecd3_0\\Library\\share\\udunits\\udunits2.xml\"\n",
    "    )\n",
    ")\n",
    "\n",
    "# use local or remote data dir\n",
    "use_local_data = False\n",
    "ds_dirname = \"19_coastal_mask\"\n",
    "\n",
    "if use_local_data: \n",
    "    ds_dir = pathlib.Path().home().joinpath(\"data\", \"tmp\", ds_dirname)\n",
    "else: \n",
    "    ds_dir = coclico_data_dir.joinpath(ds_dirname)\n",
    "\n",
    "if not ds_dir.exists():\n",
    "    raise FileNotFoundError(\"Directory with data does not exist.\")\n",
    "\n",
    "# directory to export result (make if not exists)\n",
    "cog_dir = ds_dir.joinpath(\"cog\") # for checking CF compliancy\n",
    "cog_dirs = ds_dir.joinpath(\"cogs\") # for making all files CF compliant\n",
    "cog_dir.mkdir(parents=True, exist_ok=True)"
   ]
  },
  {
   "cell_type": "code",
   "execution_count": 3,
   "id": "cbdc33bb",
   "metadata": {},
   "outputs": [
    {
     "data": {
      "application/javascript": "\n            setTimeout(function() {\n                var nbb_cell_id = 3;\n                var nbb_unformatted_code = \"# Project paths & files (manual input)\\nds_path = ds_dir.joinpath(\\\"Global_merit_coastal_mask_landwards.tif\\\")\\nCF_dir = coclico_data_dir.joinpath(r\\\"CF\\\")  # directory to save output CF check files\";\n                var nbb_formatted_code = \"# Project paths & files (manual input)\\nds_path = ds_dir.joinpath(\\\"Global_merit_coastal_mask_landwards.tif\\\")\\nCF_dir = coclico_data_dir.joinpath(r\\\"CF\\\")  # directory to save output CF check files\";\n                var nbb_cells = Jupyter.notebook.get_cells();\n                for (var i = 0; i < nbb_cells.length; ++i) {\n                    if (nbb_cells[i].input_prompt_number == nbb_cell_id) {\n                        if (nbb_cells[i].get_text() == nbb_unformatted_code) {\n                             nbb_cells[i].set_text(nbb_formatted_code);\n                        }\n                        break;\n                    }\n                }\n            }, 500);\n            ",
      "text/plain": [
       "<IPython.core.display.Javascript object>"
      ]
     },
     "metadata": {},
     "output_type": "display_data"
    }
   ],
   "source": [
    "# Project paths & files (manual input)\n",
    "ds_path = ds_dir.joinpath(\"Global_merit_coastal_mask_landwards.tif\")\n",
    "CF_dir = coclico_data_dir.joinpath(r\"CF\")  # directory to save output CF check files"
   ]
  },
  {
   "cell_type": "markdown",
   "id": "cc6fc671-f84e-438e-97ad-f6afbd7e1911",
   "metadata": {},
   "source": [
    "### Write data to CoG"
   ]
  },
  {
   "cell_type": "code",
   "execution_count": 4,
   "id": "3491fe83",
   "metadata": {},
   "outputs": [
    {
     "data": {
      "application/javascript": "\n            setTimeout(function() {\n                var nbb_cell_id = 4;\n                var nbb_unformatted_code = \"# NetCDF attribute alterations by means of metadata template\\nimport json\\nf_global = open(ds_dir.joinpath(\\\"metadata_coastal_mask.json\\\"))\\nmeta_global = json.load(f_global)\";\n                var nbb_formatted_code = \"# NetCDF attribute alterations by means of metadata template\\nimport json\\n\\nf_global = open(ds_dir.joinpath(\\\"metadata_coastal_mask.json\\\"))\\nmeta_global = json.load(f_global)\";\n                var nbb_cells = Jupyter.notebook.get_cells();\n                for (var i = 0; i < nbb_cells.length; ++i) {\n                    if (nbb_cells[i].input_prompt_number == nbb_cell_id) {\n                        if (nbb_cells[i].get_text() == nbb_unformatted_code) {\n                             nbb_cells[i].set_text(nbb_formatted_code);\n                        }\n                        break;\n                    }\n                }\n            }, 500);\n            ",
      "text/plain": [
       "<IPython.core.display.Javascript object>"
      ]
     },
     "metadata": {},
     "output_type": "display_data"
    }
   ],
   "source": [
    "# NetCDF attribute alterations by means of metadata template\n",
    "import json\n",
    "f_global = open(ds_dir.joinpath(\"metadata_coastal_mask.json\"))\n",
    "meta_global = json.load(f_global)"
   ]
  },
  {
   "cell_type": "markdown",
   "id": "61db09c2",
   "metadata": {},
   "source": [
    "#### Single CoG test"
   ]
  },
  {
   "cell_type": "code",
   "execution_count": 30,
   "id": "bc5c5801-f79d-495b-bc86-5c755037b1ce",
   "metadata": {
    "tags": []
   },
   "outputs": [
    {
     "ename": "CPLE_AppDefinedError",
     "evalue": "Deleting P:/11207608-coclico/FASTTRACK_DATA/19_coastal_mask/cog/B01_x-180.0_y81.59.tif failed: Permission denied",
     "output_type": "error",
     "traceback": [
      "\u001b[1;31m---------------------------------------------------------------------------\u001b[0m",
      "\u001b[1;31mCPLE_AppDefinedError\u001b[0m                      Traceback (most recent call last)",
      "Cell \u001b[1;32mIn[30], line 62\u001b[0m\n\u001b[0;32m     60\u001b[0m         \u001b[38;5;66;03m# export file\u001b[39;00m\n\u001b[0;32m     61\u001b[0m         outpath \u001b[38;5;241m=\u001b[39m cog_dir\u001b[38;5;241m.\u001b[39mjoinpath(item_name)\n\u001b[1;32m---> 62\u001b[0m         \u001b[43mdad\u001b[49m\u001b[38;5;241;43m.\u001b[39;49m\u001b[43mrio\u001b[49m\u001b[38;5;241;43m.\u001b[39;49m\u001b[43mto_raster\u001b[49m\u001b[43m(\u001b[49m\u001b[43moutpath\u001b[49m\u001b[43m,\u001b[49m\u001b[43m \u001b[49m\u001b[43mcompress\u001b[49m\u001b[38;5;241;43m=\u001b[39;49m\u001b[38;5;124;43m\"\u001b[39;49m\u001b[38;5;124;43mDEFLATE\u001b[39;49m\u001b[38;5;124;43m\"\u001b[39;49m\u001b[43m,\u001b[49m\u001b[43m \u001b[49m\u001b[43mdriver\u001b[49m\u001b[38;5;241;43m=\u001b[39;49m\u001b[38;5;124;43m\"\u001b[39;49m\u001b[38;5;124;43mCOG\u001b[39;49m\u001b[38;5;124;43m\"\u001b[39;49m\u001b[43m)\u001b[49m\n\u001b[0;32m     64\u001b[0m     \u001b[38;5;28;01mbreak\u001b[39;00m\n\u001b[0;32m     65\u001b[0m \u001b[38;5;28;01mbreak\u001b[39;00m\n",
      "File \u001b[1;32mc:\\Users\\kras\\AppData\\Local\\mambaforge\\envs\\coclico\\Lib\\site-packages\\rioxarray\\raster_dataset.py:532\u001b[0m, in \u001b[0;36mRasterDataset.to_raster\u001b[1;34m(self, raster_path, driver, dtype, tags, windowed, recalc_transform, lock, compute, **profile_kwargs)\u001b[0m\n\u001b[0;32m    530\u001b[0m     data_array\u001b[38;5;241m.\u001b[39mrio\u001b[38;5;241m.\u001b[39mwrite_crs(\u001b[38;5;28mself\u001b[39m\u001b[38;5;241m.\u001b[39mcrs, inplace\u001b[38;5;241m=\u001b[39m\u001b[38;5;28;01mTrue\u001b[39;00m)\n\u001b[0;32m    531\u001b[0m \u001b[38;5;66;03m# write it to a raster\u001b[39;00m\n\u001b[1;32m--> 532\u001b[0m \u001b[38;5;28;01mreturn\u001b[39;00m \u001b[43mdata_array\u001b[49m\u001b[38;5;241;43m.\u001b[39;49m\u001b[43mrio\u001b[49m\u001b[38;5;241;43m.\u001b[39;49m\u001b[43mset_spatial_dims\u001b[49m\u001b[43m(\u001b[49m\n\u001b[0;32m    533\u001b[0m \u001b[43m    \u001b[49m\u001b[43mx_dim\u001b[49m\u001b[38;5;241;43m=\u001b[39;49m\u001b[38;5;28;43mself\u001b[39;49m\u001b[38;5;241;43m.\u001b[39;49m\u001b[43mx_dim\u001b[49m\u001b[43m,\u001b[49m\n\u001b[0;32m    534\u001b[0m \u001b[43m    \u001b[49m\u001b[43my_dim\u001b[49m\u001b[38;5;241;43m=\u001b[39;49m\u001b[38;5;28;43mself\u001b[39;49m\u001b[38;5;241;43m.\u001b[39;49m\u001b[43my_dim\u001b[49m\u001b[43m,\u001b[49m\n\u001b[0;32m    535\u001b[0m \u001b[43m    \u001b[49m\u001b[43minplace\u001b[49m\u001b[38;5;241;43m=\u001b[39;49m\u001b[38;5;28;43;01mTrue\u001b[39;49;00m\u001b[43m,\u001b[49m\n\u001b[0;32m    536\u001b[0m \u001b[43m\u001b[49m\u001b[43m)\u001b[49m\u001b[38;5;241;43m.\u001b[39;49m\u001b[43mrio\u001b[49m\u001b[38;5;241;43m.\u001b[39;49m\u001b[43mto_raster\u001b[49m\u001b[43m(\u001b[49m\n\u001b[0;32m    537\u001b[0m \u001b[43m    \u001b[49m\u001b[43mraster_path\u001b[49m\u001b[38;5;241;43m=\u001b[39;49m\u001b[43mraster_path\u001b[49m\u001b[43m,\u001b[49m\n\u001b[0;32m    538\u001b[0m \u001b[43m    \u001b[49m\u001b[43mdriver\u001b[49m\u001b[38;5;241;43m=\u001b[39;49m\u001b[43mdriver\u001b[49m\u001b[43m,\u001b[49m\n\u001b[0;32m    539\u001b[0m \u001b[43m    \u001b[49m\u001b[43mdtype\u001b[49m\u001b[38;5;241;43m=\u001b[39;49m\u001b[43mdtype\u001b[49m\u001b[43m,\u001b[49m\n\u001b[0;32m    540\u001b[0m \u001b[43m    \u001b[49m\u001b[43mtags\u001b[49m\u001b[38;5;241;43m=\u001b[39;49m\u001b[43mtags\u001b[49m\u001b[43m,\u001b[49m\n\u001b[0;32m    541\u001b[0m \u001b[43m    \u001b[49m\u001b[43mwindowed\u001b[49m\u001b[38;5;241;43m=\u001b[39;49m\u001b[43mwindowed\u001b[49m\u001b[43m,\u001b[49m\n\u001b[0;32m    542\u001b[0m \u001b[43m    \u001b[49m\u001b[43mrecalc_transform\u001b[49m\u001b[38;5;241;43m=\u001b[39;49m\u001b[43mrecalc_transform\u001b[49m\u001b[43m,\u001b[49m\n\u001b[0;32m    543\u001b[0m \u001b[43m    \u001b[49m\u001b[43mlock\u001b[49m\u001b[38;5;241;43m=\u001b[39;49m\u001b[43mlock\u001b[49m\u001b[43m,\u001b[49m\n\u001b[0;32m    544\u001b[0m \u001b[43m    \u001b[49m\u001b[43mcompute\u001b[49m\u001b[38;5;241;43m=\u001b[39;49m\u001b[43mcompute\u001b[49m\u001b[43m,\u001b[49m\n\u001b[0;32m    545\u001b[0m \u001b[43m    \u001b[49m\u001b[38;5;241;43m*\u001b[39;49m\u001b[38;5;241;43m*\u001b[39;49m\u001b[43mprofile_kwargs\u001b[49m\u001b[43m,\u001b[49m\n\u001b[0;32m    546\u001b[0m \u001b[43m\u001b[49m\u001b[43m)\u001b[49m\n",
      "File \u001b[1;32mc:\\Users\\kras\\AppData\\Local\\mambaforge\\envs\\coclico\\Lib\\site-packages\\rioxarray\\raster_array.py:1119\u001b[0m, in \u001b[0;36mRasterArray.to_raster\u001b[1;34m(self, raster_path, driver, dtype, tags, windowed, recalc_transform, lock, compute, **profile_kwargs)\u001b[0m\n\u001b[0;32m   1100\u001b[0m out_profile \u001b[38;5;241m=\u001b[39m {\n\u001b[0;32m   1101\u001b[0m     key: value\n\u001b[0;32m   1102\u001b[0m     \u001b[38;5;28;01mfor\u001b[39;00m key, value \u001b[38;5;129;01min\u001b[39;00m out_profile\u001b[38;5;241m.\u001b[39mitems()\n\u001b[1;32m   (...)\u001b[0m\n\u001b[0;32m   1113\u001b[0m     )\n\u001b[0;32m   1114\u001b[0m }\n\u001b[0;32m   1115\u001b[0m rio_nodata \u001b[38;5;241m=\u001b[39m (\n\u001b[0;32m   1116\u001b[0m     \u001b[38;5;28mself\u001b[39m\u001b[38;5;241m.\u001b[39mencoded_nodata \u001b[38;5;28;01mif\u001b[39;00m \u001b[38;5;28mself\u001b[39m\u001b[38;5;241m.\u001b[39mencoded_nodata \u001b[38;5;129;01mis\u001b[39;00m \u001b[38;5;129;01mnot\u001b[39;00m \u001b[38;5;28;01mNone\u001b[39;00m \u001b[38;5;28;01melse\u001b[39;00m \u001b[38;5;28mself\u001b[39m\u001b[38;5;241m.\u001b[39mnodata\n\u001b[0;32m   1117\u001b[0m )\n\u001b[1;32m-> 1119\u001b[0m \u001b[38;5;28;01mreturn\u001b[39;00m \u001b[43mRasterioWriter\u001b[49m\u001b[43m(\u001b[49m\u001b[43mraster_path\u001b[49m\u001b[38;5;241;43m=\u001b[39;49m\u001b[43mraster_path\u001b[49m\u001b[43m)\u001b[49m\u001b[38;5;241;43m.\u001b[39;49m\u001b[43mto_raster\u001b[49m\u001b[43m(\u001b[49m\n\u001b[0;32m   1120\u001b[0m \u001b[43m    \u001b[49m\u001b[43mxarray_dataarray\u001b[49m\u001b[38;5;241;43m=\u001b[39;49m\u001b[38;5;28;43mself\u001b[39;49m\u001b[38;5;241;43m.\u001b[39;49m\u001b[43m_obj\u001b[49m\u001b[43m,\u001b[49m\n\u001b[0;32m   1121\u001b[0m \u001b[43m    \u001b[49m\u001b[43mtags\u001b[49m\u001b[38;5;241;43m=\u001b[39;49m\u001b[43mtags\u001b[49m\u001b[43m,\u001b[49m\n\u001b[0;32m   1122\u001b[0m \u001b[43m    \u001b[49m\u001b[43mdriver\u001b[49m\u001b[38;5;241;43m=\u001b[39;49m\u001b[43mdriver\u001b[49m\u001b[43m,\u001b[49m\n\u001b[0;32m   1123\u001b[0m \u001b[43m    \u001b[49m\u001b[43mheight\u001b[49m\u001b[38;5;241;43m=\u001b[39;49m\u001b[38;5;28;43mint\u001b[39;49m\u001b[43m(\u001b[49m\u001b[38;5;28;43mself\u001b[39;49m\u001b[38;5;241;43m.\u001b[39;49m\u001b[43mheight\u001b[49m\u001b[43m)\u001b[49m\u001b[43m,\u001b[49m\n\u001b[0;32m   1124\u001b[0m \u001b[43m    \u001b[49m\u001b[43mwidth\u001b[49m\u001b[38;5;241;43m=\u001b[39;49m\u001b[38;5;28;43mint\u001b[39;49m\u001b[43m(\u001b[49m\u001b[38;5;28;43mself\u001b[39;49m\u001b[38;5;241;43m.\u001b[39;49m\u001b[43mwidth\u001b[49m\u001b[43m)\u001b[49m\u001b[43m,\u001b[49m\n\u001b[0;32m   1125\u001b[0m \u001b[43m    \u001b[49m\u001b[43mcount\u001b[49m\u001b[38;5;241;43m=\u001b[39;49m\u001b[38;5;28;43mint\u001b[39;49m\u001b[43m(\u001b[49m\u001b[38;5;28;43mself\u001b[39;49m\u001b[38;5;241;43m.\u001b[39;49m\u001b[43mcount\u001b[49m\u001b[43m)\u001b[49m\u001b[43m,\u001b[49m\n\u001b[0;32m   1126\u001b[0m \u001b[43m    \u001b[49m\u001b[43mdtype\u001b[49m\u001b[38;5;241;43m=\u001b[39;49m\u001b[43mdtype\u001b[49m\u001b[43m,\u001b[49m\n\u001b[0;32m   1127\u001b[0m \u001b[43m    \u001b[49m\u001b[43mcrs\u001b[49m\u001b[38;5;241;43m=\u001b[39;49m\u001b[38;5;28;43mself\u001b[39;49m\u001b[38;5;241;43m.\u001b[39;49m\u001b[43mcrs\u001b[49m\u001b[43m,\u001b[49m\n\u001b[0;32m   1128\u001b[0m \u001b[43m    \u001b[49m\u001b[43mtransform\u001b[49m\u001b[38;5;241;43m=\u001b[39;49m\u001b[38;5;28;43mself\u001b[39;49m\u001b[38;5;241;43m.\u001b[39;49m\u001b[43mtransform\u001b[49m\u001b[43m(\u001b[49m\u001b[43mrecalc\u001b[49m\u001b[38;5;241;43m=\u001b[39;49m\u001b[43mrecalc_transform\u001b[49m\u001b[43m)\u001b[49m\u001b[43m,\u001b[49m\n\u001b[0;32m   1129\u001b[0m \u001b[43m    \u001b[49m\u001b[43mgcps\u001b[49m\u001b[38;5;241;43m=\u001b[39;49m\u001b[38;5;28;43mself\u001b[39;49m\u001b[38;5;241;43m.\u001b[39;49m\u001b[43mget_gcps\u001b[49m\u001b[43m(\u001b[49m\u001b[43m)\u001b[49m\u001b[43m,\u001b[49m\n\u001b[0;32m   1130\u001b[0m \u001b[43m    \u001b[49m\u001b[43mnodata\u001b[49m\u001b[38;5;241;43m=\u001b[39;49m\u001b[43mrio_nodata\u001b[49m\u001b[43m,\u001b[49m\n\u001b[0;32m   1131\u001b[0m \u001b[43m    \u001b[49m\u001b[43mwindowed\u001b[49m\u001b[38;5;241;43m=\u001b[39;49m\u001b[43mwindowed\u001b[49m\u001b[43m,\u001b[49m\n\u001b[0;32m   1132\u001b[0m \u001b[43m    \u001b[49m\u001b[43mlock\u001b[49m\u001b[38;5;241;43m=\u001b[39;49m\u001b[43mlock\u001b[49m\u001b[43m,\u001b[49m\n\u001b[0;32m   1133\u001b[0m \u001b[43m    \u001b[49m\u001b[43mcompute\u001b[49m\u001b[38;5;241;43m=\u001b[39;49m\u001b[43mcompute\u001b[49m\u001b[43m,\u001b[49m\n\u001b[0;32m   1134\u001b[0m \u001b[43m    \u001b[49m\u001b[38;5;241;43m*\u001b[39;49m\u001b[38;5;241;43m*\u001b[39;49m\u001b[43mout_profile\u001b[49m\u001b[43m,\u001b[49m\n\u001b[0;32m   1135\u001b[0m \u001b[43m\u001b[49m\u001b[43m)\u001b[49m\n",
      "File \u001b[1;32mc:\\Users\\kras\\AppData\\Local\\mambaforge\\envs\\coclico\\Lib\\site-packages\\rioxarray\\raster_writer.py:273\u001b[0m, in \u001b[0;36mRasterioWriter.to_raster\u001b[1;34m(self, xarray_dataarray, tags, windowed, lock, compute, **kwargs)\u001b[0m\n\u001b[0;32m    267\u001b[0m \u001b[38;5;28;01mif\u001b[39;00m kwargs[\u001b[38;5;124m\"\u001b[39m\u001b[38;5;124mnodata\u001b[39m\u001b[38;5;124m\"\u001b[39m] \u001b[38;5;129;01mis\u001b[39;00m \u001b[38;5;129;01mnot\u001b[39;00m \u001b[38;5;28;01mNone\u001b[39;00m:\n\u001b[0;32m    268\u001b[0m     \u001b[38;5;66;03m# Ensure dtype of output data matches the expected dtype.\u001b[39;00m\n\u001b[0;32m    269\u001b[0m     \u001b[38;5;66;03m# This check is added here as the dtype of the data is\u001b[39;00m\n\u001b[0;32m    270\u001b[0m     \u001b[38;5;66;03m# converted right before writing.\u001b[39;00m\n\u001b[0;32m    271\u001b[0m     kwargs[\u001b[38;5;124m\"\u001b[39m\u001b[38;5;124mnodata\u001b[39m\u001b[38;5;124m\"\u001b[39m] \u001b[38;5;241m=\u001b[39m _ensure_nodata_dtype(kwargs[\u001b[38;5;124m\"\u001b[39m\u001b[38;5;124mnodata\u001b[39m\u001b[38;5;124m\"\u001b[39m], numpy_dtype)\n\u001b[1;32m--> 273\u001b[0m \u001b[43m\u001b[49m\u001b[38;5;28;43;01mwith\u001b[39;49;00m\u001b[43m \u001b[49m\u001b[43mrasterio\u001b[49m\u001b[38;5;241;43m.\u001b[39;49m\u001b[43mopen\u001b[49m\u001b[43m(\u001b[49m\u001b[38;5;28;43mself\u001b[39;49m\u001b[38;5;241;43m.\u001b[39;49m\u001b[43mraster_path\u001b[49m\u001b[43m,\u001b[49m\u001b[43m \u001b[49m\u001b[38;5;124;43m\"\u001b[39;49m\u001b[38;5;124;43mw\u001b[39;49m\u001b[38;5;124;43m\"\u001b[39;49m\u001b[43m,\u001b[49m\u001b[43m \u001b[49m\u001b[38;5;241;43m*\u001b[39;49m\u001b[38;5;241;43m*\u001b[39;49m\u001b[43mkwargs\u001b[49m\u001b[43m)\u001b[49m\u001b[43m \u001b[49m\u001b[38;5;28;43;01mas\u001b[39;49;00m\u001b[43m \u001b[49m\u001b[43mrds\u001b[49m\u001b[43m:\u001b[49m\n\u001b[0;32m    274\u001b[0m \u001b[43m    \u001b[49m\u001b[43m_write_metatata_to_raster\u001b[49m\u001b[43m(\u001b[49m\u001b[43mrds\u001b[49m\u001b[43m,\u001b[49m\u001b[43m \u001b[49m\u001b[43mxarray_dataarray\u001b[49m\u001b[43m,\u001b[49m\u001b[43m \u001b[49m\u001b[43mtags\u001b[49m\u001b[43m)\u001b[49m\n\u001b[0;32m    275\u001b[0m \u001b[43m    \u001b[49m\u001b[38;5;28;43;01mif\u001b[39;49;00m\u001b[43m \u001b[49m\u001b[38;5;129;43;01mnot\u001b[39;49;00m\u001b[43m \u001b[49m\u001b[43m(\u001b[49m\u001b[43mlock\u001b[49m\u001b[43m \u001b[49m\u001b[38;5;129;43;01mand\u001b[39;49;00m\u001b[43m \u001b[49m\u001b[43mis_dask_collection\u001b[49m\u001b[43m(\u001b[49m\u001b[43mxarray_dataarray\u001b[49m\u001b[38;5;241;43m.\u001b[39;49m\u001b[43mdata\u001b[49m\u001b[43m)\u001b[49m\u001b[43m)\u001b[49m\u001b[43m:\u001b[49m\n\u001b[0;32m    276\u001b[0m \u001b[43m        \u001b[49m\u001b[38;5;66;43;03m# write data to raster immmediately if not dask array\u001b[39;49;00m\n",
      "File \u001b[1;32mrasterio\\_base.pyx:450\u001b[0m, in \u001b[0;36mrasterio._base.DatasetBase.__exit__\u001b[1;34m()\u001b[0m\n",
      "File \u001b[1;32mrasterio\\_base.pyx:439\u001b[0m, in \u001b[0;36mrasterio._base.DatasetBase.close\u001b[1;34m()\u001b[0m\n",
      "File \u001b[1;32mrasterio\\_io.pyx:2370\u001b[0m, in \u001b[0;36mrasterio._io.BufferedDatasetWriterBase.stop\u001b[1;34m()\u001b[0m\n",
      "File \u001b[1;32mrasterio\\_io.pyx:330\u001b[0m, in \u001b[0;36mrasterio._io._delete_dataset_if_exists\u001b[1;34m()\u001b[0m\n",
      "File \u001b[1;32mrasterio\\_err.pyx:195\u001b[0m, in \u001b[0;36mrasterio._err.exc_wrap_int\u001b[1;34m()\u001b[0m\n",
      "\u001b[1;31mCPLE_AppDefinedError\u001b[0m: Deleting P:/11207608-coclico/FASTTRACK_DATA/19_coastal_mask/cog/B01_x-180.0_y81.59.tif failed: Permission denied"
     ]
    },
    {
     "data": {
      "application/javascript": "\n            setTimeout(function() {\n                var nbb_cell_id = 30;\n                var nbb_unformatted_code = \"def generate_slices(num_chunks: int, chunk_size: int) -> Tuple[slice, slice]:\\n    \\\"\\\"\\\"Generate slices for chunk-based iteration.\\\"\\\"\\\"\\n    for i in range(num_chunks):\\n        yield slice(i * chunk_size, (i + 1) * chunk_size)\\n\\n\\ncm = xr.open_dataset(\\n    ds_path, engine=\\\"rasterio\\\", mask_and_scale=False\\n)  # .isel({\\\"x\\\":slice(0, 40000), \\\"y\\\":slice(0, 40000)})\\ncm = cm.assign_coords(band=(\\\"band\\\", [f\\\"B{k+1:02}\\\" for k in range(cm.dims[\\\"band\\\"])]))\\ncm = cm[\\\"band_data\\\"].to_dataset(\\\"band\\\")\\n\\n# chunk size \\nchunk_size = 2**12 # 16384, which is large, but OK for int8 datatype.\\n\\ncm_chunked = cm.chunk({\\\"x\\\": chunk_size, \\\"y\\\": chunk_size})\\n\\nnum_x_chunks = math.ceil(cm_chunked.dims[\\\"x\\\"] / chunk_size)\\nnum_y_chunks = math.ceil(cm_chunked.dims[\\\"y\\\"] / chunk_size)\\n\\nfor x_slice in generate_slices(num_x_chunks, chunk_size):\\n    for y_slice in generate_slices(num_y_chunks, chunk_size):\\n        chunk = cm_chunked.isel(x=x_slice, y=y_slice)\\n\\n        chunk = chunk.assign_coords(time=pd.Timestamp(2022, 2, 22).isoformat())\\n\\n        for var in chunk:\\n            da = chunk[var]\\n\\n            da = (\\n                da.where(da != -9999, 0)\\n                .astype(\\\"uint8\\\")\\n                .rio.write_nodata(0)\\n                .rio.set_spatial_dims(x_dim=\\\"x\\\", y_dim=\\\"y\\\")\\n            )\\n\\n            item_name = name_block(\\n                da,\\n                storage_prefix=\\\"\\\",\\n                name_prefix=\\\"\\\",\\n                include_band=da.name,\\n                time_dim=False,\\n                x_dim=\\\"x\\\",\\n                y_dim=\\\"y\\\",\\n            )\\n\\n            # convert to dataset\\n            dad = da.to_dataset()\\n\\n            # add all attributes (again)\\n            for attr_name, attr_val in meta_global.items():\\n                if attr_name == 'PROVIDERS':\\n                    attr_val = json.dumps(attr_val)\\n                if attr_name == \\\"MEDIA_TYPE\\\": # change media type to tiff, leave the rest as is\\n                    attr_val = \\\"IMAGE/TIFF\\\"\\n                dad.attrs[attr_name] = attr_val\\n\\n            dad.attrs['Conventions'] = \\\"CF-1.8\\\"\\n\\n            # export file\\n            outpath = cog_dir.joinpath(item_name)\\n            dad.rio.to_raster(outpath, compress=\\\"DEFLATE\\\", driver=\\\"COG\\\")\\n\\n        break\\n    break\";\n                var nbb_formatted_code = \"def generate_slices(num_chunks: int, chunk_size: int) -> Tuple[slice, slice]:\\n    \\\"\\\"\\\"Generate slices for chunk-based iteration.\\\"\\\"\\\"\\n    for i in range(num_chunks):\\n        yield slice(i * chunk_size, (i + 1) * chunk_size)\\n\\n\\ncm = xr.open_dataset(\\n    ds_path, engine=\\\"rasterio\\\", mask_and_scale=False\\n)  # .isel({\\\"x\\\":slice(0, 40000), \\\"y\\\":slice(0, 40000)})\\ncm = cm.assign_coords(band=(\\\"band\\\", [f\\\"B{k+1:02}\\\" for k in range(cm.dims[\\\"band\\\"])]))\\ncm = cm[\\\"band_data\\\"].to_dataset(\\\"band\\\")\\n\\n# chunk size\\nchunk_size = 2**12  # 16384, which is large, but OK for int8 datatype.\\n\\ncm_chunked = cm.chunk({\\\"x\\\": chunk_size, \\\"y\\\": chunk_size})\\n\\nnum_x_chunks = math.ceil(cm_chunked.dims[\\\"x\\\"] / chunk_size)\\nnum_y_chunks = math.ceil(cm_chunked.dims[\\\"y\\\"] / chunk_size)\\n\\nfor x_slice in generate_slices(num_x_chunks, chunk_size):\\n    for y_slice in generate_slices(num_y_chunks, chunk_size):\\n        chunk = cm_chunked.isel(x=x_slice, y=y_slice)\\n\\n        chunk = chunk.assign_coords(time=pd.Timestamp(2022, 2, 22).isoformat())\\n\\n        for var in chunk:\\n            da = chunk[var]\\n\\n            da = (\\n                da.where(da != -9999, 0)\\n                .astype(\\\"uint8\\\")\\n                .rio.write_nodata(0)\\n                .rio.set_spatial_dims(x_dim=\\\"x\\\", y_dim=\\\"y\\\")\\n            )\\n\\n            item_name = name_block(\\n                da,\\n                storage_prefix=\\\"\\\",\\n                name_prefix=\\\"\\\",\\n                include_band=da.name,\\n                time_dim=False,\\n                x_dim=\\\"x\\\",\\n                y_dim=\\\"y\\\",\\n            )\\n\\n            # convert to dataset\\n            dad = da.to_dataset()\\n\\n            # add all attributes (again)\\n            for attr_name, attr_val in meta_global.items():\\n                if attr_name == \\\"PROVIDERS\\\":\\n                    attr_val = json.dumps(attr_val)\\n                if (\\n                    attr_name == \\\"MEDIA_TYPE\\\"\\n                ):  # change media type to tiff, leave the rest as is\\n                    attr_val = \\\"IMAGE/TIFF\\\"\\n                dad.attrs[attr_name] = attr_val\\n\\n            dad.attrs[\\\"Conventions\\\"] = \\\"CF-1.8\\\"\\n\\n            # export file\\n            outpath = cog_dir.joinpath(item_name)\\n            dad.rio.to_raster(outpath, compress=\\\"DEFLATE\\\", driver=\\\"COG\\\")\\n\\n        break\\n    break\";\n                var nbb_cells = Jupyter.notebook.get_cells();\n                for (var i = 0; i < nbb_cells.length; ++i) {\n                    if (nbb_cells[i].input_prompt_number == nbb_cell_id) {\n                        if (nbb_cells[i].get_text() == nbb_unformatted_code) {\n                             nbb_cells[i].set_text(nbb_formatted_code);\n                        }\n                        break;\n                    }\n                }\n            }, 500);\n            ",
      "text/plain": [
       "<IPython.core.display.Javascript object>"
      ]
     },
     "metadata": {},
     "output_type": "display_data"
    }
   ],
   "source": [
    "def generate_slices(num_chunks: int, chunk_size: int) -> Tuple[slice, slice]:\n",
    "    \"\"\"Generate slices for chunk-based iteration.\"\"\"\n",
    "    for i in range(num_chunks):\n",
    "        yield slice(i * chunk_size, (i + 1) * chunk_size)\n",
    "\n",
    "\n",
    "cm = xr.open_dataset(\n",
    "    ds_path, engine=\"rasterio\", mask_and_scale=False\n",
    ")  # .isel({\"x\":slice(0, 40000), \"y\":slice(0, 40000)})\n",
    "cm = cm.assign_coords(band=(\"band\", [f\"B{k+1:02}\" for k in range(cm.dims[\"band\"])]))\n",
    "cm = cm[\"band_data\"].to_dataset(\"band\")\n",
    "\n",
    "# chunk size \n",
    "chunk_size = 2**12 # 16384, which is large, but OK for int8 datatype.\n",
    "\n",
    "cm_chunked = cm.chunk({\"x\": chunk_size, \"y\": chunk_size})\n",
    "\n",
    "num_x_chunks = math.ceil(cm_chunked.dims[\"x\"] / chunk_size)\n",
    "num_y_chunks = math.ceil(cm_chunked.dims[\"y\"] / chunk_size)\n",
    "\n",
    "for x_slice in generate_slices(num_x_chunks, chunk_size):\n",
    "    for y_slice in generate_slices(num_y_chunks, chunk_size):\n",
    "        chunk = cm_chunked.isel(x=x_slice, y=y_slice)\n",
    "\n",
    "        chunk = chunk.assign_coords(time=pd.Timestamp(2022, 2, 22).isoformat())\n",
    "\n",
    "        for var in chunk:\n",
    "            da = chunk[var]\n",
    "\n",
    "            da = (\n",
    "                da.where(da != -9999, 0)\n",
    "                .astype(\"uint8\")\n",
    "                .rio.write_nodata(0)\n",
    "                .rio.set_spatial_dims(x_dim=\"x\", y_dim=\"y\")\n",
    "            )\n",
    "\n",
    "            item_name = name_block(\n",
    "                da,\n",
    "                storage_prefix=\"\",\n",
    "                name_prefix=\"\",\n",
    "                include_band=da.name,\n",
    "                time_dim=False,\n",
    "                x_dim=\"x\",\n",
    "                y_dim=\"y\",\n",
    "            )\n",
    "\n",
    "            # convert to dataset\n",
    "            dad = da.to_dataset()\n",
    "\n",
    "            # add all attributes (again)\n",
    "            for attr_name, attr_val in meta_global.items():\n",
    "                if attr_name == 'PROVIDERS':\n",
    "                    attr_val = json.dumps(attr_val)\n",
    "                if attr_name == \"MEDIA_TYPE\": # change media type to tiff, leave the rest as is\n",
    "                    attr_val = \"IMAGE/TIFF\"\n",
    "                dad.attrs[attr_name] = attr_val\n",
    "\n",
    "            dad.attrs['Conventions'] = \"CF-1.8\"\n",
    "\n",
    "            # export file\n",
    "            outpath = cog_dir.joinpath(item_name)\n",
    "            dad.rio.to_raster(outpath, compress=\"DEFLATE\", driver=\"COG\")\n",
    "\n",
    "        break\n",
    "    break"
   ]
  },
  {
   "cell_type": "code",
   "execution_count": 6,
   "id": "b48df469",
   "metadata": {},
   "outputs": [
    {
     "data": {
      "application/javascript": "\n            setTimeout(function() {\n                var nbb_cell_id = 6;\n                var nbb_unformatted_code = \"# export to nc for quick CF compliancy check..\\ndad.to_netcdf(path=cog_dir.joinpath(fname.replace(\\\".tif\\\", \\\".nc\\\")))\";\n                var nbb_formatted_code = \"# export to nc for quick CF compliancy check..\\ndad.to_netcdf(path=cog_dir.joinpath(fname.replace(\\\".tif\\\", \\\".nc\\\")))\";\n                var nbb_cells = Jupyter.notebook.get_cells();\n                for (var i = 0; i < nbb_cells.length; ++i) {\n                    if (nbb_cells[i].input_prompt_number == nbb_cell_id) {\n                        if (nbb_cells[i].get_text() == nbb_unformatted_code) {\n                             nbb_cells[i].set_text(nbb_formatted_code);\n                        }\n                        break;\n                    }\n                }\n            }, 500);\n            ",
      "text/plain": [
       "<IPython.core.display.Javascript object>"
      ]
     },
     "metadata": {},
     "output_type": "display_data"
    }
   ],
   "source": [
    "# export to nc for quick CF compliancy check..\n",
    "dad.to_netcdf(path=cog_dir.joinpath(item_name.replace(\".tif\", \".nc\")))"
   ]
  },
  {
   "cell_type": "code",
   "execution_count": 7,
   "id": "563da5ba",
   "metadata": {},
   "outputs": [
    {
     "data": {
      "application/javascript": "\n            setTimeout(function() {\n                var nbb_cell_id = 7;\n                var nbb_unformatted_code = \"%%capture cap --no-stderr\\n# check original CF compliancy\\n\\ncheck_compliancy(testfile=cog_dir.joinpath(fname.replace(\\\".tif\\\", \\\".nc\\\")), working_dir=CF_dir)\";\n                var nbb_formatted_code = \"%%capture cap --no-stderr\\n# check original CF compliancy\\n\\ncheck_compliancy(testfile=cog_dir.joinpath(fname.replace(\\\".tif\\\", \\\".nc\\\")), working_dir=CF_dir)\";\n                var nbb_cells = Jupyter.notebook.get_cells();\n                for (var i = 0; i < nbb_cells.length; ++i) {\n                    if (nbb_cells[i].input_prompt_number == nbb_cell_id) {\n                        if (nbb_cells[i].get_text() == nbb_unformatted_code) {\n                             nbb_cells[i].set_text(nbb_formatted_code);\n                        }\n                        break;\n                    }\n                }\n            }, 500);\n            ",
      "text/plain": [
       "<IPython.core.display.Javascript object>"
      ]
     },
     "metadata": {},
     "output_type": "display_data"
    }
   ],
   "source": [
    "%%capture cap --no-stderr\n",
    "# check original CF compliancy\n",
    "\n",
    "check_compliancy(testfile=cog_dir.joinpath(item_name.replace(\".tif\", \".nc\")), working_dir=CF_dir)"
   ]
  },
  {
   "cell_type": "code",
   "execution_count": 8,
   "id": "4793a95a",
   "metadata": {},
   "outputs": [
    {
     "name": "stdout",
     "output_type": "stream",
     "text": [
      "{'P:\\\\11207608-coclico\\\\FASTTRACK_DATA\\\\19_coastal_mask\\\\cog\\\\B01_x-180.0_y81.59.nc': {'warnings': '8', 'errors': '1'}}\n"
     ]
    },
    {
     "data": {
      "application/javascript": "\n            setTimeout(function() {\n                var nbb_cell_id = 8;\n                var nbb_unformatted_code = \"# save original CF compliancy\\nsave_compliancy(cap, testfile=cog_dir.joinpath(fname.replace(\\\".tif\\\", \\\".nc\\\")), working_dir=CF_dir)\";\n                var nbb_formatted_code = \"# save original CF compliancy\\nsave_compliancy(\\n    cap, testfile=cog_dir.joinpath(fname.replace(\\\".tif\\\", \\\".nc\\\")), working_dir=CF_dir\\n)\";\n                var nbb_cells = Jupyter.notebook.get_cells();\n                for (var i = 0; i < nbb_cells.length; ++i) {\n                    if (nbb_cells[i].input_prompt_number == nbb_cell_id) {\n                        if (nbb_cells[i].get_text() == nbb_unformatted_code) {\n                             nbb_cells[i].set_text(nbb_formatted_code);\n                        }\n                        break;\n                    }\n                }\n            }, 500);\n            ",
      "text/plain": [
       "<IPython.core.display.Javascript object>"
      ]
     },
     "metadata": {},
     "output_type": "display_data"
    }
   ],
   "source": [
    "# save original CF compliancy\n",
    "save_compliancy(cap, testfile=cog_dir.joinpath(item_name.replace(\".tif\", \".nc\")), working_dir=CF_dir)"
   ]
  },
  {
   "cell_type": "markdown",
   "id": "9eb6d27e",
   "metadata": {},
   "source": [
    "##### Note, the CF compliancy check here gives warnings & errors for the NC files because we actually did not focus on making it CF complaint. The file was delivered as TIFF and will be outputted as TIFF. Hence, there is actually no need in making a NC file. TIFFs are way less flexible in variables and therefore no CF compliancy check is needed. Data will always be an array with band, y, x as dimensions and band, y, x, spatial_ref as coordinates"
   ]
  },
  {
   "cell_type": "code",
   "execution_count": 9,
   "id": "f0270578",
   "metadata": {},
   "outputs": [
    {
     "data": {
      "text/plain": [
       "<matplotlib.collections.QuadMesh at 0x20600dc3810>"
      ]
     },
     "execution_count": 9,
     "metadata": {},
     "output_type": "execute_result"
    },
    {
     "data": {
      "image/png": "[encoded data removed]",
      "text/plain": [
       "<Figure size 640x480 with 2 Axes>"
      ]
     },
     "metadata": {},
     "output_type": "display_data"
    },
    {
     "data": {
      "application/javascript": "\n            setTimeout(function() {\n                var nbb_cell_id = 9;\n                var nbb_unformatted_code = \"# plot to check output\\ndata = rio.open_rasterio(outpath, masked=True)\\ndata.plot()\\n#rds.plot()\";\n                var nbb_formatted_code = \"# plot to check output\\ndata = rio.open_rasterio(outpath, masked=True)\\ndata.plot()\\n# rds.plot()\";\n                var nbb_cells = Jupyter.notebook.get_cells();\n                for (var i = 0; i < nbb_cells.length; ++i) {\n                    if (nbb_cells[i].input_prompt_number == nbb_cell_id) {\n                        if (nbb_cells[i].get_text() == nbb_unformatted_code) {\n                             nbb_cells[i].set_text(nbb_formatted_code);\n                        }\n                        break;\n                    }\n                }\n            }, 500);\n            ",
      "text/plain": [
       "<IPython.core.display.Javascript object>"
      ]
     },
     "metadata": {},
     "output_type": "display_data"
    }
   ],
   "source": [
    "# plot to check output\n",
    "data = rio.open_rasterio(outpath, masked=True)\n",
    "data.plot()\n",
    "#rds.plot()"
   ]
  },
  {
   "cell_type": "code",
   "execution_count": 11,
   "id": "412f6cea",
   "metadata": {},
   "outputs": [
    {
     "data": {
      "text/html": [
       "<div><svg style=\"position: absolute; width: 0; height: 0; overflow: hidden\">\n",
       "<defs>\n",
       "<symbol id=\"icon-database\" viewBox=\"0 0 32 32\">\n",
       "<path d=\"M16 0c-8.837 0-16 2.239-16 5v4c0 2.761 7.163 5 16 5s16-2.239 16-5v-4c0-2.761-7.163-5-16-5z\"></path>\n",
       "<path d=\"M16 17c-8.837 0-16-2.239-16-5v6c0 2.761 7.163 5 16 5s16-2.239 16-5v-6c0 2.761-7.163 5-16 5z\"></path>\n",
       "<path d=\"M16 26c-8.837 0-16-2.239-16-5v6c0 2.761 7.163 5 16 5s16-2.239 16-5v-6c0 2.761-7.163 5-16 5z\"></path>\n",
       "</symbol>\n",
       "<symbol id=\"icon-file-text2\" viewBox=\"0 0 32 32\">\n",
       "<path d=\"M28.681 7.159c-0.694-0.947-1.662-2.053-2.724-3.116s-2.169-2.030-3.116-2.724c-1.612-1.182-2.393-1.319-2.841-1.319h-15.5c-1.378 0-2.5 1.121-2.5 2.5v27c0 1.378 1.122 2.5 2.5 2.5h23c1.378 0 2.5-1.122 2.5-2.5v-19.5c0-0.448-0.137-1.23-1.319-2.841zM24.543 5.457c0.959 0.959 1.712 1.825 2.268 2.543h-4.811v-4.811c0.718 0.556 1.584 1.309 2.543 2.268zM28 29.5c0 0.271-0.229 0.5-0.5 0.5h-23c-0.271 0-0.5-0.229-0.5-0.5v-27c0-0.271 0.229-0.5 0.5-0.5 0 0 15.499-0 15.5 0v7c0 0.552 0.448 1 1 1h7v19.5z\"></path>\n",
       "<path d=\"M23 26h-14c-0.552 0-1-0.448-1-1s0.448-1 1-1h14c0.552 0 1 0.448 1 1s-0.448 1-1 1z\"></path>\n",
       "<path d=\"M23 22h-14c-0.552 0-1-0.448-1-1s0.448-1 1-1h14c0.552 0 1 0.448 1 1s-0.448 1-1 1z\"></path>\n",
       "<path d=\"M23 18h-14c-0.552 0-1-0.448-1-1s0.448-1 1-1h14c0.552 0 1 0.448 1 1s-0.448 1-1 1z\"></path>\n",
       "</symbol>\n",
       "</defs>\n",
       "</svg>\n",
       "<style>/* CSS stylesheet for displaying xarray objects in jupyterlab.\n",
       " *\n",
       " */\n",
       "\n",
       ":root {\n",
       "  --xr-font-color0: var(--jp-content-font-color0, rgba(0, 0, 0, 1));\n",
       "  --xr-font-color2: var(--jp-content-font-color2, rgba(0, 0, 0, 0.54));\n",
       "  --xr-font-color3: var(--jp-content-font-color3, rgba(0, 0, 0, 0.38));\n",
       "  --xr-border-color: var(--jp-border-color2, #e0e0e0);\n",
       "  --xr-disabled-color: var(--jp-layout-color3, #bdbdbd);\n",
       "  --xr-background-color: var(--jp-layout-color0, white);\n",
       "  --xr-background-color-row-even: var(--jp-layout-color1, white);\n",
       "  --xr-background-color-row-odd: var(--jp-layout-color2, #eeeeee);\n",
       "}\n",
       "\n",
       "html[theme=dark],\n",
       "body[data-theme=dark],\n",
       "body.vscode-dark {\n",
       "  --xr-font-color0: rgba(255, 255, 255, 1);\n",
       "  --xr-font-color2: rgba(255, 255, 255, 0.54);\n",
       "  --xr-font-color3: rgba(255, 255, 255, 0.38);\n",
       "  --xr-border-color: #1F1F1F;\n",
       "  --xr-disabled-color: #515151;\n",
       "  --xr-background-color: #111111;\n",
       "  --xr-background-color-row-even: #111111;\n",
       "  --xr-background-color-row-odd: #313131;\n",
       "}\n",
       "\n",
       ".xr-wrap {\n",
       "  display: block !important;\n",
       "  min-width: 300px;\n",
       "  max-width: 700px;\n",
       "}\n",
       "\n",
       ".xr-text-repr-fallback {\n",
       "  /* fallback to plain text repr when CSS is not injected (untrusted notebook) */\n",
       "  display: none;\n",
       "}\n",
       "\n",
       ".xr-header {\n",
       "  padding-top: 6px;\n",
       "  padding-bottom: 6px;\n",
       "  margin-bottom: 4px;\n",
       "  border-bottom: solid 1px var(--xr-border-color);\n",
       "}\n",
       "\n",
       ".xr-header > div,\n",
       ".xr-header > ul {\n",
       "  display: inline;\n",
       "  margin-top: 0;\n",
       "  margin-bottom: 0;\n",
       "}\n",
       "\n",
       ".xr-obj-type,\n",
       ".xr-array-name {\n",
       "  margin-left: 2px;\n",
       "  margin-right: 10px;\n",
       "}\n",
       "\n",
       ".xr-obj-type {\n",
       "  color: var(--xr-font-color2);\n",
       "}\n",
       "\n",
       ".xr-sections {\n",
       "  padding-left: 0 !important;\n",
       "  display: grid;\n",
       "  grid-template-columns: 150px auto auto 1fr 20px 20px;\n",
       "}\n",
       "\n",
       ".xr-section-item {\n",
       "  display: contents;\n",
       "}\n",
       "\n",
       ".xr-section-item input {\n",
       "  display: none;\n",
       "}\n",
       "\n",
       ".xr-section-item input + label {\n",
       "  color: var(--xr-disabled-color);\n",
       "}\n",
       "\n",
       ".xr-section-item input:enabled + label {\n",
       "  cursor: pointer;\n",
       "  color: var(--xr-font-color2);\n",
       "}\n",
       "\n",
       ".xr-section-item input:enabled + label:hover {\n",
       "  color: var(--xr-font-color0);\n",
       "}\n",
       "\n",
       ".xr-section-summary {\n",
       "  grid-column: 1;\n",
       "  color: var(--xr-font-color2);\n",
       "  font-weight: 500;\n",
       "}\n",
       "\n",
       ".xr-section-summary > span {\n",
       "  display: inline-block;\n",
       "  padding-left: 0.5em;\n",
       "}\n",
       "\n",
       ".xr-section-summary-in:disabled + label {\n",
       "  color: var(--xr-font-color2);\n",
       "}\n",
       "\n",
       ".xr-section-summary-in + label:before {\n",
       "  display: inline-block;\n",
       "  content: '►';\n",
       "  font-size: 11px;\n",
       "  width: 15px;\n",
       "  text-align: center;\n",
       "}\n",
       "\n",
       ".xr-section-summary-in:disabled + label:before {\n",
       "  color: var(--xr-disabled-color);\n",
       "}\n",
       "\n",
       ".xr-section-summary-in:checked + label:before {\n",
       "  content: '▼';\n",
       "}\n",
       "\n",
       ".xr-section-summary-in:checked + label > span {\n",
       "  display: none;\n",
       "}\n",
       "\n",
       ".xr-section-summary,\n",
       ".xr-section-inline-details {\n",
       "  padding-top: 4px;\n",
       "  padding-bottom: 4px;\n",
       "}\n",
       "\n",
       ".xr-section-inline-details {\n",
       "  grid-column: 2 / -1;\n",
       "}\n",
       "\n",
       ".xr-section-details {\n",
       "  display: none;\n",
       "  grid-column: 1 / -1;\n",
       "  margin-bottom: 5px;\n",
       "}\n",
       "\n",
       ".xr-section-summary-in:checked ~ .xr-section-details {\n",
       "  display: contents;\n",
       "}\n",
       "\n",
       ".xr-array-wrap {\n",
       "  grid-column: 1 / -1;\n",
       "  display: grid;\n",
       "  grid-template-columns: 20px auto;\n",
       "}\n",
       "\n",
       ".xr-array-wrap > label {\n",
       "  grid-column: 1;\n",
       "  vertical-align: top;\n",
       "}\n",
       "\n",
       ".xr-preview {\n",
       "  color: var(--xr-font-color3);\n",
       "}\n",
       "\n",
       ".xr-array-preview,\n",
       ".xr-array-data {\n",
       "  padding: 0 5px !important;\n",
       "  grid-column: 2;\n",
       "}\n",
       "\n",
       ".xr-array-data,\n",
       ".xr-array-in:checked ~ .xr-array-preview {\n",
       "  display: none;\n",
       "}\n",
       "\n",
       ".xr-array-in:checked ~ .xr-array-data,\n",
       ".xr-array-preview {\n",
       "  display: inline-block;\n",
       "}\n",
       "\n",
       ".xr-dim-list {\n",
       "  display: inline-block !important;\n",
       "  list-style: none;\n",
       "  padding: 0 !important;\n",
       "  margin: 0;\n",
       "}\n",
       "\n",
       ".xr-dim-list li {\n",
       "  display: inline-block;\n",
       "  padding: 0;\n",
       "  margin: 0;\n",
       "}\n",
       "\n",
       ".xr-dim-list:before {\n",
       "  content: '(';\n",
       "}\n",
       "\n",
       ".xr-dim-list:after {\n",
       "  content: ')';\n",
       "}\n",
       "\n",
       ".xr-dim-list li:not(:last-child):after {\n",
       "  content: ',';\n",
       "  padding-right: 5px;\n",
       "}\n",
       "\n",
       ".xr-has-index {\n",
       "  font-weight: bold;\n",
       "}\n",
       "\n",
       ".xr-var-list,\n",
       ".xr-var-item {\n",
       "  display: contents;\n",
       "}\n",
       "\n",
       ".xr-var-item > div,\n",
       ".xr-var-item label,\n",
       ".xr-var-item > .xr-var-name span {\n",
       "  background-color: var(--xr-background-color-row-even);\n",
       "  margin-bottom: 0;\n",
       "}\n",
       "\n",
       ".xr-var-item > .xr-var-name:hover span {\n",
       "  padding-right: 5px;\n",
       "}\n",
       "\n",
       ".xr-var-list > li:nth-child(odd) > div,\n",
       ".xr-var-list > li:nth-child(odd) > label,\n",
       ".xr-var-list > li:nth-child(odd) > .xr-var-name span {\n",
       "  background-color: var(--xr-background-color-row-odd);\n",
       "}\n",
       "\n",
       ".xr-var-name {\n",
       "  grid-column: 1;\n",
       "}\n",
       "\n",
       ".xr-var-dims {\n",
       "  grid-column: 2;\n",
       "}\n",
       "\n",
       ".xr-var-dtype {\n",
       "  grid-column: 3;\n",
       "  text-align: right;\n",
       "  color: var(--xr-font-color2);\n",
       "}\n",
       "\n",
       ".xr-var-preview {\n",
       "  grid-column: 4;\n",
       "}\n",
       "\n",
       ".xr-index-preview {\n",
       "  grid-column: 2 / 5;\n",
       "  color: var(--xr-font-color2);\n",
       "}\n",
       "\n",
       ".xr-var-name,\n",
       ".xr-var-dims,\n",
       ".xr-var-dtype,\n",
       ".xr-preview,\n",
       ".xr-attrs dt {\n",
       "  white-space: nowrap;\n",
       "  overflow: hidden;\n",
       "  text-overflow: ellipsis;\n",
       "  padding-right: 10px;\n",
       "}\n",
       "\n",
       ".xr-var-name:hover,\n",
       ".xr-var-dims:hover,\n",
       ".xr-var-dtype:hover,\n",
       ".xr-attrs dt:hover {\n",
       "  overflow: visible;\n",
       "  width: auto;\n",
       "  z-index: 1;\n",
       "}\n",
       "\n",
       ".xr-var-attrs,\n",
       ".xr-var-data,\n",
       ".xr-index-data {\n",
       "  display: none;\n",
       "  background-color: var(--xr-background-color) !important;\n",
       "  padding-bottom: 5px !important;\n",
       "}\n",
       "\n",
       ".xr-var-attrs-in:checked ~ .xr-var-attrs,\n",
       ".xr-var-data-in:checked ~ .xr-var-data,\n",
       ".xr-index-data-in:checked ~ .xr-index-data {\n",
       "  display: block;\n",
       "}\n",
       "\n",
       ".xr-var-data > table {\n",
       "  float: right;\n",
       "}\n",
       "\n",
       ".xr-var-name span,\n",
       ".xr-var-data,\n",
       ".xr-index-name div,\n",
       ".xr-index-data,\n",
       ".xr-attrs {\n",
       "  padding-left: 25px !important;\n",
       "}\n",
       "\n",
       ".xr-attrs,\n",
       ".xr-var-attrs,\n",
       ".xr-var-data,\n",
       ".xr-index-data {\n",
       "  grid-column: 1 / -1;\n",
       "}\n",
       "\n",
       "dl.xr-attrs {\n",
       "  padding: 0;\n",
       "  margin: 0;\n",
       "  display: grid;\n",
       "  grid-template-columns: 125px auto;\n",
       "}\n",
       "\n",
       ".xr-attrs dt,\n",
       ".xr-attrs dd {\n",
       "  padding: 0;\n",
       "  margin: 0;\n",
       "  float: left;\n",
       "  padding-right: 10px;\n",
       "  width: auto;\n",
       "}\n",
       "\n",
       ".xr-attrs dt {\n",
       "  font-weight: normal;\n",
       "  grid-column: 1;\n",
       "}\n",
       "\n",
       ".xr-attrs dt:hover span {\n",
       "  display: inline-block;\n",
       "  background: var(--xr-background-color);\n",
       "  padding-right: 10px;\n",
       "}\n",
       "\n",
       ".xr-attrs dd {\n",
       "  grid-column: 2;\n",
       "  white-space: pre-wrap;\n",
       "  word-break: break-all;\n",
       "}\n",
       "\n",
       ".xr-icon-database,\n",
       ".xr-icon-file-text2,\n",
       ".xr-no-icon {\n",
       "  display: inline-block;\n",
       "  vertical-align: middle;\n",
       "  width: 1em;\n",
       "  height: 1.5em !important;\n",
       "  stroke-width: 0;\n",
       "  stroke: currentColor;\n",
       "  fill: currentColor;\n",
       "}\n",
       "</style><pre class='xr-text-repr-fallback'>&lt;xarray.DataArray (band: 1, y: 4096, x: 4096)&gt;\n",
       "[16777216 values with dtype=float32]\n",
       "Coordinates:\n",
       "  * band         (band) int32 1\n",
       "  * x            (x) float64 -180.0 -180.0 -180.0 ... -176.6 -176.6 -176.6\n",
       "  * y            (y) float64 85.0 85.0 85.0 85.0 ... 81.59 81.59 81.59 81.59\n",
       "    spatial_ref  int32 0\n",
       "Attributes: (12/13)\n",
       "    AREA_OR_POINT:    Area\n",
       "    Conventions:      CF-1.8\n",
       "    CRS:              EPSG:4326\n",
       "    HISTORY:          [&#x27;Deltares&#x27;, &#x27;&#x27;]\n",
       "    KEYWORDS:         [&#x27;&#x27;]\n",
       "    MEDIA_TYPE:       IMAGE/TIFF\n",
       "    ...               ...\n",
       "    SPATIAL_EXTENT:   [-180, -90, 180, 90]\n",
       "    TAGS:             [&#x27;&#x27;]\n",
       "    TEMPORAL_EXTENT:  [&#x27;&#x27;, &#x27;&#x27;]\n",
       "    scale_factor:     1.0\n",
       "    add_offset:       0.0\n",
       "    long_name:        B01</pre><div class='xr-wrap' style='display:none'><div class='xr-header'><div class='xr-obj-type'>xarray.DataArray</div><div class='xr-array-name'></div><ul class='xr-dim-list'><li><span class='xr-has-index'>band</span>: 1</li><li><span class='xr-has-index'>y</span>: 4096</li><li><span class='xr-has-index'>x</span>: 4096</li></ul></div><ul class='xr-sections'><li class='xr-section-item'><div class='xr-array-wrap'><input id='section-4c906720-1e02-420d-a61e-413aab387e16' class='xr-array-in' type='checkbox' checked><label for='section-4c906720-1e02-420d-a61e-413aab387e16' title='Show/hide data repr'><svg class='icon xr-icon-database'><use xlink:href='#icon-database'></use></svg></label><div class='xr-array-preview xr-preview'><span>...</span></div><div class='xr-array-data'><pre>[16777216 values with dtype=float32]</pre></div></div></li><li class='xr-section-item'><input id='section-dc608185-dd0e-4d54-8a32-2d25b1c34819' class='xr-section-summary-in' type='checkbox'  checked><label for='section-dc608185-dd0e-4d54-8a32-2d25b1c34819' class='xr-section-summary' >Coordinates: <span>(4)</span></label><div class='xr-section-inline-details'></div><div class='xr-section-details'><ul class='xr-var-list'><li class='xr-var-item'><div class='xr-var-name'><span class='xr-has-index'>band</span></div><div class='xr-var-dims'>(band)</div><div class='xr-var-dtype'>int32</div><div class='xr-var-preview xr-preview'>1</div><input id='attrs-1f45e7ca-a181-4cd6-acfd-be45a31db251' class='xr-var-attrs-in' type='checkbox' disabled><label for='attrs-1f45e7ca-a181-4cd6-acfd-be45a31db251' title='Show/Hide attributes'><svg class='icon xr-icon-file-text2'><use xlink:href='#icon-file-text2'></use></svg></label><input id='data-940f3ead-2004-4331-bfef-9c74cc5bb4fa' class='xr-var-data-in' type='checkbox'><label for='data-940f3ead-2004-4331-bfef-9c74cc5bb4fa' title='Show/Hide data repr'><svg class='icon xr-icon-database'><use xlink:href='#icon-database'></use></svg></label><div class='xr-var-attrs'><dl class='xr-attrs'></dl></div><div class='xr-var-data'><pre>array([1])</pre></div></li><li class='xr-var-item'><div class='xr-var-name'><span class='xr-has-index'>x</span></div><div class='xr-var-dims'>(x)</div><div class='xr-var-dtype'>float64</div><div class='xr-var-preview xr-preview'>-180.0 -180.0 ... -176.6 -176.6</div><input id='attrs-a34d0a06-8753-4a7b-bfb6-9508b3bd6c3f' class='xr-var-attrs-in' type='checkbox' disabled><label for='attrs-a34d0a06-8753-4a7b-bfb6-9508b3bd6c3f' title='Show/Hide attributes'><svg class='icon xr-icon-file-text2'><use xlink:href='#icon-file-text2'></use></svg></label><input id='data-9d42147e-7ce3-4d69-9b35-19a89f34ed70' class='xr-var-data-in' type='checkbox'><label for='data-9d42147e-7ce3-4d69-9b35-19a89f34ed70' title='Show/Hide data repr'><svg class='icon xr-icon-database'><use xlink:href='#icon-database'></use></svg></label><div class='xr-var-attrs'><dl class='xr-attrs'></dl></div><div class='xr-var-data'><pre>array([-180.      , -179.999167, -179.998333, ..., -176.589167, -176.588333,\n",
       "       -176.5875  ])</pre></div></li><li class='xr-var-item'><div class='xr-var-name'><span class='xr-has-index'>y</span></div><div class='xr-var-dims'>(y)</div><div class='xr-var-dtype'>float64</div><div class='xr-var-preview xr-preview'>85.0 85.0 85.0 ... 81.59 81.59</div><input id='attrs-f6d2e6cd-4a88-40d1-8e4f-b9f1ea16ca5d' class='xr-var-attrs-in' type='checkbox' disabled><label for='attrs-f6d2e6cd-4a88-40d1-8e4f-b9f1ea16ca5d' title='Show/Hide attributes'><svg class='icon xr-icon-file-text2'><use xlink:href='#icon-file-text2'></use></svg></label><input id='data-bef5d992-2953-4bcf-96b6-a44c31e4c638' class='xr-var-data-in' type='checkbox'><label for='data-bef5d992-2953-4bcf-96b6-a44c31e4c638' title='Show/Hide data repr'><svg class='icon xr-icon-database'><use xlink:href='#icon-database'></use></svg></label><div class='xr-var-attrs'><dl class='xr-attrs'></dl></div><div class='xr-var-data'><pre>array([84.999167, 84.998333, 84.9975  , ..., 81.588333, 81.5875  , 81.586667])</pre></div></li><li class='xr-var-item'><div class='xr-var-name'><span>spatial_ref</span></div><div class='xr-var-dims'>()</div><div class='xr-var-dtype'>int32</div><div class='xr-var-preview xr-preview'>0</div><input id='attrs-e13d8a8c-0212-4059-b66e-eb426beeb3a7' class='xr-var-attrs-in' type='checkbox' ><label for='attrs-e13d8a8c-0212-4059-b66e-eb426beeb3a7' title='Show/Hide attributes'><svg class='icon xr-icon-file-text2'><use xlink:href='#icon-file-text2'></use></svg></label><input id='data-9a790d18-1c01-4f1b-95b4-56d5d17e5d54' class='xr-var-data-in' type='checkbox'><label for='data-9a790d18-1c01-4f1b-95b4-56d5d17e5d54' title='Show/Hide data repr'><svg class='icon xr-icon-database'><use xlink:href='#icon-database'></use></svg></label><div class='xr-var-attrs'><dl class='xr-attrs'><dt><span>crs_wkt :</span></dt><dd>GEOGCS[&quot;WGS 84&quot;,DATUM[&quot;WGS_1984&quot;,SPHEROID[&quot;WGS 84&quot;,6378137,298.257223563,AUTHORITY[&quot;EPSG&quot;,&quot;7030&quot;]],AUTHORITY[&quot;EPSG&quot;,&quot;6326&quot;]],PRIMEM[&quot;Greenwich&quot;,0,AUTHORITY[&quot;EPSG&quot;,&quot;8901&quot;]],UNIT[&quot;degree&quot;,0.0174532925199433,AUTHORITY[&quot;EPSG&quot;,&quot;9122&quot;]],AXIS[&quot;Latitude&quot;,NORTH],AXIS[&quot;Longitude&quot;,EAST],AUTHORITY[&quot;EPSG&quot;,&quot;4326&quot;]]</dd><dt><span>semi_major_axis :</span></dt><dd>6378137.0</dd><dt><span>semi_minor_axis :</span></dt><dd>6356752.314245179</dd><dt><span>inverse_flattening :</span></dt><dd>298.257223563</dd><dt><span>reference_ellipsoid_name :</span></dt><dd>WGS 84</dd><dt><span>longitude_of_prime_meridian :</span></dt><dd>0.0</dd><dt><span>prime_meridian_name :</span></dt><dd>Greenwich</dd><dt><span>geographic_crs_name :</span></dt><dd>WGS 84</dd><dt><span>horizontal_datum_name :</span></dt><dd>World Geodetic System 1984</dd><dt><span>grid_mapping_name :</span></dt><dd>latitude_longitude</dd><dt><span>spatial_ref :</span></dt><dd>GEOGCS[&quot;WGS 84&quot;,DATUM[&quot;WGS_1984&quot;,SPHEROID[&quot;WGS 84&quot;,6378137,298.257223563,AUTHORITY[&quot;EPSG&quot;,&quot;7030&quot;]],AUTHORITY[&quot;EPSG&quot;,&quot;6326&quot;]],PRIMEM[&quot;Greenwich&quot;,0,AUTHORITY[&quot;EPSG&quot;,&quot;8901&quot;]],UNIT[&quot;degree&quot;,0.0174532925199433,AUTHORITY[&quot;EPSG&quot;,&quot;9122&quot;]],AXIS[&quot;Latitude&quot;,NORTH],AXIS[&quot;Longitude&quot;,EAST],AUTHORITY[&quot;EPSG&quot;,&quot;4326&quot;]]</dd><dt><span>GeoTransform :</span></dt><dd>-180.00041666666667 0.000833333333333332 0.0 84.99958333333333 0.0 -0.000833333333333332</dd></dl></div><div class='xr-var-data'><pre>array(0)</pre></div></li></ul></div></li><li class='xr-section-item'><input id='section-a2afd971-c39f-4556-8f4c-ccb01fbf573b' class='xr-section-summary-in' type='checkbox'  ><label for='section-a2afd971-c39f-4556-8f4c-ccb01fbf573b' class='xr-section-summary' >Indexes: <span>(3)</span></label><div class='xr-section-inline-details'></div><div class='xr-section-details'><ul class='xr-var-list'><li class='xr-var-item'><div class='xr-index-name'><div>band</div></div><div class='xr-index-preview'>PandasIndex</div><div></div><input id='index-11cd1a1e-ab8e-43cc-9205-0ebe55488876' class='xr-index-data-in' type='checkbox'/><label for='index-11cd1a1e-ab8e-43cc-9205-0ebe55488876' title='Show/Hide index repr'><svg class='icon xr-icon-database'><use xlink:href='#icon-database'></use></svg></label><div class='xr-index-data'><pre>PandasIndex(Index([1], dtype=&#x27;int32&#x27;, name=&#x27;band&#x27;))</pre></div></li><li class='xr-var-item'><div class='xr-index-name'><div>x</div></div><div class='xr-index-preview'>PandasIndex</div><div></div><input id='index-5c3a99c8-fc48-42da-9eb1-ccf44a39b878' class='xr-index-data-in' type='checkbox'/><label for='index-5c3a99c8-fc48-42da-9eb1-ccf44a39b878' title='Show/Hide index repr'><svg class='icon xr-icon-database'><use xlink:href='#icon-database'></use></svg></label><div class='xr-index-data'><pre>PandasIndex(Index([             -180.0, -179.99916666666667, -179.99833333333333,\n",
       "                 -179.9975, -179.99666666666667, -179.99583333333334,\n",
       "                  -179.995, -179.99416666666667, -179.99333333333334,\n",
       "                 -179.9925,\n",
       "       ...\n",
       "                  -176.595, -176.59416666666667, -176.59333333333333,\n",
       "                 -176.5925, -176.59166666666667, -176.59083333333334,\n",
       "                   -176.59, -176.58916666666667, -176.58833333333334,\n",
       "                 -176.5875],\n",
       "      dtype=&#x27;float64&#x27;, name=&#x27;x&#x27;, length=4096))</pre></div></li><li class='xr-var-item'><div class='xr-index-name'><div>y</div></div><div class='xr-index-preview'>PandasIndex</div><div></div><input id='index-b3985dbb-2701-4202-a8d7-90eb854dac05' class='xr-index-data-in' type='checkbox'/><label for='index-b3985dbb-2701-4202-a8d7-90eb854dac05' title='Show/Hide index repr'><svg class='icon xr-icon-database'><use xlink:href='#icon-database'></use></svg></label><div class='xr-index-data'><pre>PandasIndex(Index([84.99916666666667, 84.99833333333333,           84.9975,\n",
       "       84.99666666666667, 84.99583333333334,            84.995,\n",
       "       84.99416666666667, 84.99333333333334,           84.9925,\n",
       "       84.99166666666667,\n",
       "       ...\n",
       "       81.59416666666667, 81.59333333333333,           81.5925,\n",
       "       81.59166666666667, 81.59083333333334,             81.59,\n",
       "       81.58916666666667, 81.58833333333334,           81.5875,\n",
       "       81.58666666666667],\n",
       "      dtype=&#x27;float64&#x27;, name=&#x27;y&#x27;, length=4096))</pre></div></li></ul></div></li><li class='xr-section-item'><input id='section-c200cf27-1f12-4c15-99fa-f6b19b370dbb' class='xr-section-summary-in' type='checkbox'  ><label for='section-c200cf27-1f12-4c15-99fa-f6b19b370dbb' class='xr-section-summary' >Attributes: <span>(13)</span></label><div class='xr-section-inline-details'></div><div class='xr-section-details'><dl class='xr-attrs'><dt><span>AREA_OR_POINT :</span></dt><dd>Area</dd><dt><span>Conventions :</span></dt><dd>CF-1.8</dd><dt><span>CRS :</span></dt><dd>EPSG:4326</dd><dt><span>HISTORY :</span></dt><dd>[&#x27;Deltares&#x27;, &#x27;&#x27;]</dd><dt><span>KEYWORDS :</span></dt><dd>[&#x27;&#x27;]</dd><dt><span>MEDIA_TYPE :</span></dt><dd>IMAGE/TIFF</dd><dt><span>PROVIDERS :</span></dt><dd>[{&quot;name&quot;: &quot;&quot;, &quot;url&quot;: &quot;&quot;, &quot;roles&quot;: &quot;&quot;, &quot;description&quot;: &quot;&quot;}]</dd><dt><span>SPATIAL_EXTENT :</span></dt><dd>[-180, -90, 180, 90]</dd><dt><span>TAGS :</span></dt><dd>[&#x27;&#x27;]</dd><dt><span>TEMPORAL_EXTENT :</span></dt><dd>[&#x27;&#x27;, &#x27;&#x27;]</dd><dt><span>scale_factor :</span></dt><dd>1.0</dd><dt><span>add_offset :</span></dt><dd>0.0</dd><dt><span>long_name :</span></dt><dd>B01</dd></dl></div></li></ul></div></div>"
      ],
      "text/plain": [
       "<xarray.DataArray (band: 1, y: 4096, x: 4096)>\n",
       "[16777216 values with dtype=float32]\n",
       "Coordinates:\n",
       "  * band         (band) int32 1\n",
       "  * x            (x) float64 -180.0 -180.0 -180.0 ... -176.6 -176.6 -176.6\n",
       "  * y            (y) float64 85.0 85.0 85.0 85.0 ... 81.59 81.59 81.59 81.59\n",
       "    spatial_ref  int32 0\n",
       "Attributes: (12/13)\n",
       "    AREA_OR_POINT:    Area\n",
       "    Conventions:      CF-1.8\n",
       "    CRS:              EPSG:4326\n",
       "    HISTORY:          ['Deltares', '']\n",
       "    KEYWORDS:         ['']\n",
       "    MEDIA_TYPE:       IMAGE/TIFF\n",
       "    ...               ...\n",
       "    SPATIAL_EXTENT:   [-180, -90, 180, 90]\n",
       "    TAGS:             ['']\n",
       "    TEMPORAL_EXTENT:  ['', '']\n",
       "    scale_factor:     1.0\n",
       "    add_offset:       0.0\n",
       "    long_name:        B01"
      ]
     },
     "execution_count": 11,
     "metadata": {},
     "output_type": "execute_result"
    },
    {
     "data": {
      "application/javascript": "\n            setTimeout(function() {\n                var nbb_cell_id = 11;\n                var nbb_unformatted_code = \"data\";\n                var nbb_formatted_code = \"data\";\n                var nbb_cells = Jupyter.notebook.get_cells();\n                for (var i = 0; i < nbb_cells.length; ++i) {\n                    if (nbb_cells[i].input_prompt_number == nbb_cell_id) {\n                        if (nbb_cells[i].get_text() == nbb_unformatted_code) {\n                             nbb_cells[i].set_text(nbb_formatted_code);\n                        }\n                        break;\n                    }\n                }\n            }, 500);\n            ",
      "text/plain": [
       "<IPython.core.display.Javascript object>"
      ]
     },
     "metadata": {},
     "output_type": "display_data"
    }
   ],
   "source": [
    "data"
   ]
  },
  {
   "cell_type": "markdown",
   "id": "7ec37abe",
   "metadata": {},
   "source": [
    "#### Multiple CoGs"
   ]
  },
  {
   "cell_type": "code",
   "execution_count": 43,
   "id": "a93c54e1",
   "metadata": {},
   "outputs": [
    {
     "name": "stdout",
     "output_type": "stream",
     "text": [
      "slice(0, 4096, None) slice(0, 4096, None)\n",
      "B01_x-180.0_y81.59.tif\n",
      "slice(0, 4096, None) slice(4096, 8192, None)\n",
      "B01_x-180.0_y78.17.tif\n",
      "slice(0, 4096, None) slice(8192, 12288, None)\n",
      "B01_x-180.0_y74.76.tif\n",
      "slice(0, 4096, None) slice(12288, 16384, None)\n",
      "B01_x-180.0_y71.35.tif\n",
      "slice(0, 4096, None) slice(16384, 20480, None)\n",
      "B01_x-180.0_y67.93.tif\n",
      "slice(0, 4096, None) slice(20480, 24576, None)\n",
      "B01_x-180.0_y64.52.tif\n",
      "slice(0, 4096, None) slice(24576, 28672, None)\n",
      "B01_x-180.0_y61.11.tif\n",
      "slice(0, 4096, None) slice(28672, 32768, None)\n",
      "B01_x-180.0_y57.69.tif\n",
      "slice(0, 4096, None) slice(32768, 36864, None)\n",
      "B01_x-180.0_y54.28.tif\n",
      "slice(0, 4096, None) slice(36864, 40960, None)\n",
      "B01_x-180.0_y50.87.tif\n",
      "slice(0, 4096, None) slice(40960, 45056, None)\n",
      "B01_x-180.0_y47.45.tif\n",
      "slice(0, 4096, None) slice(45056, 49152, None)\n",
      "B01_x-180.0_y44.04.tif\n"
     ]
    },
    {
     "ename": "KeyboardInterrupt",
     "evalue": "",
     "output_type": "error",
     "traceback": [
      "\u001b[1;31m---------------------------------------------------------------------------\u001b[0m",
      "\u001b[1;31mKeyboardInterrupt\u001b[0m                         Traceback (most recent call last)",
      "Cell \u001b[1;32mIn[43], line 70\u001b[0m\n\u001b[0;32m     67\u001b[0m outpath\u001b[38;5;241m.\u001b[39mparent\u001b[38;5;241m.\u001b[39mmkdir(parents\u001b[38;5;241m=\u001b[39m\u001b[38;5;28;01mTrue\u001b[39;00m, exist_ok\u001b[38;5;241m=\u001b[39m\u001b[38;5;28;01mTrue\u001b[39;00m)\n\u001b[0;32m     69\u001b[0m \u001b[38;5;66;03m# export file\u001b[39;00m\n\u001b[1;32m---> 70\u001b[0m \u001b[43mdad\u001b[49m\u001b[38;5;241;43m.\u001b[39;49m\u001b[43mrio\u001b[49m\u001b[38;5;241;43m.\u001b[39;49m\u001b[43mto_raster\u001b[49m\u001b[43m(\u001b[49m\u001b[43moutpath\u001b[49m\u001b[43m,\u001b[49m\u001b[43m \u001b[49m\u001b[43mcompress\u001b[49m\u001b[38;5;241;43m=\u001b[39;49m\u001b[38;5;124;43m\"\u001b[39;49m\u001b[38;5;124;43mDEFLATE\u001b[39;49m\u001b[38;5;124;43m\"\u001b[39;49m\u001b[43m,\u001b[49m\u001b[43m \u001b[49m\u001b[43mdriver\u001b[49m\u001b[38;5;241;43m=\u001b[39;49m\u001b[38;5;124;43m\"\u001b[39;49m\u001b[38;5;124;43mCOG\u001b[39;49m\u001b[38;5;124;43m\"\u001b[39;49m\u001b[43m)\u001b[49m\n\u001b[0;32m     72\u001b[0m \u001b[38;5;66;03m# set overwrite is false because tifs should be unique\u001b[39;00m\n\u001b[0;32m     73\u001b[0m \u001b[38;5;66;03m# try:\u001b[39;00m\n\u001b[0;32m     74\u001b[0m \u001b[38;5;66;03m#     write_cog(da, fname=outpath, overwrite=False).compute()\u001b[39;00m\n\u001b[0;32m     75\u001b[0m \u001b[38;5;66;03m# except OSError as e:\u001b[39;00m\n\u001b[0;32m     76\u001b[0m \u001b[38;5;66;03m#     continue\u001b[39;00m\n",
      "File \u001b[1;32mc:\\Users\\kras\\AppData\\Local\\mambaforge\\envs\\coclico\\Lib\\site-packages\\rioxarray\\raster_dataset.py:532\u001b[0m, in \u001b[0;36mRasterDataset.to_raster\u001b[1;34m(self, raster_path, driver, dtype, tags, windowed, recalc_transform, lock, compute, **profile_kwargs)\u001b[0m\n\u001b[0;32m    530\u001b[0m     data_array\u001b[38;5;241m.\u001b[39mrio\u001b[38;5;241m.\u001b[39mwrite_crs(\u001b[38;5;28mself\u001b[39m\u001b[38;5;241m.\u001b[39mcrs, inplace\u001b[38;5;241m=\u001b[39m\u001b[38;5;28;01mTrue\u001b[39;00m)\n\u001b[0;32m    531\u001b[0m \u001b[38;5;66;03m# write it to a raster\u001b[39;00m\n\u001b[1;32m--> 532\u001b[0m \u001b[38;5;28;01mreturn\u001b[39;00m \u001b[43mdata_array\u001b[49m\u001b[38;5;241;43m.\u001b[39;49m\u001b[43mrio\u001b[49m\u001b[38;5;241;43m.\u001b[39;49m\u001b[43mset_spatial_dims\u001b[49m\u001b[43m(\u001b[49m\n\u001b[0;32m    533\u001b[0m \u001b[43m    \u001b[49m\u001b[43mx_dim\u001b[49m\u001b[38;5;241;43m=\u001b[39;49m\u001b[38;5;28;43mself\u001b[39;49m\u001b[38;5;241;43m.\u001b[39;49m\u001b[43mx_dim\u001b[49m\u001b[43m,\u001b[49m\n\u001b[0;32m    534\u001b[0m \u001b[43m    \u001b[49m\u001b[43my_dim\u001b[49m\u001b[38;5;241;43m=\u001b[39;49m\u001b[38;5;28;43mself\u001b[39;49m\u001b[38;5;241;43m.\u001b[39;49m\u001b[43my_dim\u001b[49m\u001b[43m,\u001b[49m\n\u001b[0;32m    535\u001b[0m \u001b[43m    \u001b[49m\u001b[43minplace\u001b[49m\u001b[38;5;241;43m=\u001b[39;49m\u001b[38;5;28;43;01mTrue\u001b[39;49;00m\u001b[43m,\u001b[49m\n\u001b[0;32m    536\u001b[0m \u001b[43m\u001b[49m\u001b[43m)\u001b[49m\u001b[38;5;241;43m.\u001b[39;49m\u001b[43mrio\u001b[49m\u001b[38;5;241;43m.\u001b[39;49m\u001b[43mto_raster\u001b[49m\u001b[43m(\u001b[49m\n\u001b[0;32m    537\u001b[0m \u001b[43m    \u001b[49m\u001b[43mraster_path\u001b[49m\u001b[38;5;241;43m=\u001b[39;49m\u001b[43mraster_path\u001b[49m\u001b[43m,\u001b[49m\n\u001b[0;32m    538\u001b[0m \u001b[43m    \u001b[49m\u001b[43mdriver\u001b[49m\u001b[38;5;241;43m=\u001b[39;49m\u001b[43mdriver\u001b[49m\u001b[43m,\u001b[49m\n\u001b[0;32m    539\u001b[0m \u001b[43m    \u001b[49m\u001b[43mdtype\u001b[49m\u001b[38;5;241;43m=\u001b[39;49m\u001b[43mdtype\u001b[49m\u001b[43m,\u001b[49m\n\u001b[0;32m    540\u001b[0m \u001b[43m    \u001b[49m\u001b[43mtags\u001b[49m\u001b[38;5;241;43m=\u001b[39;49m\u001b[43mtags\u001b[49m\u001b[43m,\u001b[49m\n\u001b[0;32m    541\u001b[0m \u001b[43m    \u001b[49m\u001b[43mwindowed\u001b[49m\u001b[38;5;241;43m=\u001b[39;49m\u001b[43mwindowed\u001b[49m\u001b[43m,\u001b[49m\n\u001b[0;32m    542\u001b[0m \u001b[43m    \u001b[49m\u001b[43mrecalc_transform\u001b[49m\u001b[38;5;241;43m=\u001b[39;49m\u001b[43mrecalc_transform\u001b[49m\u001b[43m,\u001b[49m\n\u001b[0;32m    543\u001b[0m \u001b[43m    \u001b[49m\u001b[43mlock\u001b[49m\u001b[38;5;241;43m=\u001b[39;49m\u001b[43mlock\u001b[49m\u001b[43m,\u001b[49m\n\u001b[0;32m    544\u001b[0m \u001b[43m    \u001b[49m\u001b[43mcompute\u001b[49m\u001b[38;5;241;43m=\u001b[39;49m\u001b[43mcompute\u001b[49m\u001b[43m,\u001b[49m\n\u001b[0;32m    545\u001b[0m \u001b[43m    \u001b[49m\u001b[38;5;241;43m*\u001b[39;49m\u001b[38;5;241;43m*\u001b[39;49m\u001b[43mprofile_kwargs\u001b[49m\u001b[43m,\u001b[49m\n\u001b[0;32m    546\u001b[0m \u001b[43m\u001b[49m\u001b[43m)\u001b[49m\n",
      "File \u001b[1;32mc:\\Users\\kras\\AppData\\Local\\mambaforge\\envs\\coclico\\Lib\\site-packages\\rioxarray\\raster_array.py:1119\u001b[0m, in \u001b[0;36mRasterArray.to_raster\u001b[1;34m(self, raster_path, driver, dtype, tags, windowed, recalc_transform, lock, compute, **profile_kwargs)\u001b[0m\n\u001b[0;32m   1100\u001b[0m out_profile \u001b[38;5;241m=\u001b[39m {\n\u001b[0;32m   1101\u001b[0m     key: value\n\u001b[0;32m   1102\u001b[0m     \u001b[38;5;28;01mfor\u001b[39;00m key, value \u001b[38;5;129;01min\u001b[39;00m out_profile\u001b[38;5;241m.\u001b[39mitems()\n\u001b[1;32m   (...)\u001b[0m\n\u001b[0;32m   1113\u001b[0m     )\n\u001b[0;32m   1114\u001b[0m }\n\u001b[0;32m   1115\u001b[0m rio_nodata \u001b[38;5;241m=\u001b[39m (\n\u001b[0;32m   1116\u001b[0m     \u001b[38;5;28mself\u001b[39m\u001b[38;5;241m.\u001b[39mencoded_nodata \u001b[38;5;28;01mif\u001b[39;00m \u001b[38;5;28mself\u001b[39m\u001b[38;5;241m.\u001b[39mencoded_nodata \u001b[38;5;129;01mis\u001b[39;00m \u001b[38;5;129;01mnot\u001b[39;00m \u001b[38;5;28;01mNone\u001b[39;00m \u001b[38;5;28;01melse\u001b[39;00m \u001b[38;5;28mself\u001b[39m\u001b[38;5;241m.\u001b[39mnodata\n\u001b[0;32m   1117\u001b[0m )\n\u001b[1;32m-> 1119\u001b[0m \u001b[38;5;28;01mreturn\u001b[39;00m \u001b[43mRasterioWriter\u001b[49m\u001b[43m(\u001b[49m\u001b[43mraster_path\u001b[49m\u001b[38;5;241;43m=\u001b[39;49m\u001b[43mraster_path\u001b[49m\u001b[43m)\u001b[49m\u001b[38;5;241;43m.\u001b[39;49m\u001b[43mto_raster\u001b[49m\u001b[43m(\u001b[49m\n\u001b[0;32m   1120\u001b[0m \u001b[43m    \u001b[49m\u001b[43mxarray_dataarray\u001b[49m\u001b[38;5;241;43m=\u001b[39;49m\u001b[38;5;28;43mself\u001b[39;49m\u001b[38;5;241;43m.\u001b[39;49m\u001b[43m_obj\u001b[49m\u001b[43m,\u001b[49m\n\u001b[0;32m   1121\u001b[0m \u001b[43m    \u001b[49m\u001b[43mtags\u001b[49m\u001b[38;5;241;43m=\u001b[39;49m\u001b[43mtags\u001b[49m\u001b[43m,\u001b[49m\n\u001b[0;32m   1122\u001b[0m \u001b[43m    \u001b[49m\u001b[43mdriver\u001b[49m\u001b[38;5;241;43m=\u001b[39;49m\u001b[43mdriver\u001b[49m\u001b[43m,\u001b[49m\n\u001b[0;32m   1123\u001b[0m \u001b[43m    \u001b[49m\u001b[43mheight\u001b[49m\u001b[38;5;241;43m=\u001b[39;49m\u001b[38;5;28;43mint\u001b[39;49m\u001b[43m(\u001b[49m\u001b[38;5;28;43mself\u001b[39;49m\u001b[38;5;241;43m.\u001b[39;49m\u001b[43mheight\u001b[49m\u001b[43m)\u001b[49m\u001b[43m,\u001b[49m\n\u001b[0;32m   1124\u001b[0m \u001b[43m    \u001b[49m\u001b[43mwidth\u001b[49m\u001b[38;5;241;43m=\u001b[39;49m\u001b[38;5;28;43mint\u001b[39;49m\u001b[43m(\u001b[49m\u001b[38;5;28;43mself\u001b[39;49m\u001b[38;5;241;43m.\u001b[39;49m\u001b[43mwidth\u001b[49m\u001b[43m)\u001b[49m\u001b[43m,\u001b[49m\n\u001b[0;32m   1125\u001b[0m \u001b[43m    \u001b[49m\u001b[43mcount\u001b[49m\u001b[38;5;241;43m=\u001b[39;49m\u001b[38;5;28;43mint\u001b[39;49m\u001b[43m(\u001b[49m\u001b[38;5;28;43mself\u001b[39;49m\u001b[38;5;241;43m.\u001b[39;49m\u001b[43mcount\u001b[49m\u001b[43m)\u001b[49m\u001b[43m,\u001b[49m\n\u001b[0;32m   1126\u001b[0m \u001b[43m    \u001b[49m\u001b[43mdtype\u001b[49m\u001b[38;5;241;43m=\u001b[39;49m\u001b[43mdtype\u001b[49m\u001b[43m,\u001b[49m\n\u001b[0;32m   1127\u001b[0m \u001b[43m    \u001b[49m\u001b[43mcrs\u001b[49m\u001b[38;5;241;43m=\u001b[39;49m\u001b[38;5;28;43mself\u001b[39;49m\u001b[38;5;241;43m.\u001b[39;49m\u001b[43mcrs\u001b[49m\u001b[43m,\u001b[49m\n\u001b[0;32m   1128\u001b[0m \u001b[43m    \u001b[49m\u001b[43mtransform\u001b[49m\u001b[38;5;241;43m=\u001b[39;49m\u001b[38;5;28;43mself\u001b[39;49m\u001b[38;5;241;43m.\u001b[39;49m\u001b[43mtransform\u001b[49m\u001b[43m(\u001b[49m\u001b[43mrecalc\u001b[49m\u001b[38;5;241;43m=\u001b[39;49m\u001b[43mrecalc_transform\u001b[49m\u001b[43m)\u001b[49m\u001b[43m,\u001b[49m\n\u001b[0;32m   1129\u001b[0m \u001b[43m    \u001b[49m\u001b[43mgcps\u001b[49m\u001b[38;5;241;43m=\u001b[39;49m\u001b[38;5;28;43mself\u001b[39;49m\u001b[38;5;241;43m.\u001b[39;49m\u001b[43mget_gcps\u001b[49m\u001b[43m(\u001b[49m\u001b[43m)\u001b[49m\u001b[43m,\u001b[49m\n\u001b[0;32m   1130\u001b[0m \u001b[43m    \u001b[49m\u001b[43mnodata\u001b[49m\u001b[38;5;241;43m=\u001b[39;49m\u001b[43mrio_nodata\u001b[49m\u001b[43m,\u001b[49m\n\u001b[0;32m   1131\u001b[0m \u001b[43m    \u001b[49m\u001b[43mwindowed\u001b[49m\u001b[38;5;241;43m=\u001b[39;49m\u001b[43mwindowed\u001b[49m\u001b[43m,\u001b[49m\n\u001b[0;32m   1132\u001b[0m \u001b[43m    \u001b[49m\u001b[43mlock\u001b[49m\u001b[38;5;241;43m=\u001b[39;49m\u001b[43mlock\u001b[49m\u001b[43m,\u001b[49m\n\u001b[0;32m   1133\u001b[0m \u001b[43m    \u001b[49m\u001b[43mcompute\u001b[49m\u001b[38;5;241;43m=\u001b[39;49m\u001b[43mcompute\u001b[49m\u001b[43m,\u001b[49m\n\u001b[0;32m   1134\u001b[0m \u001b[43m    \u001b[49m\u001b[38;5;241;43m*\u001b[39;49m\u001b[38;5;241;43m*\u001b[39;49m\u001b[43mout_profile\u001b[49m\u001b[43m,\u001b[49m\n\u001b[0;32m   1135\u001b[0m \u001b[43m\u001b[49m\u001b[43m)\u001b[49m\n",
      "File \u001b[1;32mc:\\Users\\kras\\AppData\\Local\\mambaforge\\envs\\coclico\\Lib\\site-packages\\rioxarray\\raster_writer.py:286\u001b[0m, in \u001b[0;36mRasterioWriter.to_raster\u001b[1;34m(self, xarray_dataarray, tags, windowed, lock, compute, **kwargs)\u001b[0m\n\u001b[0;32m    284\u001b[0m \u001b[38;5;28;01melse\u001b[39;00m:\n\u001b[0;32m    285\u001b[0m     out_data \u001b[38;5;241m=\u001b[39m xarray_dataarray\n\u001b[1;32m--> 286\u001b[0m data \u001b[38;5;241m=\u001b[39m \u001b[43mencode_cf_variable\u001b[49m\u001b[43m(\u001b[49m\u001b[43mout_data\u001b[49m\u001b[38;5;241;43m.\u001b[39;49m\u001b[43mvariable\u001b[49m\u001b[43m)\u001b[49m\u001b[38;5;241;43m.\u001b[39;49m\u001b[43mvalues\u001b[49m\u001b[38;5;241m.\u001b[39mastype(\n\u001b[0;32m    287\u001b[0m     numpy_dtype\n\u001b[0;32m    288\u001b[0m )\n\u001b[0;32m    289\u001b[0m \u001b[38;5;28;01mif\u001b[39;00m data\u001b[38;5;241m.\u001b[39mndim \u001b[38;5;241m==\u001b[39m \u001b[38;5;241m2\u001b[39m:\n\u001b[0;32m    290\u001b[0m     rds\u001b[38;5;241m.\u001b[39mwrite(data, \u001b[38;5;241m1\u001b[39m, window\u001b[38;5;241m=\u001b[39mwindow)\n",
      "File \u001b[1;32mc:\\Users\\kras\\AppData\\Local\\mambaforge\\envs\\coclico\\Lib\\site-packages\\xarray\\core\\variable.py:614\u001b[0m, in \u001b[0;36mVariable.values\u001b[1;34m(self)\u001b[0m\n\u001b[0;32m    611\u001b[0m \u001b[38;5;129m@property\u001b[39m\n\u001b[0;32m    612\u001b[0m \u001b[38;5;28;01mdef\u001b[39;00m \u001b[38;5;21mvalues\u001b[39m(\u001b[38;5;28mself\u001b[39m):\n\u001b[0;32m    613\u001b[0m \u001b[38;5;250m    \u001b[39m\u001b[38;5;124;03m\"\"\"The variable's data as a numpy.ndarray\"\"\"\u001b[39;00m\n\u001b[1;32m--> 614\u001b[0m     \u001b[38;5;28;01mreturn\u001b[39;00m \u001b[43m_as_array_or_item\u001b[49m\u001b[43m(\u001b[49m\u001b[38;5;28;43mself\u001b[39;49m\u001b[38;5;241;43m.\u001b[39;49m\u001b[43m_data\u001b[49m\u001b[43m)\u001b[49m\n",
      "File \u001b[1;32mc:\\Users\\kras\\AppData\\Local\\mambaforge\\envs\\coclico\\Lib\\site-packages\\xarray\\core\\variable.py:314\u001b[0m, in \u001b[0;36m_as_array_or_item\u001b[1;34m(data)\u001b[0m\n\u001b[0;32m    300\u001b[0m \u001b[38;5;28;01mdef\u001b[39;00m \u001b[38;5;21m_as_array_or_item\u001b[39m(data):\n\u001b[0;32m    301\u001b[0m \u001b[38;5;250m    \u001b[39m\u001b[38;5;124;03m\"\"\"Return the given values as a numpy array, or as an individual item if\u001b[39;00m\n\u001b[0;32m    302\u001b[0m \u001b[38;5;124;03m    it's a 0d datetime64 or timedelta64 array.\u001b[39;00m\n\u001b[0;32m    303\u001b[0m \n\u001b[1;32m   (...)\u001b[0m\n\u001b[0;32m    312\u001b[0m \u001b[38;5;124;03m    TODO: remove this (replace with np.asarray) once these issues are fixed\u001b[39;00m\n\u001b[0;32m    313\u001b[0m \u001b[38;5;124;03m    \"\"\"\u001b[39;00m\n\u001b[1;32m--> 314\u001b[0m     data \u001b[38;5;241m=\u001b[39m np\u001b[38;5;241m.\u001b[39masarray(data)\n\u001b[0;32m    315\u001b[0m     \u001b[38;5;28;01mif\u001b[39;00m data\u001b[38;5;241m.\u001b[39mndim \u001b[38;5;241m==\u001b[39m \u001b[38;5;241m0\u001b[39m:\n\u001b[0;32m    316\u001b[0m         \u001b[38;5;28;01mif\u001b[39;00m data\u001b[38;5;241m.\u001b[39mdtype\u001b[38;5;241m.\u001b[39mkind \u001b[38;5;241m==\u001b[39m \u001b[38;5;124m\"\u001b[39m\u001b[38;5;124mM\u001b[39m\u001b[38;5;124m\"\u001b[39m:\n",
      "File \u001b[1;32mc:\\Users\\kras\\AppData\\Local\\mambaforge\\envs\\coclico\\Lib\\site-packages\\dask\\array\\core.py:1699\u001b[0m, in \u001b[0;36mArray.__array__\u001b[1;34m(self, dtype, **kwargs)\u001b[0m\n\u001b[0;32m   1698\u001b[0m \u001b[38;5;28;01mdef\u001b[39;00m \u001b[38;5;21m__array__\u001b[39m(\u001b[38;5;28mself\u001b[39m, dtype\u001b[38;5;241m=\u001b[39m\u001b[38;5;28;01mNone\u001b[39;00m, \u001b[38;5;241m*\u001b[39m\u001b[38;5;241m*\u001b[39mkwargs):\n\u001b[1;32m-> 1699\u001b[0m     x \u001b[38;5;241m=\u001b[39m \u001b[38;5;28;43mself\u001b[39;49m\u001b[38;5;241;43m.\u001b[39;49m\u001b[43mcompute\u001b[49m\u001b[43m(\u001b[49m\u001b[43m)\u001b[49m\n\u001b[0;32m   1700\u001b[0m     \u001b[38;5;28;01mif\u001b[39;00m dtype \u001b[38;5;129;01mand\u001b[39;00m x\u001b[38;5;241m.\u001b[39mdtype \u001b[38;5;241m!=\u001b[39m dtype:\n\u001b[0;32m   1701\u001b[0m         x \u001b[38;5;241m=\u001b[39m x\u001b[38;5;241m.\u001b[39mastype(dtype)\n",
      "File \u001b[1;32mc:\\Users\\kras\\AppData\\Local\\mambaforge\\envs\\coclico\\Lib\\site-packages\\dask\\base.py:381\u001b[0m, in \u001b[0;36mDaskMethodsMixin.compute\u001b[1;34m(self, **kwargs)\u001b[0m\n\u001b[0;32m    357\u001b[0m \u001b[38;5;28;01mdef\u001b[39;00m \u001b[38;5;21mcompute\u001b[39m(\u001b[38;5;28mself\u001b[39m, \u001b[38;5;241m*\u001b[39m\u001b[38;5;241m*\u001b[39mkwargs):\n\u001b[0;32m    358\u001b[0m \u001b[38;5;250m    \u001b[39m\u001b[38;5;124;03m\"\"\"Compute this dask collection\u001b[39;00m\n\u001b[0;32m    359\u001b[0m \n\u001b[0;32m    360\u001b[0m \u001b[38;5;124;03m    This turns a lazy Dask collection into its in-memory equivalent.\u001b[39;00m\n\u001b[1;32m   (...)\u001b[0m\n\u001b[0;32m    379\u001b[0m \u001b[38;5;124;03m    dask.compute\u001b[39;00m\n\u001b[0;32m    380\u001b[0m \u001b[38;5;124;03m    \"\"\"\u001b[39;00m\n\u001b[1;32m--> 381\u001b[0m     (result,) \u001b[38;5;241m=\u001b[39m \u001b[43mcompute\u001b[49m\u001b[43m(\u001b[49m\u001b[38;5;28;43mself\u001b[39;49m\u001b[43m,\u001b[49m\u001b[43m \u001b[49m\u001b[43mtraverse\u001b[49m\u001b[38;5;241;43m=\u001b[39;49m\u001b[38;5;28;43;01mFalse\u001b[39;49;00m\u001b[43m,\u001b[49m\u001b[43m \u001b[49m\u001b[38;5;241;43m*\u001b[39;49m\u001b[38;5;241;43m*\u001b[39;49m\u001b[43mkwargs\u001b[49m\u001b[43m)\u001b[49m\n\u001b[0;32m    382\u001b[0m     \u001b[38;5;28;01mreturn\u001b[39;00m result\n",
      "File \u001b[1;32mc:\\Users\\kras\\AppData\\Local\\mambaforge\\envs\\coclico\\Lib\\site-packages\\dask\\base.py:666\u001b[0m, in \u001b[0;36mcompute\u001b[1;34m(traverse, optimize_graph, scheduler, get, *args, **kwargs)\u001b[0m\n\u001b[0;32m    663\u001b[0m     keys\u001b[38;5;241m.\u001b[39mappend(x\u001b[38;5;241m.\u001b[39m__dask_keys__())\n\u001b[0;32m    664\u001b[0m     postcomputes\u001b[38;5;241m.\u001b[39mappend(x\u001b[38;5;241m.\u001b[39m__dask_postcompute__())\n\u001b[1;32m--> 666\u001b[0m results \u001b[38;5;241m=\u001b[39m \u001b[43mschedule\u001b[49m\u001b[43m(\u001b[49m\u001b[43mdsk\u001b[49m\u001b[43m,\u001b[49m\u001b[43m \u001b[49m\u001b[43mkeys\u001b[49m\u001b[43m,\u001b[49m\u001b[43m \u001b[49m\u001b[38;5;241;43m*\u001b[39;49m\u001b[38;5;241;43m*\u001b[39;49m\u001b[43mkwargs\u001b[49m\u001b[43m)\u001b[49m\n\u001b[0;32m    667\u001b[0m \u001b[38;5;28;01mreturn\u001b[39;00m repack([f(r, \u001b[38;5;241m*\u001b[39ma) \u001b[38;5;28;01mfor\u001b[39;00m r, (f, a) \u001b[38;5;129;01min\u001b[39;00m \u001b[38;5;28mzip\u001b[39m(results, postcomputes)])\n",
      "File \u001b[1;32mc:\\Users\\kras\\AppData\\Local\\mambaforge\\envs\\coclico\\Lib\\site-packages\\dask\\threaded.py:89\u001b[0m, in \u001b[0;36mget\u001b[1;34m(dsk, keys, cache, num_workers, pool, **kwargs)\u001b[0m\n\u001b[0;32m     86\u001b[0m     \u001b[38;5;28;01melif\u001b[39;00m \u001b[38;5;28misinstance\u001b[39m(pool, multiprocessing\u001b[38;5;241m.\u001b[39mpool\u001b[38;5;241m.\u001b[39mPool):\n\u001b[0;32m     87\u001b[0m         pool \u001b[38;5;241m=\u001b[39m MultiprocessingPoolExecutor(pool)\n\u001b[1;32m---> 89\u001b[0m results \u001b[38;5;241m=\u001b[39m \u001b[43mget_async\u001b[49m\u001b[43m(\u001b[49m\n\u001b[0;32m     90\u001b[0m \u001b[43m    \u001b[49m\u001b[43mpool\u001b[49m\u001b[38;5;241;43m.\u001b[39;49m\u001b[43msubmit\u001b[49m\u001b[43m,\u001b[49m\n\u001b[0;32m     91\u001b[0m \u001b[43m    \u001b[49m\u001b[43mpool\u001b[49m\u001b[38;5;241;43m.\u001b[39;49m\u001b[43m_max_workers\u001b[49m\u001b[43m,\u001b[49m\n\u001b[0;32m     92\u001b[0m \u001b[43m    \u001b[49m\u001b[43mdsk\u001b[49m\u001b[43m,\u001b[49m\n\u001b[0;32m     93\u001b[0m \u001b[43m    \u001b[49m\u001b[43mkeys\u001b[49m\u001b[43m,\u001b[49m\n\u001b[0;32m     94\u001b[0m \u001b[43m    \u001b[49m\u001b[43mcache\u001b[49m\u001b[38;5;241;43m=\u001b[39;49m\u001b[43mcache\u001b[49m\u001b[43m,\u001b[49m\n\u001b[0;32m     95\u001b[0m \u001b[43m    \u001b[49m\u001b[43mget_id\u001b[49m\u001b[38;5;241;43m=\u001b[39;49m\u001b[43m_thread_get_id\u001b[49m\u001b[43m,\u001b[49m\n\u001b[0;32m     96\u001b[0m \u001b[43m    \u001b[49m\u001b[43mpack_exception\u001b[49m\u001b[38;5;241;43m=\u001b[39;49m\u001b[43mpack_exception\u001b[49m\u001b[43m,\u001b[49m\n\u001b[0;32m     97\u001b[0m \u001b[43m    \u001b[49m\u001b[38;5;241;43m*\u001b[39;49m\u001b[38;5;241;43m*\u001b[39;49m\u001b[43mkwargs\u001b[49m\u001b[43m,\u001b[49m\n\u001b[0;32m     98\u001b[0m \u001b[43m\u001b[49m\u001b[43m)\u001b[49m\n\u001b[0;32m    100\u001b[0m \u001b[38;5;66;03m# Cleanup pools associated to dead threads\u001b[39;00m\n\u001b[0;32m    101\u001b[0m \u001b[38;5;28;01mwith\u001b[39;00m pools_lock:\n",
      "File \u001b[1;32mc:\\Users\\kras\\AppData\\Local\\mambaforge\\envs\\coclico\\Lib\\site-packages\\dask\\local.py:500\u001b[0m, in \u001b[0;36mget_async\u001b[1;34m(submit, num_workers, dsk, result, cache, get_id, rerun_exceptions_locally, pack_exception, raise_exception, callbacks, dumps, loads, chunksize, **kwargs)\u001b[0m\n\u001b[0;32m    498\u001b[0m \u001b[38;5;28;01mwhile\u001b[39;00m state[\u001b[38;5;124m\"\u001b[39m\u001b[38;5;124mwaiting\u001b[39m\u001b[38;5;124m\"\u001b[39m] \u001b[38;5;129;01mor\u001b[39;00m state[\u001b[38;5;124m\"\u001b[39m\u001b[38;5;124mready\u001b[39m\u001b[38;5;124m\"\u001b[39m] \u001b[38;5;129;01mor\u001b[39;00m state[\u001b[38;5;124m\"\u001b[39m\u001b[38;5;124mrunning\u001b[39m\u001b[38;5;124m\"\u001b[39m]:\n\u001b[0;32m    499\u001b[0m     fire_tasks(chunksize)\n\u001b[1;32m--> 500\u001b[0m     \u001b[38;5;28;01mfor\u001b[39;00m key, res_info, failed \u001b[38;5;129;01min\u001b[39;00m \u001b[43mqueue_get\u001b[49m\u001b[43m(\u001b[49m\u001b[43mqueue\u001b[49m\u001b[43m)\u001b[49m\u001b[38;5;241m.\u001b[39mresult():\n\u001b[0;32m    501\u001b[0m         \u001b[38;5;28;01mif\u001b[39;00m failed:\n\u001b[0;32m    502\u001b[0m             exc, tb \u001b[38;5;241m=\u001b[39m loads(res_info)\n",
      "File \u001b[1;32mc:\\Users\\kras\\AppData\\Local\\mambaforge\\envs\\coclico\\Lib\\site-packages\\dask\\local.py:130\u001b[0m, in \u001b[0;36mqueue_get\u001b[1;34m(q)\u001b[0m\n\u001b[0;32m    128\u001b[0m \u001b[38;5;28;01mwhile\u001b[39;00m \u001b[38;5;28;01mTrue\u001b[39;00m:\n\u001b[0;32m    129\u001b[0m     \u001b[38;5;28;01mtry\u001b[39;00m:\n\u001b[1;32m--> 130\u001b[0m         \u001b[38;5;28;01mreturn\u001b[39;00m \u001b[43mq\u001b[49m\u001b[38;5;241;43m.\u001b[39;49m\u001b[43mget\u001b[49m\u001b[43m(\u001b[49m\u001b[43mblock\u001b[49m\u001b[38;5;241;43m=\u001b[39;49m\u001b[38;5;28;43;01mTrue\u001b[39;49;00m\u001b[43m,\u001b[49m\u001b[43m \u001b[49m\u001b[43mtimeout\u001b[49m\u001b[38;5;241;43m=\u001b[39;49m\u001b[38;5;241;43m0.1\u001b[39;49m\u001b[43m)\u001b[49m\n\u001b[0;32m    131\u001b[0m     \u001b[38;5;28;01mexcept\u001b[39;00m Empty:\n\u001b[0;32m    132\u001b[0m         \u001b[38;5;28;01mpass\u001b[39;00m\n",
      "File \u001b[1;32mc:\\Users\\kras\\AppData\\Local\\mambaforge\\envs\\coclico\\Lib\\queue.py:180\u001b[0m, in \u001b[0;36mQueue.get\u001b[1;34m(self, block, timeout)\u001b[0m\n\u001b[0;32m    178\u001b[0m         \u001b[38;5;28;01mif\u001b[39;00m remaining \u001b[38;5;241m<\u001b[39m\u001b[38;5;241m=\u001b[39m \u001b[38;5;241m0.0\u001b[39m:\n\u001b[0;32m    179\u001b[0m             \u001b[38;5;28;01mraise\u001b[39;00m Empty\n\u001b[1;32m--> 180\u001b[0m         \u001b[38;5;28;43mself\u001b[39;49m\u001b[38;5;241;43m.\u001b[39;49m\u001b[43mnot_empty\u001b[49m\u001b[38;5;241;43m.\u001b[39;49m\u001b[43mwait\u001b[49m\u001b[43m(\u001b[49m\u001b[43mremaining\u001b[49m\u001b[43m)\u001b[49m\n\u001b[0;32m    181\u001b[0m item \u001b[38;5;241m=\u001b[39m \u001b[38;5;28mself\u001b[39m\u001b[38;5;241m.\u001b[39m_get()\n\u001b[0;32m    182\u001b[0m \u001b[38;5;28mself\u001b[39m\u001b[38;5;241m.\u001b[39mnot_full\u001b[38;5;241m.\u001b[39mnotify()\n",
      "File \u001b[1;32mc:\\Users\\kras\\AppData\\Local\\mambaforge\\envs\\coclico\\Lib\\threading.py:324\u001b[0m, in \u001b[0;36mCondition.wait\u001b[1;34m(self, timeout)\u001b[0m\n\u001b[0;32m    322\u001b[0m \u001b[38;5;28;01melse\u001b[39;00m:\n\u001b[0;32m    323\u001b[0m     \u001b[38;5;28;01mif\u001b[39;00m timeout \u001b[38;5;241m>\u001b[39m \u001b[38;5;241m0\u001b[39m:\n\u001b[1;32m--> 324\u001b[0m         gotit \u001b[38;5;241m=\u001b[39m \u001b[43mwaiter\u001b[49m\u001b[38;5;241;43m.\u001b[39;49m\u001b[43macquire\u001b[49m\u001b[43m(\u001b[49m\u001b[38;5;28;43;01mTrue\u001b[39;49;00m\u001b[43m,\u001b[49m\u001b[43m \u001b[49m\u001b[43mtimeout\u001b[49m\u001b[43m)\u001b[49m\n\u001b[0;32m    325\u001b[0m     \u001b[38;5;28;01melse\u001b[39;00m:\n\u001b[0;32m    326\u001b[0m         gotit \u001b[38;5;241m=\u001b[39m waiter\u001b[38;5;241m.\u001b[39macquire(\u001b[38;5;28;01mFalse\u001b[39;00m)\n",
      "\u001b[1;31mKeyboardInterrupt\u001b[0m: "
     ]
    },
    {
     "data": {
      "application/javascript": "\n            setTimeout(function() {\n                var nbb_cell_id = 43;\n                var nbb_unformatted_code = \"from datacube.utils.cog import write_cog\\ndef generate_slices(num_chunks: int, chunk_size: int) -> Tuple[slice, slice]:\\n    \\\"\\\"\\\"Generate slices for chunk-based iteration.\\\"\\\"\\\"\\n    for i in range(num_chunks):\\n        yield slice(i * chunk_size, (i + 1) * chunk_size)\\n\\n\\ncm = xr.open_dataset(\\n    ds_path, engine=\\\"rasterio\\\", mask_and_scale=False\\n)  # .isel({\\\"x\\\":slice(0, 40000), \\\"y\\\":slice(0, 40000)})\\ncm = cm.assign_coords(band=(\\\"band\\\", [f\\\"B{k+1:02}\\\" for k in range(cm.dims[\\\"band\\\"])]))\\ncm = cm[\\\"band_data\\\"].to_dataset(\\\"band\\\")\\n\\n# chunk size \\nchunk_size = 2**12 # 16384, which is large, but OK for int8 datatype.\\n\\ncm_chunked = cm.chunk({\\\"x\\\": chunk_size, \\\"y\\\": chunk_size})\\n\\nnum_x_chunks = math.ceil(cm_chunked.dims[\\\"x\\\"] / chunk_size)\\nnum_y_chunks = math.ceil(cm_chunked.dims[\\\"y\\\"] / chunk_size)\\n\\nfor x_slice in generate_slices(num_x_chunks, chunk_size):\\n    for y_slice in generate_slices(num_y_chunks, chunk_size):\\n        chunk = cm_chunked.isel(x=x_slice, y=y_slice)\\n\\n        chunk = chunk.assign_coords(time=pd.Timestamp(2022, 2, 22).isoformat())\\n\\n        for var in chunk:\\n            print(x_slice, y_slice)\\n\\n            da = chunk[var]\\n\\n            da = (\\n                da.where(da != -9999, 0)\\n                .astype(\\\"uint8\\\")\\n                .rio.write_nodata(0)\\n                .rio.set_spatial_dims(x_dim=\\\"x\\\", y_dim=\\\"y\\\")\\n            )\\n\\n            item_name = name_block(\\n                da,\\n                storage_prefix=\\\"\\\",\\n                name_prefix=\\\"\\\",\\n                include_band=da.name,\\n                time_dim=False,\\n                x_dim=\\\"x\\\",\\n                y_dim=\\\"y\\\",\\n            )\\n\\n            print(item_name)\\n\\n            # convert to dataset\\n            dad = da.to_dataset()\\n\\n            # add all attributes (again)\\n            # for attr_name, attr_val in meta_global.items():\\n            #     if attr_name == 'PROVIDERS':\\n            #         attr_val = json.dumps(attr_val)\\n            #     if attr_name == \\\"MEDIA_TYPE\\\": # change media type to tiff, leave the rest as is\\n            #         attr_val = \\\"IMAGE/TIFF\\\"\\n            #     dad.attrs[attr_name] = attr_val\\n\\n            # dad.attrs['Conventions'] = \\\"CF-1.8\\\"\\n\\n            # make parent dir if not exists\\n            outpath = cog_dirs.joinpath(item_name)\\n            outpath.parent.mkdir(parents=True, exist_ok=True)\\n\\n            # export file\\n            dad.rio.to_raster(outpath, compress=\\\"DEFLATE\\\", driver=\\\"COG\\\")\\n\\n            # set overwrite is false because tifs should be unique\\n            # try:\\n            #     write_cog(da, fname=outpath, overwrite=False).compute()\\n            # except OSError as e:\\n            #     continue\";\n                var nbb_formatted_code = \"from datacube.utils.cog import write_cog\\n\\n\\ndef generate_slices(num_chunks: int, chunk_size: int) -> Tuple[slice, slice]:\\n    \\\"\\\"\\\"Generate slices for chunk-based iteration.\\\"\\\"\\\"\\n    for i in range(num_chunks):\\n        yield slice(i * chunk_size, (i + 1) * chunk_size)\\n\\n\\ncm = xr.open_dataset(\\n    ds_path, engine=\\\"rasterio\\\", mask_and_scale=False\\n)  # .isel({\\\"x\\\":slice(0, 40000), \\\"y\\\":slice(0, 40000)})\\ncm = cm.assign_coords(band=(\\\"band\\\", [f\\\"B{k+1:02}\\\" for k in range(cm.dims[\\\"band\\\"])]))\\ncm = cm[\\\"band_data\\\"].to_dataset(\\\"band\\\")\\n\\n# chunk size\\nchunk_size = 2**12  # 16384, which is large, but OK for int8 datatype.\\n\\ncm_chunked = cm.chunk({\\\"x\\\": chunk_size, \\\"y\\\": chunk_size})\\n\\nnum_x_chunks = math.ceil(cm_chunked.dims[\\\"x\\\"] / chunk_size)\\nnum_y_chunks = math.ceil(cm_chunked.dims[\\\"y\\\"] / chunk_size)\\n\\nfor x_slice in generate_slices(num_x_chunks, chunk_size):\\n    for y_slice in generate_slices(num_y_chunks, chunk_size):\\n        chunk = cm_chunked.isel(x=x_slice, y=y_slice)\\n\\n        chunk = chunk.assign_coords(time=pd.Timestamp(2022, 2, 22).isoformat())\\n\\n        for var in chunk:\\n            print(x_slice, y_slice)\\n\\n            da = chunk[var]\\n\\n            da = (\\n                da.where(da != -9999, 0)\\n                .astype(\\\"uint8\\\")\\n                .rio.write_nodata(0)\\n                .rio.set_spatial_dims(x_dim=\\\"x\\\", y_dim=\\\"y\\\")\\n            )\\n\\n            item_name = name_block(\\n                da,\\n                storage_prefix=\\\"\\\",\\n                name_prefix=\\\"\\\",\\n                include_band=da.name,\\n                time_dim=False,\\n                x_dim=\\\"x\\\",\\n                y_dim=\\\"y\\\",\\n            )\\n\\n            print(item_name)\\n\\n            # convert to dataset\\n            dad = da.to_dataset()\\n\\n            # add all attributes (again)\\n            # for attr_name, attr_val in meta_global.items():\\n            #     if attr_name == 'PROVIDERS':\\n            #         attr_val = json.dumps(attr_val)\\n            #     if attr_name == \\\"MEDIA_TYPE\\\": # change media type to tiff, leave the rest as is\\n            #         attr_val = \\\"IMAGE/TIFF\\\"\\n            #     dad.attrs[attr_name] = attr_val\\n\\n            # dad.attrs['Conventions'] = \\\"CF-1.8\\\"\\n\\n            # make parent dir if not exists\\n            outpath = cog_dirs.joinpath(item_name)\\n            outpath.parent.mkdir(parents=True, exist_ok=True)\\n\\n            # export file\\n            dad.rio.to_raster(outpath, compress=\\\"DEFLATE\\\", driver=\\\"COG\\\")\\n\\n            # set overwrite is false because tifs should be unique\\n            # try:\\n            #     write_cog(da, fname=outpath, overwrite=False).compute()\\n            # except OSError as e:\\n            #     continue\";\n                var nbb_cells = Jupyter.notebook.get_cells();\n                for (var i = 0; i < nbb_cells.length; ++i) {\n                    if (nbb_cells[i].input_prompt_number == nbb_cell_id) {\n                        if (nbb_cells[i].get_text() == nbb_unformatted_code) {\n                             nbb_cells[i].set_text(nbb_formatted_code);\n                        }\n                        break;\n                    }\n                }\n            }, 500);\n            ",
      "text/plain": [
       "<IPython.core.display.Javascript object>"
      ]
     },
     "metadata": {},
     "output_type": "display_data"
    }
   ],
   "source": [
    "from datacube.utils.cog import write_cog\n",
    "def generate_slices(num_chunks: int, chunk_size: int) -> Tuple[slice, slice]:\n",
    "    \"\"\"Generate slices for chunk-based iteration.\"\"\"\n",
    "    for i in range(num_chunks):\n",
    "        yield slice(i * chunk_size, (i + 1) * chunk_size)\n",
    "\n",
    "\n",
    "cm = xr.open_dataset(\n",
    "    ds_path, engine=\"rasterio\", mask_and_scale=False\n",
    ")  # .isel({\"x\":slice(0, 40000), \"y\":slice(0, 40000)})\n",
    "cm = cm.assign_coords(band=(\"band\", [f\"B{k+1:02}\" for k in range(cm.dims[\"band\"])]))\n",
    "cm = cm[\"band_data\"].to_dataset(\"band\")\n",
    "\n",
    "# chunk size \n",
    "chunk_size = 2**12 # 16384, which is large, but OK for int8 datatype.\n",
    "\n",
    "cm_chunked = cm.chunk({\"x\": chunk_size, \"y\": chunk_size})\n",
    "\n",
    "num_x_chunks = math.ceil(cm_chunked.dims[\"x\"] / chunk_size)\n",
    "num_y_chunks = math.ceil(cm_chunked.dims[\"y\"] / chunk_size)\n",
    "\n",
    "for x_slice in generate_slices(num_x_chunks, chunk_size):\n",
    "    for y_slice in generate_slices(num_y_chunks, chunk_size):\n",
    "        chunk = cm_chunked.isel(x=x_slice, y=y_slice)\n",
    "\n",
    "        chunk = chunk.assign_coords(time=pd.Timestamp(2022, 2, 22).isoformat())\n",
    "\n",
    "        for var in chunk:\n",
    "            print(x_slice, y_slice)\n",
    "\n",
    "            da = chunk[var]\n",
    "\n",
    "            da = (\n",
    "                da.where(da != -9999, 0)\n",
    "                .astype(\"uint8\")\n",
    "                .rio.write_nodata(0)\n",
    "                .rio.set_spatial_dims(x_dim=\"x\", y_dim=\"y\")\n",
    "            )\n",
    "\n",
    "            item_name = name_block(\n",
    "                da,\n",
    "                storage_prefix=\"\",\n",
    "                name_prefix=\"\",\n",
    "                include_band=da.name,\n",
    "                time_dim=False,\n",
    "                x_dim=\"x\",\n",
    "                y_dim=\"y\",\n",
    "            )\n",
    "\n",
    "            print(item_name)\n",
    "\n",
    "            # convert to dataset\n",
    "            dad = da.to_dataset()\n",
    "\n",
    "            # add all attributes (again)\n",
    "            # for attr_name, attr_val in meta_global.items():\n",
    "            #     if attr_name == 'PROVIDERS':\n",
    "            #         attr_val = json.dumps(attr_val)\n",
    "            #     if attr_name == \"MEDIA_TYPE\": # change media type to tiff, leave the rest as is\n",
    "            #         attr_val = \"IMAGE/TIFF\"\n",
    "            #     dad.attrs[attr_name] = attr_val\n",
    "\n",
    "            # dad.attrs['Conventions'] = \"CF-1.8\"\n",
    "\n",
    "            # make parent dir if not exists\n",
    "            outpath = cog_dirs.joinpath(item_name)\n",
    "            outpath.parent.mkdir(parents=True, exist_ok=True)\n",
    "\n",
    "            # export file\n",
    "            dad.rio.to_raster(outpath, compress=\"DEFLATE\", driver=\"COG\")\n",
    "\n",
    "            # set overwrite is false because tifs should be unique\n",
    "            # try:\n",
    "            #     write_cog(da, fname=outpath, overwrite=False).compute()\n",
    "            # except OSError as e:\n",
    "            #     continue"
   ]
  },
  {
   "cell_type": "code",
   "execution_count": null,
   "id": "57fc1338",
   "metadata": {},
   "outputs": [],
   "source": [
    "# %%capture cap --no-stderr\n",
    "# # check original CF compliancy\n",
    "\n",
    "# check_compliancy(testfile=cog_dir.joinpath(item_name.replace(\".tif\", \".nc\")), working_dir=CF_dir)"
   ]
  },
  {
   "cell_type": "code",
   "execution_count": null,
   "id": "085d30c5",
   "metadata": {},
   "outputs": [],
   "source": [
    "# save original CF compliancy\n",
    "# save_compliancy(cap, testfile=cog_dir.joinpath(item_name.replace(\".tif\", \".nc\")), working_dir=CF_dir)"
   ]
  },
  {
   "cell_type": "code",
   "execution_count": null,
   "id": "f0360ff9",
   "metadata": {},
   "outputs": [],
   "source": []
  }
 ],
 "metadata": {
  "kernelspec": {
   "display_name": "testenv",
   "language": "python",
   "name": "python3"
  },
  "language_info": {
   "codemirror_mode": {
    "name": "ipython",
    "version": 3
   },
   "file_extension": ".py",
   "mimetype": "text/x-python",
   "name": "python",
   "nbconvert_exporter": "python",
   "pygments_lexer": "ipython3",
   "version": "3.11.4"
  }
 },
 "nbformat": 4,
 "nbformat_minor": 5
}
