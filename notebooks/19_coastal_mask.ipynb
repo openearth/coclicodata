{
 "cells": [
  {
   "cell_type": "markdown",
   "id": "c82a9c1c-7ab7-4a68-9d9d-c74ba6f308bc",
   "metadata": {},
   "source": [
    "## Load software"
   ]
  },
  {
   "cell_type": "code",
   "execution_count": 1,
   "id": "25ee6977-26e0-4b85-ac11-1fd7bf0a9ca7",
   "metadata": {
    "execution": {
     "iopub.execute_input": "2023-08-31T19:16:27.245712Z",
     "iopub.status.busy": "2023-08-31T19:16:27.244961Z",
     "iopub.status.idle": "2023-08-31T19:16:28.067536Z",
     "shell.execute_reply": "2023-08-31T19:16:28.067225Z",
     "shell.execute_reply.started": "2023-08-31T19:16:27.245662Z"
    },
    "tags": []
   },
   "outputs": [],
   "source": [
    "import datetime\n",
    "import itertools\n",
    "import math\n",
    "import operator\n",
    "import os\n",
    "import pathlib\n",
    "from pathlib import Path\n",
    "from typing import Any, Dict, List, Optional, Tuple, Union\n",
    "\n",
    "import dask\n",
    "import fsspec\n",
    "import numpy as np\n",
    "import pandas as pd\n",
    "import pystac\n",
    "import rasterio\n",
    "import rioxarray\n",
    "import shapely\n",
    "import xarray as xr\n",
    "from azure.storage.blob import BlobServiceClient\n",
    "from dask.distributed import Client\n",
    "from dotenv import load_dotenv\n",
    "from gcsfs import GCSFileSystem\n",
    "from pystac import StacIO\n",
    "from pystac.extensions import eo, raster\n",
    "from pystac.layout import BestPracticesLayoutStrategy\n",
    "from pystac.utils import JoinType, join_path_or_url, safe_urlparse\n",
    "from stactools.core.utils import antimeridian\n",
    "from tqdm import tqdm"
   ]
  },
  {
   "cell_type": "markdown",
   "id": "8f70eabd-05f2-412b-bedd-60ac5a34dbd0",
   "metadata": {},
   "source": [
    "## Install CoCliCodata package"
   ]
  },
  {
   "cell_type": "code",
   "execution_count": 2,
   "id": "50914feb-f1e3-4653-b757-5ebe707da3dc",
   "metadata": {
    "execution": {
     "iopub.execute_input": "2023-08-31T19:16:28.068394Z",
     "iopub.status.busy": "2023-08-31T19:16:28.068312Z",
     "iopub.status.idle": "2023-08-31T19:16:28.071526Z",
     "shell.execute_reply": "2023-08-31T19:16:28.071303Z",
     "shell.execute_reply.started": "2023-08-31T19:16:28.068386Z"
    },
    "tags": []
   },
   "outputs": [],
   "source": [
    "# uncomment these lines if you do not have coclicodata in development mode installed\n",
    "# dev_dir = pathlib.Path.home() / \"dev\"  # set the path to the location where you would like to clone the package\n",
    "# dev_dir.mkdir(parents=True, exist_ok=True)\n",
    "\n",
    "# # Clone the repository\n",
    "# os.system(f\"git clone https://github.com/openearth/coclicodata.git {dev_dir / 'coclicodata'}\")\n",
    "\n",
    "# # Install the package in development mode\n",
    "# os.system(f\"pip install -e {dev_dir / 'coclicodata'}\")\n",
    "\n",
    "from coclicodata.coclico_stac.io import CoCliCoStacIO\n",
    "from coclicodata.coclico_stac.layouts import CoCliCoCOGLayout\n",
    "from coclicodata.drive_config import p_drive\n",
    "from coclicodata.coclico_stac.extension import CoclicoExtension"
   ]
  },
  {
   "cell_type": "markdown",
   "id": "d113838a-51f1-4dca-b069-acf9bbf58870",
   "metadata": {},
   "source": [
    "## Install CoastMonitor package"
   ]
  },
  {
   "cell_type": "code",
   "execution_count": 3,
   "id": "49605712-ffcf-4272-8177-17fe6b37d5a1",
   "metadata": {
    "execution": {
     "iopub.execute_input": "2023-08-31T19:16:28.074953Z",
     "iopub.status.busy": "2023-08-31T19:16:28.074882Z",
     "iopub.status.idle": "2023-08-31T19:16:28.135055Z",
     "shell.execute_reply": "2023-08-31T19:16:28.134776Z",
     "shell.execute_reply.started": "2023-08-31T19:16:28.074945Z"
    },
    "tags": []
   },
   "outputs": [],
   "source": [
    "load_dotenv()\n",
    "\n",
    "# uncomment these lines if you do not have the latest version of coastmonitor installed\n",
    "# gh_coastmonitor_token = os.getenv(\"GH_COASTMONITOR_TOKEN\")  # ask Floris Calkoen for keys if you do not have them\n",
    "# os.system(\"pip uninstall coastmonitor -y\")\n",
    "# os.system(\n",
    "#     f\"pip install git+https://{gh_coastmonitor_token}@github.com/floriscalkoen/coastmonitor.git \"\n",
    "# )\n",
    "\n",
    "from coastmonitor.cloud_utils import (\n",
    "    to_https_url,\n",
    "    to_storage_location,\n",
    "    to_uri_protocol,\n",
    "    write_block,\n",
    ")\n",
    "from coastmonitor.stac_utils import name_block"
   ]
  },
  {
   "cell_type": "markdown",
   "id": "f2ae46a3-3e66-4a05-bbc5-b28cacfc5aa6",
   "metadata": {},
   "source": [
    "## Define variables"
   ]
  },
  {
   "cell_type": "code",
   "execution_count": 4,
   "id": "918f4e0d-1ea6-4f03-8d9f-aa0dc1a9e9d8",
   "metadata": {
    "execution": {
     "iopub.execute_input": "2023-08-31T19:16:28.135481Z",
     "iopub.status.busy": "2023-08-31T19:16:28.135403Z",
     "iopub.status.idle": "2023-08-31T19:16:28.138300Z",
     "shell.execute_reply": "2023-08-31T19:16:28.137865Z",
     "shell.execute_reply.started": "2023-08-31T19:16:28.135472Z"
    },
    "tags": []
   },
   "outputs": [],
   "source": [
    "DATA_DIR = pathlib.Path.home() / \"data\"\n",
    "TMP_DIR = DATA_DIR / \"tmp\"\n",
    "SRC_DIR = DATA_DIR / \"src\"\n",
    "PRC_DIR = DATA_DIR / \"prc\"\n",
    "LIVE_DIR = DATA_DIR / \"live\"\n",
    "\n",
    "STAC_DIR = pathlib.Path.cwd().parent / \"current\"\n",
    "\n",
    "COASTAL_MASK_DIR = SRC_DIR / \"19_coastal_mask\"\n",
    "# COASTAL_MASK_DIR = p_drive / \"11205479-coclico\" / \"data\" / \"19_coastal_mask\"  # read data from p drive\n",
    "\n",
    "CM_FP = COASTAL_MASK_DIR / \"Global_merit_coastal_mask_landwards.tif\"\n",
    "# CM_FP = COASTAL_MASK_DIR / \"Europe_merit_coastplain_elecz_H100+2m_partioned.tif\"  # not sure which one to use\n",
    "\n",
    "# OUTDIR = TMP_DIR / \"19_cm_test\"\n",
    "\n",
    "GCS_PROTOCOL = \"https://storage.googleapis.com\"\n",
    "GCS_PROJECT = \"DGDS - I1000482-002\"\n",
    "BUCKET_NAME = \"dgds-data-public\"\n",
    "BUCKET_PROJ = \"coclico\"\n",
    "HREF_PREFIX = (\n",
    "    \"https://storage.googleapis.com/dgds-data-public/coclico/coastal_mask_test\"\n",
    ")"
   ]
  },
  {
   "cell_type": "code",
   "execution_count": 5,
   "id": "e5c233e9-d570-422c-a44f-3b27284d645d",
   "metadata": {
    "execution": {
     "iopub.execute_input": "2023-08-31T19:16:28.138731Z",
     "iopub.status.busy": "2023-08-31T19:16:28.138641Z",
     "iopub.status.idle": "2023-08-31T19:16:28.143657Z",
     "shell.execute_reply": "2023-08-31T19:16:28.143303Z",
     "shell.execute_reply.started": "2023-08-31T19:16:28.138723Z"
    },
    "tags": []
   },
   "outputs": [],
   "source": [
    "def create_collection(\n",
    "    description: str | None = None, extra_fields: dict[str, Any] | None = None\n",
    ") -> pystac.Collection:\n",
    "    providers = [\n",
    "        pystac.Provider(\n",
    "            name=\"Deltares\",\n",
    "            roles=[\n",
    "                pystac.provider.ProviderRole.PROCESSOR,\n",
    "                pystac.provider.ProviderRole.HOST,\n",
    "            ],\n",
    "            url=\"https://deltares.nl\",\n",
    "        ),\n",
    "        pystac.Provider(\n",
    "            \"Global Climate Forum\",\n",
    "            roles=[\n",
    "                pystac.provider.ProviderRole.PRODUCER,\n",
    "            ],\n",
    "            url=\"https://globalclimateforum.org\",\n",
    "        ),\n",
    "    ]\n",
    "\n",
    "    start_datetime = datetime.datetime(2022, 2, 22, tzinfo=datetime.timezone.utc)\n",
    "\n",
    "    extent = pystac.Extent(\n",
    "        pystac.SpatialExtent([[-180.0, 90.0, 180.0, -90.0]]),\n",
    "        pystac.TemporalExtent([[start_datetime, None]]),\n",
    "    )\n",
    "\n",
    "    links = [\n",
    "        pystac.Link(\n",
    "            rel=pystac.RelType.LICENSE,\n",
    "            target=\"https://coclicoservices.eu/legal/\",\n",
    "            media_type=\"text/html\",\n",
    "            title=\"ODbL-1.0 License\",\n",
    "        )\n",
    "    ]\n",
    "\n",
    "    keywords = [\n",
    "        \"Coast\",\n",
    "        \"Coastal Mask\",\n",
    "        \"Coastal Change\",\n",
    "        \"Coastal Hazards\",\n",
    "        \"Flood Risk\",\n",
    "        \"CoCliCo\",\n",
    "        \"Deltares\",\n",
    "        \"Cloud Optimized GeoTIFF\",\n",
    "    ]\n",
    "\n",
    "    if description is None:\n",
    "        description = (\n",
    "            \"Coastal mask that is derived from Copernicus elevation data combined with a maximum distance\"\n",
    "            \"to coastal water bodies.\"\n",
    "        )\n",
    "\n",
    "    collection = pystac.Collection(\n",
    "        id=\"coastal-mask-test\",\n",
    "        title=\"Coastal Mask\",\n",
    "        description=description,  # noqa: E502\n",
    "        license=\"ODbL-1.0\",\n",
    "        providers=providers,\n",
    "        extent=extent,\n",
    "        catalog_type=pystac.CatalogType.RELATIVE_PUBLISHED,\n",
    "    )\n",
    "\n",
    "    collection.add_asset(\n",
    "        \"thumbnail\",\n",
    "        pystac.Asset(\n",
    "            \"https://coclico.blob.core.windows.net/assets/thumbnails/coastal-mask-thumbnail.png\",  # noqa: E501\n",
    "            title=\"Thumbnail\",\n",
    "            media_type=pystac.MediaType.PNG,\n",
    "        ),\n",
    "    )\n",
    "    collection.links = links\n",
    "    collection.keywords = keywords\n",
    "\n",
    "    pystac.extensions.item_assets.ItemAssetsExtension.add_to(collection)\n",
    "\n",
    "    ASSET_EXTRA_FIELDS = {\n",
    "        \"xarray:storage_options\": {\"token\": \"google_default\"},\n",
    "    }\n",
    "\n",
    "    collection.extra_fields[\"item_assets\"] = {\n",
    "        \"data\": {\n",
    "            \"type\": pystac.MediaType.COG,\n",
    "            \"title\": \"Coastal Mask\",\n",
    "            \"roles\": [\"data\"],\n",
    "            \"description\": \"Coastal areas masked for this region.\",\n",
    "            **ASSET_EXTRA_FIELDS,\n",
    "        }\n",
    "    }\n",
    "\n",
    "    if extra_fields:\n",
    "        collection.extra_fields.update(extra_fields)\n",
    "\n",
    "    pystac.extensions.scientific.ScientificExtension.add_to(collection)\n",
    "    collection.extra_fields[\"sci:citation\"] = \"Lincke et al., 2023, in progress\"\n",
    "\n",
    "    # add coclico frontend properties to collection\n",
    "    coclico_ext = CoclicoExtension.ext(collection, add_if_missing=True)\n",
    "    coclico_ext.units = \"bool\"\n",
    "    coclico_ext.plot_type = \"raster\"\n",
    "    coclico_ext.min = 0\n",
    "    coclico_ext.max = 1\n",
    "\n",
    "    return collection"
   ]
  },
  {
   "cell_type": "code",
   "execution_count": 6,
   "id": "374ceb9f-d897-4617-b44f-ca849cef4e1b",
   "metadata": {
    "execution": {
     "iopub.execute_input": "2023-08-31T19:16:28.144180Z",
     "iopub.status.busy": "2023-08-31T19:16:28.144104Z",
     "iopub.status.idle": "2023-08-31T19:16:28.149317Z",
     "shell.execute_reply": "2023-08-31T19:16:28.149056Z",
     "shell.execute_reply.started": "2023-08-31T19:16:28.144172Z"
    },
    "tags": []
   },
   "outputs": [],
   "source": [
    "def create_item(block, item_id, antimeridian_strategy=antimeridian.Strategy.SPLIT):\n",
    "    dst_crs = rasterio.crs.CRS.from_epsg(4326)\n",
    "\n",
    "    # when the data spans a range, it's common practice to use the middle time as the datetime provided\n",
    "    # in the STAC item. So then you have to infer the start_datetime, end_datetime and get the middle\n",
    "    # from those.\n",
    "    # start_datetime, end_datetime = ...\n",
    "    # middle_datetime = start_datetime + (end_datetime - start_datetime) / 2\n",
    "\n",
    "    # the bbox of the STAC item is provided in 4326\n",
    "    bbox = rasterio.warp.transform_bounds(block.rio.crs, dst_crs, *block.rio.bounds())\n",
    "    geometry = shapely.geometry.mapping(shapely.make_valid(shapely.geometry.box(*bbox)))\n",
    "    bbox = shapely.make_valid(shapely.box(*bbox)).bounds\n",
    "\n",
    "    item = pystac.Item(\n",
    "        id=item_id,\n",
    "        geometry=geometry,\n",
    "        bbox=bbox,\n",
    "        datetime=pd.Timestamp(block[\"time\"].item()),\n",
    "        properties={},\n",
    "    )\n",
    "\n",
    "    # useful for global datasets that cross the antimerdian E-W line\n",
    "    antimeridian.fix_item(item, antimeridian_strategy)\n",
    "\n",
    "    # use this when the data spans a certain time range\n",
    "    # item.common_metadata.start_datetime = start_datetime\n",
    "    # item.common_metadata.end_datetime = end_datetime\n",
    "\n",
    "    item.common_metadata.created = datetime.datetime.utcnow()\n",
    "\n",
    "    ext = pystac.extensions.projection.ProjectionExtension.ext(\n",
    "        item, add_if_missing=True\n",
    "    )\n",
    "    ext.bbox = block.rio.bounds()  # these are provided in the crs of the data\n",
    "    ext.shape = tuple(v for k, v in block.sizes.items() if k in [\"y\", \"x\"])\n",
    "    ext.epsg = block.rio.crs.to_epsg()\n",
    "    ext.geometry = shapely.geometry.mapping(shapely.geometry.box(*ext.bbox))\n",
    "    ext.transform = list(block.rio.transform())[:6]\n",
    "    ext.add_to(item)\n",
    "\n",
    "    # add CoCliCo frontend properties to visualize it in the web portal\n",
    "    # TODO: This is just example. We first need to decide which properties frontend needs for COG visualization\n",
    "    coclico_ext = CoclicoExtension.ext(item, add_if_missing=True)\n",
    "    coclico_ext.item_key = item_id\n",
    "    coclico_ext.add_to(item)\n",
    "\n",
    "    # add more functions to describe the data at item level, for example the frontend properties to visualize it\n",
    "    ...\n",
    "\n",
    "    return item\n",
    "\n",
    "\n",
    "def create_asset(\n",
    "    item, asset_title, asset_href, nodata, resolution, data_type, nbytes=None\n",
    "):\n",
    "    asset = pystac.Asset(\n",
    "        href=asset_href,\n",
    "        media_type=pystac.MediaType.COG,\n",
    "        title=asset_title,\n",
    "        roles=[\"data\"],\n",
    "    )\n",
    "\n",
    "    item.add_asset(asset_title, asset)\n",
    "\n",
    "    pystac.extensions.file.FileExtension.ext(asset, add_if_missing=True)\n",
    "\n",
    "    if nbytes:\n",
    "        asset.extra_fields[\"file:size\"] = nbytes\n",
    "\n",
    "    raster.RasterExtension.ext(asset, add_if_missing=True).bands = [\n",
    "        raster.RasterBand.create(\n",
    "            nodata=nodata,\n",
    "            spatial_resolution=resolution,\n",
    "            data_type=data_type,  # e.g., raster.DataType.INT8\n",
    "        )\n",
    "    ]\n",
    "\n",
    "    eo.EOExtension.ext(asset, add_if_missing=True).bands = [\n",
    "        eo.Band.create(\n",
    "            name=asset_title,\n",
    "            # common_name=asset_title, # Iff in <eo#common-band-names>`\n",
    "            description=\"Coastal mask for this region.\",\n",
    "        )\n",
    "    ]\n",
    "    ...\n",
    "    return item"
   ]
  },
  {
   "cell_type": "markdown",
   "id": "b8e447a6-49e1-4eb2-9666-0e94c865db98",
   "metadata": {},
   "source": [
    "## Function to process one data partition"
   ]
  },
  {
   "cell_type": "code",
   "execution_count": 7,
   "id": "03aad3fa-b7aa-4931-8e37-fbe7e5512c87",
   "metadata": {
    "execution": {
     "iopub.execute_input": "2023-08-31T19:16:28.149746Z",
     "iopub.status.busy": "2023-08-31T19:16:28.149673Z",
     "iopub.status.idle": "2023-08-31T19:16:28.153849Z",
     "shell.execute_reply": "2023-08-31T19:16:28.153548Z",
     "shell.execute_reply.started": "2023-08-31T19:16:28.149738Z"
    },
    "tags": []
   },
   "outputs": [],
   "source": [
    "def process_block(\n",
    "    block: xr.DataArray,\n",
    "    data_type: raster.DataType,  # Make sure to have raster.DataType properly imported\n",
    "    resolution: int,\n",
    "    storage_prefix: str = \"\",\n",
    "    name_prefix: str = \"\",\n",
    "    include_band: str = \"\",\n",
    "    time_dim: str = \"\",\n",
    "    x_dim: str = \"x\",\n",
    "    y_dim: str = \"y\",\n",
    "    profile_options: Dict[str, Union[str, int]] = {},\n",
    "    storage_options: Dict[str, str] = {},\n",
    ") -> \"pystac.Item\":\n",
    "    \"\"\"\n",
    "    Process a data block, save it, and return a placeholder STAC item.\n",
    "\n",
    "    Args:\n",
    "    - block: The data block.\n",
    "    - storage_prefix: The storage prefix.\n",
    "    ... [other parameters]\n",
    "\n",
    "    Returns:\n",
    "\n",
    "    - pystac.Item: Placeholder STAC item.\n",
    "    \"\"\"\n",
    "\n",
    "    # Date when Lincke et al. sent Deltares this data\n",
    "    block = block.assign_coords(time=pd.Timestamp(2022, 2, 22).isoformat())\n",
    "    item_name = name_block(\n",
    "        block,\n",
    "        storage_prefix=\"\",\n",
    "        name_prefix=name_prefix,\n",
    "        include_band=None,\n",
    "        time_dim=time_dim,\n",
    "        x_dim=x_dim,\n",
    "        y_dim=y_dim,\n",
    "    )\n",
    "\n",
    "    item_id = pathlib.Path(item_name).stem\n",
    "    item = create_item(block, item_id=item_id)\n",
    "\n",
    "    for var in block:\n",
    "        da = block[var]\n",
    "        # it's more efficient to save the data as unsigned integer, so replace the -9999 nodata values by 0\n",
    "        da = (\n",
    "            da.where(da != -9999, 0)\n",
    "            .astype(\"uint8\")\n",
    "            .rio.write_nodata(0)\n",
    "            .rio.set_spatial_dims(x_dim=\"x\", y_dim=\"y\")\n",
    "        )\n",
    "\n",
    "        href = name_block(\n",
    "            da,\n",
    "            storage_prefix=storage_prefix,\n",
    "            name_prefix=name_prefix,\n",
    "            include_band=da.name,\n",
    "            time_dim=time_dim,\n",
    "            x_dim=x_dim,\n",
    "            y_dim=y_dim,\n",
    "        )\n",
    "        uri = to_uri_protocol(href, protocol=\"gs\")\n",
    "\n",
    "        # TODO: include this file checking\n",
    "        # if not file_exists(file, str(storage_destination), existing_blobs):\n",
    "        nbytes = write_block(da, uri, storage_options, profile_options)\n",
    "\n",
    "        item = create_asset(\n",
    "            item,\n",
    "            asset_title=da.name,\n",
    "            asset_href=href,\n",
    "            nodata=da.rio.nodata.item(),  # use item() as this converts np dtype to python dtype\n",
    "            resolution=resolution,\n",
    "            data_type=raster.DataType.UINT8,  # should be same as how data is written\n",
    "            nbytes=nbytes,\n",
    "        )\n",
    "\n",
    "    return item"
   ]
  },
  {
   "cell_type": "markdown",
   "id": "cc6fc671-f84e-438e-97ad-f6afbd7e1911",
   "metadata": {},
   "source": [
    "## Do the work"
   ]
  },
  {
   "cell_type": "code",
   "execution_count": 8,
   "id": "fd4c81ef-dc0e-436d-9c38-5539d19fb21e",
   "metadata": {
    "execution": {
     "iopub.execute_input": "2023-08-31T19:16:28.154441Z",
     "iopub.status.busy": "2023-08-31T19:16:28.154314Z",
     "iopub.status.idle": "2023-08-31T19:16:29.097193Z",
     "shell.execute_reply": "2023-08-31T19:16:29.096932Z",
     "shell.execute_reply.started": "2023-08-31T19:16:28.154432Z"
    },
    "tags": []
   },
   "outputs": [
    {
     "name": "stdout",
     "output_type": "stream",
     "text": [
      "Launching local client...\n"
     ]
    },
    {
     "data": {
      "text/html": [
       "<div>\n",
       "    <div style=\"width: 24px; height: 24px; background-color: #e1e1e1; border: 3px solid #9D9D9D; border-radius: 5px; position: absolute;\"> </div>\n",
       "    <div style=\"margin-left: 48px;\">\n",
       "        <h3 style=\"margin-bottom: 0px;\">Client</h3>\n",
       "        <p style=\"color: #9D9D9D; margin-bottom: 0px;\">Client-e28d742e-4832-11ee-bc2e-06e6b9359ffa</p>\n",
       "        <table style=\"width: 100%; text-align: left;\">\n",
       "\n",
       "        <tr>\n",
       "        \n",
       "            <td style=\"text-align: left;\"><strong>Connection method:</strong> Cluster object</td>\n",
       "            <td style=\"text-align: left;\"><strong>Cluster type:</strong> distributed.LocalCluster</td>\n",
       "        \n",
       "        </tr>\n",
       "\n",
       "        \n",
       "            <tr>\n",
       "                <td style=\"text-align: left;\">\n",
       "                    <strong>Dashboard: </strong> <a href=\"http://127.0.0.1:8787/status\" target=\"_blank\">http://127.0.0.1:8787/status</a>\n",
       "                </td>\n",
       "                <td style=\"text-align: left;\"></td>\n",
       "            </tr>\n",
       "        \n",
       "\n",
       "        </table>\n",
       "\n",
       "        \n",
       "\n",
       "        \n",
       "            <details>\n",
       "            <summary style=\"margin-bottom: 20px;\"><h3 style=\"display: inline;\">Cluster Info</h3></summary>\n",
       "            <div class=\"jp-RenderedHTMLCommon jp-RenderedHTML jp-mod-trusted jp-OutputArea-output\">\n",
       "    <div style=\"width: 24px; height: 24px; background-color: #e1e1e1; border: 3px solid #9D9D9D; border-radius: 5px; position: absolute;\">\n",
       "    </div>\n",
       "    <div style=\"margin-left: 48px;\">\n",
       "        <h3 style=\"margin-bottom: 0px; margin-top: 0px;\">LocalCluster</h3>\n",
       "        <p style=\"color: #9D9D9D; margin-bottom: 0px;\">490737bc</p>\n",
       "        <table style=\"width: 100%; text-align: left;\">\n",
       "            <tr>\n",
       "                <td style=\"text-align: left;\">\n",
       "                    <strong>Dashboard:</strong> <a href=\"http://127.0.0.1:8787/status\" target=\"_blank\">http://127.0.0.1:8787/status</a>\n",
       "                </td>\n",
       "                <td style=\"text-align: left;\">\n",
       "                    <strong>Workers:</strong> 6\n",
       "                </td>\n",
       "            </tr>\n",
       "            <tr>\n",
       "                <td style=\"text-align: left;\">\n",
       "                    <strong>Total threads:</strong> 6\n",
       "                </td>\n",
       "                <td style=\"text-align: left;\">\n",
       "                    <strong>Total memory:</strong> 64.00 GiB\n",
       "                </td>\n",
       "            </tr>\n",
       "            \n",
       "            <tr>\n",
       "    <td style=\"text-align: left;\"><strong>Status:</strong> running</td>\n",
       "    <td style=\"text-align: left;\"><strong>Using processes:</strong> True</td>\n",
       "</tr>\n",
       "\n",
       "            \n",
       "        </table>\n",
       "\n",
       "        <details>\n",
       "            <summary style=\"margin-bottom: 20px;\">\n",
       "                <h3 style=\"display: inline;\">Scheduler Info</h3>\n",
       "            </summary>\n",
       "\n",
       "            <div style=\"\">\n",
       "    <div>\n",
       "        <div style=\"width: 24px; height: 24px; background-color: #FFF7E5; border: 3px solid #FF6132; border-radius: 5px; position: absolute;\"> </div>\n",
       "        <div style=\"margin-left: 48px;\">\n",
       "            <h3 style=\"margin-bottom: 0px;\">Scheduler</h3>\n",
       "            <p style=\"color: #9D9D9D; margin-bottom: 0px;\">Scheduler-79ae9f6a-f467-48c6-8ba6-cc38baaed6a8</p>\n",
       "            <table style=\"width: 100%; text-align: left;\">\n",
       "                <tr>\n",
       "                    <td style=\"text-align: left;\">\n",
       "                        <strong>Comm:</strong> tcp://127.0.0.1:51298\n",
       "                    </td>\n",
       "                    <td style=\"text-align: left;\">\n",
       "                        <strong>Workers:</strong> 6\n",
       "                    </td>\n",
       "                </tr>\n",
       "                <tr>\n",
       "                    <td style=\"text-align: left;\">\n",
       "                        <strong>Dashboard:</strong> <a href=\"http://127.0.0.1:8787/status\" target=\"_blank\">http://127.0.0.1:8787/status</a>\n",
       "                    </td>\n",
       "                    <td style=\"text-align: left;\">\n",
       "                        <strong>Total threads:</strong> 6\n",
       "                    </td>\n",
       "                </tr>\n",
       "                <tr>\n",
       "                    <td style=\"text-align: left;\">\n",
       "                        <strong>Started:</strong> Just now\n",
       "                    </td>\n",
       "                    <td style=\"text-align: left;\">\n",
       "                        <strong>Total memory:</strong> 64.00 GiB\n",
       "                    </td>\n",
       "                </tr>\n",
       "            </table>\n",
       "        </div>\n",
       "    </div>\n",
       "\n",
       "    <details style=\"margin-left: 48px;\">\n",
       "        <summary style=\"margin-bottom: 20px;\">\n",
       "            <h3 style=\"display: inline;\">Workers</h3>\n",
       "        </summary>\n",
       "\n",
       "        \n",
       "        <div style=\"margin-bottom: 20px;\">\n",
       "            <div style=\"width: 24px; height: 24px; background-color: #DBF5FF; border: 3px solid #4CC9FF; border-radius: 5px; position: absolute;\"> </div>\n",
       "            <div style=\"margin-left: 48px;\">\n",
       "            <details>\n",
       "                <summary>\n",
       "                    <h4 style=\"margin-bottom: 0px; display: inline;\">Worker: 0</h4>\n",
       "                </summary>\n",
       "                <table style=\"width: 100%; text-align: left;\">\n",
       "                    <tr>\n",
       "                        <td style=\"text-align: left;\">\n",
       "                            <strong>Comm: </strong> tcp://127.0.0.1:51317\n",
       "                        </td>\n",
       "                        <td style=\"text-align: left;\">\n",
       "                            <strong>Total threads: </strong> 1\n",
       "                        </td>\n",
       "                    </tr>\n",
       "                    <tr>\n",
       "                        <td style=\"text-align: left;\">\n",
       "                            <strong>Dashboard: </strong> <a href=\"http://127.0.0.1:51320/status\" target=\"_blank\">http://127.0.0.1:51320/status</a>\n",
       "                        </td>\n",
       "                        <td style=\"text-align: left;\">\n",
       "                            <strong>Memory: </strong> 10.67 GiB\n",
       "                        </td>\n",
       "                    </tr>\n",
       "                    <tr>\n",
       "                        <td style=\"text-align: left;\">\n",
       "                            <strong>Nanny: </strong> tcp://127.0.0.1:51301\n",
       "                        </td>\n",
       "                        <td style=\"text-align: left;\"></td>\n",
       "                    </tr>\n",
       "                    <tr>\n",
       "                        <td colspan=\"2\" style=\"text-align: left;\">\n",
       "                            <strong>Local directory: </strong> /tmp/dask-scratch-space/worker-ol56an8x\n",
       "                        </td>\n",
       "                    </tr>\n",
       "\n",
       "                    \n",
       "\n",
       "                    \n",
       "\n",
       "                </table>\n",
       "            </details>\n",
       "            </div>\n",
       "        </div>\n",
       "        \n",
       "        <div style=\"margin-bottom: 20px;\">\n",
       "            <div style=\"width: 24px; height: 24px; background-color: #DBF5FF; border: 3px solid #4CC9FF; border-radius: 5px; position: absolute;\"> </div>\n",
       "            <div style=\"margin-left: 48px;\">\n",
       "            <details>\n",
       "                <summary>\n",
       "                    <h4 style=\"margin-bottom: 0px; display: inline;\">Worker: 1</h4>\n",
       "                </summary>\n",
       "                <table style=\"width: 100%; text-align: left;\">\n",
       "                    <tr>\n",
       "                        <td style=\"text-align: left;\">\n",
       "                            <strong>Comm: </strong> tcp://127.0.0.1:51313\n",
       "                        </td>\n",
       "                        <td style=\"text-align: left;\">\n",
       "                            <strong>Total threads: </strong> 1\n",
       "                        </td>\n",
       "                    </tr>\n",
       "                    <tr>\n",
       "                        <td style=\"text-align: left;\">\n",
       "                            <strong>Dashboard: </strong> <a href=\"http://127.0.0.1:51314/status\" target=\"_blank\">http://127.0.0.1:51314/status</a>\n",
       "                        </td>\n",
       "                        <td style=\"text-align: left;\">\n",
       "                            <strong>Memory: </strong> 10.67 GiB\n",
       "                        </td>\n",
       "                    </tr>\n",
       "                    <tr>\n",
       "                        <td style=\"text-align: left;\">\n",
       "                            <strong>Nanny: </strong> tcp://127.0.0.1:51302\n",
       "                        </td>\n",
       "                        <td style=\"text-align: left;\"></td>\n",
       "                    </tr>\n",
       "                    <tr>\n",
       "                        <td colspan=\"2\" style=\"text-align: left;\">\n",
       "                            <strong>Local directory: </strong> /tmp/dask-scratch-space/worker-tn8ddow0\n",
       "                        </td>\n",
       "                    </tr>\n",
       "\n",
       "                    \n",
       "\n",
       "                    \n",
       "\n",
       "                </table>\n",
       "            </details>\n",
       "            </div>\n",
       "        </div>\n",
       "        \n",
       "        <div style=\"margin-bottom: 20px;\">\n",
       "            <div style=\"width: 24px; height: 24px; background-color: #DBF5FF; border: 3px solid #4CC9FF; border-radius: 5px; position: absolute;\"> </div>\n",
       "            <div style=\"margin-left: 48px;\">\n",
       "            <details>\n",
       "                <summary>\n",
       "                    <h4 style=\"margin-bottom: 0px; display: inline;\">Worker: 2</h4>\n",
       "                </summary>\n",
       "                <table style=\"width: 100%; text-align: left;\">\n",
       "                    <tr>\n",
       "                        <td style=\"text-align: left;\">\n",
       "                            <strong>Comm: </strong> tcp://127.0.0.1:51322\n",
       "                        </td>\n",
       "                        <td style=\"text-align: left;\">\n",
       "                            <strong>Total threads: </strong> 1\n",
       "                        </td>\n",
       "                    </tr>\n",
       "                    <tr>\n",
       "                        <td style=\"text-align: left;\">\n",
       "                            <strong>Dashboard: </strong> <a href=\"http://127.0.0.1:51323/status\" target=\"_blank\">http://127.0.0.1:51323/status</a>\n",
       "                        </td>\n",
       "                        <td style=\"text-align: left;\">\n",
       "                            <strong>Memory: </strong> 10.67 GiB\n",
       "                        </td>\n",
       "                    </tr>\n",
       "                    <tr>\n",
       "                        <td style=\"text-align: left;\">\n",
       "                            <strong>Nanny: </strong> tcp://127.0.0.1:51303\n",
       "                        </td>\n",
       "                        <td style=\"text-align: left;\"></td>\n",
       "                    </tr>\n",
       "                    <tr>\n",
       "                        <td colspan=\"2\" style=\"text-align: left;\">\n",
       "                            <strong>Local directory: </strong> /tmp/dask-scratch-space/worker-yy270cqx\n",
       "                        </td>\n",
       "                    </tr>\n",
       "\n",
       "                    \n",
       "\n",
       "                    \n",
       "\n",
       "                </table>\n",
       "            </details>\n",
       "            </div>\n",
       "        </div>\n",
       "        \n",
       "        <div style=\"margin-bottom: 20px;\">\n",
       "            <div style=\"width: 24px; height: 24px; background-color: #DBF5FF; border: 3px solid #4CC9FF; border-radius: 5px; position: absolute;\"> </div>\n",
       "            <div style=\"margin-left: 48px;\">\n",
       "            <details>\n",
       "                <summary>\n",
       "                    <h4 style=\"margin-bottom: 0px; display: inline;\">Worker: 3</h4>\n",
       "                </summary>\n",
       "                <table style=\"width: 100%; text-align: left;\">\n",
       "                    <tr>\n",
       "                        <td style=\"text-align: left;\">\n",
       "                            <strong>Comm: </strong> tcp://127.0.0.1:51316\n",
       "                        </td>\n",
       "                        <td style=\"text-align: left;\">\n",
       "                            <strong>Total threads: </strong> 1\n",
       "                        </td>\n",
       "                    </tr>\n",
       "                    <tr>\n",
       "                        <td style=\"text-align: left;\">\n",
       "                            <strong>Dashboard: </strong> <a href=\"http://127.0.0.1:51318/status\" target=\"_blank\">http://127.0.0.1:51318/status</a>\n",
       "                        </td>\n",
       "                        <td style=\"text-align: left;\">\n",
       "                            <strong>Memory: </strong> 10.67 GiB\n",
       "                        </td>\n",
       "                    </tr>\n",
       "                    <tr>\n",
       "                        <td style=\"text-align: left;\">\n",
       "                            <strong>Nanny: </strong> tcp://127.0.0.1:51304\n",
       "                        </td>\n",
       "                        <td style=\"text-align: left;\"></td>\n",
       "                    </tr>\n",
       "                    <tr>\n",
       "                        <td colspan=\"2\" style=\"text-align: left;\">\n",
       "                            <strong>Local directory: </strong> /tmp/dask-scratch-space/worker-5me_iawl\n",
       "                        </td>\n",
       "                    </tr>\n",
       "\n",
       "                    \n",
       "\n",
       "                    \n",
       "\n",
       "                </table>\n",
       "            </details>\n",
       "            </div>\n",
       "        </div>\n",
       "        \n",
       "        <div style=\"margin-bottom: 20px;\">\n",
       "            <div style=\"width: 24px; height: 24px; background-color: #DBF5FF; border: 3px solid #4CC9FF; border-radius: 5px; position: absolute;\"> </div>\n",
       "            <div style=\"margin-left: 48px;\">\n",
       "            <details>\n",
       "                <summary>\n",
       "                    <h4 style=\"margin-bottom: 0px; display: inline;\">Worker: 4</h4>\n",
       "                </summary>\n",
       "                <table style=\"width: 100%; text-align: left;\">\n",
       "                    <tr>\n",
       "                        <td style=\"text-align: left;\">\n",
       "                            <strong>Comm: </strong> tcp://127.0.0.1:51325\n",
       "                        </td>\n",
       "                        <td style=\"text-align: left;\">\n",
       "                            <strong>Total threads: </strong> 1\n",
       "                        </td>\n",
       "                    </tr>\n",
       "                    <tr>\n",
       "                        <td style=\"text-align: left;\">\n",
       "                            <strong>Dashboard: </strong> <a href=\"http://127.0.0.1:51326/status\" target=\"_blank\">http://127.0.0.1:51326/status</a>\n",
       "                        </td>\n",
       "                        <td style=\"text-align: left;\">\n",
       "                            <strong>Memory: </strong> 10.67 GiB\n",
       "                        </td>\n",
       "                    </tr>\n",
       "                    <tr>\n",
       "                        <td style=\"text-align: left;\">\n",
       "                            <strong>Nanny: </strong> tcp://127.0.0.1:51305\n",
       "                        </td>\n",
       "                        <td style=\"text-align: left;\"></td>\n",
       "                    </tr>\n",
       "                    <tr>\n",
       "                        <td colspan=\"2\" style=\"text-align: left;\">\n",
       "                            <strong>Local directory: </strong> /tmp/dask-scratch-space/worker-awizzhma\n",
       "                        </td>\n",
       "                    </tr>\n",
       "\n",
       "                    \n",
       "\n",
       "                    \n",
       "\n",
       "                </table>\n",
       "            </details>\n",
       "            </div>\n",
       "        </div>\n",
       "        \n",
       "        <div style=\"margin-bottom: 20px;\">\n",
       "            <div style=\"width: 24px; height: 24px; background-color: #DBF5FF; border: 3px solid #4CC9FF; border-radius: 5px; position: absolute;\"> </div>\n",
       "            <div style=\"margin-left: 48px;\">\n",
       "            <details>\n",
       "                <summary>\n",
       "                    <h4 style=\"margin-bottom: 0px; display: inline;\">Worker: 5</h4>\n",
       "                </summary>\n",
       "                <table style=\"width: 100%; text-align: left;\">\n",
       "                    <tr>\n",
       "                        <td style=\"text-align: left;\">\n",
       "                            <strong>Comm: </strong> tcp://127.0.0.1:51328\n",
       "                        </td>\n",
       "                        <td style=\"text-align: left;\">\n",
       "                            <strong>Total threads: </strong> 1\n",
       "                        </td>\n",
       "                    </tr>\n",
       "                    <tr>\n",
       "                        <td style=\"text-align: left;\">\n",
       "                            <strong>Dashboard: </strong> <a href=\"http://127.0.0.1:51329/status\" target=\"_blank\">http://127.0.0.1:51329/status</a>\n",
       "                        </td>\n",
       "                        <td style=\"text-align: left;\">\n",
       "                            <strong>Memory: </strong> 10.67 GiB\n",
       "                        </td>\n",
       "                    </tr>\n",
       "                    <tr>\n",
       "                        <td style=\"text-align: left;\">\n",
       "                            <strong>Nanny: </strong> tcp://127.0.0.1:51306\n",
       "                        </td>\n",
       "                        <td style=\"text-align: left;\"></td>\n",
       "                    </tr>\n",
       "                    <tr>\n",
       "                        <td colspan=\"2\" style=\"text-align: left;\">\n",
       "                            <strong>Local directory: </strong> /tmp/dask-scratch-space/worker-7qm58aes\n",
       "                        </td>\n",
       "                    </tr>\n",
       "\n",
       "                    \n",
       "\n",
       "                    \n",
       "\n",
       "                </table>\n",
       "            </details>\n",
       "            </div>\n",
       "        </div>\n",
       "        \n",
       "\n",
       "    </details>\n",
       "</div>\n",
       "\n",
       "        </details>\n",
       "    </div>\n",
       "</div>\n",
       "            </details>\n",
       "        \n",
       "\n",
       "    </div>\n",
       "</div>"
      ],
      "text/plain": [
       "<Client: 'tcp://127.0.0.1:51298' processes=6 threads=6, memory=64.00 GiB>"
      ]
     },
     "execution_count": 8,
     "metadata": {},
     "output_type": "execute_result"
    }
   ],
   "source": [
    "from dask.distributed import Client\n",
    "\n",
    "print(\"Launching local client...\")\n",
    "client = Client(\n",
    "    threads_per_worker=1, processes=True, local_directory=\"/tmp\", n_workers=6\n",
    ")\n",
    "client"
   ]
  },
  {
   "cell_type": "code",
   "execution_count": null,
   "id": "bc5c5801-f79d-495b-bc86-5c755037b1ce",
   "metadata": {
    "execution": {
     "iopub.execute_input": "2023-08-31T19:16:29.099612Z",
     "iopub.status.busy": "2023-08-31T19:16:29.099531Z"
    },
    "tags": []
   },
   "outputs": [
    {
     "name": "stderr",
     "output_type": "stream",
     "text": [
      "2023-08-31 21:17:02,658 - distributed.worker.memory - WARNING - Unmanaged memory use is high. This may indicate a memory leak or the memory may not be released to the OS; see https://distributed.dask.org/en/latest/worker-memory.html#memory-not-released-back-to-the-os for more information. -- Unmanaged memory: 6.53 GiB -- Worker memory limit: 10.67 GiB\n",
      "2023-08-31 21:17:08,974 - distributed.worker.memory - WARNING - Unmanaged memory use is high. This may indicate a memory leak or the memory may not be released to the OS; see https://distributed.dask.org/en/latest/worker-memory.html#memory-not-released-back-to-the-os for more information. -- Unmanaged memory: 7.48 GiB -- Worker memory limit: 10.67 GiB\n",
      "2023-08-31 21:17:18,264 - distributed.worker.memory - WARNING - Unmanaged memory use is high. This may indicate a memory leak or the memory may not be released to the OS; see https://distributed.dask.org/en/latest/worker-memory.html#memory-not-released-back-to-the-os for more information. -- Unmanaged memory: 7.83 GiB -- Worker memory limit: 10.67 GiB\n",
      "2023-08-31 21:17:20,901 - distributed.worker.memory - WARNING - Unmanaged memory use is high. This may indicate a memory leak or the memory may not be released to the OS; see https://distributed.dask.org/en/latest/worker-memory.html#memory-not-released-back-to-the-os for more information. -- Unmanaged memory: 7.56 GiB -- Worker memory limit: 10.67 GiB\n",
      "2023-08-31 21:17:26,048 - distributed.worker.memory - WARNING - Unmanaged memory use is high. This may indicate a memory leak or the memory may not be released to the OS; see https://distributed.dask.org/en/latest/worker-memory.html#memory-not-released-back-to-the-os for more information. -- Unmanaged memory: 6.89 GiB -- Worker memory limit: 10.67 GiB\n",
      "2023-08-31 21:17:27,267 - distributed.worker.memory - WARNING - Unmanaged memory use is high. This may indicate a memory leak or the memory may not be released to the OS; see https://distributed.dask.org/en/latest/worker-memory.html#memory-not-released-back-to-the-os for more information. -- Unmanaged memory: 7.47 GiB -- Worker memory limit: 10.67 GiB\n",
      "2023-08-31 21:17:29,396 - distributed.worker.memory - WARNING - Unmanaged memory use is high. This may indicate a memory leak or the memory may not be released to the OS; see https://distributed.dask.org/en/latest/worker-memory.html#memory-not-released-back-to-the-os for more information. -- Unmanaged memory: 6.97 GiB -- Worker memory limit: 10.67 GiB\n",
      "2023-08-31 21:17:30,869 - distributed.worker.memory - WARNING - Unmanaged memory use is high. This may indicate a memory leak or the memory may not be released to the OS; see https://distributed.dask.org/en/latest/worker-memory.html#memory-not-released-back-to-the-os for more information. -- Unmanaged memory: 7.53 GiB -- Worker memory limit: 10.67 GiB\n",
      "2023-08-31 21:17:32,660 - distributed.worker.memory - WARNING - Unmanaged memory use is high. This may indicate a memory leak or the memory may not be released to the OS; see https://distributed.dask.org/en/latest/worker-memory.html#memory-not-released-back-to-the-os for more information. -- Unmanaged memory: 6.50 GiB -- Worker memory limit: 10.67 GiB\n",
      "2023-08-31 21:17:36,070 - distributed.worker.memory - WARNING - Unmanaged memory use is high. This may indicate a memory leak or the memory may not be released to the OS; see https://distributed.dask.org/en/latest/worker-memory.html#memory-not-released-back-to-the-os for more information. -- Unmanaged memory: 8.02 GiB -- Worker memory limit: 10.67 GiB\n",
      "2023-08-31 21:17:37,365 - distributed.worker.memory - WARNING - Unmanaged memory use is high. This may indicate a memory leak or the memory may not be released to the OS; see https://distributed.dask.org/en/latest/worker-memory.html#memory-not-released-back-to-the-os for more information. -- Unmanaged memory: 7.52 GiB -- Worker memory limit: 10.67 GiB\n",
      "2023-08-31 21:17:38,999 - distributed.worker.memory - WARNING - Worker is at 84% memory usage. Pausing worker.  Process memory: 9.01 GiB -- Worker memory limit: 10.67 GiB\n",
      "2023-08-31 21:17:39,209 - distributed.worker.memory - WARNING - Worker is at 56% memory usage. Resuming worker. Process memory: 6.05 GiB -- Worker memory limit: 10.67 GiB\n",
      "2023-08-31 21:17:39,472 - distributed.worker.memory - WARNING - Unmanaged memory use is high. This may indicate a memory leak or the memory may not be released to the OS; see https://distributed.dask.org/en/latest/worker-memory.html#memory-not-released-back-to-the-os for more information. -- Unmanaged memory: 7.52 GiB -- Worker memory limit: 10.67 GiB\n",
      "2023-08-31 21:17:43,328 - distributed.worker.memory - WARNING - Unmanaged memory use is high. This may indicate a memory leak or the memory may not be released to the OS; see https://distributed.dask.org/en/latest/worker-memory.html#memory-not-released-back-to-the-os for more information. -- Unmanaged memory: 6.50 GiB -- Worker memory limit: 10.67 GiB\n",
      "2023-08-31 21:17:44,074 - distributed.worker.memory - WARNING - Unmanaged memory use is high. This may indicate a memory leak or the memory may not be released to the OS; see https://distributed.dask.org/en/latest/worker-memory.html#memory-not-released-back-to-the-os for more information. -- Unmanaged memory: 7.85 GiB -- Worker memory limit: 10.67 GiB\n",
      "2023-08-31 21:17:46,669 - distributed.worker.memory - WARNING - Unmanaged memory use is high. This may indicate a memory leak or the memory may not be released to the OS; see https://distributed.dask.org/en/latest/worker-memory.html#memory-not-released-back-to-the-os for more information. -- Unmanaged memory: 7.47 GiB -- Worker memory limit: 10.67 GiB\n",
      "2023-08-31 21:17:47,589 - distributed.worker.memory - WARNING - Worker is at 82% memory usage. Pausing worker.  Process memory: 8.81 GiB -- Worker memory limit: 10.67 GiB\n",
      "2023-08-31 21:17:47,817 - distributed.worker.memory - WARNING - Worker is at 52% memory usage. Resuming worker. Process memory: 5.61 GiB -- Worker memory limit: 10.67 GiB\n",
      "2023-08-31 21:17:48,866 - distributed.worker.memory - WARNING - Unmanaged memory use is high. This may indicate a memory leak or the memory may not be released to the OS; see https://distributed.dask.org/en/latest/worker-memory.html#memory-not-released-back-to-the-os for more information. -- Unmanaged memory: 7.53 GiB -- Worker memory limit: 10.67 GiB\n",
      "2023-08-31 21:17:50,071 - distributed.worker.memory - WARNING - Worker is at 81% memory usage. Pausing worker.  Process memory: 8.65 GiB -- Worker memory limit: 10.67 GiB\n",
      "2023-08-31 21:17:50,165 - distributed.worker.memory - WARNING - Worker is at 66% memory usage. Resuming worker. Process memory: 7.07 GiB -- Worker memory limit: 10.67 GiB\n",
      "2023-08-31 21:17:55,823 - distributed.worker.memory - WARNING - Unmanaged memory use is high. This may indicate a memory leak or the memory may not be released to the OS; see https://distributed.dask.org/en/latest/worker-memory.html#memory-not-released-back-to-the-os for more information. -- Unmanaged memory: 8.79 GiB -- Worker memory limit: 10.67 GiB\n",
      "2023-08-31 21:17:55,861 - distributed.worker.memory - WARNING - Worker is at 83% memory usage. Pausing worker.  Process memory: 8.95 GiB -- Worker memory limit: 10.67 GiB\n",
      "2023-08-31 21:17:56,061 - distributed.worker.memory - WARNING - Worker is at 77% memory usage. Resuming worker. Process memory: 8.31 GiB -- Worker memory limit: 10.67 GiB\n",
      "2023-08-31 21:17:56,261 - distributed.worker.memory - WARNING - Worker is at 80% memory usage. Pausing worker.  Process memory: 8.56 GiB -- Worker memory limit: 10.67 GiB\n",
      "2023-08-31 21:17:56,272 - distributed.worker.memory - WARNING - Unmanaged memory use is high. This may indicate a memory leak or the memory may not be released to the OS; see https://distributed.dask.org/en/latest/worker-memory.html#memory-not-released-back-to-the-os for more information. -- Unmanaged memory: 7.48 GiB -- Worker memory limit: 10.67 GiB\n",
      "2023-08-31 21:18:02,571 - distributed.worker.memory - WARNING - Unmanaged memory use is high. This may indicate a memory leak or the memory may not be released to the OS; see https://distributed.dask.org/en/latest/worker-memory.html#memory-not-released-back-to-the-os for more information. -- Unmanaged memory: 7.71 GiB -- Worker memory limit: 10.67 GiB\n",
      "2023-08-31 21:18:02,861 - distributed.worker.memory - WARNING - Worker is at 78% memory usage. Resuming worker. Process memory: 8.40 GiB -- Worker memory limit: 10.67 GiB\n",
      "2023-08-31 21:18:03,810 - distributed.worker.memory - WARNING - Worker is at 89% memory usage. Pausing worker.  Process memory: 9.57 GiB -- Worker memory limit: 10.67 GiB\n",
      "2023-08-31 21:18:03,863 - distributed.worker.memory - WARNING - Worker is at 70% memory usage. Resuming worker. Process memory: 7.57 GiB -- Worker memory limit: 10.67 GiB\n",
      "2023-08-31 21:18:04,117 - distributed.worker.memory - WARNING - Unmanaged memory use is high. This may indicate a memory leak or the memory may not be released to the OS; see https://distributed.dask.org/en/latest/worker-memory.html#memory-not-released-back-to-the-os for more information. -- Unmanaged memory: 7.57 GiB -- Worker memory limit: 10.67 GiB\n",
      "2023-08-31 21:18:04,469 - distributed.worker.memory - WARNING - Worker is at 80% memory usage. Pausing worker.  Process memory: 8.55 GiB -- Worker memory limit: 10.67 GiB\n",
      "2023-08-31 21:18:05,498 - distributed.worker.memory - WARNING - Unmanaged memory use is high. This may indicate a memory leak or the memory may not be released to the OS; see https://distributed.dask.org/en/latest/worker-memory.html#memory-not-released-back-to-the-os for more information. -- Unmanaged memory: 6.60 GiB -- Worker memory limit: 10.67 GiB\n",
      "2023-08-31 21:18:06,660 - distributed.worker.memory - WARNING - Worker is at 81% memory usage. Pausing worker.  Process memory: 8.72 GiB -- Worker memory limit: 10.67 GiB\n",
      "2023-08-31 21:18:06,668 - distributed.worker.memory - WARNING - Worker is at 68% memory usage. Resuming worker. Process memory: 7.28 GiB -- Worker memory limit: 10.67 GiB\n",
      "2023-08-31 21:18:10,088 - distributed.worker.memory - WARNING - Worker is at 71% memory usage. Resuming worker. Process memory: 7.62 GiB -- Worker memory limit: 10.67 GiB\n",
      "2023-08-31 21:18:10,141 - distributed.worker.memory - WARNING - Unmanaged memory use is high. This may indicate a memory leak or the memory may not be released to the OS; see https://distributed.dask.org/en/latest/worker-memory.html#memory-not-released-back-to-the-os for more information. -- Unmanaged memory: 6.78 GiB -- Worker memory limit: 10.67 GiB\n",
      "2023-08-31 21:18:10,162 - distributed.worker.memory - WARNING - Unmanaged memory use is high. This may indicate a memory leak or the memory may not be released to the OS; see https://distributed.dask.org/en/latest/worker-memory.html#memory-not-released-back-to-the-os for more information. -- Unmanaged memory: 7.47 GiB -- Worker memory limit: 10.67 GiB\n",
      "2023-08-31 21:18:11,372 - distributed.worker.memory - WARNING - Worker is at 84% memory usage. Pausing worker.  Process memory: 9.02 GiB -- Worker memory limit: 10.67 GiB\n",
      "2023-08-31 21:18:11,564 - distributed.worker.memory - WARNING - Worker is at 66% memory usage. Resuming worker. Process memory: 7.13 GiB -- Worker memory limit: 10.67 GiB\n",
      "2023-08-31 21:18:13,272 - distributed.worker.memory - WARNING - Unmanaged memory use is high. This may indicate a memory leak or the memory may not be released to the OS; see https://distributed.dask.org/en/latest/worker-memory.html#memory-not-released-back-to-the-os for more information. -- Unmanaged memory: 7.98 GiB -- Worker memory limit: 10.67 GiB\n",
      "2023-08-31 21:18:17,063 - distributed.worker.memory - WARNING - Unmanaged memory use is high. This may indicate a memory leak or the memory may not be released to the OS; see https://distributed.dask.org/en/latest/worker-memory.html#memory-not-released-back-to-the-os for more information. -- Unmanaged memory: 6.51 GiB -- Worker memory limit: 10.67 GiB\n",
      "2023-08-31 21:18:18,631 - distributed.worker.memory - WARNING - Worker is at 83% memory usage. Pausing worker.  Process memory: 8.92 GiB -- Worker memory limit: 10.67 GiB\n",
      "2023-08-31 21:18:18,897 - distributed.worker.memory - WARNING - Worker is at 64% memory usage. Resuming worker. Process memory: 6.92 GiB -- Worker memory limit: 10.67 GiB\n",
      "2023-08-31 21:18:18,897 - distributed.worker.memory - WARNING - Unmanaged memory use is high. This may indicate a memory leak or the memory may not be released to the OS; see https://distributed.dask.org/en/latest/worker-memory.html#memory-not-released-back-to-the-os for more information. -- Unmanaged memory: 6.92 GiB -- Worker memory limit: 10.67 GiB\n",
      "2023-08-31 21:18:19,457 - distributed.worker.memory - WARNING - Worker is at 80% memory usage. Pausing worker.  Process memory: 8.60 GiB -- Worker memory limit: 10.67 GiB\n",
      "2023-08-31 21:18:19,904 - distributed.worker.memory - WARNING - Worker is at 52% memory usage. Resuming worker. Process memory: 5.59 GiB -- Worker memory limit: 10.67 GiB\n",
      "2023-08-31 21:18:20,849 - distributed.worker.memory - WARNING - Unmanaged memory use is high. This may indicate a memory leak or the memory may not be released to the OS; see https://distributed.dask.org/en/latest/worker-memory.html#memory-not-released-back-to-the-os for more information. -- Unmanaged memory: 7.08 GiB -- Worker memory limit: 10.67 GiB\n",
      "2023-08-31 21:18:22,141 - distributed.worker.memory - WARNING - Unmanaged memory use is high. This may indicate a memory leak or the memory may not be released to the OS; see https://distributed.dask.org/en/latest/worker-memory.html#memory-not-released-back-to-the-os for more information. -- Unmanaged memory: 6.51 GiB -- Worker memory limit: 10.67 GiB\n",
      "2023-08-31 21:18:23,371 - distributed.worker.memory - WARNING - Unmanaged memory use is high. This may indicate a memory leak or the memory may not be released to the OS; see https://distributed.dask.org/en/latest/worker-memory.html#memory-not-released-back-to-the-os for more information. -- Unmanaged memory: 7.88 GiB -- Worker memory limit: 10.67 GiB\n",
      "2023-08-31 21:18:23,760 - distributed.worker.memory - WARNING - Unmanaged memory use is high. This may indicate a memory leak or the memory may not be released to the OS; see https://distributed.dask.org/en/latest/worker-memory.html#memory-not-released-back-to-the-os for more information. -- Unmanaged memory: 8.36 GiB -- Worker memory limit: 10.67 GiB\n",
      "2023-08-31 21:18:23,919 - distributed.worker.memory - WARNING - Worker is at 83% memory usage. Pausing worker.  Process memory: 8.90 GiB -- Worker memory limit: 10.67 GiB\n",
      "2023-08-31 21:18:23,964 - distributed.worker.memory - WARNING - Worker is at 75% memory usage. Resuming worker. Process memory: 8.05 GiB -- Worker memory limit: 10.67 GiB\n",
      "2023-08-31 21:18:25,404 - distributed.worker.memory - WARNING - Worker is at 84% memory usage. Pausing worker.  Process memory: 9.00 GiB -- Worker memory limit: 10.67 GiB\n",
      "2023-08-31 21:18:25,548 - distributed.worker.memory - WARNING - Worker is at 78% memory usage. Resuming worker. Process memory: 8.37 GiB -- Worker memory limit: 10.67 GiB\n",
      "2023-08-31 21:18:25,734 - distributed.worker.memory - WARNING - Worker is at 81% memory usage. Pausing worker.  Process memory: 8.69 GiB -- Worker memory limit: 10.67 GiB\n",
      "2023-08-31 21:18:26,071 - distributed.worker.memory - WARNING - Worker is at 73% memory usage. Resuming worker. Process memory: 7.86 GiB -- Worker memory limit: 10.67 GiB\n",
      "2023-08-31 21:18:28,966 - distributed.worker.memory - WARNING - Unmanaged memory use is high. This may indicate a memory leak or the memory may not be released to the OS; see https://distributed.dask.org/en/latest/worker-memory.html#memory-not-released-back-to-the-os for more information. -- Unmanaged memory: 8.23 GiB -- Worker memory limit: 10.67 GiB\n",
      "2023-08-31 21:18:29,653 - distributed.worker.memory - WARNING - Worker is at 80% memory usage. Pausing worker.  Process memory: 8.59 GiB -- Worker memory limit: 10.67 GiB\n",
      "2023-08-31 21:18:29,661 - distributed.worker.memory - WARNING - Worker is at 74% memory usage. Resuming worker. Process memory: 7.98 GiB -- Worker memory limit: 10.67 GiB\n",
      "2023-08-31 21:18:30,764 - distributed.worker.memory - WARNING - Unmanaged memory use is high. This may indicate a memory leak or the memory may not be released to the OS; see https://distributed.dask.org/en/latest/worker-memory.html#memory-not-released-back-to-the-os for more information. -- Unmanaged memory: 6.60 GiB -- Worker memory limit: 10.67 GiB\n",
      "2023-08-31 21:18:31,366 - distributed.worker.memory - WARNING - Worker is at 80% memory usage. Pausing worker.  Process memory: 8.55 GiB -- Worker memory limit: 10.67 GiB\n",
      "2023-08-31 21:18:32,751 - distributed.worker.memory - WARNING - Worker is at 73% memory usage. Resuming worker. Process memory: 7.84 GiB -- Worker memory limit: 10.67 GiB\n",
      "2023-08-31 21:18:33,979 - distributed.worker.memory - WARNING - Unmanaged memory use is high. This may indicate a memory leak or the memory may not be released to the OS; see https://distributed.dask.org/en/latest/worker-memory.html#memory-not-released-back-to-the-os for more information. -- Unmanaged memory: 7.51 GiB -- Worker memory limit: 10.67 GiB\n"
     ]
    },
    {
     "name": "stdout",
     "output_type": "stream",
     "text": [
      "Blob already exists and overwrite is set to False.\n"
     ]
    },
    {
     "name": "stderr",
     "output_type": "stream",
     "text": [
      "2023-08-31 21:18:34,453 - distributed.worker.memory - WARNING - Unmanaged memory use is high. This may indicate a memory leak or the memory may not be released to the OS; see https://distributed.dask.org/en/latest/worker-memory.html#memory-not-released-back-to-the-os for more information. -- Unmanaged memory: 6.98 GiB -- Worker memory limit: 10.67 GiB\n",
      "2023-08-31 21:18:36,539 - distributed.worker.memory - WARNING - Worker is at 80% memory usage. Pausing worker.  Process memory: 8.54 GiB -- Worker memory limit: 10.67 GiB\n",
      "2023-08-31 21:18:36,565 - distributed.worker.memory - WARNING - Worker is at 70% memory usage. Resuming worker. Process memory: 7.55 GiB -- Worker memory limit: 10.67 GiB\n",
      "2023-08-31 21:18:37,722 - distributed.worker.memory - WARNING - Worker is at 82% memory usage. Pausing worker.  Process memory: 8.78 GiB -- Worker memory limit: 10.67 GiB\n",
      "2023-08-31 21:18:37,784 - distributed.worker.memory - WARNING - Worker is at 64% memory usage. Resuming worker. Process memory: 6.84 GiB -- Worker memory limit: 10.67 GiB\n",
      "2023-08-31 21:18:38,966 - distributed.worker.memory - WARNING - Unmanaged memory use is high. This may indicate a memory leak or the memory may not be released to the OS; see https://distributed.dask.org/en/latest/worker-memory.html#memory-not-released-back-to-the-os for more information. -- Unmanaged memory: 7.86 GiB -- Worker memory limit: 10.67 GiB\n",
      "2023-08-31 21:18:40,660 - distributed.worker.memory - WARNING - Unmanaged memory use is high. This may indicate a memory leak or the memory may not be released to the OS; see https://distributed.dask.org/en/latest/worker-memory.html#memory-not-released-back-to-the-os for more information. -- Unmanaged memory: 7.73 GiB -- Worker memory limit: 10.67 GiB\n",
      "2023-08-31 21:18:40,772 - distributed.worker.memory - WARNING - Unmanaged memory use is high. This may indicate a memory leak or the memory may not be released to the OS; see https://distributed.dask.org/en/latest/worker-memory.html#memory-not-released-back-to-the-os for more information. -- Unmanaged memory: 8.21 GiB -- Worker memory limit: 10.67 GiB\n",
      "2023-08-31 21:18:41,003 - distributed.worker.memory - WARNING - Worker is at 82% memory usage. Pausing worker.  Process memory: 8.79 GiB -- Worker memory limit: 10.67 GiB\n",
      "2023-08-31 21:18:41,072 - distributed.worker.memory - WARNING - Worker is at 74% memory usage. Resuming worker. Process memory: 7.90 GiB -- Worker memory limit: 10.67 GiB\n",
      "2023-08-31 21:18:44,469 - distributed.worker.memory - WARNING - Unmanaged memory use is high. This may indicate a memory leak or the memory may not be released to the OS; see https://distributed.dask.org/en/latest/worker-memory.html#memory-not-released-back-to-the-os for more information. -- Unmanaged memory: 8.01 GiB -- Worker memory limit: 10.67 GiB\n",
      "2023-08-31 21:18:44,769 - distributed.worker.memory - WARNING - Worker is at 80% memory usage. Pausing worker.  Process memory: 8.56 GiB -- Worker memory limit: 10.67 GiB\n",
      "2023-08-31 21:18:44,869 - distributed.worker.memory - WARNING - Worker is at 61% memory usage. Resuming worker. Process memory: 6.58 GiB -- Worker memory limit: 10.67 GiB\n",
      "2023-08-31 21:18:46,862 - distributed.worker.memory - WARNING - Unmanaged memory use is high. This may indicate a memory leak or the memory may not be released to the OS; see https://distributed.dask.org/en/latest/worker-memory.html#memory-not-released-back-to-the-os for more information. -- Unmanaged memory: 7.48 GiB -- Worker memory limit: 10.67 GiB\n",
      "2023-08-31 21:18:48,434 - distributed.worker.memory - WARNING - Unmanaged memory use is high. This may indicate a memory leak or the memory may not be released to the OS; see https://distributed.dask.org/en/latest/worker-memory.html#memory-not-released-back-to-the-os for more information. -- Unmanaged memory: 8.88 GiB -- Worker memory limit: 10.67 GiB\n",
      "2023-08-31 21:18:48,553 - distributed.worker.memory - WARNING - Worker is at 84% memory usage. Pausing worker.  Process memory: 9.05 GiB -- Worker memory limit: 10.67 GiB\n",
      "2023-08-31 21:18:48,570 - distributed.worker.memory - WARNING - Worker is at 77% memory usage. Resuming worker. Process memory: 8.32 GiB -- Worker memory limit: 10.67 GiB\n",
      "2023-08-31 21:18:50,868 - distributed.worker.memory - WARNING - Unmanaged memory use is high. This may indicate a memory leak or the memory may not be released to the OS; see https://distributed.dask.org/en/latest/worker-memory.html#memory-not-released-back-to-the-os for more information. -- Unmanaged memory: 8.16 GiB -- Worker memory limit: 10.67 GiB\n",
      "2023-08-31 21:18:51,284 - distributed.worker.memory - WARNING - Worker is at 80% memory usage. Pausing worker.  Process memory: 8.59 GiB -- Worker memory limit: 10.67 GiB\n",
      "2023-08-31 21:18:51,423 - distributed.worker.memory - WARNING - Worker is at 63% memory usage. Resuming worker. Process memory: 6.72 GiB -- Worker memory limit: 10.67 GiB\n",
      "2023-08-31 21:18:51,472 - distributed.worker.memory - WARNING - Unmanaged memory use is high. This may indicate a memory leak or the memory may not be released to the OS; see https://distributed.dask.org/en/latest/worker-memory.html#memory-not-released-back-to-the-os for more information. -- Unmanaged memory: 7.52 GiB -- Worker memory limit: 10.67 GiB\n",
      "2023-08-31 21:18:52,372 - distributed.worker.memory - WARNING - Worker is at 80% memory usage. Pausing worker.  Process memory: 8.58 GiB -- Worker memory limit: 10.67 GiB\n",
      "2023-08-31 21:18:55,390 - distributed.worker.memory - WARNING - Worker is at 85% memory usage. Pausing worker.  Process memory: 9.15 GiB -- Worker memory limit: 10.67 GiB\n",
      "2023-08-31 21:18:55,584 - distributed.worker.memory - WARNING - Worker is at 67% memory usage. Resuming worker. Process memory: 7.15 GiB -- Worker memory limit: 10.67 GiB\n",
      "2023-08-31 21:18:57,599 - distributed.worker.memory - WARNING - Unmanaged memory use is high. This may indicate a memory leak or the memory may not be released to the OS; see https://distributed.dask.org/en/latest/worker-memory.html#memory-not-released-back-to-the-os for more information. -- Unmanaged memory: 7.22 GiB -- Worker memory limit: 10.67 GiB\n",
      "2023-08-31 21:18:58,111 - distributed.worker.memory - WARNING - Unmanaged memory use is high. This may indicate a memory leak or the memory may not be released to the OS; see https://distributed.dask.org/en/latest/worker-memory.html#memory-not-released-back-to-the-os for more information. -- Unmanaged memory: 7.57 GiB -- Worker memory limit: 10.67 GiB\n",
      "2023-08-31 21:18:58,471 - distributed.worker.memory - WARNING - Unmanaged memory use is high. This may indicate a memory leak or the memory may not be released to the OS; see https://distributed.dask.org/en/latest/worker-memory.html#memory-not-released-back-to-the-os for more information. -- Unmanaged memory: 7.66 GiB -- Worker memory limit: 10.67 GiB\n",
      "2023-08-31 21:18:58,672 - distributed.worker.memory - WARNING - Worker is at 79% memory usage. Resuming worker. Process memory: 8.53 GiB -- Worker memory limit: 10.67 GiB\n",
      "2023-08-31 21:19:00,688 - distributed.worker.memory - WARNING - Unmanaged memory use is high. This may indicate a memory leak or the memory may not be released to the OS; see https://distributed.dask.org/en/latest/worker-memory.html#memory-not-released-back-to-the-os for more information. -- Unmanaged memory: 6.52 GiB -- Worker memory limit: 10.67 GiB\n",
      "2023-08-31 21:19:01,573 - distributed.worker.memory - WARNING - Unmanaged memory use is high. This may indicate a memory leak or the memory may not be released to the OS; see https://distributed.dask.org/en/latest/worker-memory.html#memory-not-released-back-to-the-os for more information. -- Unmanaged memory: 7.89 GiB -- Worker memory limit: 10.67 GiB\n",
      "2023-08-31 21:19:06,571 - distributed.worker.memory - WARNING - Worker is at 80% memory usage. Pausing worker.  Process memory: 8.54 GiB -- Worker memory limit: 10.67 GiB\n",
      "2023-08-31 21:19:07,372 - distributed.worker.memory - WARNING - Worker is at 79% memory usage. Resuming worker. Process memory: 8.45 GiB -- Worker memory limit: 10.67 GiB\n",
      "2023-08-31 21:19:07,765 - distributed.worker.memory - WARNING - Unmanaged memory use is high. This may indicate a memory leak or the memory may not be released to the OS; see https://distributed.dask.org/en/latest/worker-memory.html#memory-not-released-back-to-the-os for more information. -- Unmanaged memory: 7.51 GiB -- Worker memory limit: 10.67 GiB\n",
      "2023-08-31 21:19:07,997 - distributed.worker.memory - WARNING - Unmanaged memory use is high. This may indicate a memory leak or the memory may not be released to the OS; see https://distributed.dask.org/en/latest/worker-memory.html#memory-not-released-back-to-the-os for more information. -- Unmanaged memory: 7.78 GiB -- Worker memory limit: 10.67 GiB\n",
      "2023-08-31 21:19:08,780 - distributed.worker.memory - WARNING - Unmanaged memory use is high. This may indicate a memory leak or the memory may not be released to the OS; see https://distributed.dask.org/en/latest/worker-memory.html#memory-not-released-back-to-the-os for more information. -- Unmanaged memory: 8.11 GiB -- Worker memory limit: 10.67 GiB\n",
      "2023-08-31 21:19:10,281 - distributed.worker.memory - WARNING - Unmanaged memory use is high. This may indicate a memory leak or the memory may not be released to the OS; see https://distributed.dask.org/en/latest/worker-memory.html#memory-not-released-back-to-the-os for more information. -- Unmanaged memory: 7.38 GiB -- Worker memory limit: 10.67 GiB\n",
      "2023-08-31 21:19:12,112 - distributed.worker.memory - WARNING - Unmanaged memory use is high. This may indicate a memory leak or the memory may not be released to the OS; see https://distributed.dask.org/en/latest/worker-memory.html#memory-not-released-back-to-the-os for more information. -- Unmanaged memory: 6.72 GiB -- Worker memory limit: 10.67 GiB\n"
     ]
    },
    {
     "name": "stdout",
     "output_type": "stream",
     "text": [
      "Blob already exists and overwrite is set to False.\n"
     ]
    },
    {
     "name": "stderr",
     "output_type": "stream",
     "text": [
      "2023-08-31 21:19:15,621 - distributed.worker.memory - WARNING - Worker is at 80% memory usage. Pausing worker.  Process memory: 8.60 GiB -- Worker memory limit: 10.67 GiB\n",
      "2023-08-31 21:19:16,354 - distributed.worker.memory - WARNING - Worker is at 80% memory usage. Pausing worker.  Process memory: 8.54 GiB -- Worker memory limit: 10.67 GiB\n",
      "2023-08-31 21:19:16,366 - distributed.worker.memory - WARNING - Worker is at 62% memory usage. Resuming worker. Process memory: 6.62 GiB -- Worker memory limit: 10.67 GiB\n",
      "2023-08-31 21:19:18,062 - distributed.worker.memory - WARNING - Unmanaged memory use is high. This may indicate a memory leak or the memory may not be released to the OS; see https://distributed.dask.org/en/latest/worker-memory.html#memory-not-released-back-to-the-os for more information. -- Unmanaged memory: 7.64 GiB -- Worker memory limit: 10.67 GiB\n",
      "2023-08-31 21:19:18,411 - distributed.worker.memory - WARNING - Unmanaged memory use is high. This may indicate a memory leak or the memory may not be released to the OS; see https://distributed.dask.org/en/latest/worker-memory.html#memory-not-released-back-to-the-os for more information. -- Unmanaged memory: 6.58 GiB -- Worker memory limit: 10.67 GiB\n",
      "2023-08-31 21:19:19,255 - distributed.worker.memory - WARNING - Worker is at 67% memory usage. Resuming worker. Process memory: 7.15 GiB -- Worker memory limit: 10.67 GiB\n",
      "2023-08-31 21:19:19,256 - distributed.worker.memory - WARNING - Unmanaged memory use is high. This may indicate a memory leak or the memory may not be released to the OS; see https://distributed.dask.org/en/latest/worker-memory.html#memory-not-released-back-to-the-os for more information. -- Unmanaged memory: 7.15 GiB -- Worker memory limit: 10.67 GiB\n",
      "2023-08-31 21:19:22,266 - distributed.worker.memory - WARNING - Unmanaged memory use is high. This may indicate a memory leak or the memory may not be released to the OS; see https://distributed.dask.org/en/latest/worker-memory.html#memory-not-released-back-to-the-os for more information. -- Unmanaged memory: 7.47 GiB -- Worker memory limit: 10.67 GiB\n",
      "2023-08-31 21:19:24,056 - distributed.worker.memory - WARNING - Worker is at 80% memory usage. Pausing worker.  Process memory: 8.62 GiB -- Worker memory limit: 10.67 GiB\n",
      "2023-08-31 21:19:24,288 - distributed.worker.memory - WARNING - Worker is at 75% memory usage. Resuming worker. Process memory: 8.03 GiB -- Worker memory limit: 10.67 GiB\n",
      "2023-08-31 21:19:25,572 - distributed.worker.memory - WARNING - Unmanaged memory use is high. This may indicate a memory leak or the memory may not be released to the OS; see https://distributed.dask.org/en/latest/worker-memory.html#memory-not-released-back-to-the-os for more information. -- Unmanaged memory: 7.48 GiB -- Worker memory limit: 10.67 GiB\n",
      "2023-08-31 21:19:27,594 - distributed.worker.memory - WARNING - Unmanaged memory use is high. This may indicate a memory leak or the memory may not be released to the OS; see https://distributed.dask.org/en/latest/worker-memory.html#memory-not-released-back-to-the-os for more information. -- Unmanaged memory: 7.84 GiB -- Worker memory limit: 10.67 GiB\n",
      "2023-08-31 21:19:27,872 - distributed.worker.memory - WARNING - Worker is at 81% memory usage. Pausing worker.  Process memory: 8.66 GiB -- Worker memory limit: 10.67 GiB\n",
      "2023-08-31 21:19:27,969 - distributed.worker.memory - WARNING - Worker is at 54% memory usage. Resuming worker. Process memory: 5.83 GiB -- Worker memory limit: 10.67 GiB\n",
      "2023-08-31 21:19:28,062 - distributed.worker.memory - WARNING - Unmanaged memory use is high. This may indicate a memory leak or the memory may not be released to the OS; see https://distributed.dask.org/en/latest/worker-memory.html#memory-not-released-back-to-the-os for more information. -- Unmanaged memory: 7.52 GiB -- Worker memory limit: 10.67 GiB\n",
      "2023-08-31 21:19:29,380 - distributed.worker.memory - WARNING - Unmanaged memory use is high. This may indicate a memory leak or the memory may not be released to the OS; see https://distributed.dask.org/en/latest/worker-memory.html#memory-not-released-back-to-the-os for more information. -- Unmanaged memory: 7.54 GiB -- Worker memory limit: 10.67 GiB\n",
      "2023-08-31 21:19:29,422 - distributed.worker.memory - WARNING - Worker is at 81% memory usage. Pausing worker.  Process memory: 8.68 GiB -- Worker memory limit: 10.67 GiB\n",
      "2023-08-31 21:19:29,630 - distributed.worker.memory - WARNING - Worker is at 62% memory usage. Resuming worker. Process memory: 6.68 GiB -- Worker memory limit: 10.67 GiB\n",
      "2023-08-31 21:19:30,299 - distributed.worker.memory - WARNING - Unmanaged memory use is high. This may indicate a memory leak or the memory may not be released to the OS; see https://distributed.dask.org/en/latest/worker-memory.html#memory-not-released-back-to-the-os for more information. -- Unmanaged memory: 6.87 GiB -- Worker memory limit: 10.67 GiB\n",
      "2023-08-31 21:19:31,084 - distributed.worker.memory - WARNING - Worker is at 83% memory usage. Pausing worker.  Process memory: 8.91 GiB -- Worker memory limit: 10.67 GiB\n",
      "2023-08-31 21:19:31,268 - distributed.worker.memory - WARNING - Worker is at 61% memory usage. Resuming worker. Process memory: 6.53 GiB -- Worker memory limit: 10.67 GiB\n",
      "2023-08-31 21:19:31,556 - distributed.worker.memory - WARNING - Worker is at 80% memory usage. Pausing worker.  Process memory: 8.62 GiB -- Worker memory limit: 10.67 GiB\n",
      "2023-08-31 21:19:31,565 - distributed.worker.memory - WARNING - Worker is at 75% memory usage. Resuming worker. Process memory: 8.05 GiB -- Worker memory limit: 10.67 GiB\n",
      "2023-08-31 21:19:33,221 - distributed.worker.memory - WARNING - Worker is at 82% memory usage. Pausing worker.  Process memory: 8.83 GiB -- Worker memory limit: 10.67 GiB\n",
      "2023-08-31 21:19:33,462 - distributed.worker.memory - WARNING - Worker is at 73% memory usage. Resuming worker. Process memory: 7.81 GiB -- Worker memory limit: 10.67 GiB\n",
      "2023-08-31 21:19:36,767 - distributed.worker.memory - WARNING - Unmanaged memory use is high. This may indicate a memory leak or the memory may not be released to the OS; see https://distributed.dask.org/en/latest/worker-memory.html#memory-not-released-back-to-the-os for more information. -- Unmanaged memory: 7.60 GiB -- Worker memory limit: 10.67 GiB\n",
      "2023-08-31 21:19:37,452 - distributed.worker.memory - WARNING - Worker is at 81% memory usage. Pausing worker.  Process memory: 8.74 GiB -- Worker memory limit: 10.67 GiB\n",
      "2023-08-31 21:19:37,515 - distributed.worker.memory - WARNING - Unmanaged memory use is high. This may indicate a memory leak or the memory may not be released to the OS; see https://distributed.dask.org/en/latest/worker-memory.html#memory-not-released-back-to-the-os for more information. -- Unmanaged memory: 6.74 GiB -- Worker memory limit: 10.67 GiB\n",
      "2023-08-31 21:19:37,668 - distributed.worker.memory - WARNING - Worker is at 73% memory usage. Resuming worker. Process memory: 7.89 GiB -- Worker memory limit: 10.67 GiB\n",
      "2023-08-31 21:19:37,669 - distributed.worker.memory - WARNING - Unmanaged memory use is high. This may indicate a memory leak or the memory may not be released to the OS; see https://distributed.dask.org/en/latest/worker-memory.html#memory-not-released-back-to-the-os for more information. -- Unmanaged memory: 8.16 GiB -- Worker memory limit: 10.67 GiB\n",
      "2023-08-31 21:19:38,268 - distributed.worker.memory - WARNING - Unmanaged memory use is high. This may indicate a memory leak or the memory may not be released to the OS; see https://distributed.dask.org/en/latest/worker-memory.html#memory-not-released-back-to-the-os for more information. -- Unmanaged memory: 8.15 GiB -- Worker memory limit: 10.67 GiB\n",
      "2023-08-31 21:19:38,361 - distributed.worker.memory - WARNING - Worker is at 80% memory usage. Pausing worker.  Process memory: 8.57 GiB -- Worker memory limit: 10.67 GiB\n",
      "2023-08-31 21:19:38,561 - distributed.worker.memory - WARNING - Worker is at 76% memory usage. Resuming worker. Process memory: 8.15 GiB -- Worker memory limit: 10.67 GiB\n",
      "2023-08-31 21:19:42,237 - distributed.worker.memory - WARNING - Worker is at 80% memory usage. Pausing worker.  Process memory: 8.56 GiB -- Worker memory limit: 10.67 GiB\n",
      "2023-08-31 21:19:42,493 - distributed.worker.memory - WARNING - Worker is at 62% memory usage. Resuming worker. Process memory: 6.70 GiB -- Worker memory limit: 10.67 GiB\n",
      "2023-08-31 21:19:43,062 - distributed.worker.memory - WARNING - Worker is at 80% memory usage. Pausing worker.  Process memory: 8.54 GiB -- Worker memory limit: 10.67 GiB\n",
      "2023-08-31 21:19:43,825 - distributed.worker.memory - WARNING - Unmanaged memory use is high. This may indicate a memory leak or the memory may not be released to the OS; see https://distributed.dask.org/en/latest/worker-memory.html#memory-not-released-back-to-the-os for more information. -- Unmanaged memory: 6.61 GiB -- Worker memory limit: 10.67 GiB\n",
      "2023-08-31 21:19:45,334 - distributed.worker.memory - WARNING - Worker is at 86% memory usage. Pausing worker.  Process memory: 9.21 GiB -- Worker memory limit: 10.67 GiB\n",
      "2023-08-31 21:19:45,546 - distributed.worker.memory - WARNING - Worker is at 77% memory usage. Resuming worker. Process memory: 8.21 GiB -- Worker memory limit: 10.67 GiB\n",
      "2023-08-31 21:19:46,345 - distributed.worker.memory - WARNING - Worker is at 86% memory usage. Pausing worker.  Process memory: 9.21 GiB -- Worker memory limit: 10.67 GiB\n",
      "2023-08-31 21:19:46,465 - distributed.worker.memory - WARNING - Worker is at 67% memory usage. Resuming worker. Process memory: 7.21 GiB -- Worker memory limit: 10.67 GiB\n",
      "2023-08-31 21:19:47,673 - distributed.worker.memory - WARNING - Unmanaged memory use is high. This may indicate a memory leak or the memory may not be released to the OS; see https://distributed.dask.org/en/latest/worker-memory.html#memory-not-released-back-to-the-os for more information. -- Unmanaged memory: 6.77 GiB -- Worker memory limit: 10.67 GiB\n",
      "2023-08-31 21:19:47,894 - distributed.worker.memory - WARNING - Unmanaged memory use is high. This may indicate a memory leak or the memory may not be released to the OS; see https://distributed.dask.org/en/latest/worker-memory.html#memory-not-released-back-to-the-os for more information. -- Unmanaged memory: 7.64 GiB -- Worker memory limit: 10.67 GiB\n",
      "2023-08-31 21:19:48,361 - distributed.worker.memory - WARNING - Unmanaged memory use is high. This may indicate a memory leak or the memory may not be released to the OS; see https://distributed.dask.org/en/latest/worker-memory.html#memory-not-released-back-to-the-os for more information. -- Unmanaged memory: 9.00 GiB -- Worker memory limit: 10.67 GiB\n",
      "2023-08-31 21:19:48,933 - distributed.worker.memory - WARNING - Unmanaged memory use is high. This may indicate a memory leak or the memory may not be released to the OS; see https://distributed.dask.org/en/latest/worker-memory.html#memory-not-released-back-to-the-os for more information. -- Unmanaged memory: 7.69 GiB -- Worker memory limit: 10.67 GiB\n",
      "2023-08-31 21:19:49,289 - distributed.worker.memory - WARNING - Worker is at 69% memory usage. Resuming worker. Process memory: 7.37 GiB -- Worker memory limit: 10.67 GiB\n",
      "2023-08-31 21:19:53,271 - distributed.worker.memory - WARNING - Worker is at 80% memory usage. Pausing worker.  Process memory: 8.55 GiB -- Worker memory limit: 10.67 GiB\n",
      "2023-08-31 21:19:53,707 - distributed.worker.memory - WARNING - Worker is at 55% memory usage. Resuming worker. Process memory: 5.93 GiB -- Worker memory limit: 10.67 GiB\n",
      "2023-08-31 21:19:54,476 - distributed.worker.memory - WARNING - Unmanaged memory use is high. This may indicate a memory leak or the memory may not be released to the OS; see https://distributed.dask.org/en/latest/worker-memory.html#memory-not-released-back-to-the-os for more information. -- Unmanaged memory: 8.06 GiB -- Worker memory limit: 10.67 GiB\n",
      "2023-08-31 21:19:56,151 - distributed.worker.memory - WARNING - Worker is at 82% memory usage. Pausing worker.  Process memory: 8.84 GiB -- Worker memory limit: 10.67 GiB\n",
      "2023-08-31 21:19:56,187 - distributed.worker.memory - WARNING - Worker is at 73% memory usage. Resuming worker. Process memory: 7.86 GiB -- Worker memory limit: 10.67 GiB\n",
      "2023-08-31 21:19:57,380 - distributed.worker.memory - WARNING - Unmanaged memory use is high. This may indicate a memory leak or the memory may not be released to the OS; see https://distributed.dask.org/en/latest/worker-memory.html#memory-not-released-back-to-the-os for more information. -- Unmanaged memory: 7.77 GiB -- Worker memory limit: 10.67 GiB\n",
      "2023-08-31 21:20:00,373 - distributed.worker.memory - WARNING - Worker is at 85% memory usage. Pausing worker.  Process memory: 9.13 GiB -- Worker memory limit: 10.67 GiB\n",
      "2023-08-31 21:20:00,536 - distributed.worker.memory - WARNING - Worker is at 66% memory usage. Resuming worker. Process memory: 7.13 GiB -- Worker memory limit: 10.67 GiB\n",
      "2023-08-31 21:20:01,345 - distributed.worker.memory - WARNING - Unmanaged memory use is high. This may indicate a memory leak or the memory may not be released to the OS; see https://distributed.dask.org/en/latest/worker-memory.html#memory-not-released-back-to-the-os for more information. -- Unmanaged memory: 7.77 GiB -- Worker memory limit: 10.67 GiB\n",
      "2023-08-31 21:20:01,793 - distributed.worker.memory - WARNING - Unmanaged memory use is high. This may indicate a memory leak or the memory may not be released to the OS; see https://distributed.dask.org/en/latest/worker-memory.html#memory-not-released-back-to-the-os for more information. -- Unmanaged memory: 7.81 GiB -- Worker memory limit: 10.67 GiB\n",
      "2023-08-31 21:20:02,410 - distributed.worker.memory - WARNING - Worker is at 83% memory usage. Pausing worker.  Process memory: 8.89 GiB -- Worker memory limit: 10.67 GiB\n",
      "2023-08-31 21:20:02,554 - distributed.worker.memory - WARNING - Worker is at 64% memory usage. Resuming worker. Process memory: 6.91 GiB -- Worker memory limit: 10.67 GiB\n",
      "2023-08-31 21:20:03,729 - distributed.worker.memory - WARNING - Unmanaged memory use is high. This may indicate a memory leak or the memory may not be released to the OS; see https://distributed.dask.org/en/latest/worker-memory.html#memory-not-released-back-to-the-os for more information. -- Unmanaged memory: 7.13 GiB -- Worker memory limit: 10.67 GiB\n",
      "2023-08-31 21:20:04,055 - distributed.worker.memory - WARNING - Worker is at 82% memory usage. Pausing worker.  Process memory: 8.78 GiB -- Worker memory limit: 10.67 GiB\n",
      "2023-08-31 21:20:04,292 - distributed.worker.memory - WARNING - Worker is at 72% memory usage. Resuming worker. Process memory: 7.78 GiB -- Worker memory limit: 10.67 GiB\n",
      "2023-08-31 21:20:04,567 - distributed.worker.memory - WARNING - Unmanaged memory use is high. This may indicate a memory leak or the memory may not be released to the OS; see https://distributed.dask.org/en/latest/worker-memory.html#memory-not-released-back-to-the-os for more information. -- Unmanaged memory: 8.40 GiB -- Worker memory limit: 10.67 GiB\n",
      "2023-08-31 21:20:05,208 - distributed.worker.memory - WARNING - Worker is at 82% memory usage. Pausing worker.  Process memory: 8.78 GiB -- Worker memory limit: 10.67 GiB\n",
      "2023-08-31 21:20:05,390 - distributed.worker.memory - WARNING - Worker is at 72% memory usage. Resuming worker. Process memory: 7.78 GiB -- Worker memory limit: 10.67 GiB\n",
      "2023-08-31 21:20:05,668 - distributed.worker.memory - WARNING - Worker is at 80% memory usage. Pausing worker.  Process memory: 8.53 GiB -- Worker memory limit: 10.67 GiB\n",
      "2023-08-31 21:20:06,055 - distributed.worker.memory - WARNING - Unmanaged memory use is high. This may indicate a memory leak or the memory may not be released to the OS; see https://distributed.dask.org/en/latest/worker-memory.html#memory-not-released-back-to-the-os for more information. -- Unmanaged memory: 7.65 GiB -- Worker memory limit: 10.67 GiB\n",
      "2023-08-31 21:20:06,168 - distributed.worker.memory - WARNING - Worker is at 61% memory usage. Resuming worker. Process memory: 6.59 GiB -- Worker memory limit: 10.67 GiB\n",
      "2023-08-31 21:20:07,619 - distributed.worker.memory - WARNING - Worker is at 80% memory usage. Pausing worker.  Process memory: 8.54 GiB -- Worker memory limit: 10.67 GiB\n",
      "2023-08-31 21:20:08,280 - distributed.worker.memory - WARNING - Unmanaged memory use is high. This may indicate a memory leak or the memory may not be released to the OS; see https://distributed.dask.org/en/latest/worker-memory.html#memory-not-released-back-to-the-os for more information. -- Unmanaged memory: 7.95 GiB -- Worker memory limit: 10.67 GiB\n",
      "2023-08-31 21:20:08,765 - distributed.worker.memory - WARNING - Worker is at 78% memory usage. Resuming worker. Process memory: 8.41 GiB -- Worker memory limit: 10.67 GiB\n",
      "2023-08-31 21:20:10,312 - distributed.worker.memory - WARNING - Worker is at 80% memory usage. Pausing worker.  Process memory: 8.55 GiB -- Worker memory limit: 10.67 GiB\n",
      "2023-08-31 21:20:10,571 - distributed.worker.memory - WARNING - Worker is at 70% memory usage. Resuming worker. Process memory: 7.55 GiB -- Worker memory limit: 10.67 GiB\n",
      "2023-08-31 21:20:11,868 - distributed.worker.memory - WARNING - Unmanaged memory use is high. This may indicate a memory leak or the memory may not be released to the OS; see https://distributed.dask.org/en/latest/worker-memory.html#memory-not-released-back-to-the-os for more information. -- Unmanaged memory: 7.76 GiB -- Worker memory limit: 10.67 GiB\n",
      "2023-08-31 21:20:12,199 - distributed.worker.memory - WARNING - Worker is at 80% memory usage. Pausing worker.  Process memory: 8.54 GiB -- Worker memory limit: 10.67 GiB\n",
      "2023-08-31 21:20:12,391 - distributed.worker.memory - WARNING - Worker is at 70% memory usage. Resuming worker. Process memory: 7.54 GiB -- Worker memory limit: 10.67 GiB\n",
      "2023-08-31 21:20:12,559 - distributed.worker.memory - WARNING - Worker is at 80% memory usage. Pausing worker.  Process memory: 8.59 GiB -- Worker memory limit: 10.67 GiB\n",
      "2023-08-31 21:20:12,588 - distributed.worker.memory - WARNING - Worker is at 61% memory usage. Resuming worker. Process memory: 6.59 GiB -- Worker memory limit: 10.67 GiB\n",
      "2023-08-31 21:20:14,045 - distributed.worker.memory - WARNING - Worker is at 82% memory usage. Pausing worker.  Process memory: 8.76 GiB -- Worker memory limit: 10.67 GiB\n",
      "2023-08-31 21:20:14,762 - distributed.worker.memory - WARNING - Worker is at 73% memory usage. Resuming worker. Process memory: 7.85 GiB -- Worker memory limit: 10.67 GiB\n",
      "2023-08-31 21:20:15,227 - distributed.worker.memory - WARNING - Unmanaged memory use is high. This may indicate a memory leak or the memory may not be released to the OS; see https://distributed.dask.org/en/latest/worker-memory.html#memory-not-released-back-to-the-os for more information. -- Unmanaged memory: 7.11 GiB -- Worker memory limit: 10.67 GiB\n",
      "2023-08-31 21:20:16,062 - distributed.worker.memory - WARNING - Unmanaged memory use is high. This may indicate a memory leak or the memory may not be released to the OS; see https://distributed.dask.org/en/latest/worker-memory.html#memory-not-released-back-to-the-os for more information. -- Unmanaged memory: 7.94 GiB -- Worker memory limit: 10.67 GiB\n",
      "2023-08-31 21:20:16,449 - distributed.worker.memory - WARNING - Worker is at 80% memory usage. Pausing worker.  Process memory: 8.58 GiB -- Worker memory limit: 10.67 GiB\n",
      "2023-08-31 21:20:16,486 - distributed.worker.memory - WARNING - Worker is at 68% memory usage. Resuming worker. Process memory: 7.29 GiB -- Worker memory limit: 10.67 GiB\n",
      "2023-08-31 21:20:17,995 - distributed.worker.memory - WARNING - Worker is at 80% memory usage. Pausing worker.  Process memory: 8.56 GiB -- Worker memory limit: 10.67 GiB\n",
      "2023-08-31 21:20:18,071 - distributed.worker.memory - WARNING - Worker is at 61% memory usage. Resuming worker. Process memory: 6.58 GiB -- Worker memory limit: 10.67 GiB\n",
      "2023-08-31 21:20:18,687 - distributed.worker.memory - WARNING - Unmanaged memory use is high. This may indicate a memory leak or the memory may not be released to the OS; see https://distributed.dask.org/en/latest/worker-memory.html#memory-not-released-back-to-the-os for more information. -- Unmanaged memory: 6.54 GiB -- Worker memory limit: 10.67 GiB\n",
      "2023-08-31 21:20:21,292 - distributed.worker.memory - WARNING - Unmanaged memory use is high. This may indicate a memory leak or the memory may not be released to the OS; see https://distributed.dask.org/en/latest/worker-memory.html#memory-not-released-back-to-the-os for more information. -- Unmanaged memory: 6.73 GiB -- Worker memory limit: 10.67 GiB\n",
      "2023-08-31 21:20:23,072 - distributed.worker.memory - WARNING - Worker is at 81% memory usage. Pausing worker.  Process memory: 8.68 GiB -- Worker memory limit: 10.67 GiB\n",
      "2023-08-31 21:20:23,272 - distributed.worker.memory - WARNING - Worker is at 72% memory usage. Resuming worker. Process memory: 7.73 GiB -- Worker memory limit: 10.67 GiB\n",
      "2023-08-31 21:20:23,812 - distributed.worker.memory - WARNING - Unmanaged memory use is high. This may indicate a memory leak or the memory may not be released to the OS; see https://distributed.dask.org/en/latest/worker-memory.html#memory-not-released-back-to-the-os for more information. -- Unmanaged memory: 7.50 GiB -- Worker memory limit: 10.67 GiB\n",
      "2023-08-31 21:20:25,033 - distributed.worker.memory - WARNING - Worker is at 86% memory usage. Pausing worker.  Process memory: 9.27 GiB -- Worker memory limit: 10.67 GiB\n",
      "2023-08-31 21:20:25,244 - distributed.worker.memory - WARNING - Worker is at 77% memory usage. Resuming worker. Process memory: 8.27 GiB -- Worker memory limit: 10.67 GiB\n",
      "2023-08-31 21:20:27,450 - distributed.worker.memory - WARNING - Worker is at 81% memory usage. Pausing worker.  Process memory: 8.72 GiB -- Worker memory limit: 10.67 GiB\n",
      "2023-08-31 21:20:27,672 - distributed.worker.memory - WARNING - Worker is at 68% memory usage. Resuming worker. Process memory: 7.26 GiB -- Worker memory limit: 10.67 GiB\n",
      "2023-08-31 21:20:28,583 - distributed.worker.memory - WARNING - Unmanaged memory use is high. This may indicate a memory leak or the memory may not be released to the OS; see https://distributed.dask.org/en/latest/worker-memory.html#memory-not-released-back-to-the-os for more information. -- Unmanaged memory: 6.50 GiB -- Worker memory limit: 10.67 GiB\n",
      "2023-08-31 21:20:28,954 - distributed.worker.memory - WARNING - Unmanaged memory use is high. This may indicate a memory leak or the memory may not be released to the OS; see https://distributed.dask.org/en/latest/worker-memory.html#memory-not-released-back-to-the-os for more information. -- Unmanaged memory: 7.42 GiB -- Worker memory limit: 10.67 GiB\n",
      "2023-08-31 21:20:31,372 - distributed.worker.memory - WARNING - Unmanaged memory use is high. This may indicate a memory leak or the memory may not be released to the OS; see https://distributed.dask.org/en/latest/worker-memory.html#memory-not-released-back-to-the-os for more information. -- Unmanaged memory: 7.59 GiB -- Worker memory limit: 10.67 GiB\n",
      "2023-08-31 21:20:31,447 - distributed.worker.memory - WARNING - Worker is at 87% memory usage. Pausing worker.  Process memory: 9.36 GiB -- Worker memory limit: 10.67 GiB\n",
      "2023-08-31 21:20:31,995 - distributed.worker.memory - WARNING - Worker is at 70% memory usage. Resuming worker. Process memory: 7.55 GiB -- Worker memory limit: 10.67 GiB\n",
      "2023-08-31 21:20:32,164 - distributed.worker.memory - WARNING - Worker is at 81% memory usage. Pausing worker.  Process memory: 8.74 GiB -- Worker memory limit: 10.67 GiB\n",
      "2023-08-31 21:20:32,330 - distributed.worker.memory - WARNING - Worker is at 72% memory usage. Resuming worker. Process memory: 7.74 GiB -- Worker memory limit: 10.67 GiB\n",
      "2023-08-31 21:20:32,544 - distributed.worker.memory - WARNING - Unmanaged memory use is high. This may indicate a memory leak or the memory may not be released to the OS; see https://distributed.dask.org/en/latest/worker-memory.html#memory-not-released-back-to-the-os for more information. -- Unmanaged memory: 7.74 GiB -- Worker memory limit: 10.67 GiB\n",
      "2023-08-31 21:20:33,212 - distributed.worker.memory - WARNING - Worker is at 81% memory usage. Pausing worker.  Process memory: 8.67 GiB -- Worker memory limit: 10.67 GiB\n",
      "2023-08-31 21:20:33,340 - distributed.worker.memory - WARNING - Worker is at 71% memory usage. Resuming worker. Process memory: 7.67 GiB -- Worker memory limit: 10.67 GiB\n",
      "2023-08-31 21:20:33,868 - distributed.worker.memory - WARNING - Unmanaged memory use is high. This may indicate a memory leak or the memory may not be released to the OS; see https://distributed.dask.org/en/latest/worker-memory.html#memory-not-released-back-to-the-os for more information. -- Unmanaged memory: 7.88 GiB -- Worker memory limit: 10.67 GiB\n",
      "2023-08-31 21:20:35,145 - distributed.worker.memory - WARNING - Worker is at 83% memory usage. Pausing worker.  Process memory: 8.91 GiB -- Worker memory limit: 10.67 GiB\n",
      "2023-08-31 21:20:35,267 - distributed.worker.memory - WARNING - Worker is at 74% memory usage. Resuming worker. Process memory: 7.91 GiB -- Worker memory limit: 10.67 GiB\n",
      "2023-08-31 21:20:36,044 - distributed.worker.memory - WARNING - Worker is at 82% memory usage. Pausing worker.  Process memory: 8.85 GiB -- Worker memory limit: 10.67 GiB\n",
      "2023-08-31 21:20:36,062 - distributed.worker.memory - WARNING - Worker is at 75% memory usage. Resuming worker. Process memory: 8.02 GiB -- Worker memory limit: 10.67 GiB\n",
      "2023-08-31 21:20:40,933 - distributed.worker.memory - WARNING - Unmanaged memory use is high. This may indicate a memory leak or the memory may not be released to the OS; see https://distributed.dask.org/en/latest/worker-memory.html#memory-not-released-back-to-the-os for more information. -- Unmanaged memory: 7.69 GiB -- Worker memory limit: 10.67 GiB\n",
      "2023-08-31 21:20:41,375 - distributed.worker.memory - WARNING - Worker is at 82% memory usage. Pausing worker.  Process memory: 8.77 GiB -- Worker memory limit: 10.67 GiB\n",
      "2023-08-31 21:20:41,380 - distributed.worker.memory - WARNING - Unmanaged memory use is high. This may indicate a memory leak or the memory may not be released to the OS; see https://distributed.dask.org/en/latest/worker-memory.html#memory-not-released-back-to-the-os for more information. -- Unmanaged memory: 8.77 GiB -- Worker memory limit: 10.67 GiB\n",
      "2023-08-31 21:20:41,471 - distributed.worker.memory - WARNING - Worker is at 70% memory usage. Resuming worker. Process memory: 7.57 GiB -- Worker memory limit: 10.67 GiB\n",
      "2023-08-31 21:20:42,296 - distributed.worker.memory - WARNING - Worker is at 80% memory usage. Pausing worker.  Process memory: 8.56 GiB -- Worker memory limit: 10.67 GiB\n",
      "2023-08-31 21:20:42,587 - distributed.worker.memory - WARNING - Worker is at 70% memory usage. Resuming worker. Process memory: 7.56 GiB -- Worker memory limit: 10.67 GiB\n",
      "2023-08-31 21:20:44,092 - distributed.worker.memory - WARNING - Unmanaged memory use is high. This may indicate a memory leak or the memory may not be released to the OS; see https://distributed.dask.org/en/latest/worker-memory.html#memory-not-released-back-to-the-os for more information. -- Unmanaged memory: 7.09 GiB -- Worker memory limit: 10.67 GiB\n",
      "2023-08-31 21:20:45,081 - distributed.nanny.memory - WARNING - Worker tcp://127.0.0.1:51328 (pid=48205) exceeded 95% memory budget. Restarting...\n",
      "2023-08-31 21:20:45,265 - distributed.nanny - WARNING - Restarting worker\n",
      "2023-08-31 21:20:46,828 - distributed.worker - ERROR - Worker stream died during communication: tcp://127.0.0.1:51328\n",
      "Traceback (most recent call last):\n",
      "  File \"/Users/calkoen/mambaforge/envs/testenv/lib/python3.11/site-packages/distributed/comm/tcp.py\", line 225, in read\n",
      "    frames_nbytes = await stream.read_bytes(fmt_size)\n",
      "                    ^^^^^^^^^^^^^^^^^^^^^^^^^^^^^^^^^\n",
      "tornado.iostream.StreamClosedError: Stream is closed\n",
      "\n",
      "The above exception was the direct cause of the following exception:\n",
      "\n",
      "Traceback (most recent call last):\n",
      "  File \"/Users/calkoen/mambaforge/envs/testenv/lib/python3.11/site-packages/distributed/worker.py\", line 2053, in gather_dep\n",
      "    response = await get_data_from_worker(\n",
      "               ^^^^^^^^^^^^^^^^^^^^^^^^^^^\n",
      "  File \"/Users/calkoen/mambaforge/envs/testenv/lib/python3.11/site-packages/distributed/worker.py\", line 2902, in get_data_from_worker\n",
      "    response = await send_recv(\n",
      "               ^^^^^^^^^^^^^^^^\n",
      "  File \"/Users/calkoen/mambaforge/envs/testenv/lib/python3.11/site-packages/distributed/core.py\", line 1136, in send_recv\n",
      "    response = await comm.read(deserializers=deserializers)\n",
      "               ^^^^^^^^^^^^^^^^^^^^^^^^^^^^^^^^^^^^^^^^^^^^\n",
      "  File \"/Users/calkoen/mambaforge/envs/testenv/lib/python3.11/site-packages/distributed/comm/tcp.py\", line 241, in read\n",
      "    convert_stream_closed_error(self, e)\n",
      "  File \"/Users/calkoen/mambaforge/envs/testenv/lib/python3.11/site-packages/distributed/comm/tcp.py\", line 144, in convert_stream_closed_error\n",
      "    raise CommClosedError(f\"in {obj}: {exc}\") from exc\n",
      "distributed.comm.core.CommClosedError: in <TCP (closed) Ephemeral Worker->Worker for gather local=tcp://127.0.0.1:51431 remote=tcp://127.0.0.1:51328>: Stream is closed\n"
     ]
    },
    {
     "name": "stdout",
     "output_type": "stream",
     "text": [
      "Blob already exists and overwrite is set to False.\n"
     ]
    },
    {
     "name": "stderr",
     "output_type": "stream",
     "text": [
      "2023-08-31 21:20:47,468 - distributed.worker.memory - WARNING - Unmanaged memory use is high. This may indicate a memory leak or the memory may not be released to the OS; see https://distributed.dask.org/en/latest/worker-memory.html#memory-not-released-back-to-the-os for more information. -- Unmanaged memory: 7.47 GiB -- Worker memory limit: 10.67 GiB\n",
      "2023-08-31 21:20:47,596 - distributed.worker.memory - WARNING - Worker is at 80% memory usage. Pausing worker.  Process memory: 8.56 GiB -- Worker memory limit: 10.67 GiB\n",
      "2023-08-31 21:20:47,668 - distributed.worker.memory - WARNING - Worker is at 60% memory usage. Resuming worker. Process memory: 6.41 GiB -- Worker memory limit: 10.67 GiB\n",
      "2023-08-31 21:20:47,747 - distributed.worker.memory - WARNING - Worker is at 83% memory usage. Pausing worker.  Process memory: 8.94 GiB -- Worker memory limit: 10.67 GiB\n",
      "2023-08-31 21:20:47,770 - distributed.worker.memory - WARNING - Worker is at 74% memory usage. Resuming worker. Process memory: 7.98 GiB -- Worker memory limit: 10.67 GiB\n",
      "2023-08-31 21:20:47,862 - distributed.worker.memory - WARNING - Unmanaged memory use is high. This may indicate a memory leak or the memory may not be released to the OS; see https://distributed.dask.org/en/latest/worker-memory.html#memory-not-released-back-to-the-os for more information. -- Unmanaged memory: 7.47 GiB -- Worker memory limit: 10.67 GiB\n",
      "2023-08-31 21:20:48,767 - distributed.worker.memory - WARNING - Unmanaged memory use is high. This may indicate a memory leak or the memory may not be released to the OS; see https://distributed.dask.org/en/latest/worker-memory.html#memory-not-released-back-to-the-os for more information. -- Unmanaged memory: 7.50 GiB -- Worker memory limit: 10.67 GiB\n",
      "2023-08-31 21:20:53,559 - distributed.worker.memory - WARNING - Worker is at 80% memory usage. Pausing worker.  Process memory: 8.54 GiB -- Worker memory limit: 10.67 GiB\n",
      "2023-08-31 21:20:53,568 - distributed.worker.memory - WARNING - Worker is at 74% memory usage. Resuming worker. Process memory: 7.94 GiB -- Worker memory limit: 10.67 GiB\n",
      "2023-08-31 21:20:54,272 - distributed.worker.memory - WARNING - Unmanaged memory use is high. This may indicate a memory leak or the memory may not be released to the OS; see https://distributed.dask.org/en/latest/worker-memory.html#memory-not-released-back-to-the-os for more information. -- Unmanaged memory: 7.48 GiB -- Worker memory limit: 10.67 GiB\n",
      "2023-08-31 21:20:56,480 - distributed.worker.memory - WARNING - Worker is at 80% memory usage. Pausing worker.  Process memory: 8.54 GiB -- Worker memory limit: 10.67 GiB\n",
      "2023-08-31 21:20:56,566 - distributed.worker.memory - WARNING - Worker is at 62% memory usage. Resuming worker. Process memory: 6.62 GiB -- Worker memory limit: 10.67 GiB\n",
      "2023-08-31 21:20:57,341 - distributed.worker.memory - WARNING - Unmanaged memory use is high. This may indicate a memory leak or the memory may not be released to the OS; see https://distributed.dask.org/en/latest/worker-memory.html#memory-not-released-back-to-the-os for more information. -- Unmanaged memory: 7.48 GiB -- Worker memory limit: 10.67 GiB\n",
      "2023-08-31 21:20:57,461 - distributed.worker.memory - WARNING - Worker is at 82% memory usage. Pausing worker.  Process memory: 8.75 GiB -- Worker memory limit: 10.67 GiB\n",
      "2023-08-31 21:20:57,570 - distributed.worker.memory - WARNING - Unmanaged memory use is high. This may indicate a memory leak or the memory may not be released to the OS; see https://distributed.dask.org/en/latest/worker-memory.html#memory-not-released-back-to-the-os for more information. -- Unmanaged memory: 7.60 GiB -- Worker memory limit: 10.67 GiB\n",
      "2023-08-31 21:20:57,649 - distributed.worker.memory - WARNING - Worker is at 72% memory usage. Resuming worker. Process memory: 7.75 GiB -- Worker memory limit: 10.67 GiB\n",
      "2023-08-31 21:20:58,977 - distributed.nanny.memory - WARNING - Worker tcp://127.0.0.1:51325 (pid=48204) exceeded 95% memory budget. Restarting...\n",
      "2023-08-31 21:20:59,076 - distributed.worker.memory - WARNING - Unmanaged memory use is high. This may indicate a memory leak or the memory may not be released to the OS; see https://distributed.dask.org/en/latest/worker-memory.html#memory-not-released-back-to-the-os for more information. -- Unmanaged memory: 7.74 GiB -- Worker memory limit: 10.67 GiB\n",
      "2023-08-31 21:20:59,154 - distributed.nanny - WARNING - Restarting worker\n",
      "2023-08-31 21:20:59,157 - distributed.worker - ERROR - Worker stream died during communication: tcp://127.0.0.1:51325\n",
      "Traceback (most recent call last):\n",
      "  File \"/Users/calkoen/mambaforge/envs/testenv/lib/python3.11/site-packages/distributed/comm/tcp.py\", line 225, in read\n",
      "    frames_nbytes = await stream.read_bytes(fmt_size)\n",
      "                    ^^^^^^^^^^^^^^^^^^^^^^^^^^^^^^^^^\n",
      "tornado.iostream.StreamClosedError: Stream is closed\n",
      "\n",
      "The above exception was the direct cause of the following exception:\n",
      "\n",
      "Traceback (most recent call last):\n",
      "  File \"/Users/calkoen/mambaforge/envs/testenv/lib/python3.11/site-packages/distributed/worker.py\", line 2053, in gather_dep\n",
      "    response = await get_data_from_worker(\n",
      "               ^^^^^^^^^^^^^^^^^^^^^^^^^^^\n",
      "  File \"/Users/calkoen/mambaforge/envs/testenv/lib/python3.11/site-packages/distributed/worker.py\", line 2902, in get_data_from_worker\n",
      "    response = await send_recv(\n",
      "               ^^^^^^^^^^^^^^^^\n",
      "  File \"/Users/calkoen/mambaforge/envs/testenv/lib/python3.11/site-packages/distributed/core.py\", line 1136, in send_recv\n",
      "    response = await comm.read(deserializers=deserializers)\n",
      "               ^^^^^^^^^^^^^^^^^^^^^^^^^^^^^^^^^^^^^^^^^^^^\n",
      "  File \"/Users/calkoen/mambaforge/envs/testenv/lib/python3.11/site-packages/distributed/comm/tcp.py\", line 241, in read\n",
      "    convert_stream_closed_error(self, e)\n",
      "  File \"/Users/calkoen/mambaforge/envs/testenv/lib/python3.11/site-packages/distributed/comm/tcp.py\", line 144, in convert_stream_closed_error\n",
      "    raise CommClosedError(f\"in {obj}: {exc}\") from exc\n",
      "distributed.comm.core.CommClosedError: in <TCP (closed) Ephemeral Worker->Worker for gather local=tcp://127.0.0.1:51394 remote=tcp://127.0.0.1:51325>: Stream is closed\n",
      "2023-08-31 21:21:03,487 - distributed.worker.memory - WARNING - Worker is at 80% memory usage. Pausing worker.  Process memory: 8.64 GiB -- Worker memory limit: 10.67 GiB\n",
      "2023-08-31 21:21:03,638 - distributed.worker.memory - WARNING - Worker is at 88% memory usage. Pausing worker.  Process memory: 9.41 GiB -- Worker memory limit: 10.67 GiB\n",
      "2023-08-31 21:21:03,855 - distributed.worker.memory - WARNING - Worker is at 78% memory usage. Resuming worker. Process memory: 8.41 GiB -- Worker memory limit: 10.67 GiB\n",
      "2023-08-31 21:21:04,077 - distributed.worker.memory - WARNING - Worker is at 71% memory usage. Resuming worker. Process memory: 7.64 GiB -- Worker memory limit: 10.67 GiB\n",
      "2023-08-31 21:21:04,260 - distributed.worker.memory - WARNING - Unmanaged memory use is high. This may indicate a memory leak or the memory may not be released to the OS; see https://distributed.dask.org/en/latest/worker-memory.html#memory-not-released-back-to-the-os for more information. -- Unmanaged memory: 6.73 GiB -- Worker memory limit: 10.67 GiB\n"
     ]
    },
    {
     "name": "stdout",
     "output_type": "stream",
     "text": [
      "Blob already exists and overwrite is set to False.\n"
     ]
    },
    {
     "name": "stderr",
     "output_type": "stream",
     "text": [
      "2023-08-31 21:21:04,661 - distributed.worker.memory - WARNING - Worker is at 88% memory usage. Pausing worker.  Process memory: 9.41 GiB -- Worker memory limit: 10.67 GiB\n",
      "2023-08-31 21:21:04,809 - distributed.worker.memory - WARNING - Worker is at 78% memory usage. Resuming worker. Process memory: 8.41 GiB -- Worker memory limit: 10.67 GiB\n",
      "2023-08-31 21:21:06,130 - distributed.worker.memory - WARNING - Worker is at 80% memory usage. Pausing worker.  Process memory: 8.54 GiB -- Worker memory limit: 10.67 GiB\n",
      "2023-08-31 21:21:06,167 - distributed.worker.memory - WARNING - Worker is at 70% memory usage. Resuming worker. Process memory: 7.55 GiB -- Worker memory limit: 10.67 GiB\n",
      "2023-08-31 21:21:07,369 - distributed.worker.memory - WARNING - Unmanaged memory use is high. This may indicate a memory leak or the memory may not be released to the OS; see https://distributed.dask.org/en/latest/worker-memory.html#memory-not-released-back-to-the-os for more information. -- Unmanaged memory: 8.02 GiB -- Worker memory limit: 10.67 GiB\n",
      "2023-08-31 21:21:07,668 - distributed.worker.memory - WARNING - Unmanaged memory use is high. This may indicate a memory leak or the memory may not be released to the OS; see https://distributed.dask.org/en/latest/worker-memory.html#memory-not-released-back-to-the-os for more information. -- Unmanaged memory: 7.74 GiB -- Worker memory limit: 10.67 GiB\n",
      "2023-08-31 21:21:09,162 - distributed.worker.memory - WARNING - Unmanaged memory use is high. This may indicate a memory leak or the memory may not be released to the OS; see https://distributed.dask.org/en/latest/worker-memory.html#memory-not-released-back-to-the-os for more information. -- Unmanaged memory: 8.09 GiB -- Worker memory limit: 10.67 GiB\n"
     ]
    },
    {
     "name": "stdout",
     "output_type": "stream",
     "text": [
      "Blob already exists and overwrite is set to False.\n"
     ]
    },
    {
     "name": "stderr",
     "output_type": "stream",
     "text": [
      "2023-08-31 21:21:10,631 - distributed.worker.memory - WARNING - Worker is at 83% memory usage. Pausing worker.  Process memory: 8.96 GiB -- Worker memory limit: 10.67 GiB\n",
      "2023-08-31 21:21:10,968 - distributed.worker.memory - WARNING - Worker is at 75% memory usage. Resuming worker. Process memory: 8.01 GiB -- Worker memory limit: 10.67 GiB\n"
     ]
    },
    {
     "name": "stdout",
     "output_type": "stream",
     "text": [
      "Blob already exists and overwrite is set to False.\n",
      "Blob already exists and overwrite is set to False.\n"
     ]
    },
    {
     "name": "stderr",
     "output_type": "stream",
     "text": [
      "2023-08-31 21:21:12,214 - distributed.worker.memory - WARNING - Worker is at 86% memory usage. Pausing worker.  Process memory: 9.18 GiB -- Worker memory limit: 10.67 GiB\n",
      "2023-08-31 21:21:12,407 - distributed.worker.memory - WARNING - Worker is at 67% memory usage. Resuming worker. Process memory: 7.18 GiB -- Worker memory limit: 10.67 GiB\n",
      "2023-08-31 21:21:12,789 - distributed.worker.memory - WARNING - Unmanaged memory use is high. This may indicate a memory leak or the memory may not be released to the OS; see https://distributed.dask.org/en/latest/worker-memory.html#memory-not-released-back-to-the-os for more information. -- Unmanaged memory: 7.51 GiB -- Worker memory limit: 10.67 GiB\n",
      "2023-08-31 21:21:14,355 - distributed.worker.memory - WARNING - Worker is at 83% memory usage. Pausing worker.  Process memory: 8.86 GiB -- Worker memory limit: 10.67 GiB\n",
      "2023-08-31 21:21:14,627 - distributed.worker.memory - WARNING - Worker is at 73% memory usage. Resuming worker. Process memory: 7.86 GiB -- Worker memory limit: 10.67 GiB\n",
      "2023-08-31 21:21:14,843 - distributed.worker.memory - WARNING - Unmanaged memory use is high. This may indicate a memory leak or the memory may not be released to the OS; see https://distributed.dask.org/en/latest/worker-memory.html#memory-not-released-back-to-the-os for more information. -- Unmanaged memory: 7.86 GiB -- Worker memory limit: 10.67 GiB\n",
      "2023-08-31 21:21:14,934 - distributed.worker.memory - WARNING - Worker is at 80% memory usage. Pausing worker.  Process memory: 8.59 GiB -- Worker memory limit: 10.67 GiB\n",
      "2023-08-31 21:21:15,119 - distributed.worker.memory - WARNING - Worker is at 62% memory usage. Resuming worker. Process memory: 6.63 GiB -- Worker memory limit: 10.67 GiB\n",
      "2023-08-31 21:21:15,443 - distributed.worker.memory - WARNING - Worker is at 83% memory usage. Pausing worker.  Process memory: 8.86 GiB -- Worker memory limit: 10.67 GiB\n",
      "2023-08-31 21:21:15,597 - distributed.worker.memory - WARNING - Worker is at 73% memory usage. Resuming worker. Process memory: 7.86 GiB -- Worker memory limit: 10.67 GiB\n",
      "2023-08-31 21:21:16,230 - distributed.worker.memory - WARNING - Worker is at 82% memory usage. Pausing worker.  Process memory: 8.80 GiB -- Worker memory limit: 10.67 GiB\n",
      "2023-08-31 21:21:16,870 - distributed.worker.memory - WARNING - Worker is at 70% memory usage. Resuming worker. Process memory: 7.55 GiB -- Worker memory limit: 10.67 GiB\n",
      "2023-08-31 21:21:17,830 - distributed.worker.memory - WARNING - Worker is at 80% memory usage. Pausing worker.  Process memory: 8.55 GiB -- Worker memory limit: 10.67 GiB\n",
      "2023-08-31 21:21:17,925 - distributed.worker.memory - WARNING - Unmanaged memory use is high. This may indicate a memory leak or the memory may not be released to the OS; see https://distributed.dask.org/en/latest/worker-memory.html#memory-not-released-back-to-the-os for more information. -- Unmanaged memory: 9.02 GiB -- Worker memory limit: 10.67 GiB\n"
     ]
    },
    {
     "name": "stdout",
     "output_type": "stream",
     "text": [
      "Blob already exists and overwrite is set to False.\n",
      "Blob already exists and overwrite is set to False.\n"
     ]
    },
    {
     "name": "stderr",
     "output_type": "stream",
     "text": [
      "2023-08-31 21:21:22,969 - distributed.worker.memory - WARNING - Worker is at 77% memory usage. Resuming worker. Process memory: 8.28 GiB -- Worker memory limit: 10.67 GiB\n"
     ]
    },
    {
     "name": "stdout",
     "output_type": "stream",
     "text": [
      "Blob already exists and overwrite is set to False.\n"
     ]
    },
    {
     "name": "stderr",
     "output_type": "stream",
     "text": [
      "2023-08-31 21:21:24,468 - distributed.worker.memory - WARNING - Worker is at 80% memory usage. Pausing worker.  Process memory: 8.57 GiB -- Worker memory limit: 10.67 GiB\n"
     ]
    },
    {
     "name": "stdout",
     "output_type": "stream",
     "text": [
      "Blob already exists and overwrite is set to False.\n"
     ]
    },
    {
     "name": "stderr",
     "output_type": "stream",
     "text": [
      "2023-08-31 21:21:25,249 - distributed.worker.memory - WARNING - Worker is at 70% memory usage. Resuming worker. Process memory: 7.57 GiB -- Worker memory limit: 10.67 GiB\n",
      "2023-08-31 21:21:25,456 - distributed.worker.memory - WARNING - Worker is at 84% memory usage. Pausing worker.  Process memory: 9.01 GiB -- Worker memory limit: 10.67 GiB\n",
      "2023-08-31 21:21:25,468 - distributed.worker.memory - WARNING - Worker is at 72% memory usage. Resuming worker. Process memory: 7.77 GiB -- Worker memory limit: 10.67 GiB\n",
      "2023-08-31 21:21:25,544 - distributed.worker.memory - WARNING - Unmanaged memory use is high. This may indicate a memory leak or the memory may not be released to the OS; see https://distributed.dask.org/en/latest/worker-memory.html#memory-not-released-back-to-the-os for more information. -- Unmanaged memory: 7.90 GiB -- Worker memory limit: 10.67 GiB\n",
      "2023-08-31 21:21:25,652 - distributed.worker.memory - WARNING - Unmanaged memory use is high. This may indicate a memory leak or the memory may not be released to the OS; see https://distributed.dask.org/en/latest/worker-memory.html#memory-not-released-back-to-the-os for more information. -- Unmanaged memory: 6.57 GiB -- Worker memory limit: 10.67 GiB\n"
     ]
    },
    {
     "name": "stdout",
     "output_type": "stream",
     "text": [
      "Blob already exists and overwrite is set to False.\n"
     ]
    },
    {
     "name": "stderr",
     "output_type": "stream",
     "text": [
      "2023-08-31 21:21:26,300 - distributed.worker.memory - WARNING - Unmanaged memory use is high. This may indicate a memory leak or the memory may not be released to the OS; see https://distributed.dask.org/en/latest/worker-memory.html#memory-not-released-back-to-the-os for more information. -- Unmanaged memory: 8.06 GiB -- Worker memory limit: 10.67 GiB\n",
      "2023-08-31 21:21:26,821 - distributed.worker.memory - WARNING - Worker is at 80% memory usage. Pausing worker.  Process memory: 8.57 GiB -- Worker memory limit: 10.67 GiB\n",
      "2023-08-31 21:21:26,878 - distributed.worker.memory - WARNING - Worker is at 86% memory usage. Pausing worker.  Process memory: 9.23 GiB -- Worker memory limit: 10.67 GiB\n",
      "2023-08-31 21:21:27,067 - distributed.worker.memory - WARNING - Worker is at 77% memory usage. Resuming worker. Process memory: 8.24 GiB -- Worker memory limit: 10.67 GiB\n",
      "2023-08-31 21:21:27,409 - distributed.worker.memory - WARNING - Worker is at 70% memory usage. Resuming worker. Process memory: 7.57 GiB -- Worker memory limit: 10.67 GiB\n",
      "2023-08-31 21:21:28,063 - distributed.worker.memory - WARNING - Worker is at 80% memory usage. Pausing worker.  Process memory: 8.59 GiB -- Worker memory limit: 10.67 GiB\n",
      "2023-08-31 21:21:28,461 - distributed.worker.memory - WARNING - Worker is at 78% memory usage. Resuming worker. Process memory: 8.32 GiB -- Worker memory limit: 10.67 GiB\n",
      "2023-08-31 21:21:28,734 - distributed.worker.memory - WARNING - Worker is at 80% memory usage. Pausing worker.  Process memory: 8.54 GiB -- Worker memory limit: 10.67 GiB\n",
      "2023-08-31 21:21:28,942 - distributed.worker.memory - WARNING - Worker is at 70% memory usage. Resuming worker. Process memory: 7.57 GiB -- Worker memory limit: 10.67 GiB\n",
      "2023-08-31 21:21:30,521 - distributed.worker.memory - WARNING - Unmanaged memory use is high. This may indicate a memory leak or the memory may not be released to the OS; see https://distributed.dask.org/en/latest/worker-memory.html#memory-not-released-back-to-the-os for more information. -- Unmanaged memory: 7.00 GiB -- Worker memory limit: 10.67 GiB\n",
      "2023-08-31 21:21:31,359 - distributed.worker.memory - WARNING - Worker is at 87% memory usage. Pausing worker.  Process memory: 9.37 GiB -- Worker memory limit: 10.67 GiB\n"
     ]
    },
    {
     "name": "stdout",
     "output_type": "stream",
     "text": [
      "Blob already exists and overwrite is set to False.\n"
     ]
    },
    {
     "name": "stderr",
     "output_type": "stream",
     "text": [
      "2023-08-31 21:21:31,978 - distributed.worker.memory - WARNING - Worker is at 69% memory usage. Resuming worker. Process memory: 7.38 GiB -- Worker memory limit: 10.67 GiB\n",
      "2023-08-31 21:21:32,692 - distributed.worker.memory - WARNING - Worker is at 80% memory usage. Pausing worker.  Process memory: 8.62 GiB -- Worker memory limit: 10.67 GiB\n",
      "2023-08-31 21:21:32,768 - distributed.worker.memory - WARNING - Worker is at 56% memory usage. Resuming worker. Process memory: 6.00 GiB -- Worker memory limit: 10.67 GiB\n"
     ]
    },
    {
     "name": "stdout",
     "output_type": "stream",
     "text": [
      "Blob already exists and overwrite is set to False.\n",
      "Blob already exists and overwrite is set to False.\n",
      "Blob already exists and overwrite is set to False.\n"
     ]
    },
    {
     "name": "stderr",
     "output_type": "stream",
     "text": [
      "2023-08-31 21:21:36,166 - distributed.worker.memory - WARNING - Unmanaged memory use is high. This may indicate a memory leak or the memory may not be released to the OS; see https://distributed.dask.org/en/latest/worker-memory.html#memory-not-released-back-to-the-os for more information. -- Unmanaged memory: 7.09 GiB -- Worker memory limit: 10.67 GiB\n"
     ]
    },
    {
     "name": "stdout",
     "output_type": "stream",
     "text": [
      "Blob already exists and overwrite is set to False.\n",
      "Blob already exists and overwrite is set to False.\n"
     ]
    },
    {
     "name": "stderr",
     "output_type": "stream",
     "text": [
      "2023-08-31 21:21:38,373 - distributed.worker.memory - WARNING - Unmanaged memory use is high. This may indicate a memory leak or the memory may not be released to the OS; see https://distributed.dask.org/en/latest/worker-memory.html#memory-not-released-back-to-the-os for more information. -- Unmanaged memory: 6.50 GiB -- Worker memory limit: 10.67 GiB\n",
      "2023-08-31 21:21:40,468 - distributed.worker.memory - WARNING - Unmanaged memory use is high. This may indicate a memory leak or the memory may not be released to the OS; see https://distributed.dask.org/en/latest/worker-memory.html#memory-not-released-back-to-the-os for more information. -- Unmanaged memory: 6.49 GiB -- Worker memory limit: 10.67 GiB\n",
      "2023-08-31 21:21:40,570 - distributed.worker.memory - WARNING - Unmanaged memory use is high. This may indicate a memory leak or the memory may not be released to the OS; see https://distributed.dask.org/en/latest/worker-memory.html#memory-not-released-back-to-the-os for more information. -- Unmanaged memory: 8.45 GiB -- Worker memory limit: 10.67 GiB\n"
     ]
    },
    {
     "name": "stdout",
     "output_type": "stream",
     "text": [
      "Blob already exists and overwrite is set to False.\n",
      "Blob already exists and overwrite is set to False.\n"
     ]
    },
    {
     "name": "stderr",
     "output_type": "stream",
     "text": [
      "2023-08-31 21:21:41,269 - distributed.worker.memory - WARNING - Worker is at 80% memory usage. Pausing worker.  Process memory: 8.54 GiB -- Worker memory limit: 10.67 GiB\n",
      "2023-08-31 21:21:42,682 - distributed.worker.memory - WARNING - Unmanaged memory use is high. This may indicate a memory leak or the memory may not be released to the OS; see https://distributed.dask.org/en/latest/worker-memory.html#memory-not-released-back-to-the-os for more information. -- Unmanaged memory: 6.51 GiB -- Worker memory limit: 10.67 GiB\n",
      "2023-08-31 21:21:45,269 - distributed.worker.memory - WARNING - Worker is at 79% memory usage. Resuming worker. Process memory: 8.51 GiB -- Worker memory limit: 10.67 GiB\n",
      "2023-08-31 21:21:45,276 - distributed.nanny.memory - WARNING - Worker tcp://127.0.0.1:51316 (pid=48202) exceeded 95% memory budget. Restarting...\n",
      "2023-08-31 21:21:45,459 - distributed.nanny - WARNING - Restarting worker\n",
      "2023-08-31 21:21:45,569 - distributed.worker.memory - WARNING - Worker is at 80% memory usage. Pausing worker.  Process memory: 8.54 GiB -- Worker memory limit: 10.67 GiB\n",
      "2023-08-31 21:21:46,863 - distributed.worker.memory - WARNING - Worker is at 71% memory usage. Resuming worker. Process memory: 7.66 GiB -- Worker memory limit: 10.67 GiB\n"
     ]
    },
    {
     "name": "stdout",
     "output_type": "stream",
     "text": [
      "Blob already exists and overwrite is set to False.\n"
     ]
    },
    {
     "name": "stderr",
     "output_type": "stream",
     "text": [
      "2023-08-31 21:21:47,468 - distributed.worker.memory - WARNING - Worker is at 81% memory usage. Pausing worker.  Process memory: 8.66 GiB -- Worker memory limit: 10.67 GiB\n",
      "2023-08-31 21:21:50,499 - distributed.worker.memory - WARNING - Unmanaged memory use is high. This may indicate a memory leak or the memory may not be released to the OS; see https://distributed.dask.org/en/latest/worker-memory.html#memory-not-released-back-to-the-os for more information. -- Unmanaged memory: 7.53 GiB -- Worker memory limit: 10.67 GiB\n",
      "2023-08-31 21:21:52,477 - distributed.nanny.memory - WARNING - Worker tcp://127.0.0.1:51317 (pid=48201) exceeded 95% memory budget. Restarting...\n",
      "2023-08-31 21:21:52,686 - distributed.worker - ERROR - Worker stream died during communication: tcp://127.0.0.1:51317\n",
      "Traceback (most recent call last):\n",
      "  File \"/Users/calkoen/mambaforge/envs/testenv/lib/python3.11/site-packages/distributed/comm/tcp.py\", line 225, in read\n",
      "    frames_nbytes = await stream.read_bytes(fmt_size)\n",
      "                    ^^^^^^^^^^^^^^^^^^^^^^^^^^^^^^^^^\n",
      "tornado.iostream.StreamClosedError: Stream is closed\n",
      "\n",
      "The above exception was the direct cause of the following exception:\n",
      "\n",
      "Traceback (most recent call last):\n",
      "  File \"/Users/calkoen/mambaforge/envs/testenv/lib/python3.11/site-packages/distributed/worker.py\", line 2053, in gather_dep\n",
      "    response = await get_data_from_worker(\n",
      "               ^^^^^^^^^^^^^^^^^^^^^^^^^^^\n",
      "  File \"/Users/calkoen/mambaforge/envs/testenv/lib/python3.11/site-packages/distributed/worker.py\", line 2902, in get_data_from_worker\n",
      "    response = await send_recv(\n",
      "               ^^^^^^^^^^^^^^^^\n",
      "  File \"/Users/calkoen/mambaforge/envs/testenv/lib/python3.11/site-packages/distributed/core.py\", line 1136, in send_recv\n",
      "    response = await comm.read(deserializers=deserializers)\n",
      "               ^^^^^^^^^^^^^^^^^^^^^^^^^^^^^^^^^^^^^^^^^^^^\n",
      "  File \"/Users/calkoen/mambaforge/envs/testenv/lib/python3.11/site-packages/distributed/comm/tcp.py\", line 241, in read\n",
      "    convert_stream_closed_error(self, e)\n",
      "  File \"/Users/calkoen/mambaforge/envs/testenv/lib/python3.11/site-packages/distributed/comm/tcp.py\", line 144, in convert_stream_closed_error\n",
      "    raise CommClosedError(f\"in {obj}: {exc}\") from exc\n",
      "distributed.comm.core.CommClosedError: in <TCP (closed) Ephemeral Worker->Worker for gather local=tcp://127.0.0.1:51470 remote=tcp://127.0.0.1:51317>: Stream is closed\n",
      "2023-08-31 21:21:52,691 - distributed.nanny - WARNING - Restarting worker\n",
      "2023-08-31 21:21:52,911 - distributed.worker.memory - WARNING - Unmanaged memory use is high. This may indicate a memory leak or the memory may not be released to the OS; see https://distributed.dask.org/en/latest/worker-memory.html#memory-not-released-back-to-the-os for more information. -- Unmanaged memory: 8.02 GiB -- Worker memory limit: 10.67 GiB\n"
     ]
    },
    {
     "name": "stdout",
     "output_type": "stream",
     "text": [
      "Blob already exists and overwrite is set to False.\n"
     ]
    },
    {
     "name": "stderr",
     "output_type": "stream",
     "text": [
      "2023-08-31 21:21:57,308 - distributed.worker.memory - WARNING - Unmanaged memory use is high. This may indicate a memory leak or the memory may not be released to the OS; see https://distributed.dask.org/en/latest/worker-memory.html#memory-not-released-back-to-the-os for more information. -- Unmanaged memory: 6.74 GiB -- Worker memory limit: 10.67 GiB\n"
     ]
    },
    {
     "name": "stdout",
     "output_type": "stream",
     "text": [
      "Blob already exists and overwrite is set to False.\n"
     ]
    },
    {
     "name": "stderr",
     "output_type": "stream",
     "text": [
      "2023-08-31 21:22:01,368 - distributed.worker.memory - WARNING - Worker is at 85% memory usage. Pausing worker.  Process memory: 9.09 GiB -- Worker memory limit: 10.67 GiB\n",
      "2023-08-31 21:22:01,557 - distributed.worker.memory - WARNING - Worker is at 66% memory usage. Resuming worker. Process memory: 7.09 GiB -- Worker memory limit: 10.67 GiB\n",
      "2023-08-31 21:22:03,447 - distributed.worker.memory - WARNING - Unmanaged memory use is high. This may indicate a memory leak or the memory may not be released to the OS; see https://distributed.dask.org/en/latest/worker-memory.html#memory-not-released-back-to-the-os for more information. -- Unmanaged memory: 7.10 GiB -- Worker memory limit: 10.67 GiB\n"
     ]
    },
    {
     "name": "stdout",
     "output_type": "stream",
     "text": [
      "Blob already exists and overwrite is set to False.\n"
     ]
    },
    {
     "name": "stderr",
     "output_type": "stream",
     "text": [
      "2023-08-31 21:22:03,859 - distributed.worker.memory - WARNING - Worker is at 81% memory usage. Pausing worker.  Process memory: 8.70 GiB -- Worker memory limit: 10.67 GiB\n",
      "2023-08-31 21:22:03,878 - distributed.worker.memory - WARNING - Unmanaged memory use is high. This may indicate a memory leak or the memory may not be released to the OS; see https://distributed.dask.org/en/latest/worker-memory.html#memory-not-released-back-to-the-os for more information. -- Unmanaged memory: 6.84 GiB -- Worker memory limit: 10.67 GiB\n",
      "2023-08-31 21:22:04,012 - distributed.worker.memory - WARNING - Worker is at 72% memory usage. Resuming worker. Process memory: 7.73 GiB -- Worker memory limit: 10.67 GiB\n",
      "2023-08-31 21:22:05,061 - distributed.worker.memory - WARNING - Unmanaged memory use is high. This may indicate a memory leak or the memory may not be released to the OS; see https://distributed.dask.org/en/latest/worker-memory.html#memory-not-released-back-to-the-os for more information. -- Unmanaged memory: 7.76 GiB -- Worker memory limit: 10.67 GiB\n"
     ]
    },
    {
     "name": "stdout",
     "output_type": "stream",
     "text": [
      "Blob already exists and overwrite is set to False.\n",
      "Blob already exists and overwrite is set to False.\n"
     ]
    },
    {
     "name": "stderr",
     "output_type": "stream",
     "text": [
      "2023-08-31 21:22:05,936 - distributed.worker.memory - WARNING - Worker is at 90% memory usage. Pausing worker.  Process memory: 9.62 GiB -- Worker memory limit: 10.67 GiB\n"
     ]
    },
    {
     "name": "stdout",
     "output_type": "stream",
     "text": [
      "Blob already exists and overwrite is set to False.\n",
      "Blob already exists and overwrite is set to False.\n"
     ]
    },
    {
     "name": "stderr",
     "output_type": "stream",
     "text": [
      "2023-08-31 21:22:06,161 - distributed.worker.memory - WARNING - Worker is at 59% memory usage. Resuming worker. Process memory: 6.36 GiB -- Worker memory limit: 10.67 GiB\n",
      "2023-08-31 21:22:06,371 - distributed.worker.memory - WARNING - Worker is at 82% memory usage. Pausing worker.  Process memory: 8.79 GiB -- Worker memory limit: 10.67 GiB\n",
      "2023-08-31 21:22:06,580 - distributed.worker.memory - WARNING - Worker is at 73% memory usage. Resuming worker. Process memory: 7.79 GiB -- Worker memory limit: 10.67 GiB\n",
      "2023-08-31 21:22:07,344 - distributed.worker.memory - WARNING - Worker is at 82% memory usage. Pausing worker.  Process memory: 8.80 GiB -- Worker memory limit: 10.67 GiB\n",
      "2023-08-31 21:22:07,510 - distributed.worker.memory - WARNING - Worker is at 73% memory usage. Resuming worker. Process memory: 7.80 GiB -- Worker memory limit: 10.67 GiB\n"
     ]
    },
    {
     "name": "stdout",
     "output_type": "stream",
     "text": [
      "Blob already exists and overwrite is set to False.\n"
     ]
    },
    {
     "name": "stderr",
     "output_type": "stream",
     "text": [
      "2023-08-31 21:22:07,669 - distributed.worker.memory - WARNING - Unmanaged memory use is high. This may indicate a memory leak or the memory may not be released to the OS; see https://distributed.dask.org/en/latest/worker-memory.html#memory-not-released-back-to-the-os for more information. -- Unmanaged memory: 7.80 GiB -- Worker memory limit: 10.67 GiB\n"
     ]
    },
    {
     "name": "stdout",
     "output_type": "stream",
     "text": [
      "Blob already exists and overwrite is set to False.\n",
      "Blob already exists and overwrite is set to False.\n",
      "Blob already exists and overwrite is set to False.\n"
     ]
    },
    {
     "name": "stderr",
     "output_type": "stream",
     "text": [
      "2023-08-31 21:22:13,836 - distributed.worker.memory - WARNING - Unmanaged memory use is high. This may indicate a memory leak or the memory may not be released to the OS; see https://distributed.dask.org/en/latest/worker-memory.html#memory-not-released-back-to-the-os for more information. -- Unmanaged memory: 7.11 GiB -- Worker memory limit: 10.67 GiB\n"
     ]
    },
    {
     "name": "stdout",
     "output_type": "stream",
     "text": [
      "Blob already exists and overwrite is set to False.\n"
     ]
    },
    {
     "name": "stderr",
     "output_type": "stream",
     "text": [
      "2023-08-31 21:22:15,100 - distributed.worker.memory - WARNING - Unmanaged memory use is high. This may indicate a memory leak or the memory may not be released to the OS; see https://distributed.dask.org/en/latest/worker-memory.html#memory-not-released-back-to-the-os for more information. -- Unmanaged memory: 7.97 GiB -- Worker memory limit: 10.67 GiB\n",
      "2023-08-31 21:22:16,386 - distributed.worker.memory - WARNING - Unmanaged memory use is high. This may indicate a memory leak or the memory may not be released to the OS; see https://distributed.dask.org/en/latest/worker-memory.html#memory-not-released-back-to-the-os for more information. -- Unmanaged memory: 6.50 GiB -- Worker memory limit: 10.67 GiB\n"
     ]
    },
    {
     "name": "stdout",
     "output_type": "stream",
     "text": [
      "Blob already exists and overwrite is set to False.\n"
     ]
    },
    {
     "name": "stderr",
     "output_type": "stream",
     "text": [
      "2023-08-31 21:22:19,265 - distributed.worker.memory - WARNING - Unmanaged memory use is high. This may indicate a memory leak or the memory may not be released to the OS; see https://distributed.dask.org/en/latest/worker-memory.html#memory-not-released-back-to-the-os for more information. -- Unmanaged memory: 8.04 GiB -- Worker memory limit: 10.67 GiB\n"
     ]
    },
    {
     "name": "stdout",
     "output_type": "stream",
     "text": [
      "Blob already exists and overwrite is set to False.\n",
      "Blob already exists and overwrite is set to False.\n"
     ]
    },
    {
     "name": "stderr",
     "output_type": "stream",
     "text": [
      "2023-08-31 21:22:20,155 - distributed.worker.memory - WARNING - Worker is at 81% memory usage. Pausing worker.  Process memory: 8.65 GiB -- Worker memory limit: 10.67 GiB\n",
      "2023-08-31 21:22:20,312 - distributed.worker.memory - WARNING - Worker is at 72% memory usage. Resuming worker. Process memory: 7.68 GiB -- Worker memory limit: 10.67 GiB\n"
     ]
    },
    {
     "name": "stdout",
     "output_type": "stream",
     "text": [
      "Blob already exists and overwrite is set to False.\n"
     ]
    },
    {
     "name": "stderr",
     "output_type": "stream",
     "text": [
      "2023-08-31 21:22:20,693 - distributed.worker.memory - WARNING - Unmanaged memory use is high. This may indicate a memory leak or the memory may not be released to the OS; see https://distributed.dask.org/en/latest/worker-memory.html#memory-not-released-back-to-the-os for more information. -- Unmanaged memory: 7.69 GiB -- Worker memory limit: 10.67 GiB\n",
      "2023-08-31 21:22:20,862 - distributed.worker.memory - WARNING - Worker is at 84% memory usage. Pausing worker.  Process memory: 9.04 GiB -- Worker memory limit: 10.67 GiB\n",
      "2023-08-31 21:22:21,057 - distributed.worker.memory - WARNING - Worker is at 75% memory usage. Resuming worker. Process memory: 8.06 GiB -- Worker memory limit: 10.67 GiB\n",
      "2023-08-31 21:22:22,303 - distributed.worker.memory - WARNING - Unmanaged memory use is high. This may indicate a memory leak or the memory may not be released to the OS; see https://distributed.dask.org/en/latest/worker-memory.html#memory-not-released-back-to-the-os for more information. -- Unmanaged memory: 6.50 GiB -- Worker memory limit: 10.67 GiB\n"
     ]
    },
    {
     "name": "stdout",
     "output_type": "stream",
     "text": [
      "Blob already exists and overwrite is set to False.\n",
      "Blob already exists and overwrite is set to False.\n"
     ]
    },
    {
     "name": "stderr",
     "output_type": "stream",
     "text": [
      "2023-08-31 21:22:26,418 - distributed.worker.memory - WARNING - Unmanaged memory use is high. This may indicate a memory leak or the memory may not be released to the OS; see https://distributed.dask.org/en/latest/worker-memory.html#memory-not-released-back-to-the-os for more information. -- Unmanaged memory: 7.89 GiB -- Worker memory limit: 10.67 GiB\n",
      "2023-08-31 21:22:26,763 - distributed.worker.memory - WARNING - Unmanaged memory use is high. This may indicate a memory leak or the memory may not be released to the OS; see https://distributed.dask.org/en/latest/worker-memory.html#memory-not-released-back-to-the-os for more information. -- Unmanaged memory: 6.50 GiB -- Worker memory limit: 10.67 GiB\n"
     ]
    },
    {
     "name": "stdout",
     "output_type": "stream",
     "text": [
      "Blob already exists and overwrite is set to False.\n"
     ]
    },
    {
     "name": "stderr",
     "output_type": "stream",
     "text": [
      "2023-08-31 21:22:28,451 - distributed.worker.memory - WARNING - Unmanaged memory use is high. This may indicate a memory leak or the memory may not be released to the OS; see https://distributed.dask.org/en/latest/worker-memory.html#memory-not-released-back-to-the-os for more information. -- Unmanaged memory: 7.52 GiB -- Worker memory limit: 10.67 GiB\n"
     ]
    },
    {
     "name": "stdout",
     "output_type": "stream",
     "text": [
      "Blob already exists and overwrite is set to False.\n"
     ]
    },
    {
     "name": "stderr",
     "output_type": "stream",
     "text": [
      "2023-08-31 21:22:30,005 - distributed.worker.memory - WARNING - Unmanaged memory use is high. This may indicate a memory leak or the memory may not be released to the OS; see https://distributed.dask.org/en/latest/worker-memory.html#memory-not-released-back-to-the-os for more information. -- Unmanaged memory: 7.30 GiB -- Worker memory limit: 10.67 GiB\n"
     ]
    },
    {
     "name": "stdout",
     "output_type": "stream",
     "text": [
      "Blob already exists and overwrite is set to False.\n"
     ]
    },
    {
     "name": "stderr",
     "output_type": "stream",
     "text": [
      "2023-08-31 21:22:31,207 - distributed.worker.memory - WARNING - Unmanaged memory use is high. This may indicate a memory leak or the memory may not be released to the OS; see https://distributed.dask.org/en/latest/worker-memory.html#memory-not-released-back-to-the-os for more information. -- Unmanaged memory: 6.98 GiB -- Worker memory limit: 10.67 GiB\n",
      "2023-08-31 21:22:31,421 - distributed.worker.memory - WARNING - Worker is at 80% memory usage. Pausing worker.  Process memory: 8.54 GiB -- Worker memory limit: 10.67 GiB\n",
      "2023-08-31 21:22:31,518 - distributed.worker.memory - WARNING - Worker is at 61% memory usage. Resuming worker. Process memory: 6.56 GiB -- Worker memory limit: 10.67 GiB\n",
      "2023-08-31 21:22:35,401 - distributed.worker.memory - WARNING - Worker is at 80% memory usage. Pausing worker.  Process memory: 8.54 GiB -- Worker memory limit: 10.67 GiB\n"
     ]
    },
    {
     "name": "stdout",
     "output_type": "stream",
     "text": [
      "Blob already exists and overwrite is set to False.\n"
     ]
    },
    {
     "name": "stderr",
     "output_type": "stream",
     "text": [
      "2023-08-31 21:22:37,618 - distributed.worker - ERROR - Worker stream died during communication: tcp://127.0.0.1:51474\n",
      "Traceback (most recent call last):\n",
      "  File \"/Users/calkoen/mambaforge/envs/testenv/lib/python3.11/site-packages/distributed/worker.py\", line 2053, in gather_dep\n",
      "    response = await get_data_from_worker(\n",
      "               ^^^^^^^^^^^^^^^^^^^^^^^^^^^\n",
      "  File \"/Users/calkoen/mambaforge/envs/testenv/lib/python3.11/site-packages/distributed/worker.py\", line 2902, in get_data_from_worker\n",
      "    response = await send_recv(\n",
      "               ^^^^^^^^^^^^^^^^\n",
      "  File \"/Users/calkoen/mambaforge/envs/testenv/lib/python3.11/site-packages/distributed/core.py\", line 1136, in send_recv\n",
      "    response = await comm.read(deserializers=deserializers)\n",
      "               ^^^^^^^^^^^^^^^^^^^^^^^^^^^^^^^^^^^^^^^^^^^^\n",
      "  File \"/Users/calkoen/mambaforge/envs/testenv/lib/python3.11/site-packages/distributed/comm/tcp.py\", line 235, in read\n",
      "    n = await stream.read_into(chunk)\n",
      "              ^^^^^^^^^^^^^^^^^^^^^^^\n",
      "  File \"/Users/calkoen/mambaforge/envs/testenv/lib/python3.11/site-packages/tornado/iostream.py\", line 467, in read_into\n",
      "    self._try_inline_read()\n",
      "  File \"/Users/calkoen/mambaforge/envs/testenv/lib/python3.11/site-packages/tornado/iostream.py\", line 836, in _try_inline_read\n",
      "    pos = self._read_to_buffer_loop()\n",
      "          ^^^^^^^^^^^^^^^^^^^^^^^^^^^\n",
      "  File \"/Users/calkoen/mambaforge/envs/testenv/lib/python3.11/site-packages/tornado/iostream.py\", line 750, in _read_to_buffer_loop\n",
      "    if self._read_to_buffer() == 0:\n",
      "       ^^^^^^^^^^^^^^^^^^^^^^\n",
      "  File \"/Users/calkoen/mambaforge/envs/testenv/lib/python3.11/site-packages/tornado/iostream.py\", line 861, in _read_to_buffer\n",
      "    bytes_read = self.read_from_fd(buf)\n",
      "                 ^^^^^^^^^^^^^^^^^^^^^^\n",
      "  File \"/Users/calkoen/mambaforge/envs/testenv/lib/python3.11/site-packages/tornado/iostream.py\", line 1116, in read_from_fd\n",
      "    return self.socket.recv_into(buf, len(buf))\n",
      "           ^^^^^^^^^^^^^^^^^^^^^^^^^^^^^^^^^^^^\n",
      "OSError: [Errno 22] Invalid argument\n",
      "2023-08-31 21:22:37,618 - distributed.worker - ERROR - failed during get data with tcp://127.0.0.1:51474 -> tcp://127.0.0.1:51313\n",
      "Traceback (most recent call last):\n",
      "  File \"/Users/calkoen/mambaforge/envs/testenv/lib/python3.11/site-packages/tornado/iostream.py\", line 962, in _handle_write\n",
      "    num_bytes = self.write_to_fd(self._write_buffer.peek(size))\n",
      "                ^^^^^^^^^^^^^^^^^^^^^^^^^^^^^^^^^^^^^^^^^^^^^^^\n",
      "  File \"/Users/calkoen/mambaforge/envs/testenv/lib/python3.11/site-packages/tornado/iostream.py\", line 1124, in write_to_fd\n",
      "    return self.socket.send(data)  # type: ignore\n",
      "           ^^^^^^^^^^^^^^^^^^^^^^\n",
      "ConnectionResetError: [Errno 54] Connection reset by peer\n",
      "\n",
      "The above exception was the direct cause of the following exception:\n",
      "\n",
      "Traceback (most recent call last):\n",
      "  File \"/Users/calkoen/mambaforge/envs/testenv/lib/python3.11/site-packages/distributed/worker.py\", line 1780, in get_data\n",
      "    response = await comm.read(deserializers=serializers)\n",
      "               ^^^^^^^^^^^^^^^^^^^^^^^^^^^^^^^^^^^^^^^^^^\n",
      "  File \"/Users/calkoen/mambaforge/envs/testenv/lib/python3.11/site-packages/distributed/comm/tcp.py\", line 241, in read\n",
      "    convert_stream_closed_error(self, e)\n",
      "  File \"/Users/calkoen/mambaforge/envs/testenv/lib/python3.11/site-packages/distributed/comm/tcp.py\", line 142, in convert_stream_closed_error\n",
      "    raise CommClosedError(f\"in {obj}: {exc.__class__.__name__}: {exc}\") from exc\n",
      "distributed.comm.core.CommClosedError: in <TCP (closed)  local=tcp://127.0.0.1:51474 remote=tcp://127.0.0.1:51500>: ConnectionResetError: [Errno 54] Connection reset by peer\n",
      "2023-08-31 21:22:37,621 - distributed.worker.memory - WARNING - Worker is at 78% memory usage. Resuming worker. Process memory: 8.36 GiB -- Worker memory limit: 10.67 GiB\n"
     ]
    },
    {
     "name": "stdout",
     "output_type": "stream",
     "text": [
      "Blob already exists and overwrite is set to False.\n"
     ]
    },
    {
     "name": "stderr",
     "output_type": "stream",
     "text": [
      "2023-08-31 21:22:38,185 - distributed.worker - ERROR - Worker stream died during communication: tcp://127.0.0.1:51474\n",
      "Traceback (most recent call last):\n",
      "  File \"/Users/calkoen/mambaforge/envs/testenv/lib/python3.11/site-packages/distributed/worker.py\", line 2053, in gather_dep\n",
      "    response = await get_data_from_worker(\n",
      "               ^^^^^^^^^^^^^^^^^^^^^^^^^^^\n",
      "  File \"/Users/calkoen/mambaforge/envs/testenv/lib/python3.11/site-packages/distributed/worker.py\", line 2902, in get_data_from_worker\n",
      "    response = await send_recv(\n",
      "               ^^^^^^^^^^^^^^^^\n",
      "  File \"/Users/calkoen/mambaforge/envs/testenv/lib/python3.11/site-packages/distributed/core.py\", line 1136, in send_recv\n",
      "    response = await comm.read(deserializers=deserializers)\n",
      "               ^^^^^^^^^^^^^^^^^^^^^^^^^^^^^^^^^^^^^^^^^^^^\n",
      "  File \"/Users/calkoen/mambaforge/envs/testenv/lib/python3.11/site-packages/distributed/comm/tcp.py\", line 235, in read\n",
      "    n = await stream.read_into(chunk)\n",
      "              ^^^^^^^^^^^^^^^^^^^^^^^\n",
      "  File \"/Users/calkoen/mambaforge/envs/testenv/lib/python3.11/site-packages/tornado/iostream.py\", line 467, in read_into\n",
      "    self._try_inline_read()\n",
      "  File \"/Users/calkoen/mambaforge/envs/testenv/lib/python3.11/site-packages/tornado/iostream.py\", line 836, in _try_inline_read\n",
      "    pos = self._read_to_buffer_loop()\n",
      "          ^^^^^^^^^^^^^^^^^^^^^^^^^^^\n",
      "  File \"/Users/calkoen/mambaforge/envs/testenv/lib/python3.11/site-packages/tornado/iostream.py\", line 750, in _read_to_buffer_loop\n",
      "    if self._read_to_buffer() == 0:\n",
      "       ^^^^^^^^^^^^^^^^^^^^^^\n",
      "  File \"/Users/calkoen/mambaforge/envs/testenv/lib/python3.11/site-packages/tornado/iostream.py\", line 861, in _read_to_buffer\n",
      "    bytes_read = self.read_from_fd(buf)\n",
      "                 ^^^^^^^^^^^^^^^^^^^^^^\n",
      "  File \"/Users/calkoen/mambaforge/envs/testenv/lib/python3.11/site-packages/tornado/iostream.py\", line 1116, in read_from_fd\n",
      "    return self.socket.recv_into(buf, len(buf))\n",
      "           ^^^^^^^^^^^^^^^^^^^^^^^^^^^^^^^^^^^^\n",
      "OSError: [Errno 22] Invalid argument\n",
      "2023-08-31 21:22:38,185 - distributed.worker - ERROR - failed during get data with tcp://127.0.0.1:51474 -> tcp://127.0.0.1:51313\n",
      "Traceback (most recent call last):\n",
      "  File \"/Users/calkoen/mambaforge/envs/testenv/lib/python3.11/site-packages/tornado/iostream.py\", line 962, in _handle_write\n",
      "    num_bytes = self.write_to_fd(self._write_buffer.peek(size))\n",
      "                ^^^^^^^^^^^^^^^^^^^^^^^^^^^^^^^^^^^^^^^^^^^^^^^\n",
      "  File \"/Users/calkoen/mambaforge/envs/testenv/lib/python3.11/site-packages/tornado/iostream.py\", line 1124, in write_to_fd\n",
      "    return self.socket.send(data)  # type: ignore\n",
      "           ^^^^^^^^^^^^^^^^^^^^^^\n",
      "ConnectionResetError: [Errno 54] Connection reset by peer\n",
      "\n",
      "The above exception was the direct cause of the following exception:\n",
      "\n",
      "Traceback (most recent call last):\n",
      "  File \"/Users/calkoen/mambaforge/envs/testenv/lib/python3.11/site-packages/distributed/worker.py\", line 1780, in get_data\n",
      "    response = await comm.read(deserializers=serializers)\n",
      "               ^^^^^^^^^^^^^^^^^^^^^^^^^^^^^^^^^^^^^^^^^^\n",
      "  File \"/Users/calkoen/mambaforge/envs/testenv/lib/python3.11/site-packages/distributed/comm/tcp.py\", line 241, in read\n",
      "    convert_stream_closed_error(self, e)\n",
      "  File \"/Users/calkoen/mambaforge/envs/testenv/lib/python3.11/site-packages/distributed/comm/tcp.py\", line 142, in convert_stream_closed_error\n",
      "    raise CommClosedError(f\"in {obj}: {exc.__class__.__name__}: {exc}\") from exc\n",
      "distributed.comm.core.CommClosedError: in <TCP (closed)  local=tcp://127.0.0.1:51474 remote=tcp://127.0.0.1:51502>: ConnectionResetError: [Errno 54] Connection reset by peer\n",
      "2023-08-31 21:22:38,958 - distributed.worker.memory - WARNING - Unmanaged memory use is high. This may indicate a memory leak or the memory may not be released to the OS; see https://distributed.dask.org/en/latest/worker-memory.html#memory-not-released-back-to-the-os for more information. -- Unmanaged memory: 6.50 GiB -- Worker memory limit: 10.67 GiB\n",
      "2023-08-31 21:22:39,218 - distributed.worker.memory - WARNING - Unmanaged memory use is high. This may indicate a memory leak or the memory may not be released to the OS; see https://distributed.dask.org/en/latest/worker-memory.html#memory-not-released-back-to-the-os for more information. -- Unmanaged memory: 6.95 GiB -- Worker memory limit: 10.67 GiB\n",
      "2023-08-31 21:22:39,224 - distributed.worker.memory - WARNING - Unmanaged memory use is high. This may indicate a memory leak or the memory may not be released to the OS; see https://distributed.dask.org/en/latest/worker-memory.html#memory-not-released-back-to-the-os for more information. -- Unmanaged memory: 6.50 GiB -- Worker memory limit: 10.67 GiB\n",
      "2023-08-31 21:22:39,487 - distributed.worker.memory - WARNING - Worker is at 89% memory usage. Pausing worker.  Process memory: 9.56 GiB -- Worker memory limit: 10.67 GiB\n",
      "2023-08-31 21:22:39,731 - distributed.worker.memory - WARNING - Worker is at 77% memory usage. Resuming worker. Process memory: 8.32 GiB -- Worker memory limit: 10.67 GiB\n",
      "2023-08-31 21:22:39,903 - distributed.worker - ERROR - Worker stream died during communication: tcp://127.0.0.1:51474\n",
      "Traceback (most recent call last):\n",
      "  File \"/Users/calkoen/mambaforge/envs/testenv/lib/python3.11/site-packages/distributed/worker.py\", line 2053, in gather_dep\n",
      "    response = await get_data_from_worker(\n",
      "               ^^^^^^^^^^^^^^^^^^^^^^^^^^^\n",
      "  File \"/Users/calkoen/mambaforge/envs/testenv/lib/python3.11/site-packages/distributed/worker.py\", line 2902, in get_data_from_worker\n",
      "    response = await send_recv(\n",
      "               ^^^^^^^^^^^^^^^^\n",
      "  File \"/Users/calkoen/mambaforge/envs/testenv/lib/python3.11/site-packages/distributed/core.py\", line 1136, in send_recv\n",
      "    response = await comm.read(deserializers=deserializers)\n",
      "               ^^^^^^^^^^^^^^^^^^^^^^^^^^^^^^^^^^^^^^^^^^^^\n",
      "  File \"/Users/calkoen/mambaforge/envs/testenv/lib/python3.11/site-packages/distributed/comm/tcp.py\", line 235, in read\n",
      "    n = await stream.read_into(chunk)\n",
      "              ^^^^^^^^^^^^^^^^^^^^^^^\n",
      "  File \"/Users/calkoen/mambaforge/envs/testenv/lib/python3.11/site-packages/tornado/iostream.py\", line 467, in read_into\n",
      "    self._try_inline_read()\n",
      "  File \"/Users/calkoen/mambaforge/envs/testenv/lib/python3.11/site-packages/tornado/iostream.py\", line 836, in _try_inline_read\n",
      "    pos = self._read_to_buffer_loop()\n",
      "          ^^^^^^^^^^^^^^^^^^^^^^^^^^^\n",
      "  File \"/Users/calkoen/mambaforge/envs/testenv/lib/python3.11/site-packages/tornado/iostream.py\", line 750, in _read_to_buffer_loop\n",
      "    if self._read_to_buffer() == 0:\n",
      "       ^^^^^^^^^^^^^^^^^^^^^^\n",
      "  File \"/Users/calkoen/mambaforge/envs/testenv/lib/python3.11/site-packages/tornado/iostream.py\", line 861, in _read_to_buffer\n",
      "    bytes_read = self.read_from_fd(buf)\n",
      "                 ^^^^^^^^^^^^^^^^^^^^^^\n",
      "  File \"/Users/calkoen/mambaforge/envs/testenv/lib/python3.11/site-packages/tornado/iostream.py\", line 1116, in read_from_fd\n",
      "    return self.socket.recv_into(buf, len(buf))\n",
      "           ^^^^^^^^^^^^^^^^^^^^^^^^^^^^^^^^^^^^\n",
      "OSError: [Errno 22] Invalid argument\n",
      "2023-08-31 21:22:40,428 - distributed.worker - ERROR - failed during get data with tcp://127.0.0.1:51474 -> tcp://127.0.0.1:51313\n",
      "Traceback (most recent call last):\n",
      "  File \"/Users/calkoen/mambaforge/envs/testenv/lib/python3.11/site-packages/tornado/iostream.py\", line 962, in _handle_write\n",
      "    num_bytes = self.write_to_fd(self._write_buffer.peek(size))\n",
      "                ^^^^^^^^^^^^^^^^^^^^^^^^^^^^^^^^^^^^^^^^^^^^^^^\n",
      "  File \"/Users/calkoen/mambaforge/envs/testenv/lib/python3.11/site-packages/tornado/iostream.py\", line 1124, in write_to_fd\n",
      "    return self.socket.send(data)  # type: ignore\n",
      "           ^^^^^^^^^^^^^^^^^^^^^^\n",
      "BrokenPipeError: [Errno 32] Broken pipe\n",
      "\n",
      "The above exception was the direct cause of the following exception:\n",
      "\n",
      "Traceback (most recent call last):\n",
      "  File \"/Users/calkoen/mambaforge/envs/testenv/lib/python3.11/site-packages/distributed/worker.py\", line 1780, in get_data\n",
      "    response = await comm.read(deserializers=serializers)\n",
      "               ^^^^^^^^^^^^^^^^^^^^^^^^^^^^^^^^^^^^^^^^^^\n",
      "  File \"/Users/calkoen/mambaforge/envs/testenv/lib/python3.11/site-packages/distributed/comm/tcp.py\", line 241, in read\n",
      "    convert_stream_closed_error(self, e)\n",
      "  File \"/Users/calkoen/mambaforge/envs/testenv/lib/python3.11/site-packages/distributed/comm/tcp.py\", line 142, in convert_stream_closed_error\n",
      "    raise CommClosedError(f\"in {obj}: {exc.__class__.__name__}: {exc}\") from exc\n",
      "distributed.comm.core.CommClosedError: in <TCP (closed)  local=tcp://127.0.0.1:51474 remote=tcp://127.0.0.1:51503>: BrokenPipeError: [Errno 32] Broken pipe\n",
      "2023-08-31 21:22:40,431 - distributed.worker.memory - WARNING - Worker is at 87% memory usage. Pausing worker.  Process memory: 9.32 GiB -- Worker memory limit: 10.67 GiB\n",
      "2023-08-31 21:22:40,554 - distributed.worker.memory - WARNING - Worker is at 77% memory usage. Resuming worker. Process memory: 8.22 GiB -- Worker memory limit: 10.67 GiB\n"
     ]
    },
    {
     "name": "stdout",
     "output_type": "stream",
     "text": [
      "Blob already exists and overwrite is set to False.\n"
     ]
    },
    {
     "name": "stderr",
     "output_type": "stream",
     "text": [
      "2023-08-31 21:22:41,360 - distributed.worker.memory - WARNING - Unmanaged memory use is high. This may indicate a memory leak or the memory may not be released to the OS; see https://distributed.dask.org/en/latest/worker-memory.html#memory-not-released-back-to-the-os for more information. -- Unmanaged memory: 8.32 GiB -- Worker memory limit: 10.67 GiB\n"
     ]
    },
    {
     "name": "stdout",
     "output_type": "stream",
     "text": [
      "Blob already exists and overwrite is set to False.\n"
     ]
    },
    {
     "name": "stderr",
     "output_type": "stream",
     "text": [
      "2023-08-31 21:22:42,022 - distributed.worker.memory - WARNING - Worker is at 80% memory usage. Pausing worker.  Process memory: 8.64 GiB -- Worker memory limit: 10.67 GiB\n",
      "2023-08-31 21:22:42,202 - distributed.worker.memory - WARNING - Worker is at 78% memory usage. Resuming worker. Process memory: 8.36 GiB -- Worker memory limit: 10.67 GiB\n"
     ]
    },
    {
     "name": "stdout",
     "output_type": "stream",
     "text": [
      "Blob already exists and overwrite is set to False.\n"
     ]
    },
    {
     "name": "stderr",
     "output_type": "stream",
     "text": [
      "2023-08-31 21:22:43,126 - distributed.worker.memory - WARNING - Worker is at 82% memory usage. Pausing worker.  Process memory: 8.79 GiB -- Worker memory limit: 10.67 GiB\n",
      "2023-08-31 21:22:43,480 - distributed.worker.memory - WARNING - Unmanaged memory use is high. This may indicate a memory leak or the memory may not be released to the OS; see https://distributed.dask.org/en/latest/worker-memory.html#memory-not-released-back-to-the-os for more information. -- Unmanaged memory: 6.87 GiB -- Worker memory limit: 10.67 GiB\n",
      "2023-08-31 21:22:43,676 - distributed.nanny.memory - WARNING - Worker tcp://127.0.0.1:51474 (pid=48461) exceeded 95% memory budget. Restarting...\n",
      "2023-08-31 21:22:43,879 - distributed.worker - ERROR - Worker stream died during communication: tcp://127.0.0.1:51474\n",
      "Traceback (most recent call last):\n",
      "  File \"/Users/calkoen/mambaforge/envs/testenv/lib/python3.11/site-packages/distributed/comm/tcp.py\", line 235, in read\n",
      "    n = await stream.read_into(chunk)\n",
      "        ^^^^^^^^^^^^^^^^^^^^^^^^^^^^^\n",
      "tornado.iostream.StreamClosedError: Stream is closed\n",
      "\n",
      "The above exception was the direct cause of the following exception:\n",
      "\n",
      "Traceback (most recent call last):\n",
      "  File \"/Users/calkoen/mambaforge/envs/testenv/lib/python3.11/site-packages/distributed/worker.py\", line 2053, in gather_dep\n",
      "    response = await get_data_from_worker(\n",
      "               ^^^^^^^^^^^^^^^^^^^^^^^^^^^\n",
      "  File \"/Users/calkoen/mambaforge/envs/testenv/lib/python3.11/site-packages/distributed/worker.py\", line 2902, in get_data_from_worker\n",
      "    response = await send_recv(\n",
      "               ^^^^^^^^^^^^^^^^\n",
      "  File \"/Users/calkoen/mambaforge/envs/testenv/lib/python3.11/site-packages/distributed/core.py\", line 1136, in send_recv\n",
      "    response = await comm.read(deserializers=deserializers)\n",
      "               ^^^^^^^^^^^^^^^^^^^^^^^^^^^^^^^^^^^^^^^^^^^^\n",
      "  File \"/Users/calkoen/mambaforge/envs/testenv/lib/python3.11/site-packages/distributed/comm/tcp.py\", line 241, in read\n",
      "    convert_stream_closed_error(self, e)\n",
      "  File \"/Users/calkoen/mambaforge/envs/testenv/lib/python3.11/site-packages/distributed/comm/tcp.py\", line 144, in convert_stream_closed_error\n",
      "    raise CommClosedError(f\"in {obj}: {exc}\") from exc\n",
      "distributed.comm.core.CommClosedError: in <TCP (closed) Ephemeral Worker->Worker for gather local=tcp://127.0.0.1:51505 remote=tcp://127.0.0.1:51474>: Stream is closed\n",
      "2023-08-31 21:22:43,880 - distributed.worker - ERROR - failed during get data with tcp://127.0.0.1:51322 -> tcp://127.0.0.1:51474\n",
      "Traceback (most recent call last):\n",
      "  File \"/Users/calkoen/mambaforge/envs/testenv/lib/python3.11/site-packages/tornado/iostream.py\", line 962, in _handle_write\n",
      "    num_bytes = self.write_to_fd(self._write_buffer.peek(size))\n",
      "                ^^^^^^^^^^^^^^^^^^^^^^^^^^^^^^^^^^^^^^^^^^^^^^^\n",
      "  File \"/Users/calkoen/mambaforge/envs/testenv/lib/python3.11/site-packages/tornado/iostream.py\", line 1124, in write_to_fd\n",
      "    return self.socket.send(data)  # type: ignore\n",
      "           ^^^^^^^^^^^^^^^^^^^^^^\n",
      "BrokenPipeError: [Errno 32] Broken pipe\n",
      "\n",
      "The above exception was the direct cause of the following exception:\n",
      "\n",
      "Traceback (most recent call last):\n",
      "  File \"/Users/calkoen/mambaforge/envs/testenv/lib/python3.11/site-packages/distributed/worker.py\", line 1780, in get_data\n",
      "    response = await comm.read(deserializers=serializers)\n",
      "               ^^^^^^^^^^^^^^^^^^^^^^^^^^^^^^^^^^^^^^^^^^\n",
      "  File \"/Users/calkoen/mambaforge/envs/testenv/lib/python3.11/site-packages/distributed/comm/tcp.py\", line 241, in read\n",
      "    convert_stream_closed_error(self, e)\n",
      "  File \"/Users/calkoen/mambaforge/envs/testenv/lib/python3.11/site-packages/distributed/comm/tcp.py\", line 142, in convert_stream_closed_error\n",
      "    raise CommClosedError(f\"in {obj}: {exc.__class__.__name__}: {exc}\") from exc\n",
      "distributed.comm.core.CommClosedError: in <TCP (closed)  local=tcp://127.0.0.1:51322 remote=tcp://127.0.0.1:51496>: BrokenPipeError: [Errno 32] Broken pipe\n",
      "2023-08-31 21:22:43,908 - distributed.nanny - WARNING - Restarting worker\n",
      "2023-08-31 21:22:44,219 - distributed.worker - ERROR - failed during get data with tcp://127.0.0.1:51432 -> tcp://127.0.0.1:51474\n",
      "Traceback (most recent call last):\n",
      "  File \"/Users/calkoen/mambaforge/envs/testenv/lib/python3.11/site-packages/tornado/iostream.py\", line 861, in _read_to_buffer\n",
      "    bytes_read = self.read_from_fd(buf)\n",
      "                 ^^^^^^^^^^^^^^^^^^^^^^\n",
      "  File \"/Users/calkoen/mambaforge/envs/testenv/lib/python3.11/site-packages/tornado/iostream.py\", line 1116, in read_from_fd\n",
      "    return self.socket.recv_into(buf, len(buf))\n",
      "           ^^^^^^^^^^^^^^^^^^^^^^^^^^^^^^^^^^^^\n",
      "ConnectionResetError: [Errno 54] Connection reset by peer\n",
      "\n",
      "The above exception was the direct cause of the following exception:\n",
      "\n",
      "Traceback (most recent call last):\n",
      "  File \"/Users/calkoen/mambaforge/envs/testenv/lib/python3.11/site-packages/distributed/worker.py\", line 1780, in get_data\n",
      "    response = await comm.read(deserializers=serializers)\n",
      "               ^^^^^^^^^^^^^^^^^^^^^^^^^^^^^^^^^^^^^^^^^^\n",
      "  File \"/Users/calkoen/mambaforge/envs/testenv/lib/python3.11/site-packages/distributed/comm/tcp.py\", line 241, in read\n",
      "    convert_stream_closed_error(self, e)\n",
      "  File \"/Users/calkoen/mambaforge/envs/testenv/lib/python3.11/site-packages/distributed/comm/tcp.py\", line 142, in convert_stream_closed_error\n",
      "    raise CommClosedError(f\"in {obj}: {exc.__class__.__name__}: {exc}\") from exc\n",
      "distributed.comm.core.CommClosedError: in <TCP (closed)  local=tcp://127.0.0.1:51432 remote=tcp://127.0.0.1:51506>: ConnectionResetError: [Errno 54] Connection reset by peer\n"
     ]
    },
    {
     "name": "stdout",
     "output_type": "stream",
     "text": [
      "Blob already exists and overwrite is set to False.\n",
      "Blob already exists and overwrite is set to False.\n"
     ]
    },
    {
     "name": "stderr",
     "output_type": "stream",
     "text": [
      "2023-08-31 21:22:48,962 - distributed.worker.memory - WARNING - Unmanaged memory use is high. This may indicate a memory leak or the memory may not be released to the OS; see https://distributed.dask.org/en/latest/worker-memory.html#memory-not-released-back-to-the-os for more information. -- Unmanaged memory: 7.49 GiB -- Worker memory limit: 10.67 GiB\n",
      "2023-08-31 21:22:49,321 - distributed.worker.memory - WARNING - Unmanaged memory use is high. This may indicate a memory leak or the memory may not be released to the OS; see https://distributed.dask.org/en/latest/worker-memory.html#memory-not-released-back-to-the-os for more information. -- Unmanaged memory: 7.48 GiB -- Worker memory limit: 10.67 GiB\n",
      "2023-08-31 21:22:49,374 - distributed.worker.memory - WARNING - Unmanaged memory use is high. This may indicate a memory leak or the memory may not be released to the OS; see https://distributed.dask.org/en/latest/worker-memory.html#memory-not-released-back-to-the-os for more information. -- Unmanaged memory: 6.49 GiB -- Worker memory limit: 10.67 GiB\n"
     ]
    },
    {
     "name": "stdout",
     "output_type": "stream",
     "text": [
      "Blob already exists and overwrite is set to False.\n"
     ]
    },
    {
     "name": "stderr",
     "output_type": "stream",
     "text": [
      "2023-08-31 21:22:56,068 - distributed.worker.memory - WARNING - Unmanaged memory use is high. This may indicate a memory leak or the memory may not be released to the OS; see https://distributed.dask.org/en/latest/worker-memory.html#memory-not-released-back-to-the-os for more information. -- Unmanaged memory: 7.48 GiB -- Worker memory limit: 10.67 GiB\n",
      "2023-08-31 21:22:57,098 - distributed.worker.memory - WARNING - Worker is at 89% memory usage. Pausing worker.  Process memory: 9.53 GiB -- Worker memory limit: 10.67 GiB\n",
      "2023-08-31 21:22:57,325 - distributed.worker.memory - WARNING - Worker is at 79% memory usage. Resuming worker. Process memory: 8.43 GiB -- Worker memory limit: 10.67 GiB\n"
     ]
    },
    {
     "name": "stdout",
     "output_type": "stream",
     "text": [
      "Blob already exists and overwrite is set to False.\n",
      "Blob already exists and overwrite is set to False.\n"
     ]
    },
    {
     "name": "stderr",
     "output_type": "stream",
     "text": [
      "2023-08-31 21:22:57,744 - distributed.worker.memory - WARNING - Worker is at 84% memory usage. Pausing worker.  Process memory: 8.96 GiB -- Worker memory limit: 10.67 GiB\n",
      "2023-08-31 21:22:57,877 - distributed.worker.memory - WARNING - Worker is at 74% memory usage. Resuming worker. Process memory: 7.96 GiB -- Worker memory limit: 10.67 GiB\n",
      "2023-08-31 21:22:58,715 - distributed.worker.memory - WARNING - Worker is at 84% memory usage. Pausing worker.  Process memory: 9.02 GiB -- Worker memory limit: 10.67 GiB\n"
     ]
    },
    {
     "name": "stdout",
     "output_type": "stream",
     "text": [
      "Blob already exists and overwrite is set to False.\n"
     ]
    },
    {
     "name": "stderr",
     "output_type": "stream",
     "text": [
      "2023-08-31 21:22:58,934 - distributed.worker.memory - WARNING - Worker is at 74% memory usage. Resuming worker. Process memory: 7.94 GiB -- Worker memory limit: 10.67 GiB\n",
      "2023-08-31 21:22:58,939 - distributed.worker.memory - WARNING - Unmanaged memory use is high. This may indicate a memory leak or the memory may not be released to the OS; see https://distributed.dask.org/en/latest/worker-memory.html#memory-not-released-back-to-the-os for more information. -- Unmanaged memory: 8.35 GiB -- Worker memory limit: 10.67 GiB\n"
     ]
    },
    {
     "name": "stdout",
     "output_type": "stream",
     "text": [
      "Blob already exists and overwrite is set to False.\n"
     ]
    },
    {
     "name": "stderr",
     "output_type": "stream",
     "text": [
      "2023-08-31 21:22:59,203 - distributed.worker.memory - WARNING - Unmanaged memory use is high. This may indicate a memory leak or the memory may not be released to the OS; see https://distributed.dask.org/en/latest/worker-memory.html#memory-not-released-back-to-the-os for more information. -- Unmanaged memory: 8.53 GiB -- Worker memory limit: 10.67 GiB\n",
      "2023-08-31 21:22:59,341 - distributed.worker.memory - WARNING - Worker is at 82% memory usage. Pausing worker.  Process memory: 8.76 GiB -- Worker memory limit: 10.67 GiB\n",
      "2023-08-31 21:22:59,480 - distributed.worker.memory - WARNING - Worker is at 75% memory usage. Resuming worker. Process memory: 8.09 GiB -- Worker memory limit: 10.67 GiB\n",
      "2023-08-31 21:22:59,611 - distributed.worker.memory - WARNING - Unmanaged memory use is high. This may indicate a memory leak or the memory may not be released to the OS; see https://distributed.dask.org/en/latest/worker-memory.html#memory-not-released-back-to-the-os for more information. -- Unmanaged memory: 8.40 GiB -- Worker memory limit: 10.67 GiB\n",
      "2023-08-31 21:22:59,656 - distributed.worker.memory - WARNING - Worker is at 83% memory usage. Pausing worker.  Process memory: 8.94 GiB -- Worker memory limit: 10.67 GiB\n"
     ]
    },
    {
     "name": "stdout",
     "output_type": "stream",
     "text": [
      "Blob already exists and overwrite is set to False.\n"
     ]
    },
    {
     "name": "stderr",
     "output_type": "stream",
     "text": [
      "2023-08-31 21:22:59,804 - distributed.worker.memory - WARNING - Worker is at 74% memory usage. Resuming worker. Process memory: 7.94 GiB -- Worker memory limit: 10.67 GiB\n",
      "2023-08-31 21:22:59,956 - distributed.worker.memory - WARNING - Worker is at 80% memory usage. Pausing worker.  Process memory: 8.55 GiB -- Worker memory limit: 10.67 GiB\n",
      "2023-08-31 21:23:00,003 - distributed.worker.memory - WARNING - Worker is at 83% memory usage. Pausing worker.  Process memory: 8.91 GiB -- Worker memory limit: 10.67 GiB\n"
     ]
    },
    {
     "name": "stdout",
     "output_type": "stream",
     "text": [
      "Blob already exists and overwrite is set to False.\n"
     ]
    },
    {
     "name": "stderr",
     "output_type": "stream",
     "text": [
      "2023-08-31 21:23:00,088 - distributed.worker.memory - WARNING - Worker is at 75% memory usage. Resuming worker. Process memory: 8.09 GiB -- Worker memory limit: 10.67 GiB\n",
      "2023-08-31 21:23:00,203 - distributed.worker.memory - WARNING - Worker is at 61% memory usage. Resuming worker. Process memory: 6.56 GiB -- Worker memory limit: 10.67 GiB\n"
     ]
    },
    {
     "name": "stdout",
     "output_type": "stream",
     "text": [
      "Blob already exists and overwrite is set to False.\n",
      "Blob already exists and overwrite is set to False.\n"
     ]
    },
    {
     "name": "stderr",
     "output_type": "stream",
     "text": [
      "2023-08-31 21:23:00,818 - distributed.worker.memory - WARNING - Worker is at 85% memory usage. Pausing worker.  Process memory: 9.09 GiB -- Worker memory limit: 10.67 GiB\n",
      "2023-08-31 21:23:00,980 - distributed.worker.memory - WARNING - Worker is at 75% memory usage. Resuming worker. Process memory: 8.09 GiB -- Worker memory limit: 10.67 GiB\n"
     ]
    },
    {
     "name": "stdout",
     "output_type": "stream",
     "text": [
      "Blob already exists and overwrite is set to False.\n"
     ]
    },
    {
     "name": "stderr",
     "output_type": "stream",
     "text": [
      "2023-08-31 21:23:01,909 - distributed.worker.memory - WARNING - Worker is at 85% memory usage. Pausing worker.  Process memory: 9.12 GiB -- Worker memory limit: 10.67 GiB\n",
      "2023-08-31 21:23:02,091 - distributed.worker.memory - WARNING - Worker is at 76% memory usage. Resuming worker. Process memory: 8.16 GiB -- Worker memory limit: 10.67 GiB\n",
      "2023-08-31 21:23:02,577 - distributed.nanny.memory - WARNING - Worker tcp://127.0.0.1:51322 (pid=48203) exceeded 95% memory budget. Restarting...\n",
      "2023-08-31 21:23:02,774 - distributed.worker - ERROR - Worker stream died during communication: tcp://127.0.0.1:51322\n",
      "Traceback (most recent call last):\n",
      "  File \"/Users/calkoen/mambaforge/envs/testenv/lib/python3.11/site-packages/distributed/comm/tcp.py\", line 225, in read\n",
      "    frames_nbytes = await stream.read_bytes(fmt_size)\n",
      "                    ^^^^^^^^^^^^^^^^^^^^^^^^^^^^^^^^^\n",
      "tornado.iostream.StreamClosedError: Stream is closed\n",
      "\n",
      "The above exception was the direct cause of the following exception:\n",
      "\n",
      "Traceback (most recent call last):\n",
      "  File \"/Users/calkoen/mambaforge/envs/testenv/lib/python3.11/site-packages/distributed/worker.py\", line 2053, in gather_dep\n",
      "    response = await get_data_from_worker(\n",
      "               ^^^^^^^^^^^^^^^^^^^^^^^^^^^\n",
      "  File \"/Users/calkoen/mambaforge/envs/testenv/lib/python3.11/site-packages/distributed/worker.py\", line 2902, in get_data_from_worker\n",
      "    response = await send_recv(\n",
      "               ^^^^^^^^^^^^^^^^\n",
      "  File \"/Users/calkoen/mambaforge/envs/testenv/lib/python3.11/site-packages/distributed/core.py\", line 1136, in send_recv\n",
      "    response = await comm.read(deserializers=deserializers)\n",
      "               ^^^^^^^^^^^^^^^^^^^^^^^^^^^^^^^^^^^^^^^^^^^^\n",
      "  File \"/Users/calkoen/mambaforge/envs/testenv/lib/python3.11/site-packages/distributed/comm/tcp.py\", line 241, in read\n",
      "    convert_stream_closed_error(self, e)\n",
      "  File \"/Users/calkoen/mambaforge/envs/testenv/lib/python3.11/site-packages/distributed/comm/tcp.py\", line 144, in convert_stream_closed_error\n",
      "    raise CommClosedError(f\"in {obj}: {exc}\") from exc\n",
      "distributed.comm.core.CommClosedError: in <TCP (closed) Ephemeral Worker->Worker for gather local=tcp://127.0.0.1:51445 remote=tcp://127.0.0.1:51322>: Stream is closed\n",
      "2023-08-31 21:23:02,783 - distributed.nanny - WARNING - Restarting worker\n",
      "2023-08-31 21:23:02,903 - distributed.worker - ERROR - failed during get data with tcp://127.0.0.1:51432 -> tcp://127.0.0.1:51322\n",
      "Traceback (most recent call last):\n",
      "  File \"/Users/calkoen/mambaforge/envs/testenv/lib/python3.11/site-packages/distributed/comm/tcp.py\", line 225, in read\n",
      "    frames_nbytes = await stream.read_bytes(fmt_size)\n",
      "                    ^^^^^^^^^^^^^^^^^^^^^^^^^^^^^^^^^\n",
      "tornado.iostream.StreamClosedError: Stream is closed\n",
      "\n",
      "The above exception was the direct cause of the following exception:\n",
      "\n",
      "Traceback (most recent call last):\n",
      "  File \"/Users/calkoen/mambaforge/envs/testenv/lib/python3.11/site-packages/distributed/worker.py\", line 1780, in get_data\n",
      "    response = await comm.read(deserializers=serializers)\n",
      "               ^^^^^^^^^^^^^^^^^^^^^^^^^^^^^^^^^^^^^^^^^^\n",
      "  File \"/Users/calkoen/mambaforge/envs/testenv/lib/python3.11/site-packages/distributed/comm/tcp.py\", line 241, in read\n",
      "    convert_stream_closed_error(self, e)\n",
      "  File \"/Users/calkoen/mambaforge/envs/testenv/lib/python3.11/site-packages/distributed/comm/tcp.py\", line 144, in convert_stream_closed_error\n",
      "    raise CommClosedError(f\"in {obj}: {exc}\") from exc\n",
      "distributed.comm.core.CommClosedError: in <TCP (closed)  local=tcp://127.0.0.1:51432 remote=tcp://127.0.0.1:51519>: Stream is closed\n",
      "2023-08-31 21:23:03,283 - distributed.worker.memory - WARNING - Worker is at 86% memory usage. Pausing worker.  Process memory: 9.27 GiB -- Worker memory limit: 10.67 GiB\n"
     ]
    },
    {
     "name": "stdout",
     "output_type": "stream",
     "text": [
      "Blob already exists and overwrite is set to False.\n"
     ]
    },
    {
     "name": "stderr",
     "output_type": "stream",
     "text": [
      "2023-08-31 21:23:03,810 - distributed.worker.memory - WARNING - Worker is at 82% memory usage. Pausing worker.  Process memory: 8.79 GiB -- Worker memory limit: 10.67 GiB\n",
      "2023-08-31 21:23:03,903 - distributed.worker.memory - WARNING - Worker is at 75% memory usage. Resuming worker. Process memory: 8.05 GiB -- Worker memory limit: 10.67 GiB\n",
      "2023-08-31 21:23:03,965 - distributed.worker.memory - WARNING - Worker is at 78% memory usage. Resuming worker. Process memory: 8.35 GiB -- Worker memory limit: 10.67 GiB\n",
      "2023-08-31 21:23:04,407 - distributed.worker.memory - WARNING - Unmanaged memory use is high. This may indicate a memory leak or the memory may not be released to the OS; see https://distributed.dask.org/en/latest/worker-memory.html#memory-not-released-back-to-the-os for more information. -- Unmanaged memory: 6.54 GiB -- Worker memory limit: 10.67 GiB\n",
      "2023-08-31 21:23:04,535 - distributed.worker.memory - WARNING - Worker is at 85% memory usage. Pausing worker.  Process memory: 9.17 GiB -- Worker memory limit: 10.67 GiB\n",
      "2023-08-31 21:23:05,067 - distributed.worker.memory - WARNING - Worker is at 77% memory usage. Resuming worker. Process memory: 8.22 GiB -- Worker memory limit: 10.67 GiB\n",
      "2023-08-31 21:23:05,160 - distributed.worker.memory - WARNING - Worker is at 80% memory usage. Pausing worker.  Process memory: 8.56 GiB -- Worker memory limit: 10.67 GiB\n",
      "2023-08-31 21:23:05,307 - distributed.worker.memory - WARNING - Worker is at 71% memory usage. Resuming worker. Process memory: 7.57 GiB -- Worker memory limit: 10.67 GiB\n",
      "2023-08-31 21:23:09,120 - distributed.worker.memory - WARNING - Unmanaged memory use is high. This may indicate a memory leak or the memory may not be released to the OS; see https://distributed.dask.org/en/latest/worker-memory.html#memory-not-released-back-to-the-os for more information. -- Unmanaged memory: 7.47 GiB -- Worker memory limit: 10.67 GiB\n",
      "2023-08-31 21:23:09,816 - distributed.worker.memory - WARNING - Worker is at 85% memory usage. Pausing worker.  Process memory: 9.07 GiB -- Worker memory limit: 10.67 GiB\n",
      "2023-08-31 21:23:10,112 - distributed.worker.memory - WARNING - Unmanaged memory use is high. This may indicate a memory leak or the memory may not be released to the OS; see https://distributed.dask.org/en/latest/worker-memory.html#memory-not-released-back-to-the-os for more information. -- Unmanaged memory: 9.07 GiB -- Worker memory limit: 10.67 GiB\n",
      "2023-08-31 21:23:10,261 - distributed.worker.memory - WARNING - Worker is at 75% memory usage. Resuming worker. Process memory: 8.09 GiB -- Worker memory limit: 10.67 GiB\n"
     ]
    },
    {
     "name": "stdout",
     "output_type": "stream",
     "text": [
      "Blob already exists and overwrite is set to False.\n"
     ]
    },
    {
     "name": "stderr",
     "output_type": "stream",
     "text": [
      "2023-08-31 21:23:10,847 - distributed.worker.memory - WARNING - Worker is at 85% memory usage. Pausing worker.  Process memory: 9.09 GiB -- Worker memory limit: 10.67 GiB\n",
      "2023-08-31 21:23:11,177 - distributed.nanny.memory - WARNING - Worker tcp://127.0.0.1:51313 (pid=48200) exceeded 95% memory budget. Restarting...\n",
      "2023-08-31 21:23:11,375 - distributed.worker - ERROR - failed during get data with tcp://127.0.0.1:51507 -> tcp://127.0.0.1:51313\n",
      "Traceback (most recent call last):\n",
      "  File \"/Users/calkoen/mambaforge/envs/testenv/lib/python3.11/site-packages/tornado/iostream.py\", line 962, in _handle_write\n",
      "    num_bytes = self.write_to_fd(self._write_buffer.peek(size))\n",
      "                ^^^^^^^^^^^^^^^^^^^^^^^^^^^^^^^^^^^^^^^^^^^^^^^\n",
      "  File \"/Users/calkoen/mambaforge/envs/testenv/lib/python3.11/site-packages/tornado/iostream.py\", line 1124, in write_to_fd\n",
      "    return self.socket.send(data)  # type: ignore\n",
      "           ^^^^^^^^^^^^^^^^^^^^^^\n",
      "BrokenPipeError: [Errno 32] Broken pipe\n",
      "\n",
      "The above exception was the direct cause of the following exception:\n",
      "\n",
      "Traceback (most recent call last):\n",
      "  File \"/Users/calkoen/mambaforge/envs/testenv/lib/python3.11/site-packages/distributed/worker.py\", line 1780, in get_data\n",
      "    response = await comm.read(deserializers=serializers)\n",
      "               ^^^^^^^^^^^^^^^^^^^^^^^^^^^^^^^^^^^^^^^^^^\n",
      "  File \"/Users/calkoen/mambaforge/envs/testenv/lib/python3.11/site-packages/distributed/comm/tcp.py\", line 241, in read\n",
      "    convert_stream_closed_error(self, e)\n",
      "  File \"/Users/calkoen/mambaforge/envs/testenv/lib/python3.11/site-packages/distributed/comm/tcp.py\", line 142, in convert_stream_closed_error\n",
      "    raise CommClosedError(f\"in {obj}: {exc.__class__.__name__}: {exc}\") from exc\n",
      "distributed.comm.core.CommClosedError: in <TCP (closed)  local=tcp://127.0.0.1:51507 remote=tcp://127.0.0.1:51529>: BrokenPipeError: [Errno 32] Broken pipe\n",
      "2023-08-31 21:23:11,385 - distributed.nanny - WARNING - Restarting worker\n"
     ]
    },
    {
     "name": "stdout",
     "output_type": "stream",
     "text": [
      "Blob already exists and overwrite is set to False.\n"
     ]
    },
    {
     "name": "stderr",
     "output_type": "stream",
     "text": [
      "2023-08-31 21:23:12,524 - distributed.worker.memory - WARNING - Unmanaged memory use is high. This may indicate a memory leak or the memory may not be released to the OS; see https://distributed.dask.org/en/latest/worker-memory.html#memory-not-released-back-to-the-os for more information. -- Unmanaged memory: 6.62 GiB -- Worker memory limit: 10.67 GiB\n",
      "2023-08-31 21:23:15,329 - distributed.worker.memory - WARNING - Worker is at 87% memory usage. Pausing worker.  Process memory: 9.37 GiB -- Worker memory limit: 10.67 GiB\n",
      "2023-08-31 21:23:15,710 - distributed.worker.memory - WARNING - Worker is at 76% memory usage. Resuming worker. Process memory: 8.12 GiB -- Worker memory limit: 10.67 GiB\n",
      "2023-08-31 21:23:16,104 - distributed.worker.memory - WARNING - Unmanaged memory use is high. This may indicate a memory leak or the memory may not be released to the OS; see https://distributed.dask.org/en/latest/worker-memory.html#memory-not-released-back-to-the-os for more information. -- Unmanaged memory: 7.12 GiB -- Worker memory limit: 10.67 GiB\n",
      "2023-08-31 21:23:16,208 - distributed.worker.memory - WARNING - Unmanaged memory use is high. This may indicate a memory leak or the memory may not be released to the OS; see https://distributed.dask.org/en/latest/worker-memory.html#memory-not-released-back-to-the-os for more information. -- Unmanaged memory: 6.50 GiB -- Worker memory limit: 10.67 GiB\n"
     ]
    },
    {
     "name": "stdout",
     "output_type": "stream",
     "text": [
      "Blob already exists and overwrite is set to False.\n"
     ]
    },
    {
     "name": "stderr",
     "output_type": "stream",
     "text": [
      "2023-08-31 21:23:20,515 - distributed.worker.memory - WARNING - Worker is at 82% memory usage. Pausing worker.  Process memory: 8.76 GiB -- Worker memory limit: 10.67 GiB\n",
      "2023-08-31 21:23:20,662 - distributed.worker.memory - WARNING - Worker is at 65% memory usage. Resuming worker. Process memory: 7.02 GiB -- Worker memory limit: 10.67 GiB\n",
      "2023-08-31 21:23:21,374 - distributed.worker.memory - WARNING - Unmanaged memory use is high. This may indicate a memory leak or the memory may not be released to the OS; see https://distributed.dask.org/en/latest/worker-memory.html#memory-not-released-back-to-the-os for more information. -- Unmanaged memory: 7.30 GiB -- Worker memory limit: 10.67 GiB\n"
     ]
    },
    {
     "name": "stdout",
     "output_type": "stream",
     "text": [
      "Blob already exists and overwrite is set to False.\n",
      "Blob already exists and overwrite is set to False.\n",
      "Blob already exists and overwrite is set to False.\n",
      "Blob already exists and overwrite is set to False.\n",
      "Blob already exists and overwrite is set to False.\n",
      "Blob already exists and overwrite is set to False.\n",
      "Blob already exists and overwrite is set to False.\n"
     ]
    },
    {
     "name": "stderr",
     "output_type": "stream",
     "text": [
      "2023-08-31 21:23:23,830 - distributed.worker.memory - WARNING - Worker is at 80% memory usage. Pausing worker.  Process memory: 8.54 GiB -- Worker memory limit: 10.67 GiB\n",
      "2023-08-31 21:23:23,833 - distributed.worker.memory - WARNING - Worker is at 61% memory usage. Resuming worker. Process memory: 6.55 GiB -- Worker memory limit: 10.67 GiB\n",
      "2023-08-31 21:23:25,911 - distributed.worker.memory - WARNING - Worker is at 83% memory usage. Pausing worker.  Process memory: 8.95 GiB -- Worker memory limit: 10.67 GiB\n",
      "2023-08-31 21:23:26,073 - distributed.worker.memory - WARNING - Worker is at 74% memory usage. Resuming worker. Process memory: 7.95 GiB -- Worker memory limit: 10.67 GiB\n",
      "2023-08-31 21:23:26,339 - distributed.worker.memory - WARNING - Unmanaged memory use is high. This may indicate a memory leak or the memory may not be released to the OS; see https://distributed.dask.org/en/latest/worker-memory.html#memory-not-released-back-to-the-os for more information. -- Unmanaged memory: 6.95 GiB -- Worker memory limit: 10.67 GiB\n"
     ]
    },
    {
     "name": "stdout",
     "output_type": "stream",
     "text": [
      "Blob already exists and overwrite is set to False.\n",
      "Blob already exists and overwrite is set to False.\n"
     ]
    },
    {
     "name": "stderr",
     "output_type": "stream",
     "text": [
      "2023-08-31 21:23:30,991 - distributed.worker.memory - WARNING - Unmanaged memory use is high. This may indicate a memory leak or the memory may not be released to the OS; see https://distributed.dask.org/en/latest/worker-memory.html#memory-not-released-back-to-the-os for more information. -- Unmanaged memory: 6.50 GiB -- Worker memory limit: 10.67 GiB\n",
      "2023-08-31 21:23:32,052 - distributed.worker.memory - WARNING - Worker is at 87% memory usage. Pausing worker.  Process memory: 9.37 GiB -- Worker memory limit: 10.67 GiB\n",
      "2023-08-31 21:23:32,191 - distributed.worker.memory - WARNING - Worker is at 58% memory usage. Resuming worker. Process memory: 6.25 GiB -- Worker memory limit: 10.67 GiB\n"
     ]
    },
    {
     "name": "stdout",
     "output_type": "stream",
     "text": [
      "Blob already exists and overwrite is set to False.\n"
     ]
    },
    {
     "name": "stderr",
     "output_type": "stream",
     "text": [
      "2023-08-31 21:23:33,224 - distributed.worker.memory - WARNING - Unmanaged memory use is high. This may indicate a memory leak or the memory may not be released to the OS; see https://distributed.dask.org/en/latest/worker-memory.html#memory-not-released-back-to-the-os for more information. -- Unmanaged memory: 6.50 GiB -- Worker memory limit: 10.67 GiB\n"
     ]
    },
    {
     "name": "stdout",
     "output_type": "stream",
     "text": [
      "Blob already exists and overwrite is set to False.\n"
     ]
    },
    {
     "name": "stderr",
     "output_type": "stream",
     "text": [
      "2023-08-31 21:23:34,457 - distributed.worker.memory - WARNING - Unmanaged memory use is high. This may indicate a memory leak or the memory may not be released to the OS; see https://distributed.dask.org/en/latest/worker-memory.html#memory-not-released-back-to-the-os for more information. -- Unmanaged memory: 7.76 GiB -- Worker memory limit: 10.67 GiB\n"
     ]
    },
    {
     "name": "stdout",
     "output_type": "stream",
     "text": [
      "Blob already exists and overwrite is set to False.\n"
     ]
    },
    {
     "name": "stderr",
     "output_type": "stream",
     "text": [
      "2023-08-31 21:23:35,489 - distributed.worker.memory - WARNING - Unmanaged memory use is high. This may indicate a memory leak or the memory may not be released to the OS; see https://distributed.dask.org/en/latest/worker-memory.html#memory-not-released-back-to-the-os for more information. -- Unmanaged memory: 6.48 GiB -- Worker memory limit: 10.67 GiB\n",
      "2023-08-31 21:23:35,700 - distributed.worker.memory - WARNING - Worker is at 80% memory usage. Pausing worker.  Process memory: 8.61 GiB -- Worker memory limit: 10.67 GiB\n",
      "2023-08-31 21:23:35,887 - distributed.worker.memory - WARNING - Worker is at 71% memory usage. Resuming worker. Process memory: 7.61 GiB -- Worker memory limit: 10.67 GiB\n",
      "2023-08-31 21:23:36,348 - distributed.worker.memory - WARNING - Worker is at 80% memory usage. Pausing worker.  Process memory: 8.54 GiB -- Worker memory limit: 10.67 GiB\n",
      "2023-08-31 21:23:36,423 - distributed.worker.memory - WARNING - Worker is at 80% memory usage. Pausing worker.  Process memory: 8.61 GiB -- Worker memory limit: 10.67 GiB\n",
      "2023-08-31 21:23:36,542 - distributed.worker.memory - WARNING - Worker is at 71% memory usage. Resuming worker. Process memory: 7.61 GiB -- Worker memory limit: 10.67 GiB\n",
      "2023-08-31 21:23:36,821 - distributed.worker.memory - WARNING - Unmanaged memory use is high. This may indicate a memory leak or the memory may not be released to the OS; see https://distributed.dask.org/en/latest/worker-memory.html#memory-not-released-back-to-the-os for more information. -- Unmanaged memory: 6.61 GiB -- Worker memory limit: 10.67 GiB\n"
     ]
    },
    {
     "name": "stdout",
     "output_type": "stream",
     "text": [
      "Blob already exists and overwrite is set to False.\n",
      "Blob already exists and overwrite is set to False.\n",
      "Blob already exists and overwrite is set to False.\n"
     ]
    },
    {
     "name": "stderr",
     "output_type": "stream",
     "text": [
      "2023-08-31 21:23:40,214 - distributed.worker.memory - WARNING - Worker is at 80% memory usage. Pausing worker.  Process memory: 8.58 GiB -- Worker memory limit: 10.67 GiB\n",
      "2023-08-31 21:23:40,254 - distributed.worker.memory - WARNING - Worker is at 40% memory usage. Resuming worker. Process memory: 4.35 GiB -- Worker memory limit: 10.67 GiB\n",
      "2023-08-31 21:23:40,440 - distributed.worker.memory - WARNING - Worker is at 53% memory usage. Resuming worker. Process memory: 5.71 GiB -- Worker memory limit: 10.67 GiB\n"
     ]
    },
    {
     "name": "stdout",
     "output_type": "stream",
     "text": [
      "Blob already exists and overwrite is set to False.\n"
     ]
    },
    {
     "name": "stderr",
     "output_type": "stream",
     "text": [
      "2023-08-31 21:23:40,996 - distributed.worker.memory - WARNING - Unmanaged memory use is high. This may indicate a memory leak or the memory may not be released to the OS; see https://distributed.dask.org/en/latest/worker-memory.html#memory-not-released-back-to-the-os for more information. -- Unmanaged memory: 6.89 GiB -- Worker memory limit: 10.67 GiB\n"
     ]
    },
    {
     "name": "stdout",
     "output_type": "stream",
     "text": [
      "Blob already exists and overwrite is set to False.\n",
      "Blob already exists and overwrite is set to False.\n"
     ]
    },
    {
     "name": "stderr",
     "output_type": "stream",
     "text": [
      "2023-08-31 21:23:42,299 - distributed.worker.memory - WARNING - Unmanaged memory use is high. This may indicate a memory leak or the memory may not be released to the OS; see https://distributed.dask.org/en/latest/worker-memory.html#memory-not-released-back-to-the-os for more information. -- Unmanaged memory: 6.98 GiB -- Worker memory limit: 10.67 GiB\n"
     ]
    },
    {
     "name": "stdout",
     "output_type": "stream",
     "text": [
      "Blob already exists and overwrite is set to False.\n"
     ]
    },
    {
     "name": "stderr",
     "output_type": "stream",
     "text": [
      "2023-08-31 21:23:43,233 - distributed.worker.memory - WARNING - Unmanaged memory use is high. This may indicate a memory leak or the memory may not be released to the OS; see https://distributed.dask.org/en/latest/worker-memory.html#memory-not-released-back-to-the-os for more information. -- Unmanaged memory: 7.49 GiB -- Worker memory limit: 10.67 GiB\n",
      "2023-08-31 21:23:49,260 - distributed.worker.memory - WARNING - Unmanaged memory use is high. This may indicate a memory leak or the memory may not be released to the OS; see https://distributed.dask.org/en/latest/worker-memory.html#memory-not-released-back-to-the-os for more information. -- Unmanaged memory: 7.14 GiB -- Worker memory limit: 10.67 GiB\n"
     ]
    },
    {
     "name": "stdout",
     "output_type": "stream",
     "text": [
      "Blob already exists and overwrite is set to False.\n",
      "Blob already exists and overwrite is set to False.\n",
      "Blob already exists and overwrite is set to False.\n",
      "Blob already exists and overwrite is set to False.\n",
      "Blob already exists and overwrite is set to False.\n"
     ]
    },
    {
     "name": "stderr",
     "output_type": "stream",
     "text": [
      "2023-08-31 21:23:51,923 - distributed.worker.memory - WARNING - Unmanaged memory use is high. This may indicate a memory leak or the memory may not be released to the OS; see https://distributed.dask.org/en/latest/worker-memory.html#memory-not-released-back-to-the-os for more information. -- Unmanaged memory: 6.62 GiB -- Worker memory limit: 10.67 GiB\n",
      "2023-08-31 21:23:53,234 - distributed.worker.memory - WARNING - Unmanaged memory use is high. This may indicate a memory leak or the memory may not be released to the OS; see https://distributed.dask.org/en/latest/worker-memory.html#memory-not-released-back-to-the-os for more information. -- Unmanaged memory: 7.54 GiB -- Worker memory limit: 10.67 GiB\n",
      "2023-08-31 21:23:53,768 - distributed.worker.memory - WARNING - Worker is at 81% memory usage. Pausing worker.  Process memory: 8.70 GiB -- Worker memory limit: 10.67 GiB\n",
      "2023-08-31 21:23:53,978 - distributed.worker.memory - WARNING - Worker is at 72% memory usage. Resuming worker. Process memory: 7.70 GiB -- Worker memory limit: 10.67 GiB\n",
      "2023-08-31 21:23:54,166 - distributed.worker.memory - WARNING - Unmanaged memory use is high. This may indicate a memory leak or the memory may not be released to the OS; see https://distributed.dask.org/en/latest/worker-memory.html#memory-not-released-back-to-the-os for more information. -- Unmanaged memory: 7.45 GiB -- Worker memory limit: 10.67 GiB\n"
     ]
    },
    {
     "name": "stdout",
     "output_type": "stream",
     "text": [
      "Blob already exists and overwrite is set to False.\n"
     ]
    },
    {
     "name": "stderr",
     "output_type": "stream",
     "text": [
      "2023-08-31 21:23:56,937 - distributed.worker.memory - WARNING - Unmanaged memory use is high. This may indicate a memory leak or the memory may not be released to the OS; see https://distributed.dask.org/en/latest/worker-memory.html#memory-not-released-back-to-the-os for more information. -- Unmanaged memory: 7.47 GiB -- Worker memory limit: 10.67 GiB\n"
     ]
    },
    {
     "name": "stdout",
     "output_type": "stream",
     "text": [
      "Blob already exists and overwrite is set to False.\n",
      "Blob already exists and overwrite is set to False.\n",
      "Blob already exists and overwrite is set to False.\n",
      "Blob already exists and overwrite is set to False.\n",
      "Blob already exists and overwrite is set to False.\n"
     ]
    },
    {
     "name": "stderr",
     "output_type": "stream",
     "text": [
      "2023-08-31 21:24:02,219 - distributed.worker.memory - WARNING - Unmanaged memory use is high. This may indicate a memory leak or the memory may not be released to the OS; see https://distributed.dask.org/en/latest/worker-memory.html#memory-not-released-back-to-the-os for more information. -- Unmanaged memory: 7.50 GiB -- Worker memory limit: 10.67 GiB\n",
      "2023-08-31 21:24:02,294 - distributed.worker.memory - WARNING - Worker is at 81% memory usage. Pausing worker.  Process memory: 8.72 GiB -- Worker memory limit: 10.67 GiB\n",
      "2023-08-31 21:24:02,430 - distributed.worker.memory - WARNING - Worker is at 72% memory usage. Resuming worker. Process memory: 7.72 GiB -- Worker memory limit: 10.67 GiB\n",
      "2023-08-31 21:24:03,448 - distributed.worker.memory - WARNING - Unmanaged memory use is high. This may indicate a memory leak or the memory may not be released to the OS; see https://distributed.dask.org/en/latest/worker-memory.html#memory-not-released-back-to-the-os for more information. -- Unmanaged memory: 7.47 GiB -- Worker memory limit: 10.67 GiB\n",
      "2023-08-31 21:24:03,981 - distributed.nanny.memory - WARNING - Worker tcp://127.0.0.1:51432 (pid=48396) exceeded 95% memory budget. Restarting...\n",
      "2023-08-31 21:24:04,147 - distributed.worker - ERROR - Worker stream died during communication: tcp://127.0.0.1:51432\n",
      "Traceback (most recent call last):\n",
      "  File \"/Users/calkoen/mambaforge/envs/testenv/lib/python3.11/site-packages/distributed/comm/tcp.py\", line 225, in read\n",
      "    frames_nbytes = await stream.read_bytes(fmt_size)\n",
      "                    ^^^^^^^^^^^^^^^^^^^^^^^^^^^^^^^^^\n",
      "tornado.iostream.StreamClosedError: Stream is closed\n",
      "\n",
      "The above exception was the direct cause of the following exception:\n",
      "\n",
      "Traceback (most recent call last):\n",
      "  File \"/Users/calkoen/mambaforge/envs/testenv/lib/python3.11/site-packages/distributed/worker.py\", line 2053, in gather_dep\n",
      "    response = await get_data_from_worker(\n",
      "               ^^^^^^^^^^^^^^^^^^^^^^^^^^^\n",
      "  File \"/Users/calkoen/mambaforge/envs/testenv/lib/python3.11/site-packages/distributed/worker.py\", line 2902, in get_data_from_worker\n",
      "    response = await send_recv(\n",
      "               ^^^^^^^^^^^^^^^^\n",
      "  File \"/Users/calkoen/mambaforge/envs/testenv/lib/python3.11/site-packages/distributed/core.py\", line 1136, in send_recv\n",
      "    response = await comm.read(deserializers=deserializers)\n",
      "               ^^^^^^^^^^^^^^^^^^^^^^^^^^^^^^^^^^^^^^^^^^^^\n",
      "  File \"/Users/calkoen/mambaforge/envs/testenv/lib/python3.11/site-packages/distributed/comm/tcp.py\", line 241, in read\n",
      "    convert_stream_closed_error(self, e)\n",
      "  File \"/Users/calkoen/mambaforge/envs/testenv/lib/python3.11/site-packages/distributed/comm/tcp.py\", line 144, in convert_stream_closed_error\n",
      "    raise CommClosedError(f\"in {obj}: {exc}\") from exc\n",
      "distributed.comm.core.CommClosedError: in <TCP (closed) Ephemeral Worker->Worker for gather local=tcp://127.0.0.1:51510 remote=tcp://127.0.0.1:51432>: Stream is closed\n",
      "2023-08-31 21:24:04,152 - distributed.nanny - WARNING - Restarting worker\n",
      "2023-08-31 21:24:08,627 - distributed.worker.memory - WARNING - Worker is at 80% memory usage. Pausing worker.  Process memory: 8.54 GiB -- Worker memory limit: 10.67 GiB\n",
      "2023-08-31 21:24:08,717 - distributed.worker.memory - WARNING - Worker is at 61% memory usage. Resuming worker. Process memory: 6.56 GiB -- Worker memory limit: 10.67 GiB\n"
     ]
    },
    {
     "name": "stdout",
     "output_type": "stream",
     "text": [
      "Blob already exists and overwrite is set to False.\n",
      "Blob already exists and overwrite is set to False.\n"
     ]
    },
    {
     "name": "stderr",
     "output_type": "stream",
     "text": [
      "2023-08-31 21:24:14,773 - distributed.worker.memory - WARNING - Unmanaged memory use is high. This may indicate a memory leak or the memory may not be released to the OS; see https://distributed.dask.org/en/latest/worker-memory.html#memory-not-released-back-to-the-os for more information. -- Unmanaged memory: 7.21 GiB -- Worker memory limit: 10.67 GiB\n"
     ]
    },
    {
     "name": "stdout",
     "output_type": "stream",
     "text": [
      "Blob already exists and overwrite is set to False.\n"
     ]
    },
    {
     "name": "stderr",
     "output_type": "stream",
     "text": [
      "2023-08-31 21:24:15,145 - distributed.worker.memory - WARNING - Unmanaged memory use is high. This may indicate a memory leak or the memory may not be released to the OS; see https://distributed.dask.org/en/latest/worker-memory.html#memory-not-released-back-to-the-os for more information. -- Unmanaged memory: 7.84 GiB -- Worker memory limit: 10.67 GiB\n"
     ]
    },
    {
     "name": "stdout",
     "output_type": "stream",
     "text": [
      "Blob already exists and overwrite is set to False.\n"
     ]
    },
    {
     "name": "stderr",
     "output_type": "stream",
     "text": [
      "2023-08-31 21:24:16,218 - distributed.worker.memory - WARNING - Unmanaged memory use is high. This may indicate a memory leak or the memory may not be released to the OS; see https://distributed.dask.org/en/latest/worker-memory.html#memory-not-released-back-to-the-os for more information. -- Unmanaged memory: 6.87 GiB -- Worker memory limit: 10.67 GiB\n",
      "2023-08-31 21:24:16,801 - distributed.worker.memory - WARNING - Unmanaged memory use is high. This may indicate a memory leak or the memory may not be released to the OS; see https://distributed.dask.org/en/latest/worker-memory.html#memory-not-released-back-to-the-os for more information. -- Unmanaged memory: 7.47 GiB -- Worker memory limit: 10.67 GiB\n",
      "2023-08-31 21:24:22,620 - distributed.worker.memory - WARNING - Worker is at 86% memory usage. Pausing worker.  Process memory: 9.20 GiB -- Worker memory limit: 10.67 GiB\n",
      "2023-08-31 21:24:22,874 - distributed.worker.memory - WARNING - Worker is at 71% memory usage. Resuming worker. Process memory: 7.63 GiB -- Worker memory limit: 10.67 GiB\n"
     ]
    },
    {
     "name": "stdout",
     "output_type": "stream",
     "text": [
      "Blob already exists and overwrite is set to False.\n",
      "Blob already exists and overwrite is set to False.\n",
      "Blob already exists and overwrite is set to False.\n",
      "Blob already exists and overwrite is set to False.\n"
     ]
    },
    {
     "name": "stderr",
     "output_type": "stream",
     "text": [
      "2023-08-31 21:24:26,671 - distributed.worker.memory - WARNING - Unmanaged memory use is high. This may indicate a memory leak or the memory may not be released to the OS; see https://distributed.dask.org/en/latest/worker-memory.html#memory-not-released-back-to-the-os for more information. -- Unmanaged memory: 7.84 GiB -- Worker memory limit: 10.67 GiB\n"
     ]
    },
    {
     "name": "stdout",
     "output_type": "stream",
     "text": [
      "Blob already exists and overwrite is set to False.\n",
      "Blob already exists and overwrite is set to False.\n"
     ]
    },
    {
     "name": "stderr",
     "output_type": "stream",
     "text": [
      "2023-08-31 21:24:28,343 - distributed.worker.memory - WARNING - Worker is at 83% memory usage. Pausing worker.  Process memory: 8.88 GiB -- Worker memory limit: 10.67 GiB\n",
      "2023-08-31 21:24:28,347 - distributed.worker.memory - WARNING - Worker is at 46% memory usage. Resuming worker. Process memory: 4.96 GiB -- Worker memory limit: 10.67 GiB\n",
      "2023-08-31 21:24:28,443 - distributed.worker.memory - WARNING - Unmanaged memory use is high. This may indicate a memory leak or the memory may not be released to the OS; see https://distributed.dask.org/en/latest/worker-memory.html#memory-not-released-back-to-the-os for more information. -- Unmanaged memory: 6.99 GiB -- Worker memory limit: 10.67 GiB\n"
     ]
    },
    {
     "name": "stdout",
     "output_type": "stream",
     "text": [
      "Blob already exists and overwrite is set to False.\n",
      "Blob already exists and overwrite is set to False.\n"
     ]
    },
    {
     "name": "stderr",
     "output_type": "stream",
     "text": [
      "2023-08-31 21:24:28,947 - distributed.worker.memory - WARNING - Unmanaged memory use is high. This may indicate a memory leak or the memory may not be released to the OS; see https://distributed.dask.org/en/latest/worker-memory.html#memory-not-released-back-to-the-os for more information. -- Unmanaged memory: 6.42 GiB -- Worker memory limit: 10.67 GiB\n",
      "2023-08-31 21:24:29,583 - distributed.worker.memory - WARNING - Unmanaged memory use is high. This may indicate a memory leak or the memory may not be released to the OS; see https://distributed.dask.org/en/latest/worker-memory.html#memory-not-released-back-to-the-os for more information. -- Unmanaged memory: 8.32 GiB -- Worker memory limit: 10.67 GiB\n",
      "2023-08-31 21:24:29,740 - distributed.worker.memory - WARNING - Worker is at 80% memory usage. Pausing worker.  Process memory: 8.54 GiB -- Worker memory limit: 10.67 GiB\n",
      "2023-08-31 21:24:29,840 - distributed.worker.memory - WARNING - Worker is at 61% memory usage. Resuming worker. Process memory: 6.54 GiB -- Worker memory limit: 10.67 GiB\n"
     ]
    },
    {
     "name": "stdout",
     "output_type": "stream",
     "text": [
      "Blob already exists and overwrite is set to False.\n",
      "Blob already exists and overwrite is set to False.\n"
     ]
    },
    {
     "name": "stderr",
     "output_type": "stream",
     "text": [
      "2023-08-31 21:24:31,242 - distributed.worker.memory - WARNING - Unmanaged memory use is high. This may indicate a memory leak or the memory may not be released to the OS; see https://distributed.dask.org/en/latest/worker-memory.html#memory-not-released-back-to-the-os for more information. -- Unmanaged memory: 8.11 GiB -- Worker memory limit: 10.67 GiB\n"
     ]
    },
    {
     "name": "stdout",
     "output_type": "stream",
     "text": [
      "Blob already exists and overwrite is set to False.\n"
     ]
    },
    {
     "name": "stderr",
     "output_type": "stream",
     "text": [
      "2023-08-31 21:24:32,765 - distributed.worker.memory - WARNING - Worker is at 80% memory usage. Pausing worker.  Process memory: 8.60 GiB -- Worker memory limit: 10.67 GiB\n",
      "2023-08-31 21:24:32,847 - distributed.worker.memory - WARNING - Worker is at 52% memory usage. Resuming worker. Process memory: 5.62 GiB -- Worker memory limit: 10.67 GiB\n"
     ]
    },
    {
     "name": "stdout",
     "output_type": "stream",
     "text": [
      "Blob already exists and overwrite is set to False.\n",
      "Blob already exists and overwrite is set to False.\n"
     ]
    },
    {
     "name": "stderr",
     "output_type": "stream",
     "text": [
      "2023-08-31 21:24:35,116 - distributed.worker.memory - WARNING - Unmanaged memory use is high. This may indicate a memory leak or the memory may not be released to the OS; see https://distributed.dask.org/en/latest/worker-memory.html#memory-not-released-back-to-the-os for more information. -- Unmanaged memory: 8.27 GiB -- Worker memory limit: 10.67 GiB\n"
     ]
    },
    {
     "name": "stdout",
     "output_type": "stream",
     "text": [
      "Blob already exists and overwrite is set to False.\n",
      "Blob already exists and overwrite is set to False.\n",
      "Blob already exists and overwrite is set to False.\n"
     ]
    },
    {
     "name": "stderr",
     "output_type": "stream",
     "text": [
      "2023-08-31 21:24:38,956 - distributed.worker.memory - WARNING - Worker is at 80% memory usage. Pausing worker.  Process memory: 8.57 GiB -- Worker memory limit: 10.67 GiB\n",
      "2023-08-31 21:24:38,999 - distributed.worker.memory - WARNING - Unmanaged memory use is high. This may indicate a memory leak or the memory may not be released to the OS; see https://distributed.dask.org/en/latest/worker-memory.html#memory-not-released-back-to-the-os for more information. -- Unmanaged memory: 8.11 GiB -- Worker memory limit: 10.67 GiB\n"
     ]
    },
    {
     "name": "stdout",
     "output_type": "stream",
     "text": [
      "Blob already exists and overwrite is set to False.\n"
     ]
    },
    {
     "name": "stderr",
     "output_type": "stream",
     "text": [
      "2023-08-31 21:24:39,187 - distributed.worker.memory - WARNING - Worker is at 62% memory usage. Resuming worker. Process memory: 6.67 GiB -- Worker memory limit: 10.67 GiB\n",
      "2023-08-31 21:24:39,284 - distributed.worker.memory - WARNING - Unmanaged memory use is high. This may indicate a memory leak or the memory may not be released to the OS; see https://distributed.dask.org/en/latest/worker-memory.html#memory-not-released-back-to-the-os for more information. -- Unmanaged memory: 7.11 GiB -- Worker memory limit: 10.67 GiB\n"
     ]
    },
    {
     "name": "stdout",
     "output_type": "stream",
     "text": [
      "Blob already exists and overwrite is set to False.\n",
      "Blob already exists and overwrite is set to False.\n"
     ]
    },
    {
     "name": "stderr",
     "output_type": "stream",
     "text": [
      "2023-08-31 21:24:41,519 - distributed.worker.memory - WARNING - Unmanaged memory use is high. This may indicate a memory leak or the memory may not be released to the OS; see https://distributed.dask.org/en/latest/worker-memory.html#memory-not-released-back-to-the-os for more information. -- Unmanaged memory: 6.49 GiB -- Worker memory limit: 10.67 GiB\n",
      "2023-08-31 21:24:42,823 - distributed.worker.memory - WARNING - Worker is at 80% memory usage. Pausing worker.  Process memory: 8.54 GiB -- Worker memory limit: 10.67 GiB\n",
      "2023-08-31 21:24:42,847 - distributed.worker.memory - WARNING - Worker is at 80% memory usage. Pausing worker.  Process memory: 8.54 GiB -- Worker memory limit: 10.67 GiB\n",
      "2023-08-31 21:24:42,917 - distributed.worker.memory - WARNING - Worker is at 61% memory usage. Resuming worker. Process memory: 6.56 GiB -- Worker memory limit: 10.67 GiB\n",
      "2023-08-31 21:24:42,934 - distributed.worker.memory - WARNING - Worker is at 63% memory usage. Resuming worker. Process memory: 6.82 GiB -- Worker memory limit: 10.67 GiB\n"
     ]
    },
    {
     "name": "stdout",
     "output_type": "stream",
     "text": [
      "Blob already exists and overwrite is set to False.\n",
      "Blob already exists and overwrite is set to False.\n"
     ]
    },
    {
     "name": "stderr",
     "output_type": "stream",
     "text": [
      "2023-08-31 21:24:45,905 - distributed.worker.memory - WARNING - Worker is at 80% memory usage. Pausing worker.  Process memory: 8.54 GiB -- Worker memory limit: 10.67 GiB\n",
      "2023-08-31 21:24:45,998 - distributed.worker.memory - WARNING - Worker is at 59% memory usage. Resuming worker. Process memory: 6.33 GiB -- Worker memory limit: 10.67 GiB\n"
     ]
    },
    {
     "name": "stdout",
     "output_type": "stream",
     "text": [
      "Blob already exists and overwrite is set to False.\n"
     ]
    },
    {
     "name": "stderr",
     "output_type": "stream",
     "text": [
      "2023-08-31 21:24:49,334 - distributed.worker.memory - WARNING - Unmanaged memory use is high. This may indicate a memory leak or the memory may not be released to the OS; see https://distributed.dask.org/en/latest/worker-memory.html#memory-not-released-back-to-the-os for more information. -- Unmanaged memory: 7.66 GiB -- Worker memory limit: 10.67 GiB\n"
     ]
    },
    {
     "name": "stdout",
     "output_type": "stream",
     "text": [
      "Blob already exists and overwrite is set to False.\n"
     ]
    },
    {
     "name": "stderr",
     "output_type": "stream",
     "text": [
      "2023-08-31 21:24:51,523 - distributed.worker.memory - WARNING - Unmanaged memory use is high. This may indicate a memory leak or the memory may not be released to the OS; see https://distributed.dask.org/en/latest/worker-memory.html#memory-not-released-back-to-the-os for more information. -- Unmanaged memory: 6.49 GiB -- Worker memory limit: 10.67 GiB\n"
     ]
    },
    {
     "name": "stdout",
     "output_type": "stream",
     "text": [
      "Blob already exists and overwrite is set to False.\n"
     ]
    },
    {
     "name": "stderr",
     "output_type": "stream",
     "text": [
      "2023-08-31 21:24:52,948 - distributed.worker.memory - WARNING - Unmanaged memory use is high. This may indicate a memory leak or the memory may not be released to the OS; see https://distributed.dask.org/en/latest/worker-memory.html#memory-not-released-back-to-the-os for more information. -- Unmanaged memory: 7.47 GiB -- Worker memory limit: 10.67 GiB\n",
      "2023-08-31 21:24:53,626 - distributed.worker.memory - WARNING - Unmanaged memory use is high. This may indicate a memory leak or the memory may not be released to the OS; see https://distributed.dask.org/en/latest/worker-memory.html#memory-not-released-back-to-the-os for more information. -- Unmanaged memory: 6.51 GiB -- Worker memory limit: 10.67 GiB\n"
     ]
    },
    {
     "name": "stdout",
     "output_type": "stream",
     "text": [
      "Blob already exists and overwrite is set to False.\n"
     ]
    },
    {
     "name": "stderr",
     "output_type": "stream",
     "text": [
      "2023-08-31 21:24:54,539 - distributed.worker.memory - WARNING - Unmanaged memory use is high. This may indicate a memory leak or the memory may not be released to the OS; see https://distributed.dask.org/en/latest/worker-memory.html#memory-not-released-back-to-the-os for more information. -- Unmanaged memory: 7.47 GiB -- Worker memory limit: 10.67 GiB\n",
      "2023-08-31 21:24:55,548 - distributed.worker.memory - WARNING - Unmanaged memory use is high. This may indicate a memory leak or the memory may not be released to the OS; see https://distributed.dask.org/en/latest/worker-memory.html#memory-not-released-back-to-the-os for more information. -- Unmanaged memory: 7.47 GiB -- Worker memory limit: 10.67 GiB\n"
     ]
    },
    {
     "name": "stdout",
     "output_type": "stream",
     "text": [
      "Blob already exists and overwrite is set to False.\n",
      "Blob already exists and overwrite is set to False.\n",
      "Blob already exists and overwrite is set to False.\n",
      "Blob already exists and overwrite is set to False.\n"
     ]
    },
    {
     "name": "stderr",
     "output_type": "stream",
     "text": [
      "2023-08-31 21:25:01,619 - distributed.worker.memory - WARNING - Unmanaged memory use is high. This may indicate a memory leak or the memory may not be released to the OS; see https://distributed.dask.org/en/latest/worker-memory.html#memory-not-released-back-to-the-os for more information. -- Unmanaged memory: 7.57 GiB -- Worker memory limit: 10.67 GiB\n"
     ]
    },
    {
     "name": "stdout",
     "output_type": "stream",
     "text": [
      "Blob already exists and overwrite is set to False.\n"
     ]
    },
    {
     "name": "stderr",
     "output_type": "stream",
     "text": [
      "2023-08-31 21:25:02,676 - distributed.worker.memory - WARNING - Unmanaged memory use is high. This may indicate a memory leak or the memory may not be released to the OS; see https://distributed.dask.org/en/latest/worker-memory.html#memory-not-released-back-to-the-os for more information. -- Unmanaged memory: 6.66 GiB -- Worker memory limit: 10.67 GiB\n",
      "2023-08-31 21:25:03,699 - distributed.worker.memory - WARNING - Unmanaged memory use is high. This may indicate a memory leak or the memory may not be released to the OS; see https://distributed.dask.org/en/latest/worker-memory.html#memory-not-released-back-to-the-os for more information. -- Unmanaged memory: 8.23 GiB -- Worker memory limit: 10.67 GiB\n",
      "2023-08-31 21:25:04,637 - distributed.worker.memory - WARNING - Unmanaged memory use is high. This may indicate a memory leak or the memory may not be released to the OS; see https://distributed.dask.org/en/latest/worker-memory.html#memory-not-released-back-to-the-os for more information. -- Unmanaged memory: 8.02 GiB -- Worker memory limit: 10.67 GiB\n",
      "2023-08-31 21:25:06,105 - distributed.worker.memory - WARNING - Worker is at 80% memory usage. Pausing worker.  Process memory: 8.53 GiB -- Worker memory limit: 10.67 GiB\n",
      "2023-08-31 21:25:06,321 - distributed.worker.memory - WARNING - Worker is at 60% memory usage. Resuming worker. Process memory: 6.42 GiB -- Worker memory limit: 10.67 GiB\n",
      "2023-08-31 21:25:06,658 - distributed.worker.memory - WARNING - Worker is at 82% memory usage. Pausing worker.  Process memory: 8.85 GiB -- Worker memory limit: 10.67 GiB\n",
      "2023-08-31 21:25:06,737 - distributed.worker.memory - WARNING - Worker is at 56% memory usage. Resuming worker. Process memory: 6.08 GiB -- Worker memory limit: 10.67 GiB\n"
     ]
    },
    {
     "name": "stdout",
     "output_type": "stream",
     "text": [
      "Blob already exists and overwrite is set to False.\n",
      "Blob already exists and overwrite is set to False.\n",
      "Blob already exists and overwrite is set to False.\n"
     ]
    },
    {
     "name": "stderr",
     "output_type": "stream",
     "text": [
      "2023-08-31 21:25:08,160 - distributed.worker.memory - WARNING - Unmanaged memory use is high. This may indicate a memory leak or the memory may not be released to the OS; see https://distributed.dask.org/en/latest/worker-memory.html#memory-not-released-back-to-the-os for more information. -- Unmanaged memory: 6.51 GiB -- Worker memory limit: 10.67 GiB\n"
     ]
    },
    {
     "name": "stdout",
     "output_type": "stream",
     "text": [
      "Blob already exists and overwrite is set to False.\n"
     ]
    },
    {
     "name": "stderr",
     "output_type": "stream",
     "text": [
      "2023-08-31 21:25:11,455 - distributed.worker.memory - WARNING - Worker is at 80% memory usage. Pausing worker.  Process memory: 8.58 GiB -- Worker memory limit: 10.67 GiB\n",
      "2023-08-31 21:25:11,681 - distributed.worker.memory - WARNING - Worker is at 54% memory usage. Resuming worker. Process memory: 5.80 GiB -- Worker memory limit: 10.67 GiB\n"
     ]
    },
    {
     "name": "stdout",
     "output_type": "stream",
     "text": [
      "Blob already exists and overwrite is set to False.\n"
     ]
    },
    {
     "name": "stderr",
     "output_type": "stream",
     "text": [
      "2023-08-31 21:25:12,434 - distributed.worker.memory - WARNING - Worker is at 81% memory usage. Pausing worker.  Process memory: 8.69 GiB -- Worker memory limit: 10.67 GiB\n",
      "2023-08-31 21:25:12,534 - distributed.worker.memory - WARNING - Worker is at 73% memory usage. Resuming worker. Process memory: 7.87 GiB -- Worker memory limit: 10.67 GiB\n"
     ]
    },
    {
     "name": "stdout",
     "output_type": "stream",
     "text": [
      "Blob already exists and overwrite is set to False.\n"
     ]
    },
    {
     "name": "stderr",
     "output_type": "stream",
     "text": [
      "2023-08-31 21:25:13,516 - distributed.worker.memory - WARNING - Unmanaged memory use is high. This may indicate a memory leak or the memory may not be released to the OS; see https://distributed.dask.org/en/latest/worker-memory.html#memory-not-released-back-to-the-os for more information. -- Unmanaged memory: 6.87 GiB -- Worker memory limit: 10.67 GiB\n",
      "2023-08-31 21:25:17,634 - distributed.worker.memory - WARNING - Worker is at 80% memory usage. Pausing worker.  Process memory: 8.54 GiB -- Worker memory limit: 10.67 GiB\n"
     ]
    },
    {
     "name": "stdout",
     "output_type": "stream",
     "text": [
      "Blob already exists and overwrite is set to False.\n"
     ]
    },
    {
     "name": "stderr",
     "output_type": "stream",
     "text": [
      "2023-08-31 21:25:18,247 - distributed.worker.memory - WARNING - Unmanaged memory use is high. This may indicate a memory leak or the memory may not be released to the OS; see https://distributed.dask.org/en/latest/worker-memory.html#memory-not-released-back-to-the-os for more information. -- Unmanaged memory: 7.93 GiB -- Worker memory limit: 10.67 GiB\n",
      "2023-08-31 21:25:19,977 - distributed.nanny.memory - WARNING - Worker tcp://127.0.0.1:51507 (pid=48515) exceeded 95% memory budget. Restarting...\n",
      "2023-08-31 21:25:20,142 - distributed.nanny - WARNING - Restarting worker\n",
      "2023-08-31 21:25:20,167 - distributed.worker - ERROR - Worker stream died during communication: tcp://127.0.0.1:51507\n",
      "Traceback (most recent call last):\n",
      "  File \"/Users/calkoen/mambaforge/envs/testenv/lib/python3.11/site-packages/distributed/comm/tcp.py\", line 225, in read\n",
      "    frames_nbytes = await stream.read_bytes(fmt_size)\n",
      "                    ^^^^^^^^^^^^^^^^^^^^^^^^^^^^^^^^^\n",
      "tornado.iostream.StreamClosedError: Stream is closed\n",
      "\n",
      "The above exception was the direct cause of the following exception:\n",
      "\n",
      "Traceback (most recent call last):\n",
      "  File \"/Users/calkoen/mambaforge/envs/testenv/lib/python3.11/site-packages/distributed/worker.py\", line 2053, in gather_dep\n",
      "    response = await get_data_from_worker(\n",
      "               ^^^^^^^^^^^^^^^^^^^^^^^^^^^\n",
      "  File \"/Users/calkoen/mambaforge/envs/testenv/lib/python3.11/site-packages/distributed/worker.py\", line 2902, in get_data_from_worker\n",
      "    response = await send_recv(\n",
      "               ^^^^^^^^^^^^^^^^\n",
      "  File \"/Users/calkoen/mambaforge/envs/testenv/lib/python3.11/site-packages/distributed/core.py\", line 1136, in send_recv\n",
      "    response = await comm.read(deserializers=deserializers)\n",
      "               ^^^^^^^^^^^^^^^^^^^^^^^^^^^^^^^^^^^^^^^^^^^^\n",
      "  File \"/Users/calkoen/mambaforge/envs/testenv/lib/python3.11/site-packages/distributed/comm/tcp.py\", line 241, in read\n",
      "    convert_stream_closed_error(self, e)\n",
      "  File \"/Users/calkoen/mambaforge/envs/testenv/lib/python3.11/site-packages/distributed/comm/tcp.py\", line 144, in convert_stream_closed_error\n",
      "    raise CommClosedError(f\"in {obj}: {exc}\") from exc\n",
      "distributed.comm.core.CommClosedError: in <TCP (closed) Ephemeral Worker->Worker for gather local=tcp://127.0.0.1:51597 remote=tcp://127.0.0.1:51507>: Stream is closed\n"
     ]
    },
    {
     "name": "stdout",
     "output_type": "stream",
     "text": [
      "Blob already exists and overwrite is set to False.\n"
     ]
    },
    {
     "name": "stderr",
     "output_type": "stream",
     "text": [
      "2023-08-31 21:25:23,457 - distributed.worker.memory - WARNING - Unmanaged memory use is high. This may indicate a memory leak or the memory may not be released to the OS; see https://distributed.dask.org/en/latest/worker-memory.html#memory-not-released-back-to-the-os for more information. -- Unmanaged memory: 6.49 GiB -- Worker memory limit: 10.67 GiB\n",
      "2023-08-31 21:25:24,579 - distributed.worker.memory - WARNING - Worker is at 80% memory usage. Pausing worker.  Process memory: 8.62 GiB -- Worker memory limit: 10.67 GiB\n",
      "2023-08-31 21:25:24,598 - distributed.worker.memory - WARNING - Worker is at 79% memory usage. Resuming worker. Process memory: 8.46 GiB -- Worker memory limit: 10.67 GiB\n",
      "2023-08-31 21:25:24,698 - distributed.worker.memory - WARNING - Worker is at 83% memory usage. Pausing worker.  Process memory: 8.86 GiB -- Worker memory limit: 10.67 GiB\n",
      "2023-08-31 21:25:24,874 - distributed.worker.memory - WARNING - Worker is at 64% memory usage. Resuming worker. Process memory: 6.89 GiB -- Worker memory limit: 10.67 GiB\n"
     ]
    },
    {
     "name": "stdout",
     "output_type": "stream",
     "text": [
      "Blob already exists and overwrite is set to False.\n"
     ]
    },
    {
     "name": "stderr",
     "output_type": "stream",
     "text": [
      "2023-08-31 21:25:27,000 - distributed.worker.memory - WARNING - Unmanaged memory use is high. This may indicate a memory leak or the memory may not be released to the OS; see https://distributed.dask.org/en/latest/worker-memory.html#memory-not-released-back-to-the-os for more information. -- Unmanaged memory: 7.48 GiB -- Worker memory limit: 10.67 GiB\n"
     ]
    },
    {
     "name": "stdout",
     "output_type": "stream",
     "text": [
      "Blob already exists and overwrite is set to False.\n"
     ]
    },
    {
     "name": "stderr",
     "output_type": "stream",
     "text": [
      "2023-08-31 21:25:32,436 - distributed.worker.memory - WARNING - Unmanaged memory use is high. This may indicate a memory leak or the memory may not be released to the OS; see https://distributed.dask.org/en/latest/worker-memory.html#memory-not-released-back-to-the-os for more information. -- Unmanaged memory: 7.87 GiB -- Worker memory limit: 10.67 GiB\n"
     ]
    },
    {
     "name": "stdout",
     "output_type": "stream",
     "text": [
      "Blob already exists and overwrite is set to False.\n"
     ]
    },
    {
     "name": "stderr",
     "output_type": "stream",
     "text": [
      "2023-08-31 21:25:33,659 - distributed.worker.memory - WARNING - Worker is at 86% memory usage. Pausing worker.  Process memory: 9.24 GiB -- Worker memory limit: 10.67 GiB\n",
      "2023-08-31 21:25:33,845 - distributed.worker.memory - WARNING - Worker is at 82% memory usage. Pausing worker.  Process memory: 8.78 GiB -- Worker memory limit: 10.67 GiB\n",
      "2023-08-31 21:25:33,949 - distributed.worker.memory - WARNING - Worker is at 75% memory usage. Resuming worker. Process memory: 8.09 GiB -- Worker memory limit: 10.67 GiB\n",
      "2023-08-31 21:25:33,949 - distributed.worker.memory - WARNING - Unmanaged memory use is high. This may indicate a memory leak or the memory may not be released to the OS; see https://distributed.dask.org/en/latest/worker-memory.html#memory-not-released-back-to-the-os for more information. -- Unmanaged memory: 8.09 GiB -- Worker memory limit: 10.67 GiB\n",
      "2023-08-31 21:25:33,993 - distributed.worker.memory - WARNING - Worker is at 55% memory usage. Resuming worker. Process memory: 5.94 GiB -- Worker memory limit: 10.67 GiB\n"
     ]
    },
    {
     "name": "stdout",
     "output_type": "stream",
     "text": [
      "Blob already exists and overwrite is set to False.\n",
      "Blob already exists and overwrite is set to False.\n"
     ]
    },
    {
     "name": "stderr",
     "output_type": "stream",
     "text": [
      "2023-08-31 21:25:35,573 - distributed.worker.memory - WARNING - Worker is at 80% memory usage. Pausing worker.  Process memory: 8.63 GiB -- Worker memory limit: 10.67 GiB\n",
      "2023-08-31 21:25:35,799 - distributed.worker.memory - WARNING - Worker is at 78% memory usage. Resuming worker. Process memory: 8.33 GiB -- Worker memory limit: 10.67 GiB\n"
     ]
    },
    {
     "name": "stdout",
     "output_type": "stream",
     "text": [
      "Blob already exists and overwrite is set to False.\n",
      "Blob already exists and overwrite is set to False.\n"
     ]
    },
    {
     "name": "stderr",
     "output_type": "stream",
     "text": [
      "2023-08-31 21:25:36,353 - distributed.worker.memory - WARNING - Worker is at 82% memory usage. Pausing worker.  Process memory: 8.79 GiB -- Worker memory limit: 10.67 GiB\n",
      "2023-08-31 21:25:36,698 - distributed.worker.memory - WARNING - Worker is at 78% memory usage. Resuming worker. Process memory: 8.34 GiB -- Worker memory limit: 10.67 GiB\n"
     ]
    },
    {
     "name": "stdout",
     "output_type": "stream",
     "text": [
      "Blob already exists and overwrite is set to False.\n"
     ]
    },
    {
     "name": "stderr",
     "output_type": "stream",
     "text": [
      "2023-08-31 21:25:36,975 - distributed.worker.memory - WARNING - Worker is at 81% memory usage. Pausing worker.  Process memory: 8.70 GiB -- Worker memory limit: 10.67 GiB\n",
      "2023-08-31 21:25:37,049 - distributed.worker.memory - WARNING - Unmanaged memory use is high. This may indicate a memory leak or the memory may not be released to the OS; see https://distributed.dask.org/en/latest/worker-memory.html#memory-not-released-back-to-the-os for more information. -- Unmanaged memory: 7.49 GiB -- Worker memory limit: 10.67 GiB\n"
     ]
    },
    {
     "name": "stdout",
     "output_type": "stream",
     "text": [
      "Blob already exists and overwrite is set to False.\n",
      "Blob already exists and overwrite is set to False.\n"
     ]
    },
    {
     "name": "stderr",
     "output_type": "stream",
     "text": [
      "2023-08-31 21:25:37,902 - distributed.worker.memory - WARNING - Unmanaged memory use is high. This may indicate a memory leak or the memory may not be released to the OS; see https://distributed.dask.org/en/latest/worker-memory.html#memory-not-released-back-to-the-os for more information. -- Unmanaged memory: 7.61 GiB -- Worker memory limit: 10.67 GiB\n"
     ]
    },
    {
     "name": "stdout",
     "output_type": "stream",
     "text": [
      "Blob already exists and overwrite is set to False.\n"
     ]
    },
    {
     "name": "stderr",
     "output_type": "stream",
     "text": [
      "2023-08-31 21:25:41,754 - distributed.worker.memory - WARNING - Unmanaged memory use is high. This may indicate a memory leak or the memory may not be released to the OS; see https://distributed.dask.org/en/latest/worker-memory.html#memory-not-released-back-to-the-os for more information. -- Unmanaged memory: 6.77 GiB -- Worker memory limit: 10.67 GiB\n",
      "2023-08-31 21:25:43,998 - distributed.worker.memory - WARNING - Unmanaged memory use is high. This may indicate a memory leak or the memory may not be released to the OS; see https://distributed.dask.org/en/latest/worker-memory.html#memory-not-released-back-to-the-os for more information. -- Unmanaged memory: 8.63 GiB -- Worker memory limit: 10.67 GiB\n",
      "2023-08-31 21:25:44,099 - distributed.worker.memory - WARNING - Worker is at 79% memory usage. Resuming worker. Process memory: 8.51 GiB -- Worker memory limit: 10.67 GiB\n",
      "2023-08-31 21:25:44,298 - distributed.worker.memory - WARNING - Worker is at 80% memory usage. Pausing worker.  Process memory: 8.58 GiB -- Worker memory limit: 10.67 GiB\n",
      "2023-08-31 21:25:44,399 - distributed.worker.memory - WARNING - Worker is at 79% memory usage. Resuming worker. Process memory: 8.45 GiB -- Worker memory limit: 10.67 GiB\n",
      "2023-08-31 21:25:44,599 - distributed.worker.memory - WARNING - Worker is at 80% memory usage. Pausing worker.  Process memory: 8.54 GiB -- Worker memory limit: 10.67 GiB\n",
      "2023-08-31 21:25:44,799 - distributed.worker.memory - WARNING - Worker is at 79% memory usage. Resuming worker. Process memory: 8.49 GiB -- Worker memory limit: 10.67 GiB\n",
      "2023-08-31 21:25:44,898 - distributed.worker.memory - WARNING - Worker is at 80% memory usage. Pausing worker.  Process memory: 8.59 GiB -- Worker memory limit: 10.67 GiB\n",
      "2023-08-31 21:25:44,900 - distributed.worker.memory - WARNING - Unmanaged memory use is high. This may indicate a memory leak or the memory may not be released to the OS; see https://distributed.dask.org/en/latest/worker-memory.html#memory-not-released-back-to-the-os for more information. -- Unmanaged memory: 7.07 GiB -- Worker memory limit: 10.67 GiB\n"
     ]
    },
    {
     "name": "stdout",
     "output_type": "stream",
     "text": [
      "Blob already exists and overwrite is set to False.\n",
      "Blob already exists and overwrite is set to False.\n"
     ]
    },
    {
     "name": "stderr",
     "output_type": "stream",
     "text": [
      "2023-08-31 21:25:51,098 - distributed.worker.memory - WARNING - Worker is at 65% memory usage. Resuming worker. Process memory: 7.04 GiB -- Worker memory limit: 10.67 GiB\n",
      "2023-08-31 21:25:51,460 - distributed.worker.memory - WARNING - Unmanaged memory use is high. This may indicate a memory leak or the memory may not be released to the OS; see https://distributed.dask.org/en/latest/worker-memory.html#memory-not-released-back-to-the-os for more information. -- Unmanaged memory: 7.36 GiB -- Worker memory limit: 10.67 GiB\n"
     ]
    },
    {
     "name": "stdout",
     "output_type": "stream",
     "text": [
      "Blob already exists and overwrite is set to False.\n",
      "Blob already exists and overwrite is set to False.\n",
      "Blob already exists and overwrite is set to False.\n"
     ]
    },
    {
     "name": "stderr",
     "output_type": "stream",
     "text": [
      "2023-08-31 21:25:53,997 - distributed.worker.memory - WARNING - Worker is at 80% memory usage. Pausing worker.  Process memory: 8.55 GiB -- Worker memory limit: 10.67 GiB\n",
      "2023-08-31 21:25:54,218 - distributed.worker.memory - WARNING - Worker is at 61% memory usage. Resuming worker. Process memory: 6.55 GiB -- Worker memory limit: 10.67 GiB\n"
     ]
    },
    {
     "name": "stdout",
     "output_type": "stream",
     "text": [
      "Blob already exists and overwrite is set to False.\n",
      "Blob already exists and overwrite is set to False.\n"
     ]
    },
    {
     "name": "stderr",
     "output_type": "stream",
     "text": [
      "2023-08-31 21:25:55,923 - distributed.worker.memory - WARNING - Unmanaged memory use is high. This may indicate a memory leak or the memory may not be released to the OS; see https://distributed.dask.org/en/latest/worker-memory.html#memory-not-released-back-to-the-os for more information. -- Unmanaged memory: 6.50 GiB -- Worker memory limit: 10.67 GiB\n",
      "2023-08-31 21:25:56,616 - distributed.worker.memory - WARNING - Unmanaged memory use is high. This may indicate a memory leak or the memory may not be released to the OS; see https://distributed.dask.org/en/latest/worker-memory.html#memory-not-released-back-to-the-os for more information. -- Unmanaged memory: 7.92 GiB -- Worker memory limit: 10.67 GiB\n"
     ]
    },
    {
     "name": "stdout",
     "output_type": "stream",
     "text": [
      "Blob already exists and overwrite is set to False.\n"
     ]
    },
    {
     "name": "stderr",
     "output_type": "stream",
     "text": [
      "2023-08-31 21:25:59,343 - distributed.worker.memory - WARNING - Unmanaged memory use is high. This may indicate a memory leak or the memory may not be released to the OS; see https://distributed.dask.org/en/latest/worker-memory.html#memory-not-released-back-to-the-os for more information. -- Unmanaged memory: 6.50 GiB -- Worker memory limit: 10.67 GiB\n",
      "2023-08-31 21:25:59,442 - distributed.worker.memory - WARNING - Unmanaged memory use is high. This may indicate a memory leak or the memory may not be released to the OS; see https://distributed.dask.org/en/latest/worker-memory.html#memory-not-released-back-to-the-os for more information. -- Unmanaged memory: 6.62 GiB -- Worker memory limit: 10.67 GiB\n"
     ]
    },
    {
     "name": "stdout",
     "output_type": "stream",
     "text": [
      "Blob already exists and overwrite is set to False.\n"
     ]
    },
    {
     "name": "stderr",
     "output_type": "stream",
     "text": [
      "2023-08-31 21:26:03,147 - distributed.worker.memory - WARNING - Worker is at 82% memory usage. Pausing worker.  Process memory: 8.77 GiB -- Worker memory limit: 10.67 GiB\n",
      "2023-08-31 21:26:03,323 - distributed.worker.memory - WARNING - Worker is at 72% memory usage. Resuming worker. Process memory: 7.77 GiB -- Worker memory limit: 10.67 GiB\n",
      "2023-08-31 21:26:04,673 - distributed.worker.memory - WARNING - Unmanaged memory use is high. This may indicate a memory leak or the memory may not be released to the OS; see https://distributed.dask.org/en/latest/worker-memory.html#memory-not-released-back-to-the-os for more information. -- Unmanaged memory: 7.27 GiB -- Worker memory limit: 10.67 GiB\n",
      "2023-08-31 21:26:06,618 - distributed.worker.memory - WARNING - Unmanaged memory use is high. This may indicate a memory leak or the memory may not be released to the OS; see https://distributed.dask.org/en/latest/worker-memory.html#memory-not-released-back-to-the-os for more information. -- Unmanaged memory: 7.47 GiB -- Worker memory limit: 10.67 GiB\n"
     ]
    },
    {
     "name": "stdout",
     "output_type": "stream",
     "text": [
      "Blob already exists and overwrite is set to False.\n"
     ]
    },
    {
     "name": "stderr",
     "output_type": "stream",
     "text": [
      "2023-08-31 21:26:08,824 - distributed.worker.memory - WARNING - Unmanaged memory use is high. This may indicate a memory leak or the memory may not be released to the OS; see https://distributed.dask.org/en/latest/worker-memory.html#memory-not-released-back-to-the-os for more information. -- Unmanaged memory: 6.50 GiB -- Worker memory limit: 10.67 GiB\n",
      "2023-08-31 21:26:09,538 - distributed.worker.memory - WARNING - Unmanaged memory use is high. This may indicate a memory leak or the memory may not be released to the OS; see https://distributed.dask.org/en/latest/worker-memory.html#memory-not-released-back-to-the-os for more information. -- Unmanaged memory: 7.50 GiB -- Worker memory limit: 10.67 GiB\n"
     ]
    },
    {
     "name": "stdout",
     "output_type": "stream",
     "text": [
      "Blob already exists and overwrite is set to False.\n"
     ]
    },
    {
     "name": "stderr",
     "output_type": "stream",
     "text": [
      "2023-08-31 21:26:13,828 - distributed.worker.memory - WARNING - Worker is at 80% memory usage. Pausing worker.  Process memory: 8.54 GiB -- Worker memory limit: 10.67 GiB\n",
      "2023-08-31 21:26:14,045 - distributed.worker.memory - WARNING - Worker is at 70% memory usage. Resuming worker. Process memory: 7.57 GiB -- Worker memory limit: 10.67 GiB\n",
      "2023-08-31 21:26:14,355 - distributed.worker.memory - WARNING - Unmanaged memory use is high. This may indicate a memory leak or the memory may not be released to the OS; see https://distributed.dask.org/en/latest/worker-memory.html#memory-not-released-back-to-the-os for more information. -- Unmanaged memory: 6.40 GiB -- Worker memory limit: 10.67 GiB\n",
      "2023-08-31 21:26:14,800 - distributed.worker.memory - WARNING - Worker is at 80% memory usage. Pausing worker.  Process memory: 8.54 GiB -- Worker memory limit: 10.67 GiB\n",
      "2023-08-31 21:26:14,937 - distributed.worker.memory - WARNING - Worker is at 48% memory usage. Resuming worker. Process memory: 5.16 GiB -- Worker memory limit: 10.67 GiB\n",
      "2023-08-31 21:26:16,180 - distributed.worker.memory - WARNING - Unmanaged memory use is high. This may indicate a memory leak or the memory may not be released to the OS; see https://distributed.dask.org/en/latest/worker-memory.html#memory-not-released-back-to-the-os for more information. -- Unmanaged memory: 7.48 GiB -- Worker memory limit: 10.67 GiB\n",
      "2023-08-31 21:26:21,448 - distributed.worker.memory - WARNING - Unmanaged memory use is high. This may indicate a memory leak or the memory may not be released to the OS; see https://distributed.dask.org/en/latest/worker-memory.html#memory-not-released-back-to-the-os for more information. -- Unmanaged memory: 7.46 GiB -- Worker memory limit: 10.67 GiB\n"
     ]
    },
    {
     "name": "stdout",
     "output_type": "stream",
     "text": [
      "Blob already exists and overwrite is set to False.\n"
     ]
    },
    {
     "name": "stderr",
     "output_type": "stream",
     "text": [
      "2023-08-31 21:26:22,098 - distributed.worker.memory - WARNING - Unmanaged memory use is high. This may indicate a memory leak or the memory may not be released to the OS; see https://distributed.dask.org/en/latest/worker-memory.html#memory-not-released-back-to-the-os for more information. -- Unmanaged memory: 6.63 GiB -- Worker memory limit: 10.67 GiB\n",
      "2023-08-31 21:26:23,805 - distributed.worker.memory - WARNING - Unmanaged memory use is high. This may indicate a memory leak or the memory may not be released to the OS; see https://distributed.dask.org/en/latest/worker-memory.html#memory-not-released-back-to-the-os for more information. -- Unmanaged memory: 7.64 GiB -- Worker memory limit: 10.67 GiB\n",
      "2023-08-31 21:26:28,926 - distributed.worker.memory - WARNING - Unmanaged memory use is high. This may indicate a memory leak or the memory may not be released to the OS; see https://distributed.dask.org/en/latest/worker-memory.html#memory-not-released-back-to-the-os for more information. -- Unmanaged memory: 7.91 GiB -- Worker memory limit: 10.67 GiB\n",
      "2023-08-31 21:26:29,273 - distributed.worker.memory - WARNING - Worker is at 82% memory usage. Pausing worker.  Process memory: 8.79 GiB -- Worker memory limit: 10.67 GiB\n",
      "2023-08-31 21:26:29,347 - distributed.worker.memory - WARNING - Worker is at 64% memory usage. Resuming worker. Process memory: 6.84 GiB -- Worker memory limit: 10.67 GiB\n",
      "2023-08-31 21:26:29,683 - distributed.worker.memory - WARNING - Unmanaged memory use is high. This may indicate a memory leak or the memory may not be released to the OS; see https://distributed.dask.org/en/latest/worker-memory.html#memory-not-released-back-to-the-os for more information. -- Unmanaged memory: 6.90 GiB -- Worker memory limit: 10.67 GiB\n",
      "2023-08-31 21:26:29,916 - distributed.worker.memory - WARNING - Unmanaged memory use is high. This may indicate a memory leak or the memory may not be released to the OS; see https://distributed.dask.org/en/latest/worker-memory.html#memory-not-released-back-to-the-os for more information. -- Unmanaged memory: 8.23 GiB -- Worker memory limit: 10.67 GiB\n",
      "2023-08-31 21:26:30,955 - distributed.worker.memory - WARNING - Worker is at 80% memory usage. Pausing worker.  Process memory: 8.57 GiB -- Worker memory limit: 10.67 GiB\n",
      "2023-08-31 21:26:31,048 - distributed.worker.memory - WARNING - Worker is at 63% memory usage. Resuming worker. Process memory: 6.79 GiB -- Worker memory limit: 10.67 GiB\n",
      "2023-08-31 21:26:38,277 - distributed.nanny.memory - WARNING - Worker tcp://127.0.0.1:51442 (pid=48405) exceeded 95% memory budget. Restarting...\n",
      "2023-08-31 21:26:38,441 - distributed.nanny - WARNING - Restarting worker\n",
      "2023-08-31 21:26:40,952 - distributed.worker.memory - WARNING - Unmanaged memory use is high. This may indicate a memory leak or the memory may not be released to the OS; see https://distributed.dask.org/en/latest/worker-memory.html#memory-not-released-back-to-the-os for more information. -- Unmanaged memory: 6.87 GiB -- Worker memory limit: 10.67 GiB\n",
      "2023-08-31 21:26:41,065 - distributed.worker.memory - WARNING - Unmanaged memory use is high. This may indicate a memory leak or the memory may not be released to the OS; see https://distributed.dask.org/en/latest/worker-memory.html#memory-not-released-back-to-the-os for more information. -- Unmanaged memory: 8.53 GiB -- Worker memory limit: 10.67 GiB\n",
      "2023-08-31 21:26:41,147 - distributed.worker.memory - WARNING - Worker is at 83% memory usage. Pausing worker.  Process memory: 8.90 GiB -- Worker memory limit: 10.67 GiB\n",
      "2023-08-31 21:26:41,249 - distributed.worker.memory - WARNING - Worker is at 74% memory usage. Resuming worker. Process memory: 7.93 GiB -- Worker memory limit: 10.67 GiB\n",
      "2023-08-31 21:26:45,234 - distributed.worker.memory - WARNING - Unmanaged memory use is high. This may indicate a memory leak or the memory may not be released to the OS; see https://distributed.dask.org/en/latest/worker-memory.html#memory-not-released-back-to-the-os for more information. -- Unmanaged memory: 8.19 GiB -- Worker memory limit: 10.67 GiB\n",
      "2023-08-31 21:26:46,207 - distributed.worker.memory - WARNING - Worker is at 85% memory usage. Pausing worker.  Process memory: 9.12 GiB -- Worker memory limit: 10.67 GiB\n",
      "2023-08-31 21:26:46,334 - distributed.worker.memory - WARNING - Worker is at 66% memory usage. Resuming worker. Process memory: 7.12 GiB -- Worker memory limit: 10.67 GiB\n",
      "2023-08-31 21:26:46,828 - distributed.worker.memory - WARNING - Unmanaged memory use is high. This may indicate a memory leak or the memory may not be released to the OS; see https://distributed.dask.org/en/latest/worker-memory.html#memory-not-released-back-to-the-os for more information. -- Unmanaged memory: 7.48 GiB -- Worker memory limit: 10.67 GiB\n",
      "2023-08-31 21:26:51,017 - distributed.worker.memory - WARNING - Unmanaged memory use is high. This may indicate a memory leak or the memory may not be released to the OS; see https://distributed.dask.org/en/latest/worker-memory.html#memory-not-released-back-to-the-os for more information. -- Unmanaged memory: 7.65 GiB -- Worker memory limit: 10.67 GiB\n",
      "2023-08-31 21:26:51,147 - distributed.worker.memory - WARNING - Unmanaged memory use is high. This may indicate a memory leak or the memory may not be released to the OS; see https://distributed.dask.org/en/latest/worker-memory.html#memory-not-released-back-to-the-os for more information. -- Unmanaged memory: 7.55 GiB -- Worker memory limit: 10.67 GiB\n",
      "2023-08-31 21:26:51,749 - distributed.worker.memory - WARNING - Unmanaged memory use is high. This may indicate a memory leak or the memory may not be released to the OS; see https://distributed.dask.org/en/latest/worker-memory.html#memory-not-released-back-to-the-os for more information. -- Unmanaged memory: 7.48 GiB -- Worker memory limit: 10.67 GiB\n",
      "2023-08-31 21:26:52,541 - distributed.worker.memory - WARNING - Worker is at 80% memory usage. Pausing worker.  Process memory: 8.53 GiB -- Worker memory limit: 10.67 GiB\n",
      "2023-08-31 21:26:52,637 - distributed.worker.memory - WARNING - Worker is at 61% memory usage. Resuming worker. Process memory: 6.56 GiB -- Worker memory limit: 10.67 GiB\n",
      "2023-08-31 21:26:56,927 - distributed.worker.memory - WARNING - Unmanaged memory use is high. This may indicate a memory leak or the memory may not be released to the OS; see https://distributed.dask.org/en/latest/worker-memory.html#memory-not-released-back-to-the-os for more information. -- Unmanaged memory: 7.51 GiB -- Worker memory limit: 10.67 GiB\n"
     ]
    },
    {
     "name": "stdout",
     "output_type": "stream",
     "text": [
      "Blob already exists and overwrite is set to False.\n",
      "Blob already exists and overwrite is set to False.\n"
     ]
    },
    {
     "name": "stderr",
     "output_type": "stream",
     "text": [
      "2023-08-31 21:27:00,185 - distributed.worker.memory - WARNING - Worker is at 82% memory usage. Pausing worker.  Process memory: 8.80 GiB -- Worker memory limit: 10.67 GiB\n",
      "2023-08-31 21:27:00,418 - distributed.worker.memory - WARNING - Worker is at 71% memory usage. Resuming worker. Process memory: 7.60 GiB -- Worker memory limit: 10.67 GiB\n",
      "2023-08-31 21:27:00,440 - distributed.worker.memory - WARNING - Unmanaged memory use is high. This may indicate a memory leak or the memory may not be released to the OS; see https://distributed.dask.org/en/latest/worker-memory.html#memory-not-released-back-to-the-os for more information. -- Unmanaged memory: 6.50 GiB -- Worker memory limit: 10.67 GiB\n",
      "2023-08-31 21:27:01,763 - distributed.worker.memory - WARNING - Unmanaged memory use is high. This may indicate a memory leak or the memory may not be released to the OS; see https://distributed.dask.org/en/latest/worker-memory.html#memory-not-released-back-to-the-os for more information. -- Unmanaged memory: 7.54 GiB -- Worker memory limit: 10.67 GiB\n",
      "2023-08-31 21:27:03,366 - distributed.worker.memory - WARNING - Unmanaged memory use is high. This may indicate a memory leak or the memory may not be released to the OS; see https://distributed.dask.org/en/latest/worker-memory.html#memory-not-released-back-to-the-os for more information. -- Unmanaged memory: 7.63 GiB -- Worker memory limit: 10.67 GiB\n",
      "2023-08-31 21:27:04,737 - distributed.worker.memory - WARNING - Worker is at 80% memory usage. Pausing worker.  Process memory: 8.58 GiB -- Worker memory limit: 10.67 GiB\n",
      "2023-08-31 21:27:04,763 - distributed.worker.memory - WARNING - Worker is at 61% memory usage. Resuming worker. Process memory: 6.58 GiB -- Worker memory limit: 10.67 GiB\n"
     ]
    },
    {
     "name": "stdout",
     "output_type": "stream",
     "text": [
      "Blob already exists and overwrite is set to False.\n"
     ]
    },
    {
     "name": "stderr",
     "output_type": "stream",
     "text": [
      "2023-08-31 21:27:05,803 - distributed.worker.memory - WARNING - Unmanaged memory use is high. This may indicate a memory leak or the memory may not be released to the OS; see https://distributed.dask.org/en/latest/worker-memory.html#memory-not-released-back-to-the-os for more information. -- Unmanaged memory: 8.15 GiB -- Worker memory limit: 10.67 GiB\n",
      "2023-08-31 21:27:06,048 - distributed.worker.memory - WARNING - Worker is at 81% memory usage. Pausing worker.  Process memory: 8.65 GiB -- Worker memory limit: 10.67 GiB\n",
      "2023-08-31 21:27:06,241 - distributed.worker.memory - WARNING - Worker is at 72% memory usage. Resuming worker. Process memory: 7.77 GiB -- Worker memory limit: 10.67 GiB\n"
     ]
    },
    {
     "name": "stdout",
     "output_type": "stream",
     "text": [
      "Blob already exists and overwrite is set to False.\n"
     ]
    },
    {
     "name": "stderr",
     "output_type": "stream",
     "text": [
      "2023-08-31 21:27:10,554 - distributed.worker.memory - WARNING - Unmanaged memory use is high. This may indicate a memory leak or the memory may not be released to the OS; see https://distributed.dask.org/en/latest/worker-memory.html#memory-not-released-back-to-the-os for more information. -- Unmanaged memory: 7.68 GiB -- Worker memory limit: 10.67 GiB\n",
      "2023-08-31 21:27:10,748 - distributed.worker.memory - WARNING - Worker is at 80% memory usage. Pausing worker.  Process memory: 8.57 GiB -- Worker memory limit: 10.67 GiB\n",
      "2023-08-31 21:27:11,049 - distributed.worker.memory - WARNING - Worker is at 79% memory usage. Resuming worker. Process memory: 8.50 GiB -- Worker memory limit: 10.67 GiB\n",
      "2023-08-31 21:27:11,309 - distributed.worker.memory - WARNING - Worker is at 81% memory usage. Pausing worker.  Process memory: 8.67 GiB -- Worker memory limit: 10.67 GiB\n",
      "2023-08-31 21:27:11,386 - distributed.worker.memory - WARNING - Worker is at 68% memory usage. Resuming worker. Process memory: 7.27 GiB -- Worker memory limit: 10.67 GiB\n"
     ]
    },
    {
     "name": "stdout",
     "output_type": "stream",
     "text": [
      "Blob already exists and overwrite is set to False.\n"
     ]
    },
    {
     "name": "stderr",
     "output_type": "stream",
     "text": [
      "2023-08-31 21:27:13,124 - distributed.worker.memory - WARNING - Unmanaged memory use is high. This may indicate a memory leak or the memory may not be released to the OS; see https://distributed.dask.org/en/latest/worker-memory.html#memory-not-released-back-to-the-os for more information. -- Unmanaged memory: 7.63 GiB -- Worker memory limit: 10.67 GiB\n"
     ]
    },
    {
     "name": "stdout",
     "output_type": "stream",
     "text": [
      "Blob already exists and overwrite is set to False.\n"
     ]
    },
    {
     "name": "stderr",
     "output_type": "stream",
     "text": [
      "2023-08-31 21:27:14,047 - distributed.worker.memory - WARNING - Unmanaged memory use is high. This may indicate a memory leak or the memory may not be released to the OS; see https://distributed.dask.org/en/latest/worker-memory.html#memory-not-released-back-to-the-os for more information. -- Unmanaged memory: 8.16 GiB -- Worker memory limit: 10.67 GiB\n",
      "2023-08-31 21:27:14,932 - distributed.worker.memory - WARNING - Unmanaged memory use is high. This may indicate a memory leak or the memory may not be released to the OS; see https://distributed.dask.org/en/latest/worker-memory.html#memory-not-released-back-to-the-os for more information. -- Unmanaged memory: 6.49 GiB -- Worker memory limit: 10.67 GiB\n",
      "2023-08-31 21:27:15,792 - distributed.worker.memory - WARNING - Worker is at 86% memory usage. Pausing worker.  Process memory: 9.24 GiB -- Worker memory limit: 10.67 GiB\n",
      "2023-08-31 21:27:15,818 - distributed.worker.memory - WARNING - Unmanaged memory use is high. This may indicate a memory leak or the memory may not be released to the OS; see https://distributed.dask.org/en/latest/worker-memory.html#memory-not-released-back-to-the-os for more information. -- Unmanaged memory: 7.69 GiB -- Worker memory limit: 10.67 GiB\n",
      "2023-08-31 21:27:16,164 - distributed.worker.memory - WARNING - Worker is at 77% memory usage. Resuming worker. Process memory: 8.24 GiB -- Worker memory limit: 10.67 GiB\n"
     ]
    },
    {
     "name": "stdout",
     "output_type": "stream",
     "text": [
      "Blob already exists and overwrite is set to False.\n",
      "Blob already exists and overwrite is set to False.\n"
     ]
    },
    {
     "name": "stderr",
     "output_type": "stream",
     "text": [
      "2023-08-31 21:27:16,753 - distributed.worker.memory - WARNING - Worker is at 81% memory usage. Pausing worker.  Process memory: 8.74 GiB -- Worker memory limit: 10.67 GiB\n"
     ]
    },
    {
     "name": "stdout",
     "output_type": "stream",
     "text": [
      "Blob already exists and overwrite is set to False.\n",
      "Blob already exists and overwrite is set to False.\n",
      "Blob already exists and overwrite is set to False.\n"
     ]
    },
    {
     "name": "stderr",
     "output_type": "stream",
     "text": [
      "2023-08-31 21:27:20,148 - distributed.worker.memory - WARNING - Worker is at 79% memory usage. Resuming worker. Process memory: 8.47 GiB -- Worker memory limit: 10.67 GiB\n",
      "2023-08-31 21:27:20,842 - distributed.worker.memory - WARNING - Worker is at 88% memory usage. Pausing worker.  Process memory: 9.47 GiB -- Worker memory limit: 10.67 GiB\n",
      "2023-08-31 21:27:20,973 - distributed.worker.memory - WARNING - Worker is at 79% memory usage. Resuming worker. Process memory: 8.47 GiB -- Worker memory limit: 10.67 GiB\n",
      "2023-08-31 21:27:21,476 - distributed.nanny.memory - WARNING - Worker tcp://127.0.0.1:51533 (pid=48549) exceeded 95% memory budget. Restarting...\n",
      "2023-08-31 21:27:21,693 - distributed.worker - ERROR - Worker stream died during communication: tcp://127.0.0.1:51533\n",
      "Traceback (most recent call last):\n",
      "  File \"/Users/calkoen/mambaforge/envs/testenv/lib/python3.11/site-packages/distributed/comm/tcp.py\", line 225, in read\n",
      "    frames_nbytes = await stream.read_bytes(fmt_size)\n",
      "                    ^^^^^^^^^^^^^^^^^^^^^^^^^^^^^^^^^\n",
      "tornado.iostream.StreamClosedError: Stream is closed\n",
      "\n",
      "The above exception was the direct cause of the following exception:\n",
      "\n",
      "Traceback (most recent call last):\n",
      "  File \"/Users/calkoen/mambaforge/envs/testenv/lib/python3.11/site-packages/distributed/worker.py\", line 2053, in gather_dep\n",
      "    response = await get_data_from_worker(\n",
      "               ^^^^^^^^^^^^^^^^^^^^^^^^^^^\n",
      "  File \"/Users/calkoen/mambaforge/envs/testenv/lib/python3.11/site-packages/distributed/worker.py\", line 2902, in get_data_from_worker\n",
      "    response = await send_recv(\n",
      "               ^^^^^^^^^^^^^^^^\n",
      "  File \"/Users/calkoen/mambaforge/envs/testenv/lib/python3.11/site-packages/distributed/core.py\", line 1136, in send_recv\n",
      "    response = await comm.read(deserializers=deserializers)\n",
      "               ^^^^^^^^^^^^^^^^^^^^^^^^^^^^^^^^^^^^^^^^^^^^\n",
      "  File \"/Users/calkoen/mambaforge/envs/testenv/lib/python3.11/site-packages/distributed/comm/tcp.py\", line 241, in read\n",
      "    convert_stream_closed_error(self, e)\n",
      "  File \"/Users/calkoen/mambaforge/envs/testenv/lib/python3.11/site-packages/distributed/comm/tcp.py\", line 144, in convert_stream_closed_error\n",
      "    raise CommClosedError(f\"in {obj}: {exc}\") from exc\n",
      "distributed.comm.core.CommClosedError: in <TCP (closed) Ephemeral Worker->Worker for gather local=tcp://127.0.0.1:51615 remote=tcp://127.0.0.1:51533>: Stream is closed\n",
      "2023-08-31 21:27:21,712 - distributed.nanny - WARNING - Restarting worker\n"
     ]
    },
    {
     "name": "stdout",
     "output_type": "stream",
     "text": [
      "Blob already exists and overwrite is set to False.\n"
     ]
    },
    {
     "name": "stderr",
     "output_type": "stream",
     "text": [
      "2023-08-31 21:27:23,243 - distributed.worker.memory - WARNING - Unmanaged memory use is high. This may indicate a memory leak or the memory may not be released to the OS; see https://distributed.dask.org/en/latest/worker-memory.html#memory-not-released-back-to-the-os for more information. -- Unmanaged memory: 7.51 GiB -- Worker memory limit: 10.67 GiB\n",
      "2023-08-31 21:27:23,430 - distributed.worker.memory - WARNING - Unmanaged memory use is high. This may indicate a memory leak or the memory may not be released to the OS; see https://distributed.dask.org/en/latest/worker-memory.html#memory-not-released-back-to-the-os for more information. -- Unmanaged memory: 6.59 GiB -- Worker memory limit: 10.67 GiB\n"
     ]
    },
    {
     "name": "stdout",
     "output_type": "stream",
     "text": [
      "Blob already exists and overwrite is set to False.\n",
      "Blob already exists and overwrite is set to False.\n",
      "Blob already exists and overwrite is set to False.\n"
     ]
    },
    {
     "name": "stderr",
     "output_type": "stream",
     "text": [
      "2023-08-31 21:27:26,360 - distributed.worker.memory - WARNING - Unmanaged memory use is high. This may indicate a memory leak or the memory may not be released to the OS; see https://distributed.dask.org/en/latest/worker-memory.html#memory-not-released-back-to-the-os for more information. -- Unmanaged memory: 6.50 GiB -- Worker memory limit: 10.67 GiB\n",
      "2023-08-31 21:27:27,297 - distributed.worker.memory - WARNING - Unmanaged memory use is high. This may indicate a memory leak or the memory may not be released to the OS; see https://distributed.dask.org/en/latest/worker-memory.html#memory-not-released-back-to-the-os for more information. -- Unmanaged memory: 6.51 GiB -- Worker memory limit: 10.67 GiB\n"
     ]
    },
    {
     "name": "stdout",
     "output_type": "stream",
     "text": [
      "Blob already exists and overwrite is set to False.\n"
     ]
    },
    {
     "name": "stderr",
     "output_type": "stream",
     "text": [
      "2023-08-31 21:27:29,145 - distributed.worker.memory - WARNING - Worker is at 80% memory usage. Pausing worker.  Process memory: 8.54 GiB -- Worker memory limit: 10.67 GiB\n",
      "2023-08-31 21:27:29,147 - distributed.worker.memory - WARNING - Worker is at 61% memory usage. Resuming worker. Process memory: 6.56 GiB -- Worker memory limit: 10.67 GiB\n",
      "2023-08-31 21:27:30,171 - distributed.worker.memory - WARNING - Worker is at 82% memory usage. Pausing worker.  Process memory: 8.78 GiB -- Worker memory limit: 10.67 GiB\n",
      "2023-08-31 21:27:30,360 - distributed.worker.memory - WARNING - Worker is at 60% memory usage. Resuming worker. Process memory: 6.45 GiB -- Worker memory limit: 10.67 GiB\n",
      "2023-08-31 21:27:32,548 - distributed.worker.memory - WARNING - Unmanaged memory use is high. This may indicate a memory leak or the memory may not be released to the OS; see https://distributed.dask.org/en/latest/worker-memory.html#memory-not-released-back-to-the-os for more information. -- Unmanaged memory: 6.87 GiB -- Worker memory limit: 10.67 GiB\n",
      "2023-08-31 21:27:33,526 - distributed.worker.memory - WARNING - Unmanaged memory use is high. This may indicate a memory leak or the memory may not be released to the OS; see https://distributed.dask.org/en/latest/worker-memory.html#memory-not-released-back-to-the-os for more information. -- Unmanaged memory: 8.07 GiB -- Worker memory limit: 10.67 GiB\n"
     ]
    },
    {
     "name": "stdout",
     "output_type": "stream",
     "text": [
      "Blob already exists and overwrite is set to False.\n",
      "Blob already exists and overwrite is set to False.\n",
      "Blob already exists and overwrite is set to False.\n"
     ]
    },
    {
     "name": "stderr",
     "output_type": "stream",
     "text": [
      "2023-08-31 21:27:35,563 - distributed.worker.memory - WARNING - Unmanaged memory use is high. This may indicate a memory leak or the memory may not be released to the OS; see https://distributed.dask.org/en/latest/worker-memory.html#memory-not-released-back-to-the-os for more information. -- Unmanaged memory: 6.51 GiB -- Worker memory limit: 10.67 GiB\n"
     ]
    },
    {
     "name": "stdout",
     "output_type": "stream",
     "text": [
      "Blob already exists and overwrite is set to False.\n"
     ]
    },
    {
     "name": "stderr",
     "output_type": "stream",
     "text": [
      "2023-08-31 21:27:37,079 - distributed.worker.memory - WARNING - Worker is at 83% memory usage. Pausing worker.  Process memory: 8.92 GiB -- Worker memory limit: 10.67 GiB\n",
      "2023-08-31 21:27:37,269 - distributed.worker.memory - WARNING - Worker is at 51% memory usage. Resuming worker. Process memory: 5.54 GiB -- Worker memory limit: 10.67 GiB\n",
      "2023-08-31 21:27:39,384 - distributed.worker.memory - WARNING - Unmanaged memory use is high. This may indicate a memory leak or the memory may not be released to the OS; see https://distributed.dask.org/en/latest/worker-memory.html#memory-not-released-back-to-the-os for more information. -- Unmanaged memory: 7.47 GiB -- Worker memory limit: 10.67 GiB\n",
      "2023-08-31 21:27:40,988 - distributed.worker.memory - WARNING - Unmanaged memory use is high. This may indicate a memory leak or the memory may not be released to the OS; see https://distributed.dask.org/en/latest/worker-memory.html#memory-not-released-back-to-the-os for more information. -- Unmanaged memory: 6.53 GiB -- Worker memory limit: 10.67 GiB\n"
     ]
    },
    {
     "name": "stdout",
     "output_type": "stream",
     "text": [
      "Blob already exists and overwrite is set to False.\n"
     ]
    },
    {
     "name": "stderr",
     "output_type": "stream",
     "text": [
      "2023-08-31 21:27:42,636 - distributed.worker.memory - WARNING - Unmanaged memory use is high. This may indicate a memory leak or the memory may not be released to the OS; see https://distributed.dask.org/en/latest/worker-memory.html#memory-not-released-back-to-the-os for more information. -- Unmanaged memory: 7.56 GiB -- Worker memory limit: 10.67 GiB\n"
     ]
    },
    {
     "name": "stdout",
     "output_type": "stream",
     "text": [
      "Blob already exists and overwrite is set to False.\n",
      "Blob already exists and overwrite is set to False.\n"
     ]
    },
    {
     "name": "stderr",
     "output_type": "stream",
     "text": [
      "2023-08-31 21:27:48,871 - distributed.worker.memory - WARNING - Unmanaged memory use is high. This may indicate a memory leak or the memory may not be released to the OS; see https://distributed.dask.org/en/latest/worker-memory.html#memory-not-released-back-to-the-os for more information. -- Unmanaged memory: 7.41 GiB -- Worker memory limit: 10.67 GiB\n"
     ]
    },
    {
     "name": "stdout",
     "output_type": "stream",
     "text": [
      "Blob already exists and overwrite is set to False.\n"
     ]
    },
    {
     "name": "stderr",
     "output_type": "stream",
     "text": [
      "2023-08-31 21:27:50,137 - distributed.worker.memory - WARNING - Worker is at 80% memory usage. Pausing worker.  Process memory: 8.53 GiB -- Worker memory limit: 10.67 GiB\n",
      "2023-08-31 21:27:50,336 - distributed.worker.memory - WARNING - Worker is at 79% memory usage. Resuming worker. Process memory: 8.51 GiB -- Worker memory limit: 10.67 GiB\n"
     ]
    },
    {
     "name": "stdout",
     "output_type": "stream",
     "text": [
      "Blob already exists and overwrite is set to False.\n"
     ]
    },
    {
     "name": "stderr",
     "output_type": "stream",
     "text": [
      "2023-08-31 21:27:51,037 - distributed.worker.memory - WARNING - Worker is at 80% memory usage. Pausing worker.  Process memory: 8.55 GiB -- Worker memory limit: 10.67 GiB\n",
      "2023-08-31 21:27:51,336 - distributed.worker.memory - WARNING - Worker is at 79% memory usage. Resuming worker. Process memory: 8.49 GiB -- Worker memory limit: 10.67 GiB\n",
      "2023-08-31 21:27:52,758 - distributed.worker.memory - WARNING - Worker is at 80% memory usage. Pausing worker.  Process memory: 8.58 GiB -- Worker memory limit: 10.67 GiB\n",
      "2023-08-31 21:27:52,827 - distributed.worker.memory - WARNING - Worker is at 55% memory usage. Resuming worker. Process memory: 5.96 GiB -- Worker memory limit: 10.67 GiB\n"
     ]
    },
    {
     "name": "stdout",
     "output_type": "stream",
     "text": [
      "Blob already exists and overwrite is set to False.\n",
      "Blob already exists and overwrite is set to False.\n"
     ]
    },
    {
     "name": "stderr",
     "output_type": "stream",
     "text": [
      "2023-08-31 21:27:53,639 - distributed.worker.memory - WARNING - Unmanaged memory use is high. This may indicate a memory leak or the memory may not be released to the OS; see https://distributed.dask.org/en/latest/worker-memory.html#memory-not-released-back-to-the-os for more information. -- Unmanaged memory: 6.76 GiB -- Worker memory limit: 10.67 GiB\n",
      "2023-08-31 21:27:53,961 - distributed.worker.memory - WARNING - Unmanaged memory use is high. This may indicate a memory leak or the memory may not be released to the OS; see https://distributed.dask.org/en/latest/worker-memory.html#memory-not-released-back-to-the-os for more information. -- Unmanaged memory: 6.51 GiB -- Worker memory limit: 10.67 GiB\n",
      "2023-08-31 21:27:54,573 - distributed.worker.memory - WARNING - Worker is at 82% memory usage. Pausing worker.  Process memory: 8.77 GiB -- Worker memory limit: 10.67 GiB\n",
      "2023-08-31 21:27:54,819 - distributed.worker.memory - WARNING - Worker is at 64% memory usage. Resuming worker. Process memory: 6.85 GiB -- Worker memory limit: 10.67 GiB\n",
      "2023-08-31 21:27:54,970 - distributed.worker.memory - WARNING - Unmanaged memory use is high. This may indicate a memory leak or the memory may not be released to the OS; see https://distributed.dask.org/en/latest/worker-memory.html#memory-not-released-back-to-the-os for more information. -- Unmanaged memory: 6.87 GiB -- Worker memory limit: 10.67 GiB\n"
     ]
    },
    {
     "name": "stdout",
     "output_type": "stream",
     "text": [
      "Blob already exists and overwrite is set to False.\n"
     ]
    },
    {
     "name": "stderr",
     "output_type": "stream",
     "text": [
      "2023-08-31 21:27:55,911 - distributed.worker.memory - WARNING - Worker is at 83% memory usage. Pausing worker.  Process memory: 8.90 GiB -- Worker memory limit: 10.67 GiB\n",
      "2023-08-31 21:27:56,126 - distributed.worker.memory - WARNING - Worker is at 64% memory usage. Resuming worker. Process memory: 6.90 GiB -- Worker memory limit: 10.67 GiB\n"
     ]
    },
    {
     "name": "stdout",
     "output_type": "stream",
     "text": [
      "Blob already exists and overwrite is set to False.\n"
     ]
    },
    {
     "name": "stderr",
     "output_type": "stream",
     "text": [
      "2023-08-31 21:27:57,890 - distributed.worker.memory - WARNING - Worker is at 82% memory usage. Pausing worker.  Process memory: 8.85 GiB -- Worker memory limit: 10.67 GiB\n",
      "2023-08-31 21:27:58,080 - distributed.worker.memory - WARNING - Worker is at 69% memory usage. Resuming worker. Process memory: 7.38 GiB -- Worker memory limit: 10.67 GiB\n"
     ]
    },
    {
     "name": "stdout",
     "output_type": "stream",
     "text": [
      "Blob already exists and overwrite is set to False.\n"
     ]
    },
    {
     "name": "stderr",
     "output_type": "stream",
     "text": [
      "2023-08-31 21:27:58,927 - distributed.worker.memory - WARNING - Unmanaged memory use is high. This may indicate a memory leak or the memory may not be released to the OS; see https://distributed.dask.org/en/latest/worker-memory.html#memory-not-released-back-to-the-os for more information. -- Unmanaged memory: 7.55 GiB -- Worker memory limit: 10.67 GiB\n",
      "2023-08-31 21:27:59,033 - distributed.worker.memory - WARNING - Worker is at 81% memory usage. Pausing worker.  Process memory: 8.65 GiB -- Worker memory limit: 10.67 GiB\n"
     ]
    },
    {
     "name": "stdout",
     "output_type": "stream",
     "text": [
      "Blob already exists and overwrite is set to False.\n"
     ]
    },
    {
     "name": "stderr",
     "output_type": "stream",
     "text": [
      "2023-08-31 21:27:59,548 - distributed.worker.memory - WARNING - Worker is at 72% memory usage. Resuming worker. Process memory: 7.69 GiB -- Worker memory limit: 10.67 GiB\n",
      "2023-08-31 21:28:00,131 - distributed.worker.memory - WARNING - Worker is at 81% memory usage. Pausing worker.  Process memory: 8.69 GiB -- Worker memory limit: 10.67 GiB\n",
      "2023-08-31 21:28:00,278 - distributed.worker.memory - WARNING - Worker is at 68% memory usage. Resuming worker. Process memory: 7.32 GiB -- Worker memory limit: 10.67 GiB\n"
     ]
    },
    {
     "name": "stdout",
     "output_type": "stream",
     "text": [
      "Blob already exists and overwrite is set to False.\n"
     ]
    },
    {
     "name": "stderr",
     "output_type": "stream",
     "text": [
      "2023-08-31 21:28:00,680 - distributed.worker.memory - WARNING - Unmanaged memory use is high. This may indicate a memory leak or the memory may not be released to the OS; see https://distributed.dask.org/en/latest/worker-memory.html#memory-not-released-back-to-the-os for more information. -- Unmanaged memory: 6.51 GiB -- Worker memory limit: 10.67 GiB\n"
     ]
    },
    {
     "name": "stdout",
     "output_type": "stream",
     "text": [
      "Blob already exists and overwrite is set to False.\n"
     ]
    },
    {
     "name": "stderr",
     "output_type": "stream",
     "text": [
      "2023-08-31 21:28:01,648 - distributed.worker.memory - WARNING - Worker is at 80% memory usage. Pausing worker.  Process memory: 8.57 GiB -- Worker memory limit: 10.67 GiB\n",
      "2023-08-31 21:28:01,848 - distributed.worker.memory - WARNING - Worker is at 72% memory usage. Resuming worker. Process memory: 7.69 GiB -- Worker memory limit: 10.67 GiB\n"
     ]
    },
    {
     "name": "stdout",
     "output_type": "stream",
     "text": [
      "Blob already exists and overwrite is set to False.\n"
     ]
    },
    {
     "name": "stderr",
     "output_type": "stream",
     "text": [
      "2023-08-31 21:28:03,651 - distributed.worker.memory - WARNING - Unmanaged memory use is high. This may indicate a memory leak or the memory may not be released to the OS; see https://distributed.dask.org/en/latest/worker-memory.html#memory-not-released-back-to-the-os for more information. -- Unmanaged memory: 8.14 GiB -- Worker memory limit: 10.67 GiB\n"
     ]
    },
    {
     "name": "stdout",
     "output_type": "stream",
     "text": [
      "Blob already exists and overwrite is set to False.\n"
     ]
    },
    {
     "name": "stderr",
     "output_type": "stream",
     "text": [
      "2023-08-31 21:28:06,148 - distributed.worker.memory - WARNING - Unmanaged memory use is high. This may indicate a memory leak or the memory may not be released to the OS; see https://distributed.dask.org/en/latest/worker-memory.html#memory-not-released-back-to-the-os for more information. -- Unmanaged memory: 8.16 GiB -- Worker memory limit: 10.67 GiB\n"
     ]
    },
    {
     "name": "stdout",
     "output_type": "stream",
     "text": [
      "Blob already exists and overwrite is set to False.\n",
      "Blob already exists and overwrite is set to False.\n"
     ]
    },
    {
     "name": "stderr",
     "output_type": "stream",
     "text": [
      "2023-08-31 21:28:06,991 - distributed.worker.memory - WARNING - Worker is at 80% memory usage. Pausing worker.  Process memory: 8.54 GiB -- Worker memory limit: 10.67 GiB\n",
      "2023-08-31 21:28:07,183 - distributed.worker.memory - WARNING - Worker is at 70% memory usage. Resuming worker. Process memory: 7.54 GiB -- Worker memory limit: 10.67 GiB\n",
      "2023-08-31 21:28:09,126 - distributed.worker.memory - WARNING - Unmanaged memory use is high. This may indicate a memory leak or the memory may not be released to the OS; see https://distributed.dask.org/en/latest/worker-memory.html#memory-not-released-back-to-the-os for more information. -- Unmanaged memory: 7.47 GiB -- Worker memory limit: 10.67 GiB\n",
      "2023-08-31 21:28:10,141 - distributed.worker.memory - WARNING - Unmanaged memory use is high. This may indicate a memory leak or the memory may not be released to the OS; see https://distributed.dask.org/en/latest/worker-memory.html#memory-not-released-back-to-the-os for more information. -- Unmanaged memory: 6.58 GiB -- Worker memory limit: 10.67 GiB\n"
     ]
    },
    {
     "name": "stdout",
     "output_type": "stream",
     "text": [
      "Blob already exists and overwrite is set to False.\n"
     ]
    },
    {
     "name": "stderr",
     "output_type": "stream",
     "text": [
      "2023-08-31 21:28:10,622 - distributed.worker.memory - WARNING - Worker is at 81% memory usage. Pausing worker.  Process memory: 8.68 GiB -- Worker memory limit: 10.67 GiB\n",
      "2023-08-31 21:28:10,859 - distributed.worker.memory - WARNING - Worker is at 61% memory usage. Resuming worker. Process memory: 6.56 GiB -- Worker memory limit: 10.67 GiB\n"
     ]
    },
    {
     "name": "stdout",
     "output_type": "stream",
     "text": [
      "Blob already exists and overwrite is set to False.\n"
     ]
    },
    {
     "name": "stderr",
     "output_type": "stream",
     "text": [
      "2023-08-31 21:28:13,748 - distributed.worker.memory - WARNING - Unmanaged memory use is high. This may indicate a memory leak or the memory may not be released to the OS; see https://distributed.dask.org/en/latest/worker-memory.html#memory-not-released-back-to-the-os for more information. -- Unmanaged memory: 7.49 GiB -- Worker memory limit: 10.67 GiB\n"
     ]
    },
    {
     "name": "stdout",
     "output_type": "stream",
     "text": [
      "Blob already exists and overwrite is set to False.\n"
     ]
    },
    {
     "name": "stderr",
     "output_type": "stream",
     "text": [
      "2023-08-31 21:28:15,021 - distributed.worker.memory - WARNING - Unmanaged memory use is high. This may indicate a memory leak or the memory may not be released to the OS; see https://distributed.dask.org/en/latest/worker-memory.html#memory-not-released-back-to-the-os for more information. -- Unmanaged memory: 6.48 GiB -- Worker memory limit: 10.67 GiB\n"
     ]
    },
    {
     "name": "stdout",
     "output_type": "stream",
     "text": [
      "Blob already exists and overwrite is set to False.\n"
     ]
    },
    {
     "name": "stderr",
     "output_type": "stream",
     "text": [
      "2023-08-31 21:28:19,312 - distributed.worker.memory - WARNING - Worker is at 80% memory usage. Pausing worker.  Process memory: 8.55 GiB -- Worker memory limit: 10.67 GiB\n",
      "2023-08-31 21:28:19,588 - distributed.worker.memory - WARNING - Worker is at 62% memory usage. Resuming worker. Process memory: 6.65 GiB -- Worker memory limit: 10.67 GiB\n",
      "2023-08-31 21:28:20,579 - distributed.worker.memory - WARNING - Worker is at 80% memory usage. Pausing worker.  Process memory: 8.54 GiB -- Worker memory limit: 10.67 GiB\n",
      "2023-08-31 21:28:20,655 - distributed.worker.memory - WARNING - Worker is at 72% memory usage. Resuming worker. Process memory: 7.71 GiB -- Worker memory limit: 10.67 GiB\n"
     ]
    },
    {
     "name": "stdout",
     "output_type": "stream",
     "text": [
      "Blob already exists and overwrite is set to False.\n",
      "Blob already exists and overwrite is set to False.\n"
     ]
    },
    {
     "name": "stderr",
     "output_type": "stream",
     "text": [
      "2023-08-31 21:28:21,619 - distributed.worker.memory - WARNING - Unmanaged memory use is high. This may indicate a memory leak or the memory may not be released to the OS; see https://distributed.dask.org/en/latest/worker-memory.html#memory-not-released-back-to-the-os for more information. -- Unmanaged memory: 6.88 GiB -- Worker memory limit: 10.67 GiB\n",
      "2023-08-31 21:28:22,144 - distributed.worker.memory - WARNING - Worker is at 81% memory usage. Pausing worker.  Process memory: 8.73 GiB -- Worker memory limit: 10.67 GiB\n",
      "2023-08-31 21:28:22,448 - distributed.worker.memory - WARNING - Worker is at 77% memory usage. Resuming worker. Process memory: 8.22 GiB -- Worker memory limit: 10.67 GiB\n",
      "2023-08-31 21:28:22,592 - distributed.worker.memory - WARNING - Unmanaged memory use is high. This may indicate a memory leak or the memory may not be released to the OS; see https://distributed.dask.org/en/latest/worker-memory.html#memory-not-released-back-to-the-os for more information. -- Unmanaged memory: 7.28 GiB -- Worker memory limit: 10.67 GiB\n"
     ]
    },
    {
     "name": "stdout",
     "output_type": "stream",
     "text": [
      "Blob already exists and overwrite is set to False.\n"
     ]
    },
    {
     "name": "stderr",
     "output_type": "stream",
     "text": [
      "2023-08-31 21:28:22,961 - distributed.worker.memory - WARNING - Worker is at 83% memory usage. Pausing worker.  Process memory: 8.96 GiB -- Worker memory limit: 10.67 GiB\n",
      "2023-08-31 21:28:23,169 - distributed.worker.memory - WARNING - Worker is at 65% memory usage. Resuming worker. Process memory: 6.96 GiB -- Worker memory limit: 10.67 GiB\n",
      "2023-08-31 21:28:23,447 - distributed.worker.memory - WARNING - Worker is at 80% memory usage. Pausing worker.  Process memory: 8.56 GiB -- Worker memory limit: 10.67 GiB\n",
      "2023-08-31 21:28:23,748 - distributed.worker.memory - WARNING - Worker is at 77% memory usage. Resuming worker. Process memory: 8.24 GiB -- Worker memory limit: 10.67 GiB\n",
      "2023-08-31 21:28:23,748 - distributed.worker.memory - WARNING - Unmanaged memory use is high. This may indicate a memory leak or the memory may not be released to the OS; see https://distributed.dask.org/en/latest/worker-memory.html#memory-not-released-back-to-the-os for more information. -- Unmanaged memory: 8.24 GiB -- Worker memory limit: 10.67 GiB\n"
     ]
    },
    {
     "name": "stdout",
     "output_type": "stream",
     "text": [
      "Blob already exists and overwrite is set to False.\n"
     ]
    },
    {
     "name": "stderr",
     "output_type": "stream",
     "text": [
      "2023-08-31 21:28:24,054 - distributed.worker.memory - WARNING - Worker is at 80% memory usage. Pausing worker.  Process memory: 8.61 GiB -- Worker memory limit: 10.67 GiB\n"
     ]
    },
    {
     "name": "stdout",
     "output_type": "stream",
     "text": [
      "Blob already exists and overwrite is set to False.\n",
      "Blob already exists and overwrite is set to False.\n",
      "Blob already exists and overwrite is set to False.\n"
     ]
    },
    {
     "name": "stderr",
     "output_type": "stream",
     "text": [
      "2023-08-31 21:28:25,448 - distributed.worker.memory - WARNING - Worker is at 62% memory usage. Resuming worker. Process memory: 6.64 GiB -- Worker memory limit: 10.67 GiB\n"
     ]
    },
    {
     "name": "stdout",
     "output_type": "stream",
     "text": [
      "Blob already exists and overwrite is set to False.\n"
     ]
    },
    {
     "name": "stderr",
     "output_type": "stream",
     "text": [
      "2023-08-31 21:28:26,348 - distributed.worker.memory - WARNING - Worker is at 81% memory usage. Pausing worker.  Process memory: 8.64 GiB -- Worker memory limit: 10.67 GiB\n",
      "2023-08-31 21:28:26,394 - distributed.worker.memory - WARNING - Unmanaged memory use is high. This may indicate a memory leak or the memory may not be released to the OS; see https://distributed.dask.org/en/latest/worker-memory.html#memory-not-released-back-to-the-os for more information. -- Unmanaged memory: 7.48 GiB -- Worker memory limit: 10.67 GiB\n",
      "2023-08-31 21:28:26,460 - distributed.worker.memory - WARNING - Worker is at 71% memory usage. Resuming worker. Process memory: 7.64 GiB -- Worker memory limit: 10.67 GiB\n",
      "2023-08-31 21:28:26,523 - distributed.worker.memory - WARNING - Worker is at 81% memory usage. Pausing worker.  Process memory: 8.64 GiB -- Worker memory limit: 10.67 GiB\n",
      "2023-08-31 21:28:26,524 - distributed.worker.memory - WARNING - Unmanaged memory use is high. This may indicate a memory leak or the memory may not be released to the OS; see https://distributed.dask.org/en/latest/worker-memory.html#memory-not-released-back-to-the-os for more information. -- Unmanaged memory: 8.64 GiB -- Worker memory limit: 10.67 GiB\n",
      "2023-08-31 21:28:26,546 - distributed.worker.memory - WARNING - Worker is at 74% memory usage. Resuming worker. Process memory: 7.97 GiB -- Worker memory limit: 10.67 GiB\n"
     ]
    },
    {
     "name": "stdout",
     "output_type": "stream",
     "text": [
      "Blob already exists and overwrite is set to False.\n",
      "Blob already exists and overwrite is set to False.\n"
     ]
    },
    {
     "name": "stderr",
     "output_type": "stream",
     "text": [
      "2023-08-31 21:28:29,848 - distributed.worker.memory - WARNING - Worker is at 80% memory usage. Pausing worker.  Process memory: 8.54 GiB -- Worker memory limit: 10.67 GiB\n",
      "2023-08-31 21:28:30,047 - distributed.worker.memory - WARNING - Worker is at 79% memory usage. Resuming worker. Process memory: 8.50 GiB -- Worker memory limit: 10.67 GiB\n"
     ]
    },
    {
     "name": "stdout",
     "output_type": "stream",
     "text": [
      "Blob already exists and overwrite is set to False.\n"
     ]
    },
    {
     "name": "stderr",
     "output_type": "stream",
     "text": [
      "2023-08-31 21:28:31,626 - distributed.worker.memory - WARNING - Unmanaged memory use is high. This may indicate a memory leak or the memory may not be released to the OS; see https://distributed.dask.org/en/latest/worker-memory.html#memory-not-released-back-to-the-os for more information. -- Unmanaged memory: 8.28 GiB -- Worker memory limit: 10.67 GiB\n"
     ]
    },
    {
     "name": "stdout",
     "output_type": "stream",
     "text": [
      "Blob already exists and overwrite is set to False.\n",
      "Blob already exists and overwrite is set to False.\n"
     ]
    },
    {
     "name": "stderr",
     "output_type": "stream",
     "text": [
      "2023-08-31 21:28:33,525 - distributed.worker.memory - WARNING - Unmanaged memory use is high. This may indicate a memory leak or the memory may not be released to the OS; see https://distributed.dask.org/en/latest/worker-memory.html#memory-not-released-back-to-the-os for more information. -- Unmanaged memory: 6.60 GiB -- Worker memory limit: 10.67 GiB\n",
      "2023-08-31 21:28:33,749 - distributed.worker.memory - WARNING - Unmanaged memory use is high. This may indicate a memory leak or the memory may not be released to the OS; see https://distributed.dask.org/en/latest/worker-memory.html#memory-not-released-back-to-the-os for more information. -- Unmanaged memory: 7.67 GiB -- Worker memory limit: 10.67 GiB\n",
      "2023-08-31 21:28:33,790 - distributed.worker.memory - WARNING - Worker is at 80% memory usage. Pausing worker.  Process memory: 8.57 GiB -- Worker memory limit: 10.67 GiB\n",
      "2023-08-31 21:28:33,964 - distributed.worker.memory - WARNING - Worker is at 70% memory usage. Resuming worker. Process memory: 7.57 GiB -- Worker memory limit: 10.67 GiB\n",
      "2023-08-31 21:28:35,398 - distributed.worker.memory - WARNING - Unmanaged memory use is high. This may indicate a memory leak or the memory may not be released to the OS; see https://distributed.dask.org/en/latest/worker-memory.html#memory-not-released-back-to-the-os for more information. -- Unmanaged memory: 6.74 GiB -- Worker memory limit: 10.67 GiB\n"
     ]
    },
    {
     "name": "stdout",
     "output_type": "stream",
     "text": [
      "Blob already exists and overwrite is set to False.\n"
     ]
    },
    {
     "name": "stderr",
     "output_type": "stream",
     "text": [
      "2023-08-31 21:28:41,627 - distributed.worker.memory - WARNING - Unmanaged memory use is high. This may indicate a memory leak or the memory may not be released to the OS; see https://distributed.dask.org/en/latest/worker-memory.html#memory-not-released-back-to-the-os for more information. -- Unmanaged memory: 7.72 GiB -- Worker memory limit: 10.67 GiB\n",
      "2023-08-31 21:28:42,682 - distributed.worker.memory - WARNING - Worker is at 82% memory usage. Pausing worker.  Process memory: 8.76 GiB -- Worker memory limit: 10.67 GiB\n",
      "2023-08-31 21:28:42,974 - distributed.worker.memory - WARNING - Worker is at 57% memory usage. Resuming worker. Process memory: 6.18 GiB -- Worker memory limit: 10.67 GiB\n"
     ]
    },
    {
     "name": "stdout",
     "output_type": "stream",
     "text": [
      "Blob already exists and overwrite is set to False.\n",
      "Blob already exists and overwrite is set to False.\n"
     ]
    },
    {
     "name": "stderr",
     "output_type": "stream",
     "text": [
      "2023-08-31 21:28:44,443 - distributed.worker.memory - WARNING - Unmanaged memory use is high. This may indicate a memory leak or the memory may not be released to the OS; see https://distributed.dask.org/en/latest/worker-memory.html#memory-not-released-back-to-the-os for more information. -- Unmanaged memory: 7.63 GiB -- Worker memory limit: 10.67 GiB\n",
      "2023-08-31 21:28:44,631 - distributed.worker.memory - WARNING - Unmanaged memory use is high. This may indicate a memory leak or the memory may not be released to the OS; see https://distributed.dask.org/en/latest/worker-memory.html#memory-not-released-back-to-the-os for more information. -- Unmanaged memory: 6.88 GiB -- Worker memory limit: 10.67 GiB\n",
      "2023-08-31 21:28:45,423 - distributed.worker.memory - WARNING - Unmanaged memory use is high. This may indicate a memory leak or the memory may not be released to the OS; see https://distributed.dask.org/en/latest/worker-memory.html#memory-not-released-back-to-the-os for more information. -- Unmanaged memory: 7.79 GiB -- Worker memory limit: 10.67 GiB\n",
      "2023-08-31 21:28:47,285 - distributed.nanny.memory - WARNING - Worker tcp://127.0.0.1:51648 (pid=48814) exceeded 95% memory budget. Restarting...\n",
      "2023-08-31 21:28:47,486 - distributed.nanny - WARNING - Restarting worker\n",
      "2023-08-31 21:28:47,482 - distributed.worker - ERROR - Worker stream died during communication: tcp://127.0.0.1:51648\n",
      "Traceback (most recent call last):\n",
      "  File \"/Users/calkoen/mambaforge/envs/testenv/lib/python3.11/site-packages/distributed/comm/tcp.py\", line 225, in read\n",
      "    frames_nbytes = await stream.read_bytes(fmt_size)\n",
      "                    ^^^^^^^^^^^^^^^^^^^^^^^^^^^^^^^^^\n",
      "tornado.iostream.StreamClosedError: Stream is closed\n",
      "\n",
      "The above exception was the direct cause of the following exception:\n",
      "\n",
      "Traceback (most recent call last):\n",
      "  File \"/Users/calkoen/mambaforge/envs/testenv/lib/python3.11/site-packages/distributed/worker.py\", line 2053, in gather_dep\n",
      "    response = await get_data_from_worker(\n",
      "               ^^^^^^^^^^^^^^^^^^^^^^^^^^^\n",
      "  File \"/Users/calkoen/mambaforge/envs/testenv/lib/python3.11/site-packages/distributed/worker.py\", line 2902, in get_data_from_worker\n",
      "    response = await send_recv(\n",
      "               ^^^^^^^^^^^^^^^^\n",
      "  File \"/Users/calkoen/mambaforge/envs/testenv/lib/python3.11/site-packages/distributed/core.py\", line 1136, in send_recv\n",
      "    response = await comm.read(deserializers=deserializers)\n",
      "               ^^^^^^^^^^^^^^^^^^^^^^^^^^^^^^^^^^^^^^^^^^^^\n",
      "  File \"/Users/calkoen/mambaforge/envs/testenv/lib/python3.11/site-packages/distributed/comm/tcp.py\", line 241, in read\n",
      "    convert_stream_closed_error(self, e)\n",
      "  File \"/Users/calkoen/mambaforge/envs/testenv/lib/python3.11/site-packages/distributed/comm/tcp.py\", line 144, in convert_stream_closed_error\n",
      "    raise CommClosedError(f\"in {obj}: {exc}\") from exc\n",
      "distributed.comm.core.CommClosedError: in <TCP (closed) Ephemeral Worker->Worker for gather local=tcp://127.0.0.1:51681 remote=tcp://127.0.0.1:51648>: Stream is closed\n",
      "2023-08-31 21:28:49,353 - distributed.worker - ERROR - Worker stream died during communication: tcp://127.0.0.1:51648\n",
      "Traceback (most recent call last):\n",
      "  File \"/Users/calkoen/mambaforge/envs/testenv/lib/python3.11/site-packages/distributed/comm/tcp.py\", line 235, in read\n",
      "    n = await stream.read_into(chunk)\n",
      "        ^^^^^^^^^^^^^^^^^^^^^^^^^^^^^\n",
      "tornado.iostream.StreamClosedError: Stream is closed\n",
      "\n",
      "The above exception was the direct cause of the following exception:\n",
      "\n",
      "Traceback (most recent call last):\n",
      "  File \"/Users/calkoen/mambaforge/envs/testenv/lib/python3.11/site-packages/distributed/worker.py\", line 2053, in gather_dep\n",
      "    response = await get_data_from_worker(\n",
      "               ^^^^^^^^^^^^^^^^^^^^^^^^^^^\n",
      "  File \"/Users/calkoen/mambaforge/envs/testenv/lib/python3.11/site-packages/distributed/worker.py\", line 2902, in get_data_from_worker\n",
      "    response = await send_recv(\n",
      "               ^^^^^^^^^^^^^^^^\n",
      "  File \"/Users/calkoen/mambaforge/envs/testenv/lib/python3.11/site-packages/distributed/core.py\", line 1136, in send_recv\n",
      "    response = await comm.read(deserializers=deserializers)\n",
      "               ^^^^^^^^^^^^^^^^^^^^^^^^^^^^^^^^^^^^^^^^^^^^\n",
      "  File \"/Users/calkoen/mambaforge/envs/testenv/lib/python3.11/site-packages/distributed/comm/tcp.py\", line 241, in read\n",
      "    convert_stream_closed_error(self, e)\n",
      "  File \"/Users/calkoen/mambaforge/envs/testenv/lib/python3.11/site-packages/distributed/comm/tcp.py\", line 144, in convert_stream_closed_error\n",
      "    raise CommClosedError(f\"in {obj}: {exc}\") from exc\n",
      "distributed.comm.core.CommClosedError: in <TCP (closed) Ephemeral Worker->Worker for gather local=tcp://127.0.0.1:51679 remote=tcp://127.0.0.1:51648>: Stream is closed\n",
      "2023-08-31 21:28:50,363 - distributed.worker.memory - WARNING - Unmanaged memory use is high. This may indicate a memory leak or the memory may not be released to the OS; see https://distributed.dask.org/en/latest/worker-memory.html#memory-not-released-back-to-the-os for more information. -- Unmanaged memory: 6.91 GiB -- Worker memory limit: 10.67 GiB\n",
      "2023-08-31 21:28:50,827 - distributed.worker.memory - WARNING - Worker is at 84% memory usage. Pausing worker.  Process memory: 9.05 GiB -- Worker memory limit: 10.67 GiB\n",
      "2023-08-31 21:28:50,930 - distributed.worker.memory - WARNING - Worker is at 79% memory usage. Resuming worker. Process memory: 8.43 GiB -- Worker memory limit: 10.67 GiB\n",
      "2023-08-31 21:28:51,035 - distributed.worker.memory - WARNING - Worker is at 82% memory usage. Pausing worker.  Process memory: 8.76 GiB -- Worker memory limit: 10.67 GiB\n",
      "2023-08-31 21:28:51,082 - distributed.worker.memory - WARNING - Worker is at 80% memory usage. Pausing worker.  Process memory: 8.60 GiB -- Worker memory limit: 10.67 GiB\n",
      "2023-08-31 21:28:51,137 - distributed.worker.memory - WARNING - Worker is at 64% memory usage. Resuming worker. Process memory: 6.92 GiB -- Worker memory limit: 10.67 GiB\n",
      "2023-08-31 21:28:51,286 - distributed.worker.memory - WARNING - Worker is at 61% memory usage. Resuming worker. Process memory: 6.60 GiB -- Worker memory limit: 10.67 GiB\n",
      "2023-08-31 21:28:52,717 - distributed.worker.memory - WARNING - Unmanaged memory use is high. This may indicate a memory leak or the memory may not be released to the OS; see https://distributed.dask.org/en/latest/worker-memory.html#memory-not-released-back-to-the-os for more information. -- Unmanaged memory: 7.11 GiB -- Worker memory limit: 10.67 GiB\n",
      "2023-08-31 21:28:54,482 - distributed.worker.memory - WARNING - Unmanaged memory use is high. This may indicate a memory leak or the memory may not be released to the OS; see https://distributed.dask.org/en/latest/worker-memory.html#memory-not-released-back-to-the-os for more information. -- Unmanaged memory: 7.62 GiB -- Worker memory limit: 10.67 GiB\n",
      "2023-08-31 21:28:56,335 - distributed.worker.memory - WARNING - Unmanaged memory use is high. This may indicate a memory leak or the memory may not be released to the OS; see https://distributed.dask.org/en/latest/worker-memory.html#memory-not-released-back-to-the-os for more information. -- Unmanaged memory: 7.60 GiB -- Worker memory limit: 10.67 GiB\n",
      "2023-08-31 21:28:59,114 - distributed.worker.memory - WARNING - Worker is at 80% memory usage. Pausing worker.  Process memory: 8.56 GiB -- Worker memory limit: 10.67 GiB\n",
      "2023-08-31 21:28:59,145 - distributed.worker.memory - WARNING - Worker is at 72% memory usage. Resuming worker. Process memory: 7.77 GiB -- Worker memory limit: 10.67 GiB\n",
      "2023-08-31 21:29:02,718 - distributed.worker.memory - WARNING - Unmanaged memory use is high. This may indicate a memory leak or the memory may not be released to the OS; see https://distributed.dask.org/en/latest/worker-memory.html#memory-not-released-back-to-the-os for more information. -- Unmanaged memory: 7.78 GiB -- Worker memory limit: 10.67 GiB\n",
      "2023-08-31 21:29:04,604 - distributed.worker.memory - WARNING - Unmanaged memory use is high. This may indicate a memory leak or the memory may not be released to the OS; see https://distributed.dask.org/en/latest/worker-memory.html#memory-not-released-back-to-the-os for more information. -- Unmanaged memory: 7.70 GiB -- Worker memory limit: 10.67 GiB\n",
      "2023-08-31 21:29:04,936 - distributed.worker.memory - WARNING - Worker is at 81% memory usage. Pausing worker.  Process memory: 8.70 GiB -- Worker memory limit: 10.67 GiB\n",
      "2023-08-31 21:29:05,093 - distributed.worker.memory - WARNING - Worker is at 72% memory usage. Resuming worker. Process memory: 7.70 GiB -- Worker memory limit: 10.67 GiB\n",
      "2023-08-31 21:29:06,354 - distributed.worker.memory - WARNING - Unmanaged memory use is high. This may indicate a memory leak or the memory may not be released to the OS; see https://distributed.dask.org/en/latest/worker-memory.html#memory-not-released-back-to-the-os for more information. -- Unmanaged memory: 7.97 GiB -- Worker memory limit: 10.67 GiB\n",
      "2023-08-31 21:29:07,137 - distributed.worker.memory - WARNING - Worker is at 82% memory usage. Pausing worker.  Process memory: 8.77 GiB -- Worker memory limit: 10.67 GiB\n",
      "2023-08-31 21:29:07,236 - distributed.worker.memory - WARNING - Worker is at 75% memory usage. Resuming worker. Process memory: 8.10 GiB -- Worker memory limit: 10.67 GiB\n"
     ]
    },
    {
     "name": "stdout",
     "output_type": "stream",
     "text": [
      "Blob already exists and overwrite is set to False.\n"
     ]
    },
    {
     "name": "stderr",
     "output_type": "stream",
     "text": [
      "2023-08-31 21:29:07,514 - distributed.worker.memory - WARNING - Worker is at 88% memory usage. Pausing worker.  Process memory: 9.46 GiB -- Worker memory limit: 10.67 GiB\n",
      "2023-08-31 21:29:07,762 - distributed.worker.memory - WARNING - Worker is at 66% memory usage. Resuming worker. Process memory: 7.09 GiB -- Worker memory limit: 10.67 GiB\n",
      "2023-08-31 21:29:08,637 - distributed.worker.memory - WARNING - Worker is at 82% memory usage. Pausing worker.  Process memory: 8.76 GiB -- Worker memory limit: 10.67 GiB\n",
      "2023-08-31 21:29:08,936 - distributed.worker.memory - WARNING - Worker is at 74% memory usage. Resuming worker. Process memory: 7.92 GiB -- Worker memory limit: 10.67 GiB\n"
     ]
    },
    {
     "name": "stdout",
     "output_type": "stream",
     "text": [
      "Blob already exists and overwrite is set to False.\n",
      "Blob already exists and overwrite is set to False.\n",
      "Blob already exists and overwrite is set to False.\n"
     ]
    },
    {
     "name": "stderr",
     "output_type": "stream",
     "text": [
      "2023-08-31 21:29:11,695 - distributed.worker.memory - WARNING - Worker is at 81% memory usage. Pausing worker.  Process memory: 8.72 GiB -- Worker memory limit: 10.67 GiB\n",
      "2023-08-31 21:29:11,887 - distributed.worker.memory - WARNING - Worker is at 66% memory usage. Resuming worker. Process memory: 7.10 GiB -- Worker memory limit: 10.67 GiB\n",
      "2023-08-31 21:29:14,850 - distributed.worker.memory - WARNING - Unmanaged memory use is high. This may indicate a memory leak or the memory may not be released to the OS; see https://distributed.dask.org/en/latest/worker-memory.html#memory-not-released-back-to-the-os for more information. -- Unmanaged memory: 8.11 GiB -- Worker memory limit: 10.67 GiB\n",
      "2023-08-31 21:29:15,312 - distributed.worker.memory - WARNING - Unmanaged memory use is high. This may indicate a memory leak or the memory may not be released to the OS; see https://distributed.dask.org/en/latest/worker-memory.html#memory-not-released-back-to-the-os for more information. -- Unmanaged memory: 6.93 GiB -- Worker memory limit: 10.67 GiB\n",
      "2023-08-31 21:29:15,601 - distributed.worker.memory - WARNING - Worker is at 91% memory usage. Pausing worker.  Process memory: 9.71 GiB -- Worker memory limit: 10.67 GiB\n"
     ]
    },
    {
     "name": "stdout",
     "output_type": "stream",
     "text": [
      "Blob already exists and overwrite is set to False.\n"
     ]
    },
    {
     "name": "stderr",
     "output_type": "stream",
     "text": [
      "2023-08-31 21:29:16,341 - distributed.worker.memory - WARNING - Worker is at 53% memory usage. Resuming worker. Process memory: 5.73 GiB -- Worker memory limit: 10.67 GiB\n",
      "2023-08-31 21:29:17,176 - distributed.worker.memory - WARNING - Worker is at 83% memory usage. Pausing worker.  Process memory: 8.93 GiB -- Worker memory limit: 10.67 GiB\n",
      "2023-08-31 21:29:17,323 - distributed.worker.memory - WARNING - Worker is at 70% memory usage. Resuming worker. Process memory: 7.52 GiB -- Worker memory limit: 10.67 GiB\n",
      "2023-08-31 21:29:17,984 - distributed.worker.memory - WARNING - Unmanaged memory use is high. This may indicate a memory leak or the memory may not be released to the OS; see https://distributed.dask.org/en/latest/worker-memory.html#memory-not-released-back-to-the-os for more information. -- Unmanaged memory: 7.47 GiB -- Worker memory limit: 10.67 GiB\n"
     ]
    },
    {
     "name": "stdout",
     "output_type": "stream",
     "text": [
      "Blob already exists and overwrite is set to False.\n"
     ]
    },
    {
     "name": "stderr",
     "output_type": "stream",
     "text": [
      "2023-08-31 21:29:23,500 - distributed.worker.memory - WARNING - Worker is at 82% memory usage. Pausing worker.  Process memory: 8.78 GiB -- Worker memory limit: 10.67 GiB\n",
      "2023-08-31 21:29:23,651 - distributed.worker.memory - WARNING - Worker is at 74% memory usage. Resuming worker. Process memory: 7.90 GiB -- Worker memory limit: 10.67 GiB\n",
      "2023-08-31 21:29:23,817 - distributed.worker.memory - WARNING - Worker is at 81% memory usage. Pausing worker.  Process memory: 8.64 GiB -- Worker memory limit: 10.67 GiB\n",
      "2023-08-31 21:29:23,929 - distributed.worker.memory - WARNING - Worker is at 72% memory usage. Resuming worker. Process memory: 7.78 GiB -- Worker memory limit: 10.67 GiB\n"
     ]
    },
    {
     "name": "stdout",
     "output_type": "stream",
     "text": [
      "Blob already exists and overwrite is set to False.\n"
     ]
    },
    {
     "name": "stderr",
     "output_type": "stream",
     "text": [
      "2023-08-31 21:29:25,318 - distributed.worker.memory - WARNING - Unmanaged memory use is high. This may indicate a memory leak or the memory may not be released to the OS; see https://distributed.dask.org/en/latest/worker-memory.html#memory-not-released-back-to-the-os for more information. -- Unmanaged memory: 8.18 GiB -- Worker memory limit: 10.67 GiB\n",
      "2023-08-31 21:29:26,406 - distributed.worker.memory - WARNING - Unmanaged memory use is high. This may indicate a memory leak or the memory may not be released to the OS; see https://distributed.dask.org/en/latest/worker-memory.html#memory-not-released-back-to-the-os for more information. -- Unmanaged memory: 7.58 GiB -- Worker memory limit: 10.67 GiB\n"
     ]
    },
    {
     "name": "stdout",
     "output_type": "stream",
     "text": [
      "Blob already exists and overwrite is set to False.\n"
     ]
    },
    {
     "name": "stderr",
     "output_type": "stream",
     "text": [
      "2023-08-31 21:29:28,118 - distributed.worker.memory - WARNING - Worker is at 80% memory usage. Pausing worker.  Process memory: 8.54 GiB -- Worker memory limit: 10.67 GiB\n",
      "2023-08-31 21:29:28,578 - distributed.worker.memory - WARNING - Worker is at 80% memory usage. Pausing worker.  Process memory: 8.57 GiB -- Worker memory limit: 10.67 GiB\n",
      "2023-08-31 21:29:28,803 - distributed.worker.memory - WARNING - Worker is at 64% memory usage. Resuming worker. Process memory: 6.87 GiB -- Worker memory limit: 10.67 GiB\n",
      "2023-08-31 21:29:28,904 - distributed.worker.memory - WARNING - Unmanaged memory use is high. This may indicate a memory leak or the memory may not be released to the OS; see https://distributed.dask.org/en/latest/worker-memory.html#memory-not-released-back-to-the-os for more information. -- Unmanaged memory: 6.87 GiB -- Worker memory limit: 10.67 GiB\n",
      "2023-08-31 21:29:29,218 - distributed.worker.memory - WARNING - Worker is at 78% memory usage. Resuming worker. Process memory: 8.41 GiB -- Worker memory limit: 10.67 GiB\n",
      "2023-08-31 21:29:30,618 - distributed.worker.memory - WARNING - Worker is at 80% memory usage. Pausing worker.  Process memory: 8.54 GiB -- Worker memory limit: 10.67 GiB\n",
      "2023-08-31 21:29:32,250 - distributed.worker.memory - WARNING - Worker is at 71% memory usage. Resuming worker. Process memory: 7.59 GiB -- Worker memory limit: 10.67 GiB\n",
      "2023-08-31 21:29:34,247 - distributed.worker.memory - WARNING - Worker is at 86% memory usage. Pausing worker.  Process memory: 9.26 GiB -- Worker memory limit: 10.67 GiB\n",
      "2023-08-31 21:29:34,430 - distributed.worker.memory - WARNING - Worker is at 68% memory usage. Resuming worker. Process memory: 7.30 GiB -- Worker memory limit: 10.67 GiB\n",
      "2023-08-31 21:29:35,214 - distributed.worker.memory - WARNING - Worker is at 83% memory usage. Pausing worker.  Process memory: 8.94 GiB -- Worker memory limit: 10.67 GiB\n",
      "2023-08-31 21:29:35,227 - distributed.worker.memory - WARNING - Worker is at 77% memory usage. Resuming worker. Process memory: 8.27 GiB -- Worker memory limit: 10.67 GiB\n",
      "2023-08-31 21:29:35,329 - distributed.worker.memory - WARNING - Worker is at 81% memory usage. Pausing worker.  Process memory: 8.70 GiB -- Worker memory limit: 10.67 GiB\n",
      "2023-08-31 21:29:35,427 - distributed.worker.memory - WARNING - Worker is at 72% memory usage. Resuming worker. Process memory: 7.70 GiB -- Worker memory limit: 10.67 GiB\n",
      "2023-08-31 21:29:38,126 - distributed.worker.memory - WARNING - Unmanaged memory use is high. This may indicate a memory leak or the memory may not be released to the OS; see https://distributed.dask.org/en/latest/worker-memory.html#memory-not-released-back-to-the-os for more information. -- Unmanaged memory: 7.71 GiB -- Worker memory limit: 10.67 GiB\n"
     ]
    },
    {
     "name": "stdout",
     "output_type": "stream",
     "text": [
      "Blob already exists and overwrite is set to False.\n"
     ]
    },
    {
     "name": "stderr",
     "output_type": "stream",
     "text": [
      "2023-08-31 21:29:39,006 - distributed.worker.memory - WARNING - Unmanaged memory use is high. This may indicate a memory leak or the memory may not be released to the OS; see https://distributed.dask.org/en/latest/worker-memory.html#memory-not-released-back-to-the-os for more information. -- Unmanaged memory: 6.42 GiB -- Worker memory limit: 10.67 GiB\n"
     ]
    },
    {
     "name": "stdout",
     "output_type": "stream",
     "text": [
      "Blob already exists and overwrite is set to False.\n"
     ]
    },
    {
     "name": "stderr",
     "output_type": "stream",
     "text": [
      "2023-08-31 21:29:40,690 - distributed.worker.memory - WARNING - Unmanaged memory use is high. This may indicate a memory leak or the memory may not be released to the OS; see https://distributed.dask.org/en/latest/worker-memory.html#memory-not-released-back-to-the-os for more information. -- Unmanaged memory: 7.64 GiB -- Worker memory limit: 10.67 GiB\n"
     ]
    },
    {
     "name": "stdout",
     "output_type": "stream",
     "text": [
      "Blob already exists and overwrite is set to False.\n"
     ]
    },
    {
     "name": "stderr",
     "output_type": "stream",
     "text": [
      "2023-08-31 21:29:41,404 - distributed.worker.memory - WARNING - Unmanaged memory use is high. This may indicate a memory leak or the memory may not be released to the OS; see https://distributed.dask.org/en/latest/worker-memory.html#memory-not-released-back-to-the-os for more information. -- Unmanaged memory: 7.65 GiB -- Worker memory limit: 10.67 GiB\n",
      "2023-08-31 21:29:41,727 - distributed.worker.memory - WARNING - Worker is at 80% memory usage. Pausing worker.  Process memory: 8.63 GiB -- Worker memory limit: 10.67 GiB\n",
      "2023-08-31 21:29:41,838 - distributed.worker.memory - WARNING - Worker is at 71% memory usage. Resuming worker. Process memory: 7.63 GiB -- Worker memory limit: 10.67 GiB\n",
      "2023-08-31 21:29:45,524 - distributed.worker.memory - WARNING - Unmanaged memory use is high. This may indicate a memory leak or the memory may not be released to the OS; see https://distributed.dask.org/en/latest/worker-memory.html#memory-not-released-back-to-the-os for more information. -- Unmanaged memory: 6.50 GiB -- Worker memory limit: 10.67 GiB\n",
      "2023-08-31 21:29:48,137 - distributed.worker.memory - WARNING - Worker is at 88% memory usage. Pausing worker.  Process memory: 9.39 GiB -- Worker memory limit: 10.67 GiB\n",
      "2023-08-31 21:29:48,343 - distributed.worker.memory - WARNING - Worker is at 69% memory usage. Resuming worker. Process memory: 7.39 GiB -- Worker memory limit: 10.67 GiB\n",
      "2023-08-31 21:29:49,362 - distributed.worker.memory - WARNING - Unmanaged memory use is high. This may indicate a memory leak or the memory may not be released to the OS; see https://distributed.dask.org/en/latest/worker-memory.html#memory-not-released-back-to-the-os for more information. -- Unmanaged memory: 7.34 GiB -- Worker memory limit: 10.67 GiB\n",
      "2023-08-31 21:29:49,561 - distributed.worker.memory - WARNING - Unmanaged memory use is high. This may indicate a memory leak or the memory may not be released to the OS; see https://distributed.dask.org/en/latest/worker-memory.html#memory-not-released-back-to-the-os for more information. -- Unmanaged memory: 7.53 GiB -- Worker memory limit: 10.67 GiB\n",
      "2023-08-31 21:29:49,827 - distributed.worker.memory - WARNING - Worker is at 80% memory usage. Pausing worker.  Process memory: 8.60 GiB -- Worker memory limit: 10.67 GiB\n",
      "2023-08-31 21:29:50,074 - distributed.worker.memory - WARNING - Worker is at 71% memory usage. Resuming worker. Process memory: 7.64 GiB -- Worker memory limit: 10.67 GiB\n",
      "2023-08-31 21:29:50,783 - distributed.worker.memory - WARNING - Unmanaged memory use is high. This may indicate a memory leak or the memory may not be released to the OS; see https://distributed.dask.org/en/latest/worker-memory.html#memory-not-released-back-to-the-os for more information. -- Unmanaged memory: 7.79 GiB -- Worker memory limit: 10.67 GiB\n",
      "2023-08-31 21:29:55,341 - distributed.worker.memory - WARNING - Unmanaged memory use is high. This may indicate a memory leak or the memory may not be released to the OS; see https://distributed.dask.org/en/latest/worker-memory.html#memory-not-released-back-to-the-os for more information. -- Unmanaged memory: 6.67 GiB -- Worker memory limit: 10.67 GiB\n",
      "2023-08-31 21:29:56,616 - distributed.worker.memory - WARNING - Worker is at 80% memory usage. Pausing worker.  Process memory: 8.58 GiB -- Worker memory limit: 10.67 GiB\n",
      "2023-08-31 21:29:56,840 - distributed.worker.memory - WARNING - Worker is at 61% memory usage. Resuming worker. Process memory: 6.58 GiB -- Worker memory limit: 10.67 GiB\n",
      "2023-08-31 21:29:59,694 - distributed.worker.memory - WARNING - Unmanaged memory use is high. This may indicate a memory leak or the memory may not be released to the OS; see https://distributed.dask.org/en/latest/worker-memory.html#memory-not-released-back-to-the-os for more information. -- Unmanaged memory: 7.67 GiB -- Worker memory limit: 10.67 GiB\n",
      "2023-08-31 21:30:00,783 - distributed.worker.memory - WARNING - Unmanaged memory use is high. This may indicate a memory leak or the memory may not be released to the OS; see https://distributed.dask.org/en/latest/worker-memory.html#memory-not-released-back-to-the-os for more information. -- Unmanaged memory: 7.47 GiB -- Worker memory limit: 10.67 GiB\n",
      "2023-08-31 21:30:01,559 - distributed.worker.memory - WARNING - Unmanaged memory use is high. This may indicate a memory leak or the memory may not be released to the OS; see https://distributed.dask.org/en/latest/worker-memory.html#memory-not-released-back-to-the-os for more information. -- Unmanaged memory: 6.88 GiB -- Worker memory limit: 10.67 GiB\n",
      "2023-08-31 21:30:03,375 - distributed.worker.memory - WARNING - Worker is at 84% memory usage. Pausing worker.  Process memory: 9.06 GiB -- Worker memory limit: 10.67 GiB\n",
      "2023-08-31 21:30:03,628 - distributed.worker.memory - WARNING - Worker is at 56% memory usage. Resuming worker. Process memory: 5.98 GiB -- Worker memory limit: 10.67 GiB\n",
      "2023-08-31 21:30:04,646 - distributed.worker.memory - WARNING - Unmanaged memory use is high. This may indicate a memory leak or the memory may not be released to the OS; see https://distributed.dask.org/en/latest/worker-memory.html#memory-not-released-back-to-the-os for more information. -- Unmanaged memory: 7.09 GiB -- Worker memory limit: 10.67 GiB\n",
      "2023-08-31 21:30:07,893 - distributed.worker.memory - WARNING - Unmanaged memory use is high. This may indicate a memory leak or the memory may not be released to the OS; see https://distributed.dask.org/en/latest/worker-memory.html#memory-not-released-back-to-the-os for more information. -- Unmanaged memory: 7.48 GiB -- Worker memory limit: 10.67 GiB\n",
      "2023-08-31 21:30:09,169 - distributed.worker.memory - WARNING - Worker is at 81% memory usage. Pausing worker.  Process memory: 8.67 GiB -- Worker memory limit: 10.67 GiB\n",
      "2023-08-31 21:30:09,706 - distributed.worker.memory - WARNING - Worker is at 76% memory usage. Resuming worker. Process memory: 8.17 GiB -- Worker memory limit: 10.67 GiB\n",
      "2023-08-31 21:30:11,621 - distributed.worker.memory - WARNING - Unmanaged memory use is high. This may indicate a memory leak or the memory may not be released to the OS; see https://distributed.dask.org/en/latest/worker-memory.html#memory-not-released-back-to-the-os for more information. -- Unmanaged memory: 7.56 GiB -- Worker memory limit: 10.67 GiB\n",
      "2023-08-31 21:30:14,005 - distributed.worker.memory - WARNING - Unmanaged memory use is high. This may indicate a memory leak or the memory may not be released to the OS; see https://distributed.dask.org/en/latest/worker-memory.html#memory-not-released-back-to-the-os for more information. -- Unmanaged memory: 6.85 GiB -- Worker memory limit: 10.67 GiB\n",
      "2023-08-31 21:30:14,050 - distributed.worker.memory - WARNING - Unmanaged memory use is high. This may indicate a memory leak or the memory may not be released to the OS; see https://distributed.dask.org/en/latest/worker-memory.html#memory-not-released-back-to-the-os for more information. -- Unmanaged memory: 6.85 GiB -- Worker memory limit: 10.67 GiB\n",
      "2023-08-31 21:30:14,647 - distributed.worker.memory - WARNING - Unmanaged memory use is high. This may indicate a memory leak or the memory may not be released to the OS; see https://distributed.dask.org/en/latest/worker-memory.html#memory-not-released-back-to-the-os for more information. -- Unmanaged memory: 7.77 GiB -- Worker memory limit: 10.67 GiB\n",
      "2023-08-31 21:30:21,695 - distributed.worker.memory - WARNING - Unmanaged memory use is high. This may indicate a memory leak or the memory may not be released to the OS; see https://distributed.dask.org/en/latest/worker-memory.html#memory-not-released-back-to-the-os for more information. -- Unmanaged memory: 6.46 GiB -- Worker memory limit: 10.67 GiB\n",
      "2023-08-31 21:30:21,718 - distributed.worker.memory - WARNING - Unmanaged memory use is high. This may indicate a memory leak or the memory may not be released to the OS; see https://distributed.dask.org/en/latest/worker-memory.html#memory-not-released-back-to-the-os for more information. -- Unmanaged memory: 8.30 GiB -- Worker memory limit: 10.67 GiB\n",
      "2023-08-31 21:30:23,183 - distributed.worker.memory - WARNING - Unmanaged memory use is high. This may indicate a memory leak or the memory may not be released to the OS; see https://distributed.dask.org/en/latest/worker-memory.html#memory-not-released-back-to-the-os for more information. -- Unmanaged memory: 7.51 GiB -- Worker memory limit: 10.67 GiB\n",
      "2023-08-31 21:30:23,642 - distributed.worker.memory - WARNING - Worker is at 80% memory usage. Pausing worker.  Process memory: 8.53 GiB -- Worker memory limit: 10.67 GiB\n",
      "2023-08-31 21:30:23,929 - distributed.worker.memory - WARNING - Worker is at 63% memory usage. Resuming worker. Process memory: 6.78 GiB -- Worker memory limit: 10.67 GiB\n",
      "2023-08-31 21:30:24,176 - distributed.worker.memory - WARNING - Unmanaged memory use is high. This may indicate a memory leak or the memory may not be released to the OS; see https://distributed.dask.org/en/latest/worker-memory.html#memory-not-released-back-to-the-os for more information. -- Unmanaged memory: 7.73 GiB -- Worker memory limit: 10.67 GiB\n",
      "2023-08-31 21:30:24,582 - distributed.worker.memory - WARNING - Worker is at 80% memory usage. Pausing worker.  Process memory: 8.54 GiB -- Worker memory limit: 10.67 GiB\n",
      "2023-08-31 21:30:25,482 - distributed.worker.memory - WARNING - Worker is at 78% memory usage. Resuming worker. Process memory: 8.35 GiB -- Worker memory limit: 10.67 GiB\n",
      "2023-08-31 21:30:31,718 - distributed.worker.memory - WARNING - Unmanaged memory use is high. This may indicate a memory leak or the memory may not be released to the OS; see https://distributed.dask.org/en/latest/worker-memory.html#memory-not-released-back-to-the-os for more information. -- Unmanaged memory: 7.49 GiB -- Worker memory limit: 10.67 GiB\n",
      "2023-08-31 21:30:31,792 - distributed.worker.memory - WARNING - Unmanaged memory use is high. This may indicate a memory leak or the memory may not be released to the OS; see https://distributed.dask.org/en/latest/worker-memory.html#memory-not-released-back-to-the-os for more information. -- Unmanaged memory: 8.44 GiB -- Worker memory limit: 10.67 GiB\n",
      "2023-08-31 21:30:32,757 - distributed.worker.memory - WARNING - Unmanaged memory use is high. This may indicate a memory leak or the memory may not be released to the OS; see https://distributed.dask.org/en/latest/worker-memory.html#memory-not-released-back-to-the-os for more information. -- Unmanaged memory: 7.02 GiB -- Worker memory limit: 10.67 GiB\n",
      "2023-08-31 21:30:33,283 - distributed.worker.memory - WARNING - Unmanaged memory use is high. This may indicate a memory leak or the memory may not be released to the OS; see https://distributed.dask.org/en/latest/worker-memory.html#memory-not-released-back-to-the-os for more information. -- Unmanaged memory: 8.27 GiB -- Worker memory limit: 10.67 GiB\n",
      "2023-08-31 21:30:35,382 - distributed.worker.memory - WARNING - Worker is at 80% memory usage. Pausing worker.  Process memory: 8.55 GiB -- Worker memory limit: 10.67 GiB\n",
      "2023-08-31 21:30:35,882 - distributed.worker.memory - WARNING - Worker is at 53% memory usage. Resuming worker. Process memory: 5.69 GiB -- Worker memory limit: 10.67 GiB\n",
      "2023-08-31 21:30:36,671 - distributed.worker.memory - WARNING - Unmanaged memory use is high. This may indicate a memory leak or the memory may not be released to the OS; see https://distributed.dask.org/en/latest/worker-memory.html#memory-not-released-back-to-the-os for more information. -- Unmanaged memory: 6.73 GiB -- Worker memory limit: 10.67 GiB\n",
      "2023-08-31 21:30:37,393 - distributed.worker.memory - WARNING - Worker is at 80% memory usage. Pausing worker.  Process memory: 8.56 GiB -- Worker memory limit: 10.67 GiB\n",
      "2023-08-31 21:30:37,492 - distributed.worker.memory - WARNING - Worker is at 61% memory usage. Resuming worker. Process memory: 6.59 GiB -- Worker memory limit: 10.67 GiB\n",
      "2023-08-31 21:30:38,341 - distributed.worker.memory - WARNING - Worker is at 86% memory usage. Pausing worker.  Process memory: 9.28 GiB -- Worker memory limit: 10.67 GiB\n",
      "2023-08-31 21:30:38,518 - distributed.worker.memory - WARNING - Worker is at 68% memory usage. Resuming worker. Process memory: 7.28 GiB -- Worker memory limit: 10.67 GiB\n",
      "2023-08-31 21:30:38,931 - distributed.worker.memory - WARNING - Worker is at 82% memory usage. Pausing worker.  Process memory: 8.80 GiB -- Worker memory limit: 10.67 GiB\n",
      "2023-08-31 21:30:39,117 - distributed.worker.memory - WARNING - Worker is at 63% memory usage. Resuming worker. Process memory: 6.80 GiB -- Worker memory limit: 10.67 GiB\n",
      "2023-08-31 21:30:39,249 - distributed.worker.memory - WARNING - Unmanaged memory use is high. This may indicate a memory leak or the memory may not be released to the OS; see https://distributed.dask.org/en/latest/worker-memory.html#memory-not-released-back-to-the-os for more information. -- Unmanaged memory: 7.47 GiB -- Worker memory limit: 10.67 GiB\n",
      "2023-08-31 21:30:42,228 - distributed.worker.memory - WARNING - Worker is at 80% memory usage. Pausing worker.  Process memory: 8.53 GiB -- Worker memory limit: 10.67 GiB\n",
      "2023-08-31 21:30:42,236 - distributed.worker.memory - WARNING - Worker is at 71% memory usage. Resuming worker. Process memory: 7.59 GiB -- Worker memory limit: 10.67 GiB\n",
      "2023-08-31 21:30:45,173 - distributed.worker.memory - WARNING - Worker is at 81% memory usage. Pausing worker.  Process memory: 8.74 GiB -- Worker memory limit: 10.67 GiB\n",
      "2023-08-31 21:30:45,396 - distributed.worker.memory - WARNING - Worker is at 72% memory usage. Resuming worker. Process memory: 7.74 GiB -- Worker memory limit: 10.67 GiB\n",
      "2023-08-31 21:30:46,092 - distributed.worker.memory - WARNING - Worker is at 81% memory usage. Pausing worker.  Process memory: 8.68 GiB -- Worker memory limit: 10.67 GiB\n",
      "2023-08-31 21:30:46,218 - distributed.worker.memory - WARNING - Worker is at 69% memory usage. Resuming worker. Process memory: 7.40 GiB -- Worker memory limit: 10.67 GiB\n",
      "2023-08-31 21:30:46,735 - distributed.worker.memory - WARNING - Unmanaged memory use is high. This may indicate a memory leak or the memory may not be released to the OS; see https://distributed.dask.org/en/latest/worker-memory.html#memory-not-released-back-to-the-os for more information. -- Unmanaged memory: 8.13 GiB -- Worker memory limit: 10.67 GiB\n",
      "2023-08-31 21:30:48,246 - distributed.worker.memory - WARNING - Unmanaged memory use is high. This may indicate a memory leak or the memory may not be released to the OS; see https://distributed.dask.org/en/latest/worker-memory.html#memory-not-released-back-to-the-os for more information. -- Unmanaged memory: 7.68 GiB -- Worker memory limit: 10.67 GiB\n",
      "2023-08-31 21:30:49,224 - distributed.worker.memory - WARNING - Worker is at 83% memory usage. Pausing worker.  Process memory: 8.90 GiB -- Worker memory limit: 10.67 GiB\n",
      "2023-08-31 21:30:49,349 - distributed.worker.memory - WARNING - Unmanaged memory use is high. This may indicate a memory leak or the memory may not be released to the OS; see https://distributed.dask.org/en/latest/worker-memory.html#memory-not-released-back-to-the-os for more information. -- Unmanaged memory: 7.90 GiB -- Worker memory limit: 10.67 GiB\n",
      "2023-08-31 21:30:49,476 - distributed.worker.memory - WARNING - Worker is at 72% memory usage. Resuming worker. Process memory: 7.68 GiB -- Worker memory limit: 10.67 GiB\n",
      "2023-08-31 21:30:50,354 - distributed.worker.memory - WARNING - Worker is at 83% memory usage. Pausing worker.  Process memory: 8.90 GiB -- Worker memory limit: 10.67 GiB\n",
      "2023-08-31 21:30:50,475 - distributed.worker.memory - WARNING - Worker is at 74% memory usage. Resuming worker. Process memory: 7.90 GiB -- Worker memory limit: 10.67 GiB\n",
      "2023-08-31 21:30:51,789 - distributed.worker.memory - WARNING - Worker is at 80% memory usage. Pausing worker.  Process memory: 8.59 GiB -- Worker memory limit: 10.67 GiB\n",
      "2023-08-31 21:30:52,018 - distributed.worker.memory - WARNING - Worker is at 70% memory usage. Resuming worker. Process memory: 7.57 GiB -- Worker memory limit: 10.67 GiB\n",
      "2023-08-31 21:30:52,934 - distributed.worker.memory - WARNING - Worker is at 88% memory usage. Pausing worker.  Process memory: 9.42 GiB -- Worker memory limit: 10.67 GiB\n",
      "2023-08-31 21:30:53,137 - distributed.worker.memory - WARNING - Worker is at 56% memory usage. Resuming worker. Process memory: 6.01 GiB -- Worker memory limit: 10.67 GiB\n",
      "2023-08-31 21:30:54,593 - distributed.worker.memory - WARNING - Unmanaged memory use is high. This may indicate a memory leak or the memory may not be released to the OS; see https://distributed.dask.org/en/latest/worker-memory.html#memory-not-released-back-to-the-os for more information. -- Unmanaged memory: 7.53 GiB -- Worker memory limit: 10.67 GiB\n",
      "2023-08-31 21:30:55,841 - distributed.worker.memory - WARNING - Unmanaged memory use is high. This may indicate a memory leak or the memory may not be released to the OS; see https://distributed.dask.org/en/latest/worker-memory.html#memory-not-released-back-to-the-os for more information. -- Unmanaged memory: 6.55 GiB -- Worker memory limit: 10.67 GiB\n",
      "2023-08-31 21:30:57,754 - distributed.worker.memory - WARNING - Unmanaged memory use is high. This may indicate a memory leak or the memory may not be released to the OS; see https://distributed.dask.org/en/latest/worker-memory.html#memory-not-released-back-to-the-os for more information. -- Unmanaged memory: 8.42 GiB -- Worker memory limit: 10.67 GiB\n",
      "2023-08-31 21:30:59,452 - distributed.worker.memory - WARNING - Unmanaged memory use is high. This may indicate a memory leak or the memory may not be released to the OS; see https://distributed.dask.org/en/latest/worker-memory.html#memory-not-released-back-to-the-os for more information. -- Unmanaged memory: 7.84 GiB -- Worker memory limit: 10.67 GiB\n",
      "2023-08-31 21:30:59,741 - distributed.worker.memory - WARNING - Worker is at 82% memory usage. Pausing worker.  Process memory: 8.78 GiB -- Worker memory limit: 10.67 GiB\n",
      "2023-08-31 21:30:59,750 - distributed.worker.memory - WARNING - Worker is at 78% memory usage. Resuming worker. Process memory: 8.38 GiB -- Worker memory limit: 10.67 GiB\n",
      "2023-08-31 21:31:00,656 - distributed.worker.memory - WARNING - Unmanaged memory use is high. This may indicate a memory leak or the memory may not be released to the OS; see https://distributed.dask.org/en/latest/worker-memory.html#memory-not-released-back-to-the-os for more information. -- Unmanaged memory: 7.29 GiB -- Worker memory limit: 10.67 GiB\n",
      "2023-08-31 21:31:01,426 - distributed.worker.memory - WARNING - Worker is at 82% memory usage. Pausing worker.  Process memory: 8.78 GiB -- Worker memory limit: 10.67 GiB\n",
      "2023-08-31 21:31:01,919 - distributed.worker.memory - WARNING - Worker is at 68% memory usage. Resuming worker. Process memory: 7.34 GiB -- Worker memory limit: 10.67 GiB\n",
      "2023-08-31 21:31:08,983 - distributed.worker.memory - WARNING - Worker is at 82% memory usage. Pausing worker.  Process memory: 8.80 GiB -- Worker memory limit: 10.67 GiB\n",
      "2023-08-31 21:31:09,082 - distributed.worker.memory - WARNING - Worker is at 79% memory usage. Resuming worker. Process memory: 8.43 GiB -- Worker memory limit: 10.67 GiB\n",
      "2023-08-31 21:31:09,715 - distributed.worker.memory - WARNING - Unmanaged memory use is high. This may indicate a memory leak or the memory may not be released to the OS; see https://distributed.dask.org/en/latest/worker-memory.html#memory-not-released-back-to-the-os for more information. -- Unmanaged memory: 6.56 GiB -- Worker memory limit: 10.67 GiB\n",
      "2023-08-31 21:31:11,098 - distributed.worker.memory - WARNING - Unmanaged memory use is high. This may indicate a memory leak or the memory may not be released to the OS; see https://distributed.dask.org/en/latest/worker-memory.html#memory-not-released-back-to-the-os for more information. -- Unmanaged memory: 7.96 GiB -- Worker memory limit: 10.67 GiB\n",
      "2023-08-31 21:31:11,228 - distributed.worker.memory - WARNING - Unmanaged memory use is high. This may indicate a memory leak or the memory may not be released to the OS; see https://distributed.dask.org/en/latest/worker-memory.html#memory-not-released-back-to-the-os for more information. -- Unmanaged memory: 7.62 GiB -- Worker memory limit: 10.67 GiB\n",
      "2023-08-31 21:31:11,948 - distributed.worker.memory - WARNING - Worker is at 81% memory usage. Pausing worker.  Process memory: 8.69 GiB -- Worker memory limit: 10.67 GiB\n",
      "2023-08-31 21:31:12,027 - distributed.worker.memory - WARNING - Worker is at 55% memory usage. Resuming worker. Process memory: 5.95 GiB -- Worker memory limit: 10.67 GiB\n",
      "2023-08-31 21:31:13,039 - distributed.worker.memory - WARNING - Worker is at 80% memory usage. Pausing worker.  Process memory: 8.54 GiB -- Worker memory limit: 10.67 GiB\n",
      "2023-08-31 21:31:13,048 - distributed.worker.memory - WARNING - Worker is at 61% memory usage. Resuming worker. Process memory: 6.55 GiB -- Worker memory limit: 10.67 GiB\n",
      "2023-08-31 21:31:13,410 - distributed.worker.memory - WARNING - Unmanaged memory use is high. This may indicate a memory leak or the memory may not be released to the OS; see https://distributed.dask.org/en/latest/worker-memory.html#memory-not-released-back-to-the-os for more information. -- Unmanaged memory: 7.60 GiB -- Worker memory limit: 10.67 GiB\n",
      "2023-08-31 21:31:15,706 - distributed.worker.memory - WARNING - Worker is at 83% memory usage. Pausing worker.  Process memory: 8.90 GiB -- Worker memory limit: 10.67 GiB\n",
      "2023-08-31 21:31:15,886 - distributed.worker.memory - WARNING - Worker is at 67% memory usage. Resuming worker. Process memory: 7.15 GiB -- Worker memory limit: 10.67 GiB\n",
      "2023-08-31 21:31:16,935 - distributed.worker.memory - WARNING - Unmanaged memory use is high. This may indicate a memory leak or the memory may not be released to the OS; see https://distributed.dask.org/en/latest/worker-memory.html#memory-not-released-back-to-the-os for more information. -- Unmanaged memory: 8.17 GiB -- Worker memory limit: 10.67 GiB\n",
      "2023-08-31 21:31:17,791 - distributed.worker.memory - WARNING - Unmanaged memory use is high. This may indicate a memory leak or the memory may not be released to the OS; see https://distributed.dask.org/en/latest/worker-memory.html#memory-not-released-back-to-the-os for more information. -- Unmanaged memory: 6.72 GiB -- Worker memory limit: 10.67 GiB\n"
     ]
    },
    {
     "name": "stdout",
     "output_type": "stream",
     "text": [
      "Blob already exists and overwrite is set to False.\n"
     ]
    },
    {
     "name": "stderr",
     "output_type": "stream",
     "text": [
      "2023-08-31 21:31:23,482 - distributed.worker.memory - WARNING - Unmanaged memory use is high. This may indicate a memory leak or the memory may not be released to the OS; see https://distributed.dask.org/en/latest/worker-memory.html#memory-not-released-back-to-the-os for more information. -- Unmanaged memory: 7.80 GiB -- Worker memory limit: 10.67 GiB\n",
      "2023-08-31 21:31:25,760 - distributed.worker.memory - WARNING - Unmanaged memory use is high. This may indicate a memory leak or the memory may not be released to the OS; see https://distributed.dask.org/en/latest/worker-memory.html#memory-not-released-back-to-the-os for more information. -- Unmanaged memory: 7.07 GiB -- Worker memory limit: 10.67 GiB\n"
     ]
    },
    {
     "name": "stdout",
     "output_type": "stream",
     "text": [
      "Blob already exists and overwrite is set to False.\n"
     ]
    },
    {
     "name": "stderr",
     "output_type": "stream",
     "text": [
      "2023-08-31 21:31:26,263 - distributed.worker.memory - WARNING - Unmanaged memory use is high. This may indicate a memory leak or the memory may not be released to the OS; see https://distributed.dask.org/en/latest/worker-memory.html#memory-not-released-back-to-the-os for more information. -- Unmanaged memory: 6.61 GiB -- Worker memory limit: 10.67 GiB\n",
      "2023-08-31 21:31:26,936 - distributed.worker.memory - WARNING - Unmanaged memory use is high. This may indicate a memory leak or the memory may not be released to the OS; see https://distributed.dask.org/en/latest/worker-memory.html#memory-not-released-back-to-the-os for more information. -- Unmanaged memory: 8.06 GiB -- Worker memory limit: 10.67 GiB\n"
     ]
    },
    {
     "name": "stdout",
     "output_type": "stream",
     "text": [
      "Blob already exists and overwrite is set to False.\n"
     ]
    },
    {
     "name": "stderr",
     "output_type": "stream",
     "text": [
      "2023-08-31 21:31:29,460 - distributed.worker.memory - WARNING - Unmanaged memory use is high. This may indicate a memory leak or the memory may not be released to the OS; see https://distributed.dask.org/en/latest/worker-memory.html#memory-not-released-back-to-the-os for more information. -- Unmanaged memory: 7.62 GiB -- Worker memory limit: 10.67 GiB\n",
      "2023-08-31 21:31:35,897 - distributed.worker.memory - WARNING - Unmanaged memory use is high. This may indicate a memory leak or the memory may not be released to the OS; see https://distributed.dask.org/en/latest/worker-memory.html#memory-not-released-back-to-the-os for more information. -- Unmanaged memory: 7.44 GiB -- Worker memory limit: 10.67 GiB\n",
      "2023-08-31 21:31:36,582 - distributed.worker.memory - WARNING - Unmanaged memory use is high. This may indicate a memory leak or the memory may not be released to the OS; see https://distributed.dask.org/en/latest/worker-memory.html#memory-not-released-back-to-the-os for more information. -- Unmanaged memory: 6.92 GiB -- Worker memory limit: 10.67 GiB\n",
      "2023-08-31 21:31:36,736 - distributed.worker.memory - WARNING - Worker is at 80% memory usage. Pausing worker.  Process memory: 8.62 GiB -- Worker memory limit: 10.67 GiB\n",
      "2023-08-31 21:31:36,895 - distributed.worker.memory - WARNING - Worker is at 61% memory usage. Resuming worker. Process memory: 6.51 GiB -- Worker memory limit: 10.67 GiB\n",
      "2023-08-31 21:31:37,111 - distributed.worker.memory - WARNING - Unmanaged memory use is high. This may indicate a memory leak or the memory may not be released to the OS; see https://distributed.dask.org/en/latest/worker-memory.html#memory-not-released-back-to-the-os for more information. -- Unmanaged memory: 6.51 GiB -- Worker memory limit: 10.67 GiB\n",
      "2023-08-31 21:31:39,548 - distributed.worker.memory - WARNING - Unmanaged memory use is high. This may indicate a memory leak or the memory may not be released to the OS; see https://distributed.dask.org/en/latest/worker-memory.html#memory-not-released-back-to-the-os for more information. -- Unmanaged memory: 7.60 GiB -- Worker memory limit: 10.67 GiB\n",
      "2023-08-31 21:31:42,382 - distributed.worker.memory - WARNING - Worker is at 82% memory usage. Pausing worker.  Process memory: 8.76 GiB -- Worker memory limit: 10.67 GiB\n",
      "2023-08-31 21:31:42,482 - distributed.worker.memory - WARNING - Worker is at 72% memory usage. Resuming worker. Process memory: 7.76 GiB -- Worker memory limit: 10.67 GiB\n",
      "2023-08-31 21:31:44,636 - distributed.worker.memory - WARNING - Worker is at 82% memory usage. Pausing worker.  Process memory: 8.83 GiB -- Worker memory limit: 10.67 GiB\n",
      "2023-08-31 21:31:44,737 - distributed.worker.memory - WARNING - Worker is at 77% memory usage. Resuming worker. Process memory: 8.25 GiB -- Worker memory limit: 10.67 GiB\n",
      "2023-08-31 21:31:45,645 - distributed.worker.memory - WARNING - Unmanaged memory use is high. This may indicate a memory leak or the memory may not be released to the OS; see https://distributed.dask.org/en/latest/worker-memory.html#memory-not-released-back-to-the-os for more information. -- Unmanaged memory: 7.85 GiB -- Worker memory limit: 10.67 GiB\n",
      "2023-08-31 21:31:47,072 - distributed.worker.memory - WARNING - Unmanaged memory use is high. This may indicate a memory leak or the memory may not be released to the OS; see https://distributed.dask.org/en/latest/worker-memory.html#memory-not-released-back-to-the-os for more information. -- Unmanaged memory: 7.76 GiB -- Worker memory limit: 10.67 GiB\n",
      "2023-08-31 21:31:47,300 - distributed.worker.memory - WARNING - Unmanaged memory use is high. This may indicate a memory leak or the memory may not be released to the OS; see https://distributed.dask.org/en/latest/worker-memory.html#memory-not-released-back-to-the-os for more information. -- Unmanaged memory: 8.24 GiB -- Worker memory limit: 10.67 GiB\n",
      "2023-08-31 21:31:48,445 - distributed.worker.memory - WARNING - Worker is at 80% memory usage. Pausing worker.  Process memory: 8.63 GiB -- Worker memory limit: 10.67 GiB\n",
      "2023-08-31 21:31:50,182 - distributed.worker.memory - WARNING - Worker is at 80% memory usage. Pausing worker.  Process memory: 8.54 GiB -- Worker memory limit: 10.67 GiB\n",
      "2023-08-31 21:31:51,756 - distributed.worker.memory - WARNING - Worker is at 80% memory usage. Pausing worker.  Process memory: 8.64 GiB -- Worker memory limit: 10.67 GiB\n",
      "2023-08-31 21:31:51,950 - distributed.worker.memory - WARNING - Worker is at 71% memory usage. Resuming worker. Process memory: 7.64 GiB -- Worker memory limit: 10.67 GiB\n",
      "2023-08-31 21:31:52,582 - distributed.worker.memory - WARNING - Worker is at 79% memory usage. Resuming worker. Process memory: 8.50 GiB -- Worker memory limit: 10.67 GiB\n",
      "2023-08-31 21:31:52,737 - distributed.worker.memory - WARNING - Worker is at 79% memory usage. Resuming worker. Process memory: 8.50 GiB -- Worker memory limit: 10.67 GiB\n",
      "2023-08-31 21:31:52,882 - distributed.worker.memory - WARNING - Worker is at 80% memory usage. Pausing worker.  Process memory: 8.54 GiB -- Worker memory limit: 10.67 GiB\n",
      "2023-08-31 21:31:52,937 - distributed.worker.memory - WARNING - Worker is at 80% memory usage. Pausing worker.  Process memory: 8.62 GiB -- Worker memory limit: 10.67 GiB\n",
      "2023-08-31 21:31:52,976 - distributed.worker.memory - WARNING - Unmanaged memory use is high. This may indicate a memory leak or the memory may not be released to the OS; see https://distributed.dask.org/en/latest/worker-memory.html#memory-not-released-back-to-the-os for more information. -- Unmanaged memory: 6.54 GiB -- Worker memory limit: 10.67 GiB\n",
      "2023-08-31 21:31:54,636 - distributed.worker.memory - WARNING - Worker is at 76% memory usage. Resuming worker. Process memory: 8.21 GiB -- Worker memory limit: 10.67 GiB\n",
      "2023-08-31 21:31:55,300 - distributed.worker.memory - WARNING - Unmanaged memory use is high. This may indicate a memory leak or the memory may not be released to the OS; see https://distributed.dask.org/en/latest/worker-memory.html#memory-not-released-back-to-the-os for more information. -- Unmanaged memory: 7.64 GiB -- Worker memory limit: 10.67 GiB\n"
     ]
    },
    {
     "name": "stdout",
     "output_type": "stream",
     "text": [
      "Blob already exists and overwrite is set to False.\n"
     ]
    },
    {
     "name": "stderr",
     "output_type": "stream",
     "text": [
      "2023-08-31 21:31:55,727 - distributed.worker.memory - WARNING - Unmanaged memory use is high. This may indicate a memory leak or the memory may not be released to the OS; see https://distributed.dask.org/en/latest/worker-memory.html#memory-not-released-back-to-the-os for more information. -- Unmanaged memory: 8.11 GiB -- Worker memory limit: 10.67 GiB\n",
      "2023-08-31 21:31:56,182 - distributed.worker.memory - WARNING - Worker is at 78% memory usage. Resuming worker. Process memory: 8.35 GiB -- Worker memory limit: 10.67 GiB\n",
      "2023-08-31 21:31:57,337 - distributed.worker.memory - WARNING - Unmanaged memory use is high. This may indicate a memory leak or the memory may not be released to the OS; see https://distributed.dask.org/en/latest/worker-memory.html#memory-not-released-back-to-the-os for more information. -- Unmanaged memory: 8.08 GiB -- Worker memory limit: 10.67 GiB\n",
      "2023-08-31 21:31:57,382 - distributed.worker.memory - WARNING - Unmanaged memory use is high. This may indicate a memory leak or the memory may not be released to the OS; see https://distributed.dask.org/en/latest/worker-memory.html#memory-not-released-back-to-the-os for more information. -- Unmanaged memory: 7.48 GiB -- Worker memory limit: 10.67 GiB\n",
      "2023-08-31 21:31:59,563 - distributed.worker.memory - WARNING - Worker is at 81% memory usage. Pausing worker.  Process memory: 8.74 GiB -- Worker memory limit: 10.67 GiB\n",
      "2023-08-31 21:31:59,647 - distributed.worker.memory - WARNING - Worker is at 63% memory usage. Resuming worker. Process memory: 6.75 GiB -- Worker memory limit: 10.67 GiB\n",
      "2023-08-31 21:32:01,856 - distributed.worker.memory - WARNING - Worker is at 80% memory usage. Pausing worker.  Process memory: 8.57 GiB -- Worker memory limit: 10.67 GiB\n",
      "2023-08-31 21:32:02,081 - distributed.worker.memory - WARNING - Worker is at 70% memory usage. Resuming worker. Process memory: 7.57 GiB -- Worker memory limit: 10.67 GiB\n",
      "2023-08-31 21:32:02,719 - distributed.worker.memory - WARNING - Unmanaged memory use is high. This may indicate a memory leak or the memory may not be released to the OS; see https://distributed.dask.org/en/latest/worker-memory.html#memory-not-released-back-to-the-os for more information. -- Unmanaged memory: 7.51 GiB -- Worker memory limit: 10.67 GiB\n",
      "2023-08-31 21:32:02,968 - distributed.worker.memory - WARNING - Worker is at 80% memory usage. Pausing worker.  Process memory: 8.55 GiB -- Worker memory limit: 10.67 GiB\n",
      "2023-08-31 21:32:03,088 - distributed.worker.memory - WARNING - Worker is at 70% memory usage. Resuming worker. Process memory: 7.55 GiB -- Worker memory limit: 10.67 GiB\n",
      "2023-08-31 21:32:04,485 - distributed.worker.memory - WARNING - Worker is at 82% memory usage. Pausing worker.  Process memory: 8.79 GiB -- Worker memory limit: 10.67 GiB\n",
      "2023-08-31 21:32:04,582 - distributed.worker.memory - WARNING - Worker is at 66% memory usage. Resuming worker. Process memory: 7.14 GiB -- Worker memory limit: 10.67 GiB\n",
      "2023-08-31 21:32:05,568 - distributed.worker.memory - WARNING - Worker is at 81% memory usage. Pausing worker.  Process memory: 8.64 GiB -- Worker memory limit: 10.67 GiB\n",
      "2023-08-31 21:32:05,711 - distributed.worker.memory - WARNING - Worker is at 71% memory usage. Resuming worker. Process memory: 7.64 GiB -- Worker memory limit: 10.67 GiB\n",
      "2023-08-31 21:32:06,659 - distributed.worker.memory - WARNING - Unmanaged memory use is high. This may indicate a memory leak or the memory may not be released to the OS; see https://distributed.dask.org/en/latest/worker-memory.html#memory-not-released-back-to-the-os for more information. -- Unmanaged memory: 7.83 GiB -- Worker memory limit: 10.67 GiB\n",
      "2023-08-31 21:32:06,848 - distributed.worker.memory - WARNING - Worker is at 81% memory usage. Pausing worker.  Process memory: 8.67 GiB -- Worker memory limit: 10.67 GiB\n",
      "2023-08-31 21:32:07,048 - distributed.worker.memory - WARNING - Worker is at 72% memory usage. Resuming worker. Process memory: 7.77 GiB -- Worker memory limit: 10.67 GiB\n",
      "2023-08-31 21:32:09,249 - distributed.worker.memory - WARNING - Worker is at 80% memory usage. Pausing worker.  Process memory: 8.54 GiB -- Worker memory limit: 10.67 GiB\n",
      "2023-08-31 21:32:09,318 - distributed.worker.memory - WARNING - Worker is at 62% memory usage. Resuming worker. Process memory: 6.65 GiB -- Worker memory limit: 10.67 GiB\n",
      "2023-08-31 21:32:09,998 - distributed.worker.memory - WARNING - Unmanaged memory use is high. This may indicate a memory leak or the memory may not be released to the OS; see https://distributed.dask.org/en/latest/worker-memory.html#memory-not-released-back-to-the-os for more information. -- Unmanaged memory: 6.65 GiB -- Worker memory limit: 10.67 GiB\n",
      "2023-08-31 21:32:10,127 - distributed.worker.memory - WARNING - Unmanaged memory use is high. This may indicate a memory leak or the memory may not be released to the OS; see https://distributed.dask.org/en/latest/worker-memory.html#memory-not-released-back-to-the-os for more information. -- Unmanaged memory: 7.48 GiB -- Worker memory limit: 10.67 GiB\n",
      "2023-08-31 21:32:10,502 - distributed.worker.memory - WARNING - Unmanaged memory use is high. This may indicate a memory leak or the memory may not be released to the OS; see https://distributed.dask.org/en/latest/worker-memory.html#memory-not-released-back-to-the-os for more information. -- Unmanaged memory: 7.21 GiB -- Worker memory limit: 10.67 GiB\n",
      "2023-08-31 21:32:12,465 - distributed.worker.memory - WARNING - Worker is at 81% memory usage. Pausing worker.  Process memory: 8.65 GiB -- Worker memory limit: 10.67 GiB\n",
      "2023-08-31 21:32:12,678 - distributed.worker.memory - WARNING - Worker is at 74% memory usage. Resuming worker. Process memory: 7.99 GiB -- Worker memory limit: 10.67 GiB\n",
      "2023-08-31 21:32:12,827 - distributed.worker.memory - WARNING - Worker is at 81% memory usage. Pausing worker.  Process memory: 8.65 GiB -- Worker memory limit: 10.67 GiB\n",
      "2023-08-31 21:32:12,937 - distributed.worker.memory - WARNING - Worker is at 71% memory usage. Resuming worker. Process memory: 7.66 GiB -- Worker memory limit: 10.67 GiB\n"
     ]
    },
    {
     "name": "stdout",
     "output_type": "stream",
     "text": [
      "Blob already exists and overwrite is set to False.\n"
     ]
    },
    {
     "name": "stderr",
     "output_type": "stream",
     "text": [
      "2023-08-31 21:32:13,688 - distributed.worker.memory - WARNING - Worker is at 81% memory usage. Pausing worker.  Process memory: 8.67 GiB -- Worker memory limit: 10.67 GiB\n",
      "2023-08-31 21:32:14,115 - distributed.worker.memory - WARNING - Worker is at 62% memory usage. Resuming worker. Process memory: 6.68 GiB -- Worker memory limit: 10.67 GiB\n",
      "2023-08-31 21:32:16,467 - distributed.worker.memory - WARNING - Worker is at 83% memory usage. Pausing worker.  Process memory: 8.90 GiB -- Worker memory limit: 10.67 GiB\n",
      "2023-08-31 21:32:16,481 - distributed.worker.memory - WARNING - Worker is at 77% memory usage. Resuming worker. Process memory: 8.29 GiB -- Worker memory limit: 10.67 GiB\n",
      "2023-08-31 21:32:16,609 - distributed.worker.memory - WARNING - Worker is at 83% memory usage. Pausing worker.  Process memory: 8.95 GiB -- Worker memory limit: 10.67 GiB\n",
      "2023-08-31 21:32:16,682 - distributed.worker.memory - WARNING - Worker is at 75% memory usage. Resuming worker. Process memory: 8.06 GiB -- Worker memory limit: 10.67 GiB\n",
      "2023-08-31 21:32:17,048 - distributed.worker.memory - WARNING - Unmanaged memory use is high. This may indicate a memory leak or the memory may not be released to the OS; see https://distributed.dask.org/en/latest/worker-memory.html#memory-not-released-back-to-the-os for more information. -- Unmanaged memory: 7.48 GiB -- Worker memory limit: 10.67 GiB\n",
      "2023-08-31 21:32:19,993 - distributed.worker.memory - WARNING - Unmanaged memory use is high. This may indicate a memory leak or the memory may not be released to the OS; see https://distributed.dask.org/en/latest/worker-memory.html#memory-not-released-back-to-the-os for more information. -- Unmanaged memory: 7.47 GiB -- Worker memory limit: 10.67 GiB\n",
      "2023-08-31 21:32:23,403 - distributed.worker.memory - WARNING - Unmanaged memory use is high. This may indicate a memory leak or the memory may not be released to the OS; see https://distributed.dask.org/en/latest/worker-memory.html#memory-not-released-back-to-the-os for more information. -- Unmanaged memory: 6.78 GiB -- Worker memory limit: 10.67 GiB\n",
      "2023-08-31 21:32:23,911 - distributed.worker.memory - WARNING - Unmanaged memory use is high. This may indicate a memory leak or the memory may not be released to the OS; see https://distributed.dask.org/en/latest/worker-memory.html#memory-not-released-back-to-the-os for more information. -- Unmanaged memory: 8.33 GiB -- Worker memory limit: 10.67 GiB\n",
      "2023-08-31 21:32:24,717 - distributed.worker.memory - WARNING - Worker is at 84% memory usage. Pausing worker.  Process memory: 9.05 GiB -- Worker memory limit: 10.67 GiB\n",
      "2023-08-31 21:32:24,919 - distributed.worker.memory - WARNING - Worker is at 64% memory usage. Resuming worker. Process memory: 6.93 GiB -- Worker memory limit: 10.67 GiB\n",
      "2023-08-31 21:32:25,329 - distributed.worker.memory - WARNING - Unmanaged memory use is high. This may indicate a memory leak or the memory may not be released to the OS; see https://distributed.dask.org/en/latest/worker-memory.html#memory-not-released-back-to-the-os for more information. -- Unmanaged memory: 6.51 GiB -- Worker memory limit: 10.67 GiB\n",
      "2023-08-31 21:32:25,378 - distributed.worker.memory - WARNING - Unmanaged memory use is high. This may indicate a memory leak or the memory may not be released to the OS; see https://distributed.dask.org/en/latest/worker-memory.html#memory-not-released-back-to-the-os for more information. -- Unmanaged memory: 8.25 GiB -- Worker memory limit: 10.67 GiB\n",
      "2023-08-31 21:32:25,517 - distributed.worker.memory - WARNING - Worker is at 82% memory usage. Pausing worker.  Process memory: 8.79 GiB -- Worker memory limit: 10.67 GiB\n",
      "2023-08-31 21:32:25,656 - distributed.worker.memory - WARNING - Worker is at 73% memory usage. Resuming worker. Process memory: 7.79 GiB -- Worker memory limit: 10.67 GiB\n",
      "2023-08-31 21:32:26,674 - distributed.worker.memory - WARNING - Worker is at 83% memory usage. Pausing worker.  Process memory: 8.90 GiB -- Worker memory limit: 10.67 GiB\n",
      "2023-08-31 21:32:26,804 - distributed.worker.memory - WARNING - Worker is at 74% memory usage. Resuming worker. Process memory: 8.00 GiB -- Worker memory limit: 10.67 GiB\n",
      "2023-08-31 21:32:28,051 - distributed.worker.memory - WARNING - Unmanaged memory use is high. This may indicate a memory leak or the memory may not be released to the OS; see https://distributed.dask.org/en/latest/worker-memory.html#memory-not-released-back-to-the-os for more information. -- Unmanaged memory: 7.48 GiB -- Worker memory limit: 10.67 GiB\n",
      "2023-08-31 21:32:30,326 - distributed.worker.memory - WARNING - Worker is at 85% memory usage. Pausing worker.  Process memory: 9.17 GiB -- Worker memory limit: 10.67 GiB\n",
      "2023-08-31 21:32:30,566 - distributed.worker.memory - WARNING - Worker is at 62% memory usage. Resuming worker. Process memory: 6.68 GiB -- Worker memory limit: 10.67 GiB\n",
      "2023-08-31 21:32:32,182 - distributed.worker.memory - WARNING - Worker is at 80% memory usage. Pausing worker.  Process memory: 8.55 GiB -- Worker memory limit: 10.67 GiB\n",
      "2023-08-31 21:32:32,418 - distributed.worker.memory - WARNING - Worker is at 71% memory usage. Resuming worker. Process memory: 7.60 GiB -- Worker memory limit: 10.67 GiB\n",
      "2023-08-31 21:32:32,613 - distributed.worker.memory - WARNING - Worker is at 83% memory usage. Pausing worker.  Process memory: 8.86 GiB -- Worker memory limit: 10.67 GiB\n",
      "2023-08-31 21:32:32,756 - distributed.worker.memory - WARNING - Worker is at 67% memory usage. Resuming worker. Process memory: 7.17 GiB -- Worker memory limit: 10.67 GiB\n",
      "2023-08-31 21:32:33,983 - distributed.worker.memory - WARNING - Unmanaged memory use is high. This may indicate a memory leak or the memory may not be released to the OS; see https://distributed.dask.org/en/latest/worker-memory.html#memory-not-released-back-to-the-os for more information. -- Unmanaged memory: 7.93 GiB -- Worker memory limit: 10.67 GiB\n",
      "2023-08-31 21:32:35,418 - distributed.worker.memory - WARNING - Unmanaged memory use is high. This may indicate a memory leak or the memory may not be released to the OS; see https://distributed.dask.org/en/latest/worker-memory.html#memory-not-released-back-to-the-os for more information. -- Unmanaged memory: 7.73 GiB -- Worker memory limit: 10.67 GiB\n",
      "2023-08-31 21:32:37,443 - distributed.worker.memory - WARNING - Unmanaged memory use is high. This may indicate a memory leak or the memory may not be released to the OS; see https://distributed.dask.org/en/latest/worker-memory.html#memory-not-released-back-to-the-os for more information. -- Unmanaged memory: 7.64 GiB -- Worker memory limit: 10.67 GiB\n",
      "2023-08-31 21:32:38,505 - distributed.worker.memory - WARNING - Worker is at 83% memory usage. Pausing worker.  Process memory: 8.88 GiB -- Worker memory limit: 10.67 GiB\n",
      "2023-08-31 21:32:38,755 - distributed.worker.memory - WARNING - Worker is at 76% memory usage. Resuming worker. Process memory: 8.14 GiB -- Worker memory limit: 10.67 GiB\n",
      "2023-08-31 21:32:39,542 - distributed.worker.memory - WARNING - Worker is at 80% memory usage. Pausing worker.  Process memory: 8.63 GiB -- Worker memory limit: 10.67 GiB\n",
      "2023-08-31 21:32:39,761 - distributed.worker.memory - WARNING - Worker is at 60% memory usage. Resuming worker. Process memory: 6.47 GiB -- Worker memory limit: 10.67 GiB\n",
      "2023-08-31 21:32:41,160 - distributed.worker.memory - WARNING - Unmanaged memory use is high. This may indicate a memory leak or the memory may not be released to the OS; see https://distributed.dask.org/en/latest/worker-memory.html#memory-not-released-back-to-the-os for more information. -- Unmanaged memory: 6.65 GiB -- Worker memory limit: 10.67 GiB\n",
      "2023-08-31 21:32:46,483 - distributed.worker.memory - WARNING - Unmanaged memory use is high. This may indicate a memory leak or the memory may not be released to the OS; see https://distributed.dask.org/en/latest/worker-memory.html#memory-not-released-back-to-the-os for more information. -- Unmanaged memory: 7.68 GiB -- Worker memory limit: 10.67 GiB\n",
      "2023-08-31 21:32:46,750 - distributed.worker.memory - WARNING - Unmanaged memory use is high. This may indicate a memory leak or the memory may not be released to the OS; see https://distributed.dask.org/en/latest/worker-memory.html#memory-not-released-back-to-the-os for more information. -- Unmanaged memory: 7.48 GiB -- Worker memory limit: 10.67 GiB\n",
      "2023-08-31 21:32:46,987 - distributed.worker.memory - WARNING - Unmanaged memory use is high. This may indicate a memory leak or the memory may not be released to the OS; see https://distributed.dask.org/en/latest/worker-memory.html#memory-not-released-back-to-the-os for more information. -- Unmanaged memory: 6.95 GiB -- Worker memory limit: 10.67 GiB\n",
      "2023-08-31 21:32:47,027 - distributed.worker.memory - WARNING - Worker is at 80% memory usage. Pausing worker.  Process memory: 8.54 GiB -- Worker memory limit: 10.67 GiB\n",
      "2023-08-31 21:32:47,528 - distributed.worker.memory - WARNING - Unmanaged memory use is high. This may indicate a memory leak or the memory may not be released to the OS; see https://distributed.dask.org/en/latest/worker-memory.html#memory-not-released-back-to-the-os for more information. -- Unmanaged memory: 8.60 GiB -- Worker memory limit: 10.67 GiB\n",
      "2023-08-31 21:32:47,781 - distributed.worker.memory - WARNING - Worker is at 83% memory usage. Pausing worker.  Process memory: 8.88 GiB -- Worker memory limit: 10.67 GiB\n",
      "2023-08-31 21:32:47,781 - distributed.worker.memory - WARNING - Worker is at 68% memory usage. Resuming worker. Process memory: 7.30 GiB -- Worker memory limit: 10.67 GiB\n",
      "2023-08-31 21:32:49,515 - distributed.worker.memory - WARNING - Unmanaged memory use is high. This may indicate a memory leak or the memory may not be released to the OS; see https://distributed.dask.org/en/latest/worker-memory.html#memory-not-released-back-to-the-os for more information. -- Unmanaged memory: 8.01 GiB -- Worker memory limit: 10.67 GiB\n",
      "2023-08-31 21:32:51,753 - distributed.worker.memory - WARNING - Worker is at 73% memory usage. Resuming worker. Process memory: 7.80 GiB -- Worker memory limit: 10.67 GiB\n",
      "2023-08-31 21:32:53,333 - distributed.worker.memory - WARNING - Worker is at 85% memory usage. Pausing worker.  Process memory: 9.11 GiB -- Worker memory limit: 10.67 GiB\n",
      "2023-08-31 21:32:53,503 - distributed.worker.memory - WARNING - Worker is at 70% memory usage. Resuming worker. Process memory: 7.56 GiB -- Worker memory limit: 10.67 GiB\n",
      "2023-08-31 21:32:54,081 - distributed.worker.memory - WARNING - Worker is at 80% memory usage. Pausing worker.  Process memory: 8.54 GiB -- Worker memory limit: 10.67 GiB\n",
      "2023-08-31 21:32:54,283 - distributed.worker.memory - WARNING - Worker is at 50% memory usage. Resuming worker. Process memory: 5.44 GiB -- Worker memory limit: 10.67 GiB\n",
      "2023-08-31 21:32:54,632 - distributed.worker.memory - WARNING - Worker is at 83% memory usage. Pausing worker.  Process memory: 8.94 GiB -- Worker memory limit: 10.67 GiB\n",
      "2023-08-31 21:32:54,817 - distributed.worker.memory - WARNING - Worker is at 74% memory usage. Resuming worker. Process memory: 7.94 GiB -- Worker memory limit: 10.67 GiB\n",
      "2023-08-31 21:32:56,283 - distributed.worker.memory - WARNING - Worker is at 86% memory usage. Pausing worker.  Process memory: 9.24 GiB -- Worker memory limit: 10.67 GiB\n",
      "2023-08-31 21:32:56,371 - distributed.worker.memory - WARNING - Worker is at 80% memory usage. Pausing worker.  Process memory: 8.56 GiB -- Worker memory limit: 10.67 GiB\n",
      "2023-08-31 21:32:56,418 - distributed.worker.memory - WARNING - Worker is at 69% memory usage. Resuming worker. Process memory: 7.41 GiB -- Worker memory limit: 10.67 GiB\n",
      "2023-08-31 21:32:56,693 - distributed.worker.memory - WARNING - Worker is at 72% memory usage. Resuming worker. Process memory: 7.77 GiB -- Worker memory limit: 10.67 GiB\n",
      "2023-08-31 21:32:56,913 - distributed.worker.memory - WARNING - Unmanaged memory use is high. This may indicate a memory leak or the memory may not be released to the OS; see https://distributed.dask.org/en/latest/worker-memory.html#memory-not-released-back-to-the-os for more information. -- Unmanaged memory: 8.04 GiB -- Worker memory limit: 10.67 GiB\n",
      "2023-08-31 21:32:57,304 - distributed.worker.memory - WARNING - Unmanaged memory use is high. This may indicate a memory leak or the memory may not be released to the OS; see https://distributed.dask.org/en/latest/worker-memory.html#memory-not-released-back-to-the-os for more information. -- Unmanaged memory: 7.69 GiB -- Worker memory limit: 10.67 GiB\n",
      "2023-08-31 21:32:57,638 - distributed.worker.memory - WARNING - Worker is at 81% memory usage. Pausing worker.  Process memory: 8.66 GiB -- Worker memory limit: 10.67 GiB\n",
      "2023-08-31 21:32:57,638 - distributed.worker.memory - WARNING - Unmanaged memory use is high. This may indicate a memory leak or the memory may not be released to the OS; see https://distributed.dask.org/en/latest/worker-memory.html#memory-not-released-back-to-the-os for more information. -- Unmanaged memory: 8.66 GiB -- Worker memory limit: 10.67 GiB\n",
      "2023-08-31 21:32:57,736 - distributed.worker.memory - WARNING - Worker is at 73% memory usage. Resuming worker. Process memory: 7.80 GiB -- Worker memory limit: 10.67 GiB\n",
      "2023-08-31 21:33:01,119 - distributed.worker.memory - WARNING - Unmanaged memory use is high. This may indicate a memory leak or the memory may not be released to the OS; see https://distributed.dask.org/en/latest/worker-memory.html#memory-not-released-back-to-the-os for more information. -- Unmanaged memory: 6.50 GiB -- Worker memory limit: 10.67 GiB\n",
      "2023-08-31 21:33:02,219 - distributed.worker.memory - WARNING - Unmanaged memory use is high. This may indicate a memory leak or the memory may not be released to the OS; see https://distributed.dask.org/en/latest/worker-memory.html#memory-not-released-back-to-the-os for more information. -- Unmanaged memory: 7.50 GiB -- Worker memory limit: 10.67 GiB\n",
      "2023-08-31 21:33:02,692 - distributed.worker.memory - WARNING - Worker is at 81% memory usage. Pausing worker.  Process memory: 8.67 GiB -- Worker memory limit: 10.67 GiB\n",
      "2023-08-31 21:33:03,153 - distributed.worker.memory - WARNING - Worker is at 70% memory usage. Resuming worker. Process memory: 7.55 GiB -- Worker memory limit: 10.67 GiB\n",
      "2023-08-31 21:33:03,498 - distributed.worker.memory - WARNING - Unmanaged memory use is high. This may indicate a memory leak or the memory may not be released to the OS; see https://distributed.dask.org/en/latest/worker-memory.html#memory-not-released-back-to-the-os for more information. -- Unmanaged memory: 6.55 GiB -- Worker memory limit: 10.67 GiB\n",
      "2023-08-31 21:33:04,525 - distributed.worker.memory - WARNING - Worker is at 80% memory usage. Pausing worker.  Process memory: 8.56 GiB -- Worker memory limit: 10.67 GiB\n",
      "2023-08-31 21:33:04,592 - distributed.worker.memory - WARNING - Worker is at 61% memory usage. Resuming worker. Process memory: 6.58 GiB -- Worker memory limit: 10.67 GiB\n",
      "2023-08-31 21:33:07,057 - distributed.worker.memory - WARNING - Worker is at 82% memory usage. Pausing worker.  Process memory: 8.75 GiB -- Worker memory limit: 10.67 GiB\n",
      "2023-08-31 21:33:07,057 - distributed.worker.memory - WARNING - Unmanaged memory use is high. This may indicate a memory leak or the memory may not be released to the OS; see https://distributed.dask.org/en/latest/worker-memory.html#memory-not-released-back-to-the-os for more information. -- Unmanaged memory: 8.75 GiB -- Worker memory limit: 10.67 GiB\n",
      "2023-08-31 21:33:07,317 - distributed.worker.memory - WARNING - Worker is at 64% memory usage. Resuming worker. Process memory: 6.90 GiB -- Worker memory limit: 10.67 GiB\n",
      "2023-08-31 21:33:08,313 - distributed.worker.memory - WARNING - Worker is at 80% memory usage. Pausing worker.  Process memory: 8.61 GiB -- Worker memory limit: 10.67 GiB\n",
      "2023-08-31 21:33:08,496 - distributed.worker.memory - WARNING - Worker is at 71% memory usage. Resuming worker. Process memory: 7.65 GiB -- Worker memory limit: 10.67 GiB\n",
      "2023-08-31 21:33:08,496 - distributed.worker.memory - WARNING - Unmanaged memory use is high. This may indicate a memory leak or the memory may not be released to the OS; see https://distributed.dask.org/en/latest/worker-memory.html#memory-not-released-back-to-the-os for more information. -- Unmanaged memory: 7.65 GiB -- Worker memory limit: 10.67 GiB\n",
      "2023-08-31 21:33:12,421 - distributed.worker.memory - WARNING - Unmanaged memory use is high. This may indicate a memory leak or the memory may not be released to the OS; see https://distributed.dask.org/en/latest/worker-memory.html#memory-not-released-back-to-the-os for more information. -- Unmanaged memory: 7.48 GiB -- Worker memory limit: 10.67 GiB\n",
      "2023-08-31 21:33:14,070 - distributed.worker.memory - WARNING - Worker is at 80% memory usage. Pausing worker.  Process memory: 8.61 GiB -- Worker memory limit: 10.67 GiB\n",
      "2023-08-31 21:33:14,082 - distributed.worker.memory - WARNING - Worker is at 74% memory usage. Resuming worker. Process memory: 7.91 GiB -- Worker memory limit: 10.67 GiB\n",
      "2023-08-31 21:33:14,517 - distributed.worker.memory - WARNING - Unmanaged memory use is high. This may indicate a memory leak or the memory may not be released to the OS; see https://distributed.dask.org/en/latest/worker-memory.html#memory-not-released-back-to-the-os for more information. -- Unmanaged memory: 7.49 GiB -- Worker memory limit: 10.67 GiB\n",
      "2023-08-31 21:33:17,218 - distributed.worker.memory - WARNING - Unmanaged memory use is high. This may indicate a memory leak or the memory may not be released to the OS; see https://distributed.dask.org/en/latest/worker-memory.html#memory-not-released-back-to-the-os for more information. -- Unmanaged memory: 7.47 GiB -- Worker memory limit: 10.67 GiB\n",
      "2023-08-31 21:33:18,676 - distributed.worker.memory - WARNING - Worker is at 84% memory usage. Pausing worker.  Process memory: 8.98 GiB -- Worker memory limit: 10.67 GiB\n",
      "2023-08-31 21:33:18,911 - distributed.worker.memory - WARNING - Worker is at 74% memory usage. Resuming worker. Process memory: 7.98 GiB -- Worker memory limit: 10.67 GiB\n",
      "2023-08-31 21:33:19,791 - distributed.worker.memory - WARNING - Worker is at 83% memory usage. Pausing worker.  Process memory: 8.93 GiB -- Worker memory limit: 10.67 GiB\n",
      "2023-08-31 21:33:19,948 - distributed.worker.memory - WARNING - Worker is at 65% memory usage. Resuming worker. Process memory: 7.00 GiB -- Worker memory limit: 10.67 GiB\n",
      "2023-08-31 21:33:20,093 - distributed.worker.memory - WARNING - Unmanaged memory use is high. This may indicate a memory leak or the memory may not be released to the OS; see https://distributed.dask.org/en/latest/worker-memory.html#memory-not-released-back-to-the-os for more information. -- Unmanaged memory: 6.92 GiB -- Worker memory limit: 10.67 GiB\n",
      "2023-08-31 21:33:20,282 - distributed.worker.memory - WARNING - Unmanaged memory use is high. This may indicate a memory leak or the memory may not be released to the OS; see https://distributed.dask.org/en/latest/worker-memory.html#memory-not-released-back-to-the-os for more information. -- Unmanaged memory: 6.55 GiB -- Worker memory limit: 10.67 GiB\n",
      "2023-08-31 21:33:24,548 - distributed.worker.memory - WARNING - Unmanaged memory use is high. This may indicate a memory leak or the memory may not be released to the OS; see https://distributed.dask.org/en/latest/worker-memory.html#memory-not-released-back-to-the-os for more information. -- Unmanaged memory: 7.95 GiB -- Worker memory limit: 10.67 GiB\n",
      "2023-08-31 21:33:26,555 - distributed.worker.memory - WARNING - Unmanaged memory use is high. This may indicate a memory leak or the memory may not be released to the OS; see https://distributed.dask.org/en/latest/worker-memory.html#memory-not-released-back-to-the-os for more information. -- Unmanaged memory: 7.63 GiB -- Worker memory limit: 10.67 GiB\n"
     ]
    },
    {
     "name": "stdout",
     "output_type": "stream",
     "text": [
      "Blob already exists and overwrite is set to False.\n"
     ]
    },
    {
     "name": "stderr",
     "output_type": "stream",
     "text": [
      "2023-08-31 21:33:27,440 - distributed.worker.memory - WARNING - Worker is at 82% memory usage. Pausing worker.  Process memory: 8.77 GiB -- Worker memory limit: 10.67 GiB\n",
      "2023-08-31 21:33:27,630 - distributed.worker.memory - WARNING - Worker is at 67% memory usage. Resuming worker. Process memory: 7.15 GiB -- Worker memory limit: 10.67 GiB\n",
      "2023-08-31 21:33:28,338 - distributed.worker.memory - WARNING - Worker is at 80% memory usage. Pausing worker.  Process memory: 8.62 GiB -- Worker memory limit: 10.67 GiB\n",
      "2023-08-31 21:33:28,390 - distributed.worker.memory - WARNING - Worker is at 64% memory usage. Resuming worker. Process memory: 6.90 GiB -- Worker memory limit: 10.67 GiB\n",
      "2023-08-31 21:33:29,660 - distributed.worker.memory - WARNING - Worker is at 80% memory usage. Pausing worker.  Process memory: 8.55 GiB -- Worker memory limit: 10.67 GiB\n",
      "2023-08-31 21:33:29,727 - distributed.worker.memory - WARNING - Worker is at 61% memory usage. Resuming worker. Process memory: 6.55 GiB -- Worker memory limit: 10.67 GiB\n",
      "2023-08-31 21:33:31,867 - distributed.worker.memory - WARNING - Unmanaged memory use is high. This may indicate a memory leak or the memory may not be released to the OS; see https://distributed.dask.org/en/latest/worker-memory.html#memory-not-released-back-to-the-os for more information. -- Unmanaged memory: 6.50 GiB -- Worker memory limit: 10.67 GiB\n",
      "2023-08-31 21:33:32,026 - distributed.worker.memory - WARNING - Worker is at 81% memory usage. Pausing worker.  Process memory: 8.72 GiB -- Worker memory limit: 10.67 GiB\n",
      "2023-08-31 21:33:32,198 - distributed.worker.memory - WARNING - Worker is at 77% memory usage. Resuming worker. Process memory: 8.21 GiB -- Worker memory limit: 10.67 GiB\n",
      "2023-08-31 21:33:33,600 - distributed.worker.memory - WARNING - Unmanaged memory use is high. This may indicate a memory leak or the memory may not be released to the OS; see https://distributed.dask.org/en/latest/worker-memory.html#memory-not-released-back-to-the-os for more information. -- Unmanaged memory: 6.53 GiB -- Worker memory limit: 10.67 GiB\n",
      "2023-08-31 21:33:34,548 - distributed.worker.memory - WARNING - Unmanaged memory use is high. This may indicate a memory leak or the memory may not be released to the OS; see https://distributed.dask.org/en/latest/worker-memory.html#memory-not-released-back-to-the-os for more information. -- Unmanaged memory: 7.77 GiB -- Worker memory limit: 10.67 GiB\n",
      "2023-08-31 21:33:34,801 - distributed.worker.memory - WARNING - Unmanaged memory use is high. This may indicate a memory leak or the memory may not be released to the OS; see https://distributed.dask.org/en/latest/worker-memory.html#memory-not-released-back-to-the-os for more information. -- Unmanaged memory: 7.71 GiB -- Worker memory limit: 10.67 GiB\n",
      "2023-08-31 21:33:36,221 - distributed.worker.memory - WARNING - Unmanaged memory use is high. This may indicate a memory leak or the memory may not be released to the OS; see https://distributed.dask.org/en/latest/worker-memory.html#memory-not-released-back-to-the-os for more information. -- Unmanaged memory: 7.99 GiB -- Worker memory limit: 10.67 GiB\n",
      "2023-08-31 21:33:37,555 - distributed.worker.memory - WARNING - Unmanaged memory use is high. This may indicate a memory leak or the memory may not be released to the OS; see https://distributed.dask.org/en/latest/worker-memory.html#memory-not-released-back-to-the-os for more information. -- Unmanaged memory: 6.53 GiB -- Worker memory limit: 10.67 GiB\n",
      "2023-08-31 21:33:38,016 - distributed.worker.memory - WARNING - Worker is at 81% memory usage. Pausing worker.  Process memory: 8.66 GiB -- Worker memory limit: 10.67 GiB\n",
      "2023-08-31 21:33:38,017 - distributed.worker.memory - WARNING - Worker is at 75% memory usage. Resuming worker. Process memory: 8.03 GiB -- Worker memory limit: 10.67 GiB\n",
      "2023-08-31 21:33:42,627 - distributed.worker.memory - WARNING - Worker is at 80% memory usage. Pausing worker.  Process memory: 8.54 GiB -- Worker memory limit: 10.67 GiB\n",
      "2023-08-31 21:33:44,882 - distributed.worker.memory - WARNING - Unmanaged memory use is high. This may indicate a memory leak or the memory may not be released to the OS; see https://distributed.dask.org/en/latest/worker-memory.html#memory-not-released-back-to-the-os for more information. -- Unmanaged memory: 7.92 GiB -- Worker memory limit: 10.67 GiB\n",
      "2023-08-31 21:33:45,027 - distributed.worker.memory - WARNING - Worker is at 79% memory usage. Resuming worker. Process memory: 8.50 GiB -- Worker memory limit: 10.67 GiB\n",
      "2023-08-31 21:33:45,655 - distributed.worker.memory - WARNING - Unmanaged memory use is high. This may indicate a memory leak or the memory may not be released to the OS; see https://distributed.dask.org/en/latest/worker-memory.html#memory-not-released-back-to-the-os for more information. -- Unmanaged memory: 6.88 GiB -- Worker memory limit: 10.67 GiB\n",
      "2023-08-31 21:33:46,226 - distributed.worker.memory - WARNING - Unmanaged memory use is high. This may indicate a memory leak or the memory may not be released to the OS; see https://distributed.dask.org/en/latest/worker-memory.html#memory-not-released-back-to-the-os for more information. -- Unmanaged memory: 7.91 GiB -- Worker memory limit: 10.67 GiB\n",
      "2023-08-31 21:33:48,721 - distributed.worker.memory - WARNING - Unmanaged memory use is high. This may indicate a memory leak or the memory may not be released to the OS; see https://distributed.dask.org/en/latest/worker-memory.html#memory-not-released-back-to-the-os for more information. -- Unmanaged memory: 6.48 GiB -- Worker memory limit: 10.67 GiB\n",
      "2023-08-31 21:33:51,068 - distributed.worker.memory - WARNING - Worker is at 83% memory usage. Pausing worker.  Process memory: 8.92 GiB -- Worker memory limit: 10.67 GiB\n",
      "2023-08-31 21:33:51,279 - distributed.worker.memory - WARNING - Worker is at 58% memory usage. Resuming worker. Process memory: 6.26 GiB -- Worker memory limit: 10.67 GiB\n",
      "2023-08-31 21:33:51,792 - distributed.worker.memory - WARNING - Unmanaged memory use is high. This may indicate a memory leak or the memory may not be released to the OS; see https://distributed.dask.org/en/latest/worker-memory.html#memory-not-released-back-to-the-os for more information. -- Unmanaged memory: 7.80 GiB -- Worker memory limit: 10.67 GiB\n",
      "2023-08-31 21:33:54,507 - distributed.worker.memory - WARNING - Worker is at 84% memory usage. Pausing worker.  Process memory: 8.96 GiB -- Worker memory limit: 10.67 GiB\n",
      "2023-08-31 21:33:54,535 - distributed.worker.memory - WARNING - Worker is at 80% memory usage. Pausing worker.  Process memory: 8.54 GiB -- Worker memory limit: 10.67 GiB\n",
      "2023-08-31 21:33:54,637 - distributed.worker.memory - WARNING - Worker is at 71% memory usage. Resuming worker. Process memory: 7.62 GiB -- Worker memory limit: 10.67 GiB\n",
      "2023-08-31 21:33:54,713 - distributed.worker.memory - WARNING - Worker is at 66% memory usage. Resuming worker. Process memory: 7.07 GiB -- Worker memory limit: 10.67 GiB\n",
      "2023-08-31 21:33:54,882 - distributed.worker.memory - WARNING - Unmanaged memory use is high. This may indicate a memory leak or the memory may not be released to the OS; see https://distributed.dask.org/en/latest/worker-memory.html#memory-not-released-back-to-the-os for more information. -- Unmanaged memory: 7.56 GiB -- Worker memory limit: 10.67 GiB\n"
     ]
    },
    {
     "name": "stdout",
     "output_type": "stream",
     "text": [
      "Blob already exists and overwrite is set to False.\n"
     ]
    },
    {
     "name": "stderr",
     "output_type": "stream",
     "text": [
      "2023-08-31 21:33:56,185 - distributed.worker.memory - WARNING - Unmanaged memory use is high. This may indicate a memory leak or the memory may not be released to the OS; see https://distributed.dask.org/en/latest/worker-memory.html#memory-not-released-back-to-the-os for more information. -- Unmanaged memory: 7.93 GiB -- Worker memory limit: 10.67 GiB\n",
      "2023-08-31 21:33:56,543 - distributed.worker.memory - WARNING - Worker is at 80% memory usage. Pausing worker.  Process memory: 8.55 GiB -- Worker memory limit: 10.67 GiB\n",
      "2023-08-31 21:33:56,547 - distributed.worker.memory - WARNING - Worker is at 69% memory usage. Resuming worker. Process memory: 7.45 GiB -- Worker memory limit: 10.67 GiB\n"
     ]
    },
    {
     "name": "stdout",
     "output_type": "stream",
     "text": [
      "Blob already exists and overwrite is set to False.\n"
     ]
    },
    {
     "name": "stderr",
     "output_type": "stream",
     "text": [
      "2023-08-31 21:33:57,340 - distributed.worker.memory - WARNING - Worker is at 84% memory usage. Pausing worker.  Process memory: 9.04 GiB -- Worker memory limit: 10.67 GiB\n",
      "2023-08-31 21:33:57,580 - distributed.worker.memory - WARNING - Worker is at 74% memory usage. Resuming worker. Process memory: 7.92 GiB -- Worker memory limit: 10.67 GiB\n",
      "2023-08-31 21:33:57,834 - distributed.worker.memory - WARNING - Unmanaged memory use is high. This may indicate a memory leak or the memory may not be released to the OS; see https://distributed.dask.org/en/latest/worker-memory.html#memory-not-released-back-to-the-os for more information. -- Unmanaged memory: 8.13 GiB -- Worker memory limit: 10.67 GiB\n",
      "2023-08-31 21:33:58,534 - distributed.worker.memory - WARNING - Worker is at 83% memory usage. Pausing worker.  Process memory: 8.88 GiB -- Worker memory limit: 10.67 GiB\n",
      "2023-08-31 21:33:58,664 - distributed.worker.memory - WARNING - Worker is at 57% memory usage. Resuming worker. Process memory: 6.17 GiB -- Worker memory limit: 10.67 GiB\n",
      "2023-08-31 21:34:01,837 - distributed.worker.memory - WARNING - Unmanaged memory use is high. This may indicate a memory leak or the memory may not be released to the OS; see https://distributed.dask.org/en/latest/worker-memory.html#memory-not-released-back-to-the-os for more information. -- Unmanaged memory: 7.77 GiB -- Worker memory limit: 10.67 GiB\n",
      "2023-08-31 21:34:02,334 - distributed.worker.memory - WARNING - Unmanaged memory use is high. This may indicate a memory leak or the memory may not be released to the OS; see https://distributed.dask.org/en/latest/worker-memory.html#memory-not-released-back-to-the-os for more information. -- Unmanaged memory: 7.58 GiB -- Worker memory limit: 10.67 GiB\n",
      "2023-08-31 21:34:04,047 - distributed.worker.memory - WARNING - Worker is at 82% memory usage. Pausing worker.  Process memory: 8.82 GiB -- Worker memory limit: 10.67 GiB\n",
      "2023-08-31 21:34:04,279 - distributed.worker.memory - WARNING - Worker is at 62% memory usage. Resuming worker. Process memory: 6.64 GiB -- Worker memory limit: 10.67 GiB\n",
      "2023-08-31 21:34:07,753 - distributed.worker.memory - WARNING - Unmanaged memory use is high. This may indicate a memory leak or the memory may not be released to the OS; see https://distributed.dask.org/en/latest/worker-memory.html#memory-not-released-back-to-the-os for more information. -- Unmanaged memory: 6.97 GiB -- Worker memory limit: 10.67 GiB\n",
      "2023-08-31 21:34:08,242 - distributed.worker.memory - WARNING - Unmanaged memory use is high. This may indicate a memory leak or the memory may not be released to the OS; see https://distributed.dask.org/en/latest/worker-memory.html#memory-not-released-back-to-the-os for more information. -- Unmanaged memory: 6.50 GiB -- Worker memory limit: 10.67 GiB\n",
      "2023-08-31 21:34:08,991 - distributed.worker.memory - WARNING - Worker is at 80% memory usage. Pausing worker.  Process memory: 8.54 GiB -- Worker memory limit: 10.67 GiB\n",
      "2023-08-31 21:34:09,092 - distributed.worker.memory - WARNING - Worker is at 62% memory usage. Resuming worker. Process memory: 6.66 GiB -- Worker memory limit: 10.67 GiB\n",
      "2023-08-31 21:34:09,464 - distributed.worker.memory - WARNING - Unmanaged memory use is high. This may indicate a memory leak or the memory may not be released to the OS; see https://distributed.dask.org/en/latest/worker-memory.html#memory-not-released-back-to-the-os for more information. -- Unmanaged memory: 7.42 GiB -- Worker memory limit: 10.67 GiB\n",
      "2023-08-31 21:34:10,043 - distributed.worker.memory - WARNING - Worker is at 81% memory usage. Pausing worker.  Process memory: 8.74 GiB -- Worker memory limit: 10.67 GiB\n",
      "2023-08-31 21:34:10,232 - distributed.worker.memory - WARNING - Worker is at 65% memory usage. Resuming worker. Process memory: 6.95 GiB -- Worker memory limit: 10.67 GiB\n",
      "2023-08-31 21:34:10,856 - distributed.worker.memory - WARNING - Worker is at 85% memory usage. Pausing worker.  Process memory: 9.12 GiB -- Worker memory limit: 10.67 GiB\n",
      "2023-08-31 21:34:11,085 - distributed.worker.memory - WARNING - Worker is at 76% memory usage. Resuming worker. Process memory: 8.12 GiB -- Worker memory limit: 10.67 GiB\n",
      "2023-08-31 21:34:11,363 - distributed.worker.memory - WARNING - Unmanaged memory use is high. This may indicate a memory leak or the memory may not be released to the OS; see https://distributed.dask.org/en/latest/worker-memory.html#memory-not-released-back-to-the-os for more information. -- Unmanaged memory: 7.00 GiB -- Worker memory limit: 10.67 GiB\n",
      "2023-08-31 21:34:11,892 - distributed.worker.memory - WARNING - Worker is at 85% memory usage. Pausing worker.  Process memory: 9.12 GiB -- Worker memory limit: 10.67 GiB\n",
      "2023-08-31 21:34:12,064 - distributed.worker.memory - WARNING - Worker is at 75% memory usage. Resuming worker. Process memory: 8.07 GiB -- Worker memory limit: 10.67 GiB\n",
      "2023-08-31 21:34:12,409 - distributed.worker.memory - WARNING - Unmanaged memory use is high. This may indicate a memory leak or the memory may not be released to the OS; see https://distributed.dask.org/en/latest/worker-memory.html#memory-not-released-back-to-the-os for more information. -- Unmanaged memory: 6.82 GiB -- Worker memory limit: 10.67 GiB\n",
      "2023-08-31 21:34:12,739 - distributed.worker.memory - WARNING - Worker is at 81% memory usage. Pausing worker.  Process memory: 8.67 GiB -- Worker memory limit: 10.67 GiB\n",
      "2023-08-31 21:34:13,726 - distributed.worker.memory - WARNING - Worker is at 78% memory usage. Resuming worker. Process memory: 8.36 GiB -- Worker memory limit: 10.67 GiB\n",
      "2023-08-31 21:34:14,824 - distributed.worker.memory - WARNING - Worker is at 82% memory usage. Pausing worker.  Process memory: 8.80 GiB -- Worker memory limit: 10.67 GiB\n",
      "2023-08-31 21:34:15,398 - distributed.worker.memory - WARNING - Unmanaged memory use is high. This may indicate a memory leak or the memory may not be released to the OS; see https://distributed.dask.org/en/latest/worker-memory.html#memory-not-released-back-to-the-os for more information. -- Unmanaged memory: 6.67 GiB -- Worker memory limit: 10.67 GiB\n",
      "2023-08-31 21:34:17,786 - distributed.worker.memory - WARNING - Unmanaged memory use is high. This may indicate a memory leak or the memory may not be released to the OS; see https://distributed.dask.org/en/latest/worker-memory.html#memory-not-released-back-to-the-os for more information. -- Unmanaged memory: 8.03 GiB -- Worker memory limit: 10.67 GiB\n",
      "2023-08-31 21:34:20,536 - distributed.worker.memory - WARNING - Worker is at 70% memory usage. Resuming worker. Process memory: 7.54 GiB -- Worker memory limit: 10.67 GiB\n",
      "2023-08-31 21:34:23,356 - distributed.worker.memory - WARNING - Unmanaged memory use is high. This may indicate a memory leak or the memory may not be released to the OS; see https://distributed.dask.org/en/latest/worker-memory.html#memory-not-released-back-to-the-os for more information. -- Unmanaged memory: 8.22 GiB -- Worker memory limit: 10.67 GiB\n",
      "2023-08-31 21:34:25,184 - distributed.worker.memory - WARNING - Unmanaged memory use is high. This may indicate a memory leak or the memory may not be released to the OS; see https://distributed.dask.org/en/latest/worker-memory.html#memory-not-released-back-to-the-os for more information. -- Unmanaged memory: 6.58 GiB -- Worker memory limit: 10.67 GiB\n",
      "2023-08-31 21:34:25,491 - distributed.worker.memory - WARNING - Unmanaged memory use is high. This may indicate a memory leak or the memory may not be released to the OS; see https://distributed.dask.org/en/latest/worker-memory.html#memory-not-released-back-to-the-os for more information. -- Unmanaged memory: 7.65 GiB -- Worker memory limit: 10.67 GiB\n",
      "2023-08-31 21:34:27,882 - distributed.worker.memory - WARNING - Unmanaged memory use is high. This may indicate a memory leak or the memory may not be released to the OS; see https://distributed.dask.org/en/latest/worker-memory.html#memory-not-released-back-to-the-os for more information. -- Unmanaged memory: 8.53 GiB -- Worker memory limit: 10.67 GiB\n",
      "2023-08-31 21:34:28,089 - distributed.worker.memory - WARNING - Worker is at 80% memory usage. Pausing worker.  Process memory: 8.54 GiB -- Worker memory limit: 10.67 GiB\n",
      "2023-08-31 21:34:28,184 - distributed.worker.memory - WARNING - Worker is at 62% memory usage. Resuming worker. Process memory: 6.64 GiB -- Worker memory limit: 10.67 GiB\n",
      "2023-08-31 21:34:28,815 - distributed.worker.memory - WARNING - Unmanaged memory use is high. This may indicate a memory leak or the memory may not be released to the OS; see https://distributed.dask.org/en/latest/worker-memory.html#memory-not-released-back-to-the-os for more information. -- Unmanaged memory: 7.52 GiB -- Worker memory limit: 10.67 GiB\n",
      "2023-08-31 21:34:30,149 - distributed.worker.memory - WARNING - Worker is at 80% memory usage. Pausing worker.  Process memory: 8.58 GiB -- Worker memory limit: 10.67 GiB\n",
      "2023-08-31 21:34:30,236 - distributed.worker.memory - WARNING - Worker is at 63% memory usage. Resuming worker. Process memory: 6.79 GiB -- Worker memory limit: 10.67 GiB\n",
      "2023-08-31 21:34:32,596 - distributed.worker.memory - WARNING - Unmanaged memory use is high. This may indicate a memory leak or the memory may not be released to the OS; see https://distributed.dask.org/en/latest/worker-memory.html#memory-not-released-back-to-the-os for more information. -- Unmanaged memory: 8.30 GiB -- Worker memory limit: 10.67 GiB\n",
      "2023-08-31 21:34:33,339 - distributed.worker.memory - WARNING - Worker is at 84% memory usage. Pausing worker.  Process memory: 9.00 GiB -- Worker memory limit: 10.67 GiB\n",
      "2023-08-31 21:34:33,451 - distributed.worker.memory - WARNING - Worker is at 65% memory usage. Resuming worker. Process memory: 6.96 GiB -- Worker memory limit: 10.67 GiB\n"
     ]
    },
    {
     "name": "stdout",
     "output_type": "stream",
     "text": [
      "Blob already exists and overwrite is set to False.\n"
     ]
    },
    {
     "name": "stderr",
     "output_type": "stream",
     "text": [
      "2023-08-31 21:34:35,248 - distributed.worker.memory - WARNING - Unmanaged memory use is high. This may indicate a memory leak or the memory may not be released to the OS; see https://distributed.dask.org/en/latest/worker-memory.html#memory-not-released-back-to-the-os for more information. -- Unmanaged memory: 7.72 GiB -- Worker memory limit: 10.67 GiB\n",
      "2023-08-31 21:34:35,736 - distributed.worker.memory - WARNING - Unmanaged memory use is high. This may indicate a memory leak or the memory may not be released to the OS; see https://distributed.dask.org/en/latest/worker-memory.html#memory-not-released-back-to-the-os for more information. -- Unmanaged memory: 7.47 GiB -- Worker memory limit: 10.67 GiB\n",
      "2023-08-31 21:34:40,758 - distributed.worker.memory - WARNING - Worker is at 80% memory usage. Pausing worker.  Process memory: 8.55 GiB -- Worker memory limit: 10.67 GiB\n",
      "2023-08-31 21:34:40,961 - distributed.worker.memory - WARNING - Worker is at 73% memory usage. Resuming worker. Process memory: 7.85 GiB -- Worker memory limit: 10.67 GiB\n",
      "2023-08-31 21:34:41,461 - distributed.worker.memory - WARNING - Worker is at 81% memory usage. Pausing worker.  Process memory: 8.69 GiB -- Worker memory limit: 10.67 GiB\n",
      "2023-08-31 21:34:41,678 - distributed.worker.memory - WARNING - Worker is at 72% memory usage. Resuming worker. Process memory: 7.71 GiB -- Worker memory limit: 10.67 GiB\n",
      "2023-08-31 21:34:42,108 - distributed.worker.memory - WARNING - Unmanaged memory use is high. This may indicate a memory leak or the memory may not be released to the OS; see https://distributed.dask.org/en/latest/worker-memory.html#memory-not-released-back-to-the-os for more information. -- Unmanaged memory: 7.48 GiB -- Worker memory limit: 10.67 GiB\n",
      "2023-08-31 21:34:43,191 - distributed.worker.memory - WARNING - Unmanaged memory use is high. This may indicate a memory leak or the memory may not be released to the OS; see https://distributed.dask.org/en/latest/worker-memory.html#memory-not-released-back-to-the-os for more information. -- Unmanaged memory: 8.02 GiB -- Worker memory limit: 10.67 GiB\n",
      "2023-08-31 21:34:43,382 - distributed.worker.memory - WARNING - Unmanaged memory use is high. This may indicate a memory leak or the memory may not be released to the OS; see https://distributed.dask.org/en/latest/worker-memory.html#memory-not-released-back-to-the-os for more information. -- Unmanaged memory: 7.86 GiB -- Worker memory limit: 10.67 GiB\n",
      "2023-08-31 21:34:43,837 - distributed.worker.memory - WARNING - Worker is at 80% memory usage. Pausing worker.  Process memory: 8.64 GiB -- Worker memory limit: 10.67 GiB\n",
      "2023-08-31 21:34:45,981 - distributed.worker.memory - WARNING - Unmanaged memory use is high. This may indicate a memory leak or the memory may not be released to the OS; see https://distributed.dask.org/en/latest/worker-memory.html#memory-not-released-back-to-the-os for more information. -- Unmanaged memory: 7.49 GiB -- Worker memory limit: 10.67 GiB\n",
      "2023-08-31 21:34:49,009 - distributed.worker.memory - WARNING - Unmanaged memory use is high. This may indicate a memory leak or the memory may not be released to the OS; see https://distributed.dask.org/en/latest/worker-memory.html#memory-not-released-back-to-the-os for more information. -- Unmanaged memory: 6.70 GiB -- Worker memory limit: 10.67 GiB\n",
      "2023-08-31 21:34:49,691 - distributed.worker.memory - WARNING - Worker is at 72% memory usage. Resuming worker. Process memory: 7.72 GiB -- Worker memory limit: 10.67 GiB\n",
      "2023-08-31 21:34:50,283 - distributed.worker.memory - WARNING - Worker is at 81% memory usage. Pausing worker.  Process memory: 8.72 GiB -- Worker memory limit: 10.67 GiB\n",
      "2023-08-31 21:34:50,492 - distributed.worker.memory - WARNING - Worker is at 76% memory usage. Resuming worker. Process memory: 8.16 GiB -- Worker memory limit: 10.67 GiB\n",
      "2023-08-31 21:34:50,592 - distributed.worker.memory - WARNING - Worker is at 80% memory usage. Pausing worker.  Process memory: 8.62 GiB -- Worker memory limit: 10.67 GiB\n",
      "2023-08-31 21:34:50,792 - distributed.worker.memory - WARNING - Worker is at 72% memory usage. Resuming worker. Process memory: 7.72 GiB -- Worker memory limit: 10.67 GiB\n"
     ]
    },
    {
     "name": "stdout",
     "output_type": "stream",
     "text": [
      "Blob already exists and overwrite is set to False.\n"
     ]
    },
    {
     "name": "stderr",
     "output_type": "stream",
     "text": [
      "2023-08-31 21:34:52,739 - distributed.worker.memory - WARNING - Unmanaged memory use is high. This may indicate a memory leak or the memory may not be released to the OS; see https://distributed.dask.org/en/latest/worker-memory.html#memory-not-released-back-to-the-os for more information. -- Unmanaged memory: 6.59 GiB -- Worker memory limit: 10.67 GiB\n",
      "2023-08-31 21:34:56,019 - distributed.worker.memory - WARNING - Unmanaged memory use is high. This may indicate a memory leak or the memory may not be released to the OS; see https://distributed.dask.org/en/latest/worker-memory.html#memory-not-released-back-to-the-os for more information. -- Unmanaged memory: 7.77 GiB -- Worker memory limit: 10.67 GiB\n",
      "2023-08-31 21:34:57,791 - distributed.worker.memory - WARNING - Unmanaged memory use is high. This may indicate a memory leak or the memory may not be released to the OS; see https://distributed.dask.org/en/latest/worker-memory.html#memory-not-released-back-to-the-os for more information. -- Unmanaged memory: 8.38 GiB -- Worker memory limit: 10.67 GiB\n",
      "2023-08-31 21:34:59,038 - distributed.worker.memory - WARNING - Unmanaged memory use is high. This may indicate a memory leak or the memory may not be released to the OS; see https://distributed.dask.org/en/latest/worker-memory.html#memory-not-released-back-to-the-os for more information. -- Unmanaged memory: 7.76 GiB -- Worker memory limit: 10.67 GiB\n",
      "2023-08-31 21:35:00,378 - distributed.worker.memory - WARNING - Worker is at 82% memory usage. Pausing worker.  Process memory: 8.76 GiB -- Worker memory limit: 10.67 GiB\n",
      "2023-08-31 21:35:00,521 - distributed.worker.memory - WARNING - Worker is at 68% memory usage. Resuming worker. Process memory: 7.36 GiB -- Worker memory limit: 10.67 GiB\n",
      "2023-08-31 21:35:03,977 - distributed.worker.memory - WARNING - Unmanaged memory use is high. This may indicate a memory leak or the memory may not be released to the OS; see https://distributed.dask.org/en/latest/worker-memory.html#memory-not-released-back-to-the-os for more information. -- Unmanaged memory: 6.49 GiB -- Worker memory limit: 10.67 GiB\n",
      "2023-08-31 21:35:06,249 - distributed.worker.memory - WARNING - Unmanaged memory use is high. This may indicate a memory leak or the memory may not be released to the OS; see https://distributed.dask.org/en/latest/worker-memory.html#memory-not-released-back-to-the-os for more information. -- Unmanaged memory: 7.48 GiB -- Worker memory limit: 10.67 GiB\n",
      "2023-08-31 21:35:06,394 - distributed.worker.memory - WARNING - Unmanaged memory use is high. This may indicate a memory leak or the memory may not be released to the OS; see https://distributed.dask.org/en/latest/worker-memory.html#memory-not-released-back-to-the-os for more information. -- Unmanaged memory: 7.50 GiB -- Worker memory limit: 10.67 GiB\n",
      "2023-08-31 21:35:08,139 - distributed.worker.memory - WARNING - Unmanaged memory use is high. This may indicate a memory leak or the memory may not be released to the OS; see https://distributed.dask.org/en/latest/worker-memory.html#memory-not-released-back-to-the-os for more information. -- Unmanaged memory: 6.82 GiB -- Worker memory limit: 10.67 GiB\n",
      "2023-08-31 21:35:08,228 - distributed.worker.memory - WARNING - Worker is at 80% memory usage. Pausing worker.  Process memory: 8.59 GiB -- Worker memory limit: 10.67 GiB\n",
      "2023-08-31 21:35:08,477 - distributed.worker.memory - WARNING - Worker is at 60% memory usage. Resuming worker. Process memory: 6.49 GiB -- Worker memory limit: 10.67 GiB\n",
      "2023-08-31 21:35:08,558 - distributed.worker.memory - WARNING - Worker is at 82% memory usage. Pausing worker.  Process memory: 8.81 GiB -- Worker memory limit: 10.67 GiB\n",
      "2023-08-31 21:35:08,617 - distributed.worker.memory - WARNING - Worker is at 70% memory usage. Resuming worker. Process memory: 7.49 GiB -- Worker memory limit: 10.67 GiB\n"
     ]
    },
    {
     "name": "stdout",
     "output_type": "stream",
     "text": [
      "Blob already exists and overwrite is set to False.\n"
     ]
    },
    {
     "name": "stderr",
     "output_type": "stream",
     "text": [
      "2023-08-31 21:35:08,954 - distributed.worker.memory - WARNING - Unmanaged memory use is high. This may indicate a memory leak or the memory may not be released to the OS; see https://distributed.dask.org/en/latest/worker-memory.html#memory-not-released-back-to-the-os for more information. -- Unmanaged memory: 7.67 GiB -- Worker memory limit: 10.67 GiB\n",
      "2023-08-31 21:35:11,237 - distributed.worker.memory - WARNING - Unmanaged memory use is high. This may indicate a memory leak or the memory may not be released to the OS; see https://distributed.dask.org/en/latest/worker-memory.html#memory-not-released-back-to-the-os for more information. -- Unmanaged memory: 7.47 GiB -- Worker memory limit: 10.67 GiB\n",
      "2023-08-31 21:35:16,417 - distributed.worker.memory - WARNING - Unmanaged memory use is high. This may indicate a memory leak or the memory may not be released to the OS; see https://distributed.dask.org/en/latest/worker-memory.html#memory-not-released-back-to-the-os for more information. -- Unmanaged memory: 7.63 GiB -- Worker memory limit: 10.67 GiB\n",
      "2023-08-31 21:35:17,576 - distributed.nanny.memory - WARNING - Worker tcp://127.0.0.1:51599 (pid=48674) exceeded 95% memory budget. Restarting...\n",
      "2023-08-31 21:35:17,791 - distributed.nanny - WARNING - Restarting worker\n",
      "2023-08-31 21:35:18,985 - distributed.worker.memory - WARNING - Unmanaged memory use is high. This may indicate a memory leak or the memory may not be released to the OS; see https://distributed.dask.org/en/latest/worker-memory.html#memory-not-released-back-to-the-os for more information. -- Unmanaged memory: 6.46 GiB -- Worker memory limit: 10.67 GiB\n",
      "2023-08-31 21:35:21,237 - distributed.worker.memory - WARNING - Unmanaged memory use is high. This may indicate a memory leak or the memory may not be released to the OS; see https://distributed.dask.org/en/latest/worker-memory.html#memory-not-released-back-to-the-os for more information. -- Unmanaged memory: 7.51 GiB -- Worker memory limit: 10.67 GiB\n",
      "2023-08-31 21:35:22,774 - distributed.worker.memory - WARNING - Worker is at 84% memory usage. Pausing worker.  Process memory: 8.97 GiB -- Worker memory limit: 10.67 GiB\n",
      "2023-08-31 21:35:22,920 - distributed.worker.memory - WARNING - Worker is at 78% memory usage. Resuming worker. Process memory: 8.35 GiB -- Worker memory limit: 10.67 GiB\n",
      "2023-08-31 21:35:23,182 - distributed.worker.memory - WARNING - Worker is at 81% memory usage. Pausing worker.  Process memory: 8.68 GiB -- Worker memory limit: 10.67 GiB\n",
      "2023-08-31 21:35:23,191 - distributed.worker.memory - WARNING - Worker is at 75% memory usage. Resuming worker. Process memory: 8.06 GiB -- Worker memory limit: 10.67 GiB\n",
      "2023-08-31 21:35:23,518 - distributed.worker.memory - WARNING - Worker is at 84% memory usage. Pausing worker.  Process memory: 8.97 GiB -- Worker memory limit: 10.67 GiB\n",
      "2023-08-31 21:35:23,671 - distributed.worker.memory - WARNING - Worker is at 74% memory usage. Resuming worker. Process memory: 7.97 GiB -- Worker memory limit: 10.67 GiB\n",
      "2023-08-31 21:35:24,402 - distributed.worker.memory - WARNING - Worker is at 83% memory usage. Pausing worker.  Process memory: 8.92 GiB -- Worker memory limit: 10.67 GiB\n",
      "2023-08-31 21:35:24,618 - distributed.worker.memory - WARNING - Worker is at 74% memory usage. Resuming worker. Process memory: 7.92 GiB -- Worker memory limit: 10.67 GiB\n",
      "2023-08-31 21:35:24,973 - distributed.worker.memory - WARNING - Worker is at 81% memory usage. Pausing worker.  Process memory: 8.75 GiB -- Worker memory limit: 10.67 GiB\n",
      "2023-08-31 21:35:25,123 - distributed.worker.memory - WARNING - Worker is at 68% memory usage. Resuming worker. Process memory: 7.26 GiB -- Worker memory limit: 10.67 GiB\n",
      "2023-08-31 21:35:25,343 - distributed.worker.memory - WARNING - Unmanaged memory use is high. This may indicate a memory leak or the memory may not be released to the OS; see https://distributed.dask.org/en/latest/worker-memory.html#memory-not-released-back-to-the-os for more information. -- Unmanaged memory: 7.26 GiB -- Worker memory limit: 10.67 GiB\n",
      "2023-08-31 21:35:25,581 - distributed.worker.memory - WARNING - Worker is at 82% memory usage. Pausing worker.  Process memory: 8.75 GiB -- Worker memory limit: 10.67 GiB\n",
      "2023-08-31 21:35:25,764 - distributed.worker.memory - WARNING - Worker is at 63% memory usage. Resuming worker. Process memory: 6.75 GiB -- Worker memory limit: 10.67 GiB\n",
      "2023-08-31 21:35:25,835 - distributed.worker.memory - WARNING - Unmanaged memory use is high. This may indicate a memory leak or the memory may not be released to the OS; see https://distributed.dask.org/en/latest/worker-memory.html#memory-not-released-back-to-the-os for more information. -- Unmanaged memory: 8.23 GiB -- Worker memory limit: 10.67 GiB\n",
      "2023-08-31 21:35:26,417 - distributed.worker.memory - WARNING - Unmanaged memory use is high. This may indicate a memory leak or the memory may not be released to the OS; see https://distributed.dask.org/en/latest/worker-memory.html#memory-not-released-back-to-the-os for more information. -- Unmanaged memory: 8.00 GiB -- Worker memory limit: 10.67 GiB\n",
      "2023-08-31 21:35:29,357 - distributed.worker.memory - WARNING - Unmanaged memory use is high. This may indicate a memory leak or the memory may not be released to the OS; see https://distributed.dask.org/en/latest/worker-memory.html#memory-not-released-back-to-the-os for more information. -- Unmanaged memory: 7.20 GiB -- Worker memory limit: 10.67 GiB\n",
      "2023-08-31 21:35:32,534 - distributed.worker.memory - WARNING - Worker is at 86% memory usage. Pausing worker.  Process memory: 9.26 GiB -- Worker memory limit: 10.67 GiB\n",
      "2023-08-31 21:35:32,647 - distributed.worker.memory - WARNING - Worker is at 67% memory usage. Resuming worker. Process memory: 7.19 GiB -- Worker memory limit: 10.67 GiB\n",
      "2023-08-31 21:35:32,722 - distributed.worker.memory - WARNING - Worker is at 86% memory usage. Pausing worker.  Process memory: 9.21 GiB -- Worker memory limit: 10.67 GiB\n",
      "2023-08-31 21:35:32,944 - distributed.worker.memory - WARNING - Worker is at 67% memory usage. Resuming worker. Process memory: 7.21 GiB -- Worker memory limit: 10.67 GiB\n",
      "2023-08-31 21:35:32,978 - distributed.worker.memory - WARNING - Worker is at 80% memory usage. Pausing worker.  Process memory: 8.59 GiB -- Worker memory limit: 10.67 GiB\n",
      "2023-08-31 21:35:34,186 - distributed.worker.memory - WARNING - Worker is at 81% memory usage. Pausing worker.  Process memory: 8.74 GiB -- Worker memory limit: 10.67 GiB\n",
      "2023-08-31 21:35:34,288 - distributed.worker.memory - WARNING - Worker is at 73% memory usage. Resuming worker. Process memory: 7.82 GiB -- Worker memory limit: 10.67 GiB\n",
      "2023-08-31 21:35:34,292 - distributed.worker.memory - WARNING - Worker is at 75% memory usage. Resuming worker. Process memory: 8.10 GiB -- Worker memory limit: 10.67 GiB\n",
      "2023-08-31 21:35:34,990 - distributed.worker.memory - WARNING - Worker is at 81% memory usage. Pausing worker.  Process memory: 8.66 GiB -- Worker memory limit: 10.67 GiB\n",
      "2023-08-31 21:35:35,127 - distributed.worker.memory - WARNING - Worker is at 65% memory usage. Resuming worker. Process memory: 7.04 GiB -- Worker memory limit: 10.67 GiB\n",
      "2023-08-31 21:35:35,348 - distributed.worker.memory - WARNING - Unmanaged memory use is high. This may indicate a memory leak or the memory may not be released to the OS; see https://distributed.dask.org/en/latest/worker-memory.html#memory-not-released-back-to-the-os for more information. -- Unmanaged memory: 8.01 GiB -- Worker memory limit: 10.67 GiB\n",
      "2023-08-31 21:35:35,369 - distributed.worker.memory - WARNING - Unmanaged memory use is high. This may indicate a memory leak or the memory may not be released to the OS; see https://distributed.dask.org/en/latest/worker-memory.html#memory-not-released-back-to-the-os for more information. -- Unmanaged memory: 6.73 GiB -- Worker memory limit: 10.67 GiB\n",
      "2023-08-31 21:35:39,394 - distributed.worker.memory - WARNING - Unmanaged memory use is high. This may indicate a memory leak or the memory may not be released to the OS; see https://distributed.dask.org/en/latest/worker-memory.html#memory-not-released-back-to-the-os for more information. -- Unmanaged memory: 7.82 GiB -- Worker memory limit: 10.67 GiB\n",
      "2023-08-31 21:35:40,076 - distributed.worker.memory - WARNING - Unmanaged memory use is high. This may indicate a memory leak or the memory may not be released to the OS; see https://distributed.dask.org/en/latest/worker-memory.html#memory-not-released-back-to-the-os for more information. -- Unmanaged memory: 8.03 GiB -- Worker memory limit: 10.67 GiB\n"
     ]
    },
    {
     "name": "stdout",
     "output_type": "stream",
     "text": [
      "Blob already exists and overwrite is set to False.\n",
      "Blob already exists and overwrite is set to False.\n"
     ]
    },
    {
     "name": "stderr",
     "output_type": "stream",
     "text": [
      "2023-08-31 21:35:44,193 - distributed.worker.memory - WARNING - Unmanaged memory use is high. This may indicate a memory leak or the memory may not be released to the OS; see https://distributed.dask.org/en/latest/worker-memory.html#memory-not-released-back-to-the-os for more information. -- Unmanaged memory: 6.94 GiB -- Worker memory limit: 10.67 GiB\n",
      "2023-08-31 21:35:45,775 - distributed.worker.memory - WARNING - Unmanaged memory use is high. This may indicate a memory leak or the memory may not be released to the OS; see https://distributed.dask.org/en/latest/worker-memory.html#memory-not-released-back-to-the-os for more information. -- Unmanaged memory: 8.12 GiB -- Worker memory limit: 10.67 GiB\n",
      "2023-08-31 21:35:46,052 - distributed.worker.memory - WARNING - Worker is at 80% memory usage. Pausing worker.  Process memory: 8.55 GiB -- Worker memory limit: 10.67 GiB\n",
      "2023-08-31 21:35:46,157 - distributed.worker.memory - WARNING - Worker is at 77% memory usage. Resuming worker. Process memory: 8.30 GiB -- Worker memory limit: 10.67 GiB\n"
     ]
    },
    {
     "name": "stdout",
     "output_type": "stream",
     "text": [
      "Blob already exists and overwrite is set to False.\n"
     ]
    },
    {
     "name": "stderr",
     "output_type": "stream",
     "text": [
      "2023-08-31 21:35:46,924 - distributed.worker.memory - WARNING - Worker is at 81% memory usage. Pausing worker.  Process memory: 8.66 GiB -- Worker memory limit: 10.67 GiB\n",
      "2023-08-31 21:35:47,049 - distributed.worker.memory - WARNING - Unmanaged memory use is high. This may indicate a memory leak or the memory may not be released to the OS; see https://distributed.dask.org/en/latest/worker-memory.html#memory-not-released-back-to-the-os for more information. -- Unmanaged memory: 7.47 GiB -- Worker memory limit: 10.67 GiB\n",
      "2023-08-31 21:35:47,209 - distributed.worker.memory - WARNING - Worker is at 65% memory usage. Resuming worker. Process memory: 6.95 GiB -- Worker memory limit: 10.67 GiB\n",
      "2023-08-31 21:35:50,082 - distributed.worker.memory - WARNING - Unmanaged memory use is high. This may indicate a memory leak or the memory may not be released to the OS; see https://distributed.dask.org/en/latest/worker-memory.html#memory-not-released-back-to-the-os for more information. -- Unmanaged memory: 8.10 GiB -- Worker memory limit: 10.67 GiB\n",
      "2023-08-31 21:35:53,636 - distributed.worker.memory - WARNING - Worker is at 82% memory usage. Pausing worker.  Process memory: 8.81 GiB -- Worker memory limit: 10.67 GiB\n",
      "2023-08-31 21:35:53,999 - distributed.worker.memory - WARNING - Worker is at 79% memory usage. Resuming worker. Process memory: 8.44 GiB -- Worker memory limit: 10.67 GiB\n",
      "2023-08-31 21:35:54,736 - distributed.worker.memory - WARNING - Worker is at 80% memory usage. Pausing worker.  Process memory: 8.53 GiB -- Worker memory limit: 10.67 GiB\n",
      "2023-08-31 21:35:54,757 - distributed.worker.memory - WARNING - Worker is at 87% memory usage. Pausing worker.  Process memory: 9.33 GiB -- Worker memory limit: 10.67 GiB\n",
      "2023-08-31 21:35:54,960 - distributed.worker.memory - WARNING - Worker is at 65% memory usage. Resuming worker. Process memory: 7.03 GiB -- Worker memory limit: 10.67 GiB\n",
      "2023-08-31 21:35:56,382 - distributed.worker.memory - WARNING - Worker is at 72% memory usage. Resuming worker. Process memory: 7.74 GiB -- Worker memory limit: 10.67 GiB\n",
      "2023-08-31 21:35:56,533 - distributed.worker.memory - WARNING - Unmanaged memory use is high. This may indicate a memory leak or the memory may not be released to the OS; see https://distributed.dask.org/en/latest/worker-memory.html#memory-not-released-back-to-the-os for more information. -- Unmanaged memory: 7.77 GiB -- Worker memory limit: 10.67 GiB\n",
      "2023-08-31 21:35:57,169 - distributed.worker.memory - WARNING - Worker is at 83% memory usage. Pausing worker.  Process memory: 8.87 GiB -- Worker memory limit: 10.67 GiB\n",
      "2023-08-31 21:35:57,467 - distributed.worker.memory - WARNING - Worker is at 64% memory usage. Resuming worker. Process memory: 6.89 GiB -- Worker memory limit: 10.67 GiB\n",
      "2023-08-31 21:35:58,179 - distributed.worker.memory - WARNING - Unmanaged memory use is high. This may indicate a memory leak or the memory may not be released to the OS; see https://distributed.dask.org/en/latest/worker-memory.html#memory-not-released-back-to-the-os for more information. -- Unmanaged memory: 7.29 GiB -- Worker memory limit: 10.67 GiB\n",
      "2023-08-31 21:35:59,583 - distributed.worker.memory - WARNING - Unmanaged memory use is high. This may indicate a memory leak or the memory may not be released to the OS; see https://distributed.dask.org/en/latest/worker-memory.html#memory-not-released-back-to-the-os for more information. -- Unmanaged memory: 6.58 GiB -- Worker memory limit: 10.67 GiB\n",
      "2023-08-31 21:35:59,796 - distributed.worker.memory - WARNING - Unmanaged memory use is high. This may indicate a memory leak or the memory may not be released to the OS; see https://distributed.dask.org/en/latest/worker-memory.html#memory-not-released-back-to-the-os for more information. -- Unmanaged memory: 7.05 GiB -- Worker memory limit: 10.67 GiB\n"
     ]
    },
    {
     "name": "stdout",
     "output_type": "stream",
     "text": [
      "Blob already exists and overwrite is set to False.\n",
      "Blob already exists and overwrite is set to False.\n"
     ]
    },
    {
     "name": "stderr",
     "output_type": "stream",
     "text": [
      "2023-08-31 21:36:00,683 - distributed.worker.memory - WARNING - Worker is at 80% memory usage. Pausing worker.  Process memory: 8.59 GiB -- Worker memory limit: 10.67 GiB\n",
      "2023-08-31 21:36:00,694 - distributed.worker.memory - WARNING - Worker is at 71% memory usage. Resuming worker. Process memory: 7.59 GiB -- Worker memory limit: 10.67 GiB\n",
      "2023-08-31 21:36:02,221 - distributed.worker.memory - WARNING - Worker is at 81% memory usage. Pausing worker.  Process memory: 8.69 GiB -- Worker memory limit: 10.67 GiB\n",
      "2023-08-31 21:36:02,416 - distributed.worker.memory - WARNING - Worker is at 60% memory usage. Resuming worker. Process memory: 6.43 GiB -- Worker memory limit: 10.67 GiB\n"
     ]
    },
    {
     "name": "stdout",
     "output_type": "stream",
     "text": [
      "Blob already exists and overwrite is set to False.\n",
      "Blob already exists and overwrite is set to False.\n"
     ]
    },
    {
     "name": "stderr",
     "output_type": "stream",
     "text": [
      "2023-08-31 21:36:05,262 - distributed.worker.memory - WARNING - Worker is at 80% memory usage. Pausing worker.  Process memory: 8.59 GiB -- Worker memory limit: 10.67 GiB\n",
      "2023-08-31 21:36:05,435 - distributed.worker.memory - WARNING - Worker is at 71% memory usage. Resuming worker. Process memory: 7.62 GiB -- Worker memory limit: 10.67 GiB\n"
     ]
    },
    {
     "name": "stdout",
     "output_type": "stream",
     "text": [
      "Blob already exists and overwrite is set to False.\n"
     ]
    },
    {
     "name": "stderr",
     "output_type": "stream",
     "text": [
      "2023-08-31 21:36:06,737 - distributed.worker.memory - WARNING - Unmanaged memory use is high. This may indicate a memory leak or the memory may not be released to the OS; see https://distributed.dask.org/en/latest/worker-memory.html#memory-not-released-back-to-the-os for more information. -- Unmanaged memory: 7.65 GiB -- Worker memory limit: 10.67 GiB\n",
      "2023-08-31 21:36:07,241 - distributed.worker.memory - WARNING - Unmanaged memory use is high. This may indicate a memory leak or the memory may not be released to the OS; see https://distributed.dask.org/en/latest/worker-memory.html#memory-not-released-back-to-the-os for more information. -- Unmanaged memory: 7.25 GiB -- Worker memory limit: 10.67 GiB\n",
      "2023-08-31 21:36:08,873 - distributed.worker.memory - WARNING - Worker is at 80% memory usage. Pausing worker.  Process memory: 8.54 GiB -- Worker memory limit: 10.67 GiB\n",
      "2023-08-31 21:36:08,954 - distributed.worker.memory - WARNING - Worker is at 55% memory usage. Resuming worker. Process memory: 5.94 GiB -- Worker memory limit: 10.67 GiB\n",
      "2023-08-31 21:36:10,165 - distributed.worker.memory - WARNING - Unmanaged memory use is high. This may indicate a memory leak or the memory may not be released to the OS; see https://distributed.dask.org/en/latest/worker-memory.html#memory-not-released-back-to-the-os for more information. -- Unmanaged memory: 6.52 GiB -- Worker memory limit: 10.67 GiB\n"
     ]
    },
    {
     "name": "stdout",
     "output_type": "stream",
     "text": [
      "Blob already exists and overwrite is set to False.\n"
     ]
    },
    {
     "name": "stderr",
     "output_type": "stream",
     "text": [
      "2023-08-31 21:36:10,410 - distributed.worker.memory - WARNING - Unmanaged memory use is high. This may indicate a memory leak or the memory may not be released to the OS; see https://distributed.dask.org/en/latest/worker-memory.html#memory-not-released-back-to-the-os for more information. -- Unmanaged memory: 7.76 GiB -- Worker memory limit: 10.67 GiB\n"
     ]
    },
    {
     "name": "stdout",
     "output_type": "stream",
     "text": [
      "Blob already exists and overwrite is set to False.\n",
      "Blob already exists and overwrite is set to False.\n"
     ]
    },
    {
     "name": "stderr",
     "output_type": "stream",
     "text": [
      "2023-08-31 21:36:12,024 - distributed.worker.memory - WARNING - Worker is at 82% memory usage. Pausing worker.  Process memory: 8.82 GiB -- Worker memory limit: 10.67 GiB\n",
      "2023-08-31 21:36:12,206 - distributed.worker.memory - WARNING - Worker is at 73% memory usage. Resuming worker. Process memory: 7.86 GiB -- Worker memory limit: 10.67 GiB\n",
      "2023-08-31 21:36:13,246 - distributed.worker.memory - WARNING - Worker is at 87% memory usage. Pausing worker.  Process memory: 9.35 GiB -- Worker memory limit: 10.67 GiB\n",
      "2023-08-31 21:36:13,390 - distributed.worker.memory - WARNING - Worker is at 68% memory usage. Resuming worker. Process memory: 7.35 GiB -- Worker memory limit: 10.67 GiB\n"
     ]
    },
    {
     "name": "stdout",
     "output_type": "stream",
     "text": [
      "Blob already exists and overwrite is set to False.\n",
      "Blob already exists and overwrite is set to False.\n"
     ]
    },
    {
     "name": "stderr",
     "output_type": "stream",
     "text": [
      "2023-08-31 21:36:17,882 - distributed.worker.memory - WARNING - Unmanaged memory use is high. This may indicate a memory leak or the memory may not be released to the OS; see https://distributed.dask.org/en/latest/worker-memory.html#memory-not-released-back-to-the-os for more information. -- Unmanaged memory: 7.47 GiB -- Worker memory limit: 10.67 GiB\n",
      "2023-08-31 21:36:19,594 - distributed.worker.memory - WARNING - Unmanaged memory use is high. This may indicate a memory leak or the memory may not be released to the OS; see https://distributed.dask.org/en/latest/worker-memory.html#memory-not-released-back-to-the-os for more information. -- Unmanaged memory: 6.51 GiB -- Worker memory limit: 10.67 GiB\n"
     ]
    },
    {
     "name": "stdout",
     "output_type": "stream",
     "text": [
      "Blob already exists and overwrite is set to False.\n"
     ]
    },
    {
     "name": "stderr",
     "output_type": "stream",
     "text": [
      "2023-08-31 21:36:20,726 - distributed.worker.memory - WARNING - Worker is at 81% memory usage. Pausing worker.  Process memory: 8.72 GiB -- Worker memory limit: 10.67 GiB\n",
      "2023-08-31 21:36:20,866 - distributed.worker.memory - WARNING - Unmanaged memory use is high. This may indicate a memory leak or the memory may not be released to the OS; see https://distributed.dask.org/en/latest/worker-memory.html#memory-not-released-back-to-the-os for more information. -- Unmanaged memory: 7.74 GiB -- Worker memory limit: 10.67 GiB\n",
      "2023-08-31 21:36:20,985 - distributed.worker.memory - WARNING - Worker is at 72% memory usage. Resuming worker. Process memory: 7.72 GiB -- Worker memory limit: 10.67 GiB\n",
      "2023-08-31 21:36:20,985 - distributed.worker.memory - WARNING - Unmanaged memory use is high. This may indicate a memory leak or the memory may not be released to the OS; see https://distributed.dask.org/en/latest/worker-memory.html#memory-not-released-back-to-the-os for more information. -- Unmanaged memory: 7.72 GiB -- Worker memory limit: 10.67 GiB\n"
     ]
    },
    {
     "name": "stdout",
     "output_type": "stream",
     "text": [
      "Blob already exists and overwrite is set to False.\n",
      "Blob already exists and overwrite is set to False.\n"
     ]
    },
    {
     "name": "stderr",
     "output_type": "stream",
     "text": [
      "2023-08-31 21:36:21,850 - distributed.worker.memory - WARNING - Worker is at 82% memory usage. Pausing worker.  Process memory: 8.85 GiB -- Worker memory limit: 10.67 GiB\n",
      "2023-08-31 21:36:22,060 - distributed.worker.memory - WARNING - Worker is at 64% memory usage. Resuming worker. Process memory: 6.85 GiB -- Worker memory limit: 10.67 GiB\n"
     ]
    },
    {
     "name": "stdout",
     "output_type": "stream",
     "text": [
      "Blob already exists and overwrite is set to False.\n",
      "Blob already exists and overwrite is set to False.\n",
      "Blob already exists and overwrite is set to False.\n"
     ]
    },
    {
     "name": "stderr",
     "output_type": "stream",
     "text": [
      "2023-08-31 21:36:26,360 - distributed.worker.memory - WARNING - Unmanaged memory use is high. This may indicate a memory leak or the memory may not be released to the OS; see https://distributed.dask.org/en/latest/worker-memory.html#memory-not-released-back-to-the-os for more information. -- Unmanaged memory: 6.51 GiB -- Worker memory limit: 10.67 GiB\n",
      "2023-08-31 21:36:26,968 - distributed.worker.memory - WARNING - Worker is at 82% memory usage. Pausing worker.  Process memory: 8.80 GiB -- Worker memory limit: 10.67 GiB\n",
      "2023-08-31 21:36:27,054 - distributed.worker.memory - WARNING - Worker is at 65% memory usage. Resuming worker. Process memory: 6.97 GiB -- Worker memory limit: 10.67 GiB\n"
     ]
    },
    {
     "name": "stdout",
     "output_type": "stream",
     "text": [
      "Blob already exists and overwrite is set to False.\n"
     ]
    },
    {
     "name": "stderr",
     "output_type": "stream",
     "text": [
      "2023-08-31 21:36:27,448 - distributed.worker.memory - WARNING - Unmanaged memory use is high. This may indicate a memory leak or the memory may not be released to the OS; see https://distributed.dask.org/en/latest/worker-memory.html#memory-not-released-back-to-the-os for more information. -- Unmanaged memory: 7.03 GiB -- Worker memory limit: 10.67 GiB\n",
      "2023-08-31 21:36:30,730 - distributed.worker.memory - WARNING - Unmanaged memory use is high. This may indicate a memory leak or the memory may not be released to the OS; see https://distributed.dask.org/en/latest/worker-memory.html#memory-not-released-back-to-the-os for more information. -- Unmanaged memory: 6.50 GiB -- Worker memory limit: 10.67 GiB\n",
      "2023-08-31 21:36:32,728 - distributed.worker.memory - WARNING - Unmanaged memory use is high. This may indicate a memory leak or the memory may not be released to the OS; see https://distributed.dask.org/en/latest/worker-memory.html#memory-not-released-back-to-the-os for more information. -- Unmanaged memory: 7.02 GiB -- Worker memory limit: 10.67 GiB\n"
     ]
    },
    {
     "name": "stdout",
     "output_type": "stream",
     "text": [
      "Blob already exists and overwrite is set to False.\n"
     ]
    },
    {
     "name": "stderr",
     "output_type": "stream",
     "text": [
      "2023-08-31 21:36:34,317 - distributed.worker.memory - WARNING - Worker is at 85% memory usage. Pausing worker.  Process memory: 9.07 GiB -- Worker memory limit: 10.67 GiB\n",
      "2023-08-31 21:36:34,557 - distributed.worker.memory - WARNING - Worker is at 75% memory usage. Resuming worker. Process memory: 8.11 GiB -- Worker memory limit: 10.67 GiB\n",
      "2023-08-31 21:36:35,005 - distributed.worker.memory - WARNING - Unmanaged memory use is high. This may indicate a memory leak or the memory may not be released to the OS; see https://distributed.dask.org/en/latest/worker-memory.html#memory-not-released-back-to-the-os for more information. -- Unmanaged memory: 8.00 GiB -- Worker memory limit: 10.67 GiB\n"
     ]
    },
    {
     "name": "stdout",
     "output_type": "stream",
     "text": [
      "Blob already exists and overwrite is set to False.\n",
      "Blob already exists and overwrite is set to False.\n"
     ]
    },
    {
     "name": "stderr",
     "output_type": "stream",
     "text": [
      "2023-08-31 21:36:36,646 - distributed.worker.memory - WARNING - Worker is at 92% memory usage. Pausing worker.  Process memory: 9.84 GiB -- Worker memory limit: 10.67 GiB\n",
      "2023-08-31 21:36:37,118 - distributed.worker.memory - WARNING - Worker is at 73% memory usage. Resuming worker. Process memory: 7.86 GiB -- Worker memory limit: 10.67 GiB\n",
      "2023-08-31 21:36:38,417 - distributed.worker.memory - WARNING - Worker is at 83% memory usage. Pausing worker.  Process memory: 8.91 GiB -- Worker memory limit: 10.67 GiB\n",
      "2023-08-31 21:36:38,651 - distributed.worker.memory - WARNING - Worker is at 77% memory usage. Resuming worker. Process memory: 8.22 GiB -- Worker memory limit: 10.67 GiB\n",
      "2023-08-31 21:36:38,671 - distributed.worker.memory - WARNING - Unmanaged memory use is high. This may indicate a memory leak or the memory may not be released to the OS; see https://distributed.dask.org/en/latest/worker-memory.html#memory-not-released-back-to-the-os for more information. -- Unmanaged memory: 7.53 GiB -- Worker memory limit: 10.67 GiB\n"
     ]
    },
    {
     "name": "stdout",
     "output_type": "stream",
     "text": [
      "Blob already exists and overwrite is set to False.\n"
     ]
    },
    {
     "name": "stderr",
     "output_type": "stream",
     "text": [
      "2023-08-31 21:36:39,157 - distributed.worker.memory - WARNING - Worker is at 83% memory usage. Pausing worker.  Process memory: 8.95 GiB -- Worker memory limit: 10.67 GiB\n",
      "2023-08-31 21:36:39,358 - distributed.worker.memory - WARNING - Worker is at 75% memory usage. Resuming worker. Process memory: 8.11 GiB -- Worker memory limit: 10.67 GiB\n",
      "2023-08-31 21:36:39,356 - distributed.worker - ERROR - Worker stream died during communication: tcp://127.0.0.1:51562\n",
      "Traceback (most recent call last):\n",
      "  File \"/Users/calkoen/mambaforge/envs/testenv/lib/python3.11/site-packages/distributed/worker.py\", line 2053, in gather_dep\n",
      "    response = await get_data_from_worker(\n",
      "               ^^^^^^^^^^^^^^^^^^^^^^^^^^^\n",
      "  File \"/Users/calkoen/mambaforge/envs/testenv/lib/python3.11/site-packages/distributed/worker.py\", line 2902, in get_data_from_worker\n",
      "    response = await send_recv(\n",
      "               ^^^^^^^^^^^^^^^^\n",
      "  File \"/Users/calkoen/mambaforge/envs/testenv/lib/python3.11/site-packages/distributed/core.py\", line 1136, in send_recv\n",
      "    response = await comm.read(deserializers=deserializers)\n",
      "               ^^^^^^^^^^^^^^^^^^^^^^^^^^^^^^^^^^^^^^^^^^^^\n",
      "  File \"/Users/calkoen/mambaforge/envs/testenv/lib/python3.11/site-packages/distributed/comm/tcp.py\", line 235, in read\n",
      "    n = await stream.read_into(chunk)\n",
      "              ^^^^^^^^^^^^^^^^^^^^^^^\n",
      "  File \"/Users/calkoen/mambaforge/envs/testenv/lib/python3.11/site-packages/tornado/iostream.py\", line 467, in read_into\n",
      "    self._try_inline_read()\n",
      "  File \"/Users/calkoen/mambaforge/envs/testenv/lib/python3.11/site-packages/tornado/iostream.py\", line 836, in _try_inline_read\n",
      "    pos = self._read_to_buffer_loop()\n",
      "          ^^^^^^^^^^^^^^^^^^^^^^^^^^^\n",
      "  File \"/Users/calkoen/mambaforge/envs/testenv/lib/python3.11/site-packages/tornado/iostream.py\", line 750, in _read_to_buffer_loop\n",
      "    if self._read_to_buffer() == 0:\n",
      "       ^^^^^^^^^^^^^^^^^^^^^^\n",
      "  File \"/Users/calkoen/mambaforge/envs/testenv/lib/python3.11/site-packages/tornado/iostream.py\", line 861, in _read_to_buffer\n",
      "    bytes_read = self.read_from_fd(buf)\n",
      "                 ^^^^^^^^^^^^^^^^^^^^^^\n",
      "  File \"/Users/calkoen/mambaforge/envs/testenv/lib/python3.11/site-packages/tornado/iostream.py\", line 1116, in read_from_fd\n",
      "    return self.socket.recv_into(buf, len(buf))\n",
      "           ^^^^^^^^^^^^^^^^^^^^^^^^^^^^^^^^^^^^\n",
      "OSError: [Errno 22] Invalid argument\n",
      "2023-08-31 21:36:39,694 - distributed.worker - ERROR - failed during get data with tcp://127.0.0.1:51562 -> tcp://127.0.0.1:51466\n",
      "Traceback (most recent call last):\n",
      "  File \"/Users/calkoen/mambaforge/envs/testenv/lib/python3.11/site-packages/tornado/iostream.py\", line 962, in _handle_write\n",
      "    num_bytes = self.write_to_fd(self._write_buffer.peek(size))\n",
      "                ^^^^^^^^^^^^^^^^^^^^^^^^^^^^^^^^^^^^^^^^^^^^^^^\n",
      "  File \"/Users/calkoen/mambaforge/envs/testenv/lib/python3.11/site-packages/tornado/iostream.py\", line 1124, in write_to_fd\n",
      "    return self.socket.send(data)  # type: ignore\n",
      "           ^^^^^^^^^^^^^^^^^^^^^^\n",
      "BrokenPipeError: [Errno 32] Broken pipe\n",
      "\n",
      "The above exception was the direct cause of the following exception:\n",
      "\n",
      "Traceback (most recent call last):\n",
      "  File \"/Users/calkoen/mambaforge/envs/testenv/lib/python3.11/site-packages/distributed/worker.py\", line 1780, in get_data\n",
      "    response = await comm.read(deserializers=serializers)\n",
      "               ^^^^^^^^^^^^^^^^^^^^^^^^^^^^^^^^^^^^^^^^^^\n",
      "  File \"/Users/calkoen/mambaforge/envs/testenv/lib/python3.11/site-packages/distributed/comm/tcp.py\", line 241, in read\n",
      "    convert_stream_closed_error(self, e)\n",
      "  File \"/Users/calkoen/mambaforge/envs/testenv/lib/python3.11/site-packages/distributed/comm/tcp.py\", line 142, in convert_stream_closed_error\n",
      "    raise CommClosedError(f\"in {obj}: {exc.__class__.__name__}: {exc}\") from exc\n",
      "distributed.comm.core.CommClosedError: in <TCP (closed)  local=tcp://127.0.0.1:51562 remote=tcp://127.0.0.1:51606>: BrokenPipeError: [Errno 32] Broken pipe\n",
      "2023-08-31 21:36:39,976 - distributed.nanny.memory - WARNING - Worker tcp://127.0.0.1:51466 (pid=48457) exceeded 95% memory budget. Restarting...\n",
      "2023-08-31 21:36:40,170 - distributed.worker - ERROR - Worker stream died during communication: tcp://127.0.0.1:51466\n",
      "Traceback (most recent call last):\n",
      "  File \"/Users/calkoen/mambaforge/envs/testenv/lib/python3.11/site-packages/distributed/comm/tcp.py\", line 225, in read\n",
      "    frames_nbytes = await stream.read_bytes(fmt_size)\n",
      "                    ^^^^^^^^^^^^^^^^^^^^^^^^^^^^^^^^^\n",
      "tornado.iostream.StreamClosedError: Stream is closed\n",
      "\n",
      "The above exception was the direct cause of the following exception:\n",
      "\n",
      "Traceback (most recent call last):\n",
      "  File \"/Users/calkoen/mambaforge/envs/testenv/lib/python3.11/site-packages/distributed/worker.py\", line 2053, in gather_dep\n",
      "    response = await get_data_from_worker(\n",
      "               ^^^^^^^^^^^^^^^^^^^^^^^^^^^\n",
      "  File \"/Users/calkoen/mambaforge/envs/testenv/lib/python3.11/site-packages/distributed/worker.py\", line 2902, in get_data_from_worker\n",
      "    response = await send_recv(\n",
      "               ^^^^^^^^^^^^^^^^\n",
      "  File \"/Users/calkoen/mambaforge/envs/testenv/lib/python3.11/site-packages/distributed/core.py\", line 1136, in send_recv\n",
      "    response = await comm.read(deserializers=deserializers)\n",
      "               ^^^^^^^^^^^^^^^^^^^^^^^^^^^^^^^^^^^^^^^^^^^^\n",
      "  File \"/Users/calkoen/mambaforge/envs/testenv/lib/python3.11/site-packages/distributed/comm/tcp.py\", line 241, in read\n",
      "    convert_stream_closed_error(self, e)\n",
      "  File \"/Users/calkoen/mambaforge/envs/testenv/lib/python3.11/site-packages/distributed/comm/tcp.py\", line 144, in convert_stream_closed_error\n",
      "    raise CommClosedError(f\"in {obj}: {exc}\") from exc\n",
      "distributed.comm.core.CommClosedError: in <TCP (closed) Ephemeral Worker->Worker for gather local=tcp://127.0.0.1:51570 remote=tcp://127.0.0.1:51466>: Stream is closed\n",
      "2023-08-31 21:36:40,202 - distributed.nanny - WARNING - Restarting worker\n",
      "2023-08-31 21:36:40,747 - distributed.worker.memory - WARNING - Unmanaged memory use is high. This may indicate a memory leak or the memory may not be released to the OS; see https://distributed.dask.org/en/latest/worker-memory.html#memory-not-released-back-to-the-os for more information. -- Unmanaged memory: 8.28 GiB -- Worker memory limit: 10.67 GiB\n"
     ]
    },
    {
     "name": "stdout",
     "output_type": "stream",
     "text": [
      "Blob already exists and overwrite is set to False.\n"
     ]
    },
    {
     "name": "stderr",
     "output_type": "stream",
     "text": [
      "2023-08-31 21:36:41,804 - distributed.worker.memory - WARNING - Unmanaged memory use is high. This may indicate a memory leak or the memory may not be released to the OS; see https://distributed.dask.org/en/latest/worker-memory.html#memory-not-released-back-to-the-os for more information. -- Unmanaged memory: 8.28 GiB -- Worker memory limit: 10.67 GiB\n"
     ]
    },
    {
     "name": "stdout",
     "output_type": "stream",
     "text": [
      "Blob already exists and overwrite is set to False.\n",
      "Blob already exists and overwrite is set to False.\n",
      "Blob already exists and overwrite is set to False.\n"
     ]
    },
    {
     "name": "stderr",
     "output_type": "stream",
     "text": [
      "2023-08-31 21:36:45,160 - distributed.worker.memory - WARNING - Unmanaged memory use is high. This may indicate a memory leak or the memory may not be released to the OS; see https://distributed.dask.org/en/latest/worker-memory.html#memory-not-released-back-to-the-os for more information. -- Unmanaged memory: 8.31 GiB -- Worker memory limit: 10.67 GiB\n"
     ]
    },
    {
     "name": "stdout",
     "output_type": "stream",
     "text": [
      "Blob already exists and overwrite is set to False.\n"
     ]
    },
    {
     "name": "stderr",
     "output_type": "stream",
     "text": [
      "2023-08-31 21:36:46,101 - distributed.worker.memory - WARNING - Unmanaged memory use is high. This may indicate a memory leak or the memory may not be released to the OS; see https://distributed.dask.org/en/latest/worker-memory.html#memory-not-released-back-to-the-os for more information. -- Unmanaged memory: 7.08 GiB -- Worker memory limit: 10.67 GiB\n",
      "2023-08-31 21:36:48,348 - distributed.worker.memory - WARNING - Worker is at 80% memory usage. Pausing worker.  Process memory: 8.54 GiB -- Worker memory limit: 10.67 GiB\n",
      "2023-08-31 21:36:48,715 - distributed.worker.memory - WARNING - Unmanaged memory use is high. This may indicate a memory leak or the memory may not be released to the OS; see https://distributed.dask.org/en/latest/worker-memory.html#memory-not-released-back-to-the-os for more information. -- Unmanaged memory: 7.54 GiB -- Worker memory limit: 10.67 GiB\n",
      "2023-08-31 21:36:51,055 - distributed.worker.memory - WARNING - Worker is at 73% memory usage. Resuming worker. Process memory: 7.84 GiB -- Worker memory limit: 10.67 GiB\n",
      "2023-08-31 21:36:51,055 - distributed.worker.memory - WARNING - Unmanaged memory use is high. This may indicate a memory leak or the memory may not be released to the OS; see https://distributed.dask.org/en/latest/worker-memory.html#memory-not-released-back-to-the-os for more information. -- Unmanaged memory: 7.84 GiB -- Worker memory limit: 10.67 GiB\n"
     ]
    },
    {
     "name": "stdout",
     "output_type": "stream",
     "text": [
      "Blob already exists and overwrite is set to False.\n"
     ]
    },
    {
     "name": "stderr",
     "output_type": "stream",
     "text": [
      "2023-08-31 21:36:51,728 - distributed.worker.memory - WARNING - Worker is at 91% memory usage. Pausing worker.  Process memory: 9.73 GiB -- Worker memory limit: 10.67 GiB\n"
     ]
    },
    {
     "name": "stdout",
     "output_type": "stream",
     "text": [
      "Blob already exists and overwrite is set to False.\n",
      "Blob already exists and overwrite is set to False.\n"
     ]
    },
    {
     "name": "stderr",
     "output_type": "stream",
     "text": [
      "2023-08-31 21:36:55,748 - distributed.worker.memory - WARNING - Worker is at 79% memory usage. Resuming worker. Process memory: 8.50 GiB -- Worker memory limit: 10.67 GiB\n",
      "2023-08-31 21:36:55,926 - distributed.worker.memory - WARNING - Unmanaged memory use is high. This may indicate a memory leak or the memory may not be released to the OS; see https://distributed.dask.org/en/latest/worker-memory.html#memory-not-released-back-to-the-os for more information. -- Unmanaged memory: 7.80 GiB -- Worker memory limit: 10.67 GiB\n"
     ]
    },
    {
     "name": "stdout",
     "output_type": "stream",
     "text": [
      "Blob already exists and overwrite is set to False.\n"
     ]
    },
    {
     "name": "stderr",
     "output_type": "stream",
     "text": [
      "2023-08-31 21:36:56,271 - distributed.worker.memory - WARNING - Worker is at 83% memory usage. Pausing worker.  Process memory: 8.93 GiB -- Worker memory limit: 10.67 GiB\n",
      "2023-08-31 21:36:56,565 - distributed.worker.memory - WARNING - Unmanaged memory use is high. This may indicate a memory leak or the memory may not be released to the OS; see https://distributed.dask.org/en/latest/worker-memory.html#memory-not-released-back-to-the-os for more information. -- Unmanaged memory: 6.71 GiB -- Worker memory limit: 10.67 GiB\n",
      "2023-08-31 21:36:56,654 - distributed.worker.memory - WARNING - Worker is at 77% memory usage. Resuming worker. Process memory: 8.31 GiB -- Worker memory limit: 10.67 GiB\n",
      "2023-08-31 21:36:57,336 - distributed.worker.memory - WARNING - Unmanaged memory use is high. This may indicate a memory leak or the memory may not be released to the OS; see https://distributed.dask.org/en/latest/worker-memory.html#memory-not-released-back-to-the-os for more information. -- Unmanaged memory: 7.17 GiB -- Worker memory limit: 10.67 GiB\n",
      "2023-08-31 21:36:57,456 - distributed.worker.memory - WARNING - Worker is at 87% memory usage. Pausing worker.  Process memory: 9.31 GiB -- Worker memory limit: 10.67 GiB\n",
      "2023-08-31 21:36:57,948 - distributed.worker.memory - WARNING - Worker is at 77% memory usage. Resuming worker. Process memory: 8.23 GiB -- Worker memory limit: 10.67 GiB\n",
      "2023-08-31 21:36:58,149 - distributed.worker.memory - WARNING - Worker is at 82% memory usage. Pausing worker.  Process memory: 8.84 GiB -- Worker memory limit: 10.67 GiB\n",
      "2023-08-31 21:36:58,366 - distributed.worker.memory - WARNING - Worker is at 77% memory usage. Resuming worker. Process memory: 8.23 GiB -- Worker memory limit: 10.67 GiB\n",
      "2023-08-31 21:36:58,648 - distributed.worker.memory - WARNING - Worker is at 84% memory usage. Pausing worker.  Process memory: 9.05 GiB -- Worker memory limit: 10.67 GiB\n",
      "2023-08-31 21:36:59,398 - distributed.worker.memory - WARNING - Worker is at 82% memory usage. Pausing worker.  Process memory: 8.82 GiB -- Worker memory limit: 10.67 GiB\n",
      "2023-08-31 21:36:59,640 - distributed.worker.memory - WARNING - Worker is at 72% memory usage. Resuming worker. Process memory: 7.73 GiB -- Worker memory limit: 10.67 GiB\n",
      "2023-08-31 21:37:03,591 - distributed.worker.memory - WARNING - Worker is at 79% memory usage. Resuming worker. Process memory: 8.51 GiB -- Worker memory limit: 10.67 GiB\n",
      "2023-08-31 21:37:03,597 - distributed.worker.memory - WARNING - Unmanaged memory use is high. This may indicate a memory leak or the memory may not be released to the OS; see https://distributed.dask.org/en/latest/worker-memory.html#memory-not-released-back-to-the-os for more information. -- Unmanaged memory: 8.51 GiB -- Worker memory limit: 10.67 GiB\n",
      "2023-08-31 21:37:04,148 - distributed.worker.memory - WARNING - Worker is at 80% memory usage. Pausing worker.  Process memory: 8.58 GiB -- Worker memory limit: 10.67 GiB\n"
     ]
    },
    {
     "name": "stdout",
     "output_type": "stream",
     "text": [
      "Blob already exists and overwrite is set to False.\n"
     ]
    },
    {
     "name": "stderr",
     "output_type": "stream",
     "text": [
      "2023-08-31 21:37:06,482 - distributed.worker.memory - WARNING - Unmanaged memory use is high. This may indicate a memory leak or the memory may not be released to the OS; see https://distributed.dask.org/en/latest/worker-memory.html#memory-not-released-back-to-the-os for more information. -- Unmanaged memory: 7.50 GiB -- Worker memory limit: 10.67 GiB\n",
      "2023-08-31 21:37:07,398 - distributed.worker.memory - WARNING - Unmanaged memory use is high. This may indicate a memory leak or the memory may not be released to the OS; see https://distributed.dask.org/en/latest/worker-memory.html#memory-not-released-back-to-the-os for more information. -- Unmanaged memory: 7.68 GiB -- Worker memory limit: 10.67 GiB\n"
     ]
    },
    {
     "name": "stdout",
     "output_type": "stream",
     "text": [
      "Blob already exists and overwrite is set to False.\n"
     ]
    },
    {
     "name": "stderr",
     "output_type": "stream",
     "text": [
      "2023-08-31 21:37:08,948 - distributed.worker.memory - WARNING - Worker is at 79% memory usage. Resuming worker. Process memory: 8.47 GiB -- Worker memory limit: 10.67 GiB\n",
      "2023-08-31 21:37:09,450 - distributed.worker.memory - WARNING - Worker is at 80% memory usage. Pausing worker.  Process memory: 8.53 GiB -- Worker memory limit: 10.67 GiB\n"
     ]
    },
    {
     "name": "stdout",
     "output_type": "stream",
     "text": [
      "Blob already exists and overwrite is set to False.\n"
     ]
    },
    {
     "name": "stderr",
     "output_type": "stream",
     "text": [
      "2023-08-31 21:37:09,948 - distributed.worker.memory - WARNING - Worker is at 79% memory usage. Resuming worker. Process memory: 8.50 GiB -- Worker memory limit: 10.67 GiB\n",
      "2023-08-31 21:37:10,450 - distributed.worker.memory - WARNING - Worker is at 80% memory usage. Pausing worker.  Process memory: 8.54 GiB -- Worker memory limit: 10.67 GiB\n"
     ]
    },
    {
     "name": "stdout",
     "output_type": "stream",
     "text": [
      "Blob already exists and overwrite is set to False.\n",
      "Blob already exists and overwrite is set to False.\n"
     ]
    },
    {
     "name": "stderr",
     "output_type": "stream",
     "text": [
      "2023-08-31 21:37:10,926 - distributed.worker.memory - WARNING - Unmanaged memory use is high. This may indicate a memory leak or the memory may not be released to the OS; see https://distributed.dask.org/en/latest/worker-memory.html#memory-not-released-back-to-the-os for more information. -- Unmanaged memory: 6.75 GiB -- Worker memory limit: 10.67 GiB\n"
     ]
    },
    {
     "name": "stdout",
     "output_type": "stream",
     "text": [
      "Blob already exists and overwrite is set to False.\n",
      "Blob already exists and overwrite is set to False.\n",
      "Blob already exists and overwrite is set to False.\n"
     ]
    },
    {
     "name": "stderr",
     "output_type": "stream",
     "text": [
      "2023-08-31 21:37:12,784 - distributed.worker.memory - WARNING - Worker is at 71% memory usage. Resuming worker. Process memory: 7.57 GiB -- Worker memory limit: 10.67 GiB\n"
     ]
    },
    {
     "name": "stdout",
     "output_type": "stream",
     "text": [
      "Blob already exists and overwrite is set to False.\n"
     ]
    },
    {
     "name": "stderr",
     "output_type": "stream",
     "text": [
      "2023-08-31 21:37:13,713 - distributed.worker.memory - WARNING - Worker is at 85% memory usage. Pausing worker.  Process memory: 9.07 GiB -- Worker memory limit: 10.67 GiB\n",
      "2023-08-31 21:37:13,941 - distributed.worker.memory - WARNING - Unmanaged memory use is high. This may indicate a memory leak or the memory may not be released to the OS; see https://distributed.dask.org/en/latest/worker-memory.html#memory-not-released-back-to-the-os for more information. -- Unmanaged memory: 8.82 GiB -- Worker memory limit: 10.67 GiB\n"
     ]
    },
    {
     "name": "stdout",
     "output_type": "stream",
     "text": [
      "Blob already exists and overwrite is set to False.\n"
     ]
    },
    {
     "name": "stderr",
     "output_type": "stream",
     "text": [
      "2023-08-31 21:37:14,277 - distributed.worker.memory - WARNING - Worker is at 80% memory usage. Pausing worker.  Process memory: 8.58 GiB -- Worker memory limit: 10.67 GiB\n",
      "2023-08-31 21:37:14,339 - distributed.worker.memory - WARNING - Worker is at 56% memory usage. Resuming worker. Process memory: 6.07 GiB -- Worker memory limit: 10.67 GiB\n",
      "2023-08-31 21:37:14,553 - distributed.worker.memory - WARNING - Worker is at 73% memory usage. Resuming worker. Process memory: 7.82 GiB -- Worker memory limit: 10.67 GiB\n"
     ]
    },
    {
     "name": "stdout",
     "output_type": "stream",
     "text": [
      "Blob already exists and overwrite is set to False.\n",
      "Blob already exists and overwrite is set to False.\n",
      "Blob already exists and overwrite is set to False.\n"
     ]
    },
    {
     "name": "stderr",
     "output_type": "stream",
     "text": [
      "2023-08-31 21:37:15,647 - distributed.worker.memory - WARNING - Worker is at 80% memory usage. Pausing worker.  Process memory: 8.60 GiB -- Worker memory limit: 10.67 GiB\n"
     ]
    },
    {
     "name": "stdout",
     "output_type": "stream",
     "text": [
      "Blob already exists and overwrite is set to False.\n"
     ]
    },
    {
     "name": "stderr",
     "output_type": "stream",
     "text": [
      "2023-08-31 21:37:16,582 - distributed.worker.memory - WARNING - Unmanaged memory use is high. This may indicate a memory leak or the memory may not be released to the OS; see https://distributed.dask.org/en/latest/worker-memory.html#memory-not-released-back-to-the-os for more information. -- Unmanaged memory: 7.62 GiB -- Worker memory limit: 10.67 GiB\n",
      "2023-08-31 21:37:19,539 - distributed.worker.memory - WARNING - Unmanaged memory use is high. This may indicate a memory leak or the memory may not be released to the OS; see https://distributed.dask.org/en/latest/worker-memory.html#memory-not-released-back-to-the-os for more information. -- Unmanaged memory: 7.48 GiB -- Worker memory limit: 10.67 GiB\n",
      "2023-08-31 21:37:22,238 - distributed.worker.memory - WARNING - Unmanaged memory use is high. This may indicate a memory leak or the memory may not be released to the OS; see https://distributed.dask.org/en/latest/worker-memory.html#memory-not-released-back-to-the-os for more information. -- Unmanaged memory: 6.84 GiB -- Worker memory limit: 10.67 GiB\n"
     ]
    },
    {
     "name": "stdout",
     "output_type": "stream",
     "text": [
      "Blob already exists and overwrite is set to False.\n"
     ]
    },
    {
     "name": "stderr",
     "output_type": "stream",
     "text": [
      "2023-08-31 21:37:23,948 - distributed.worker.memory - WARNING - Unmanaged memory use is high. This may indicate a memory leak or the memory may not be released to the OS; see https://distributed.dask.org/en/latest/worker-memory.html#memory-not-released-back-to-the-os for more information. -- Unmanaged memory: 9.56 GiB -- Worker memory limit: 10.67 GiB\n"
     ]
    },
    {
     "name": "stdout",
     "output_type": "stream",
     "text": [
      "Blob already exists and overwrite is set to False.\n"
     ]
    },
    {
     "name": "stderr",
     "output_type": "stream",
     "text": [
      "2023-08-31 21:37:25,320 - distributed.worker.memory - WARNING - Worker is at 83% memory usage. Pausing worker.  Process memory: 8.87 GiB -- Worker memory limit: 10.67 GiB\n",
      "2023-08-31 21:37:25,448 - distributed.worker.memory - WARNING - Worker is at 77% memory usage. Resuming worker. Process memory: 8.30 GiB -- Worker memory limit: 10.67 GiB\n",
      "2023-08-31 21:37:25,702 - distributed.worker.memory - WARNING - Worker is at 73% memory usage. Resuming worker. Process memory: 7.86 GiB -- Worker memory limit: 10.67 GiB\n",
      "2023-08-31 21:37:25,869 - distributed.worker.memory - WARNING - Unmanaged memory use is high. This may indicate a memory leak or the memory may not be released to the OS; see https://distributed.dask.org/en/latest/worker-memory.html#memory-not-released-back-to-the-os for more information. -- Unmanaged memory: 7.34 GiB -- Worker memory limit: 10.67 GiB\n"
     ]
    },
    {
     "name": "stdout",
     "output_type": "stream",
     "text": [
      "Blob already exists and overwrite is set to False.\n"
     ]
    },
    {
     "name": "stderr",
     "output_type": "stream",
     "text": [
      "2023-08-31 21:37:26,463 - distributed.worker.memory - WARNING - Worker is at 83% memory usage. Pausing worker.  Process memory: 8.95 GiB -- Worker memory limit: 10.67 GiB\n",
      "2023-08-31 21:37:26,664 - distributed.worker.memory - WARNING - Worker is at 65% memory usage. Resuming worker. Process memory: 6.96 GiB -- Worker memory limit: 10.67 GiB\n"
     ]
    },
    {
     "name": "stdout",
     "output_type": "stream",
     "text": [
      "Blob already exists and overwrite is set to False.\n"
     ]
    },
    {
     "name": "stderr",
     "output_type": "stream",
     "text": [
      "2023-08-31 21:37:26,847 - distributed.worker.memory - WARNING - Worker is at 81% memory usage. Pausing worker.  Process memory: 8.70 GiB -- Worker memory limit: 10.67 GiB\n",
      "2023-08-31 21:37:27,048 - distributed.worker.memory - WARNING - Worker is at 75% memory usage. Resuming worker. Process memory: 8.03 GiB -- Worker memory limit: 10.67 GiB\n",
      "2023-08-31 21:37:27,634 - distributed.worker.memory - WARNING - Worker is at 81% memory usage. Pausing worker.  Process memory: 8.68 GiB -- Worker memory limit: 10.67 GiB\n",
      "2023-08-31 21:37:27,645 - distributed.worker.memory - WARNING - Worker is at 43% memory usage. Resuming worker. Process memory: 4.67 GiB -- Worker memory limit: 10.67 GiB\n",
      "2023-08-31 21:37:28,123 - distributed.worker.memory - WARNING - Unmanaged memory use is high. This may indicate a memory leak or the memory may not be released to the OS; see https://distributed.dask.org/en/latest/worker-memory.html#memory-not-released-back-to-the-os for more information. -- Unmanaged memory: 6.80 GiB -- Worker memory limit: 10.67 GiB\n"
     ]
    },
    {
     "name": "stdout",
     "output_type": "stream",
     "text": [
      "Blob already exists and overwrite is set to False.\n"
     ]
    },
    {
     "name": "stderr",
     "output_type": "stream",
     "text": [
      "2023-08-31 21:37:32,466 - distributed.worker.memory - WARNING - Unmanaged memory use is high. This may indicate a memory leak or the memory may not be released to the OS; see https://distributed.dask.org/en/latest/worker-memory.html#memory-not-released-back-to-the-os for more information. -- Unmanaged memory: 6.64 GiB -- Worker memory limit: 10.67 GiB\n"
     ]
    },
    {
     "name": "stdout",
     "output_type": "stream",
     "text": [
      "Blob already exists and overwrite is set to False.\n"
     ]
    },
    {
     "name": "stderr",
     "output_type": "stream",
     "text": [
      "2023-08-31 21:37:34,480 - distributed.nanny.memory - WARNING - Worker tcp://127.0.0.1:51562 (pid=48626) exceeded 95% memory budget. Restarting...\n",
      "2023-08-31 21:37:34,659 - distributed.nanny - WARNING - Restarting worker\n",
      "2023-08-31 21:37:35,896 - distributed.worker.memory - WARNING - Unmanaged memory use is high. This may indicate a memory leak or the memory may not be released to the OS; see https://distributed.dask.org/en/latest/worker-memory.html#memory-not-released-back-to-the-os for more information. -- Unmanaged memory: 6.70 GiB -- Worker memory limit: 10.67 GiB\n",
      "2023-08-31 21:37:38,214 - distributed.worker.memory - WARNING - Unmanaged memory use is high. This may indicate a memory leak or the memory may not be released to the OS; see https://distributed.dask.org/en/latest/worker-memory.html#memory-not-released-back-to-the-os for more information. -- Unmanaged memory: 8.33 GiB -- Worker memory limit: 10.67 GiB\n",
      "2023-08-31 21:37:39,585 - distributed.worker.memory - WARNING - Unmanaged memory use is high. This may indicate a memory leak or the memory may not be released to the OS; see https://distributed.dask.org/en/latest/worker-memory.html#memory-not-released-back-to-the-os for more information. -- Unmanaged memory: 6.49 GiB -- Worker memory limit: 10.67 GiB\n"
     ]
    },
    {
     "name": "stdout",
     "output_type": "stream",
     "text": [
      "Blob already exists and overwrite is set to False.\n"
     ]
    },
    {
     "name": "stderr",
     "output_type": "stream",
     "text": [
      "2023-08-31 21:37:41,585 - distributed.worker.memory - WARNING - Worker is at 81% memory usage. Pausing worker.  Process memory: 8.70 GiB -- Worker memory limit: 10.67 GiB\n",
      "2023-08-31 21:37:41,807 - distributed.worker.memory - WARNING - Worker is at 62% memory usage. Resuming worker. Process memory: 6.71 GiB -- Worker memory limit: 10.67 GiB\n",
      "2023-08-31 21:37:41,854 - distributed.worker.memory - WARNING - Worker is at 80% memory usage. Pausing worker.  Process memory: 8.55 GiB -- Worker memory limit: 10.67 GiB\n",
      "2023-08-31 21:37:41,914 - distributed.worker.memory - WARNING - Worker is at 52% memory usage. Resuming worker. Process memory: 5.62 GiB -- Worker memory limit: 10.67 GiB\n"
     ]
    },
    {
     "name": "stdout",
     "output_type": "stream",
     "text": [
      "Blob already exists and overwrite is set to False.\n",
      "Blob already exists and overwrite is set to False.\n",
      "Blob already exists and overwrite is set to False.\n"
     ]
    },
    {
     "name": "stderr",
     "output_type": "stream",
     "text": [
      "2023-08-31 21:37:46,087 - distributed.worker.memory - WARNING - Unmanaged memory use is high. This may indicate a memory leak or the memory may not be released to the OS; see https://distributed.dask.org/en/latest/worker-memory.html#memory-not-released-back-to-the-os for more information. -- Unmanaged memory: 6.57 GiB -- Worker memory limit: 10.67 GiB\n",
      "2023-08-31 21:37:46,627 - distributed.worker.memory - WARNING - Unmanaged memory use is high. This may indicate a memory leak or the memory may not be released to the OS; see https://distributed.dask.org/en/latest/worker-memory.html#memory-not-released-back-to-the-os for more information. -- Unmanaged memory: 6.73 GiB -- Worker memory limit: 10.67 GiB\n",
      "2023-08-31 21:37:48,683 - distributed.worker.memory - WARNING - Unmanaged memory use is high. This may indicate a memory leak or the memory may not be released to the OS; see https://distributed.dask.org/en/latest/worker-memory.html#memory-not-released-back-to-the-os for more information. -- Unmanaged memory: 7.48 GiB -- Worker memory limit: 10.67 GiB\n",
      "2023-08-31 21:37:49,592 - distributed.worker.memory - WARNING - Unmanaged memory use is high. This may indicate a memory leak or the memory may not be released to the OS; see https://distributed.dask.org/en/latest/worker-memory.html#memory-not-released-back-to-the-os for more information. -- Unmanaged memory: 8.05 GiB -- Worker memory limit: 10.67 GiB\n",
      "2023-08-31 21:37:52,128 - distributed.worker.memory - WARNING - Worker is at 85% memory usage. Pausing worker.  Process memory: 9.13 GiB -- Worker memory limit: 10.67 GiB\n",
      "2023-08-31 21:37:52,316 - distributed.worker.memory - WARNING - Worker is at 66% memory usage. Resuming worker. Process memory: 7.13 GiB -- Worker memory limit: 10.67 GiB\n",
      "2023-08-31 21:37:54,002 - distributed.worker.memory - WARNING - Worker is at 80% memory usage. Pausing worker.  Process memory: 8.58 GiB -- Worker memory limit: 10.67 GiB\n",
      "2023-08-31 21:37:54,082 - distributed.worker.memory - WARNING - Worker is at 72% memory usage. Resuming worker. Process memory: 7.73 GiB -- Worker memory limit: 10.67 GiB\n"
     ]
    },
    {
     "name": "stdout",
     "output_type": "stream",
     "text": [
      "Blob already exists and overwrite is set to False.\n",
      "Blob already exists and overwrite is set to False.\n",
      "Blob already exists and overwrite is set to False.\n"
     ]
    },
    {
     "name": "stderr",
     "output_type": "stream",
     "text": [
      "2023-08-31 21:37:56,789 - distributed.worker.memory - WARNING - Unmanaged memory use is high. This may indicate a memory leak or the memory may not be released to the OS; see https://distributed.dask.org/en/latest/worker-memory.html#memory-not-released-back-to-the-os for more information. -- Unmanaged memory: 7.61 GiB -- Worker memory limit: 10.67 GiB\n"
     ]
    },
    {
     "name": "stdout",
     "output_type": "stream",
     "text": [
      "Blob already exists and overwrite is set to False.\n"
     ]
    },
    {
     "name": "stderr",
     "output_type": "stream",
     "text": [
      "2023-08-31 21:37:57,325 - distributed.worker.memory - WARNING - Unmanaged memory use is high. This may indicate a memory leak or the memory may not be released to the OS; see https://distributed.dask.org/en/latest/worker-memory.html#memory-not-released-back-to-the-os for more information. -- Unmanaged memory: 8.03 GiB -- Worker memory limit: 10.67 GiB\n"
     ]
    },
    {
     "name": "stdout",
     "output_type": "stream",
     "text": [
      "Blob already exists and overwrite is set to False.\n",
      "Blob already exists and overwrite is set to False.\n"
     ]
    },
    {
     "name": "stderr",
     "output_type": "stream",
     "text": [
      "2023-08-31 21:37:58,775 - distributed.nanny.memory - WARNING - Worker tcp://127.0.0.1:51525 (pid=48535) exceeded 95% memory budget. Restarting...\n",
      "2023-08-31 21:37:58,962 - distributed.worker - ERROR - failed during get data with tcp://127.0.0.1:51682 -> tcp://127.0.0.1:51525\n",
      "Traceback (most recent call last):\n",
      "  File \"/Users/calkoen/mambaforge/envs/testenv/lib/python3.11/site-packages/tornado/iostream.py\", line 962, in _handle_write\n",
      "    num_bytes = self.write_to_fd(self._write_buffer.peek(size))\n",
      "                ^^^^^^^^^^^^^^^^^^^^^^^^^^^^^^^^^^^^^^^^^^^^^^^\n",
      "  File \"/Users/calkoen/mambaforge/envs/testenv/lib/python3.11/site-packages/tornado/iostream.py\", line 1124, in write_to_fd\n",
      "    return self.socket.send(data)  # type: ignore\n",
      "           ^^^^^^^^^^^^^^^^^^^^^^\n",
      "BrokenPipeError: [Errno 32] Broken pipe\n",
      "\n",
      "The above exception was the direct cause of the following exception:\n",
      "\n",
      "Traceback (most recent call last):\n",
      "  File \"/Users/calkoen/mambaforge/envs/testenv/lib/python3.11/site-packages/distributed/worker.py\", line 1780, in get_data\n",
      "    response = await comm.read(deserializers=serializers)\n",
      "               ^^^^^^^^^^^^^^^^^^^^^^^^^^^^^^^^^^^^^^^^^^\n",
      "  File \"/Users/calkoen/mambaforge/envs/testenv/lib/python3.11/site-packages/distributed/comm/tcp.py\", line 241, in read\n",
      "    convert_stream_closed_error(self, e)\n",
      "  File \"/Users/calkoen/mambaforge/envs/testenv/lib/python3.11/site-packages/distributed/comm/tcp.py\", line 142, in convert_stream_closed_error\n",
      "    raise CommClosedError(f\"in {obj}: {exc.__class__.__name__}: {exc}\") from exc\n",
      "distributed.comm.core.CommClosedError: in <TCP (closed)  local=tcp://127.0.0.1:51682 remote=tcp://127.0.0.1:51695>: BrokenPipeError: [Errno 32] Broken pipe\n",
      "2023-08-31 21:37:58,963 - distributed.worker - ERROR - Worker stream died during communication: tcp://127.0.0.1:51525\n",
      "Traceback (most recent call last):\n",
      "  File \"/Users/calkoen/mambaforge/envs/testenv/lib/python3.11/site-packages/distributed/comm/tcp.py\", line 235, in read\n",
      "    n = await stream.read_into(chunk)\n",
      "        ^^^^^^^^^^^^^^^^^^^^^^^^^^^^^\n",
      "tornado.iostream.StreamClosedError: Stream is closed\n",
      "\n",
      "The above exception was the direct cause of the following exception:\n",
      "\n",
      "Traceback (most recent call last):\n",
      "  File \"/Users/calkoen/mambaforge/envs/testenv/lib/python3.11/site-packages/distributed/worker.py\", line 2053, in gather_dep\n",
      "    response = await get_data_from_worker(\n",
      "               ^^^^^^^^^^^^^^^^^^^^^^^^^^^\n",
      "  File \"/Users/calkoen/mambaforge/envs/testenv/lib/python3.11/site-packages/distributed/worker.py\", line 2902, in get_data_from_worker\n",
      "    response = await send_recv(\n",
      "               ^^^^^^^^^^^^^^^^\n",
      "  File \"/Users/calkoen/mambaforge/envs/testenv/lib/python3.11/site-packages/distributed/core.py\", line 1136, in send_recv\n",
      "    response = await comm.read(deserializers=deserializers)\n",
      "               ^^^^^^^^^^^^^^^^^^^^^^^^^^^^^^^^^^^^^^^^^^^^\n",
      "  File \"/Users/calkoen/mambaforge/envs/testenv/lib/python3.11/site-packages/distributed/comm/tcp.py\", line 241, in read\n",
      "    convert_stream_closed_error(self, e)\n",
      "  File \"/Users/calkoen/mambaforge/envs/testenv/lib/python3.11/site-packages/distributed/comm/tcp.py\", line 144, in convert_stream_closed_error\n",
      "    raise CommClosedError(f\"in {obj}: {exc}\") from exc\n",
      "distributed.comm.core.CommClosedError: in <TCP (closed) Ephemeral Worker->Worker for gather local=tcp://127.0.0.1:51836 remote=tcp://127.0.0.1:51525>: Stream is closed\n",
      "2023-08-31 21:37:58,976 - distributed.nanny - WARNING - Restarting worker\n",
      "2023-08-31 21:37:59,583 - distributed.worker.memory - WARNING - Unmanaged memory use is high. This may indicate a memory leak or the memory may not be released to the OS; see https://distributed.dask.org/en/latest/worker-memory.html#memory-not-released-back-to-the-os for more information. -- Unmanaged memory: 7.47 GiB -- Worker memory limit: 10.67 GiB\n",
      "2023-08-31 21:37:59,592 - distributed.worker.memory - WARNING - Unmanaged memory use is high. This may indicate a memory leak or the memory may not be released to the OS; see https://distributed.dask.org/en/latest/worker-memory.html#memory-not-released-back-to-the-os for more information. -- Unmanaged memory: 7.83 GiB -- Worker memory limit: 10.67 GiB\n"
     ]
    },
    {
     "name": "stdout",
     "output_type": "stream",
     "text": [
      "Blob already exists and overwrite is set to False.\n"
     ]
    },
    {
     "name": "stderr",
     "output_type": "stream",
     "text": [
      "2023-08-31 21:38:02,884 - distributed.worker.memory - WARNING - Worker is at 85% memory usage. Pausing worker.  Process memory: 9.16 GiB -- Worker memory limit: 10.67 GiB\n",
      "2023-08-31 21:38:03,072 - distributed.worker.memory - WARNING - Worker is at 76% memory usage. Resuming worker. Process memory: 8.16 GiB -- Worker memory limit: 10.67 GiB\n"
     ]
    },
    {
     "name": "stdout",
     "output_type": "stream",
     "text": [
      "Blob already exists and overwrite is set to False.\n"
     ]
    },
    {
     "name": "stderr",
     "output_type": "stream",
     "text": [
      "2023-08-31 21:38:04,295 - distributed.worker.memory - WARNING - Unmanaged memory use is high. This may indicate a memory leak or the memory may not be released to the OS; see https://distributed.dask.org/en/latest/worker-memory.html#memory-not-released-back-to-the-os for more information. -- Unmanaged memory: 6.51 GiB -- Worker memory limit: 10.67 GiB\n",
      "2023-08-31 21:38:09,592 - distributed.worker.memory - WARNING - Unmanaged memory use is high. This may indicate a memory leak or the memory may not be released to the OS; see https://distributed.dask.org/en/latest/worker-memory.html#memory-not-released-back-to-the-os for more information. -- Unmanaged memory: 8.01 GiB -- Worker memory limit: 10.67 GiB\n",
      "2023-08-31 21:38:09,682 - distributed.worker.memory - WARNING - Unmanaged memory use is high. This may indicate a memory leak or the memory may not be released to the OS; see https://distributed.dask.org/en/latest/worker-memory.html#memory-not-released-back-to-the-os for more information. -- Unmanaged memory: 7.75 GiB -- Worker memory limit: 10.67 GiB\n",
      "2023-08-31 21:38:11,097 - distributed.worker.memory - WARNING - Worker is at 80% memory usage. Pausing worker.  Process memory: 8.62 GiB -- Worker memory limit: 10.67 GiB\n",
      "2023-08-31 21:38:11,229 - distributed.worker.memory - WARNING - Worker is at 84% memory usage. Pausing worker.  Process memory: 9.05 GiB -- Worker memory limit: 10.67 GiB\n"
     ]
    },
    {
     "name": "stdout",
     "output_type": "stream",
     "text": [
      "Blob already exists and overwrite is set to False.\n"
     ]
    },
    {
     "name": "stderr",
     "output_type": "stream",
     "text": [
      "2023-08-31 21:38:11,318 - distributed.worker.memory - WARNING - Worker is at 71% memory usage. Resuming worker. Process memory: 7.62 GiB -- Worker memory limit: 10.67 GiB\n",
      "2023-08-31 21:38:12,043 - distributed.worker.memory - WARNING - Unmanaged memory use is high. This may indicate a memory leak or the memory may not be released to the OS; see https://distributed.dask.org/en/latest/worker-memory.html#memory-not-released-back-to-the-os for more information. -- Unmanaged memory: 7.10 GiB -- Worker memory limit: 10.67 GiB\n",
      "2023-08-31 21:38:12,161 - distributed.worker.memory - WARNING - Worker is at 80% memory usage. Pausing worker.  Process memory: 8.62 GiB -- Worker memory limit: 10.67 GiB\n"
     ]
    },
    {
     "name": "stdout",
     "output_type": "stream",
     "text": [
      "Blob already exists and overwrite is set to False.\n"
     ]
    },
    {
     "name": "stderr",
     "output_type": "stream",
     "text": [
      "2023-08-31 21:38:12,279 - distributed.worker.memory - WARNING - Worker is at 76% memory usage. Resuming worker. Process memory: 8.14 GiB -- Worker memory limit: 10.67 GiB\n",
      "2023-08-31 21:38:12,325 - distributed.worker.memory - WARNING - Worker is at 60% memory usage. Resuming worker. Process memory: 6.50 GiB -- Worker memory limit: 10.67 GiB\n",
      "2023-08-31 21:38:12,965 - distributed.worker.memory - WARNING - Worker is at 86% memory usage. Pausing worker.  Process memory: 9.24 GiB -- Worker memory limit: 10.67 GiB\n",
      "2023-08-31 21:38:13,576 - distributed.nanny.memory - WARNING - Worker tcp://127.0.0.1:51682 (pid=48862) exceeded 95% memory budget. Restarting...\n",
      "2023-08-31 21:38:13,782 - distributed.worker - ERROR - Worker stream died during communication: tcp://127.0.0.1:51682\n",
      "Traceback (most recent call last):\n",
      "  File \"/Users/calkoen/mambaforge/envs/testenv/lib/python3.11/site-packages/distributed/comm/tcp.py\", line 235, in read\n",
      "    n = await stream.read_into(chunk)\n",
      "        ^^^^^^^^^^^^^^^^^^^^^^^^^^^^^\n",
      "tornado.iostream.StreamClosedError: Stream is closed\n",
      "\n",
      "The above exception was the direct cause of the following exception:\n",
      "\n",
      "Traceback (most recent call last):\n",
      "  File \"/Users/calkoen/mambaforge/envs/testenv/lib/python3.11/site-packages/distributed/worker.py\", line 2053, in gather_dep\n",
      "    response = await get_data_from_worker(\n",
      "               ^^^^^^^^^^^^^^^^^^^^^^^^^^^\n",
      "  File \"/Users/calkoen/mambaforge/envs/testenv/lib/python3.11/site-packages/distributed/worker.py\", line 2902, in get_data_from_worker\n",
      "    response = await send_recv(\n",
      "               ^^^^^^^^^^^^^^^^\n",
      "  File \"/Users/calkoen/mambaforge/envs/testenv/lib/python3.11/site-packages/distributed/core.py\", line 1136, in send_recv\n",
      "    response = await comm.read(deserializers=deserializers)\n",
      "               ^^^^^^^^^^^^^^^^^^^^^^^^^^^^^^^^^^^^^^^^^^^^\n",
      "  File \"/Users/calkoen/mambaforge/envs/testenv/lib/python3.11/site-packages/distributed/comm/tcp.py\", line 241, in read\n",
      "    convert_stream_closed_error(self, e)\n",
      "  File \"/Users/calkoen/mambaforge/envs/testenv/lib/python3.11/site-packages/distributed/comm/tcp.py\", line 144, in convert_stream_closed_error\n",
      "    raise CommClosedError(f\"in {obj}: {exc}\") from exc\n",
      "distributed.comm.core.CommClosedError: in <TCP (closed) Ephemeral Worker->Worker for gather local=tcp://127.0.0.1:51846 remote=tcp://127.0.0.1:51682>: Stream is closed\n",
      "2023-08-31 21:38:13,794 - distributed.nanny - WARNING - Restarting worker\n",
      "2023-08-31 21:38:13,837 - distributed.worker - ERROR - Worker stream died during communication: tcp://127.0.0.1:51682\n",
      "Traceback (most recent call last):\n",
      "  File \"/Users/calkoen/mambaforge/envs/testenv/lib/python3.11/site-packages/distributed/comm/tcp.py\", line 235, in read\n",
      "    n = await stream.read_into(chunk)\n",
      "        ^^^^^^^^^^^^^^^^^^^^^^^^^^^^^\n",
      "tornado.iostream.StreamClosedError: Stream is closed\n",
      "\n",
      "The above exception was the direct cause of the following exception:\n",
      "\n",
      "Traceback (most recent call last):\n",
      "  File \"/Users/calkoen/mambaforge/envs/testenv/lib/python3.11/site-packages/distributed/worker.py\", line 2053, in gather_dep\n",
      "    response = await get_data_from_worker(\n",
      "               ^^^^^^^^^^^^^^^^^^^^^^^^^^^\n",
      "  File \"/Users/calkoen/mambaforge/envs/testenv/lib/python3.11/site-packages/distributed/worker.py\", line 2902, in get_data_from_worker\n",
      "    response = await send_recv(\n",
      "               ^^^^^^^^^^^^^^^^\n",
      "  File \"/Users/calkoen/mambaforge/envs/testenv/lib/python3.11/site-packages/distributed/core.py\", line 1136, in send_recv\n",
      "    response = await comm.read(deserializers=deserializers)\n",
      "               ^^^^^^^^^^^^^^^^^^^^^^^^^^^^^^^^^^^^^^^^^^^^\n",
      "  File \"/Users/calkoen/mambaforge/envs/testenv/lib/python3.11/site-packages/distributed/comm/tcp.py\", line 241, in read\n",
      "    convert_stream_closed_error(self, e)\n",
      "  File \"/Users/calkoen/mambaforge/envs/testenv/lib/python3.11/site-packages/distributed/comm/tcp.py\", line 144, in convert_stream_closed_error\n",
      "    raise CommClosedError(f\"in {obj}: {exc}\") from exc\n",
      "distributed.comm.core.CommClosedError: in <TCP (closed) Ephemeral Worker->Worker for gather local=tcp://127.0.0.1:51744 remote=tcp://127.0.0.1:51682>: Stream is closed\n"
     ]
    },
    {
     "name": "stdout",
     "output_type": "stream",
     "text": [
      "Blob already exists and overwrite is set to False.\n",
      "Blob already exists and overwrite is set to False.\n",
      "Blob already exists and overwrite is set to False.\n",
      "Blob already exists and overwrite is set to False.\n"
     ]
    },
    {
     "name": "stderr",
     "output_type": "stream",
     "text": [
      "2023-08-31 21:38:26,427 - distributed.worker.memory - WARNING - Unmanaged memory use is high. This may indicate a memory leak or the memory may not be released to the OS; see https://distributed.dask.org/en/latest/worker-memory.html#memory-not-released-back-to-the-os for more information. -- Unmanaged memory: 6.50 GiB -- Worker memory limit: 10.67 GiB\n",
      "2023-08-31 21:38:27,464 - distributed.worker.memory - WARNING - Unmanaged memory use is high. This may indicate a memory leak or the memory may not be released to the OS; see https://distributed.dask.org/en/latest/worker-memory.html#memory-not-released-back-to-the-os for more information. -- Unmanaged memory: 6.50 GiB -- Worker memory limit: 10.67 GiB\n",
      "2023-08-31 21:38:29,021 - distributed.worker.memory - WARNING - Unmanaged memory use is high. This may indicate a memory leak or the memory may not be released to the OS; see https://distributed.dask.org/en/latest/worker-memory.html#memory-not-released-back-to-the-os for more information. -- Unmanaged memory: 6.50 GiB -- Worker memory limit: 10.67 GiB\n"
     ]
    },
    {
     "name": "stdout",
     "output_type": "stream",
     "text": [
      "Blob already exists and overwrite is set to False.\n"
     ]
    },
    {
     "name": "stderr",
     "output_type": "stream",
     "text": [
      "2023-08-31 21:38:30,320 - distributed.worker.memory - WARNING - Unmanaged memory use is high. This may indicate a memory leak or the memory may not be released to the OS; see https://distributed.dask.org/en/latest/worker-memory.html#memory-not-released-back-to-the-os for more information. -- Unmanaged memory: 7.67 GiB -- Worker memory limit: 10.67 GiB\n"
     ]
    },
    {
     "name": "stdout",
     "output_type": "stream",
     "text": [
      "Blob already exists and overwrite is set to False.\n",
      "Blob already exists and overwrite is set to False.\n"
     ]
    },
    {
     "name": "stderr",
     "output_type": "stream",
     "text": [
      "2023-08-31 21:38:33,009 - distributed.worker.memory - WARNING - Worker is at 80% memory usage. Pausing worker.  Process memory: 8.59 GiB -- Worker memory limit: 10.67 GiB\n",
      "2023-08-31 21:38:33,023 - distributed.worker.memory - WARNING - Worker is at 71% memory usage. Resuming worker. Process memory: 7.63 GiB -- Worker memory limit: 10.67 GiB\n"
     ]
    },
    {
     "name": "stdout",
     "output_type": "stream",
     "text": [
      "Blob already exists and overwrite is set to False.\n",
      "Blob already exists and overwrite is set to False.\n",
      "Blob already exists and overwrite is set to False.\n",
      "Blob already exists and overwrite is set to False.\n"
     ]
    },
    {
     "name": "stderr",
     "output_type": "stream",
     "text": [
      "2023-08-31 21:38:34,536 - distributed.worker.memory - WARNING - Worker is at 81% memory usage. Pausing worker.  Process memory: 8.65 GiB -- Worker memory limit: 10.67 GiB\n",
      "2023-08-31 21:38:34,699 - distributed.worker.memory - WARNING - Worker is at 65% memory usage. Resuming worker. Process memory: 7.03 GiB -- Worker memory limit: 10.67 GiB\n"
     ]
    },
    {
     "name": "stdout",
     "output_type": "stream",
     "text": [
      "Blob already exists and overwrite is set to False.\n",
      "Blob already exists and overwrite is set to False.\n"
     ]
    },
    {
     "name": "stderr",
     "output_type": "stream",
     "text": [
      "2023-08-31 21:38:35,923 - distributed.worker.memory - WARNING - Unmanaged memory use is high. This may indicate a memory leak or the memory may not be released to the OS; see https://distributed.dask.org/en/latest/worker-memory.html#memory-not-released-back-to-the-os for more information. -- Unmanaged memory: 6.48 GiB -- Worker memory limit: 10.67 GiB\n",
      "2023-08-31 21:38:36,626 - distributed.worker.memory - WARNING - Unmanaged memory use is high. This may indicate a memory leak or the memory may not be released to the OS; see https://distributed.dask.org/en/latest/worker-memory.html#memory-not-released-back-to-the-os for more information. -- Unmanaged memory: 6.65 GiB -- Worker memory limit: 10.67 GiB\n",
      "2023-08-31 21:38:37,865 - distributed.worker.memory - WARNING - Unmanaged memory use is high. This may indicate a memory leak or the memory may not be released to the OS; see https://distributed.dask.org/en/latest/worker-memory.html#memory-not-released-back-to-the-os for more information. -- Unmanaged memory: 6.88 GiB -- Worker memory limit: 10.67 GiB\n"
     ]
    },
    {
     "name": "stdout",
     "output_type": "stream",
     "text": [
      "Blob already exists and overwrite is set to False.\n",
      "Blob already exists and overwrite is set to False.\n"
     ]
    },
    {
     "name": "stderr",
     "output_type": "stream",
     "text": [
      "2023-08-31 21:38:39,724 - distributed.worker.memory - WARNING - Unmanaged memory use is high. This may indicate a memory leak or the memory may not be released to the OS; see https://distributed.dask.org/en/latest/worker-memory.html#memory-not-released-back-to-the-os for more information. -- Unmanaged memory: 7.47 GiB -- Worker memory limit: 10.67 GiB\n",
      "2023-08-31 21:38:40,414 - distributed.worker.memory - WARNING - Unmanaged memory use is high. This may indicate a memory leak or the memory may not be released to the OS; see https://distributed.dask.org/en/latest/worker-memory.html#memory-not-released-back-to-the-os for more information. -- Unmanaged memory: 7.61 GiB -- Worker memory limit: 10.67 GiB\n"
     ]
    },
    {
     "name": "stdout",
     "output_type": "stream",
     "text": [
      "Blob already exists and overwrite is set to False.\n"
     ]
    },
    {
     "name": "stderr",
     "output_type": "stream",
     "text": [
      "2023-08-31 21:38:45,323 - distributed.worker.memory - WARNING - Worker is at 84% memory usage. Pausing worker.  Process memory: 9.03 GiB -- Worker memory limit: 10.67 GiB\n",
      "2023-08-31 21:38:45,557 - distributed.worker.memory - WARNING - Worker is at 75% memory usage. Resuming worker. Process memory: 8.07 GiB -- Worker memory limit: 10.67 GiB\n"
     ]
    },
    {
     "name": "stdout",
     "output_type": "stream",
     "text": [
      "Blob already exists and overwrite is set to False.\n",
      "Blob already exists and overwrite is set to False.\n"
     ]
    },
    {
     "name": "stderr",
     "output_type": "stream",
     "text": [
      "2023-08-31 21:38:46,185 - distributed.worker.memory - WARNING - Worker is at 80% memory usage. Pausing worker.  Process memory: 8.58 GiB -- Worker memory limit: 10.67 GiB\n",
      "2023-08-31 21:38:46,428 - distributed.worker.memory - WARNING - Worker is at 39% memory usage. Resuming worker. Process memory: 4.22 GiB -- Worker memory limit: 10.67 GiB\n"
     ]
    },
    {
     "name": "stdout",
     "output_type": "stream",
     "text": [
      "Blob already exists and overwrite is set to False.\n",
      "Blob already exists and overwrite is set to False.\n",
      "Blob already exists and overwrite is set to False.\n",
      "Blob already exists and overwrite is set to False.\n"
     ]
    },
    {
     "name": "stderr",
     "output_type": "stream",
     "text": [
      "2023-08-31 21:38:49,822 - distributed.worker.memory - WARNING - Worker is at 82% memory usage. Pausing worker.  Process memory: 8.80 GiB -- Worker memory limit: 10.67 GiB\n",
      "2023-08-31 21:38:49,823 - distributed.worker.memory - WARNING - Unmanaged memory use is high. This may indicate a memory leak or the memory may not be released to the OS; see https://distributed.dask.org/en/latest/worker-memory.html#memory-not-released-back-to-the-os for more information. -- Unmanaged memory: 8.80 GiB -- Worker memory limit: 10.67 GiB\n",
      "2023-08-31 21:38:50,536 - distributed.worker.memory - WARNING - Unmanaged memory use is high. This may indicate a memory leak or the memory may not be released to the OS; see https://distributed.dask.org/en/latest/worker-memory.html#memory-not-released-back-to-the-os for more information. -- Unmanaged memory: 6.50 GiB -- Worker memory limit: 10.67 GiB\n"
     ]
    },
    {
     "name": "stdout",
     "output_type": "stream",
     "text": [
      "Blob already exists and overwrite is set to False.\n",
      "Blob already exists and overwrite is set to False.\n",
      "Blob already exists and overwrite is set to False.\n"
     ]
    },
    {
     "name": "stderr",
     "output_type": "stream",
     "text": [
      "2023-08-31 21:38:54,241 - distributed.worker.memory - WARNING - Unmanaged memory use is high. This may indicate a memory leak or the memory may not be released to the OS; see https://distributed.dask.org/en/latest/worker-memory.html#memory-not-released-back-to-the-os for more information. -- Unmanaged memory: 7.55 GiB -- Worker memory limit: 10.67 GiB\n"
     ]
    },
    {
     "name": "stdout",
     "output_type": "stream",
     "text": [
      "Blob already exists and overwrite is set to False.\n"
     ]
    },
    {
     "name": "stderr",
     "output_type": "stream",
     "text": [
      "2023-08-31 21:38:56,580 - distributed.nanny.memory - WARNING - Worker tcp://127.0.0.1:51823 (pid=49205) exceeded 95% memory budget. Restarting...\n",
      "2023-08-31 21:38:56,773 - distributed.nanny - WARNING - Restarting worker\n"
     ]
    },
    {
     "name": "stdout",
     "output_type": "stream",
     "text": [
      "Blob already exists and overwrite is set to False.\n",
      "Blob already exists and overwrite is set to False.\n"
     ]
    },
    {
     "name": "stderr",
     "output_type": "stream",
     "text": [
      "2023-08-31 21:39:00,614 - distributed.worker.memory - WARNING - Unmanaged memory use is high. This may indicate a memory leak or the memory may not be released to the OS; see https://distributed.dask.org/en/latest/worker-memory.html#memory-not-released-back-to-the-os for more information. -- Unmanaged memory: 7.73 GiB -- Worker memory limit: 10.67 GiB\n",
      "2023-08-31 21:39:03,396 - distributed.worker.memory - WARNING - Unmanaged memory use is high. This may indicate a memory leak or the memory may not be released to the OS; see https://distributed.dask.org/en/latest/worker-memory.html#memory-not-released-back-to-the-os for more information. -- Unmanaged memory: 6.50 GiB -- Worker memory limit: 10.67 GiB\n"
     ]
    },
    {
     "name": "stdout",
     "output_type": "stream",
     "text": [
      "Blob already exists and overwrite is set to False.\n"
     ]
    },
    {
     "name": "stderr",
     "output_type": "stream",
     "text": [
      "2023-08-31 21:39:04,042 - distributed.worker.memory - WARNING - Unmanaged memory use is high. This may indicate a memory leak or the memory may not be released to the OS; see https://distributed.dask.org/en/latest/worker-memory.html#memory-not-released-back-to-the-os for more information. -- Unmanaged memory: 6.87 GiB -- Worker memory limit: 10.67 GiB\n",
      "2023-08-31 21:39:05,228 - distributed.worker.memory - WARNING - Worker is at 80% memory usage. Pausing worker.  Process memory: 8.54 GiB -- Worker memory limit: 10.67 GiB\n",
      "2023-08-31 21:39:05,314 - distributed.worker.memory - WARNING - Worker is at 61% memory usage. Resuming worker. Process memory: 6.57 GiB -- Worker memory limit: 10.67 GiB\n"
     ]
    },
    {
     "name": "stdout",
     "output_type": "stream",
     "text": [
      "Blob already exists and overwrite is set to False.\n",
      "Blob already exists and overwrite is set to False.\n",
      "Blob already exists and overwrite is set to False.\n",
      "Blob already exists and overwrite is set to False.\n",
      "Blob already exists and overwrite is set to False.\n",
      "Blob already exists and overwrite is set to False.\n",
      "Blob already exists and overwrite is set to False.\n"
     ]
    },
    {
     "name": "stderr",
     "output_type": "stream",
     "text": [
      "2023-08-31 21:39:12,923 - distributed.worker.memory - WARNING - Unmanaged memory use is high. This may indicate a memory leak or the memory may not be released to the OS; see https://distributed.dask.org/en/latest/worker-memory.html#memory-not-released-back-to-the-os for more information. -- Unmanaged memory: 8.23 GiB -- Worker memory limit: 10.67 GiB\n"
     ]
    },
    {
     "name": "stdout",
     "output_type": "stream",
     "text": [
      "Blob already exists and overwrite is set to False.\n"
     ]
    },
    {
     "name": "stderr",
     "output_type": "stream",
     "text": [
      "2023-08-31 21:39:13,482 - distributed.worker.memory - WARNING - Unmanaged memory use is high. This may indicate a memory leak or the memory may not be released to the OS; see https://distributed.dask.org/en/latest/worker-memory.html#memory-not-released-back-to-the-os for more information. -- Unmanaged memory: 7.60 GiB -- Worker memory limit: 10.67 GiB\n",
      "2023-08-31 21:39:14,125 - distributed.worker.memory - WARNING - Unmanaged memory use is high. This may indicate a memory leak or the memory may not be released to the OS; see https://distributed.dask.org/en/latest/worker-memory.html#memory-not-released-back-to-the-os for more information. -- Unmanaged memory: 7.65 GiB -- Worker memory limit: 10.67 GiB\n"
     ]
    },
    {
     "name": "stdout",
     "output_type": "stream",
     "text": [
      "Blob already exists and overwrite is set to False.\n",
      "Blob already exists and overwrite is set to False.\n",
      "Blob already exists and overwrite is set to False.\n",
      "Blob already exists and overwrite is set to False.\n"
     ]
    },
    {
     "name": "stderr",
     "output_type": "stream",
     "text": [
      "2023-08-31 21:39:20,587 - distributed.worker.memory - WARNING - Unmanaged memory use is high. This may indicate a memory leak or the memory may not be released to the OS; see https://distributed.dask.org/en/latest/worker-memory.html#memory-not-released-back-to-the-os for more information. -- Unmanaged memory: 6.71 GiB -- Worker memory limit: 10.67 GiB\n",
      "2023-08-31 21:39:23,014 - distributed.worker.memory - WARNING - Unmanaged memory use is high. This may indicate a memory leak or the memory may not be released to the OS; see https://distributed.dask.org/en/latest/worker-memory.html#memory-not-released-back-to-the-os for more information. -- Unmanaged memory: 8.09 GiB -- Worker memory limit: 10.67 GiB\n",
      "2023-08-31 21:39:26,535 - distributed.worker.memory - WARNING - Unmanaged memory use is high. This may indicate a memory leak or the memory may not be released to the OS; see https://distributed.dask.org/en/latest/worker-memory.html#memory-not-released-back-to-the-os for more information. -- Unmanaged memory: 8.23 GiB -- Worker memory limit: 10.67 GiB\n",
      "2023-08-31 21:39:26,801 - distributed.worker.memory - WARNING - Worker is at 82% memory usage. Pausing worker.  Process memory: 8.77 GiB -- Worker memory limit: 10.67 GiB\n",
      "2023-08-31 21:39:26,882 - distributed.worker.memory - WARNING - Worker is at 63% memory usage. Resuming worker. Process memory: 6.77 GiB -- Worker memory limit: 10.67 GiB\n"
     ]
    },
    {
     "name": "stdout",
     "output_type": "stream",
     "text": [
      "Blob already exists and overwrite is set to False.\n",
      "Blob already exists and overwrite is set to False.\n",
      "Blob already exists and overwrite is set to False.\n"
     ]
    },
    {
     "name": "stderr",
     "output_type": "stream",
     "text": [
      "2023-08-31 21:39:27,982 - distributed.worker.memory - WARNING - Worker is at 80% memory usage. Pausing worker.  Process memory: 8.62 GiB -- Worker memory limit: 10.67 GiB\n"
     ]
    },
    {
     "name": "stdout",
     "output_type": "stream",
     "text": [
      "Blob already exists and overwrite is set to False.\n"
     ]
    },
    {
     "name": "stderr",
     "output_type": "stream",
     "text": [
      "2023-08-31 21:39:28,485 - distributed.worker.memory - WARNING - Worker is at 72% memory usage. Resuming worker. Process memory: 7.77 GiB -- Worker memory limit: 10.67 GiB\n",
      "2023-08-31 21:39:29,245 - distributed.worker.memory - WARNING - Worker is at 82% memory usage. Pausing worker.  Process memory: 8.77 GiB -- Worker memory limit: 10.67 GiB\n",
      "2023-08-31 21:39:29,369 - distributed.worker.memory - WARNING - Worker is at 68% memory usage. Resuming worker. Process memory: 7.35 GiB -- Worker memory limit: 10.67 GiB\n",
      "2023-08-31 21:39:29,499 - distributed.worker.memory - WARNING - Unmanaged memory use is high. This may indicate a memory leak or the memory may not be released to the OS; see https://distributed.dask.org/en/latest/worker-memory.html#memory-not-released-back-to-the-os for more information. -- Unmanaged memory: 7.74 GiB -- Worker memory limit: 10.67 GiB\n"
     ]
    },
    {
     "name": "stdout",
     "output_type": "stream",
     "text": [
      "Blob already exists and overwrite is set to False.\n"
     ]
    },
    {
     "name": "stderr",
     "output_type": "stream",
     "text": [
      "2023-08-31 21:39:31,184 - distributed.worker.memory - WARNING - Worker is at 82% memory usage. Pausing worker.  Process memory: 8.84 GiB -- Worker memory limit: 10.67 GiB\n",
      "2023-08-31 21:39:31,293 - distributed.worker.memory - WARNING - Worker is at 73% memory usage. Resuming worker. Process memory: 7.84 GiB -- Worker memory limit: 10.67 GiB\n"
     ]
    },
    {
     "name": "stdout",
     "output_type": "stream",
     "text": [
      "Blob already exists and overwrite is set to False.\n"
     ]
    },
    {
     "name": "stderr",
     "output_type": "stream",
     "text": [
      "2023-08-31 21:39:33,014 - distributed.worker.memory - WARNING - Unmanaged memory use is high. This may indicate a memory leak or the memory may not be released to the OS; see https://distributed.dask.org/en/latest/worker-memory.html#memory-not-released-back-to-the-os for more information. -- Unmanaged memory: 7.92 GiB -- Worker memory limit: 10.67 GiB\n",
      "2023-08-31 21:39:36,582 - distributed.worker.memory - WARNING - Unmanaged memory use is high. This may indicate a memory leak or the memory may not be released to the OS; see https://distributed.dask.org/en/latest/worker-memory.html#memory-not-released-back-to-the-os for more information. -- Unmanaged memory: 8.53 GiB -- Worker memory limit: 10.67 GiB\n",
      "2023-08-31 21:39:36,686 - distributed.worker.memory - WARNING - Worker is at 80% memory usage. Pausing worker.  Process memory: 8.54 GiB -- Worker memory limit: 10.67 GiB\n"
     ]
    },
    {
     "name": "stdout",
     "output_type": "stream",
     "text": [
      "Blob already exists and overwrite is set to False.\n",
      "Blob already exists and overwrite is set to False.\n",
      "Blob already exists and overwrite is set to False.\n"
     ]
    },
    {
     "name": "stderr",
     "output_type": "stream",
     "text": [
      "2023-08-31 21:39:40,065 - distributed.worker.memory - WARNING - Unmanaged memory use is high. This may indicate a memory leak or the memory may not be released to the OS; see https://distributed.dask.org/en/latest/worker-memory.html#memory-not-released-back-to-the-os for more information. -- Unmanaged memory: 8.03 GiB -- Worker memory limit: 10.67 GiB\n",
      "2023-08-31 21:39:40,294 - distributed.worker.memory - WARNING - Worker is at 73% memory usage. Resuming worker. Process memory: 7.82 GiB -- Worker memory limit: 10.67 GiB\n",
      "2023-08-31 21:39:40,428 - distributed.worker.memory - WARNING - Worker is at 82% memory usage. Pausing worker.  Process memory: 8.82 GiB -- Worker memory limit: 10.67 GiB\n",
      "2023-08-31 21:39:40,456 - distributed.worker.memory - WARNING - Worker is at 52% memory usage. Resuming worker. Process memory: 5.62 GiB -- Worker memory limit: 10.67 GiB\n"
     ]
    },
    {
     "name": "stdout",
     "output_type": "stream",
     "text": [
      "Blob already exists and overwrite is set to False.\n",
      "Blob already exists and overwrite is set to False.\n",
      "Blob already exists and overwrite is set to False.\n"
     ]
    },
    {
     "name": "stderr",
     "output_type": "stream",
     "text": [
      "2023-08-31 21:39:41,495 - distributed.worker.memory - WARNING - Worker is at 89% memory usage. Pausing worker.  Process memory: 9.56 GiB -- Worker memory limit: 10.67 GiB\n"
     ]
    },
    {
     "name": "stdout",
     "output_type": "stream",
     "text": [
      "Blob already exists and overwrite is set to False.\n"
     ]
    },
    {
     "name": "stderr",
     "output_type": "stream",
     "text": [
      "2023-08-31 21:39:41,794 - distributed.worker.memory - WARNING - Worker is at 70% memory usage. Resuming worker. Process memory: 7.56 GiB -- Worker memory limit: 10.67 GiB\n"
     ]
    },
    {
     "name": "stdout",
     "output_type": "stream",
     "text": [
      "Blob already exists and overwrite is set to False.\n"
     ]
    },
    {
     "name": "stderr",
     "output_type": "stream",
     "text": [
      "2023-08-31 21:39:42,805 - distributed.worker.memory - WARNING - Worker is at 80% memory usage. Pausing worker.  Process memory: 8.55 GiB -- Worker memory limit: 10.67 GiB\n",
      "2023-08-31 21:39:42,815 - distributed.worker.memory - WARNING - Worker is at 74% memory usage. Resuming worker. Process memory: 7.98 GiB -- Worker memory limit: 10.67 GiB\n",
      "2023-08-31 21:39:42,821 - distributed.worker.memory - WARNING - Unmanaged memory use is high. This may indicate a memory leak or the memory may not be released to the OS; see https://distributed.dask.org/en/latest/worker-memory.html#memory-not-released-back-to-the-os for more information. -- Unmanaged memory: 6.56 GiB -- Worker memory limit: 10.67 GiB\n",
      "2023-08-31 21:39:43,075 - distributed.worker.memory - WARNING - Unmanaged memory use is high. This may indicate a memory leak or the memory may not be released to the OS; see https://distributed.dask.org/en/latest/worker-memory.html#memory-not-released-back-to-the-os for more information. -- Unmanaged memory: 6.59 GiB -- Worker memory limit: 10.67 GiB\n",
      "2023-08-31 21:39:43,131 - distributed.worker.memory - WARNING - Unmanaged memory use is high. This may indicate a memory leak or the memory may not be released to the OS; see https://distributed.dask.org/en/latest/worker-memory.html#memory-not-released-back-to-the-os for more information. -- Unmanaged memory: 7.39 GiB -- Worker memory limit: 10.67 GiB\n"
     ]
    },
    {
     "name": "stdout",
     "output_type": "stream",
     "text": [
      "Blob already exists and overwrite is set to False.\n",
      "Blob already exists and overwrite is set to False.\n",
      "Blob already exists and overwrite is set to False.\n",
      "Blob already exists and overwrite is set to False.\n"
     ]
    },
    {
     "name": "stderr",
     "output_type": "stream",
     "text": [
      "2023-08-31 21:39:52,518 - distributed.worker.memory - WARNING - Unmanaged memory use is high. This may indicate a memory leak or the memory may not be released to the OS; see https://distributed.dask.org/en/latest/worker-memory.html#memory-not-released-back-to-the-os for more information. -- Unmanaged memory: 6.51 GiB -- Worker memory limit: 10.67 GiB\n"
     ]
    },
    {
     "name": "stdout",
     "output_type": "stream",
     "text": [
      "Blob already exists and overwrite is set to False.\n"
     ]
    },
    {
     "name": "stderr",
     "output_type": "stream",
     "text": [
      "2023-08-31 21:39:53,165 - distributed.worker.memory - WARNING - Unmanaged memory use is high. This may indicate a memory leak or the memory may not be released to the OS; see https://distributed.dask.org/en/latest/worker-memory.html#memory-not-released-back-to-the-os for more information. -- Unmanaged memory: 7.85 GiB -- Worker memory limit: 10.67 GiB\n",
      "2023-08-31 21:39:53,212 - distributed.worker.memory - WARNING - Unmanaged memory use is high. This may indicate a memory leak or the memory may not be released to the OS; see https://distributed.dask.org/en/latest/worker-memory.html#memory-not-released-back-to-the-os for more information. -- Unmanaged memory: 8.48 GiB -- Worker memory limit: 10.67 GiB\n",
      "2023-08-31 21:39:53,342 - distributed.worker.memory - WARNING - Unmanaged memory use is high. This may indicate a memory leak or the memory may not be released to the OS; see https://distributed.dask.org/en/latest/worker-memory.html#memory-not-released-back-to-the-os for more information. -- Unmanaged memory: 6.91 GiB -- Worker memory limit: 10.67 GiB\n"
     ]
    },
    {
     "name": "stdout",
     "output_type": "stream",
     "text": [
      "Blob already exists and overwrite is set to False.\n"
     ]
    },
    {
     "name": "stderr",
     "output_type": "stream",
     "text": [
      "2023-08-31 21:39:53,970 - distributed.worker.memory - WARNING - Worker is at 80% memory usage. Pausing worker.  Process memory: 8.59 GiB -- Worker memory limit: 10.67 GiB\n",
      "2023-08-31 21:39:54,024 - distributed.worker.memory - WARNING - Worker is at 54% memory usage. Resuming worker. Process memory: 5.84 GiB -- Worker memory limit: 10.67 GiB\n"
     ]
    },
    {
     "name": "stdout",
     "output_type": "stream",
     "text": [
      "Blob already exists and overwrite is set to False.\n"
     ]
    },
    {
     "name": "stderr",
     "output_type": "stream",
     "text": [
      "2023-08-31 21:39:54,561 - distributed.worker.memory - WARNING - Worker is at 81% memory usage. Pausing worker.  Process memory: 8.72 GiB -- Worker memory limit: 10.67 GiB\n",
      "2023-08-31 21:39:54,640 - distributed.worker.memory - WARNING - Worker is at 53% memory usage. Resuming worker. Process memory: 5.74 GiB -- Worker memory limit: 10.67 GiB\n"
     ]
    },
    {
     "name": "stdout",
     "output_type": "stream",
     "text": [
      "Blob already exists and overwrite is set to False.\n",
      "Blob already exists and overwrite is set to False.\n",
      "Blob already exists and overwrite is set to False.\n",
      "Blob already exists and overwrite is set to False.\n"
     ]
    },
    {
     "name": "stderr",
     "output_type": "stream",
     "text": [
      "2023-08-31 21:40:00,282 - distributed.worker.memory - WARNING - Worker is at 80% memory usage. Pausing worker.  Process memory: 8.54 GiB -- Worker memory limit: 10.67 GiB\n",
      "2023-08-31 21:40:00,314 - distributed.worker.memory - WARNING - Worker is at 61% memory usage. Resuming worker. Process memory: 6.56 GiB -- Worker memory limit: 10.67 GiB\n",
      "2023-08-31 21:40:01,857 - distributed.worker.memory - WARNING - Worker is at 80% memory usage. Pausing worker.  Process memory: 8.54 GiB -- Worker memory limit: 10.67 GiB\n"
     ]
    },
    {
     "name": "stdout",
     "output_type": "stream",
     "text": [
      "Blob already exists and overwrite is set to False.\n"
     ]
    },
    {
     "name": "stderr",
     "output_type": "stream",
     "text": [
      "2023-08-31 21:40:02,556 - distributed.worker.memory - WARNING - Unmanaged memory use is high. This may indicate a memory leak or the memory may not be released to the OS; see https://distributed.dask.org/en/latest/worker-memory.html#memory-not-released-back-to-the-os for more information. -- Unmanaged memory: 8.63 GiB -- Worker memory limit: 10.67 GiB\n",
      "2023-08-31 21:40:04,253 - distributed.worker.memory - WARNING - Worker is at 80% memory usage. Pausing worker.  Process memory: 8.53 GiB -- Worker memory limit: 10.67 GiB\n",
      "2023-08-31 21:40:04,414 - distributed.worker.memory - WARNING - Worker is at 64% memory usage. Resuming worker. Process memory: 6.91 GiB -- Worker memory limit: 10.67 GiB\n",
      "2023-08-31 21:40:04,524 - distributed.worker.memory - WARNING - Unmanaged memory use is high. This may indicate a memory leak or the memory may not be released to the OS; see https://distributed.dask.org/en/latest/worker-memory.html#memory-not-released-back-to-the-os for more information. -- Unmanaged memory: 6.92 GiB -- Worker memory limit: 10.67 GiB\n"
     ]
    },
    {
     "name": "stdout",
     "output_type": "stream",
     "text": [
      "Blob already exists and overwrite is set to False.\n"
     ]
    },
    {
     "name": "stderr",
     "output_type": "stream",
     "text": [
      "2023-08-31 21:40:05,592 - distributed.worker.memory - WARNING - Worker is at 85% memory usage. Pausing worker.  Process memory: 9.14 GiB -- Worker memory limit: 10.67 GiB\n",
      "2023-08-31 21:40:05,803 - distributed.worker.memory - WARNING - Worker is at 61% memory usage. Resuming worker. Process memory: 6.54 GiB -- Worker memory limit: 10.67 GiB\n"
     ]
    },
    {
     "name": "stdout",
     "output_type": "stream",
     "text": [
      "Blob already exists and overwrite is set to False.\n",
      "Blob already exists and overwrite is set to False.\n"
     ]
    },
    {
     "name": "stderr",
     "output_type": "stream",
     "text": [
      "2023-08-31 21:40:07,484 - distributed.worker.memory - WARNING - Worker is at 70% memory usage. Resuming worker. Process memory: 7.57 GiB -- Worker memory limit: 10.67 GiB\n",
      "2023-08-31 21:40:07,782 - distributed.worker.memory - WARNING - Worker is at 80% memory usage. Pausing worker.  Process memory: 8.62 GiB -- Worker memory limit: 10.67 GiB\n",
      "2023-08-31 21:40:07,982 - distributed.worker.memory - WARNING - Worker is at 72% memory usage. Resuming worker. Process memory: 7.76 GiB -- Worker memory limit: 10.67 GiB\n"
     ]
    },
    {
     "name": "stdout",
     "output_type": "stream",
     "text": [
      "Blob already exists and overwrite is set to False.\n"
     ]
    },
    {
     "name": "stderr",
     "output_type": "stream",
     "text": [
      "2023-08-31 21:40:08,123 - distributed.worker.memory - WARNING - Worker is at 80% memory usage. Pausing worker.  Process memory: 8.63 GiB -- Worker memory limit: 10.67 GiB\n",
      "2023-08-31 21:40:08,306 - distributed.worker.memory - WARNING - Worker is at 50% memory usage. Resuming worker. Process memory: 5.39 GiB -- Worker memory limit: 10.67 GiB\n",
      "2023-08-31 21:40:08,529 - distributed.worker.memory - WARNING - Unmanaged memory use is high. This may indicate a memory leak or the memory may not be released to the OS; see https://distributed.dask.org/en/latest/worker-memory.html#memory-not-released-back-to-the-os for more information. -- Unmanaged memory: 7.67 GiB -- Worker memory limit: 10.67 GiB\n",
      "2023-08-31 21:40:08,570 - distributed.worker.memory - WARNING - Worker is at 82% memory usage. Pausing worker.  Process memory: 8.78 GiB -- Worker memory limit: 10.67 GiB\n",
      "2023-08-31 21:40:08,583 - distributed.worker.memory - WARNING - Worker is at 54% memory usage. Resuming worker. Process memory: 5.78 GiB -- Worker memory limit: 10.67 GiB\n"
     ]
    },
    {
     "name": "stdout",
     "output_type": "stream",
     "text": [
      "Blob already exists and overwrite is set to False.\n"
     ]
    },
    {
     "name": "stderr",
     "output_type": "stream",
     "text": [
      "2023-08-31 21:40:10,913 - distributed.worker.memory - WARNING - Unmanaged memory use is high. This may indicate a memory leak or the memory may not be released to the OS; see https://distributed.dask.org/en/latest/worker-memory.html#memory-not-released-back-to-the-os for more information. -- Unmanaged memory: 8.12 GiB -- Worker memory limit: 10.67 GiB\n"
     ]
    },
    {
     "name": "stdout",
     "output_type": "stream",
     "text": [
      "Blob already exists and overwrite is set to False.\n",
      "Blob already exists and overwrite is set to False.\n",
      "Blob already exists and overwrite is set to False.\n",
      "Blob already exists and overwrite is set to False.\n",
      "Blob already exists and overwrite is set to False.\n"
     ]
    },
    {
     "name": "stderr",
     "output_type": "stream",
     "text": [
      "2023-08-31 21:40:17,815 - distributed.worker.memory - WARNING - Worker is at 82% memory usage. Pausing worker.  Process memory: 8.80 GiB -- Worker memory limit: 10.67 GiB\n",
      "2023-08-31 21:40:17,824 - distributed.worker.memory - WARNING - Worker is at 66% memory usage. Resuming worker. Process memory: 7.07 GiB -- Worker memory limit: 10.67 GiB\n"
     ]
    },
    {
     "name": "stdout",
     "output_type": "stream",
     "text": [
      "Blob already exists and overwrite is set to False.\n",
      "Blob already exists and overwrite is set to False.\n",
      "Blob already exists and overwrite is set to False.\n"
     ]
    },
    {
     "name": "stderr",
     "output_type": "stream",
     "text": [
      "2023-08-31 21:40:20,914 - distributed.worker.memory - WARNING - Unmanaged memory use is high. This may indicate a memory leak or the memory may not be released to the OS; see https://distributed.dask.org/en/latest/worker-memory.html#memory-not-released-back-to-the-os for more information. -- Unmanaged memory: 7.97 GiB -- Worker memory limit: 10.67 GiB\n"
     ]
    },
    {
     "name": "stdout",
     "output_type": "stream",
     "text": [
      "Blob already exists and overwrite is set to False.\n",
      "Blob already exists and overwrite is set to False.\n"
     ]
    },
    {
     "name": "stderr",
     "output_type": "stream",
     "text": [
      "2023-08-31 21:40:23,650 - distributed.worker.memory - WARNING - Unmanaged memory use is high. This may indicate a memory leak or the memory may not be released to the OS; see https://distributed.dask.org/en/latest/worker-memory.html#memory-not-released-back-to-the-os for more information. -- Unmanaged memory: 7.48 GiB -- Worker memory limit: 10.67 GiB\n"
     ]
    },
    {
     "name": "stdout",
     "output_type": "stream",
     "text": [
      "Blob already exists and overwrite is set to False.\n"
     ]
    },
    {
     "name": "stderr",
     "output_type": "stream",
     "text": [
      "2023-08-31 21:40:25,347 - distributed.worker.memory - WARNING - Unmanaged memory use is high. This may indicate a memory leak or the memory may not be released to the OS; see https://distributed.dask.org/en/latest/worker-memory.html#memory-not-released-back-to-the-os for more information. -- Unmanaged memory: 6.54 GiB -- Worker memory limit: 10.67 GiB\n",
      "2023-08-31 21:40:26,714 - distributed.worker.memory - WARNING - Worker is at 80% memory usage. Pausing worker.  Process memory: 8.54 GiB -- Worker memory limit: 10.67 GiB\n",
      "2023-08-31 21:40:26,847 - distributed.worker.memory - WARNING - Worker is at 61% memory usage. Resuming worker. Process memory: 6.56 GiB -- Worker memory limit: 10.67 GiB\n"
     ]
    },
    {
     "name": "stdout",
     "output_type": "stream",
     "text": [
      "Blob already exists and overwrite is set to False.\n"
     ]
    },
    {
     "name": "stderr",
     "output_type": "stream",
     "text": [
      "2023-08-31 21:40:29,257 - distributed.worker.memory - WARNING - Unmanaged memory use is high. This may indicate a memory leak or the memory may not be released to the OS; see https://distributed.dask.org/en/latest/worker-memory.html#memory-not-released-back-to-the-os for more information. -- Unmanaged memory: 7.47 GiB -- Worker memory limit: 10.67 GiB\n"
     ]
    },
    {
     "name": "stdout",
     "output_type": "stream",
     "text": [
      "Blob already exists and overwrite is set to False.\n"
     ]
    },
    {
     "name": "stderr",
     "output_type": "stream",
     "text": [
      "2023-08-31 21:40:33,208 - distributed.worker.memory - WARNING - Unmanaged memory use is high. This may indicate a memory leak or the memory may not be released to the OS; see https://distributed.dask.org/en/latest/worker-memory.html#memory-not-released-back-to-the-os for more information. -- Unmanaged memory: 6.89 GiB -- Worker memory limit: 10.67 GiB\n",
      "2023-08-31 21:40:33,689 - distributed.worker.memory - WARNING - Unmanaged memory use is high. This may indicate a memory leak or the memory may not be released to the OS; see https://distributed.dask.org/en/latest/worker-memory.html#memory-not-released-back-to-the-os for more information. -- Unmanaged memory: 8.11 GiB -- Worker memory limit: 10.67 GiB\n"
     ]
    },
    {
     "name": "stdout",
     "output_type": "stream",
     "text": [
      "Blob already exists and overwrite is set to False.\n",
      "Blob already exists and overwrite is set to False.\n",
      "Blob already exists and overwrite is set to False.\n"
     ]
    },
    {
     "name": "stderr",
     "output_type": "stream",
     "text": [
      "2023-08-31 21:40:34,461 - distributed.worker.memory - WARNING - Worker is at 83% memory usage. Pausing worker.  Process memory: 8.94 GiB -- Worker memory limit: 10.67 GiB\n",
      "2023-08-31 21:40:34,746 - distributed.worker.memory - WARNING - Worker is at 74% memory usage. Resuming worker. Process memory: 7.95 GiB -- Worker memory limit: 10.67 GiB\n",
      "2023-08-31 21:40:35,518 - distributed.worker.memory - WARNING - Unmanaged memory use is high. This may indicate a memory leak or the memory may not be released to the OS; see https://distributed.dask.org/en/latest/worker-memory.html#memory-not-released-back-to-the-os for more information. -- Unmanaged memory: 8.01 GiB -- Worker memory limit: 10.67 GiB\n",
      "2023-08-31 21:40:35,699 - distributed.worker.memory - WARNING - Unmanaged memory use is high. This may indicate a memory leak or the memory may not be released to the OS; see https://distributed.dask.org/en/latest/worker-memory.html#memory-not-released-back-to-the-os for more information. -- Unmanaged memory: 7.93 GiB -- Worker memory limit: 10.67 GiB\n",
      "2023-08-31 21:40:35,844 - distributed.worker.memory - WARNING - Worker is at 80% memory usage. Pausing worker.  Process memory: 8.54 GiB -- Worker memory limit: 10.67 GiB\n",
      "2023-08-31 21:40:35,977 - distributed.worker.memory - WARNING - Worker is at 54% memory usage. Resuming worker. Process memory: 5.79 GiB -- Worker memory limit: 10.67 GiB\n"
     ]
    },
    {
     "name": "stdout",
     "output_type": "stream",
     "text": [
      "Blob already exists and overwrite is set to False.\n",
      "Blob already exists and overwrite is set to False.\n",
      "Blob already exists and overwrite is set to False.\n"
     ]
    },
    {
     "name": "stderr",
     "output_type": "stream",
     "text": [
      "2023-08-31 21:40:37,188 - distributed.worker.memory - WARNING - Unmanaged memory use is high. This may indicate a memory leak or the memory may not be released to the OS; see https://distributed.dask.org/en/latest/worker-memory.html#memory-not-released-back-to-the-os for more information. -- Unmanaged memory: 8.06 GiB -- Worker memory limit: 10.67 GiB\n"
     ]
    },
    {
     "name": "stdout",
     "output_type": "stream",
     "text": [
      "Blob already exists and overwrite is set to False.\n"
     ]
    },
    {
     "name": "stderr",
     "output_type": "stream",
     "text": [
      "2023-08-31 21:40:37,862 - distributed.worker.memory - WARNING - Worker is at 84% memory usage. Pausing worker.  Process memory: 9.01 GiB -- Worker memory limit: 10.67 GiB\n",
      "2023-08-31 21:40:38,106 - distributed.worker.memory - WARNING - Worker is at 67% memory usage. Resuming worker. Process memory: 7.18 GiB -- Worker memory limit: 10.67 GiB\n"
     ]
    },
    {
     "name": "stdout",
     "output_type": "stream",
     "text": [
      "Blob already exists and overwrite is set to False.\n"
     ]
    },
    {
     "name": "stderr",
     "output_type": "stream",
     "text": [
      "2023-08-31 21:40:39,338 - distributed.worker.memory - WARNING - Worker is at 81% memory usage. Pausing worker.  Process memory: 8.68 GiB -- Worker memory limit: 10.67 GiB\n",
      "2023-08-31 21:40:39,423 - distributed.worker.memory - WARNING - Worker is at 57% memory usage. Resuming worker. Process memory: 6.12 GiB -- Worker memory limit: 10.67 GiB\n"
     ]
    },
    {
     "name": "stdout",
     "output_type": "stream",
     "text": [
      "Blob already exists and overwrite is set to False.\n"
     ]
    },
    {
     "name": "stderr",
     "output_type": "stream",
     "text": [
      "2023-08-31 21:40:39,857 - distributed.worker.memory - WARNING - Unmanaged memory use is high. This may indicate a memory leak or the memory may not be released to the OS; see https://distributed.dask.org/en/latest/worker-memory.html#memory-not-released-back-to-the-os for more information. -- Unmanaged memory: 7.47 GiB -- Worker memory limit: 10.67 GiB\n",
      "2023-08-31 21:40:46,265 - distributed.worker.memory - WARNING - Worker is at 83% memory usage. Pausing worker.  Process memory: 8.87 GiB -- Worker memory limit: 10.67 GiB\n",
      "2023-08-31 21:40:46,453 - distributed.worker.memory - WARNING - Worker is at 58% memory usage. Resuming worker. Process memory: 6.20 GiB -- Worker memory limit: 10.67 GiB\n",
      "2023-08-31 21:40:47,692 - distributed.worker.memory - WARNING - Unmanaged memory use is high. This may indicate a memory leak or the memory may not be released to the OS; see https://distributed.dask.org/en/latest/worker-memory.html#memory-not-released-back-to-the-os for more information. -- Unmanaged memory: 7.29 GiB -- Worker memory limit: 10.67 GiB\n"
     ]
    },
    {
     "name": "stdout",
     "output_type": "stream",
     "text": [
      "Blob already exists and overwrite is set to False.\n",
      "Blob already exists and overwrite is set to False.\n"
     ]
    },
    {
     "name": "stderr",
     "output_type": "stream",
     "text": [
      "2023-08-31 21:40:49,720 - distributed.worker.memory - WARNING - Unmanaged memory use is high. This may indicate a memory leak or the memory may not be released to the OS; see https://distributed.dask.org/en/latest/worker-memory.html#memory-not-released-back-to-the-os for more information. -- Unmanaged memory: 6.50 GiB -- Worker memory limit: 10.67 GiB\n",
      "2023-08-31 21:40:50,092 - distributed.worker.memory - WARNING - Unmanaged memory use is high. This may indicate a memory leak or the memory may not be released to the OS; see https://distributed.dask.org/en/latest/worker-memory.html#memory-not-released-back-to-the-os for more information. -- Unmanaged memory: 7.43 GiB -- Worker memory limit: 10.67 GiB\n"
     ]
    },
    {
     "name": "stdout",
     "output_type": "stream",
     "text": [
      "Blob already exists and overwrite is set to False.\n"
     ]
    },
    {
     "name": "stderr",
     "output_type": "stream",
     "text": [
      "2023-08-31 21:40:50,356 - distributed.worker.memory - WARNING - Unmanaged memory use is high. This may indicate a memory leak or the memory may not be released to the OS; see https://distributed.dask.org/en/latest/worker-memory.html#memory-not-released-back-to-the-os for more information. -- Unmanaged memory: 7.48 GiB -- Worker memory limit: 10.67 GiB\n",
      "2023-08-31 21:40:51,279 - distributed.worker.memory - WARNING - Worker is at 83% memory usage. Pausing worker.  Process memory: 8.88 GiB -- Worker memory limit: 10.67 GiB\n",
      "2023-08-31 21:40:51,459 - distributed.worker.memory - WARNING - Worker is at 74% memory usage. Resuming worker. Process memory: 7.91 GiB -- Worker memory limit: 10.67 GiB\n",
      "2023-08-31 21:40:52,388 - distributed.worker.memory - WARNING - Unmanaged memory use is high. This may indicate a memory leak or the memory may not be released to the OS; see https://distributed.dask.org/en/latest/worker-memory.html#memory-not-released-back-to-the-os for more information. -- Unmanaged memory: 6.50 GiB -- Worker memory limit: 10.67 GiB\n"
     ]
    },
    {
     "name": "stdout",
     "output_type": "stream",
     "text": [
      "Blob already exists and overwrite is set to False.\n"
     ]
    },
    {
     "name": "stderr",
     "output_type": "stream",
     "text": [
      "2023-08-31 21:40:53,984 - distributed.worker.memory - WARNING - Unmanaged memory use is high. This may indicate a memory leak or the memory may not be released to the OS; see https://distributed.dask.org/en/latest/worker-memory.html#memory-not-released-back-to-the-os for more information. -- Unmanaged memory: 8.01 GiB -- Worker memory limit: 10.67 GiB\n"
     ]
    },
    {
     "name": "stdout",
     "output_type": "stream",
     "text": [
      "Blob already exists and overwrite is set to False.\n"
     ]
    },
    {
     "name": "stderr",
     "output_type": "stream",
     "text": [
      "2023-08-31 21:40:55,678 - distributed.worker.memory - WARNING - Worker is at 80% memory usage. Pausing worker.  Process memory: 8.55 GiB -- Worker memory limit: 10.67 GiB\n",
      "2023-08-31 21:40:55,733 - distributed.worker.memory - WARNING - Worker is at 53% memory usage. Resuming worker. Process memory: 5.69 GiB -- Worker memory limit: 10.67 GiB\n",
      "2023-08-31 21:40:58,818 - distributed.worker.memory - WARNING - Worker is at 82% memory usage. Pausing worker.  Process memory: 8.76 GiB -- Worker memory limit: 10.67 GiB\n",
      "2023-08-31 21:40:58,914 - distributed.worker.memory - WARNING - Worker is at 66% memory usage. Resuming worker. Process memory: 7.11 GiB -- Worker memory limit: 10.67 GiB\n"
     ]
    },
    {
     "name": "stdout",
     "output_type": "stream",
     "text": [
      "Blob already exists and overwrite is set to False.\n"
     ]
    },
    {
     "name": "stderr",
     "output_type": "stream",
     "text": [
      "2023-08-31 21:41:00,014 - distributed.worker.memory - WARNING - Worker is at 81% memory usage. Pausing worker.  Process memory: 8.69 GiB -- Worker memory limit: 10.67 GiB\n",
      "2023-08-31 21:41:00,114 - distributed.worker.memory - WARNING - Unmanaged memory use is high. This may indicate a memory leak or the memory may not be released to the OS; see https://distributed.dask.org/en/latest/worker-memory.html#memory-not-released-back-to-the-os for more information. -- Unmanaged memory: 9.12 GiB -- Worker memory limit: 10.67 GiB\n",
      "2023-08-31 21:41:00,314 - distributed.worker.memory - WARNING - Worker is at 78% memory usage. Resuming worker. Process memory: 8.34 GiB -- Worker memory limit: 10.67 GiB\n"
     ]
    },
    {
     "name": "stdout",
     "output_type": "stream",
     "text": [
      "Blob already exists and overwrite is set to False.\n"
     ]
    },
    {
     "name": "stderr",
     "output_type": "stream",
     "text": [
      "2023-08-31 21:41:00,805 - distributed.worker.memory - WARNING - Worker is at 84% memory usage. Pausing worker.  Process memory: 9.01 GiB -- Worker memory limit: 10.67 GiB\n",
      "2023-08-31 21:41:00,965 - distributed.worker.memory - WARNING - Worker is at 78% memory usage. Resuming worker. Process memory: 8.39 GiB -- Worker memory limit: 10.67 GiB\n"
     ]
    },
    {
     "name": "stdout",
     "output_type": "stream",
     "text": [
      "Blob already exists and overwrite is set to False.\n"
     ]
    },
    {
     "name": "stderr",
     "output_type": "stream",
     "text": [
      "2023-08-31 21:41:02,109 - distributed.worker.memory - WARNING - Worker is at 92% memory usage. Pausing worker.  Process memory: 9.85 GiB -- Worker memory limit: 10.67 GiB\n",
      "2023-08-31 21:41:02,251 - distributed.worker.memory - WARNING - Worker is at 68% memory usage. Resuming worker. Process memory: 7.29 GiB -- Worker memory limit: 10.67 GiB\n",
      "2023-08-31 21:41:02,481 - distributed.worker.memory - WARNING - Unmanaged memory use is high. This may indicate a memory leak or the memory may not be released to the OS; see https://distributed.dask.org/en/latest/worker-memory.html#memory-not-released-back-to-the-os for more information. -- Unmanaged memory: 7.94 GiB -- Worker memory limit: 10.67 GiB\n"
     ]
    },
    {
     "name": "stdout",
     "output_type": "stream",
     "text": [
      "Blob already exists and overwrite is set to False.\n"
     ]
    },
    {
     "name": "stderr",
     "output_type": "stream",
     "text": [
      "2023-08-31 21:41:03,334 - distributed.worker.memory - WARNING - Worker is at 80% memory usage. Pausing worker.  Process memory: 8.59 GiB -- Worker memory limit: 10.67 GiB\n",
      "2023-08-31 21:41:03,519 - distributed.worker.memory - WARNING - Worker is at 61% memory usage. Resuming worker. Process memory: 6.60 GiB -- Worker memory limit: 10.67 GiB\n",
      "2023-08-31 21:41:04,666 - distributed.worker.memory - WARNING - Unmanaged memory use is high. This may indicate a memory leak or the memory may not be released to the OS; see https://distributed.dask.org/en/latest/worker-memory.html#memory-not-released-back-to-the-os for more information. -- Unmanaged memory: 6.65 GiB -- Worker memory limit: 10.67 GiB\n"
     ]
    },
    {
     "name": "stdout",
     "output_type": "stream",
     "text": [
      "Blob already exists and overwrite is set to False.\n",
      "Blob already exists and overwrite is set to False.\n"
     ]
    },
    {
     "name": "stderr",
     "output_type": "stream",
     "text": [
      "2023-08-31 21:41:07,957 - distributed.worker.memory - WARNING - Unmanaged memory use is high. This may indicate a memory leak or the memory may not be released to the OS; see https://distributed.dask.org/en/latest/worker-memory.html#memory-not-released-back-to-the-os for more information. -- Unmanaged memory: 7.75 GiB -- Worker memory limit: 10.67 GiB\n"
     ]
    },
    {
     "name": "stdout",
     "output_type": "stream",
     "text": [
      "Blob already exists and overwrite is set to False.\n",
      "Blob already exists and overwrite is set to False.\n"
     ]
    },
    {
     "name": "stderr",
     "output_type": "stream",
     "text": [
      "2023-08-31 21:41:10,598 - distributed.worker.memory - WARNING - Unmanaged memory use is high. This may indicate a memory leak or the memory may not be released to the OS; see https://distributed.dask.org/en/latest/worker-memory.html#memory-not-released-back-to-the-os for more information. -- Unmanaged memory: 7.00 GiB -- Worker memory limit: 10.67 GiB\n",
      "2023-08-31 21:41:10,853 - distributed.worker.memory - WARNING - Unmanaged memory use is high. This may indicate a memory leak or the memory may not be released to the OS; see https://distributed.dask.org/en/latest/worker-memory.html#memory-not-released-back-to-the-os for more information. -- Unmanaged memory: 7.87 GiB -- Worker memory limit: 10.67 GiB\n"
     ]
    },
    {
     "name": "stdout",
     "output_type": "stream",
     "text": [
      "Blob already exists and overwrite is set to False.\n",
      "Blob already exists and overwrite is set to False.\n"
     ]
    },
    {
     "name": "stderr",
     "output_type": "stream",
     "text": [
      "2023-08-31 21:41:14,535 - distributed.worker.memory - WARNING - Worker is at 81% memory usage. Pausing worker.  Process memory: 8.71 GiB -- Worker memory limit: 10.67 GiB\n",
      "2023-08-31 21:41:14,710 - distributed.worker.memory - WARNING - Worker is at 63% memory usage. Resuming worker. Process memory: 6.74 GiB -- Worker memory limit: 10.67 GiB\n"
     ]
    },
    {
     "name": "stdout",
     "output_type": "stream",
     "text": [
      "Blob already exists and overwrite is set to False.\n",
      "Blob already exists and overwrite is set to False.\n",
      "Blob already exists and overwrite is set to False.\n"
     ]
    },
    {
     "name": "stderr",
     "output_type": "stream",
     "text": [
      "2023-08-31 21:41:18,175 - distributed.worker.memory - WARNING - Worker is at 89% memory usage. Pausing worker.  Process memory: 9.51 GiB -- Worker memory limit: 10.67 GiB\n",
      "2023-08-31 21:41:18,230 - distributed.worker.memory - WARNING - Unmanaged memory use is high. This may indicate a memory leak or the memory may not be released to the OS; see https://distributed.dask.org/en/latest/worker-memory.html#memory-not-released-back-to-the-os for more information. -- Unmanaged memory: 7.50 GiB -- Worker memory limit: 10.67 GiB\n",
      "2023-08-31 21:41:18,242 - distributed.worker.memory - WARNING - Unmanaged memory use is high. This may indicate a memory leak or the memory may not be released to the OS; see https://distributed.dask.org/en/latest/worker-memory.html#memory-not-released-back-to-the-os for more information. -- Unmanaged memory: 6.51 GiB -- Worker memory limit: 10.67 GiB\n",
      "2023-08-31 21:41:18,461 - distributed.worker.memory - WARNING - Worker is at 56% memory usage. Resuming worker. Process memory: 6.02 GiB -- Worker memory limit: 10.67 GiB\n",
      "2023-08-31 21:41:20,614 - distributed.worker.memory - WARNING - Unmanaged memory use is high. This may indicate a memory leak or the memory may not be released to the OS; see https://distributed.dask.org/en/latest/worker-memory.html#memory-not-released-back-to-the-os for more information. -- Unmanaged memory: 7.86 GiB -- Worker memory limit: 10.67 GiB\n"
     ]
    },
    {
     "name": "stdout",
     "output_type": "stream",
     "text": [
      "Blob already exists and overwrite is set to False.\n"
     ]
    },
    {
     "name": "stderr",
     "output_type": "stream",
     "text": [
      "2023-08-31 21:41:23,837 - distributed.worker.memory - WARNING - Unmanaged memory use is high. This may indicate a memory leak or the memory may not be released to the OS; see https://distributed.dask.org/en/latest/worker-memory.html#memory-not-released-back-to-the-os for more information. -- Unmanaged memory: 6.75 GiB -- Worker memory limit: 10.67 GiB\n"
     ]
    },
    {
     "name": "stdout",
     "output_type": "stream",
     "text": [
      "Blob already exists and overwrite is set to False.\n"
     ]
    },
    {
     "name": "stderr",
     "output_type": "stream",
     "text": [
      "2023-08-31 21:41:27,854 - distributed.worker.memory - WARNING - Unmanaged memory use is high. This may indicate a memory leak or the memory may not be released to the OS; see https://distributed.dask.org/en/latest/worker-memory.html#memory-not-released-back-to-the-os for more information. -- Unmanaged memory: 6.87 GiB -- Worker memory limit: 10.67 GiB\n"
     ]
    },
    {
     "name": "stdout",
     "output_type": "stream",
     "text": [
      "Blob already exists and overwrite is set to False.\n"
     ]
    },
    {
     "name": "stderr",
     "output_type": "stream",
     "text": [
      "2023-08-31 21:41:30,714 - distributed.worker.memory - WARNING - Unmanaged memory use is high. This may indicate a memory leak or the memory may not be released to the OS; see https://distributed.dask.org/en/latest/worker-memory.html#memory-not-released-back-to-the-os for more information. -- Unmanaged memory: 7.56 GiB -- Worker memory limit: 10.67 GiB\n",
      "2023-08-31 21:41:30,851 - distributed.worker.memory - WARNING - Unmanaged memory use is high. This may indicate a memory leak or the memory may not be released to the OS; see https://distributed.dask.org/en/latest/worker-memory.html#memory-not-released-back-to-the-os for more information. -- Unmanaged memory: 8.13 GiB -- Worker memory limit: 10.67 GiB\n"
     ]
    },
    {
     "name": "stdout",
     "output_type": "stream",
     "text": [
      "Blob already exists and overwrite is set to False.\n",
      "Blob already exists and overwrite is set to False.\n"
     ]
    },
    {
     "name": "stderr",
     "output_type": "stream",
     "text": [
      "2023-08-31 21:41:33,241 - distributed.worker.memory - WARNING - Worker is at 82% memory usage. Pausing worker.  Process memory: 8.76 GiB -- Worker memory limit: 10.67 GiB\n",
      "2023-08-31 21:41:33,512 - distributed.worker.memory - WARNING - Worker is at 66% memory usage. Resuming worker. Process memory: 7.09 GiB -- Worker memory limit: 10.67 GiB\n"
     ]
    },
    {
     "name": "stdout",
     "output_type": "stream",
     "text": [
      "Blob already exists and overwrite is set to False.\n"
     ]
    },
    {
     "name": "stderr",
     "output_type": "stream",
     "text": [
      "2023-08-31 21:41:35,596 - distributed.worker.memory - WARNING - Unmanaged memory use is high. This may indicate a memory leak or the memory may not be released to the OS; see https://distributed.dask.org/en/latest/worker-memory.html#memory-not-released-back-to-the-os for more information. -- Unmanaged memory: 7.72 GiB -- Worker memory limit: 10.67 GiB\n"
     ]
    },
    {
     "name": "stdout",
     "output_type": "stream",
     "text": [
      "Blob already exists and overwrite is set to False.\n"
     ]
    },
    {
     "name": "stderr",
     "output_type": "stream",
     "text": [
      "2023-08-31 21:41:37,788 - distributed.worker.memory - WARNING - Worker is at 88% memory usage. Pausing worker.  Process memory: 9.48 GiB -- Worker memory limit: 10.67 GiB\n"
     ]
    },
    {
     "name": "stdout",
     "output_type": "stream",
     "text": [
      "Blob already exists and overwrite is set to False.\n"
     ]
    },
    {
     "name": "stderr",
     "output_type": "stream",
     "text": [
      "2023-08-31 21:41:38,525 - distributed.worker.memory - WARNING - Worker is at 78% memory usage. Resuming worker. Process memory: 8.42 GiB -- Worker memory limit: 10.67 GiB\n",
      "2023-08-31 21:41:39,481 - distributed.worker.memory - WARNING - Worker is at 80% memory usage. Pausing worker.  Process memory: 8.55 GiB -- Worker memory limit: 10.67 GiB\n",
      "2023-08-31 21:41:39,582 - distributed.worker.memory - WARNING - Worker is at 70% memory usage. Resuming worker. Process memory: 7.56 GiB -- Worker memory limit: 10.67 GiB\n"
     ]
    },
    {
     "name": "stdout",
     "output_type": "stream",
     "text": [
      "Blob already exists and overwrite is set to False.\n"
     ]
    },
    {
     "name": "stderr",
     "output_type": "stream",
     "text": [
      "2023-08-31 21:41:40,265 - distributed.worker.memory - WARNING - Worker is at 80% memory usage. Pausing worker.  Process memory: 8.56 GiB -- Worker memory limit: 10.67 GiB\n",
      "2023-08-31 21:41:40,403 - distributed.worker.memory - WARNING - Worker is at 66% memory usage. Resuming worker. Process memory: 7.14 GiB -- Worker memory limit: 10.67 GiB\n"
     ]
    },
    {
     "name": "stdout",
     "output_type": "stream",
     "text": [
      "Blob already exists and overwrite is set to False.\n"
     ]
    },
    {
     "name": "stderr",
     "output_type": "stream",
     "text": [
      "2023-08-31 21:41:41,582 - distributed.worker.memory - WARNING - Worker is at 80% memory usage. Pausing worker.  Process memory: 8.56 GiB -- Worker memory limit: 10.67 GiB\n",
      "2023-08-31 21:41:41,682 - distributed.worker.memory - WARNING - Worker is at 70% memory usage. Resuming worker. Process memory: 7.56 GiB -- Worker memory limit: 10.67 GiB\n"
     ]
    },
    {
     "name": "stdout",
     "output_type": "stream",
     "text": [
      "Blob already exists and overwrite is set to False.\n"
     ]
    },
    {
     "name": "stderr",
     "output_type": "stream",
     "text": [
      "2023-08-31 21:41:42,272 - distributed.worker.memory - WARNING - Worker is at 80% memory usage. Pausing worker.  Process memory: 8.56 GiB -- Worker memory limit: 10.67 GiB\n"
     ]
    },
    {
     "name": "stdout",
     "output_type": "stream",
     "text": [
      "Blob already exists and overwrite is set to False.\n",
      "Blob already exists and overwrite is set to False.\n"
     ]
    },
    {
     "name": "stderr",
     "output_type": "stream",
     "text": [
      "2023-08-31 21:41:43,914 - distributed.worker.memory - WARNING - Unmanaged memory use is high. This may indicate a memory leak or the memory may not be released to the OS; see https://distributed.dask.org/en/latest/worker-memory.html#memory-not-released-back-to-the-os for more information. -- Unmanaged memory: 6.77 GiB -- Worker memory limit: 10.67 GiB\n",
      "2023-08-31 21:41:44,765 - distributed.worker.memory - WARNING - Unmanaged memory use is high. This may indicate a memory leak or the memory may not be released to the OS; see https://distributed.dask.org/en/latest/worker-memory.html#memory-not-released-back-to-the-os for more information. -- Unmanaged memory: 7.50 GiB -- Worker memory limit: 10.67 GiB\n",
      "2023-08-31 21:41:45,683 - distributed.worker.memory - WARNING - Unmanaged memory use is high. This may indicate a memory leak or the memory may not be released to the OS; see https://distributed.dask.org/en/latest/worker-memory.html#memory-not-released-back-to-the-os for more information. -- Unmanaged memory: 9.14 GiB -- Worker memory limit: 10.67 GiB\n"
     ]
    },
    {
     "name": "stdout",
     "output_type": "stream",
     "text": [
      "Blob already exists and overwrite is set to False.\n"
     ]
    },
    {
     "name": "stderr",
     "output_type": "stream",
     "text": [
      "2023-08-31 21:41:47,382 - distributed.worker.memory - WARNING - Worker is at 53% memory usage. Resuming worker. Process memory: 5.73 GiB -- Worker memory limit: 10.67 GiB\n"
     ]
    },
    {
     "name": "stdout",
     "output_type": "stream",
     "text": [
      "Blob already exists and overwrite is set to False.\n"
     ]
    },
    {
     "name": "stderr",
     "output_type": "stream",
     "text": [
      "2023-08-31 21:41:48,935 - distributed.worker.memory - WARNING - Worker is at 80% memory usage. Pausing worker.  Process memory: 8.61 GiB -- Worker memory limit: 10.67 GiB\n",
      "2023-08-31 21:41:49,014 - distributed.worker.memory - WARNING - Worker is at 72% memory usage. Resuming worker. Process memory: 7.68 GiB -- Worker memory limit: 10.67 GiB\n"
     ]
    },
    {
     "name": "stdout",
     "output_type": "stream",
     "text": [
      "Blob already exists and overwrite is set to False.\n",
      "Blob already exists and overwrite is set to False.\n",
      "Blob already exists and overwrite is set to False.\n"
     ]
    },
    {
     "name": "stderr",
     "output_type": "stream",
     "text": [
      "2023-08-31 21:41:50,714 - distributed.worker.memory - WARNING - Worker is at 83% memory usage. Pausing worker.  Process memory: 8.88 GiB -- Worker memory limit: 10.67 GiB\n",
      "2023-08-31 21:41:50,928 - distributed.worker.memory - WARNING - Worker is at 76% memory usage. Resuming worker. Process memory: 8.19 GiB -- Worker memory limit: 10.67 GiB\n"
     ]
    },
    {
     "name": "stdout",
     "output_type": "stream",
     "text": [
      "Blob already exists and overwrite is set to False.\n"
     ]
    },
    {
     "name": "stderr",
     "output_type": "stream",
     "text": [
      "2023-08-31 21:41:51,630 - distributed.worker.memory - WARNING - Unmanaged memory use is high. This may indicate a memory leak or the memory may not be released to the OS; see https://distributed.dask.org/en/latest/worker-memory.html#memory-not-released-back-to-the-os for more information. -- Unmanaged memory: 7.73 GiB -- Worker memory limit: 10.67 GiB\n",
      "2023-08-31 21:41:51,664 - distributed.worker.memory - WARNING - Worker is at 86% memory usage. Pausing worker.  Process memory: 9.19 GiB -- Worker memory limit: 10.67 GiB\n"
     ]
    },
    {
     "name": "stdout",
     "output_type": "stream",
     "text": [
      "Blob already exists and overwrite is set to False.\n",
      "Blob already exists and overwrite is set to False.\n"
     ]
    },
    {
     "name": "stderr",
     "output_type": "stream",
     "text": [
      "2023-08-31 21:41:51,964 - distributed.worker.memory - WARNING - Worker is at 76% memory usage. Resuming worker. Process memory: 8.20 GiB -- Worker memory limit: 10.67 GiB\n",
      "2023-08-31 21:41:52,287 - distributed.nanny.memory - WARNING - Worker tcp://127.0.0.1:51773 (pid=49096) exceeded 95% memory budget. Restarting...\n",
      "2023-08-31 21:41:52,477 - distributed.worker - ERROR - Worker stream died during communication: tcp://127.0.0.1:51773\n",
      "Traceback (most recent call last):\n",
      "  File \"/Users/calkoen/mambaforge/envs/testenv/lib/python3.11/site-packages/distributed/comm/tcp.py\", line 225, in read\n",
      "    frames_nbytes = await stream.read_bytes(fmt_size)\n",
      "                    ^^^^^^^^^^^^^^^^^^^^^^^^^^^^^^^^^\n",
      "tornado.iostream.StreamClosedError: Stream is closed\n",
      "\n",
      "The above exception was the direct cause of the following exception:\n",
      "\n",
      "Traceback (most recent call last):\n",
      "  File \"/Users/calkoen/mambaforge/envs/testenv/lib/python3.11/site-packages/distributed/worker.py\", line 2053, in gather_dep\n",
      "    response = await get_data_from_worker(\n",
      "               ^^^^^^^^^^^^^^^^^^^^^^^^^^^\n",
      "  File \"/Users/calkoen/mambaforge/envs/testenv/lib/python3.11/site-packages/distributed/worker.py\", line 2902, in get_data_from_worker\n",
      "    response = await send_recv(\n",
      "               ^^^^^^^^^^^^^^^^\n",
      "  File \"/Users/calkoen/mambaforge/envs/testenv/lib/python3.11/site-packages/distributed/core.py\", line 1136, in send_recv\n",
      "    response = await comm.read(deserializers=deserializers)\n",
      "               ^^^^^^^^^^^^^^^^^^^^^^^^^^^^^^^^^^^^^^^^^^^^\n",
      "  File \"/Users/calkoen/mambaforge/envs/testenv/lib/python3.11/site-packages/distributed/comm/tcp.py\", line 241, in read\n",
      "    convert_stream_closed_error(self, e)\n",
      "  File \"/Users/calkoen/mambaforge/envs/testenv/lib/python3.11/site-packages/distributed/comm/tcp.py\", line 144, in convert_stream_closed_error\n",
      "    raise CommClosedError(f\"in {obj}: {exc}\") from exc\n",
      "distributed.comm.core.CommClosedError: in <TCP (closed) Ephemeral Worker->Worker for gather local=tcp://127.0.0.1:51924 remote=tcp://127.0.0.1:51773>: Stream is closed\n",
      "2023-08-31 21:41:52,485 - distributed.nanny - WARNING - Restarting worker\n"
     ]
    },
    {
     "name": "stdout",
     "output_type": "stream",
     "text": [
      "Blob already exists and overwrite is set to False.\n"
     ]
    },
    {
     "name": "stderr",
     "output_type": "stream",
     "text": [
      "2023-08-31 21:41:54,330 - distributed.worker.memory - WARNING - Unmanaged memory use is high. This may indicate a memory leak or the memory may not be released to the OS; see https://distributed.dask.org/en/latest/worker-memory.html#memory-not-released-back-to-the-os for more information. -- Unmanaged memory: 7.51 GiB -- Worker memory limit: 10.67 GiB\n"
     ]
    },
    {
     "name": "stdout",
     "output_type": "stream",
     "text": [
      "Blob already exists and overwrite is set to False.\n"
     ]
    },
    {
     "name": "stderr",
     "output_type": "stream",
     "text": [
      "2023-08-31 21:41:57,258 - distributed.worker.memory - WARNING - Unmanaged memory use is high. This may indicate a memory leak or the memory may not be released to the OS; see https://distributed.dask.org/en/latest/worker-memory.html#memory-not-released-back-to-the-os for more information. -- Unmanaged memory: 8.19 GiB -- Worker memory limit: 10.67 GiB\n"
     ]
    },
    {
     "name": "stdout",
     "output_type": "stream",
     "text": [
      "Blob already exists and overwrite is set to False.\n"
     ]
    },
    {
     "name": "stderr",
     "output_type": "stream",
     "text": [
      "2023-08-31 21:41:57,578 - distributed.worker.memory - WARNING - Unmanaged memory use is high. This may indicate a memory leak or the memory may not be released to the OS; see https://distributed.dask.org/en/latest/worker-memory.html#memory-not-released-back-to-the-os for more information. -- Unmanaged memory: 8.27 GiB -- Worker memory limit: 10.67 GiB\n"
     ]
    },
    {
     "name": "stdout",
     "output_type": "stream",
     "text": [
      "Blob already exists and overwrite is set to False.\n"
     ]
    },
    {
     "name": "stderr",
     "output_type": "stream",
     "text": [
      "2023-08-31 21:41:58,315 - distributed.worker.memory - WARNING - Unmanaged memory use is high. This may indicate a memory leak or the memory may not be released to the OS; see https://distributed.dask.org/en/latest/worker-memory.html#memory-not-released-back-to-the-os for more information. -- Unmanaged memory: 7.49 GiB -- Worker memory limit: 10.67 GiB\n",
      "2023-08-31 21:42:04,431 - distributed.worker.memory - WARNING - Unmanaged memory use is high. This may indicate a memory leak or the memory may not be released to the OS; see https://distributed.dask.org/en/latest/worker-memory.html#memory-not-released-back-to-the-os for more information. -- Unmanaged memory: 8.53 GiB -- Worker memory limit: 10.67 GiB\n",
      "2023-08-31 21:42:04,551 - distributed.worker.memory - WARNING - Worker is at 80% memory usage. Pausing worker.  Process memory: 8.53 GiB -- Worker memory limit: 10.67 GiB\n",
      "2023-08-31 21:42:04,555 - distributed.worker.memory - WARNING - Worker is at 61% memory usage. Resuming worker. Process memory: 6.55 GiB -- Worker memory limit: 10.67 GiB\n",
      "2023-08-31 21:42:04,636 - distributed.worker.memory - WARNING - Worker is at 80% memory usage. Pausing worker.  Process memory: 8.55 GiB -- Worker memory limit: 10.67 GiB\n",
      "2023-08-31 21:42:04,730 - distributed.worker.memory - WARNING - Worker is at 52% memory usage. Resuming worker. Process memory: 5.57 GiB -- Worker memory limit: 10.67 GiB\n",
      "2023-08-31 21:42:05,916 - distributed.worker.memory - WARNING - Worker is at 88% memory usage. Pausing worker.  Process memory: 9.46 GiB -- Worker memory limit: 10.67 GiB\n",
      "2023-08-31 21:42:06,101 - distributed.worker.memory - WARNING - Worker is at 69% memory usage. Resuming worker. Process memory: 7.46 GiB -- Worker memory limit: 10.67 GiB\n",
      "2023-08-31 21:42:06,324 - distributed.worker.memory - WARNING - Unmanaged memory use is high. This may indicate a memory leak or the memory may not be released to the OS; see https://distributed.dask.org/en/latest/worker-memory.html#memory-not-released-back-to-the-os for more information. -- Unmanaged memory: 7.48 GiB -- Worker memory limit: 10.67 GiB\n"
     ]
    },
    {
     "name": "stdout",
     "output_type": "stream",
     "text": [
      "Blob already exists and overwrite is set to False.\n"
     ]
    },
    {
     "name": "stderr",
     "output_type": "stream",
     "text": [
      "2023-08-31 21:42:07,301 - distributed.worker.memory - WARNING - Unmanaged memory use is high. This may indicate a memory leak or the memory may not be released to the OS; see https://distributed.dask.org/en/latest/worker-memory.html#memory-not-released-back-to-the-os for more information. -- Unmanaged memory: 6.46 GiB -- Worker memory limit: 10.67 GiB\n",
      "2023-08-31 21:42:07,821 - distributed.worker.memory - WARNING - Unmanaged memory use is high. This may indicate a memory leak or the memory may not be released to the OS; see https://distributed.dask.org/en/latest/worker-memory.html#memory-not-released-back-to-the-os for more information. -- Unmanaged memory: 6.81 GiB -- Worker memory limit: 10.67 GiB\n"
     ]
    },
    {
     "name": "stdout",
     "output_type": "stream",
     "text": [
      "Blob already exists and overwrite is set to False.\n"
     ]
    },
    {
     "name": "stderr",
     "output_type": "stream",
     "text": [
      "2023-08-31 21:42:08,523 - distributed.worker.memory - WARNING - Worker is at 90% memory usage. Pausing worker.  Process memory: 9.68 GiB -- Worker memory limit: 10.67 GiB\n",
      "2023-08-31 21:42:08,720 - distributed.worker.memory - WARNING - Worker is at 62% memory usage. Resuming worker. Process memory: 6.68 GiB -- Worker memory limit: 10.67 GiB\n"
     ]
    },
    {
     "name": "stdout",
     "output_type": "stream",
     "text": [
      "Blob already exists and overwrite is set to False.\n",
      "Blob already exists and overwrite is set to False.\n"
     ]
    },
    {
     "name": "stderr",
     "output_type": "stream",
     "text": [
      "2023-08-31 21:42:14,431 - distributed.worker.memory - WARNING - Unmanaged memory use is high. This may indicate a memory leak or the memory may not be released to the OS; see https://distributed.dask.org/en/latest/worker-memory.html#memory-not-released-back-to-the-os for more information. -- Unmanaged memory: 7.83 GiB -- Worker memory limit: 10.67 GiB\n"
     ]
    },
    {
     "name": "stdout",
     "output_type": "stream",
     "text": [
      "Blob already exists and overwrite is set to False.\n"
     ]
    },
    {
     "name": "stderr",
     "output_type": "stream",
     "text": [
      "2023-08-31 21:42:17,654 - distributed.worker.memory - WARNING - Unmanaged memory use is high. This may indicate a memory leak or the memory may not be released to the OS; see https://distributed.dask.org/en/latest/worker-memory.html#memory-not-released-back-to-the-os for more information. -- Unmanaged memory: 7.99 GiB -- Worker memory limit: 10.67 GiB\n"
     ]
    },
    {
     "name": "stdout",
     "output_type": "stream",
     "text": [
      "Blob already exists and overwrite is set to False.\n"
     ]
    },
    {
     "name": "stderr",
     "output_type": "stream",
     "text": [
      "2023-08-31 21:42:18,578 - distributed.worker.memory - WARNING - Unmanaged memory use is high. This may indicate a memory leak or the memory may not be released to the OS; see https://distributed.dask.org/en/latest/worker-memory.html#memory-not-released-back-to-the-os for more information. -- Unmanaged memory: 7.62 GiB -- Worker memory limit: 10.67 GiB\n"
     ]
    },
    {
     "name": "stdout",
     "output_type": "stream",
     "text": [
      "Blob already exists and overwrite is set to False.\n",
      "Blob already exists and overwrite is set to False.\n"
     ]
    },
    {
     "name": "stderr",
     "output_type": "stream",
     "text": [
      "2023-08-31 21:42:19,728 - distributed.worker.memory - WARNING - Unmanaged memory use is high. This may indicate a memory leak or the memory may not be released to the OS; see https://distributed.dask.org/en/latest/worker-memory.html#memory-not-released-back-to-the-os for more information. -- Unmanaged memory: 6.45 GiB -- Worker memory limit: 10.67 GiB\n"
     ]
    },
    {
     "name": "stdout",
     "output_type": "stream",
     "text": [
      "Blob already exists and overwrite is set to False.\n"
     ]
    },
    {
     "name": "stderr",
     "output_type": "stream",
     "text": [
      "2023-08-31 21:42:21,556 - distributed.worker.memory - WARNING - Unmanaged memory use is high. This may indicate a memory leak or the memory may not be released to the OS; see https://distributed.dask.org/en/latest/worker-memory.html#memory-not-released-back-to-the-os for more information. -- Unmanaged memory: 7.47 GiB -- Worker memory limit: 10.67 GiB\n",
      "2023-08-31 21:42:22,925 - distributed.worker.memory - WARNING - Unmanaged memory use is high. This may indicate a memory leak or the memory may not be released to the OS; see https://distributed.dask.org/en/latest/worker-memory.html#memory-not-released-back-to-the-os for more information. -- Unmanaged memory: 6.49 GiB -- Worker memory limit: 10.67 GiB\n"
     ]
    },
    {
     "name": "stdout",
     "output_type": "stream",
     "text": [
      "Blob already exists and overwrite is set to False.\n",
      "Blob already exists and overwrite is set to False.\n",
      "Blob already exists and overwrite is set to False.\n"
     ]
    },
    {
     "name": "stderr",
     "output_type": "stream",
     "text": [
      "2023-08-31 21:42:30,067 - distributed.worker.memory - WARNING - Unmanaged memory use is high. This may indicate a memory leak or the memory may not be released to the OS; see https://distributed.dask.org/en/latest/worker-memory.html#memory-not-released-back-to-the-os for more information. -- Unmanaged memory: 6.83 GiB -- Worker memory limit: 10.67 GiB\n",
      "2023-08-31 21:42:33,755 - distributed.worker.memory - WARNING - Unmanaged memory use is high. This may indicate a memory leak or the memory may not be released to the OS; see https://distributed.dask.org/en/latest/worker-memory.html#memory-not-released-back-to-the-os for more information. -- Unmanaged memory: 6.51 GiB -- Worker memory limit: 10.67 GiB\n",
      "2023-08-31 21:42:34,061 - distributed.worker.memory - WARNING - Unmanaged memory use is high. This may indicate a memory leak or the memory may not be released to the OS; see https://distributed.dask.org/en/latest/worker-memory.html#memory-not-released-back-to-the-os for more information. -- Unmanaged memory: 7.48 GiB -- Worker memory limit: 10.67 GiB\n",
      "2023-08-31 21:42:34,243 - distributed.worker.memory - WARNING - Unmanaged memory use is high. This may indicate a memory leak or the memory may not be released to the OS; see https://distributed.dask.org/en/latest/worker-memory.html#memory-not-released-back-to-the-os for more information. -- Unmanaged memory: 6.50 GiB -- Worker memory limit: 10.67 GiB\n",
      "2023-08-31 21:42:34,821 - distributed.worker.memory - WARNING - Unmanaged memory use is high. This may indicate a memory leak or the memory may not be released to the OS; see https://distributed.dask.org/en/latest/worker-memory.html#memory-not-released-back-to-the-os for more information. -- Unmanaged memory: 7.26 GiB -- Worker memory limit: 10.67 GiB\n"
     ]
    },
    {
     "name": "stdout",
     "output_type": "stream",
     "text": [
      "Blob already exists and overwrite is set to False.\n",
      "Blob already exists and overwrite is set to False.\n"
     ]
    },
    {
     "name": "stderr",
     "output_type": "stream",
     "text": [
      "2023-08-31 21:42:37,018 - distributed.worker.memory - WARNING - Worker is at 80% memory usage. Pausing worker.  Process memory: 8.55 GiB -- Worker memory limit: 10.67 GiB\n",
      "2023-08-31 21:42:37,236 - distributed.worker.memory - WARNING - Worker is at 60% memory usage. Resuming worker. Process memory: 6.43 GiB -- Worker memory limit: 10.67 GiB\n"
     ]
    },
    {
     "name": "stdout",
     "output_type": "stream",
     "text": [
      "Blob already exists and overwrite is set to False.\n"
     ]
    },
    {
     "name": "stderr",
     "output_type": "stream",
     "text": [
      "2023-08-31 21:42:40,002 - distributed.worker.memory - WARNING - Unmanaged memory use is high. This may indicate a memory leak or the memory may not be released to the OS; see https://distributed.dask.org/en/latest/worker-memory.html#memory-not-released-back-to-the-os for more information. -- Unmanaged memory: 6.88 GiB -- Worker memory limit: 10.67 GiB\n",
      "2023-08-31 21:42:40,078 - distributed.worker.memory - WARNING - Unmanaged memory use is high. This may indicate a memory leak or the memory may not be released to the OS; see https://distributed.dask.org/en/latest/worker-memory.html#memory-not-released-back-to-the-os for more information. -- Unmanaged memory: 7.34 GiB -- Worker memory limit: 10.67 GiB\n"
     ]
    },
    {
     "name": "stdout",
     "output_type": "stream",
     "text": [
      "Blob already exists and overwrite is set to False.\n"
     ]
    },
    {
     "name": "stderr",
     "output_type": "stream",
     "text": [
      "2023-08-31 21:42:40,560 - distributed.worker.memory - WARNING - Worker is at 87% memory usage. Pausing worker.  Process memory: 9.35 GiB -- Worker memory limit: 10.67 GiB\n",
      "2023-08-31 21:42:40,736 - distributed.worker.memory - WARNING - Worker is at 76% memory usage. Resuming worker. Process memory: 8.19 GiB -- Worker memory limit: 10.67 GiB\n"
     ]
    },
    {
     "name": "stdout",
     "output_type": "stream",
     "text": [
      "Blob already exists and overwrite is set to False.\n"
     ]
    },
    {
     "name": "stderr",
     "output_type": "stream",
     "text": [
      "2023-08-31 21:42:40,837 - distributed.worker.memory - WARNING - Worker is at 81% memory usage. Pausing worker.  Process memory: 8.66 GiB -- Worker memory limit: 10.67 GiB\n",
      "2023-08-31 21:42:40,928 - distributed.worker.memory - WARNING - Worker is at 73% memory usage. Resuming worker. Process memory: 7.85 GiB -- Worker memory limit: 10.67 GiB\n",
      "2023-08-31 21:42:41,823 - distributed.worker.memory - WARNING - Worker is at 80% memory usage. Pausing worker.  Process memory: 8.63 GiB -- Worker memory limit: 10.67 GiB\n",
      "2023-08-31 21:42:42,124 - distributed.worker.memory - WARNING - Worker is at 71% memory usage. Resuming worker. Process memory: 7.59 GiB -- Worker memory limit: 10.67 GiB\n"
     ]
    },
    {
     "name": "stdout",
     "output_type": "stream",
     "text": [
      "Blob already exists and overwrite is set to False.\n",
      "Blob already exists and overwrite is set to False.\n"
     ]
    },
    {
     "name": "stderr",
     "output_type": "stream",
     "text": [
      "2023-08-31 21:42:42,977 - distributed.nanny.memory - WARNING - Worker tcp://127.0.0.1:51838 (pid=49243) exceeded 95% memory budget. Restarting...\n",
      "2023-08-31 21:42:43,175 - distributed.worker - ERROR - Worker stream died during communication: tcp://127.0.0.1:51838\n",
      "Traceback (most recent call last):\n",
      "  File \"/Users/calkoen/mambaforge/envs/testenv/lib/python3.11/site-packages/distributed/comm/tcp.py\", line 225, in read\n",
      "    frames_nbytes = await stream.read_bytes(fmt_size)\n",
      "                    ^^^^^^^^^^^^^^^^^^^^^^^^^^^^^^^^^\n",
      "tornado.iostream.StreamClosedError: Stream is closed\n",
      "\n",
      "The above exception was the direct cause of the following exception:\n",
      "\n",
      "Traceback (most recent call last):\n",
      "  File \"/Users/calkoen/mambaforge/envs/testenv/lib/python3.11/site-packages/distributed/worker.py\", line 2053, in gather_dep\n",
      "    response = await get_data_from_worker(\n",
      "               ^^^^^^^^^^^^^^^^^^^^^^^^^^^\n",
      "  File \"/Users/calkoen/mambaforge/envs/testenv/lib/python3.11/site-packages/distributed/worker.py\", line 2902, in get_data_from_worker\n",
      "    response = await send_recv(\n",
      "               ^^^^^^^^^^^^^^^^\n",
      "  File \"/Users/calkoen/mambaforge/envs/testenv/lib/python3.11/site-packages/distributed/core.py\", line 1136, in send_recv\n",
      "    response = await comm.read(deserializers=deserializers)\n",
      "               ^^^^^^^^^^^^^^^^^^^^^^^^^^^^^^^^^^^^^^^^^^^^\n",
      "  File \"/Users/calkoen/mambaforge/envs/testenv/lib/python3.11/site-packages/distributed/comm/tcp.py\", line 241, in read\n",
      "    convert_stream_closed_error(self, e)\n",
      "  File \"/Users/calkoen/mambaforge/envs/testenv/lib/python3.11/site-packages/distributed/comm/tcp.py\", line 144, in convert_stream_closed_error\n",
      "    raise CommClosedError(f\"in {obj}: {exc}\") from exc\n",
      "distributed.comm.core.CommClosedError: in <TCP (closed) Ephemeral Worker->Worker for gather local=tcp://127.0.0.1:51855 remote=tcp://127.0.0.1:51838>: Stream is closed\n",
      "2023-08-31 21:42:43,179 - distributed.worker - ERROR - Worker stream died during communication: tcp://127.0.0.1:51838\n",
      "Traceback (most recent call last):\n",
      "  File \"/Users/calkoen/mambaforge/envs/testenv/lib/python3.11/site-packages/distributed/comm/tcp.py\", line 235, in read\n",
      "    n = await stream.read_into(chunk)\n",
      "        ^^^^^^^^^^^^^^^^^^^^^^^^^^^^^\n",
      "tornado.iostream.StreamClosedError: Stream is closed\n",
      "\n",
      "The above exception was the direct cause of the following exception:\n",
      "\n",
      "Traceback (most recent call last):\n",
      "  File \"/Users/calkoen/mambaforge/envs/testenv/lib/python3.11/site-packages/distributed/worker.py\", line 2053, in gather_dep\n",
      "    response = await get_data_from_worker(\n",
      "               ^^^^^^^^^^^^^^^^^^^^^^^^^^^\n",
      "  File \"/Users/calkoen/mambaforge/envs/testenv/lib/python3.11/site-packages/distributed/worker.py\", line 2902, in get_data_from_worker\n",
      "    response = await send_recv(\n",
      "               ^^^^^^^^^^^^^^^^\n",
      "  File \"/Users/calkoen/mambaforge/envs/testenv/lib/python3.11/site-packages/distributed/core.py\", line 1136, in send_recv\n",
      "    response = await comm.read(deserializers=deserializers)\n",
      "               ^^^^^^^^^^^^^^^^^^^^^^^^^^^^^^^^^^^^^^^^^^^^\n",
      "  File \"/Users/calkoen/mambaforge/envs/testenv/lib/python3.11/site-packages/distributed/comm/tcp.py\", line 241, in read\n",
      "    convert_stream_closed_error(self, e)\n",
      "  File \"/Users/calkoen/mambaforge/envs/testenv/lib/python3.11/site-packages/distributed/comm/tcp.py\", line 144, in convert_stream_closed_error\n",
      "    raise CommClosedError(f\"in {obj}: {exc}\") from exc\n",
      "distributed.comm.core.CommClosedError: in <TCP (closed) Ephemeral Worker->Worker for gather local=tcp://127.0.0.1:51895 remote=tcp://127.0.0.1:51838>: Stream is closed\n",
      "2023-08-31 21:42:43,184 - distributed.nanny - WARNING - Restarting worker\n",
      "2023-08-31 21:42:43,284 - distributed.worker.memory - WARNING - Worker is at 82% memory usage. Pausing worker.  Process memory: 8.83 GiB -- Worker memory limit: 10.67 GiB\n",
      "2023-08-31 21:42:43,481 - distributed.worker.memory - WARNING - Worker is at 74% memory usage. Resuming worker. Process memory: 7.91 GiB -- Worker memory limit: 10.67 GiB\n"
     ]
    },
    {
     "name": "stdout",
     "output_type": "stream",
     "text": [
      "Blob already exists and overwrite is set to False.\n"
     ]
    },
    {
     "name": "stderr",
     "output_type": "stream",
     "text": [
      "2023-08-31 21:42:43,882 - distributed.worker.memory - WARNING - Worker is at 83% memory usage. Pausing worker.  Process memory: 8.92 GiB -- Worker memory limit: 10.67 GiB\n",
      "2023-08-31 21:42:44,082 - distributed.worker.memory - WARNING - Worker is at 76% memory usage. Resuming worker. Process memory: 8.16 GiB -- Worker memory limit: 10.67 GiB\n"
     ]
    },
    {
     "name": "stdout",
     "output_type": "stream",
     "text": [
      "Blob already exists and overwrite is set to False.\n"
     ]
    },
    {
     "name": "stderr",
     "output_type": "stream",
     "text": [
      "2023-08-31 21:42:44,324 - distributed.worker.memory - WARNING - Unmanaged memory use is high. This may indicate a memory leak or the memory may not be released to the OS; see https://distributed.dask.org/en/latest/worker-memory.html#memory-not-released-back-to-the-os for more information. -- Unmanaged memory: 7.81 GiB -- Worker memory limit: 10.67 GiB\n",
      "2023-08-31 21:42:45,409 - distributed.worker.memory - WARNING - Unmanaged memory use is high. This may indicate a memory leak or the memory may not be released to the OS; see https://distributed.dask.org/en/latest/worker-memory.html#memory-not-released-back-to-the-os for more information. -- Unmanaged memory: 6.51 GiB -- Worker memory limit: 10.67 GiB\n",
      "2023-08-31 21:42:46,582 - distributed.worker.memory - WARNING - Worker is at 80% memory usage. Pausing worker.  Process memory: 8.54 GiB -- Worker memory limit: 10.67 GiB\n",
      "2023-08-31 21:42:48,923 - distributed.worker.memory - WARNING - Worker is at 80% memory usage. Pausing worker.  Process memory: 8.54 GiB -- Worker memory limit: 10.67 GiB\n"
     ]
    },
    {
     "name": "stdout",
     "output_type": "stream",
     "text": [
      "Blob already exists and overwrite is set to False.\n"
     ]
    },
    {
     "name": "stderr",
     "output_type": "stream",
     "text": [
      "2023-08-31 21:42:50,082 - distributed.worker.memory - WARNING - Unmanaged memory use is high. This may indicate a memory leak or the memory may not be released to the OS; see https://distributed.dask.org/en/latest/worker-memory.html#memory-not-released-back-to-the-os for more information. -- Unmanaged memory: 9.00 GiB -- Worker memory limit: 10.67 GiB\n",
      "2023-08-31 21:42:51,641 - distributed.worker.memory - WARNING - Worker is at 71% memory usage. Resuming worker. Process memory: 7.66 GiB -- Worker memory limit: 10.67 GiB\n",
      "2023-08-31 21:42:51,828 - distributed.worker.memory - WARNING - Unmanaged memory use is high. This may indicate a memory leak or the memory may not be released to the OS; see https://distributed.dask.org/en/latest/worker-memory.html#memory-not-released-back-to-the-os for more information. -- Unmanaged memory: 7.27 GiB -- Worker memory limit: 10.67 GiB\n"
     ]
    },
    {
     "name": "stdout",
     "output_type": "stream",
     "text": [
      "Blob already exists and overwrite is set to False.\n"
     ]
    },
    {
     "name": "stderr",
     "output_type": "stream",
     "text": [
      "2023-08-31 21:42:52,459 - distributed.worker.memory - WARNING - Worker is at 92% memory usage. Pausing worker.  Process memory: 9.86 GiB -- Worker memory limit: 10.67 GiB\n",
      "2023-08-31 21:42:52,687 - distributed.worker.memory - WARNING - Worker is at 74% memory usage. Resuming worker. Process memory: 7.92 GiB -- Worker memory limit: 10.67 GiB\n",
      "2023-08-31 21:42:52,855 - distributed.worker.memory - WARNING - Worker is at 73% memory usage. Resuming worker. Process memory: 7.87 GiB -- Worker memory limit: 10.67 GiB\n"
     ]
    },
    {
     "name": "stdout",
     "output_type": "stream",
     "text": [
      "Blob already exists and overwrite is set to False.\n",
      "Blob already exists and overwrite is set to False.\n",
      "Blob already exists and overwrite is set to False.\n"
     ]
    },
    {
     "name": "stderr",
     "output_type": "stream",
     "text": [
      "2023-08-31 21:42:54,286 - distributed.worker.memory - WARNING - Unmanaged memory use is high. This may indicate a memory leak or the memory may not be released to the OS; see https://distributed.dask.org/en/latest/worker-memory.html#memory-not-released-back-to-the-os for more information. -- Unmanaged memory: 6.87 GiB -- Worker memory limit: 10.67 GiB\n",
      "2023-08-31 21:42:54,569 - distributed.worker.memory - WARNING - Worker is at 92% memory usage. Pausing worker.  Process memory: 9.88 GiB -- Worker memory limit: 10.67 GiB\n",
      "2023-08-31 21:42:54,757 - distributed.worker.memory - WARNING - Worker is at 74% memory usage. Resuming worker. Process memory: 7.91 GiB -- Worker memory limit: 10.67 GiB\n"
     ]
    },
    {
     "name": "stdout",
     "output_type": "stream",
     "text": [
      "Blob already exists and overwrite is set to False.\n"
     ]
    },
    {
     "name": "stderr",
     "output_type": "stream",
     "text": [
      "2023-08-31 21:42:55,532 - distributed.worker.memory - WARNING - Worker is at 83% memory usage. Pausing worker.  Process memory: 8.88 GiB -- Worker memory limit: 10.67 GiB\n",
      "2023-08-31 21:42:55,708 - distributed.worker.memory - WARNING - Worker is at 68% memory usage. Resuming worker. Process memory: 7.27 GiB -- Worker memory limit: 10.67 GiB\n"
     ]
    },
    {
     "name": "stdout",
     "output_type": "stream",
     "text": [
      "Blob already exists and overwrite is set to False.\n"
     ]
    },
    {
     "name": "stderr",
     "output_type": "stream",
     "text": [
      "2023-08-31 21:42:57,125 - distributed.worker.memory - WARNING - Unmanaged memory use is high. This may indicate a memory leak or the memory may not be released to the OS; see https://distributed.dask.org/en/latest/worker-memory.html#memory-not-released-back-to-the-os for more information. -- Unmanaged memory: 7.47 GiB -- Worker memory limit: 10.67 GiB\n"
     ]
    },
    {
     "name": "stdout",
     "output_type": "stream",
     "text": [
      "Blob already exists and overwrite is set to False.\n"
     ]
    },
    {
     "name": "stderr",
     "output_type": "stream",
     "text": [
      "2023-08-31 21:43:00,183 - distributed.worker.memory - WARNING - Unmanaged memory use is high. This may indicate a memory leak or the memory may not be released to the OS; see https://distributed.dask.org/en/latest/worker-memory.html#memory-not-released-back-to-the-os for more information. -- Unmanaged memory: 7.61 GiB -- Worker memory limit: 10.67 GiB\n",
      "2023-08-31 21:43:01,830 - distributed.worker.memory - WARNING - Unmanaged memory use is high. This may indicate a memory leak or the memory may not be released to the OS; see https://distributed.dask.org/en/latest/worker-memory.html#memory-not-released-back-to-the-os for more information. -- Unmanaged memory: 8.02 GiB -- Worker memory limit: 10.67 GiB\n"
     ]
    },
    {
     "name": "stdout",
     "output_type": "stream",
     "text": [
      "Blob already exists and overwrite is set to False.\n",
      "Blob already exists and overwrite is set to False.\n",
      "Blob already exists and overwrite is set to False.\n"
     ]
    },
    {
     "name": "stderr",
     "output_type": "stream",
     "text": [
      "2023-08-31 21:43:05,807 - distributed.worker.memory - WARNING - Worker is at 85% memory usage. Pausing worker.  Process memory: 9.07 GiB -- Worker memory limit: 10.67 GiB\n",
      "2023-08-31 21:43:05,978 - distributed.worker.memory - WARNING - Worker is at 65% memory usage. Resuming worker. Process memory: 6.94 GiB -- Worker memory limit: 10.67 GiB\n",
      "2023-08-31 21:43:06,388 - distributed.worker.memory - WARNING - Unmanaged memory use is high. This may indicate a memory leak or the memory may not be released to the OS; see https://distributed.dask.org/en/latest/worker-memory.html#memory-not-released-back-to-the-os for more information. -- Unmanaged memory: 6.49 GiB -- Worker memory limit: 10.67 GiB\n",
      "2023-08-31 21:43:07,224 - distributed.worker.memory - WARNING - Unmanaged memory use is high. This may indicate a memory leak or the memory may not be released to the OS; see https://distributed.dask.org/en/latest/worker-memory.html#memory-not-released-back-to-the-os for more information. -- Unmanaged memory: 7.79 GiB -- Worker memory limit: 10.67 GiB\n",
      "2023-08-31 21:43:08,576 - distributed.worker.memory - WARNING - Worker is at 81% memory usage. Pausing worker.  Process memory: 8.75 GiB -- Worker memory limit: 10.67 GiB\n",
      "2023-08-31 21:43:08,759 - distributed.worker.memory - WARNING - Worker is at 72% memory usage. Resuming worker. Process memory: 7.75 GiB -- Worker memory limit: 10.67 GiB\n",
      "2023-08-31 21:43:08,960 - distributed.worker.memory - WARNING - Unmanaged memory use is high. This may indicate a memory leak or the memory may not be released to the OS; see https://distributed.dask.org/en/latest/worker-memory.html#memory-not-released-back-to-the-os for more information. -- Unmanaged memory: 6.93 GiB -- Worker memory limit: 10.67 GiB\n",
      "2023-08-31 21:43:09,517 - distributed.worker.memory - WARNING - Worker is at 81% memory usage. Pausing worker.  Process memory: 8.75 GiB -- Worker memory limit: 10.67 GiB\n",
      "2023-08-31 21:43:09,663 - distributed.worker.memory - WARNING - Worker is at 72% memory usage. Resuming worker. Process memory: 7.74 GiB -- Worker memory limit: 10.67 GiB\n",
      "2023-08-31 21:43:10,283 - distributed.worker.memory - WARNING - Unmanaged memory use is high. This may indicate a memory leak or the memory may not be released to the OS; see https://distributed.dask.org/en/latest/worker-memory.html#memory-not-released-back-to-the-os for more information. -- Unmanaged memory: 7.60 GiB -- Worker memory limit: 10.67 GiB\n"
     ]
    },
    {
     "name": "stdout",
     "output_type": "stream",
     "text": [
      "Blob already exists and overwrite is set to False.\n",
      "Blob already exists and overwrite is set to False.\n",
      "Blob already exists and overwrite is set to False.\n"
     ]
    },
    {
     "name": "stderr",
     "output_type": "stream",
     "text": [
      "2023-08-31 21:43:14,797 - distributed.worker.memory - WARNING - Worker is at 81% memory usage. Pausing worker.  Process memory: 8.68 GiB -- Worker memory limit: 10.67 GiB\n"
     ]
    },
    {
     "name": "stdout",
     "output_type": "stream",
     "text": [
      "Blob already exists and overwrite is set to False.\n"
     ]
    },
    {
     "name": "stderr",
     "output_type": "stream",
     "text": [
      "2023-08-31 21:43:15,110 - distributed.worker.memory - WARNING - Worker is at 63% memory usage. Resuming worker. Process memory: 6.75 GiB -- Worker memory limit: 10.67 GiB\n",
      "2023-08-31 21:43:15,197 - distributed.worker.memory - WARNING - Worker is at 82% memory usage. Pausing worker.  Process memory: 8.82 GiB -- Worker memory limit: 10.67 GiB\n",
      "2023-08-31 21:43:15,258 - distributed.worker.memory - WARNING - Worker is at 61% memory usage. Resuming worker. Process memory: 6.55 GiB -- Worker memory limit: 10.67 GiB\n"
     ]
    },
    {
     "name": "stdout",
     "output_type": "stream",
     "text": [
      "Blob already exists and overwrite is set to False.\n",
      "Blob already exists and overwrite is set to False.\n",
      "Blob already exists and overwrite is set to False.\n"
     ]
    },
    {
     "name": "stderr",
     "output_type": "stream",
     "text": [
      "2023-08-31 21:43:18,542 - distributed.worker.memory - WARNING - Unmanaged memory use is high. This may indicate a memory leak or the memory may not be released to the OS; see https://distributed.dask.org/en/latest/worker-memory.html#memory-not-released-back-to-the-os for more information. -- Unmanaged memory: 6.50 GiB -- Worker memory limit: 10.67 GiB\n",
      "2023-08-31 21:43:20,344 - distributed.worker.memory - WARNING - Unmanaged memory use is high. This may indicate a memory leak or the memory may not be released to the OS; see https://distributed.dask.org/en/latest/worker-memory.html#memory-not-released-back-to-the-os for more information. -- Unmanaged memory: 6.87 GiB -- Worker memory limit: 10.67 GiB\n",
      "2023-08-31 21:43:20,382 - distributed.worker.memory - WARNING - Unmanaged memory use is high. This may indicate a memory leak or the memory may not be released to the OS; see https://distributed.dask.org/en/latest/worker-memory.html#memory-not-released-back-to-the-os for more information. -- Unmanaged memory: 7.67 GiB -- Worker memory limit: 10.67 GiB\n",
      "2023-08-31 21:43:20,759 - distributed.worker.memory - WARNING - Unmanaged memory use is high. This may indicate a memory leak or the memory may not be released to the OS; see https://distributed.dask.org/en/latest/worker-memory.html#memory-not-released-back-to-the-os for more information. -- Unmanaged memory: 7.47 GiB -- Worker memory limit: 10.67 GiB\n",
      "2023-08-31 21:43:21,728 - distributed.worker.memory - WARNING - Unmanaged memory use is high. This may indicate a memory leak or the memory may not be released to the OS; see https://distributed.dask.org/en/latest/worker-memory.html#memory-not-released-back-to-the-os for more information. -- Unmanaged memory: 8.02 GiB -- Worker memory limit: 10.67 GiB\n",
      "2023-08-31 21:43:22,635 - distributed.worker.memory - WARNING - Worker is at 81% memory usage. Pausing worker.  Process memory: 8.68 GiB -- Worker memory limit: 10.67 GiB\n",
      "2023-08-31 21:43:22,802 - distributed.worker.memory - WARNING - Worker is at 72% memory usage. Resuming worker. Process memory: 7.72 GiB -- Worker memory limit: 10.67 GiB\n",
      "2023-08-31 21:43:23,429 - distributed.worker.memory - WARNING - Worker is at 80% memory usage. Pausing worker.  Process memory: 8.54 GiB -- Worker memory limit: 10.67 GiB\n",
      "2023-08-31 21:43:23,445 - distributed.worker.memory - WARNING - Worker is at 75% memory usage. Resuming worker. Process memory: 8.07 GiB -- Worker memory limit: 10.67 GiB\n"
     ]
    },
    {
     "name": "stdout",
     "output_type": "stream",
     "text": [
      "Blob already exists and overwrite is set to False.\n",
      "Blob already exists and overwrite is set to False.\n"
     ]
    },
    {
     "name": "stderr",
     "output_type": "stream",
     "text": [
      "2023-08-31 21:43:25,549 - distributed.worker.memory - WARNING - Worker is at 85% memory usage. Pausing worker.  Process memory: 9.10 GiB -- Worker memory limit: 10.67 GiB\n",
      "2023-08-31 21:43:25,876 - distributed.nanny.memory - WARNING - Worker tcp://127.0.0.1:51802 (pid=49154) exceeded 95% memory budget. Restarting...\n",
      "2023-08-31 21:43:26,050 - distributed.worker - ERROR - failed during get data with tcp://127.0.0.1:51963 -> tcp://127.0.0.1:51802\n",
      "Traceback (most recent call last):\n",
      "  File \"/Users/calkoen/mambaforge/envs/testenv/lib/python3.11/site-packages/tornado/iostream.py\", line 962, in _handle_write\n",
      "    num_bytes = self.write_to_fd(self._write_buffer.peek(size))\n",
      "                ^^^^^^^^^^^^^^^^^^^^^^^^^^^^^^^^^^^^^^^^^^^^^^^\n",
      "  File \"/Users/calkoen/mambaforge/envs/testenv/lib/python3.11/site-packages/tornado/iostream.py\", line 1124, in write_to_fd\n",
      "    return self.socket.send(data)  # type: ignore\n",
      "           ^^^^^^^^^^^^^^^^^^^^^^\n",
      "BrokenPipeError: [Errno 32] Broken pipe\n",
      "\n",
      "The above exception was the direct cause of the following exception:\n",
      "\n",
      "Traceback (most recent call last):\n",
      "  File \"/Users/calkoen/mambaforge/envs/testenv/lib/python3.11/site-packages/distributed/worker.py\", line 1780, in get_data\n",
      "    response = await comm.read(deserializers=serializers)\n",
      "               ^^^^^^^^^^^^^^^^^^^^^^^^^^^^^^^^^^^^^^^^^^\n",
      "  File \"/Users/calkoen/mambaforge/envs/testenv/lib/python3.11/site-packages/distributed/comm/tcp.py\", line 241, in read\n",
      "    convert_stream_closed_error(self, e)\n",
      "  File \"/Users/calkoen/mambaforge/envs/testenv/lib/python3.11/site-packages/distributed/comm/tcp.py\", line 142, in convert_stream_closed_error\n",
      "    raise CommClosedError(f\"in {obj}: {exc.__class__.__name__}: {exc}\") from exc\n",
      "distributed.comm.core.CommClosedError: in <TCP (closed)  local=tcp://127.0.0.1:51963 remote=tcp://127.0.0.1:51984>: BrokenPipeError: [Errno 32] Broken pipe\n",
      "2023-08-31 21:43:26,050 - distributed.worker - ERROR - failed during get data with tcp://127.0.0.1:51625 -> tcp://127.0.0.1:51802\n",
      "Traceback (most recent call last):\n",
      "  File \"/Users/calkoen/mambaforge/envs/testenv/lib/python3.11/site-packages/tornado/iostream.py\", line 962, in _handle_write\n",
      "    num_bytes = self.write_to_fd(self._write_buffer.peek(size))\n",
      "                ^^^^^^^^^^^^^^^^^^^^^^^^^^^^^^^^^^^^^^^^^^^^^^^\n",
      "  File \"/Users/calkoen/mambaforge/envs/testenv/lib/python3.11/site-packages/tornado/iostream.py\", line 1124, in write_to_fd\n",
      "    return self.socket.send(data)  # type: ignore\n",
      "           ^^^^^^^^^^^^^^^^^^^^^^\n",
      "BrokenPipeError: [Errno 32] Broken pipe\n",
      "\n",
      "The above exception was the direct cause of the following exception:\n",
      "\n",
      "Traceback (most recent call last):\n",
      "  File \"/Users/calkoen/mambaforge/envs/testenv/lib/python3.11/site-packages/distributed/worker.py\", line 1780, in get_data\n",
      "    response = await comm.read(deserializers=serializers)\n",
      "               ^^^^^^^^^^^^^^^^^^^^^^^^^^^^^^^^^^^^^^^^^^\n",
      "  File \"/Users/calkoen/mambaforge/envs/testenv/lib/python3.11/site-packages/distributed/comm/tcp.py\", line 241, in read\n",
      "    convert_stream_closed_error(self, e)\n",
      "  File \"/Users/calkoen/mambaforge/envs/testenv/lib/python3.11/site-packages/distributed/comm/tcp.py\", line 142, in convert_stream_closed_error\n",
      "    raise CommClosedError(f\"in {obj}: {exc.__class__.__name__}: {exc}\") from exc\n",
      "distributed.comm.core.CommClosedError: in <TCP (closed)  local=tcp://127.0.0.1:51625 remote=tcp://127.0.0.1:51868>: BrokenPipeError: [Errno 32] Broken pipe\n",
      "2023-08-31 21:43:26,076 - distributed.nanny - WARNING - Restarting worker\n",
      "2023-08-31 21:43:26,200 - distributed.worker - ERROR - failed during get data with tcp://127.0.0.1:51852 -> tcp://127.0.0.1:51802\n",
      "Traceback (most recent call last):\n",
      "  File \"/Users/calkoen/mambaforge/envs/testenv/lib/python3.11/site-packages/tornado/iostream.py\", line 962, in _handle_write\n",
      "    num_bytes = self.write_to_fd(self._write_buffer.peek(size))\n",
      "                ^^^^^^^^^^^^^^^^^^^^^^^^^^^^^^^^^^^^^^^^^^^^^^^\n",
      "  File \"/Users/calkoen/mambaforge/envs/testenv/lib/python3.11/site-packages/tornado/iostream.py\", line 1124, in write_to_fd\n",
      "    return self.socket.send(data)  # type: ignore\n",
      "           ^^^^^^^^^^^^^^^^^^^^^^\n",
      "BrokenPipeError: [Errno 32] Broken pipe\n",
      "\n",
      "The above exception was the direct cause of the following exception:\n",
      "\n",
      "Traceback (most recent call last):\n",
      "  File \"/Users/calkoen/mambaforge/envs/testenv/lib/python3.11/site-packages/distributed/worker.py\", line 1780, in get_data\n",
      "    response = await comm.read(deserializers=serializers)\n",
      "               ^^^^^^^^^^^^^^^^^^^^^^^^^^^^^^^^^^^^^^^^^^\n",
      "  File \"/Users/calkoen/mambaforge/envs/testenv/lib/python3.11/site-packages/distributed/comm/tcp.py\", line 241, in read\n",
      "    convert_stream_closed_error(self, e)\n",
      "  File \"/Users/calkoen/mambaforge/envs/testenv/lib/python3.11/site-packages/distributed/comm/tcp.py\", line 142, in convert_stream_closed_error\n",
      "    raise CommClosedError(f\"in {obj}: {exc.__class__.__name__}: {exc}\") from exc\n",
      "distributed.comm.core.CommClosedError: in <TCP (closed)  local=tcp://127.0.0.1:51852 remote=tcp://127.0.0.1:51983>: BrokenPipeError: [Errno 32] Broken pipe\n",
      "2023-08-31 21:43:26,608 - distributed.worker - ERROR - failed during get data with tcp://127.0.0.1:51881 -> tcp://127.0.0.1:51802\n",
      "Traceback (most recent call last):\n",
      "  File \"/Users/calkoen/mambaforge/envs/testenv/lib/python3.11/site-packages/tornado/iostream.py\", line 962, in _handle_write\n",
      "    num_bytes = self.write_to_fd(self._write_buffer.peek(size))\n",
      "                ^^^^^^^^^^^^^^^^^^^^^^^^^^^^^^^^^^^^^^^^^^^^^^^\n",
      "  File \"/Users/calkoen/mambaforge/envs/testenv/lib/python3.11/site-packages/tornado/iostream.py\", line 1124, in write_to_fd\n",
      "    return self.socket.send(data)  # type: ignore\n",
      "           ^^^^^^^^^^^^^^^^^^^^^^\n",
      "BrokenPipeError: [Errno 32] Broken pipe\n",
      "\n",
      "The above exception was the direct cause of the following exception:\n",
      "\n",
      "Traceback (most recent call last):\n",
      "  File \"/Users/calkoen/mambaforge/envs/testenv/lib/python3.11/site-packages/distributed/worker.py\", line 1780, in get_data\n",
      "    response = await comm.read(deserializers=serializers)\n",
      "               ^^^^^^^^^^^^^^^^^^^^^^^^^^^^^^^^^^^^^^^^^^\n",
      "  File \"/Users/calkoen/mambaforge/envs/testenv/lib/python3.11/site-packages/distributed/comm/tcp.py\", line 241, in read\n",
      "    convert_stream_closed_error(self, e)\n",
      "  File \"/Users/calkoen/mambaforge/envs/testenv/lib/python3.11/site-packages/distributed/comm/tcp.py\", line 142, in convert_stream_closed_error\n",
      "    raise CommClosedError(f\"in {obj}: {exc.__class__.__name__}: {exc}\") from exc\n",
      "distributed.comm.core.CommClosedError: in <TCP (closed)  local=tcp://127.0.0.1:51881 remote=tcp://127.0.0.1:51982>: BrokenPipeError: [Errno 32] Broken pipe\n"
     ]
    },
    {
     "name": "stdout",
     "output_type": "stream",
     "text": [
      "Blob already exists and overwrite is set to False.\n"
     ]
    },
    {
     "name": "stderr",
     "output_type": "stream",
     "text": [
      "2023-08-31 21:43:28,579 - distributed.worker.memory - WARNING - Unmanaged memory use is high. This may indicate a memory leak or the memory may not be released to the OS; see https://distributed.dask.org/en/latest/worker-memory.html#memory-not-released-back-to-the-os for more information. -- Unmanaged memory: 7.63 GiB -- Worker memory limit: 10.67 GiB\n",
      "2023-08-31 21:43:28,923 - distributed.worker.memory - WARNING - Worker is at 80% memory usage. Pausing worker.  Process memory: 8.55 GiB -- Worker memory limit: 10.67 GiB\n",
      "2023-08-31 21:43:28,929 - distributed.worker.memory - WARNING - Worker is at 72% memory usage. Resuming worker. Process memory: 7.73 GiB -- Worker memory limit: 10.67 GiB\n"
     ]
    },
    {
     "name": "stdout",
     "output_type": "stream",
     "text": [
      "Blob already exists and overwrite is set to False.\n"
     ]
    },
    {
     "name": "stderr",
     "output_type": "stream",
     "text": [
      "2023-08-31 21:43:29,635 - distributed.worker.memory - WARNING - Worker is at 82% memory usage. Pausing worker.  Process memory: 8.80 GiB -- Worker memory limit: 10.67 GiB\n",
      "2023-08-31 21:43:29,943 - distributed.worker.memory - WARNING - Worker is at 73% memory usage. Resuming worker. Process memory: 7.81 GiB -- Worker memory limit: 10.67 GiB\n"
     ]
    },
    {
     "name": "stdout",
     "output_type": "stream",
     "text": [
      "Blob already exists and overwrite is set to False.\n"
     ]
    },
    {
     "name": "stderr",
     "output_type": "stream",
     "text": [
      "2023-08-31 21:43:30,688 - distributed.worker.memory - WARNING - Worker is at 84% memory usage. Pausing worker.  Process memory: 9.03 GiB -- Worker memory limit: 10.67 GiB\n",
      "2023-08-31 21:43:30,840 - distributed.worker.memory - WARNING - Worker is at 75% memory usage. Resuming worker. Process memory: 8.06 GiB -- Worker memory limit: 10.67 GiB\n"
     ]
    },
    {
     "name": "stdout",
     "output_type": "stream",
     "text": [
      "Blob already exists and overwrite is set to False.\n"
     ]
    },
    {
     "name": "stderr",
     "output_type": "stream",
     "text": [
      "2023-08-31 21:43:31,723 - distributed.worker.memory - WARNING - Worker is at 80% memory usage. Pausing worker.  Process memory: 8.59 GiB -- Worker memory limit: 10.67 GiB\n",
      "2023-08-31 21:43:31,963 - distributed.worker.memory - WARNING - Worker is at 71% memory usage. Resuming worker. Process memory: 7.58 GiB -- Worker memory limit: 10.67 GiB\n",
      "2023-08-31 21:43:32,101 - distributed.worker.memory - WARNING - Unmanaged memory use is high. This may indicate a memory leak or the memory may not be released to the OS; see https://distributed.dask.org/en/latest/worker-memory.html#memory-not-released-back-to-the-os for more information. -- Unmanaged memory: 7.47 GiB -- Worker memory limit: 10.67 GiB\n"
     ]
    },
    {
     "name": "stdout",
     "output_type": "stream",
     "text": [
      "Blob already exists and overwrite is set to False.\n"
     ]
    },
    {
     "name": "stderr",
     "output_type": "stream",
     "text": [
      "2023-08-31 21:43:32,335 - distributed.worker.memory - WARNING - Unmanaged memory use is high. This may indicate a memory leak or the memory may not be released to the OS; see https://distributed.dask.org/en/latest/worker-memory.html#memory-not-released-back-to-the-os for more information. -- Unmanaged memory: 7.05 GiB -- Worker memory limit: 10.67 GiB\n",
      "2023-08-31 21:43:32,658 - distributed.worker.memory - WARNING - Unmanaged memory use is high. This may indicate a memory leak or the memory may not be released to the OS; see https://distributed.dask.org/en/latest/worker-memory.html#memory-not-released-back-to-the-os for more information. -- Unmanaged memory: 7.51 GiB -- Worker memory limit: 10.67 GiB\n",
      "2023-08-31 21:43:34,024 - distributed.worker.memory - WARNING - Unmanaged memory use is high. This may indicate a memory leak or the memory may not be released to the OS; see https://distributed.dask.org/en/latest/worker-memory.html#memory-not-released-back-to-the-os for more information. -- Unmanaged memory: 7.47 GiB -- Worker memory limit: 10.67 GiB\n"
     ]
    },
    {
     "name": "stdout",
     "output_type": "stream",
     "text": [
      "Blob already exists and overwrite is set to False.\n",
      "Blob already exists and overwrite is set to False.\n",
      "Blob already exists and overwrite is set to False.\n"
     ]
    },
    {
     "name": "stderr",
     "output_type": "stream",
     "text": [
      "2023-08-31 21:43:39,276 - distributed.nanny.memory - WARNING - Worker tcp://127.0.0.1:51940 (pid=49453) exceeded 95% memory budget. Restarting...\n",
      "2023-08-31 21:43:39,448 - distributed.nanny - WARNING - Restarting worker\n",
      "2023-08-31 21:43:39,602 - distributed.worker - ERROR - Worker stream died during communication: tcp://127.0.0.1:51940\n",
      "Traceback (most recent call last):\n",
      "  File \"/Users/calkoen/mambaforge/envs/testenv/lib/python3.11/site-packages/distributed/comm/tcp.py\", line 225, in read\n",
      "    frames_nbytes = await stream.read_bytes(fmt_size)\n",
      "                    ^^^^^^^^^^^^^^^^^^^^^^^^^^^^^^^^^\n",
      "tornado.iostream.StreamClosedError: Stream is closed\n",
      "\n",
      "The above exception was the direct cause of the following exception:\n",
      "\n",
      "Traceback (most recent call last):\n",
      "  File \"/Users/calkoen/mambaforge/envs/testenv/lib/python3.11/site-packages/distributed/worker.py\", line 2053, in gather_dep\n",
      "    response = await get_data_from_worker(\n",
      "               ^^^^^^^^^^^^^^^^^^^^^^^^^^^\n",
      "  File \"/Users/calkoen/mambaforge/envs/testenv/lib/python3.11/site-packages/distributed/worker.py\", line 2902, in get_data_from_worker\n",
      "    response = await send_recv(\n",
      "               ^^^^^^^^^^^^^^^^\n",
      "  File \"/Users/calkoen/mambaforge/envs/testenv/lib/python3.11/site-packages/distributed/core.py\", line 1136, in send_recv\n",
      "    response = await comm.read(deserializers=deserializers)\n",
      "               ^^^^^^^^^^^^^^^^^^^^^^^^^^^^^^^^^^^^^^^^^^^^\n",
      "  File \"/Users/calkoen/mambaforge/envs/testenv/lib/python3.11/site-packages/distributed/comm/tcp.py\", line 241, in read\n",
      "    convert_stream_closed_error(self, e)\n",
      "  File \"/Users/calkoen/mambaforge/envs/testenv/lib/python3.11/site-packages/distributed/comm/tcp.py\", line 144, in convert_stream_closed_error\n",
      "    raise CommClosedError(f\"in {obj}: {exc}\") from exc\n",
      "distributed.comm.core.CommClosedError: in <TCP (closed) Ephemeral Worker->Worker for gather local=tcp://127.0.0.1:51966 remote=tcp://127.0.0.1:51940>: Stream is closed\n"
     ]
    },
    {
     "name": "stdout",
     "output_type": "stream",
     "text": [
      "Blob already exists and overwrite is set to False.\n"
     ]
    },
    {
     "name": "stderr",
     "output_type": "stream",
     "text": [
      "2023-08-31 21:43:42,729 - distributed.worker.memory - WARNING - Unmanaged memory use is high. This may indicate a memory leak or the memory may not be released to the OS; see https://distributed.dask.org/en/latest/worker-memory.html#memory-not-released-back-to-the-os for more information. -- Unmanaged memory: 7.48 GiB -- Worker memory limit: 10.67 GiB\n",
      "2023-08-31 21:43:44,483 - distributed.worker.memory - WARNING - Unmanaged memory use is high. This may indicate a memory leak or the memory may not be released to the OS; see https://distributed.dask.org/en/latest/worker-memory.html#memory-not-released-back-to-the-os for more information. -- Unmanaged memory: 7.47 GiB -- Worker memory limit: 10.67 GiB\n",
      "2023-08-31 21:43:44,677 - distributed.worker.memory - WARNING - Unmanaged memory use is high. This may indicate a memory leak or the memory may not be released to the OS; see https://distributed.dask.org/en/latest/worker-memory.html#memory-not-released-back-to-the-os for more information. -- Unmanaged memory: 7.36 GiB -- Worker memory limit: 10.67 GiB\n",
      "2023-08-31 21:43:46,833 - distributed.worker.memory - WARNING - Worker is at 82% memory usage. Pausing worker.  Process memory: 8.75 GiB -- Worker memory limit: 10.67 GiB\n",
      "2023-08-31 21:43:47,010 - distributed.worker.memory - WARNING - Worker is at 72% memory usage. Resuming worker. Process memory: 7.75 GiB -- Worker memory limit: 10.67 GiB\n"
     ]
    },
    {
     "name": "stdout",
     "output_type": "stream",
     "text": [
      "Blob already exists and overwrite is set to False.\n"
     ]
    },
    {
     "name": "stderr",
     "output_type": "stream",
     "text": [
      "2023-08-31 21:43:47,635 - distributed.worker.memory - WARNING - Worker is at 82% memory usage. Pausing worker.  Process memory: 8.75 GiB -- Worker memory limit: 10.67 GiB\n",
      "2023-08-31 21:43:47,780 - distributed.worker.memory - WARNING - Worker is at 72% memory usage. Resuming worker. Process memory: 7.75 GiB -- Worker memory limit: 10.67 GiB\n",
      "2023-08-31 21:43:47,943 - distributed.worker.memory - WARNING - Unmanaged memory use is high. This may indicate a memory leak or the memory may not be released to the OS; see https://distributed.dask.org/en/latest/worker-memory.html#memory-not-released-back-to-the-os for more information. -- Unmanaged memory: 6.56 GiB -- Worker memory limit: 10.67 GiB\n",
      "2023-08-31 21:43:49,557 - distributed.worker.memory - WARNING - Worker is at 91% memory usage. Pausing worker.  Process memory: 9.73 GiB -- Worker memory limit: 10.67 GiB\n",
      "2023-08-31 21:43:49,748 - distributed.worker.memory - WARNING - Worker is at 72% memory usage. Resuming worker. Process memory: 7.73 GiB -- Worker memory limit: 10.67 GiB\n",
      "2023-08-31 21:43:50,552 - distributed.worker.memory - WARNING - Worker is at 81% memory usage. Pausing worker.  Process memory: 8.73 GiB -- Worker memory limit: 10.67 GiB\n",
      "2023-08-31 21:43:50,690 - distributed.worker.memory - WARNING - Worker is at 72% memory usage. Resuming worker. Process memory: 7.73 GiB -- Worker memory limit: 10.67 GiB\n",
      "2023-08-31 21:43:52,218 - distributed.worker.memory - WARNING - Worker is at 81% memory usage. Pausing worker.  Process memory: 8.73 GiB -- Worker memory limit: 10.67 GiB\n",
      "2023-08-31 21:43:52,730 - distributed.worker.memory - WARNING - Unmanaged memory use is high. This may indicate a memory leak or the memory may not be released to the OS; see https://distributed.dask.org/en/latest/worker-memory.html#memory-not-released-back-to-the-os for more information. -- Unmanaged memory: 7.74 GiB -- Worker memory limit: 10.67 GiB\n",
      "2023-08-31 21:43:53,442 - distributed.worker.memory - WARNING - Worker is at 72% memory usage. Resuming worker. Process memory: 7.73 GiB -- Worker memory limit: 10.67 GiB\n",
      "2023-08-31 21:43:54,225 - distributed.worker.memory - WARNING - Worker is at 86% memory usage. Pausing worker.  Process memory: 9.24 GiB -- Worker memory limit: 10.67 GiB\n",
      "2023-08-31 21:43:54,416 - distributed.worker.memory - WARNING - Worker is at 77% memory usage. Resuming worker. Process memory: 8.27 GiB -- Worker memory limit: 10.67 GiB\n",
      "2023-08-31 21:43:54,867 - distributed.worker.memory - WARNING - Unmanaged memory use is high. This may indicate a memory leak or the memory may not be released to the OS; see https://distributed.dask.org/en/latest/worker-memory.html#memory-not-released-back-to-the-os for more information. -- Unmanaged memory: 6.44 GiB -- Worker memory limit: 10.67 GiB\n",
      "2023-08-31 21:43:55,276 - distributed.nanny.memory - WARNING - Worker tcp://127.0.0.1:51625 (pid=48735) exceeded 95% memory budget. Restarting...\n",
      "2023-08-31 21:43:55,475 - distributed.worker - ERROR - failed during get data with tcp://127.0.0.1:51963 -> tcp://127.0.0.1:51625\n",
      "Traceback (most recent call last):\n",
      "  File \"/Users/calkoen/mambaforge/envs/testenv/lib/python3.11/site-packages/tornado/iostream.py\", line 962, in _handle_write\n",
      "    num_bytes = self.write_to_fd(self._write_buffer.peek(size))\n",
      "                ^^^^^^^^^^^^^^^^^^^^^^^^^^^^^^^^^^^^^^^^^^^^^^^\n",
      "  File \"/Users/calkoen/mambaforge/envs/testenv/lib/python3.11/site-packages/tornado/iostream.py\", line 1124, in write_to_fd\n",
      "    return self.socket.send(data)  # type: ignore\n",
      "           ^^^^^^^^^^^^^^^^^^^^^^\n",
      "BrokenPipeError: [Errno 32] Broken pipe\n",
      "\n",
      "The above exception was the direct cause of the following exception:\n",
      "\n",
      "Traceback (most recent call last):\n",
      "  File \"/Users/calkoen/mambaforge/envs/testenv/lib/python3.11/site-packages/distributed/worker.py\", line 1780, in get_data\n",
      "    response = await comm.read(deserializers=serializers)\n",
      "               ^^^^^^^^^^^^^^^^^^^^^^^^^^^^^^^^^^^^^^^^^^\n",
      "  File \"/Users/calkoen/mambaforge/envs/testenv/lib/python3.11/site-packages/distributed/comm/tcp.py\", line 241, in read\n",
      "    convert_stream_closed_error(self, e)\n",
      "  File \"/Users/calkoen/mambaforge/envs/testenv/lib/python3.11/site-packages/distributed/comm/tcp.py\", line 142, in convert_stream_closed_error\n",
      "    raise CommClosedError(f\"in {obj}: {exc.__class__.__name__}: {exc}\") from exc\n",
      "distributed.comm.core.CommClosedError: in <TCP (closed)  local=tcp://127.0.0.1:51963 remote=tcp://127.0.0.1:52009>: BrokenPipeError: [Errno 32] Broken pipe\n",
      "2023-08-31 21:43:55,475 - distributed.worker - ERROR - Worker stream died during communication: tcp://127.0.0.1:51625\n",
      "Traceback (most recent call last):\n",
      "  File \"/Users/calkoen/mambaforge/envs/testenv/lib/python3.11/site-packages/distributed/comm/tcp.py\", line 235, in read\n",
      "    n = await stream.read_into(chunk)\n",
      "        ^^^^^^^^^^^^^^^^^^^^^^^^^^^^^\n",
      "tornado.iostream.StreamClosedError: Stream is closed\n",
      "\n",
      "The above exception was the direct cause of the following exception:\n",
      "\n",
      "Traceback (most recent call last):\n",
      "  File \"/Users/calkoen/mambaforge/envs/testenv/lib/python3.11/site-packages/distributed/worker.py\", line 2053, in gather_dep\n",
      "    response = await get_data_from_worker(\n",
      "               ^^^^^^^^^^^^^^^^^^^^^^^^^^^\n",
      "  File \"/Users/calkoen/mambaforge/envs/testenv/lib/python3.11/site-packages/distributed/worker.py\", line 2902, in get_data_from_worker\n",
      "    response = await send_recv(\n",
      "               ^^^^^^^^^^^^^^^^\n",
      "  File \"/Users/calkoen/mambaforge/envs/testenv/lib/python3.11/site-packages/distributed/core.py\", line 1136, in send_recv\n",
      "    response = await comm.read(deserializers=deserializers)\n",
      "               ^^^^^^^^^^^^^^^^^^^^^^^^^^^^^^^^^^^^^^^^^^^^\n",
      "  File \"/Users/calkoen/mambaforge/envs/testenv/lib/python3.11/site-packages/distributed/comm/tcp.py\", line 241, in read\n",
      "    convert_stream_closed_error(self, e)\n",
      "  File \"/Users/calkoen/mambaforge/envs/testenv/lib/python3.11/site-packages/distributed/comm/tcp.py\", line 144, in convert_stream_closed_error\n",
      "    raise CommClosedError(f\"in {obj}: {exc}\") from exc\n",
      "distributed.comm.core.CommClosedError: in <TCP (closed) Ephemeral Worker->Worker for gather local=tcp://127.0.0.1:52008 remote=tcp://127.0.0.1:51625>: Stream is closed\n",
      "2023-08-31 21:43:55,483 - distributed.worker - ERROR - Worker stream died during communication: tcp://127.0.0.1:51625\n",
      "Traceback (most recent call last):\n",
      "  File \"/Users/calkoen/mambaforge/envs/testenv/lib/python3.11/site-packages/distributed/comm/tcp.py\", line 225, in read\n",
      "    frames_nbytes = await stream.read_bytes(fmt_size)\n",
      "                    ^^^^^^^^^^^^^^^^^^^^^^^^^^^^^^^^^\n",
      "tornado.iostream.StreamClosedError: Stream is closed\n",
      "\n",
      "The above exception was the direct cause of the following exception:\n",
      "\n",
      "Traceback (most recent call last):\n",
      "  File \"/Users/calkoen/mambaforge/envs/testenv/lib/python3.11/site-packages/distributed/worker.py\", line 2053, in gather_dep\n",
      "    response = await get_data_from_worker(\n",
      "               ^^^^^^^^^^^^^^^^^^^^^^^^^^^\n",
      "  File \"/Users/calkoen/mambaforge/envs/testenv/lib/python3.11/site-packages/distributed/worker.py\", line 2902, in get_data_from_worker\n",
      "    response = await send_recv(\n",
      "               ^^^^^^^^^^^^^^^^\n",
      "  File \"/Users/calkoen/mambaforge/envs/testenv/lib/python3.11/site-packages/distributed/core.py\", line 1136, in send_recv\n",
      "    response = await comm.read(deserializers=deserializers)\n",
      "               ^^^^^^^^^^^^^^^^^^^^^^^^^^^^^^^^^^^^^^^^^^^^\n",
      "  File \"/Users/calkoen/mambaforge/envs/testenv/lib/python3.11/site-packages/distributed/comm/tcp.py\", line 241, in read\n",
      "    convert_stream_closed_error(self, e)\n",
      "  File \"/Users/calkoen/mambaforge/envs/testenv/lib/python3.11/site-packages/distributed/comm/tcp.py\", line 144, in convert_stream_closed_error\n",
      "    raise CommClosedError(f\"in {obj}: {exc}\") from exc\n",
      "distributed.comm.core.CommClosedError: in <TCP (closed) Ephemeral Worker->Worker for gather local=tcp://127.0.0.1:51917 remote=tcp://127.0.0.1:51625>: Stream is closed\n",
      "2023-08-31 21:43:55,496 - distributed.nanny - WARNING - Restarting worker\n"
     ]
    },
    {
     "name": "stdout",
     "output_type": "stream",
     "text": [
      "Blob already exists and overwrite is set to False.\n",
      "Blob already exists and overwrite is set to False.\n",
      "Blob already exists and overwrite is set to False.\n",
      "Blob already exists and overwrite is set to False.\n"
     ]
    },
    {
     "name": "stderr",
     "output_type": "stream",
     "text": [
      "2023-08-31 21:43:59,446 - distributed.worker.memory - WARNING - Worker is at 80% memory usage. Pausing worker.  Process memory: 8.54 GiB -- Worker memory limit: 10.67 GiB\n",
      "2023-08-31 21:43:59,500 - distributed.worker.memory - WARNING - Unmanaged memory use is high. This may indicate a memory leak or the memory may not be released to the OS; see https://distributed.dask.org/en/latest/worker-memory.html#memory-not-released-back-to-the-os for more information. -- Unmanaged memory: 7.47 GiB -- Worker memory limit: 10.67 GiB\n",
      "2023-08-31 21:43:59,581 - distributed.worker.memory - WARNING - Unmanaged memory use is high. This may indicate a memory leak or the memory may not be released to the OS; see https://distributed.dask.org/en/latest/worker-memory.html#memory-not-released-back-to-the-os for more information. -- Unmanaged memory: 8.56 GiB -- Worker memory limit: 10.67 GiB\n"
     ]
    },
    {
     "name": "stdout",
     "output_type": "stream",
     "text": [
      "Blob already exists and overwrite is set to False.\n"
     ]
    },
    {
     "name": "stderr",
     "output_type": "stream",
     "text": [
      "2023-08-31 21:44:00,099 - distributed.worker.memory - WARNING - Worker is at 71% memory usage. Resuming worker. Process memory: 7.62 GiB -- Worker memory limit: 10.67 GiB\n",
      "2023-08-31 21:44:00,297 - distributed.worker.memory - WARNING - Worker is at 81% memory usage. Pausing worker.  Process memory: 8.71 GiB -- Worker memory limit: 10.67 GiB\n",
      "2023-08-31 21:44:00,409 - distributed.worker.memory - WARNING - Worker is at 74% memory usage. Resuming worker. Process memory: 7.91 GiB -- Worker memory limit: 10.67 GiB\n",
      "2023-08-31 21:44:00,624 - distributed.worker.memory - WARNING - Worker is at 81% memory usage. Pausing worker.  Process memory: 8.71 GiB -- Worker memory limit: 10.67 GiB\n",
      "2023-08-31 21:44:00,724 - distributed.worker.memory - WARNING - Worker is at 72% memory usage. Resuming worker. Process memory: 7.71 GiB -- Worker memory limit: 10.67 GiB\n"
     ]
    },
    {
     "name": "stdout",
     "output_type": "stream",
     "text": [
      "Blob already exists and overwrite is set to False.\n"
     ]
    },
    {
     "name": "stderr",
     "output_type": "stream",
     "text": [
      "2023-08-31 21:44:04,923 - distributed.worker.memory - WARNING - Unmanaged memory use is high. This may indicate a memory leak or the memory may not be released to the OS; see https://distributed.dask.org/en/latest/worker-memory.html#memory-not-released-back-to-the-os for more information. -- Unmanaged memory: 8.43 GiB -- Worker memory limit: 10.67 GiB\n",
      "2023-08-31 21:44:05,724 - distributed.worker.memory - WARNING - Worker is at 80% memory usage. Pausing worker.  Process memory: 8.54 GiB -- Worker memory limit: 10.67 GiB\n",
      "2023-08-31 21:44:06,430 - distributed.worker.memory - WARNING - Unmanaged memory use is high. This may indicate a memory leak or the memory may not be released to the OS; see https://distributed.dask.org/en/latest/worker-memory.html#memory-not-released-back-to-the-os for more information. -- Unmanaged memory: 7.48 GiB -- Worker memory limit: 10.67 GiB\n",
      "2023-08-31 21:44:09,175 - distributed.nanny.memory - WARNING - Worker tcp://127.0.0.1:51852 (pid=49256) exceeded 95% memory budget. Restarting...\n",
      "2023-08-31 21:44:09,382 - distributed.nanny - WARNING - Restarting worker\n",
      "2023-08-31 21:44:09,439 - distributed.worker - ERROR - Worker stream died during communication: tcp://127.0.0.1:51852\n",
      "Traceback (most recent call last):\n",
      "  File \"/Users/calkoen/mambaforge/envs/testenv/lib/python3.11/site-packages/distributed/comm/tcp.py\", line 317, in write\n",
      "    raise StreamClosedError()\n",
      "tornado.iostream.StreamClosedError: Stream is closed\n",
      "\n",
      "The above exception was the direct cause of the following exception:\n",
      "\n",
      "Traceback (most recent call last):\n",
      "  File \"/Users/calkoen/mambaforge/envs/testenv/lib/python3.11/site-packages/distributed/worker.py\", line 2053, in gather_dep\n",
      "    response = await get_data_from_worker(\n",
      "               ^^^^^^^^^^^^^^^^^^^^^^^^^^^\n",
      "  File \"/Users/calkoen/mambaforge/envs/testenv/lib/python3.11/site-packages/distributed/worker.py\", line 2902, in get_data_from_worker\n",
      "    response = await send_recv(\n",
      "               ^^^^^^^^^^^^^^^^\n",
      "  File \"/Users/calkoen/mambaforge/envs/testenv/lib/python3.11/site-packages/distributed/core.py\", line 1134, in send_recv\n",
      "    await comm.write(msg, serializers=serializers, on_error=\"raise\")\n",
      "  File \"/Users/calkoen/mambaforge/envs/testenv/lib/python3.11/site-packages/distributed/comm/tcp.py\", line 328, in write\n",
      "    convert_stream_closed_error(self, e)\n",
      "  File \"/Users/calkoen/mambaforge/envs/testenv/lib/python3.11/site-packages/distributed/comm/tcp.py\", line 144, in convert_stream_closed_error\n",
      "    raise CommClosedError(f\"in {obj}: {exc}\") from exc\n",
      "distributed.comm.core.CommClosedError: in <TCP (closed) Ephemeral Worker->Worker for gather local=tcp://127.0.0.1:51929 remote=tcp://127.0.0.1:51852>: Stream is closed\n",
      "2023-08-31 21:44:10,011 - distributed.worker.memory - WARNING - Unmanaged memory use is high. This may indicate a memory leak or the memory may not be released to the OS; see https://distributed.dask.org/en/latest/worker-memory.html#memory-not-released-back-to-the-os for more information. -- Unmanaged memory: 7.00 GiB -- Worker memory limit: 10.67 GiB\n",
      "2023-08-31 21:44:10,012 - distributed.worker - ERROR - Worker stream died during communication: tcp://127.0.0.1:51852\n",
      "Traceback (most recent call last):\n",
      "  File \"/Users/calkoen/mambaforge/envs/testenv/lib/python3.11/site-packages/distributed/comm/tcp.py\", line 225, in read\n",
      "    frames_nbytes = await stream.read_bytes(fmt_size)\n",
      "                    ^^^^^^^^^^^^^^^^^^^^^^^^^^^^^^^^^\n",
      "tornado.iostream.StreamClosedError: Stream is closed\n",
      "\n",
      "The above exception was the direct cause of the following exception:\n",
      "\n",
      "Traceback (most recent call last):\n",
      "  File \"/Users/calkoen/mambaforge/envs/testenv/lib/python3.11/site-packages/distributed/worker.py\", line 2053, in gather_dep\n",
      "    response = await get_data_from_worker(\n",
      "               ^^^^^^^^^^^^^^^^^^^^^^^^^^^\n",
      "  File \"/Users/calkoen/mambaforge/envs/testenv/lib/python3.11/site-packages/distributed/worker.py\", line 2902, in get_data_from_worker\n",
      "    response = await send_recv(\n",
      "               ^^^^^^^^^^^^^^^^\n",
      "  File \"/Users/calkoen/mambaforge/envs/testenv/lib/python3.11/site-packages/distributed/core.py\", line 1136, in send_recv\n",
      "    response = await comm.read(deserializers=deserializers)\n",
      "               ^^^^^^^^^^^^^^^^^^^^^^^^^^^^^^^^^^^^^^^^^^^^\n",
      "  File \"/Users/calkoen/mambaforge/envs/testenv/lib/python3.11/site-packages/distributed/comm/tcp.py\", line 241, in read\n",
      "    convert_stream_closed_error(self, e)\n",
      "  File \"/Users/calkoen/mambaforge/envs/testenv/lib/python3.11/site-packages/distributed/comm/tcp.py\", line 144, in convert_stream_closed_error\n",
      "    raise CommClosedError(f\"in {obj}: {exc}\") from exc\n",
      "distributed.comm.core.CommClosedError: in <TCP (closed) Ephemeral Worker->Worker for gather local=tcp://127.0.0.1:52023 remote=tcp://127.0.0.1:51852>: Stream is closed\n"
     ]
    },
    {
     "name": "stdout",
     "output_type": "stream",
     "text": [
      "Blob already exists and overwrite is set to False.\n",
      "Blob already exists and overwrite is set to False.\n"
     ]
    },
    {
     "name": "stderr",
     "output_type": "stream",
     "text": [
      "2023-08-31 21:44:10,915 - distributed.worker.memory - WARNING - Worker is at 88% memory usage. Pausing worker.  Process memory: 9.44 GiB -- Worker memory limit: 10.67 GiB\n",
      "2023-08-31 21:44:11,053 - distributed.worker.memory - WARNING - Worker is at 79% memory usage. Resuming worker. Process memory: 8.46 GiB -- Worker memory limit: 10.67 GiB\n",
      "2023-08-31 21:44:11,515 - distributed.worker.memory - WARNING - Worker is at 86% memory usage. Pausing worker.  Process memory: 9.21 GiB -- Worker memory limit: 10.67 GiB\n",
      "2023-08-31 21:44:11,629 - distributed.worker.memory - WARNING - Worker is at 81% memory usage. Pausing worker.  Process memory: 8.69 GiB -- Worker memory limit: 10.67 GiB\n",
      "2023-08-31 21:44:11,913 - distributed.worker.memory - WARNING - Worker is at 71% memory usage. Resuming worker. Process memory: 7.60 GiB -- Worker memory limit: 10.67 GiB\n",
      "2023-08-31 21:44:11,929 - distributed.worker.memory - WARNING - Worker is at 78% memory usage. Resuming worker. Process memory: 8.37 GiB -- Worker memory limit: 10.67 GiB\n"
     ]
    },
    {
     "name": "stdout",
     "output_type": "stream",
     "text": [
      "Blob already exists and overwrite is set to False.\n"
     ]
    },
    {
     "name": "stderr",
     "output_type": "stream",
     "text": [
      "2023-08-31 21:44:12,449 - distributed.worker.memory - WARNING - Unmanaged memory use is high. This may indicate a memory leak or the memory may not be released to the OS; see https://distributed.dask.org/en/latest/worker-memory.html#memory-not-released-back-to-the-os for more information. -- Unmanaged memory: 7.49 GiB -- Worker memory limit: 10.67 GiB\n",
      "2023-08-31 21:44:12,579 - distributed.nanny.memory - WARNING - Worker tcp://127.0.0.1:51881 (pid=49326) exceeded 95% memory budget. Restarting...\n",
      "2023-08-31 21:44:12,729 - distributed.worker.memory - WARNING - Worker is at 84% memory usage. Pausing worker.  Process memory: 9.05 GiB -- Worker memory limit: 10.67 GiB\n",
      "2023-08-31 21:44:12,807 - distributed.nanny - WARNING - Restarting worker\n",
      "2023-08-31 21:44:12,947 - distributed.worker - ERROR - failed during get data with tcp://127.0.0.1:51963 -> tcp://127.0.0.1:51881\n",
      "Traceback (most recent call last):\n",
      "  File \"/Users/calkoen/mambaforge/envs/testenv/lib/python3.11/site-packages/tornado/iostream.py\", line 962, in _handle_write\n",
      "    num_bytes = self.write_to_fd(self._write_buffer.peek(size))\n",
      "                ^^^^^^^^^^^^^^^^^^^^^^^^^^^^^^^^^^^^^^^^^^^^^^^\n",
      "  File \"/Users/calkoen/mambaforge/envs/testenv/lib/python3.11/site-packages/tornado/iostream.py\", line 1124, in write_to_fd\n",
      "    return self.socket.send(data)  # type: ignore\n",
      "           ^^^^^^^^^^^^^^^^^^^^^^\n",
      "BrokenPipeError: [Errno 32] Broken pipe\n",
      "\n",
      "The above exception was the direct cause of the following exception:\n",
      "\n",
      "Traceback (most recent call last):\n",
      "  File \"/Users/calkoen/mambaforge/envs/testenv/lib/python3.11/site-packages/distributed/worker.py\", line 1780, in get_data\n",
      "    response = await comm.read(deserializers=serializers)\n",
      "               ^^^^^^^^^^^^^^^^^^^^^^^^^^^^^^^^^^^^^^^^^^\n",
      "  File \"/Users/calkoen/mambaforge/envs/testenv/lib/python3.11/site-packages/distributed/comm/tcp.py\", line 241, in read\n",
      "    convert_stream_closed_error(self, e)\n",
      "  File \"/Users/calkoen/mambaforge/envs/testenv/lib/python3.11/site-packages/distributed/comm/tcp.py\", line 142, in convert_stream_closed_error\n",
      "    raise CommClosedError(f\"in {obj}: {exc.__class__.__name__}: {exc}\") from exc\n",
      "distributed.comm.core.CommClosedError: in <TCP (closed)  local=tcp://127.0.0.1:51963 remote=tcp://127.0.0.1:52017>: BrokenPipeError: [Errno 32] Broken pipe\n",
      "2023-08-31 21:44:12,947 - distributed.worker - ERROR - Worker stream died during communication: tcp://127.0.0.1:51881\n",
      "Traceback (most recent call last):\n",
      "  File \"/Users/calkoen/mambaforge/envs/testenv/lib/python3.11/site-packages/distributed/comm/tcp.py\", line 235, in read\n",
      "    n = await stream.read_into(chunk)\n",
      "        ^^^^^^^^^^^^^^^^^^^^^^^^^^^^^\n",
      "tornado.iostream.StreamClosedError: Stream is closed\n",
      "\n",
      "The above exception was the direct cause of the following exception:\n",
      "\n",
      "Traceback (most recent call last):\n",
      "  File \"/Users/calkoen/mambaforge/envs/testenv/lib/python3.11/site-packages/distributed/worker.py\", line 2053, in gather_dep\n",
      "    response = await get_data_from_worker(\n",
      "               ^^^^^^^^^^^^^^^^^^^^^^^^^^^\n",
      "  File \"/Users/calkoen/mambaforge/envs/testenv/lib/python3.11/site-packages/distributed/worker.py\", line 2902, in get_data_from_worker\n",
      "    response = await send_recv(\n",
      "               ^^^^^^^^^^^^^^^^\n",
      "  File \"/Users/calkoen/mambaforge/envs/testenv/lib/python3.11/site-packages/distributed/core.py\", line 1136, in send_recv\n",
      "    response = await comm.read(deserializers=deserializers)\n",
      "               ^^^^^^^^^^^^^^^^^^^^^^^^^^^^^^^^^^^^^^^^^^^^\n",
      "  File \"/Users/calkoen/mambaforge/envs/testenv/lib/python3.11/site-packages/distributed/comm/tcp.py\", line 241, in read\n",
      "    convert_stream_closed_error(self, e)\n",
      "  File \"/Users/calkoen/mambaforge/envs/testenv/lib/python3.11/site-packages/distributed/comm/tcp.py\", line 144, in convert_stream_closed_error\n",
      "    raise CommClosedError(f\"in {obj}: {exc}\") from exc\n",
      "distributed.comm.core.CommClosedError: in <TCP (closed) Ephemeral Worker->Worker for gather local=tcp://127.0.0.1:52024 remote=tcp://127.0.0.1:51881>: Stream is closed\n",
      "2023-08-31 21:44:13,197 - distributed.worker - ERROR - failed during get data with tcp://127.0.0.1:51986 -> tcp://127.0.0.1:51881\n",
      "Traceback (most recent call last):\n",
      "  File \"/Users/calkoen/mambaforge/envs/testenv/lib/python3.11/site-packages/tornado/iostream.py\", line 962, in _handle_write\n",
      "    num_bytes = self.write_to_fd(self._write_buffer.peek(size))\n",
      "                ^^^^^^^^^^^^^^^^^^^^^^^^^^^^^^^^^^^^^^^^^^^^^^^\n",
      "  File \"/Users/calkoen/mambaforge/envs/testenv/lib/python3.11/site-packages/tornado/iostream.py\", line 1124, in write_to_fd\n",
      "    return self.socket.send(data)  # type: ignore\n",
      "           ^^^^^^^^^^^^^^^^^^^^^^\n",
      "BrokenPipeError: [Errno 32] Broken pipe\n",
      "\n",
      "The above exception was the direct cause of the following exception:\n",
      "\n",
      "Traceback (most recent call last):\n",
      "  File \"/Users/calkoen/mambaforge/envs/testenv/lib/python3.11/site-packages/distributed/worker.py\", line 1780, in get_data\n",
      "    response = await comm.read(deserializers=serializers)\n",
      "               ^^^^^^^^^^^^^^^^^^^^^^^^^^^^^^^^^^^^^^^^^^\n",
      "  File \"/Users/calkoen/mambaforge/envs/testenv/lib/python3.11/site-packages/distributed/comm/tcp.py\", line 241, in read\n",
      "    convert_stream_closed_error(self, e)\n",
      "  File \"/Users/calkoen/mambaforge/envs/testenv/lib/python3.11/site-packages/distributed/comm/tcp.py\", line 142, in convert_stream_closed_error\n",
      "    raise CommClosedError(f\"in {obj}: {exc.__class__.__name__}: {exc}\") from exc\n",
      "distributed.comm.core.CommClosedError: in <TCP (closed)  local=tcp://127.0.0.1:51986 remote=tcp://127.0.0.1:52035>: BrokenPipeError: [Errno 32] Broken pipe\n",
      "2023-08-31 21:44:13,399 - distributed.worker.memory - WARNING - Worker is at 77% memory usage. Resuming worker. Process memory: 8.29 GiB -- Worker memory limit: 10.67 GiB\n"
     ]
    },
    {
     "name": "stdout",
     "output_type": "stream",
     "text": [
      "Blob already exists and overwrite is set to False.\n",
      "Blob already exists and overwrite is set to False.\n",
      "Blob already exists and overwrite is set to False.\n"
     ]
    },
    {
     "name": "stderr",
     "output_type": "stream",
     "text": [
      "2023-08-31 21:44:15,299 - distributed.worker.memory - WARNING - Worker is at 80% memory usage. Pausing worker.  Process memory: 8.54 GiB -- Worker memory limit: 10.67 GiB\n"
     ]
    },
    {
     "name": "stdout",
     "output_type": "stream",
     "text": [
      "Blob already exists and overwrite is set to False.\n",
      "Blob already exists and overwrite is set to False.\n"
     ]
    },
    {
     "name": "stderr",
     "output_type": "stream",
     "text": [
      "2023-08-31 21:44:20,033 - distributed.worker.memory - WARNING - Worker is at 78% memory usage. Resuming worker. Process memory: 8.41 GiB -- Worker memory limit: 10.67 GiB\n",
      "2023-08-31 21:44:20,996 - distributed.worker.memory - WARNING - Worker is at 80% memory usage. Pausing worker.  Process memory: 8.59 GiB -- Worker memory limit: 10.67 GiB\n",
      "2023-08-31 21:44:21,090 - distributed.worker.memory - WARNING - Unmanaged memory use is high. This may indicate a memory leak or the memory may not be released to the OS; see https://distributed.dask.org/en/latest/worker-memory.html#memory-not-released-back-to-the-os for more information. -- Unmanaged memory: 9.23 GiB -- Worker memory limit: 10.67 GiB\n"
     ]
    },
    {
     "name": "stdout",
     "output_type": "stream",
     "text": [
      "Blob already exists and overwrite is set to False.\n"
     ]
    },
    {
     "name": "stderr",
     "output_type": "stream",
     "text": [
      "2023-08-31 21:44:22,000 - distributed.worker.memory - WARNING - Worker is at 79% memory usage. Resuming worker. Process memory: 8.50 GiB -- Worker memory limit: 10.67 GiB\n",
      "2023-08-31 21:44:22,198 - distributed.worker.memory - WARNING - Worker is at 81% memory usage. Pausing worker.  Process memory: 8.72 GiB -- Worker memory limit: 10.67 GiB\n",
      "2023-08-31 21:44:22,299 - distributed.worker.memory - WARNING - Worker is at 79% memory usage. Resuming worker. Process memory: 8.43 GiB -- Worker memory limit: 10.67 GiB\n"
     ]
    },
    {
     "name": "stdout",
     "output_type": "stream",
     "text": [
      "Blob already exists and overwrite is set to False.\n"
     ]
    },
    {
     "name": "stderr",
     "output_type": "stream",
     "text": [
      "2023-08-31 21:44:23,599 - distributed.worker.memory - WARNING - Worker is at 80% memory usage. Pausing worker.  Process memory: 8.56 GiB -- Worker memory limit: 10.67 GiB\n",
      "2023-08-31 21:44:24,270 - distributed.worker.memory - WARNING - Unmanaged memory use is high. This may indicate a memory leak or the memory may not be released to the OS; see https://distributed.dask.org/en/latest/worker-memory.html#memory-not-released-back-to-the-os for more information. -- Unmanaged memory: 7.47 GiB -- Worker memory limit: 10.67 GiB\n"
     ]
    },
    {
     "name": "stdout",
     "output_type": "stream",
     "text": [
      "Blob already exists and overwrite is set to False.\n"
     ]
    },
    {
     "name": "stderr",
     "output_type": "stream",
     "text": [
      "2023-08-31 21:44:25,924 - distributed.worker.memory - WARNING - Unmanaged memory use is high. This may indicate a memory leak or the memory may not be released to the OS; see https://distributed.dask.org/en/latest/worker-memory.html#memory-not-released-back-to-the-os for more information. -- Unmanaged memory: 6.49 GiB -- Worker memory limit: 10.67 GiB\n"
     ]
    },
    {
     "name": "stdout",
     "output_type": "stream",
     "text": [
      "Blob already exists and overwrite is set to False.\n",
      "Blob already exists and overwrite is set to False.\n"
     ]
    },
    {
     "name": "stderr",
     "output_type": "stream",
     "text": [
      "2023-08-31 21:44:29,881 - distributed.worker.memory - WARNING - Unmanaged memory use is high. This may indicate a memory leak or the memory may not be released to the OS; see https://distributed.dask.org/en/latest/worker-memory.html#memory-not-released-back-to-the-os for more information. -- Unmanaged memory: 6.84 GiB -- Worker memory limit: 10.67 GiB\n"
     ]
    },
    {
     "name": "stdout",
     "output_type": "stream",
     "text": [
      "Blob already exists and overwrite is set to False.\n"
     ]
    },
    {
     "name": "stderr",
     "output_type": "stream",
     "text": [
      "2023-08-31 21:44:30,498 - distributed.worker.memory - WARNING - Unmanaged memory use is high. This may indicate a memory leak or the memory may not be released to the OS; see https://distributed.dask.org/en/latest/worker-memory.html#memory-not-released-back-to-the-os for more information. -- Unmanaged memory: 7.55 GiB -- Worker memory limit: 10.67 GiB\n",
      "2023-08-31 21:44:30,796 - distributed.worker.memory - WARNING - Worker is at 79% memory usage. Resuming worker. Process memory: 8.50 GiB -- Worker memory limit: 10.67 GiB\n",
      "2023-08-31 21:44:31,657 - distributed.worker.memory - WARNING - Unmanaged memory use is high. This may indicate a memory leak or the memory may not be released to the OS; see https://distributed.dask.org/en/latest/worker-memory.html#memory-not-released-back-to-the-os for more information. -- Unmanaged memory: 8.53 GiB -- Worker memory limit: 10.67 GiB\n",
      "2023-08-31 21:44:31,702 - distributed.worker.memory - WARNING - Worker is at 80% memory usage. Pausing worker.  Process memory: 8.55 GiB -- Worker memory limit: 10.67 GiB\n"
     ]
    },
    {
     "name": "stdout",
     "output_type": "stream",
     "text": [
      "Blob already exists and overwrite is set to False.\n"
     ]
    },
    {
     "name": "stderr",
     "output_type": "stream",
     "text": [
      "2023-08-31 21:44:32,200 - distributed.worker.memory - WARNING - Worker is at 73% memory usage. Resuming worker. Process memory: 7.88 GiB -- Worker memory limit: 10.67 GiB\n",
      "2023-08-31 21:44:33,099 - distributed.worker.memory - WARNING - Worker is at 80% memory usage. Pausing worker.  Process memory: 8.63 GiB -- Worker memory limit: 10.67 GiB\n"
     ]
    },
    {
     "name": "stdout",
     "output_type": "stream",
     "text": [
      "Blob already exists and overwrite is set to False.\n"
     ]
    },
    {
     "name": "stderr",
     "output_type": "stream",
     "text": [
      "2023-08-31 21:44:34,367 - distributed.worker.memory - WARNING - Unmanaged memory use is high. This may indicate a memory leak or the memory may not be released to the OS; see https://distributed.dask.org/en/latest/worker-memory.html#memory-not-released-back-to-the-os for more information. -- Unmanaged memory: 7.69 GiB -- Worker memory limit: 10.67 GiB\n"
     ]
    },
    {
     "name": "stdout",
     "output_type": "stream",
     "text": [
      "Blob already exists and overwrite is set to False.\n",
      "Blob already exists and overwrite is set to False.\n"
     ]
    },
    {
     "name": "stderr",
     "output_type": "stream",
     "text": [
      "2023-08-31 21:44:35,973 - distributed.worker.memory - WARNING - Unmanaged memory use is high. This may indicate a memory leak or the memory may not be released to the OS; see https://distributed.dask.org/en/latest/worker-memory.html#memory-not-released-back-to-the-os for more information. -- Unmanaged memory: 7.77 GiB -- Worker memory limit: 10.67 GiB\n",
      "2023-08-31 21:44:38,280 - distributed.worker.memory - WARNING - Worker is at 81% memory usage. Pausing worker.  Process memory: 8.69 GiB -- Worker memory limit: 10.67 GiB\n",
      "2023-08-31 21:44:38,297 - distributed.worker.memory - WARNING - Worker is at 62% memory usage. Resuming worker. Process memory: 6.71 GiB -- Worker memory limit: 10.67 GiB\n",
      "2023-08-31 21:44:40,331 - distributed.worker.memory - WARNING - Worker is at 72% memory usage. Resuming worker. Process memory: 7.73 GiB -- Worker memory limit: 10.67 GiB\n"
     ]
    },
    {
     "name": "stdout",
     "output_type": "stream",
     "text": [
      "Blob already exists and overwrite is set to False.\n"
     ]
    },
    {
     "name": "stderr",
     "output_type": "stream",
     "text": [
      "2023-08-31 21:44:40,800 - distributed.worker.memory - WARNING - Unmanaged memory use is high. This may indicate a memory leak or the memory may not be released to the OS; see https://distributed.dask.org/en/latest/worker-memory.html#memory-not-released-back-to-the-os for more information. -- Unmanaged memory: 8.04 GiB -- Worker memory limit: 10.67 GiB\n",
      "2023-08-31 21:44:40,986 - distributed.worker.memory - WARNING - Worker is at 81% memory usage. Pausing worker.  Process memory: 8.73 GiB -- Worker memory limit: 10.67 GiB\n"
     ]
    },
    {
     "name": "stdout",
     "output_type": "stream",
     "text": [
      "Blob already exists and overwrite is set to False.\n",
      "Blob already exists and overwrite is set to False.\n"
     ]
    },
    {
     "name": "stderr",
     "output_type": "stream",
     "text": [
      "2023-08-31 21:44:41,700 - distributed.worker.memory - WARNING - Unmanaged memory use is high. This may indicate a memory leak or the memory may not be released to the OS; see https://distributed.dask.org/en/latest/worker-memory.html#memory-not-released-back-to-the-os for more information. -- Unmanaged memory: 9.02 GiB -- Worker memory limit: 10.67 GiB\n",
      "2023-08-31 21:44:41,879 - distributed.worker.memory - WARNING - Unmanaged memory use is high. This may indicate a memory leak or the memory may not be released to the OS; see https://distributed.dask.org/en/latest/worker-memory.html#memory-not-released-back-to-the-os for more information. -- Unmanaged memory: 6.94 GiB -- Worker memory limit: 10.67 GiB\n",
      "2023-08-31 21:44:42,004 - distributed.worker.memory - WARNING - Worker is at 76% memory usage. Resuming worker. Process memory: 8.12 GiB -- Worker memory limit: 10.67 GiB\n"
     ]
    },
    {
     "name": "stdout",
     "output_type": "stream",
     "text": [
      "Blob already exists and overwrite is set to False.\n",
      "Blob already exists and overwrite is set to False.\n"
     ]
    },
    {
     "name": "stderr",
     "output_type": "stream",
     "text": [
      "2023-08-31 21:44:42,499 - distributed.worker.memory - WARNING - Worker is at 81% memory usage. Pausing worker.  Process memory: 8.70 GiB -- Worker memory limit: 10.67 GiB\n"
     ]
    },
    {
     "name": "stdout",
     "output_type": "stream",
     "text": [
      "Blob already exists and overwrite is set to False.\n",
      "Blob already exists and overwrite is set to False.\n",
      "Blob already exists and overwrite is set to False.\n"
     ]
    },
    {
     "name": "stderr",
     "output_type": "stream",
     "text": [
      "2023-08-31 21:44:46,072 - distributed.worker.memory - WARNING - Unmanaged memory use is high. This may indicate a memory leak or the memory may not be released to the OS; see https://distributed.dask.org/en/latest/worker-memory.html#memory-not-released-back-to-the-os for more information. -- Unmanaged memory: 8.16 GiB -- Worker memory limit: 10.67 GiB\n",
      "2023-08-31 21:44:46,807 - distributed.worker.memory - WARNING - Worker is at 74% memory usage. Resuming worker. Process memory: 7.94 GiB -- Worker memory limit: 10.67 GiB\n"
     ]
    },
    {
     "name": "stdout",
     "output_type": "stream",
     "text": [
      "Blob already exists and overwrite is set to False.\n"
     ]
    },
    {
     "name": "stderr",
     "output_type": "stream",
     "text": [
      "2023-08-31 21:44:48,854 - distributed.worker.memory - WARNING - Worker is at 80% memory usage. Pausing worker.  Process memory: 8.58 GiB -- Worker memory limit: 10.67 GiB\n",
      "2023-08-31 21:44:50,898 - distributed.worker.memory - WARNING - Unmanaged memory use is high. This may indicate a memory leak or the memory may not be released to the OS; see https://distributed.dask.org/en/latest/worker-memory.html#memory-not-released-back-to-the-os for more information. -- Unmanaged memory: 7.74 GiB -- Worker memory limit: 10.67 GiB\n"
     ]
    },
    {
     "name": "stdout",
     "output_type": "stream",
     "text": [
      "Blob already exists and overwrite is set to False.\n"
     ]
    },
    {
     "name": "stderr",
     "output_type": "stream",
     "text": [
      "2023-08-31 21:44:51,799 - distributed.worker.memory - WARNING - Unmanaged memory use is high. This may indicate a memory leak or the memory may not be released to the OS; see https://distributed.dask.org/en/latest/worker-memory.html#memory-not-released-back-to-the-os for more information. -- Unmanaged memory: 8.95 GiB -- Worker memory limit: 10.67 GiB\n"
     ]
    },
    {
     "name": "stdout",
     "output_type": "stream",
     "text": [
      "Blob already exists and overwrite is set to False.\n",
      "Blob already exists and overwrite is set to False.\n",
      "Blob already exists and overwrite is set to False.\n"
     ]
    },
    {
     "name": "stderr",
     "output_type": "stream",
     "text": [
      "2023-08-31 21:44:56,252 - distributed.worker.memory - WARNING - Worker is at 77% memory usage. Resuming worker. Process memory: 8.26 GiB -- Worker memory limit: 10.67 GiB\n"
     ]
    },
    {
     "name": "stdout",
     "output_type": "stream",
     "text": [
      "Blob already exists and overwrite is set to False.\n",
      "Blob already exists and overwrite is set to False.\n"
     ]
    },
    {
     "name": "stderr",
     "output_type": "stream",
     "text": [
      "2023-08-31 21:44:58,710 - distributed.worker.memory - WARNING - Unmanaged memory use is high. This may indicate a memory leak or the memory may not be released to the OS; see https://distributed.dask.org/en/latest/worker-memory.html#memory-not-released-back-to-the-os for more information. -- Unmanaged memory: 6.70 GiB -- Worker memory limit: 10.67 GiB\n",
      "2023-08-31 21:45:01,756 - distributed.worker.memory - WARNING - Worker is at 80% memory usage. Pausing worker.  Process memory: 8.54 GiB -- Worker memory limit: 10.67 GiB\n",
      "2023-08-31 21:45:01,899 - distributed.worker.memory - WARNING - Unmanaged memory use is high. This may indicate a memory leak or the memory may not be released to the OS; see https://distributed.dask.org/en/latest/worker-memory.html#memory-not-released-back-to-the-os for more information. -- Unmanaged memory: 8.56 GiB -- Worker memory limit: 10.67 GiB\n",
      "2023-08-31 21:45:02,899 - distributed.worker.memory - WARNING - Worker is at 79% memory usage. Resuming worker. Process memory: 8.52 GiB -- Worker memory limit: 10.67 GiB\n"
     ]
    },
    {
     "name": "stdout",
     "output_type": "stream",
     "text": [
      "Blob already exists and overwrite is set to False.\n",
      "Blob already exists and overwrite is set to False.\n",
      "Blob already exists and overwrite is set to False.\n",
      "Blob already exists and overwrite is set to False.\n",
      "Blob already exists and overwrite is set to False.\n",
      "Blob already exists and overwrite is set to False.\n"
     ]
    },
    {
     "name": "stderr",
     "output_type": "stream",
     "text": [
      "2023-08-31 21:45:08,344 - distributed.worker.memory - WARNING - Unmanaged memory use is high. This may indicate a memory leak or the memory may not be released to the OS; see https://distributed.dask.org/en/latest/worker-memory.html#memory-not-released-back-to-the-os for more information. -- Unmanaged memory: 6.85 GiB -- Worker memory limit: 10.67 GiB\n",
      "2023-08-31 21:45:08,514 - distributed.worker.memory - WARNING - Unmanaged memory use is high. This may indicate a memory leak or the memory may not be released to the OS; see https://distributed.dask.org/en/latest/worker-memory.html#memory-not-released-back-to-the-os for more information. -- Unmanaged memory: 7.40 GiB -- Worker memory limit: 10.67 GiB\n",
      "2023-08-31 21:45:10,198 - distributed.worker.memory - WARNING - Unmanaged memory use is high. This may indicate a memory leak or the memory may not be released to the OS; see https://distributed.dask.org/en/latest/worker-memory.html#memory-not-released-back-to-the-os for more information. -- Unmanaged memory: 7.48 GiB -- Worker memory limit: 10.67 GiB\n",
      "2023-08-31 21:45:11,900 - distributed.worker.memory - WARNING - Unmanaged memory use is high. This may indicate a memory leak or the memory may not be released to the OS; see https://distributed.dask.org/en/latest/worker-memory.html#memory-not-released-back-to-the-os for more information. -- Unmanaged memory: 7.50 GiB -- Worker memory limit: 10.67 GiB\n"
     ]
    },
    {
     "name": "stdout",
     "output_type": "stream",
     "text": [
      "Blob already exists and overwrite is set to False.\n",
      "Blob already exists and overwrite is set to False.\n",
      "Blob already exists and overwrite is set to False.\n"
     ]
    },
    {
     "name": "stderr",
     "output_type": "stream",
     "text": [
      "2023-08-31 21:45:17,101 - distributed.worker.memory - WARNING - Unmanaged memory use is high. This may indicate a memory leak or the memory may not be released to the OS; see https://distributed.dask.org/en/latest/worker-memory.html#memory-not-released-back-to-the-os for more information. -- Unmanaged memory: 6.49 GiB -- Worker memory limit: 10.67 GiB\n"
     ]
    },
    {
     "name": "stdout",
     "output_type": "stream",
     "text": [
      "Blob already exists and overwrite is set to False.\n",
      "Blob already exists and overwrite is set to False.\n"
     ]
    },
    {
     "name": "stderr",
     "output_type": "stream",
     "text": [
      "2023-08-31 21:45:18,983 - distributed.worker.memory - WARNING - Unmanaged memory use is high. This may indicate a memory leak or the memory may not be released to the OS; see https://distributed.dask.org/en/latest/worker-memory.html#memory-not-released-back-to-the-os for more information. -- Unmanaged memory: 8.11 GiB -- Worker memory limit: 10.67 GiB\n"
     ]
    },
    {
     "name": "stdout",
     "output_type": "stream",
     "text": [
      "Blob already exists and overwrite is set to False.\n"
     ]
    },
    {
     "name": "stderr",
     "output_type": "stream",
     "text": [
      "2023-08-31 21:45:19,697 - distributed.worker.memory - WARNING - Unmanaged memory use is high. This may indicate a memory leak or the memory may not be released to the OS; see https://distributed.dask.org/en/latest/worker-memory.html#memory-not-released-back-to-the-os for more information. -- Unmanaged memory: 6.93 GiB -- Worker memory limit: 10.67 GiB\n"
     ]
    },
    {
     "name": "stdout",
     "output_type": "stream",
     "text": [
      "Blob already exists and overwrite is set to False.\n"
     ]
    },
    {
     "name": "stderr",
     "output_type": "stream",
     "text": [
      "2023-08-31 21:45:20,298 - distributed.worker.memory - WARNING - Unmanaged memory use is high. This may indicate a memory leak or the memory may not be released to the OS; see https://distributed.dask.org/en/latest/worker-memory.html#memory-not-released-back-to-the-os for more information. -- Unmanaged memory: 7.79 GiB -- Worker memory limit: 10.67 GiB\n",
      "2023-08-31 21:45:20,392 - distributed.worker.memory - WARNING - Worker is at 87% memory usage. Pausing worker.  Process memory: 9.30 GiB -- Worker memory limit: 10.67 GiB\n",
      "2023-08-31 21:45:20,530 - distributed.worker.memory - WARNING - Worker is at 58% memory usage. Resuming worker. Process memory: 6.23 GiB -- Worker memory limit: 10.67 GiB\n",
      "2023-08-31 21:45:20,828 - distributed.worker.memory - WARNING - Worker is at 81% memory usage. Pausing worker.  Process memory: 8.73 GiB -- Worker memory limit: 10.67 GiB\n",
      "2023-08-31 21:45:20,897 - distributed.worker.memory - WARNING - Worker is at 64% memory usage. Resuming worker. Process memory: 6.87 GiB -- Worker memory limit: 10.67 GiB\n",
      "2023-08-31 21:45:21,029 - distributed.worker.memory - WARNING - Unmanaged memory use is high. This may indicate a memory leak or the memory may not be released to the OS; see https://distributed.dask.org/en/latest/worker-memory.html#memory-not-released-back-to-the-os for more information. -- Unmanaged memory: 6.56 GiB -- Worker memory limit: 10.67 GiB\n"
     ]
    },
    {
     "name": "stdout",
     "output_type": "stream",
     "text": [
      "Blob already exists and overwrite is set to False.\n"
     ]
    },
    {
     "name": "stderr",
     "output_type": "stream",
     "text": [
      "2023-08-31 21:45:24,800 - distributed.worker.memory - WARNING - Unmanaged memory use is high. This may indicate a memory leak or the memory may not be released to the OS; see https://distributed.dask.org/en/latest/worker-memory.html#memory-not-released-back-to-the-os for more information. -- Unmanaged memory: 7.54 GiB -- Worker memory limit: 10.67 GiB\n",
      "2023-08-31 21:45:27,056 - distributed.worker.memory - WARNING - Worker is at 83% memory usage. Pausing worker.  Process memory: 8.90 GiB -- Worker memory limit: 10.67 GiB\n",
      "2023-08-31 21:45:27,299 - distributed.worker.memory - WARNING - Worker is at 75% memory usage. Resuming worker. Process memory: 8.06 GiB -- Worker memory limit: 10.67 GiB\n"
     ]
    },
    {
     "name": "stdout",
     "output_type": "stream",
     "text": [
      "Blob already exists and overwrite is set to False.\n"
     ]
    },
    {
     "name": "stderr",
     "output_type": "stream",
     "text": [
      "2023-08-31 21:45:28,151 - distributed.worker.memory - WARNING - Worker is at 84% memory usage. Pausing worker.  Process memory: 9.06 GiB -- Worker memory limit: 10.67 GiB\n"
     ]
    },
    {
     "name": "stdout",
     "output_type": "stream",
     "text": [
      "Blob already exists and overwrite is set to False.\n",
      "Blob already exists and overwrite is set to False.\n",
      "Blob already exists and overwrite is set to False.\n",
      "Blob already exists and overwrite is set to False.\n"
     ]
    },
    {
     "name": "stderr",
     "output_type": "stream",
     "text": [
      "2023-08-31 21:45:30,527 - distributed.worker.memory - WARNING - Unmanaged memory use is high. This may indicate a memory leak or the memory may not be released to the OS; see https://distributed.dask.org/en/latest/worker-memory.html#memory-not-released-back-to-the-os for more information. -- Unmanaged memory: 6.76 GiB -- Worker memory limit: 10.67 GiB\n",
      "2023-08-31 21:45:31,499 - distributed.worker.memory - WARNING - Worker is at 78% memory usage. Resuming worker. Process memory: 8.35 GiB -- Worker memory limit: 10.67 GiB\n"
     ]
    },
    {
     "name": "stdout",
     "output_type": "stream",
     "text": [
      "Blob already exists and overwrite is set to False.\n"
     ]
    },
    {
     "name": "stderr",
     "output_type": "stream",
     "text": [
      "2023-08-31 21:45:32,067 - distributed.worker.memory - WARNING - Unmanaged memory use is high. This may indicate a memory leak or the memory may not be released to the OS; see https://distributed.dask.org/en/latest/worker-memory.html#memory-not-released-back-to-the-os for more information. -- Unmanaged memory: 7.48 GiB -- Worker memory limit: 10.67 GiB\n",
      "2023-08-31 21:45:32,227 - distributed.worker.memory - WARNING - Worker is at 81% memory usage. Pausing worker.  Process memory: 8.65 GiB -- Worker memory limit: 10.67 GiB\n",
      "2023-08-31 21:45:32,257 - distributed.worker.memory - WARNING - Worker is at 85% memory usage. Pausing worker.  Process memory: 9.08 GiB -- Worker memory limit: 10.67 GiB\n",
      "2023-08-31 21:45:32,299 - distributed.worker.memory - WARNING - Worker is at 64% memory usage. Resuming worker. Process memory: 6.92 GiB -- Worker memory limit: 10.67 GiB\n",
      "2023-08-31 21:45:32,439 - distributed.worker.memory - WARNING - Worker is at 66% memory usage. Resuming worker. Process memory: 7.12 GiB -- Worker memory limit: 10.67 GiB\n"
     ]
    },
    {
     "name": "stdout",
     "output_type": "stream",
     "text": [
      "Blob already exists and overwrite is set to False.\n"
     ]
    },
    {
     "name": "stderr",
     "output_type": "stream",
     "text": [
      "2023-08-31 21:45:34,576 - distributed.worker.memory - WARNING - Unmanaged memory use is high. This may indicate a memory leak or the memory may not be released to the OS; see https://distributed.dask.org/en/latest/worker-memory.html#memory-not-released-back-to-the-os for more information. -- Unmanaged memory: 6.51 GiB -- Worker memory limit: 10.67 GiB\n",
      "2023-08-31 21:45:34,899 - distributed.worker.memory - WARNING - Unmanaged memory use is high. This may indicate a memory leak or the memory may not be released to the OS; see https://distributed.dask.org/en/latest/worker-memory.html#memory-not-released-back-to-the-os for more information. -- Unmanaged memory: 8.11 GiB -- Worker memory limit: 10.67 GiB\n",
      "2023-08-31 21:45:37,199 - distributed.worker.memory - WARNING - Worker is at 82% memory usage. Pausing worker.  Process memory: 8.79 GiB -- Worker memory limit: 10.67 GiB\n",
      "2023-08-31 21:45:37,409 - distributed.worker.memory - WARNING - Worker is at 77% memory usage. Resuming worker. Process memory: 8.28 GiB -- Worker memory limit: 10.67 GiB\n"
     ]
    },
    {
     "name": "stdout",
     "output_type": "stream",
     "text": [
      "Blob already exists and overwrite is set to False.\n",
      "Blob already exists and overwrite is set to False.\n"
     ]
    },
    {
     "name": "stderr",
     "output_type": "stream",
     "text": [
      "2023-08-31 21:45:38,465 - distributed.worker.memory - WARNING - Unmanaged memory use is high. This may indicate a memory leak or the memory may not be released to the OS; see https://distributed.dask.org/en/latest/worker-memory.html#memory-not-released-back-to-the-os for more information. -- Unmanaged memory: 7.72 GiB -- Worker memory limit: 10.67 GiB\n"
     ]
    },
    {
     "name": "stdout",
     "output_type": "stream",
     "text": [
      "Blob already exists and overwrite is set to False.\n",
      "Blob already exists and overwrite is set to False.\n",
      "Blob already exists and overwrite is set to False.\n"
     ]
    },
    {
     "name": "stderr",
     "output_type": "stream",
     "text": [
      "2023-08-31 21:45:40,317 - distributed.worker.memory - WARNING - Unmanaged memory use is high. This may indicate a memory leak or the memory may not be released to the OS; see https://distributed.dask.org/en/latest/worker-memory.html#memory-not-released-back-to-the-os for more information. -- Unmanaged memory: 7.79 GiB -- Worker memory limit: 10.67 GiB\n"
     ]
    },
    {
     "name": "stdout",
     "output_type": "stream",
     "text": [
      "Blob already exists and overwrite is set to False.\n"
     ]
    },
    {
     "name": "stderr",
     "output_type": "stream",
     "text": [
      "2023-08-31 21:45:44,999 - distributed.worker.memory - WARNING - Unmanaged memory use is high. This may indicate a memory leak or the memory may not be released to the OS; see https://distributed.dask.org/en/latest/worker-memory.html#memory-not-released-back-to-the-os for more information. -- Unmanaged memory: 8.00 GiB -- Worker memory limit: 10.67 GiB\n"
     ]
    },
    {
     "name": "stdout",
     "output_type": "stream",
     "text": [
      "Blob already exists and overwrite is set to False.\n",
      "Blob already exists and overwrite is set to False.\n"
     ]
    },
    {
     "name": "stderr",
     "output_type": "stream",
     "text": [
      "2023-08-31 21:45:46,204 - distributed.worker.memory - WARNING - Unmanaged memory use is high. This may indicate a memory leak or the memory may not be released to the OS; see https://distributed.dask.org/en/latest/worker-memory.html#memory-not-released-back-to-the-os for more information. -- Unmanaged memory: 6.58 GiB -- Worker memory limit: 10.67 GiB\n",
      "2023-08-31 21:45:47,820 - distributed.worker.memory - WARNING - Unmanaged memory use is high. This may indicate a memory leak or the memory may not be released to the OS; see https://distributed.dask.org/en/latest/worker-memory.html#memory-not-released-back-to-the-os for more information. -- Unmanaged memory: 7.35 GiB -- Worker memory limit: 10.67 GiB\n"
     ]
    },
    {
     "name": "stdout",
     "output_type": "stream",
     "text": [
      "Blob already exists and overwrite is set to False.\n"
     ]
    },
    {
     "name": "stderr",
     "output_type": "stream",
     "text": [
      "2023-08-31 21:45:50,409 - distributed.worker.memory - WARNING - Unmanaged memory use is high. This may indicate a memory leak or the memory may not be released to the OS; see https://distributed.dask.org/en/latest/worker-memory.html#memory-not-released-back-to-the-os for more information. -- Unmanaged memory: 7.81 GiB -- Worker memory limit: 10.67 GiB\n",
      "2023-08-31 21:45:55,100 - distributed.worker.memory - WARNING - Unmanaged memory use is high. This may indicate a memory leak or the memory may not be released to the OS; see https://distributed.dask.org/en/latest/worker-memory.html#memory-not-released-back-to-the-os for more information. -- Unmanaged memory: 7.58 GiB -- Worker memory limit: 10.67 GiB\n",
      "2023-08-31 21:45:55,435 - distributed.worker.memory - WARNING - Worker is at 81% memory usage. Pausing worker.  Process memory: 8.68 GiB -- Worker memory limit: 10.67 GiB\n",
      "2023-08-31 21:45:55,609 - distributed.worker.memory - WARNING - Worker is at 50% memory usage. Resuming worker. Process memory: 5.39 GiB -- Worker memory limit: 10.67 GiB\n",
      "2023-08-31 21:45:56,272 - distributed.worker.memory - WARNING - Unmanaged memory use is high. This may indicate a memory leak or the memory may not be released to the OS; see https://distributed.dask.org/en/latest/worker-memory.html#memory-not-released-back-to-the-os for more information. -- Unmanaged memory: 7.60 GiB -- Worker memory limit: 10.67 GiB\n"
     ]
    },
    {
     "name": "stdout",
     "output_type": "stream",
     "text": [
      "Blob already exists and overwrite is set to False.\n"
     ]
    },
    {
     "name": "stderr",
     "output_type": "stream",
     "text": [
      "2023-08-31 21:45:56,943 - distributed.worker.memory - WARNING - Unmanaged memory use is high. This may indicate a memory leak or the memory may not be released to the OS; see https://distributed.dask.org/en/latest/worker-memory.html#memory-not-released-back-to-the-os for more information. -- Unmanaged memory: 8.14 GiB -- Worker memory limit: 10.67 GiB\n"
     ]
    },
    {
     "name": "stdout",
     "output_type": "stream",
     "text": [
      "Blob already exists and overwrite is set to False.\n",
      "Blob already exists and overwrite is set to False.\n",
      "Blob already exists and overwrite is set to False.\n"
     ]
    },
    {
     "name": "stderr",
     "output_type": "stream",
     "text": [
      "2023-08-31 21:45:59,881 - distributed.worker.memory - WARNING - Unmanaged memory use is high. This may indicate a memory leak or the memory may not be released to the OS; see https://distributed.dask.org/en/latest/worker-memory.html#memory-not-released-back-to-the-os for more information. -- Unmanaged memory: 7.95 GiB -- Worker memory limit: 10.67 GiB\n",
      "2023-08-31 21:45:59,959 - distributed.worker.memory - WARNING - Worker is at 80% memory usage. Pausing worker.  Process memory: 8.56 GiB -- Worker memory limit: 10.67 GiB\n"
     ]
    },
    {
     "name": "stdout",
     "output_type": "stream",
     "text": [
      "Blob already exists and overwrite is set to False.\n"
     ]
    },
    {
     "name": "stderr",
     "output_type": "stream",
     "text": [
      "2023-08-31 21:46:00,270 - distributed.worker.memory - WARNING - Worker is at 69% memory usage. Resuming worker. Process memory: 7.44 GiB -- Worker memory limit: 10.67 GiB\n"
     ]
    },
    {
     "name": "stdout",
     "output_type": "stream",
     "text": [
      "Blob already exists and overwrite is set to False.\n"
     ]
    },
    {
     "name": "stderr",
     "output_type": "stream",
     "text": [
      "2023-08-31 21:46:01,639 - distributed.worker.memory - WARNING - Unmanaged memory use is high. This may indicate a memory leak or the memory may not be released to the OS; see https://distributed.dask.org/en/latest/worker-memory.html#memory-not-released-back-to-the-os for more information. -- Unmanaged memory: 6.67 GiB -- Worker memory limit: 10.67 GiB\n",
      "2023-08-31 21:46:02,975 - distributed.worker.memory - WARNING - Worker is at 86% memory usage. Pausing worker.  Process memory: 9.20 GiB -- Worker memory limit: 10.67 GiB\n",
      "2023-08-31 21:46:03,294 - distributed.worker.memory - WARNING - Worker is at 74% memory usage. Resuming worker. Process memory: 7.92 GiB -- Worker memory limit: 10.67 GiB\n"
     ]
    },
    {
     "name": "stdout",
     "output_type": "stream",
     "text": [
      "Blob already exists and overwrite is set to False.\n"
     ]
    },
    {
     "name": "stderr",
     "output_type": "stream",
     "text": [
      "2023-08-31 21:46:04,336 - distributed.worker.memory - WARNING - Worker is at 82% memory usage. Pausing worker.  Process memory: 8.82 GiB -- Worker memory limit: 10.67 GiB\n",
      "2023-08-31 21:46:04,476 - distributed.worker.memory - WARNING - Worker is at 73% memory usage. Resuming worker. Process memory: 7.84 GiB -- Worker memory limit: 10.67 GiB\n",
      "2023-08-31 21:46:04,699 - distributed.worker.memory - WARNING - Worker is at 82% memory usage. Pausing worker.  Process memory: 8.82 GiB -- Worker memory limit: 10.67 GiB\n",
      "2023-08-31 21:46:04,899 - distributed.worker.memory - WARNING - Worker is at 73% memory usage. Resuming worker. Process memory: 7.82 GiB -- Worker memory limit: 10.67 GiB\n"
     ]
    },
    {
     "name": "stdout",
     "output_type": "stream",
     "text": [
      "Blob already exists and overwrite is set to False.\n"
     ]
    },
    {
     "name": "stderr",
     "output_type": "stream",
     "text": [
      "2023-08-31 21:46:05,436 - distributed.worker.memory - WARNING - Worker is at 82% memory usage. Pausing worker.  Process memory: 8.82 GiB -- Worker memory limit: 10.67 GiB\n",
      "2023-08-31 21:46:05,752 - distributed.worker.memory - WARNING - Worker is at 73% memory usage. Resuming worker. Process memory: 7.82 GiB -- Worker memory limit: 10.67 GiB\n",
      "2023-08-31 21:46:05,753 - distributed.worker.memory - WARNING - Unmanaged memory use is high. This may indicate a memory leak or the memory may not be released to the OS; see https://distributed.dask.org/en/latest/worker-memory.html#memory-not-released-back-to-the-os for more information. -- Unmanaged memory: 7.82 GiB -- Worker memory limit: 10.67 GiB\n",
      "2023-08-31 21:46:06,827 - distributed.worker.memory - WARNING - Worker is at 80% memory usage. Pausing worker.  Process memory: 8.53 GiB -- Worker memory limit: 10.67 GiB\n",
      "2023-08-31 21:46:06,908 - distributed.worker.memory - WARNING - Worker is at 72% memory usage. Resuming worker. Process memory: 7.74 GiB -- Worker memory limit: 10.67 GiB\n"
     ]
    },
    {
     "name": "stdout",
     "output_type": "stream",
     "text": [
      "Blob already exists and overwrite is set to False.\n"
     ]
    },
    {
     "name": "stderr",
     "output_type": "stream",
     "text": [
      "2023-08-31 21:46:08,998 - distributed.worker.memory - WARNING - Unmanaged memory use is high. This may indicate a memory leak or the memory may not be released to the OS; see https://distributed.dask.org/en/latest/worker-memory.html#memory-not-released-back-to-the-os for more information. -- Unmanaged memory: 8.17 GiB -- Worker memory limit: 10.67 GiB\n"
     ]
    },
    {
     "name": "stdout",
     "output_type": "stream",
     "text": [
      "Blob already exists and overwrite is set to False.\n",
      "Blob already exists and overwrite is set to False.\n",
      "Blob already exists and overwrite is set to False.\n"
     ]
    },
    {
     "name": "stderr",
     "output_type": "stream",
     "text": [
      "2023-08-31 21:46:11,501 - distributed.worker.memory - WARNING - Worker is at 82% memory usage. Pausing worker.  Process memory: 8.78 GiB -- Worker memory limit: 10.67 GiB\n",
      "2023-08-31 21:46:11,573 - distributed.worker.memory - WARNING - Unmanaged memory use is high. This may indicate a memory leak or the memory may not be released to the OS; see https://distributed.dask.org/en/latest/worker-memory.html#memory-not-released-back-to-the-os for more information. -- Unmanaged memory: 7.65 GiB -- Worker memory limit: 10.67 GiB\n",
      "2023-08-31 21:46:11,625 - distributed.worker.memory - WARNING - Worker is at 56% memory usage. Resuming worker. Process memory: 6.04 GiB -- Worker memory limit: 10.67 GiB\n",
      "2023-08-31 21:46:13,804 - distributed.worker.memory - WARNING - Worker is at 80% memory usage. Pausing worker.  Process memory: 8.54 GiB -- Worker memory limit: 10.67 GiB\n",
      "2023-08-31 21:46:13,897 - distributed.worker.memory - WARNING - Worker is at 61% memory usage. Resuming worker. Process memory: 6.57 GiB -- Worker memory limit: 10.67 GiB\n"
     ]
    },
    {
     "name": "stdout",
     "output_type": "stream",
     "text": [
      "Blob already exists and overwrite is set to False.\n"
     ]
    },
    {
     "name": "stderr",
     "output_type": "stream",
     "text": [
      "2023-08-31 21:46:18,100 - distributed.worker.memory - WARNING - Unmanaged memory use is high. This may indicate a memory leak or the memory may not be released to the OS; see https://distributed.dask.org/en/latest/worker-memory.html#memory-not-released-back-to-the-os for more information. -- Unmanaged memory: 7.48 GiB -- Worker memory limit: 10.67 GiB\n",
      "2023-08-31 21:46:19,198 - distributed.worker.memory - WARNING - Unmanaged memory use is high. This may indicate a memory leak or the memory may not be released to the OS; see https://distributed.dask.org/en/latest/worker-memory.html#memory-not-released-back-to-the-os for more information. -- Unmanaged memory: 7.37 GiB -- Worker memory limit: 10.67 GiB\n"
     ]
    },
    {
     "name": "stdout",
     "output_type": "stream",
     "text": [
      "Blob already exists and overwrite is set to False.\n",
      "Blob already exists and overwrite is set to False.\n",
      "Blob already exists and overwrite is set to False.\n"
     ]
    },
    {
     "name": "stderr",
     "output_type": "stream",
     "text": [
      "2023-08-31 21:46:23,286 - distributed.worker.memory - WARNING - Worker is at 87% memory usage. Pausing worker.  Process memory: 9.36 GiB -- Worker memory limit: 10.67 GiB\n",
      "2023-08-31 21:46:23,516 - distributed.worker.memory - WARNING - Worker is at 78% memory usage. Resuming worker. Process memory: 8.36 GiB -- Worker memory limit: 10.67 GiB\n",
      "2023-08-31 21:46:24,256 - distributed.worker.memory - WARNING - Worker is at 86% memory usage. Pausing worker.  Process memory: 9.23 GiB -- Worker memory limit: 10.67 GiB\n",
      "2023-08-31 21:46:24,420 - distributed.worker.memory - WARNING - Worker is at 77% memory usage. Resuming worker. Process memory: 8.23 GiB -- Worker memory limit: 10.67 GiB\n",
      "2023-08-31 21:46:25,494 - distributed.worker.memory - WARNING - Unmanaged memory use is high. This may indicate a memory leak or the memory may not be released to the OS; see https://distributed.dask.org/en/latest/worker-memory.html#memory-not-released-back-to-the-os for more information. -- Unmanaged memory: 7.53 GiB -- Worker memory limit: 10.67 GiB\n",
      "2023-08-31 21:46:25,886 - distributed.worker.memory - WARNING - Unmanaged memory use is high. This may indicate a memory leak or the memory may not be released to the OS; see https://distributed.dask.org/en/latest/worker-memory.html#memory-not-released-back-to-the-os for more information. -- Unmanaged memory: 6.81 GiB -- Worker memory limit: 10.67 GiB\n",
      "2023-08-31 21:46:28,101 - distributed.worker.memory - WARNING - Unmanaged memory use is high. This may indicate a memory leak or the memory may not be released to the OS; see https://distributed.dask.org/en/latest/worker-memory.html#memory-not-released-back-to-the-os for more information. -- Unmanaged memory: 7.73 GiB -- Worker memory limit: 10.67 GiB\n",
      "2023-08-31 21:46:28,371 - distributed.worker.memory - WARNING - Unmanaged memory use is high. This may indicate a memory leak or the memory may not be released to the OS; see https://distributed.dask.org/en/latest/worker-memory.html#memory-not-released-back-to-the-os for more information. -- Unmanaged memory: 7.40 GiB -- Worker memory limit: 10.67 GiB\n"
     ]
    },
    {
     "name": "stdout",
     "output_type": "stream",
     "text": [
      "Blob already exists and overwrite is set to False.\n",
      "Blob already exists and overwrite is set to False.\n",
      "Blob already exists and overwrite is set to False.\n",
      "Blob already exists and overwrite is set to False.\n"
     ]
    },
    {
     "name": "stderr",
     "output_type": "stream",
     "text": [
      "2023-08-31 21:46:30,544 - distributed.worker.memory - WARNING - Worker is at 83% memory usage. Pausing worker.  Process memory: 8.95 GiB -- Worker memory limit: 10.67 GiB\n",
      "2023-08-31 21:46:30,609 - distributed.worker.memory - WARNING - Worker is at 69% memory usage. Resuming worker. Process memory: 7.41 GiB -- Worker memory limit: 10.67 GiB\n"
     ]
    },
    {
     "name": "stdout",
     "output_type": "stream",
     "text": [
      "Blob already exists and overwrite is set to False.\n"
     ]
    },
    {
     "name": "stderr",
     "output_type": "stream",
     "text": [
      "2023-08-31 21:46:34,474 - distributed.worker.memory - WARNING - Worker is at 84% memory usage. Pausing worker.  Process memory: 9.00 GiB -- Worker memory limit: 10.67 GiB\n",
      "2023-08-31 21:46:34,711 - distributed.worker.memory - WARNING - Worker is at 72% memory usage. Resuming worker. Process memory: 7.75 GiB -- Worker memory limit: 10.67 GiB\n",
      "2023-08-31 21:46:35,355 - distributed.worker.memory - WARNING - Worker is at 81% memory usage. Pausing worker.  Process memory: 8.64 GiB -- Worker memory limit: 10.67 GiB\n",
      "2023-08-31 21:46:35,489 - distributed.worker.memory - WARNING - Worker is at 71% memory usage. Resuming worker. Process memory: 7.64 GiB -- Worker memory limit: 10.67 GiB\n",
      "2023-08-31 21:46:35,693 - distributed.worker.memory - WARNING - Unmanaged memory use is high. This may indicate a memory leak or the memory may not be released to the OS; see https://distributed.dask.org/en/latest/worker-memory.html#memory-not-released-back-to-the-os for more information. -- Unmanaged memory: 6.53 GiB -- Worker memory limit: 10.67 GiB\n",
      "2023-08-31 21:46:37,276 - distributed.nanny.memory - WARNING - Worker tcp://127.0.0.1:51963 (pid=49510) exceeded 95% memory budget. Restarting...\n",
      "2023-08-31 21:46:37,466 - distributed.worker - ERROR - Worker stream died during communication: tcp://127.0.0.1:51963\n",
      "Traceback (most recent call last):\n",
      "  File \"/Users/calkoen/mambaforge/envs/testenv/lib/python3.11/site-packages/distributed/comm/tcp.py\", line 225, in read\n",
      "    frames_nbytes = await stream.read_bytes(fmt_size)\n",
      "                    ^^^^^^^^^^^^^^^^^^^^^^^^^^^^^^^^^\n",
      "tornado.iostream.StreamClosedError: Stream is closed\n",
      "\n",
      "The above exception was the direct cause of the following exception:\n",
      "\n",
      "Traceback (most recent call last):\n",
      "  File \"/Users/calkoen/mambaforge/envs/testenv/lib/python3.11/site-packages/distributed/worker.py\", line 2053, in gather_dep\n",
      "    response = await get_data_from_worker(\n",
      "               ^^^^^^^^^^^^^^^^^^^^^^^^^^^\n",
      "  File \"/Users/calkoen/mambaforge/envs/testenv/lib/python3.11/site-packages/distributed/worker.py\", line 2902, in get_data_from_worker\n",
      "    response = await send_recv(\n",
      "               ^^^^^^^^^^^^^^^^\n",
      "  File \"/Users/calkoen/mambaforge/envs/testenv/lib/python3.11/site-packages/distributed/core.py\", line 1136, in send_recv\n",
      "    response = await comm.read(deserializers=deserializers)\n",
      "               ^^^^^^^^^^^^^^^^^^^^^^^^^^^^^^^^^^^^^^^^^^^^\n",
      "  File \"/Users/calkoen/mambaforge/envs/testenv/lib/python3.11/site-packages/distributed/comm/tcp.py\", line 241, in read\n",
      "    convert_stream_closed_error(self, e)\n",
      "  File \"/Users/calkoen/mambaforge/envs/testenv/lib/python3.11/site-packages/distributed/comm/tcp.py\", line 144, in convert_stream_closed_error\n",
      "    raise CommClosedError(f\"in {obj}: {exc}\") from exc\n",
      "distributed.comm.core.CommClosedError: in <TCP (closed) Ephemeral Worker->Worker for gather local=tcp://127.0.0.1:52059 remote=tcp://127.0.0.1:51963>: Stream is closed\n",
      "2023-08-31 21:46:37,473 - distributed.nanny - WARNING - Restarting worker\n"
     ]
    },
    {
     "name": "stdout",
     "output_type": "stream",
     "text": [
      "Blob already exists and overwrite is set to False.\n"
     ]
    },
    {
     "name": "stderr",
     "output_type": "stream",
     "text": [
      "2023-08-31 21:46:38,940 - distributed.worker.memory - WARNING - Unmanaged memory use is high. This may indicate a memory leak or the memory may not be released to the OS; see https://distributed.dask.org/en/latest/worker-memory.html#memory-not-released-back-to-the-os for more information. -- Unmanaged memory: 7.99 GiB -- Worker memory limit: 10.67 GiB\n"
     ]
    },
    {
     "name": "stdout",
     "output_type": "stream",
     "text": [
      "Blob already exists and overwrite is set to False.\n",
      "Blob already exists and overwrite is set to False.\n"
     ]
    },
    {
     "name": "stderr",
     "output_type": "stream",
     "text": [
      "2023-08-31 21:46:40,994 - distributed.worker.memory - WARNING - Worker is at 82% memory usage. Pausing worker.  Process memory: 8.77 GiB -- Worker memory limit: 10.67 GiB\n",
      "2023-08-31 21:46:40,997 - distributed.worker.memory - WARNING - Worker is at 75% memory usage. Resuming worker. Process memory: 8.01 GiB -- Worker memory limit: 10.67 GiB\n"
     ]
    },
    {
     "name": "stdout",
     "output_type": "stream",
     "text": [
      "Blob already exists and overwrite is set to False.\n"
     ]
    },
    {
     "name": "stderr",
     "output_type": "stream",
     "text": [
      "2023-08-31 21:46:42,191 - distributed.worker.memory - WARNING - Unmanaged memory use is high. This may indicate a memory leak or the memory may not be released to the OS; see https://distributed.dask.org/en/latest/worker-memory.html#memory-not-released-back-to-the-os for more information. -- Unmanaged memory: 6.50 GiB -- Worker memory limit: 10.67 GiB\n"
     ]
    },
    {
     "name": "stdout",
     "output_type": "stream",
     "text": [
      "Blob already exists and overwrite is set to False.\n"
     ]
    },
    {
     "name": "stderr",
     "output_type": "stream",
     "text": [
      "2023-08-31 21:46:45,697 - distributed.worker.memory - WARNING - Unmanaged memory use is high. This may indicate a memory leak or the memory may not be released to the OS; see https://distributed.dask.org/en/latest/worker-memory.html#memory-not-released-back-to-the-os for more information. -- Unmanaged memory: 8.16 GiB -- Worker memory limit: 10.67 GiB\n"
     ]
    },
    {
     "name": "stdout",
     "output_type": "stream",
     "text": [
      "Blob already exists and overwrite is set to False.\n"
     ]
    },
    {
     "name": "stderr",
     "output_type": "stream",
     "text": [
      "2023-08-31 21:46:47,506 - distributed.worker.memory - WARNING - Worker is at 80% memory usage. Pausing worker.  Process memory: 8.59 GiB -- Worker memory limit: 10.67 GiB\n",
      "2023-08-31 21:46:47,698 - distributed.worker.memory - WARNING - Worker is at 60% memory usage. Resuming worker. Process memory: 6.47 GiB -- Worker memory limit: 10.67 GiB\n",
      "2023-08-31 21:46:47,919 - distributed.worker.memory - WARNING - Unmanaged memory use is high. This may indicate a memory leak or the memory may not be released to the OS; see https://distributed.dask.org/en/latest/worker-memory.html#memory-not-released-back-to-the-os for more information. -- Unmanaged memory: 6.43 GiB -- Worker memory limit: 10.67 GiB\n"
     ]
    },
    {
     "name": "stdout",
     "output_type": "stream",
     "text": [
      "Blob already exists and overwrite is set to False.\n"
     ]
    },
    {
     "name": "stderr",
     "output_type": "stream",
     "text": [
      "2023-08-31 21:46:48,495 - distributed.worker.memory - WARNING - Unmanaged memory use is high. This may indicate a memory leak or the memory may not be released to the OS; see https://distributed.dask.org/en/latest/worker-memory.html#memory-not-released-back-to-the-os for more information. -- Unmanaged memory: 7.41 GiB -- Worker memory limit: 10.67 GiB\n"
     ]
    },
    {
     "name": "stdout",
     "output_type": "stream",
     "text": [
      "Blob already exists and overwrite is set to False.\n"
     ]
    },
    {
     "name": "stderr",
     "output_type": "stream",
     "text": [
      "2023-08-31 21:46:48,697 - distributed.worker.memory - WARNING - Worker is at 80% memory usage. Pausing worker.  Process memory: 8.54 GiB -- Worker memory limit: 10.67 GiB\n",
      "2023-08-31 21:46:49,329 - distributed.worker.memory - WARNING - Worker is at 77% memory usage. Resuming worker. Process memory: 8.23 GiB -- Worker memory limit: 10.67 GiB\n",
      "2023-08-31 21:46:50,334 - distributed.worker.memory - WARNING - Worker is at 81% memory usage. Pausing worker.  Process memory: 8.67 GiB -- Worker memory limit: 10.67 GiB\n"
     ]
    },
    {
     "name": "stdout",
     "output_type": "stream",
     "text": [
      "Blob already exists and overwrite is set to False.\n"
     ]
    },
    {
     "name": "stderr",
     "output_type": "stream",
     "text": [
      "2023-08-31 21:46:51,245 - distributed.worker.memory - WARNING - Worker is at 67% memory usage. Resuming worker. Process memory: 7.23 GiB -- Worker memory limit: 10.67 GiB\n",
      "2023-08-31 21:46:51,556 - distributed.worker.memory - WARNING - Unmanaged memory use is high. This may indicate a memory leak or the memory may not be released to the OS; see https://distributed.dask.org/en/latest/worker-memory.html#memory-not-released-back-to-the-os for more information. -- Unmanaged memory: 6.88 GiB -- Worker memory limit: 10.67 GiB\n",
      "2023-08-31 21:46:52,083 - distributed.worker.memory - WARNING - Worker is at 80% memory usage. Pausing worker.  Process memory: 8.60 GiB -- Worker memory limit: 10.67 GiB\n",
      "2023-08-31 21:46:52,215 - distributed.worker.memory - WARNING - Worker is at 71% memory usage. Resuming worker. Process memory: 7.60 GiB -- Worker memory limit: 10.67 GiB\n",
      "2023-08-31 21:46:55,701 - distributed.worker.memory - WARNING - Unmanaged memory use is high. This may indicate a memory leak or the memory may not be released to the OS; see https://distributed.dask.org/en/latest/worker-memory.html#memory-not-released-back-to-the-os for more information. -- Unmanaged memory: 7.48 GiB -- Worker memory limit: 10.67 GiB\n"
     ]
    },
    {
     "name": "stdout",
     "output_type": "stream",
     "text": [
      "Blob already exists and overwrite is set to False.\n"
     ]
    },
    {
     "name": "stderr",
     "output_type": "stream",
     "text": [
      "2023-08-31 21:46:57,377 - distributed.worker.memory - WARNING - Worker is at 80% memory usage. Pausing worker.  Process memory: 8.55 GiB -- Worker memory limit: 10.67 GiB\n"
     ]
    },
    {
     "name": "stdout",
     "output_type": "stream",
     "text": [
      "Blob already exists and overwrite is set to False.\n"
     ]
    },
    {
     "name": "stderr",
     "output_type": "stream",
     "text": [
      "2023-08-31 21:46:58,397 - distributed.worker.memory - WARNING - Worker is at 77% memory usage. Resuming worker. Process memory: 8.30 GiB -- Worker memory limit: 10.67 GiB\n"
     ]
    },
    {
     "name": "stdout",
     "output_type": "stream",
     "text": [
      "Blob already exists and overwrite is set to False.\n",
      "Blob already exists and overwrite is set to False.\n"
     ]
    },
    {
     "name": "stderr",
     "output_type": "stream",
     "text": [
      "2023-08-31 21:47:00,178 - distributed.worker.memory - WARNING - Unmanaged memory use is high. This may indicate a memory leak or the memory may not be released to the OS; see https://distributed.dask.org/en/latest/worker-memory.html#memory-not-released-back-to-the-os for more information. -- Unmanaged memory: 7.41 GiB -- Worker memory limit: 10.67 GiB\n",
      "2023-08-31 21:47:00,731 - distributed.worker.memory - WARNING - Unmanaged memory use is high. This may indicate a memory leak or the memory may not be released to the OS; see https://distributed.dask.org/en/latest/worker-memory.html#memory-not-released-back-to-the-os for more information. -- Unmanaged memory: 7.95 GiB -- Worker memory limit: 10.67 GiB\n",
      "2023-08-31 21:47:01,410 - distributed.worker.memory - WARNING - Worker is at 87% memory usage. Pausing worker.  Process memory: 9.30 GiB -- Worker memory limit: 10.67 GiB\n",
      "2023-08-31 21:47:01,473 - distributed.worker.memory - WARNING - Worker is at 69% memory usage. Resuming worker. Process memory: 7.40 GiB -- Worker memory limit: 10.67 GiB\n"
     ]
    },
    {
     "name": "stdout",
     "output_type": "stream",
     "text": [
      "Blob already exists and overwrite is set to False.\n",
      "Blob already exists and overwrite is set to False.\n",
      "Blob already exists and overwrite is set to False.\n",
      "Blob already exists and overwrite is set to False.\n"
     ]
    },
    {
     "name": "stderr",
     "output_type": "stream",
     "text": [
      "2023-08-31 21:47:04,533 - distributed.worker.memory - WARNING - Worker is at 86% memory usage. Pausing worker.  Process memory: 9.18 GiB -- Worker memory limit: 10.67 GiB\n",
      "2023-08-31 21:47:04,573 - distributed.worker.memory - WARNING - Worker is at 58% memory usage. Resuming worker. Process memory: 6.26 GiB -- Worker memory limit: 10.67 GiB\n"
     ]
    },
    {
     "name": "stdout",
     "output_type": "stream",
     "text": [
      "Blob already exists and overwrite is set to False.\n",
      "Blob already exists and overwrite is set to False.\n"
     ]
    },
    {
     "name": "stderr",
     "output_type": "stream",
     "text": [
      "2023-08-31 21:47:05,799 - distributed.worker.memory - WARNING - Unmanaged memory use is high. This may indicate a memory leak or the memory may not be released to the OS; see https://distributed.dask.org/en/latest/worker-memory.html#memory-not-released-back-to-the-os for more information. -- Unmanaged memory: 7.69 GiB -- Worker memory limit: 10.67 GiB\n",
      "2023-08-31 21:47:06,071 - distributed.worker.memory - WARNING - Worker is at 84% memory usage. Pausing worker.  Process memory: 9.03 GiB -- Worker memory limit: 10.67 GiB\n",
      "2023-08-31 21:47:06,290 - distributed.worker.memory - WARNING - Worker is at 54% memory usage. Resuming worker. Process memory: 5.80 GiB -- Worker memory limit: 10.67 GiB\n",
      "2023-08-31 21:47:10,773 - distributed.worker.memory - WARNING - Unmanaged memory use is high. This may indicate a memory leak or the memory may not be released to the OS; see https://distributed.dask.org/en/latest/worker-memory.html#memory-not-released-back-to-the-os for more information. -- Unmanaged memory: 7.52 GiB -- Worker memory limit: 10.67 GiB\n",
      "2023-08-31 21:47:11,401 - distributed.worker.memory - WARNING - Unmanaged memory use is high. This may indicate a memory leak or the memory may not be released to the OS; see https://distributed.dask.org/en/latest/worker-memory.html#memory-not-released-back-to-the-os for more information. -- Unmanaged memory: 6.50 GiB -- Worker memory limit: 10.67 GiB\n",
      "2023-08-31 21:47:12,279 - distributed.worker.memory - WARNING - Worker is at 87% memory usage. Pausing worker.  Process memory: 9.33 GiB -- Worker memory limit: 10.67 GiB\n",
      "2023-08-31 21:47:12,463 - distributed.worker.memory - WARNING - Worker is at 68% memory usage. Resuming worker. Process memory: 7.33 GiB -- Worker memory limit: 10.67 GiB\n"
     ]
    },
    {
     "name": "stdout",
     "output_type": "stream",
     "text": [
      "Blob already exists and overwrite is set to False.\n",
      "Blob already exists and overwrite is set to False.\n"
     ]
    },
    {
     "name": "stderr",
     "output_type": "stream",
     "text": [
      "2023-08-31 21:47:14,148 - distributed.worker.memory - WARNING - Worker is at 81% memory usage. Pausing worker.  Process memory: 8.66 GiB -- Worker memory limit: 10.67 GiB\n",
      "2023-08-31 21:47:14,353 - distributed.worker.memory - WARNING - Worker is at 75% memory usage. Resuming worker. Process memory: 8.05 GiB -- Worker memory limit: 10.67 GiB\n"
     ]
    },
    {
     "name": "stdout",
     "output_type": "stream",
     "text": [
      "Blob already exists and overwrite is set to False.\n",
      "Blob already exists and overwrite is set to False.\n"
     ]
    },
    {
     "name": "stderr",
     "output_type": "stream",
     "text": [
      "2023-08-31 21:47:15,440 - distributed.worker.memory - WARNING - Worker is at 87% memory usage. Pausing worker.  Process memory: 9.30 GiB -- Worker memory limit: 10.67 GiB\n",
      "2023-08-31 21:47:15,453 - distributed.worker.memory - WARNING - Unmanaged memory use is high. This may indicate a memory leak or the memory may not be released to the OS; see https://distributed.dask.org/en/latest/worker-memory.html#memory-not-released-back-to-the-os for more information. -- Unmanaged memory: 6.66 GiB -- Worker memory limit: 10.67 GiB\n",
      "2023-08-31 21:47:15,616 - distributed.worker.memory - WARNING - Worker is at 77% memory usage. Resuming worker. Process memory: 8.30 GiB -- Worker memory limit: 10.67 GiB\n"
     ]
    },
    {
     "name": "stdout",
     "output_type": "stream",
     "text": [
      "Blob already exists and overwrite is set to False.\n"
     ]
    },
    {
     "name": "stderr",
     "output_type": "stream",
     "text": [
      "2023-08-31 21:47:17,957 - distributed.worker.memory - WARNING - Unmanaged memory use is high. This may indicate a memory leak or the memory may not be released to the OS; see https://distributed.dask.org/en/latest/worker-memory.html#memory-not-released-back-to-the-os for more information. -- Unmanaged memory: 6.48 GiB -- Worker memory limit: 10.67 GiB\n"
     ]
    },
    {
     "name": "stdout",
     "output_type": "stream",
     "text": [
      "Blob already exists and overwrite is set to False.\n",
      "Blob already exists and overwrite is set to False.\n"
     ]
    },
    {
     "name": "stderr",
     "output_type": "stream",
     "text": [
      "2023-08-31 21:47:18,558 - distributed.worker.memory - WARNING - Unmanaged memory use is high. This may indicate a memory leak or the memory may not be released to the OS; see https://distributed.dask.org/en/latest/worker-memory.html#memory-not-released-back-to-the-os for more information. -- Unmanaged memory: 6.59 GiB -- Worker memory limit: 10.67 GiB\n"
     ]
    },
    {
     "name": "stdout",
     "output_type": "stream",
     "text": [
      "Blob already exists and overwrite is set to False.\n",
      "Blob already exists and overwrite is set to False.\n",
      "Blob already exists and overwrite is set to False.\n"
     ]
    },
    {
     "name": "stderr",
     "output_type": "stream",
     "text": [
      "2023-08-31 21:47:20,773 - distributed.worker.memory - WARNING - Unmanaged memory use is high. This may indicate a memory leak or the memory may not be released to the OS; see https://distributed.dask.org/en/latest/worker-memory.html#memory-not-released-back-to-the-os for more information. -- Unmanaged memory: 7.68 GiB -- Worker memory limit: 10.67 GiB\n",
      "2023-08-31 21:47:20,801 - distributed.worker.memory - WARNING - Worker is at 84% memory usage. Pausing worker.  Process memory: 8.97 GiB -- Worker memory limit: 10.67 GiB\n",
      "2023-08-31 21:47:21,007 - distributed.worker.memory - WARNING - Worker is at 65% memory usage. Resuming worker. Process memory: 6.97 GiB -- Worker memory limit: 10.67 GiB\n",
      "2023-08-31 21:47:21,409 - distributed.worker.memory - WARNING - Unmanaged memory use is high. This may indicate a memory leak or the memory may not be released to the OS; see https://distributed.dask.org/en/latest/worker-memory.html#memory-not-released-back-to-the-os for more information. -- Unmanaged memory: 7.86 GiB -- Worker memory limit: 10.67 GiB\n",
      "2023-08-31 21:47:22,290 - distributed.worker.memory - WARNING - Worker is at 81% memory usage. Pausing worker.  Process memory: 8.71 GiB -- Worker memory limit: 10.67 GiB\n",
      "2023-08-31 21:47:22,561 - distributed.worker.memory - WARNING - Worker is at 71% memory usage. Resuming worker. Process memory: 7.63 GiB -- Worker memory limit: 10.67 GiB\n",
      "2023-08-31 21:47:24,416 - distributed.worker.memory - WARNING - Worker is at 81% memory usage. Pausing worker.  Process memory: 8.69 GiB -- Worker memory limit: 10.67 GiB\n",
      "2023-08-31 21:47:24,473 - distributed.worker.memory - WARNING - Worker is at 65% memory usage. Resuming worker. Process memory: 7.01 GiB -- Worker memory limit: 10.67 GiB\n"
     ]
    },
    {
     "name": "stdout",
     "output_type": "stream",
     "text": [
      "Blob already exists and overwrite is set to False.\n",
      "Blob already exists and overwrite is set to False.\n",
      "Blob already exists and overwrite is set to False.\n"
     ]
    },
    {
     "name": "stderr",
     "output_type": "stream",
     "text": [
      "2023-08-31 21:47:27,024 - distributed.worker.memory - WARNING - Worker is at 80% memory usage. Pausing worker.  Process memory: 8.54 GiB -- Worker memory limit: 10.67 GiB\n",
      "2023-08-31 21:47:27,109 - distributed.worker.memory - WARNING - Worker is at 61% memory usage. Resuming worker. Process memory: 6.56 GiB -- Worker memory limit: 10.67 GiB\n"
     ]
    },
    {
     "name": "stdout",
     "output_type": "stream",
     "text": [
      "Blob already exists and overwrite is set to False.\n"
     ]
    },
    {
     "name": "stderr",
     "output_type": "stream",
     "text": [
      "2023-08-31 21:47:29,113 - distributed.worker.memory - WARNING - Unmanaged memory use is high. This may indicate a memory leak or the memory may not be released to the OS; see https://distributed.dask.org/en/latest/worker-memory.html#memory-not-released-back-to-the-os for more information. -- Unmanaged memory: 8.04 GiB -- Worker memory limit: 10.67 GiB\n"
     ]
    },
    {
     "name": "stdout",
     "output_type": "stream",
     "text": [
      "Blob already exists and overwrite is set to False.\n"
     ]
    },
    {
     "name": "stderr",
     "output_type": "stream",
     "text": [
      "2023-08-31 21:47:30,386 - distributed.worker.memory - WARNING - Unmanaged memory use is high. This may indicate a memory leak or the memory may not be released to the OS; see https://distributed.dask.org/en/latest/worker-memory.html#memory-not-released-back-to-the-os for more information. -- Unmanaged memory: 6.59 GiB -- Worker memory limit: 10.67 GiB\n",
      "2023-08-31 21:47:30,873 - distributed.worker.memory - WARNING - Unmanaged memory use is high. This may indicate a memory leak or the memory may not be released to the OS; see https://distributed.dask.org/en/latest/worker-memory.html#memory-not-released-back-to-the-os for more information. -- Unmanaged memory: 7.76 GiB -- Worker memory limit: 10.67 GiB\n",
      "2023-08-31 21:47:31,976 - distributed.worker.memory - WARNING - Worker is at 81% memory usage. Pausing worker.  Process memory: 8.67 GiB -- Worker memory limit: 10.67 GiB\n",
      "2023-08-31 21:47:32,118 - distributed.worker.memory - WARNING - Worker is at 75% memory usage. Resuming worker. Process memory: 8.05 GiB -- Worker memory limit: 10.67 GiB\n"
     ]
    },
    {
     "name": "stdout",
     "output_type": "stream",
     "text": [
      "Blob already exists and overwrite is set to False.\n"
     ]
    },
    {
     "name": "stderr",
     "output_type": "stream",
     "text": [
      "2023-08-31 21:47:32,808 - distributed.worker.memory - WARNING - Worker is at 81% memory usage. Pausing worker.  Process memory: 8.67 GiB -- Worker memory limit: 10.67 GiB\n",
      "2023-08-31 21:47:32,931 - distributed.worker.memory - WARNING - Worker is at 61% memory usage. Resuming worker. Process memory: 6.55 GiB -- Worker memory limit: 10.67 GiB\n",
      "2023-08-31 21:47:33,002 - distributed.worker.memory - WARNING - Unmanaged memory use is high. This may indicate a memory leak or the memory may not be released to the OS; see https://distributed.dask.org/en/latest/worker-memory.html#memory-not-released-back-to-the-os for more information. -- Unmanaged memory: 6.85 GiB -- Worker memory limit: 10.67 GiB\n"
     ]
    },
    {
     "name": "stdout",
     "output_type": "stream",
     "text": [
      "Blob already exists and overwrite is set to False.\n",
      "Blob already exists and overwrite is set to False.\n"
     ]
    },
    {
     "name": "stderr",
     "output_type": "stream",
     "text": [
      "2023-08-31 21:47:34,273 - distributed.worker.memory - WARNING - Worker is at 80% memory usage. Pausing worker.  Process memory: 8.61 GiB -- Worker memory limit: 10.67 GiB\n"
     ]
    },
    {
     "name": "stdout",
     "output_type": "stream",
     "text": [
      "Blob already exists and overwrite is set to False.\n"
     ]
    },
    {
     "name": "stderr",
     "output_type": "stream",
     "text": [
      "2023-08-31 21:47:34,483 - distributed.worker.memory - WARNING - Worker is at 71% memory usage. Resuming worker. Process memory: 7.61 GiB -- Worker memory limit: 10.67 GiB\n"
     ]
    },
    {
     "name": "stdout",
     "output_type": "stream",
     "text": [
      "Blob already exists and overwrite is set to False.\n"
     ]
    },
    {
     "name": "stderr",
     "output_type": "stream",
     "text": [
      "2023-08-31 21:47:40,975 - distributed.worker.memory - WARNING - Unmanaged memory use is high. This may indicate a memory leak or the memory may not be released to the OS; see https://distributed.dask.org/en/latest/worker-memory.html#memory-not-released-back-to-the-os for more information. -- Unmanaged memory: 7.82 GiB -- Worker memory limit: 10.67 GiB\n"
     ]
    },
    {
     "name": "stdout",
     "output_type": "stream",
     "text": [
      "Blob already exists and overwrite is set to False.\n"
     ]
    },
    {
     "name": "stderr",
     "output_type": "stream",
     "text": [
      "2023-08-31 21:47:42,370 - distributed.worker.memory - WARNING - Unmanaged memory use is high. This may indicate a memory leak or the memory may not be released to the OS; see https://distributed.dask.org/en/latest/worker-memory.html#memory-not-released-back-to-the-os for more information. -- Unmanaged memory: 6.51 GiB -- Worker memory limit: 10.67 GiB\n",
      "2023-08-31 21:47:43,521 - distributed.worker.memory - WARNING - Unmanaged memory use is high. This may indicate a memory leak or the memory may not be released to the OS; see https://distributed.dask.org/en/latest/worker-memory.html#memory-not-released-back-to-the-os for more information. -- Unmanaged memory: 6.66 GiB -- Worker memory limit: 10.67 GiB\n"
     ]
    },
    {
     "name": "stdout",
     "output_type": "stream",
     "text": [
      "Blob already exists and overwrite is set to False.\n",
      "Blob already exists and overwrite is set to False.\n"
     ]
    },
    {
     "name": "stderr",
     "output_type": "stream",
     "text": [
      "2023-08-31 21:47:44,244 - distributed.worker.memory - WARNING - Unmanaged memory use is high. This may indicate a memory leak or the memory may not be released to the OS; see https://distributed.dask.org/en/latest/worker-memory.html#memory-not-released-back-to-the-os for more information. -- Unmanaged memory: 6.50 GiB -- Worker memory limit: 10.67 GiB\n",
      "2023-08-31 21:47:45,183 - distributed.worker.memory - WARNING - Worker is at 84% memory usage. Pausing worker.  Process memory: 8.97 GiB -- Worker memory limit: 10.67 GiB\n",
      "2023-08-31 21:47:45,274 - distributed.worker.memory - WARNING - Worker is at 61% memory usage. Resuming worker. Process memory: 6.56 GiB -- Worker memory limit: 10.67 GiB\n"
     ]
    },
    {
     "name": "stdout",
     "output_type": "stream",
     "text": [
      "Blob already exists and overwrite is set to False.\n",
      "Blob already exists and overwrite is set to False.\n"
     ]
    },
    {
     "name": "stderr",
     "output_type": "stream",
     "text": [
      "2023-08-31 21:47:47,527 - distributed.worker.memory - WARNING - Unmanaged memory use is high. This may indicate a memory leak or the memory may not be released to the OS; see https://distributed.dask.org/en/latest/worker-memory.html#memory-not-released-back-to-the-os for more information. -- Unmanaged memory: 6.60 GiB -- Worker memory limit: 10.67 GiB\n"
     ]
    },
    {
     "name": "stdout",
     "output_type": "stream",
     "text": [
      "Blob already exists and overwrite is set to False.\n",
      "Blob already exists and overwrite is set to False.\n"
     ]
    },
    {
     "name": "stderr",
     "output_type": "stream",
     "text": [
      "2023-08-31 21:47:49,480 - distributed.worker.memory - WARNING - Unmanaged memory use is high. This may indicate a memory leak or the memory may not be released to the OS; see https://distributed.dask.org/en/latest/worker-memory.html#memory-not-released-back-to-the-os for more information. -- Unmanaged memory: 6.50 GiB -- Worker memory limit: 10.67 GiB\n"
     ]
    },
    {
     "name": "stdout",
     "output_type": "stream",
     "text": [
      "Blob already exists and overwrite is set to False.\n",
      "Blob already exists and overwrite is set to False.\n"
     ]
    },
    {
     "name": "stderr",
     "output_type": "stream",
     "text": [
      "2023-08-31 21:47:51,573 - distributed.worker.memory - WARNING - Unmanaged memory use is high. This may indicate a memory leak or the memory may not be released to the OS; see https://distributed.dask.org/en/latest/worker-memory.html#memory-not-released-back-to-the-os for more information. -- Unmanaged memory: 7.48 GiB -- Worker memory limit: 10.67 GiB\n"
     ]
    },
    {
     "name": "stdout",
     "output_type": "stream",
     "text": [
      "Blob already exists and overwrite is set to False.\n",
      "Blob already exists and overwrite is set to False.\n",
      "Blob already exists and overwrite is set to False.\n",
      "Blob already exists and overwrite is set to False.\n"
     ]
    },
    {
     "name": "stderr",
     "output_type": "stream",
     "text": [
      "2023-08-31 21:47:56,473 - distributed.worker.memory - WARNING - Worker is at 82% memory usage. Pausing worker.  Process memory: 8.83 GiB -- Worker memory limit: 10.67 GiB\n",
      "2023-08-31 21:47:56,572 - distributed.worker.memory - WARNING - Worker is at 56% memory usage. Resuming worker. Process memory: 6.00 GiB -- Worker memory limit: 10.67 GiB\n"
     ]
    },
    {
     "name": "stdout",
     "output_type": "stream",
     "text": [
      "Blob already exists and overwrite is set to False.\n",
      "Blob already exists and overwrite is set to False.\n"
     ]
    },
    {
     "name": "stderr",
     "output_type": "stream",
     "text": [
      "2023-08-31 21:47:59,298 - distributed.worker.memory - WARNING - Unmanaged memory use is high. This may indicate a memory leak or the memory may not be released to the OS; see https://distributed.dask.org/en/latest/worker-memory.html#memory-not-released-back-to-the-os for more information. -- Unmanaged memory: 7.47 GiB -- Worker memory limit: 10.67 GiB\n",
      "2023-08-31 21:48:01,473 - distributed.worker.memory - WARNING - Unmanaged memory use is high. This may indicate a memory leak or the memory may not be released to the OS; see https://distributed.dask.org/en/latest/worker-memory.html#memory-not-released-back-to-the-os for more information. -- Unmanaged memory: 6.62 GiB -- Worker memory limit: 10.67 GiB\n",
      "2023-08-31 21:48:03,473 - distributed.worker.memory - WARNING - Unmanaged memory use is high. This may indicate a memory leak or the memory may not be released to the OS; see https://distributed.dask.org/en/latest/worker-memory.html#memory-not-released-back-to-the-os for more information. -- Unmanaged memory: 7.47 GiB -- Worker memory limit: 10.67 GiB\n",
      "2023-08-31 21:48:03,568 - distributed.worker.memory - WARNING - Unmanaged memory use is high. This may indicate a memory leak or the memory may not be released to the OS; see https://distributed.dask.org/en/latest/worker-memory.html#memory-not-released-back-to-the-os for more information. -- Unmanaged memory: 7.47 GiB -- Worker memory limit: 10.67 GiB\n"
     ]
    },
    {
     "name": "stdout",
     "output_type": "stream",
     "text": [
      "Blob already exists and overwrite is set to False.\n"
     ]
    },
    {
     "name": "stderr",
     "output_type": "stream",
     "text": [
      "2023-08-31 21:48:06,387 - distributed.worker.memory - WARNING - Worker is at 82% memory usage. Pausing worker.  Process memory: 8.78 GiB -- Worker memory limit: 10.67 GiB\n",
      "2023-08-31 21:48:06,641 - distributed.worker.memory - WARNING - Worker is at 58% memory usage. Resuming worker. Process memory: 6.24 GiB -- Worker memory limit: 10.67 GiB\n"
     ]
    },
    {
     "name": "stdout",
     "output_type": "stream",
     "text": [
      "Blob already exists and overwrite is set to False.\n",
      "Blob already exists and overwrite is set to False.\n"
     ]
    },
    {
     "name": "stderr",
     "output_type": "stream",
     "text": [
      "2023-08-31 21:48:08,770 - distributed.worker.memory - WARNING - Unmanaged memory use is high. This may indicate a memory leak or the memory may not be released to the OS; see https://distributed.dask.org/en/latest/worker-memory.html#memory-not-released-back-to-the-os for more information. -- Unmanaged memory: 6.54 GiB -- Worker memory limit: 10.67 GiB\n",
      "2023-08-31 21:48:08,897 - distributed.worker.memory - WARNING - Worker is at 80% memory usage. Pausing worker.  Process memory: 8.56 GiB -- Worker memory limit: 10.67 GiB\n",
      "2023-08-31 21:48:08,997 - distributed.worker.memory - WARNING - Worker is at 70% memory usage. Resuming worker. Process memory: 7.56 GiB -- Worker memory limit: 10.67 GiB\n"
     ]
    },
    {
     "name": "stdout",
     "output_type": "stream",
     "text": [
      "Blob already exists and overwrite is set to False.\n"
     ]
    },
    {
     "name": "stderr",
     "output_type": "stream",
     "text": [
      "2023-08-31 21:48:09,802 - distributed.worker.memory - WARNING - Unmanaged memory use is high. This may indicate a memory leak or the memory may not be released to the OS; see https://distributed.dask.org/en/latest/worker-memory.html#memory-not-released-back-to-the-os for more information. -- Unmanaged memory: 8.02 GiB -- Worker memory limit: 10.67 GiB\n",
      "2023-08-31 21:48:10,109 - distributed.worker.memory - WARNING - Worker is at 80% memory usage. Pausing worker.  Process memory: 8.62 GiB -- Worker memory limit: 10.67 GiB\n",
      "2023-08-31 21:48:10,197 - distributed.worker.memory - WARNING - Worker is at 56% memory usage. Resuming worker. Process memory: 6.00 GiB -- Worker memory limit: 10.67 GiB\n"
     ]
    },
    {
     "name": "stdout",
     "output_type": "stream",
     "text": [
      "Blob already exists and overwrite is set to False.\n"
     ]
    },
    {
     "name": "stderr",
     "output_type": "stream",
     "text": [
      "2023-08-31 21:48:13,685 - distributed.worker.memory - WARNING - Unmanaged memory use is high. This may indicate a memory leak or the memory may not be released to the OS; see https://distributed.dask.org/en/latest/worker-memory.html#memory-not-released-back-to-the-os for more information. -- Unmanaged memory: 7.39 GiB -- Worker memory limit: 10.67 GiB\n",
      "2023-08-31 21:48:13,873 - distributed.worker.memory - WARNING - Unmanaged memory use is high. This may indicate a memory leak or the memory may not be released to the OS; see https://distributed.dask.org/en/latest/worker-memory.html#memory-not-released-back-to-the-os for more information. -- Unmanaged memory: 7.47 GiB -- Worker memory limit: 10.67 GiB\n",
      "2023-08-31 21:48:15,712 - distributed.worker.memory - WARNING - Unmanaged memory use is high. This may indicate a memory leak or the memory may not be released to the OS; see https://distributed.dask.org/en/latest/worker-memory.html#memory-not-released-back-to-the-os for more information. -- Unmanaged memory: 6.50 GiB -- Worker memory limit: 10.67 GiB\n"
     ]
    },
    {
     "name": "stdout",
     "output_type": "stream",
     "text": [
      "Blob already exists and overwrite is set to False.\n",
      "Blob already exists and overwrite is set to False.\n",
      "Blob already exists and overwrite is set to False.\n"
     ]
    },
    {
     "name": "stderr",
     "output_type": "stream",
     "text": [
      "2023-08-31 21:48:21,384 - distributed.worker.memory - WARNING - Worker is at 83% memory usage. Pausing worker.  Process memory: 8.87 GiB -- Worker memory limit: 10.67 GiB\n",
      "2023-08-31 21:48:21,555 - distributed.worker.memory - WARNING - Worker is at 64% memory usage. Resuming worker. Process memory: 6.91 GiB -- Worker memory limit: 10.67 GiB\n",
      "2023-08-31 21:48:22,140 - distributed.worker.memory - WARNING - Unmanaged memory use is high. This may indicate a memory leak or the memory may not be released to the OS; see https://distributed.dask.org/en/latest/worker-memory.html#memory-not-released-back-to-the-os for more information. -- Unmanaged memory: 8.02 GiB -- Worker memory limit: 10.67 GiB\n"
     ]
    },
    {
     "name": "stdout",
     "output_type": "stream",
     "text": [
      "Blob already exists and overwrite is set to False.\n",
      "Blob already exists and overwrite is set to False.\n"
     ]
    },
    {
     "name": "stderr",
     "output_type": "stream",
     "text": [
      "2023-08-31 21:48:24,333 - distributed.worker.memory - WARNING - Worker is at 80% memory usage. Pausing worker.  Process memory: 8.56 GiB -- Worker memory limit: 10.67 GiB\n",
      "2023-08-31 21:48:24,342 - distributed.worker.memory - WARNING - Worker is at 52% memory usage. Resuming worker. Process memory: 5.56 GiB -- Worker memory limit: 10.67 GiB\n"
     ]
    },
    {
     "name": "stdout",
     "output_type": "stream",
     "text": [
      "Blob already exists and overwrite is set to False.\n",
      "Blob already exists and overwrite is set to False.\n",
      "Blob already exists and overwrite is set to False.\n"
     ]
    },
    {
     "name": "stderr",
     "output_type": "stream",
     "text": [
      "2023-08-31 21:48:26,599 - distributed.worker.memory - WARNING - Unmanaged memory use is high. This may indicate a memory leak or the memory may not be released to the OS; see https://distributed.dask.org/en/latest/worker-memory.html#memory-not-released-back-to-the-os for more information. -- Unmanaged memory: 8.21 GiB -- Worker memory limit: 10.67 GiB\n",
      "2023-08-31 21:48:26,815 - distributed.worker.memory - WARNING - Worker is at 84% memory usage. Pausing worker.  Process memory: 8.97 GiB -- Worker memory limit: 10.67 GiB\n",
      "2023-08-31 21:48:26,908 - distributed.worker.memory - WARNING - Worker is at 73% memory usage. Resuming worker. Process memory: 7.84 GiB -- Worker memory limit: 10.67 GiB\n"
     ]
    },
    {
     "name": "stdout",
     "output_type": "stream",
     "text": [
      "Blob already exists and overwrite is set to False.\n",
      "Blob already exists and overwrite is set to False.\n"
     ]
    },
    {
     "name": "stderr",
     "output_type": "stream",
     "text": [
      "2023-08-31 21:48:27,880 - distributed.worker.memory - WARNING - Unmanaged memory use is high. This may indicate a memory leak or the memory may not be released to the OS; see https://distributed.dask.org/en/latest/worker-memory.html#memory-not-released-back-to-the-os for more information. -- Unmanaged memory: 6.48 GiB -- Worker memory limit: 10.67 GiB\n",
      "2023-08-31 21:48:28,100 - distributed.worker.memory - WARNING - Unmanaged memory use is high. This may indicate a memory leak or the memory may not be released to the OS; see https://distributed.dask.org/en/latest/worker-memory.html#memory-not-released-back-to-the-os for more information. -- Unmanaged memory: 6.54 GiB -- Worker memory limit: 10.67 GiB\n"
     ]
    },
    {
     "name": "stdout",
     "output_type": "stream",
     "text": [
      "Blob already exists and overwrite is set to False.\n"
     ]
    },
    {
     "name": "stderr",
     "output_type": "stream",
     "text": [
      "2023-08-31 21:48:28,751 - distributed.worker.memory - WARNING - Unmanaged memory use is high. This may indicate a memory leak or the memory may not be released to the OS; see https://distributed.dask.org/en/latest/worker-memory.html#memory-not-released-back-to-the-os for more information. -- Unmanaged memory: 6.50 GiB -- Worker memory limit: 10.67 GiB\n"
     ]
    },
    {
     "name": "stdout",
     "output_type": "stream",
     "text": [
      "Blob already exists and overwrite is set to False.\n"
     ]
    },
    {
     "name": "stderr",
     "output_type": "stream",
     "text": [
      "2023-08-31 21:48:34,509 - distributed.worker.memory - WARNING - Worker is at 80% memory usage. Pausing worker.  Process memory: 8.54 GiB -- Worker memory limit: 10.67 GiB\n"
     ]
    },
    {
     "name": "stdout",
     "output_type": "stream",
     "text": [
      "Blob already exists and overwrite is set to False.\n"
     ]
    },
    {
     "name": "stderr",
     "output_type": "stream",
     "text": [
      "2023-08-31 21:48:36,112 - distributed.worker.memory - WARNING - Worker is at 71% memory usage. Resuming worker. Process memory: 7.58 GiB -- Worker memory limit: 10.67 GiB\n",
      "2023-08-31 21:48:36,726 - distributed.worker.memory - WARNING - Worker is at 80% memory usage. Pausing worker.  Process memory: 8.61 GiB -- Worker memory limit: 10.67 GiB\n",
      "2023-08-31 21:48:36,866 - distributed.worker.memory - WARNING - Unmanaged memory use is high. This may indicate a memory leak or the memory may not be released to the OS; see https://distributed.dask.org/en/latest/worker-memory.html#memory-not-released-back-to-the-os for more information. -- Unmanaged memory: 8.62 GiB -- Worker memory limit: 10.67 GiB\n",
      "2023-08-31 21:48:37,209 - distributed.worker.memory - WARNING - Worker is at 72% memory usage. Resuming worker. Process memory: 7.79 GiB -- Worker memory limit: 10.67 GiB\n",
      "2023-08-31 21:48:39,077 - distributed.worker.memory - WARNING - Unmanaged memory use is high. This may indicate a memory leak or the memory may not be released to the OS; see https://distributed.dask.org/en/latest/worker-memory.html#memory-not-released-back-to-the-os for more information. -- Unmanaged memory: 7.51 GiB -- Worker memory limit: 10.67 GiB\n",
      "2023-08-31 21:48:39,285 - distributed.worker.memory - WARNING - Unmanaged memory use is high. This may indicate a memory leak or the memory may not be released to the OS; see https://distributed.dask.org/en/latest/worker-memory.html#memory-not-released-back-to-the-os for more information. -- Unmanaged memory: 7.47 GiB -- Worker memory limit: 10.67 GiB\n"
     ]
    },
    {
     "name": "stdout",
     "output_type": "stream",
     "text": [
      "Blob already exists and overwrite is set to False.\n",
      "Blob already exists and overwrite is set to False.\n"
     ]
    },
    {
     "name": "stderr",
     "output_type": "stream",
     "text": [
      "2023-08-31 21:48:41,996 - distributed.worker.memory - WARNING - Unmanaged memory use is high. This may indicate a memory leak or the memory may not be released to the OS; see https://distributed.dask.org/en/latest/worker-memory.html#memory-not-released-back-to-the-os for more information. -- Unmanaged memory: 7.91 GiB -- Worker memory limit: 10.67 GiB\n"
     ]
    },
    {
     "name": "stdout",
     "output_type": "stream",
     "text": [
      "Blob already exists and overwrite is set to False.\n",
      "Blob already exists and overwrite is set to False.\n"
     ]
    },
    {
     "name": "stderr",
     "output_type": "stream",
     "text": [
      "2023-08-31 21:48:46,909 - distributed.worker.memory - WARNING - Unmanaged memory use is high. This may indicate a memory leak or the memory may not be released to the OS; see https://distributed.dask.org/en/latest/worker-memory.html#memory-not-released-back-to-the-os for more information. -- Unmanaged memory: 7.65 GiB -- Worker memory limit: 10.67 GiB\n",
      "2023-08-31 21:48:47,945 - distributed.worker.memory - WARNING - Unmanaged memory use is high. This may indicate a memory leak or the memory may not be released to the OS; see https://distributed.dask.org/en/latest/worker-memory.html#memory-not-released-back-to-the-os for more information. -- Unmanaged memory: 7.07 GiB -- Worker memory limit: 10.67 GiB\n",
      "2023-08-31 21:48:49,447 - distributed.worker - ERROR - failed during get data with tcp://127.0.0.1:52095 -> tcp://127.0.0.1:52002\n",
      "Traceback (most recent call last):\n",
      "  File \"/Users/calkoen/mambaforge/envs/testenv/lib/python3.11/site-packages/tornado/iostream.py\", line 962, in _handle_write\n",
      "    num_bytes = self.write_to_fd(self._write_buffer.peek(size))\n",
      "                ^^^^^^^^^^^^^^^^^^^^^^^^^^^^^^^^^^^^^^^^^^^^^^^\n",
      "  File \"/Users/calkoen/mambaforge/envs/testenv/lib/python3.11/site-packages/tornado/iostream.py\", line 1124, in write_to_fd\n",
      "    return self.socket.send(data)  # type: ignore\n",
      "           ^^^^^^^^^^^^^^^^^^^^^^\n",
      "ConnectionResetError: [Errno 54] Connection reset by peer\n",
      "\n",
      "The above exception was the direct cause of the following exception:\n",
      "\n",
      "Traceback (most recent call last):\n",
      "  File \"/Users/calkoen/mambaforge/envs/testenv/lib/python3.11/site-packages/distributed/worker.py\", line 1780, in get_data\n",
      "    response = await comm.read(deserializers=serializers)\n",
      "               ^^^^^^^^^^^^^^^^^^^^^^^^^^^^^^^^^^^^^^^^^^\n",
      "  File \"/Users/calkoen/mambaforge/envs/testenv/lib/python3.11/site-packages/distributed/comm/tcp.py\", line 241, in read\n",
      "    convert_stream_closed_error(self, e)\n",
      "  File \"/Users/calkoen/mambaforge/envs/testenv/lib/python3.11/site-packages/distributed/comm/tcp.py\", line 142, in convert_stream_closed_error\n",
      "    raise CommClosedError(f\"in {obj}: {exc.__class__.__name__}: {exc}\") from exc\n",
      "distributed.comm.core.CommClosedError: in <TCP (closed)  local=tcp://127.0.0.1:52095 remote=tcp://127.0.0.1:52112>: ConnectionResetError: [Errno 54] Connection reset by peer\n",
      "2023-08-31 21:48:49,446 - distributed.worker - ERROR - Worker stream died during communication: tcp://127.0.0.1:52095\n",
      "Traceback (most recent call last):\n",
      "  File \"/Users/calkoen/mambaforge/envs/testenv/lib/python3.11/site-packages/distributed/worker.py\", line 2053, in gather_dep\n",
      "    response = await get_data_from_worker(\n",
      "               ^^^^^^^^^^^^^^^^^^^^^^^^^^^\n",
      "  File \"/Users/calkoen/mambaforge/envs/testenv/lib/python3.11/site-packages/distributed/worker.py\", line 2902, in get_data_from_worker\n",
      "    response = await send_recv(\n",
      "               ^^^^^^^^^^^^^^^^\n",
      "  File \"/Users/calkoen/mambaforge/envs/testenv/lib/python3.11/site-packages/distributed/core.py\", line 1136, in send_recv\n",
      "    response = await comm.read(deserializers=deserializers)\n",
      "               ^^^^^^^^^^^^^^^^^^^^^^^^^^^^^^^^^^^^^^^^^^^^\n",
      "  File \"/Users/calkoen/mambaforge/envs/testenv/lib/python3.11/site-packages/distributed/comm/tcp.py\", line 235, in read\n",
      "    n = await stream.read_into(chunk)\n",
      "              ^^^^^^^^^^^^^^^^^^^^^^^\n",
      "  File \"/Users/calkoen/mambaforge/envs/testenv/lib/python3.11/site-packages/tornado/iostream.py\", line 467, in read_into\n",
      "    self._try_inline_read()\n",
      "  File \"/Users/calkoen/mambaforge/envs/testenv/lib/python3.11/site-packages/tornado/iostream.py\", line 836, in _try_inline_read\n",
      "    pos = self._read_to_buffer_loop()\n",
      "          ^^^^^^^^^^^^^^^^^^^^^^^^^^^\n",
      "  File \"/Users/calkoen/mambaforge/envs/testenv/lib/python3.11/site-packages/tornado/iostream.py\", line 750, in _read_to_buffer_loop\n",
      "    if self._read_to_buffer() == 0:\n",
      "       ^^^^^^^^^^^^^^^^^^^^^^\n",
      "  File \"/Users/calkoen/mambaforge/envs/testenv/lib/python3.11/site-packages/tornado/iostream.py\", line 861, in _read_to_buffer\n",
      "    bytes_read = self.read_from_fd(buf)\n",
      "                 ^^^^^^^^^^^^^^^^^^^^^^\n",
      "  File \"/Users/calkoen/mambaforge/envs/testenv/lib/python3.11/site-packages/tornado/iostream.py\", line 1116, in read_from_fd\n",
      "    return self.socket.recv_into(buf, len(buf))\n",
      "           ^^^^^^^^^^^^^^^^^^^^^^^^^^^^^^^^^^^^\n",
      "OSError: [Errno 22] Invalid argument\n",
      "2023-08-31 21:48:49,480 - distributed.worker - ERROR - failed during get data with tcp://127.0.0.1:52095 -> tcp://127.0.0.1:52002\n",
      "Traceback (most recent call last):\n",
      "  File \"/Users/calkoen/mambaforge/envs/testenv/lib/python3.11/site-packages/tornado/iostream.py\", line 962, in _handle_write\n",
      "    num_bytes = self.write_to_fd(self._write_buffer.peek(size))\n",
      "                ^^^^^^^^^^^^^^^^^^^^^^^^^^^^^^^^^^^^^^^^^^^^^^^\n",
      "  File \"/Users/calkoen/mambaforge/envs/testenv/lib/python3.11/site-packages/tornado/iostream.py\", line 1124, in write_to_fd\n",
      "    return self.socket.send(data)  # type: ignore\n",
      "           ^^^^^^^^^^^^^^^^^^^^^^\n",
      "BrokenPipeError: [Errno 32] Broken pipe\n",
      "\n",
      "The above exception was the direct cause of the following exception:\n",
      "\n",
      "Traceback (most recent call last):\n",
      "  File \"/Users/calkoen/mambaforge/envs/testenv/lib/python3.11/site-packages/distributed/worker.py\", line 1780, in get_data\n",
      "    response = await comm.read(deserializers=serializers)\n",
      "               ^^^^^^^^^^^^^^^^^^^^^^^^^^^^^^^^^^^^^^^^^^\n",
      "  File \"/Users/calkoen/mambaforge/envs/testenv/lib/python3.11/site-packages/distributed/comm/tcp.py\", line 241, in read\n",
      "    convert_stream_closed_error(self, e)\n",
      "  File \"/Users/calkoen/mambaforge/envs/testenv/lib/python3.11/site-packages/distributed/comm/tcp.py\", line 142, in convert_stream_closed_error\n",
      "    raise CommClosedError(f\"in {obj}: {exc.__class__.__name__}: {exc}\") from exc\n",
      "distributed.comm.core.CommClosedError: in <TCP (closed)  local=tcp://127.0.0.1:52095 remote=tcp://127.0.0.1:52155>: BrokenPipeError: [Errno 32] Broken pipe\n",
      "2023-08-31 21:48:49,480 - distributed.worker - ERROR - Worker stream died during communication: tcp://127.0.0.1:52095\n",
      "Traceback (most recent call last):\n",
      "  File \"/Users/calkoen/mambaforge/envs/testenv/lib/python3.11/site-packages/distributed/worker.py\", line 2053, in gather_dep\n",
      "    response = await get_data_from_worker(\n",
      "               ^^^^^^^^^^^^^^^^^^^^^^^^^^^\n",
      "  File \"/Users/calkoen/mambaforge/envs/testenv/lib/python3.11/site-packages/distributed/worker.py\", line 2902, in get_data_from_worker\n",
      "    response = await send_recv(\n",
      "               ^^^^^^^^^^^^^^^^\n",
      "  File \"/Users/calkoen/mambaforge/envs/testenv/lib/python3.11/site-packages/distributed/core.py\", line 1136, in send_recv\n",
      "    response = await comm.read(deserializers=deserializers)\n",
      "               ^^^^^^^^^^^^^^^^^^^^^^^^^^^^^^^^^^^^^^^^^^^^\n",
      "  File \"/Users/calkoen/mambaforge/envs/testenv/lib/python3.11/site-packages/distributed/comm/tcp.py\", line 235, in read\n",
      "    n = await stream.read_into(chunk)\n",
      "              ^^^^^^^^^^^^^^^^^^^^^^^\n",
      "  File \"/Users/calkoen/mambaforge/envs/testenv/lib/python3.11/site-packages/tornado/iostream.py\", line 467, in read_into\n",
      "    self._try_inline_read()\n",
      "  File \"/Users/calkoen/mambaforge/envs/testenv/lib/python3.11/site-packages/tornado/iostream.py\", line 836, in _try_inline_read\n",
      "    pos = self._read_to_buffer_loop()\n",
      "          ^^^^^^^^^^^^^^^^^^^^^^^^^^^\n",
      "  File \"/Users/calkoen/mambaforge/envs/testenv/lib/python3.11/site-packages/tornado/iostream.py\", line 750, in _read_to_buffer_loop\n",
      "    if self._read_to_buffer() == 0:\n",
      "       ^^^^^^^^^^^^^^^^^^^^^^\n",
      "  File \"/Users/calkoen/mambaforge/envs/testenv/lib/python3.11/site-packages/tornado/iostream.py\", line 861, in _read_to_buffer\n",
      "    bytes_read = self.read_from_fd(buf)\n",
      "                 ^^^^^^^^^^^^^^^^^^^^^^\n",
      "  File \"/Users/calkoen/mambaforge/envs/testenv/lib/python3.11/site-packages/tornado/iostream.py\", line 1116, in read_from_fd\n",
      "    return self.socket.recv_into(buf, len(buf))\n",
      "           ^^^^^^^^^^^^^^^^^^^^^^^^^^^^^^^^^^^^\n",
      "OSError: [Errno 22] Invalid argument\n",
      "2023-08-31 21:48:49,863 - distributed.worker.memory - WARNING - Unmanaged memory use is high. This may indicate a memory leak or the memory may not be released to the OS; see https://distributed.dask.org/en/latest/worker-memory.html#memory-not-released-back-to-the-os for more information. -- Unmanaged memory: 6.84 GiB -- Worker memory limit: 10.67 GiB\n"
     ]
    },
    {
     "name": "stdout",
     "output_type": "stream",
     "text": [
      "Blob already exists and overwrite is set to False.\n"
     ]
    },
    {
     "name": "stderr",
     "output_type": "stream",
     "text": [
      "2023-08-31 21:48:50,262 - distributed.worker - ERROR - Worker stream died during communication: tcp://127.0.0.1:52095\n",
      "Traceback (most recent call last):\n",
      "  File \"/Users/calkoen/mambaforge/envs/testenv/lib/python3.11/site-packages/distributed/worker.py\", line 2053, in gather_dep\n",
      "    response = await get_data_from_worker(\n",
      "               ^^^^^^^^^^^^^^^^^^^^^^^^^^^\n",
      "  File \"/Users/calkoen/mambaforge/envs/testenv/lib/python3.11/site-packages/distributed/worker.py\", line 2902, in get_data_from_worker\n",
      "    response = await send_recv(\n",
      "               ^^^^^^^^^^^^^^^^\n",
      "  File \"/Users/calkoen/mambaforge/envs/testenv/lib/python3.11/site-packages/distributed/core.py\", line 1136, in send_recv\n",
      "    response = await comm.read(deserializers=deserializers)\n",
      "               ^^^^^^^^^^^^^^^^^^^^^^^^^^^^^^^^^^^^^^^^^^^^\n",
      "  File \"/Users/calkoen/mambaforge/envs/testenv/lib/python3.11/site-packages/distributed/comm/tcp.py\", line 235, in read\n",
      "    n = await stream.read_into(chunk)\n",
      "              ^^^^^^^^^^^^^^^^^^^^^^^\n",
      "  File \"/Users/calkoen/mambaforge/envs/testenv/lib/python3.11/site-packages/tornado/iostream.py\", line 467, in read_into\n",
      "    self._try_inline_read()\n",
      "  File \"/Users/calkoen/mambaforge/envs/testenv/lib/python3.11/site-packages/tornado/iostream.py\", line 836, in _try_inline_read\n",
      "    pos = self._read_to_buffer_loop()\n",
      "          ^^^^^^^^^^^^^^^^^^^^^^^^^^^\n",
      "  File \"/Users/calkoen/mambaforge/envs/testenv/lib/python3.11/site-packages/tornado/iostream.py\", line 750, in _read_to_buffer_loop\n",
      "    if self._read_to_buffer() == 0:\n",
      "       ^^^^^^^^^^^^^^^^^^^^^^\n",
      "  File \"/Users/calkoen/mambaforge/envs/testenv/lib/python3.11/site-packages/tornado/iostream.py\", line 861, in _read_to_buffer\n",
      "    bytes_read = self.read_from_fd(buf)\n",
      "                 ^^^^^^^^^^^^^^^^^^^^^^\n",
      "  File \"/Users/calkoen/mambaforge/envs/testenv/lib/python3.11/site-packages/tornado/iostream.py\", line 1116, in read_from_fd\n",
      "    return self.socket.recv_into(buf, len(buf))\n",
      "           ^^^^^^^^^^^^^^^^^^^^^^^^^^^^^^^^^^^^\n",
      "OSError: [Errno 22] Invalid argument\n",
      "2023-08-31 21:48:50,262 - distributed.worker - ERROR - failed during get data with tcp://127.0.0.1:52095 -> tcp://127.0.0.1:52002\n",
      "Traceback (most recent call last):\n",
      "  File \"/Users/calkoen/mambaforge/envs/testenv/lib/python3.11/site-packages/tornado/iostream.py\", line 962, in _handle_write\n",
      "    num_bytes = self.write_to_fd(self._write_buffer.peek(size))\n",
      "                ^^^^^^^^^^^^^^^^^^^^^^^^^^^^^^^^^^^^^^^^^^^^^^^\n",
      "  File \"/Users/calkoen/mambaforge/envs/testenv/lib/python3.11/site-packages/tornado/iostream.py\", line 1124, in write_to_fd\n",
      "    return self.socket.send(data)  # type: ignore\n",
      "           ^^^^^^^^^^^^^^^^^^^^^^\n",
      "ConnectionResetError: [Errno 54] Connection reset by peer\n",
      "\n",
      "The above exception was the direct cause of the following exception:\n",
      "\n",
      "Traceback (most recent call last):\n",
      "  File \"/Users/calkoen/mambaforge/envs/testenv/lib/python3.11/site-packages/distributed/worker.py\", line 1780, in get_data\n",
      "    response = await comm.read(deserializers=serializers)\n",
      "               ^^^^^^^^^^^^^^^^^^^^^^^^^^^^^^^^^^^^^^^^^^\n",
      "  File \"/Users/calkoen/mambaforge/envs/testenv/lib/python3.11/site-packages/distributed/comm/tcp.py\", line 241, in read\n",
      "    convert_stream_closed_error(self, e)\n",
      "  File \"/Users/calkoen/mambaforge/envs/testenv/lib/python3.11/site-packages/distributed/comm/tcp.py\", line 142, in convert_stream_closed_error\n",
      "    raise CommClosedError(f\"in {obj}: {exc.__class__.__name__}: {exc}\") from exc\n",
      "distributed.comm.core.CommClosedError: in <TCP (closed)  local=tcp://127.0.0.1:52095 remote=tcp://127.0.0.1:52156>: ConnectionResetError: [Errno 54] Connection reset by peer\n",
      "2023-08-31 21:48:50,470 - distributed.worker - ERROR - Worker stream died during communication: tcp://127.0.0.1:52095\n",
      "Traceback (most recent call last):\n",
      "  File \"/Users/calkoen/mambaforge/envs/testenv/lib/python3.11/site-packages/distributed/worker.py\", line 2053, in gather_dep\n",
      "    response = await get_data_from_worker(\n",
      "               ^^^^^^^^^^^^^^^^^^^^^^^^^^^\n",
      "  File \"/Users/calkoen/mambaforge/envs/testenv/lib/python3.11/site-packages/distributed/worker.py\", line 2902, in get_data_from_worker\n",
      "    response = await send_recv(\n",
      "               ^^^^^^^^^^^^^^^^\n",
      "  File \"/Users/calkoen/mambaforge/envs/testenv/lib/python3.11/site-packages/distributed/core.py\", line 1136, in send_recv\n",
      "    response = await comm.read(deserializers=deserializers)\n",
      "               ^^^^^^^^^^^^^^^^^^^^^^^^^^^^^^^^^^^^^^^^^^^^\n",
      "  File \"/Users/calkoen/mambaforge/envs/testenv/lib/python3.11/site-packages/distributed/comm/tcp.py\", line 235, in read\n",
      "    n = await stream.read_into(chunk)\n",
      "              ^^^^^^^^^^^^^^^^^^^^^^^\n",
      "  File \"/Users/calkoen/mambaforge/envs/testenv/lib/python3.11/site-packages/tornado/iostream.py\", line 467, in read_into\n",
      "    self._try_inline_read()\n",
      "  File \"/Users/calkoen/mambaforge/envs/testenv/lib/python3.11/site-packages/tornado/iostream.py\", line 836, in _try_inline_read\n",
      "    pos = self._read_to_buffer_loop()\n",
      "          ^^^^^^^^^^^^^^^^^^^^^^^^^^^\n",
      "  File \"/Users/calkoen/mambaforge/envs/testenv/lib/python3.11/site-packages/tornado/iostream.py\", line 750, in _read_to_buffer_loop\n",
      "    if self._read_to_buffer() == 0:\n",
      "       ^^^^^^^^^^^^^^^^^^^^^^\n",
      "  File \"/Users/calkoen/mambaforge/envs/testenv/lib/python3.11/site-packages/tornado/iostream.py\", line 861, in _read_to_buffer\n",
      "    bytes_read = self.read_from_fd(buf)\n",
      "                 ^^^^^^^^^^^^^^^^^^^^^^\n",
      "  File \"/Users/calkoen/mambaforge/envs/testenv/lib/python3.11/site-packages/tornado/iostream.py\", line 1116, in read_from_fd\n",
      "    return self.socket.recv_into(buf, len(buf))\n",
      "           ^^^^^^^^^^^^^^^^^^^^^^^^^^^^^^^^^^^^\n",
      "OSError: [Errno 22] Invalid argument\n",
      "2023-08-31 21:48:50,470 - distributed.worker - ERROR - failed during get data with tcp://127.0.0.1:52095 -> tcp://127.0.0.1:52002\n",
      "Traceback (most recent call last):\n",
      "  File \"/Users/calkoen/mambaforge/envs/testenv/lib/python3.11/site-packages/tornado/iostream.py\", line 962, in _handle_write\n",
      "    num_bytes = self.write_to_fd(self._write_buffer.peek(size))\n",
      "                ^^^^^^^^^^^^^^^^^^^^^^^^^^^^^^^^^^^^^^^^^^^^^^^\n",
      "  File \"/Users/calkoen/mambaforge/envs/testenv/lib/python3.11/site-packages/tornado/iostream.py\", line 1124, in write_to_fd\n",
      "    return self.socket.send(data)  # type: ignore\n",
      "           ^^^^^^^^^^^^^^^^^^^^^^\n",
      "BrokenPipeError: [Errno 32] Broken pipe\n",
      "\n",
      "The above exception was the direct cause of the following exception:\n",
      "\n",
      "Traceback (most recent call last):\n",
      "  File \"/Users/calkoen/mambaforge/envs/testenv/lib/python3.11/site-packages/distributed/worker.py\", line 1780, in get_data\n",
      "    response = await comm.read(deserializers=serializers)\n",
      "               ^^^^^^^^^^^^^^^^^^^^^^^^^^^^^^^^^^^^^^^^^^\n",
      "  File \"/Users/calkoen/mambaforge/envs/testenv/lib/python3.11/site-packages/distributed/comm/tcp.py\", line 241, in read\n",
      "    convert_stream_closed_error(self, e)\n",
      "  File \"/Users/calkoen/mambaforge/envs/testenv/lib/python3.11/site-packages/distributed/comm/tcp.py\", line 142, in convert_stream_closed_error\n",
      "    raise CommClosedError(f\"in {obj}: {exc.__class__.__name__}: {exc}\") from exc\n",
      "distributed.comm.core.CommClosedError: in <TCP (closed)  local=tcp://127.0.0.1:52095 remote=tcp://127.0.0.1:52157>: BrokenPipeError: [Errno 32] Broken pipe\n",
      "2023-08-31 21:48:50,970 - distributed.worker - ERROR - failed during get data with tcp://127.0.0.1:52095 -> tcp://127.0.0.1:52002\n",
      "Traceback (most recent call last):\n",
      "  File \"/Users/calkoen/mambaforge/envs/testenv/lib/python3.11/site-packages/tornado/iostream.py\", line 962, in _handle_write\n",
      "    num_bytes = self.write_to_fd(self._write_buffer.peek(size))\n",
      "                ^^^^^^^^^^^^^^^^^^^^^^^^^^^^^^^^^^^^^^^^^^^^^^^\n",
      "  File \"/Users/calkoen/mambaforge/envs/testenv/lib/python3.11/site-packages/tornado/iostream.py\", line 1124, in write_to_fd\n",
      "    return self.socket.send(data)  # type: ignore\n",
      "           ^^^^^^^^^^^^^^^^^^^^^^\n",
      "ConnectionResetError: [Errno 54] Connection reset by peer\n",
      "\n",
      "The above exception was the direct cause of the following exception:\n",
      "\n",
      "Traceback (most recent call last):\n",
      "  File \"/Users/calkoen/mambaforge/envs/testenv/lib/python3.11/site-packages/distributed/worker.py\", line 1780, in get_data\n",
      "    response = await comm.read(deserializers=serializers)\n",
      "               ^^^^^^^^^^^^^^^^^^^^^^^^^^^^^^^^^^^^^^^^^^\n",
      "  File \"/Users/calkoen/mambaforge/envs/testenv/lib/python3.11/site-packages/distributed/comm/tcp.py\", line 241, in read\n",
      "    convert_stream_closed_error(self, e)\n",
      "  File \"/Users/calkoen/mambaforge/envs/testenv/lib/python3.11/site-packages/distributed/comm/tcp.py\", line 142, in convert_stream_closed_error\n",
      "    raise CommClosedError(f\"in {obj}: {exc.__class__.__name__}: {exc}\") from exc\n",
      "distributed.comm.core.CommClosedError: in <TCP (closed)  local=tcp://127.0.0.1:52095 remote=tcp://127.0.0.1:52158>: ConnectionResetError: [Errno 54] Connection reset by peer\n",
      "2023-08-31 21:48:50,970 - distributed.worker - ERROR - Worker stream died during communication: tcp://127.0.0.1:52095\n",
      "Traceback (most recent call last):\n",
      "  File \"/Users/calkoen/mambaforge/envs/testenv/lib/python3.11/site-packages/distributed/worker.py\", line 2053, in gather_dep\n",
      "    response = await get_data_from_worker(\n",
      "               ^^^^^^^^^^^^^^^^^^^^^^^^^^^\n",
      "  File \"/Users/calkoen/mambaforge/envs/testenv/lib/python3.11/site-packages/distributed/worker.py\", line 2902, in get_data_from_worker\n",
      "    response = await send_recv(\n",
      "               ^^^^^^^^^^^^^^^^\n",
      "  File \"/Users/calkoen/mambaforge/envs/testenv/lib/python3.11/site-packages/distributed/core.py\", line 1136, in send_recv\n",
      "    response = await comm.read(deserializers=deserializers)\n",
      "               ^^^^^^^^^^^^^^^^^^^^^^^^^^^^^^^^^^^^^^^^^^^^\n",
      "  File \"/Users/calkoen/mambaforge/envs/testenv/lib/python3.11/site-packages/distributed/comm/tcp.py\", line 235, in read\n",
      "    n = await stream.read_into(chunk)\n",
      "              ^^^^^^^^^^^^^^^^^^^^^^^\n",
      "  File \"/Users/calkoen/mambaforge/envs/testenv/lib/python3.11/site-packages/tornado/iostream.py\", line 467, in read_into\n",
      "    self._try_inline_read()\n",
      "  File \"/Users/calkoen/mambaforge/envs/testenv/lib/python3.11/site-packages/tornado/iostream.py\", line 836, in _try_inline_read\n",
      "    pos = self._read_to_buffer_loop()\n",
      "          ^^^^^^^^^^^^^^^^^^^^^^^^^^^\n",
      "  File \"/Users/calkoen/mambaforge/envs/testenv/lib/python3.11/site-packages/tornado/iostream.py\", line 750, in _read_to_buffer_loop\n",
      "    if self._read_to_buffer() == 0:\n",
      "       ^^^^^^^^^^^^^^^^^^^^^^\n",
      "  File \"/Users/calkoen/mambaforge/envs/testenv/lib/python3.11/site-packages/tornado/iostream.py\", line 861, in _read_to_buffer\n",
      "    bytes_read = self.read_from_fd(buf)\n",
      "                 ^^^^^^^^^^^^^^^^^^^^^^\n",
      "  File \"/Users/calkoen/mambaforge/envs/testenv/lib/python3.11/site-packages/tornado/iostream.py\", line 1116, in read_from_fd\n",
      "    return self.socket.recv_into(buf, len(buf))\n",
      "           ^^^^^^^^^^^^^^^^^^^^^^^^^^^^^^^^^^^^\n",
      "OSError: [Errno 22] Invalid argument\n",
      "2023-08-31 21:48:51,470 - distributed.worker - ERROR - Worker stream died during communication: tcp://127.0.0.1:52095\n",
      "Traceback (most recent call last):\n",
      "  File \"/Users/calkoen/mambaforge/envs/testenv/lib/python3.11/site-packages/distributed/worker.py\", line 2053, in gather_dep\n",
      "    response = await get_data_from_worker(\n",
      "               ^^^^^^^^^^^^^^^^^^^^^^^^^^^\n",
      "  File \"/Users/calkoen/mambaforge/envs/testenv/lib/python3.11/site-packages/distributed/worker.py\", line 2902, in get_data_from_worker\n",
      "    response = await send_recv(\n",
      "               ^^^^^^^^^^^^^^^^\n",
      "  File \"/Users/calkoen/mambaforge/envs/testenv/lib/python3.11/site-packages/distributed/core.py\", line 1136, in send_recv\n",
      "    response = await comm.read(deserializers=deserializers)\n",
      "               ^^^^^^^^^^^^^^^^^^^^^^^^^^^^^^^^^^^^^^^^^^^^\n",
      "  File \"/Users/calkoen/mambaforge/envs/testenv/lib/python3.11/site-packages/distributed/comm/tcp.py\", line 235, in read\n",
      "    n = await stream.read_into(chunk)\n",
      "              ^^^^^^^^^^^^^^^^^^^^^^^\n",
      "  File \"/Users/calkoen/mambaforge/envs/testenv/lib/python3.11/site-packages/tornado/iostream.py\", line 467, in read_into\n",
      "    self._try_inline_read()\n",
      "  File \"/Users/calkoen/mambaforge/envs/testenv/lib/python3.11/site-packages/tornado/iostream.py\", line 836, in _try_inline_read\n",
      "    pos = self._read_to_buffer_loop()\n",
      "          ^^^^^^^^^^^^^^^^^^^^^^^^^^^\n",
      "  File \"/Users/calkoen/mambaforge/envs/testenv/lib/python3.11/site-packages/tornado/iostream.py\", line 750, in _read_to_buffer_loop\n",
      "    if self._read_to_buffer() == 0:\n",
      "       ^^^^^^^^^^^^^^^^^^^^^^\n",
      "  File \"/Users/calkoen/mambaforge/envs/testenv/lib/python3.11/site-packages/tornado/iostream.py\", line 861, in _read_to_buffer\n",
      "    bytes_read = self.read_from_fd(buf)\n",
      "                 ^^^^^^^^^^^^^^^^^^^^^^\n",
      "  File \"/Users/calkoen/mambaforge/envs/testenv/lib/python3.11/site-packages/tornado/iostream.py\", line 1116, in read_from_fd\n",
      "    return self.socket.recv_into(buf, len(buf))\n",
      "           ^^^^^^^^^^^^^^^^^^^^^^^^^^^^^^^^^^^^\n",
      "OSError: [Errno 22] Invalid argument\n",
      "2023-08-31 21:48:51,471 - distributed.worker - ERROR - failed during get data with tcp://127.0.0.1:52095 -> tcp://127.0.0.1:52002\n",
      "Traceback (most recent call last):\n",
      "  File \"/Users/calkoen/mambaforge/envs/testenv/lib/python3.11/site-packages/tornado/iostream.py\", line 962, in _handle_write\n",
      "    num_bytes = self.write_to_fd(self._write_buffer.peek(size))\n",
      "                ^^^^^^^^^^^^^^^^^^^^^^^^^^^^^^^^^^^^^^^^^^^^^^^\n",
      "  File \"/Users/calkoen/mambaforge/envs/testenv/lib/python3.11/site-packages/tornado/iostream.py\", line 1124, in write_to_fd\n",
      "    return self.socket.send(data)  # type: ignore\n",
      "           ^^^^^^^^^^^^^^^^^^^^^^\n",
      "BrokenPipeError: [Errno 32] Broken pipe\n",
      "\n",
      "The above exception was the direct cause of the following exception:\n",
      "\n",
      "Traceback (most recent call last):\n",
      "  File \"/Users/calkoen/mambaforge/envs/testenv/lib/python3.11/site-packages/distributed/worker.py\", line 1780, in get_data\n",
      "    response = await comm.read(deserializers=serializers)\n",
      "               ^^^^^^^^^^^^^^^^^^^^^^^^^^^^^^^^^^^^^^^^^^\n",
      "  File \"/Users/calkoen/mambaforge/envs/testenv/lib/python3.11/site-packages/distributed/comm/tcp.py\", line 241, in read\n",
      "    convert_stream_closed_error(self, e)\n",
      "  File \"/Users/calkoen/mambaforge/envs/testenv/lib/python3.11/site-packages/distributed/comm/tcp.py\", line 142, in convert_stream_closed_error\n",
      "    raise CommClosedError(f\"in {obj}: {exc.__class__.__name__}: {exc}\") from exc\n",
      "distributed.comm.core.CommClosedError: in <TCP (closed)  local=tcp://127.0.0.1:52095 remote=tcp://127.0.0.1:52159>: BrokenPipeError: [Errno 32] Broken pipe\n",
      "2023-08-31 21:48:51,971 - distributed.worker - ERROR - Worker stream died during communication: tcp://127.0.0.1:52095\n",
      "Traceback (most recent call last):\n",
      "  File \"/Users/calkoen/mambaforge/envs/testenv/lib/python3.11/site-packages/distributed/worker.py\", line 2053, in gather_dep\n",
      "    response = await get_data_from_worker(\n",
      "               ^^^^^^^^^^^^^^^^^^^^^^^^^^^\n",
      "  File \"/Users/calkoen/mambaforge/envs/testenv/lib/python3.11/site-packages/distributed/worker.py\", line 2902, in get_data_from_worker\n",
      "    response = await send_recv(\n",
      "               ^^^^^^^^^^^^^^^^\n",
      "  File \"/Users/calkoen/mambaforge/envs/testenv/lib/python3.11/site-packages/distributed/core.py\", line 1136, in send_recv\n",
      "    response = await comm.read(deserializers=deserializers)\n",
      "               ^^^^^^^^^^^^^^^^^^^^^^^^^^^^^^^^^^^^^^^^^^^^\n",
      "  File \"/Users/calkoen/mambaforge/envs/testenv/lib/python3.11/site-packages/distributed/comm/tcp.py\", line 235, in read\n",
      "    n = await stream.read_into(chunk)\n",
      "              ^^^^^^^^^^^^^^^^^^^^^^^\n",
      "  File \"/Users/calkoen/mambaforge/envs/testenv/lib/python3.11/site-packages/tornado/iostream.py\", line 467, in read_into\n",
      "    self._try_inline_read()\n",
      "  File \"/Users/calkoen/mambaforge/envs/testenv/lib/python3.11/site-packages/tornado/iostream.py\", line 836, in _try_inline_read\n",
      "    pos = self._read_to_buffer_loop()\n",
      "          ^^^^^^^^^^^^^^^^^^^^^^^^^^^\n",
      "  File \"/Users/calkoen/mambaforge/envs/testenv/lib/python3.11/site-packages/tornado/iostream.py\", line 750, in _read_to_buffer_loop\n",
      "    if self._read_to_buffer() == 0:\n",
      "       ^^^^^^^^^^^^^^^^^^^^^^\n",
      "  File \"/Users/calkoen/mambaforge/envs/testenv/lib/python3.11/site-packages/tornado/iostream.py\", line 861, in _read_to_buffer\n",
      "    bytes_read = self.read_from_fd(buf)\n",
      "                 ^^^^^^^^^^^^^^^^^^^^^^\n",
      "  File \"/Users/calkoen/mambaforge/envs/testenv/lib/python3.11/site-packages/tornado/iostream.py\", line 1116, in read_from_fd\n",
      "    return self.socket.recv_into(buf, len(buf))\n",
      "           ^^^^^^^^^^^^^^^^^^^^^^^^^^^^^^^^^^^^\n",
      "OSError: [Errno 22] Invalid argument\n",
      "2023-08-31 21:48:51,971 - distributed.worker - ERROR - failed during get data with tcp://127.0.0.1:52095 -> tcp://127.0.0.1:52002\n",
      "Traceback (most recent call last):\n",
      "  File \"/Users/calkoen/mambaforge/envs/testenv/lib/python3.11/site-packages/tornado/iostream.py\", line 962, in _handle_write\n",
      "    num_bytes = self.write_to_fd(self._write_buffer.peek(size))\n",
      "                ^^^^^^^^^^^^^^^^^^^^^^^^^^^^^^^^^^^^^^^^^^^^^^^\n",
      "  File \"/Users/calkoen/mambaforge/envs/testenv/lib/python3.11/site-packages/tornado/iostream.py\", line 1124, in write_to_fd\n",
      "    return self.socket.send(data)  # type: ignore\n",
      "           ^^^^^^^^^^^^^^^^^^^^^^\n",
      "BrokenPipeError: [Errno 32] Broken pipe\n",
      "\n",
      "The above exception was the direct cause of the following exception:\n",
      "\n",
      "Traceback (most recent call last):\n",
      "  File \"/Users/calkoen/mambaforge/envs/testenv/lib/python3.11/site-packages/distributed/worker.py\", line 1780, in get_data\n",
      "    response = await comm.read(deserializers=serializers)\n",
      "               ^^^^^^^^^^^^^^^^^^^^^^^^^^^^^^^^^^^^^^^^^^\n",
      "  File \"/Users/calkoen/mambaforge/envs/testenv/lib/python3.11/site-packages/distributed/comm/tcp.py\", line 241, in read\n",
      "    convert_stream_closed_error(self, e)\n",
      "  File \"/Users/calkoen/mambaforge/envs/testenv/lib/python3.11/site-packages/distributed/comm/tcp.py\", line 142, in convert_stream_closed_error\n",
      "    raise CommClosedError(f\"in {obj}: {exc.__class__.__name__}: {exc}\") from exc\n",
      "distributed.comm.core.CommClosedError: in <TCP (closed)  local=tcp://127.0.0.1:52095 remote=tcp://127.0.0.1:52160>: BrokenPipeError: [Errno 32] Broken pipe\n",
      "2023-08-31 21:48:52,470 - distributed.worker - ERROR - Worker stream died during communication: tcp://127.0.0.1:52095\n",
      "Traceback (most recent call last):\n",
      "  File \"/Users/calkoen/mambaforge/envs/testenv/lib/python3.11/site-packages/distributed/worker.py\", line 2053, in gather_dep\n",
      "    response = await get_data_from_worker(\n",
      "               ^^^^^^^^^^^^^^^^^^^^^^^^^^^\n",
      "  File \"/Users/calkoen/mambaforge/envs/testenv/lib/python3.11/site-packages/distributed/worker.py\", line 2902, in get_data_from_worker\n",
      "    response = await send_recv(\n",
      "               ^^^^^^^^^^^^^^^^\n",
      "  File \"/Users/calkoen/mambaforge/envs/testenv/lib/python3.11/site-packages/distributed/core.py\", line 1136, in send_recv\n",
      "    response = await comm.read(deserializers=deserializers)\n",
      "               ^^^^^^^^^^^^^^^^^^^^^^^^^^^^^^^^^^^^^^^^^^^^\n",
      "  File \"/Users/calkoen/mambaforge/envs/testenv/lib/python3.11/site-packages/distributed/comm/tcp.py\", line 235, in read\n",
      "    n = await stream.read_into(chunk)\n",
      "              ^^^^^^^^^^^^^^^^^^^^^^^\n",
      "  File \"/Users/calkoen/mambaforge/envs/testenv/lib/python3.11/site-packages/tornado/iostream.py\", line 467, in read_into\n",
      "    self._try_inline_read()\n",
      "  File \"/Users/calkoen/mambaforge/envs/testenv/lib/python3.11/site-packages/tornado/iostream.py\", line 836, in _try_inline_read\n",
      "    pos = self._read_to_buffer_loop()\n",
      "          ^^^^^^^^^^^^^^^^^^^^^^^^^^^\n",
      "  File \"/Users/calkoen/mambaforge/envs/testenv/lib/python3.11/site-packages/tornado/iostream.py\", line 750, in _read_to_buffer_loop\n",
      "    if self._read_to_buffer() == 0:\n",
      "       ^^^^^^^^^^^^^^^^^^^^^^\n",
      "  File \"/Users/calkoen/mambaforge/envs/testenv/lib/python3.11/site-packages/tornado/iostream.py\", line 861, in _read_to_buffer\n",
      "    bytes_read = self.read_from_fd(buf)\n",
      "                 ^^^^^^^^^^^^^^^^^^^^^^\n",
      "  File \"/Users/calkoen/mambaforge/envs/testenv/lib/python3.11/site-packages/tornado/iostream.py\", line 1116, in read_from_fd\n",
      "    return self.socket.recv_into(buf, len(buf))\n",
      "           ^^^^^^^^^^^^^^^^^^^^^^^^^^^^^^^^^^^^\n",
      "OSError: [Errno 22] Invalid argument\n",
      "2023-08-31 21:48:52,470 - distributed.worker - ERROR - failed during get data with tcp://127.0.0.1:52095 -> tcp://127.0.0.1:52002\n",
      "Traceback (most recent call last):\n",
      "  File \"/Users/calkoen/mambaforge/envs/testenv/lib/python3.11/site-packages/tornado/iostream.py\", line 962, in _handle_write\n",
      "    num_bytes = self.write_to_fd(self._write_buffer.peek(size))\n",
      "                ^^^^^^^^^^^^^^^^^^^^^^^^^^^^^^^^^^^^^^^^^^^^^^^\n",
      "  File \"/Users/calkoen/mambaforge/envs/testenv/lib/python3.11/site-packages/tornado/iostream.py\", line 1124, in write_to_fd\n",
      "    return self.socket.send(data)  # type: ignore\n",
      "           ^^^^^^^^^^^^^^^^^^^^^^\n",
      "BrokenPipeError: [Errno 32] Broken pipe\n",
      "\n",
      "The above exception was the direct cause of the following exception:\n",
      "\n",
      "Traceback (most recent call last):\n",
      "  File \"/Users/calkoen/mambaforge/envs/testenv/lib/python3.11/site-packages/distributed/worker.py\", line 1780, in get_data\n",
      "    response = await comm.read(deserializers=serializers)\n",
      "               ^^^^^^^^^^^^^^^^^^^^^^^^^^^^^^^^^^^^^^^^^^\n",
      "  File \"/Users/calkoen/mambaforge/envs/testenv/lib/python3.11/site-packages/distributed/comm/tcp.py\", line 241, in read\n",
      "    convert_stream_closed_error(self, e)\n",
      "  File \"/Users/calkoen/mambaforge/envs/testenv/lib/python3.11/site-packages/distributed/comm/tcp.py\", line 142, in convert_stream_closed_error\n",
      "    raise CommClosedError(f\"in {obj}: {exc.__class__.__name__}: {exc}\") from exc\n",
      "distributed.comm.core.CommClosedError: in <TCP (closed)  local=tcp://127.0.0.1:52095 remote=tcp://127.0.0.1:52161>: BrokenPipeError: [Errno 32] Broken pipe\n"
     ]
    },
    {
     "name": "stdout",
     "output_type": "stream",
     "text": [
      "Blob already exists and overwrite is set to False.\n"
     ]
    },
    {
     "name": "stderr",
     "output_type": "stream",
     "text": [
      "2023-08-31 21:48:54,393 - distributed.worker.memory - WARNING - Worker is at 82% memory usage. Pausing worker.  Process memory: 8.81 GiB -- Worker memory limit: 10.67 GiB\n",
      "2023-08-31 21:48:54,611 - distributed.worker.memory - WARNING - Worker is at 56% memory usage. Resuming worker. Process memory: 6.00 GiB -- Worker memory limit: 10.67 GiB\n",
      "2023-08-31 21:48:54,950 - distributed.worker.memory - WARNING - Unmanaged memory use is high. This may indicate a memory leak or the memory may not be released to the OS; see https://distributed.dask.org/en/latest/worker-memory.html#memory-not-released-back-to-the-os for more information. -- Unmanaged memory: 7.14 GiB -- Worker memory limit: 10.67 GiB\n",
      "2023-08-31 21:48:55,238 - distributed.worker.memory - WARNING - Unmanaged memory use is high. This may indicate a memory leak or the memory may not be released to the OS; see https://distributed.dask.org/en/latest/worker-memory.html#memory-not-released-back-to-the-os for more information. -- Unmanaged memory: 6.58 GiB -- Worker memory limit: 10.67 GiB\n"
     ]
    },
    {
     "name": "stdout",
     "output_type": "stream",
     "text": [
      "Blob already exists and overwrite is set to False.\n"
     ]
    },
    {
     "name": "stderr",
     "output_type": "stream",
     "text": [
      "2023-08-31 21:48:56,688 - distributed.worker.memory - WARNING - Worker is at 80% memory usage. Pausing worker.  Process memory: 8.54 GiB -- Worker memory limit: 10.67 GiB\n",
      "2023-08-31 21:48:56,984 - distributed.worker.memory - WARNING - Worker is at 77% memory usage. Resuming worker. Process memory: 8.28 GiB -- Worker memory limit: 10.67 GiB\n",
      "2023-08-31 21:48:57,659 - distributed.worker.memory - WARNING - Worker is at 83% memory usage. Pausing worker.  Process memory: 8.87 GiB -- Worker memory limit: 10.67 GiB\n",
      "2023-08-31 21:48:57,764 - distributed.worker.memory - WARNING - Worker is at 66% memory usage. Resuming worker. Process memory: 7.14 GiB -- Worker memory limit: 10.67 GiB\n"
     ]
    },
    {
     "name": "stdout",
     "output_type": "stream",
     "text": [
      "Blob already exists and overwrite is set to False.\n",
      "Blob already exists and overwrite is set to False.\n",
      "Blob already exists and overwrite is set to False.\n"
     ]
    },
    {
     "name": "stderr",
     "output_type": "stream",
     "text": [
      "2023-08-31 21:49:01,008 - distributed.worker - ERROR - failed during get data with tcp://127.0.0.1:52002 -> tcp://127.0.0.1:52027\n",
      "Traceback (most recent call last):\n",
      "  File \"/Users/calkoen/mambaforge/envs/testenv/lib/python3.11/site-packages/tornado/iostream.py\", line 962, in _handle_write\n",
      "    num_bytes = self.write_to_fd(self._write_buffer.peek(size))\n",
      "                ^^^^^^^^^^^^^^^^^^^^^^^^^^^^^^^^^^^^^^^^^^^^^^^\n",
      "  File \"/Users/calkoen/mambaforge/envs/testenv/lib/python3.11/site-packages/tornado/iostream.py\", line 1124, in write_to_fd\n",
      "    return self.socket.send(data)  # type: ignore\n",
      "           ^^^^^^^^^^^^^^^^^^^^^^\n",
      "ConnectionResetError: [Errno 54] Connection reset by peer\n",
      "\n",
      "The above exception was the direct cause of the following exception:\n",
      "\n",
      "Traceback (most recent call last):\n",
      "  File \"/Users/calkoen/mambaforge/envs/testenv/lib/python3.11/site-packages/distributed/worker.py\", line 1780, in get_data\n",
      "    response = await comm.read(deserializers=serializers)\n",
      "               ^^^^^^^^^^^^^^^^^^^^^^^^^^^^^^^^^^^^^^^^^^\n",
      "  File \"/Users/calkoen/mambaforge/envs/testenv/lib/python3.11/site-packages/distributed/comm/tcp.py\", line 241, in read\n",
      "    convert_stream_closed_error(self, e)\n",
      "  File \"/Users/calkoen/mambaforge/envs/testenv/lib/python3.11/site-packages/distributed/comm/tcp.py\", line 142, in convert_stream_closed_error\n",
      "    raise CommClosedError(f\"in {obj}: {exc.__class__.__name__}: {exc}\") from exc\n",
      "distributed.comm.core.CommClosedError: in <TCP (closed)  local=tcp://127.0.0.1:52002 remote=tcp://127.0.0.1:52047>: ConnectionResetError: [Errno 54] Connection reset by peer\n",
      "2023-08-31 21:49:01,008 - distributed.worker - ERROR - Worker stream died during communication: tcp://127.0.0.1:52002\n",
      "Traceback (most recent call last):\n",
      "  File \"/Users/calkoen/mambaforge/envs/testenv/lib/python3.11/site-packages/distributed/worker.py\", line 2053, in gather_dep\n",
      "    response = await get_data_from_worker(\n",
      "               ^^^^^^^^^^^^^^^^^^^^^^^^^^^\n",
      "  File \"/Users/calkoen/mambaforge/envs/testenv/lib/python3.11/site-packages/distributed/worker.py\", line 2902, in get_data_from_worker\n",
      "    response = await send_recv(\n",
      "               ^^^^^^^^^^^^^^^^\n",
      "  File \"/Users/calkoen/mambaforge/envs/testenv/lib/python3.11/site-packages/distributed/core.py\", line 1136, in send_recv\n",
      "    response = await comm.read(deserializers=deserializers)\n",
      "               ^^^^^^^^^^^^^^^^^^^^^^^^^^^^^^^^^^^^^^^^^^^^\n",
      "  File \"/Users/calkoen/mambaforge/envs/testenv/lib/python3.11/site-packages/distributed/comm/tcp.py\", line 235, in read\n",
      "    n = await stream.read_into(chunk)\n",
      "              ^^^^^^^^^^^^^^^^^^^^^^^\n",
      "  File \"/Users/calkoen/mambaforge/envs/testenv/lib/python3.11/site-packages/tornado/iostream.py\", line 467, in read_into\n",
      "    self._try_inline_read()\n",
      "  File \"/Users/calkoen/mambaforge/envs/testenv/lib/python3.11/site-packages/tornado/iostream.py\", line 836, in _try_inline_read\n",
      "    pos = self._read_to_buffer_loop()\n",
      "          ^^^^^^^^^^^^^^^^^^^^^^^^^^^\n",
      "  File \"/Users/calkoen/mambaforge/envs/testenv/lib/python3.11/site-packages/tornado/iostream.py\", line 750, in _read_to_buffer_loop\n",
      "    if self._read_to_buffer() == 0:\n",
      "       ^^^^^^^^^^^^^^^^^^^^^^\n",
      "  File \"/Users/calkoen/mambaforge/envs/testenv/lib/python3.11/site-packages/tornado/iostream.py\", line 861, in _read_to_buffer\n",
      "    bytes_read = self.read_from_fd(buf)\n",
      "                 ^^^^^^^^^^^^^^^^^^^^^^\n",
      "  File \"/Users/calkoen/mambaforge/envs/testenv/lib/python3.11/site-packages/tornado/iostream.py\", line 1116, in read_from_fd\n",
      "    return self.socket.recv_into(buf, len(buf))\n",
      "           ^^^^^^^^^^^^^^^^^^^^^^^^^^^^^^^^^^^^\n",
      "OSError: [Errno 22] Invalid argument\n",
      "2023-08-31 21:49:02,012 - distributed.worker.memory - WARNING - Worker is at 80% memory usage. Pausing worker.  Process memory: 8.60 GiB -- Worker memory limit: 10.67 GiB\n",
      "2023-08-31 21:49:02,273 - distributed.worker.memory - WARNING - Worker is at 70% memory usage. Resuming worker. Process memory: 7.51 GiB -- Worker memory limit: 10.67 GiB\n",
      "2023-08-31 21:49:02,753 - distributed.worker.memory - WARNING - Unmanaged memory use is high. This may indicate a memory leak or the memory may not be released to the OS; see https://distributed.dask.org/en/latest/worker-memory.html#memory-not-released-back-to-the-os for more information. -- Unmanaged memory: 7.57 GiB -- Worker memory limit: 10.67 GiB\n"
     ]
    },
    {
     "name": "stdout",
     "output_type": "stream",
     "text": [
      "Blob already exists and overwrite is set to False.\n"
     ]
    },
    {
     "name": "stderr",
     "output_type": "stream",
     "text": [
      "2023-08-31 21:49:03,861 - distributed.worker.memory - WARNING - Unmanaged memory use is high. This may indicate a memory leak or the memory may not be released to the OS; see https://distributed.dask.org/en/latest/worker-memory.html#memory-not-released-back-to-the-os for more information. -- Unmanaged memory: 7.16 GiB -- Worker memory limit: 10.67 GiB\n",
      "2023-08-31 21:49:04,875 - distributed.nanny.memory - WARNING - Worker tcp://127.0.0.1:52002 (pid=49593) exceeded 95% memory budget. Restarting...\n",
      "2023-08-31 21:49:05,059 - distributed.worker - ERROR - Worker stream died during communication: tcp://127.0.0.1:52002\n",
      "Traceback (most recent call last):\n",
      "  File \"/Users/calkoen/mambaforge/envs/testenv/lib/python3.11/site-packages/distributed/comm/tcp.py\", line 225, in read\n",
      "    frames_nbytes = await stream.read_bytes(fmt_size)\n",
      "                    ^^^^^^^^^^^^^^^^^^^^^^^^^^^^^^^^^\n",
      "tornado.iostream.StreamClosedError: Stream is closed\n",
      "\n",
      "The above exception was the direct cause of the following exception:\n",
      "\n",
      "Traceback (most recent call last):\n",
      "  File \"/Users/calkoen/mambaforge/envs/testenv/lib/python3.11/site-packages/distributed/worker.py\", line 2053, in gather_dep\n",
      "    response = await get_data_from_worker(\n",
      "               ^^^^^^^^^^^^^^^^^^^^^^^^^^^\n",
      "  File \"/Users/calkoen/mambaforge/envs/testenv/lib/python3.11/site-packages/distributed/worker.py\", line 2902, in get_data_from_worker\n",
      "    response = await send_recv(\n",
      "               ^^^^^^^^^^^^^^^^\n",
      "  File \"/Users/calkoen/mambaforge/envs/testenv/lib/python3.11/site-packages/distributed/core.py\", line 1136, in send_recv\n",
      "    response = await comm.read(deserializers=deserializers)\n",
      "               ^^^^^^^^^^^^^^^^^^^^^^^^^^^^^^^^^^^^^^^^^^^^\n",
      "  File \"/Users/calkoen/mambaforge/envs/testenv/lib/python3.11/site-packages/distributed/comm/tcp.py\", line 241, in read\n",
      "    convert_stream_closed_error(self, e)\n",
      "  File \"/Users/calkoen/mambaforge/envs/testenv/lib/python3.11/site-packages/distributed/comm/tcp.py\", line 144, in convert_stream_closed_error\n",
      "    raise CommClosedError(f\"in {obj}: {exc}\") from exc\n",
      "distributed.comm.core.CommClosedError: in <TCP (closed) Ephemeral Worker->Worker for gather local=tcp://127.0.0.1:52094 remote=tcp://127.0.0.1:52002>: Stream is closed\n",
      "2023-08-31 21:49:05,060 - distributed.worker - ERROR - Worker stream died during communication: tcp://127.0.0.1:52002\n",
      "Traceback (most recent call last):\n",
      "  File \"/Users/calkoen/mambaforge/envs/testenv/lib/python3.11/site-packages/distributed/comm/tcp.py\", line 235, in read\n",
      "    n = await stream.read_into(chunk)\n",
      "        ^^^^^^^^^^^^^^^^^^^^^^^^^^^^^\n",
      "tornado.iostream.StreamClosedError: Stream is closed\n",
      "\n",
      "The above exception was the direct cause of the following exception:\n",
      "\n",
      "Traceback (most recent call last):\n",
      "  File \"/Users/calkoen/mambaforge/envs/testenv/lib/python3.11/site-packages/distributed/worker.py\", line 2053, in gather_dep\n",
      "    response = await get_data_from_worker(\n",
      "               ^^^^^^^^^^^^^^^^^^^^^^^^^^^\n",
      "  File \"/Users/calkoen/mambaforge/envs/testenv/lib/python3.11/site-packages/distributed/worker.py\", line 2902, in get_data_from_worker\n",
      "    response = await send_recv(\n",
      "               ^^^^^^^^^^^^^^^^\n",
      "  File \"/Users/calkoen/mambaforge/envs/testenv/lib/python3.11/site-packages/distributed/core.py\", line 1136, in send_recv\n",
      "    response = await comm.read(deserializers=deserializers)\n",
      "               ^^^^^^^^^^^^^^^^^^^^^^^^^^^^^^^^^^^^^^^^^^^^\n",
      "  File \"/Users/calkoen/mambaforge/envs/testenv/lib/python3.11/site-packages/distributed/comm/tcp.py\", line 241, in read\n",
      "    convert_stream_closed_error(self, e)\n",
      "  File \"/Users/calkoen/mambaforge/envs/testenv/lib/python3.11/site-packages/distributed/comm/tcp.py\", line 144, in convert_stream_closed_error\n",
      "    raise CommClosedError(f\"in {obj}: {exc}\") from exc\n",
      "distributed.comm.core.CommClosedError: in <TCP (closed) Ephemeral Worker->Worker for gather local=tcp://127.0.0.1:52107 remote=tcp://127.0.0.1:52002>: Stream is closed\n",
      "2023-08-31 21:49:05,069 - distributed.nanny - WARNING - Restarting worker\n",
      "2023-08-31 21:49:05,243 - distributed.worker.memory - WARNING - Unmanaged memory use is high. This may indicate a memory leak or the memory may not be released to the OS; see https://distributed.dask.org/en/latest/worker-memory.html#memory-not-released-back-to-the-os for more information. -- Unmanaged memory: 7.47 GiB -- Worker memory limit: 10.67 GiB\n",
      "2023-08-31 21:49:09,540 - distributed.worker.memory - WARNING - Unmanaged memory use is high. This may indicate a memory leak or the memory may not be released to the OS; see https://distributed.dask.org/en/latest/worker-memory.html#memory-not-released-back-to-the-os for more information. -- Unmanaged memory: 6.50 GiB -- Worker memory limit: 10.67 GiB\n"
     ]
    },
    {
     "name": "stdout",
     "output_type": "stream",
     "text": [
      "Blob already exists and overwrite is set to False.\n",
      "Blob already exists and overwrite is set to False.\n",
      "Blob already exists and overwrite is set to False.\n"
     ]
    },
    {
     "name": "stderr",
     "output_type": "stream",
     "text": [
      "2023-08-31 21:49:15,243 - distributed.worker.memory - WARNING - Unmanaged memory use is high. This may indicate a memory leak or the memory may not be released to the OS; see https://distributed.dask.org/en/latest/worker-memory.html#memory-not-released-back-to-the-os for more information. -- Unmanaged memory: 8.45 GiB -- Worker memory limit: 10.67 GiB\n",
      "2023-08-31 21:49:16,310 - distributed.worker.memory - WARNING - Unmanaged memory use is high. This may indicate a memory leak or the memory may not be released to the OS; see https://distributed.dask.org/en/latest/worker-memory.html#memory-not-released-back-to-the-os for more information. -- Unmanaged memory: 7.47 GiB -- Worker memory limit: 10.67 GiB\n",
      "2023-08-31 21:49:16,375 - distributed.nanny.memory - WARNING - Worker tcp://127.0.0.1:52095 (pid=49787) exceeded 95% memory budget. Restarting...\n"
     ]
    },
    {
     "name": "stdout",
     "output_type": "stream",
     "text": [
      "Blob already exists and overwrite is set to False.\n"
     ]
    },
    {
     "name": "stderr",
     "output_type": "stream",
     "text": [
      "2023-08-31 21:49:16,398 - distributed.worker.memory - WARNING - Unmanaged memory use is high. This may indicate a memory leak or the memory may not be released to the OS; see https://distributed.dask.org/en/latest/worker-memory.html#memory-not-released-back-to-the-os for more information. -- Unmanaged memory: 6.47 GiB -- Worker memory limit: 10.67 GiB\n",
      "2023-08-31 21:49:16,553 - distributed.nanny - WARNING - Restarting worker\n",
      "2023-08-31 21:49:17,085 - distributed.worker - ERROR - Worker stream died during communication: tcp://127.0.0.1:52095\n",
      "Traceback (most recent call last):\n",
      "  File \"/Users/calkoen/mambaforge/envs/testenv/lib/python3.11/site-packages/distributed/comm/tcp.py\", line 225, in read\n",
      "    frames_nbytes = await stream.read_bytes(fmt_size)\n",
      "                    ^^^^^^^^^^^^^^^^^^^^^^^^^^^^^^^^^\n",
      "tornado.iostream.StreamClosedError: Stream is closed\n",
      "\n",
      "The above exception was the direct cause of the following exception:\n",
      "\n",
      "Traceback (most recent call last):\n",
      "  File \"/Users/calkoen/mambaforge/envs/testenv/lib/python3.11/site-packages/distributed/worker.py\", line 2053, in gather_dep\n",
      "    response = await get_data_from_worker(\n",
      "               ^^^^^^^^^^^^^^^^^^^^^^^^^^^\n",
      "  File \"/Users/calkoen/mambaforge/envs/testenv/lib/python3.11/site-packages/distributed/worker.py\", line 2902, in get_data_from_worker\n",
      "    response = await send_recv(\n",
      "               ^^^^^^^^^^^^^^^^\n",
      "  File \"/Users/calkoen/mambaforge/envs/testenv/lib/python3.11/site-packages/distributed/core.py\", line 1136, in send_recv\n",
      "    response = await comm.read(deserializers=deserializers)\n",
      "               ^^^^^^^^^^^^^^^^^^^^^^^^^^^^^^^^^^^^^^^^^^^^\n",
      "  File \"/Users/calkoen/mambaforge/envs/testenv/lib/python3.11/site-packages/distributed/comm/tcp.py\", line 241, in read\n",
      "    convert_stream_closed_error(self, e)\n",
      "  File \"/Users/calkoen/mambaforge/envs/testenv/lib/python3.11/site-packages/distributed/comm/tcp.py\", line 144, in convert_stream_closed_error\n",
      "    raise CommClosedError(f\"in {obj}: {exc}\") from exc\n",
      "distributed.comm.core.CommClosedError: in <TCP (closed) Ephemeral Worker->Worker for gather local=tcp://127.0.0.1:52162 remote=tcp://127.0.0.1:52095>: Stream is closed\n",
      "2023-08-31 21:49:17,393 - distributed.worker.memory - WARNING - Worker is at 81% memory usage. Pausing worker.  Process memory: 8.66 GiB -- Worker memory limit: 10.67 GiB\n",
      "2023-08-31 21:49:17,517 - distributed.worker.memory - WARNING - Worker is at 69% memory usage. Resuming worker. Process memory: 7.46 GiB -- Worker memory limit: 10.67 GiB\n"
     ]
    },
    {
     "name": "stdout",
     "output_type": "stream",
     "text": [
      "Blob already exists and overwrite is set to False.\n",
      "Blob already exists and overwrite is set to False.\n"
     ]
    },
    {
     "name": "stderr",
     "output_type": "stream",
     "text": [
      "2023-08-31 21:49:18,228 - distributed.worker.memory - WARNING - Unmanaged memory use is high. This may indicate a memory leak or the memory may not be released to the OS; see https://distributed.dask.org/en/latest/worker-memory.html#memory-not-released-back-to-the-os for more information. -- Unmanaged memory: 6.47 GiB -- Worker memory limit: 10.67 GiB\n",
      "2023-08-31 21:49:19,597 - distributed.worker.memory - WARNING - Unmanaged memory use is high. This may indicate a memory leak or the memory may not be released to the OS; see https://distributed.dask.org/en/latest/worker-memory.html#memory-not-released-back-to-the-os for more information. -- Unmanaged memory: 7.47 GiB -- Worker memory limit: 10.67 GiB\n",
      "2023-08-31 21:49:19,686 - distributed.worker.memory - WARNING - Worker is at 83% memory usage. Pausing worker.  Process memory: 8.86 GiB -- Worker memory limit: 10.67 GiB\n",
      "2023-08-31 21:49:19,941 - distributed.worker.memory - WARNING - Worker is at 74% memory usage. Resuming worker. Process memory: 7.92 GiB -- Worker memory limit: 10.67 GiB\n",
      "2023-08-31 21:49:21,176 - distributed.worker.memory - WARNING - Worker is at 87% memory usage. Pausing worker.  Process memory: 9.32 GiB -- Worker memory limit: 10.67 GiB\n",
      "2023-08-31 21:49:21,453 - distributed.worker.memory - WARNING - Worker is at 68% memory usage. Resuming worker. Process memory: 7.33 GiB -- Worker memory limit: 10.67 GiB\n",
      "2023-08-31 21:49:21,734 - distributed.worker.memory - WARNING - Worker is at 81% memory usage. Pausing worker.  Process memory: 8.70 GiB -- Worker memory limit: 10.67 GiB\n",
      "2023-08-31 21:49:21,935 - distributed.worker.memory - WARNING - Worker is at 62% memory usage. Resuming worker. Process memory: 6.70 GiB -- Worker memory limit: 10.67 GiB\n"
     ]
    },
    {
     "name": "stdout",
     "output_type": "stream",
     "text": [
      "Blob already exists and overwrite is set to False.\n"
     ]
    },
    {
     "name": "stderr",
     "output_type": "stream",
     "text": [
      "2023-08-31 21:49:24,586 - distributed.worker.memory - WARNING - Worker is at 80% memory usage. Pausing worker.  Process memory: 8.54 GiB -- Worker memory limit: 10.67 GiB\n"
     ]
    },
    {
     "name": "stdout",
     "output_type": "stream",
     "text": [
      "Blob already exists and overwrite is set to False.\n"
     ]
    },
    {
     "name": "stderr",
     "output_type": "stream",
     "text": [
      "2023-08-31 21:49:26,380 - distributed.worker.memory - WARNING - Worker is at 72% memory usage. Resuming worker. Process memory: 7.73 GiB -- Worker memory limit: 10.67 GiB\n",
      "2023-08-31 21:49:27,375 - distributed.nanny.memory - WARNING - Worker tcp://127.0.0.1:52027 (pid=49632) exceeded 95% memory budget. Restarting...\n",
      "2023-08-31 21:49:27,559 - distributed.worker - ERROR - Worker stream died during communication: tcp://127.0.0.1:52027\n",
      "Traceback (most recent call last):\n",
      "  File \"/Users/calkoen/mambaforge/envs/testenv/lib/python3.11/site-packages/distributed/comm/tcp.py\", line 225, in read\n",
      "    frames_nbytes = await stream.read_bytes(fmt_size)\n",
      "                    ^^^^^^^^^^^^^^^^^^^^^^^^^^^^^^^^^\n",
      "tornado.iostream.StreamClosedError: Stream is closed\n",
      "\n",
      "The above exception was the direct cause of the following exception:\n",
      "\n",
      "Traceback (most recent call last):\n",
      "  File \"/Users/calkoen/mambaforge/envs/testenv/lib/python3.11/site-packages/distributed/worker.py\", line 2053, in gather_dep\n",
      "    response = await get_data_from_worker(\n",
      "               ^^^^^^^^^^^^^^^^^^^^^^^^^^^\n",
      "  File \"/Users/calkoen/mambaforge/envs/testenv/lib/python3.11/site-packages/distributed/worker.py\", line 2902, in get_data_from_worker\n",
      "    response = await send_recv(\n",
      "               ^^^^^^^^^^^^^^^^\n",
      "  File \"/Users/calkoen/mambaforge/envs/testenv/lib/python3.11/site-packages/distributed/core.py\", line 1136, in send_recv\n",
      "    response = await comm.read(deserializers=deserializers)\n",
      "               ^^^^^^^^^^^^^^^^^^^^^^^^^^^^^^^^^^^^^^^^^^^^\n",
      "  File \"/Users/calkoen/mambaforge/envs/testenv/lib/python3.11/site-packages/distributed/comm/tcp.py\", line 241, in read\n",
      "    convert_stream_closed_error(self, e)\n",
      "  File \"/Users/calkoen/mambaforge/envs/testenv/lib/python3.11/site-packages/distributed/comm/tcp.py\", line 144, in convert_stream_closed_error\n",
      "    raise CommClosedError(f\"in {obj}: {exc}\") from exc\n",
      "distributed.comm.core.CommClosedError: in <TCP (closed) Ephemeral Worker->Worker for gather local=tcp://127.0.0.1:52181 remote=tcp://127.0.0.1:52027>: Stream is closed\n",
      "2023-08-31 21:49:27,566 - distributed.nanny - WARNING - Restarting worker\n"
     ]
    },
    {
     "name": "stdout",
     "output_type": "stream",
     "text": [
      "Blob already exists and overwrite is set to False.\n"
     ]
    },
    {
     "name": "stderr",
     "output_type": "stream",
     "text": [
      "2023-08-31 21:49:30,914 - distributed.worker.memory - WARNING - Unmanaged memory use is high. This may indicate a memory leak or the memory may not be released to the OS; see https://distributed.dask.org/en/latest/worker-memory.html#memory-not-released-back-to-the-os for more information. -- Unmanaged memory: 7.16 GiB -- Worker memory limit: 10.67 GiB\n",
      "2023-08-31 21:49:32,084 - distributed.worker.memory - WARNING - Unmanaged memory use is high. This may indicate a memory leak or the memory may not be released to the OS; see https://distributed.dask.org/en/latest/worker-memory.html#memory-not-released-back-to-the-os for more information. -- Unmanaged memory: 7.08 GiB -- Worker memory limit: 10.67 GiB\n"
     ]
    },
    {
     "name": "stdout",
     "output_type": "stream",
     "text": [
      "Blob already exists and overwrite is set to False.\n",
      "Blob already exists and overwrite is set to False.\n"
     ]
    },
    {
     "name": "stderr",
     "output_type": "stream",
     "text": [
      "2023-08-31 21:49:35,424 - distributed.worker.memory - WARNING - Unmanaged memory use is high. This may indicate a memory leak or the memory may not be released to the OS; see https://distributed.dask.org/en/latest/worker-memory.html#memory-not-released-back-to-the-os for more information. -- Unmanaged memory: 6.50 GiB -- Worker memory limit: 10.67 GiB\n",
      "2023-08-31 21:49:40,475 - distributed.worker.memory - WARNING - Unmanaged memory use is high. This may indicate a memory leak or the memory may not be released to the OS; see https://distributed.dask.org/en/latest/worker-memory.html#memory-not-released-back-to-the-os for more information. -- Unmanaged memory: 8.07 GiB -- Worker memory limit: 10.67 GiB\n"
     ]
    },
    {
     "name": "stdout",
     "output_type": "stream",
     "text": [
      "Blob already exists and overwrite is set to False.\n"
     ]
    },
    {
     "name": "stderr",
     "output_type": "stream",
     "text": [
      "2023-08-31 21:49:40,789 - distributed.worker.memory - WARNING - Worker is at 81% memory usage. Pausing worker.  Process memory: 8.74 GiB -- Worker memory limit: 10.67 GiB\n",
      "2023-08-31 21:49:40,930 - distributed.worker.memory - WARNING - Worker is at 76% memory usage. Resuming worker. Process memory: 8.13 GiB -- Worker memory limit: 10.67 GiB\n",
      "2023-08-31 21:49:41,567 - distributed.worker.memory - WARNING - Worker is at 84% memory usage. Pausing worker.  Process memory: 9.01 GiB -- Worker memory limit: 10.67 GiB\n",
      "2023-08-31 21:49:41,771 - distributed.worker.memory - WARNING - Worker is at 75% memory usage. Resuming worker. Process memory: 8.01 GiB -- Worker memory limit: 10.67 GiB\n",
      "2023-08-31 21:49:42,099 - distributed.worker.memory - WARNING - Worker is at 85% memory usage. Pausing worker.  Process memory: 9.09 GiB -- Worker memory limit: 10.67 GiB\n",
      "2023-08-31 21:49:42,216 - distributed.worker.memory - WARNING - Worker is at 66% memory usage. Resuming worker. Process memory: 7.09 GiB -- Worker memory limit: 10.67 GiB\n",
      "2023-08-31 21:49:42,522 - distributed.worker.memory - WARNING - Worker is at 84% memory usage. Pausing worker.  Process memory: 9.01 GiB -- Worker memory limit: 10.67 GiB\n",
      "2023-08-31 21:49:42,677 - distributed.worker.memory - WARNING - Worker is at 75% memory usage. Resuming worker. Process memory: 8.01 GiB -- Worker memory limit: 10.67 GiB\n",
      "2023-08-31 21:49:42,858 - distributed.worker.memory - WARNING - Unmanaged memory use is high. This may indicate a memory leak or the memory may not be released to the OS; see https://distributed.dask.org/en/latest/worker-memory.html#memory-not-released-back-to-the-os for more information. -- Unmanaged memory: 6.64 GiB -- Worker memory limit: 10.67 GiB\n",
      "2023-08-31 21:49:42,992 - distributed.worker.memory - WARNING - Unmanaged memory use is high. This may indicate a memory leak or the memory may not be released to the OS; see https://distributed.dask.org/en/latest/worker-memory.html#memory-not-released-back-to-the-os for more information. -- Unmanaged memory: 7.01 GiB -- Worker memory limit: 10.67 GiB\n",
      "2023-08-31 21:49:44,280 - distributed.nanny.memory - WARNING - Worker tcp://127.0.0.1:52036 (pid=49635) exceeded 95% memory budget. Restarting...\n",
      "2023-08-31 21:49:44,461 - distributed.worker - ERROR - Worker stream died during communication: tcp://127.0.0.1:52036\n",
      "Traceback (most recent call last):\n",
      "  File \"/Users/calkoen/mambaforge/envs/testenv/lib/python3.11/site-packages/distributed/comm/tcp.py\", line 225, in read\n",
      "    frames_nbytes = await stream.read_bytes(fmt_size)\n",
      "                    ^^^^^^^^^^^^^^^^^^^^^^^^^^^^^^^^^\n",
      "tornado.iostream.StreamClosedError: Stream is closed\n",
      "\n",
      "The above exception was the direct cause of the following exception:\n",
      "\n",
      "Traceback (most recent call last):\n",
      "  File \"/Users/calkoen/mambaforge/envs/testenv/lib/python3.11/site-packages/distributed/worker.py\", line 2053, in gather_dep\n",
      "    response = await get_data_from_worker(\n",
      "               ^^^^^^^^^^^^^^^^^^^^^^^^^^^\n",
      "  File \"/Users/calkoen/mambaforge/envs/testenv/lib/python3.11/site-packages/distributed/worker.py\", line 2902, in get_data_from_worker\n",
      "    response = await send_recv(\n",
      "               ^^^^^^^^^^^^^^^^\n",
      "  File \"/Users/calkoen/mambaforge/envs/testenv/lib/python3.11/site-packages/distributed/core.py\", line 1136, in send_recv\n",
      "    response = await comm.read(deserializers=deserializers)\n",
      "               ^^^^^^^^^^^^^^^^^^^^^^^^^^^^^^^^^^^^^^^^^^^^\n",
      "  File \"/Users/calkoen/mambaforge/envs/testenv/lib/python3.11/site-packages/distributed/comm/tcp.py\", line 241, in read\n",
      "    convert_stream_closed_error(self, e)\n",
      "  File \"/Users/calkoen/mambaforge/envs/testenv/lib/python3.11/site-packages/distributed/comm/tcp.py\", line 144, in convert_stream_closed_error\n",
      "    raise CommClosedError(f\"in {obj}: {exc}\") from exc\n",
      "distributed.comm.core.CommClosedError: in <TCP (closed) Ephemeral Worker->Worker for gather local=tcp://127.0.0.1:52067 remote=tcp://127.0.0.1:52036>: Stream is closed\n",
      "2023-08-31 21:49:44,460 - distributed.worker - ERROR - Worker stream died during communication: tcp://127.0.0.1:52036\n",
      "Traceback (most recent call last):\n",
      "  File \"/Users/calkoen/mambaforge/envs/testenv/lib/python3.11/site-packages/distributed/comm/tcp.py\", line 235, in read\n",
      "    n = await stream.read_into(chunk)\n",
      "        ^^^^^^^^^^^^^^^^^^^^^^^^^^^^^\n",
      "tornado.iostream.StreamClosedError: Stream is closed\n",
      "\n",
      "The above exception was the direct cause of the following exception:\n",
      "\n",
      "Traceback (most recent call last):\n",
      "  File \"/Users/calkoen/mambaforge/envs/testenv/lib/python3.11/site-packages/distributed/worker.py\", line 2053, in gather_dep\n",
      "    response = await get_data_from_worker(\n",
      "               ^^^^^^^^^^^^^^^^^^^^^^^^^^^\n",
      "  File \"/Users/calkoen/mambaforge/envs/testenv/lib/python3.11/site-packages/distributed/worker.py\", line 2902, in get_data_from_worker\n",
      "    response = await send_recv(\n",
      "               ^^^^^^^^^^^^^^^^\n",
      "  File \"/Users/calkoen/mambaforge/envs/testenv/lib/python3.11/site-packages/distributed/core.py\", line 1136, in send_recv\n",
      "    response = await comm.read(deserializers=deserializers)\n",
      "               ^^^^^^^^^^^^^^^^^^^^^^^^^^^^^^^^^^^^^^^^^^^^\n",
      "  File \"/Users/calkoen/mambaforge/envs/testenv/lib/python3.11/site-packages/distributed/comm/tcp.py\", line 241, in read\n",
      "    convert_stream_closed_error(self, e)\n",
      "  File \"/Users/calkoen/mambaforge/envs/testenv/lib/python3.11/site-packages/distributed/comm/tcp.py\", line 144, in convert_stream_closed_error\n",
      "    raise CommClosedError(f\"in {obj}: {exc}\") from exc\n",
      "distributed.comm.core.CommClosedError: in <TCP (closed) Ephemeral Worker->Worker for gather local=tcp://127.0.0.1:52200 remote=tcp://127.0.0.1:52036>: Stream is closed\n",
      "2023-08-31 21:49:44,461 - distributed.worker - ERROR - Worker stream died during communication: tcp://127.0.0.1:52036\n",
      "Traceback (most recent call last):\n",
      "  File \"/Users/calkoen/mambaforge/envs/testenv/lib/python3.11/site-packages/distributed/comm/tcp.py\", line 235, in read\n",
      "    n = await stream.read_into(chunk)\n",
      "        ^^^^^^^^^^^^^^^^^^^^^^^^^^^^^\n",
      "tornado.iostream.StreamClosedError: Stream is closed\n",
      "\n",
      "The above exception was the direct cause of the following exception:\n",
      "\n",
      "Traceback (most recent call last):\n",
      "  File \"/Users/calkoen/mambaforge/envs/testenv/lib/python3.11/site-packages/distributed/worker.py\", line 2053, in gather_dep\n",
      "    response = await get_data_from_worker(\n",
      "               ^^^^^^^^^^^^^^^^^^^^^^^^^^^\n",
      "  File \"/Users/calkoen/mambaforge/envs/testenv/lib/python3.11/site-packages/distributed/worker.py\", line 2902, in get_data_from_worker\n",
      "    response = await send_recv(\n",
      "               ^^^^^^^^^^^^^^^^\n",
      "  File \"/Users/calkoen/mambaforge/envs/testenv/lib/python3.11/site-packages/distributed/core.py\", line 1136, in send_recv\n",
      "    response = await comm.read(deserializers=deserializers)\n",
      "               ^^^^^^^^^^^^^^^^^^^^^^^^^^^^^^^^^^^^^^^^^^^^\n",
      "  File \"/Users/calkoen/mambaforge/envs/testenv/lib/python3.11/site-packages/distributed/comm/tcp.py\", line 241, in read\n",
      "    convert_stream_closed_error(self, e)\n",
      "  File \"/Users/calkoen/mambaforge/envs/testenv/lib/python3.11/site-packages/distributed/comm/tcp.py\", line 144, in convert_stream_closed_error\n",
      "    raise CommClosedError(f\"in {obj}: {exc}\") from exc\n",
      "distributed.comm.core.CommClosedError: in <TCP (closed) Ephemeral Worker->Worker for gather local=tcp://127.0.0.1:52052 remote=tcp://127.0.0.1:52036>: Stream is closed\n",
      "2023-08-31 21:49:44,469 - distributed.nanny - WARNING - Restarting worker\n"
     ]
    },
    {
     "name": "stdout",
     "output_type": "stream",
     "text": [
      "Blob already exists and overwrite is set to False.\n",
      "Blob already exists and overwrite is set to False.\n",
      "Blob already exists and overwrite is set to False.\n"
     ]
    },
    {
     "name": "stderr",
     "output_type": "stream",
     "text": [
      "2023-08-31 21:49:47,670 - distributed.worker.memory - WARNING - Worker is at 85% memory usage. Pausing worker.  Process memory: 9.12 GiB -- Worker memory limit: 10.67 GiB\n",
      "2023-08-31 21:49:47,816 - distributed.worker.memory - WARNING - Worker is at 79% memory usage. Resuming worker. Process memory: 8.50 GiB -- Worker memory limit: 10.67 GiB\n",
      "2023-08-31 21:49:48,385 - distributed.worker.memory - WARNING - Worker is at 85% memory usage. Pausing worker.  Process memory: 9.12 GiB -- Worker memory limit: 10.67 GiB\n",
      "2023-08-31 21:49:48,521 - distributed.worker.memory - WARNING - Worker is at 76% memory usage. Resuming worker. Process memory: 8.12 GiB -- Worker memory limit: 10.67 GiB\n",
      "2023-08-31 21:49:48,922 - distributed.worker.memory - WARNING - Unmanaged memory use is high. This may indicate a memory leak or the memory may not be released to the OS; see https://distributed.dask.org/en/latest/worker-memory.html#memory-not-released-back-to-the-os for more information. -- Unmanaged memory: 6.87 GiB -- Worker memory limit: 10.67 GiB\n",
      "2023-08-31 21:49:51,903 - distributed.worker.memory - WARNING - Unmanaged memory use is high. This may indicate a memory leak or the memory may not be released to the OS; see https://distributed.dask.org/en/latest/worker-memory.html#memory-not-released-back-to-the-os for more information. -- Unmanaged memory: 8.25 GiB -- Worker memory limit: 10.67 GiB\n"
     ]
    },
    {
     "name": "stdout",
     "output_type": "stream",
     "text": [
      "Blob already exists and overwrite is set to False.\n",
      "Blob already exists and overwrite is set to False.\n"
     ]
    },
    {
     "name": "stderr",
     "output_type": "stream",
     "text": [
      "2023-08-31 21:49:54,298 - distributed.worker.memory - WARNING - Unmanaged memory use is high. This may indicate a memory leak or the memory may not be released to the OS; see https://distributed.dask.org/en/latest/worker-memory.html#memory-not-released-back-to-the-os for more information. -- Unmanaged memory: 7.47 GiB -- Worker memory limit: 10.67 GiB\n"
     ]
    },
    {
     "name": "stdout",
     "output_type": "stream",
     "text": [
      "Blob already exists and overwrite is set to False.\n"
     ]
    },
    {
     "name": "stderr",
     "output_type": "stream",
     "text": [
      "2023-08-31 21:50:00,181 - distributed.worker.memory - WARNING - Unmanaged memory use is high. This may indicate a memory leak or the memory may not be released to the OS; see https://distributed.dask.org/en/latest/worker-memory.html#memory-not-released-back-to-the-os for more information. -- Unmanaged memory: 8.37 GiB -- Worker memory limit: 10.67 GiB\n",
      "2023-08-31 21:50:00,391 - distributed.worker.memory - WARNING - Worker is at 84% memory usage. Pausing worker.  Process memory: 8.98 GiB -- Worker memory limit: 10.67 GiB\n",
      "2023-08-31 21:50:00,477 - distributed.worker.memory - WARNING - Worker is at 67% memory usage. Resuming worker. Process memory: 7.25 GiB -- Worker memory limit: 10.67 GiB\n"
     ]
    },
    {
     "name": "stdout",
     "output_type": "stream",
     "text": [
      "Blob already exists and overwrite is set to False.\n"
     ]
    },
    {
     "name": "stderr",
     "output_type": "stream",
     "text": [
      "2023-08-31 21:50:00,695 - distributed.worker.memory - WARNING - Worker is at 88% memory usage. Pausing worker.  Process memory: 9.42 GiB -- Worker memory limit: 10.67 GiB\n",
      "2023-08-31 21:50:00,765 - distributed.worker.memory - WARNING - Unmanaged memory use is high. This may indicate a memory leak or the memory may not be released to the OS; see https://distributed.dask.org/en/latest/worker-memory.html#memory-not-released-back-to-the-os for more information. -- Unmanaged memory: 6.48 GiB -- Worker memory limit: 10.67 GiB\n",
      "2023-08-31 21:50:00,870 - distributed.worker.memory - WARNING - Worker is at 68% memory usage. Resuming worker. Process memory: 7.30 GiB -- Worker memory limit: 10.67 GiB\n"
     ]
    },
    {
     "name": "stdout",
     "output_type": "stream",
     "text": [
      "Blob already exists and overwrite is set to False.\n",
      "Blob already exists and overwrite is set to False.\n",
      "Blob already exists and overwrite is set to False.\n"
     ]
    },
    {
     "name": "stderr",
     "output_type": "stream",
     "text": [
      "2023-08-31 21:50:03,473 - distributed.worker.memory - WARNING - Worker is at 80% memory usage. Pausing worker.  Process memory: 8.59 GiB -- Worker memory limit: 10.67 GiB\n",
      "2023-08-31 21:50:03,575 - distributed.worker.memory - WARNING - Worker is at 52% memory usage. Resuming worker. Process memory: 5.59 GiB -- Worker memory limit: 10.67 GiB\n",
      "2023-08-31 21:50:04,360 - distributed.worker.memory - WARNING - Unmanaged memory use is high. This may indicate a memory leak or the memory may not be released to the OS; see https://distributed.dask.org/en/latest/worker-memory.html#memory-not-released-back-to-the-os for more information. -- Unmanaged memory: 8.18 GiB -- Worker memory limit: 10.67 GiB\n"
     ]
    },
    {
     "name": "stdout",
     "output_type": "stream",
     "text": [
      "Blob already exists and overwrite is set to False.\n",
      "Blob already exists and overwrite is set to False.\n",
      "Blob already exists and overwrite is set to False.\n",
      "Blob already exists and overwrite is set to False.\n",
      "Blob already exists and overwrite is set to False.\n",
      "Blob already exists and overwrite is set to False.\n"
     ]
    },
    {
     "name": "stderr",
     "output_type": "stream",
     "text": [
      "2023-08-31 21:50:06,875 - distributed.worker.memory - WARNING - Worker is at 83% memory usage. Pausing worker.  Process memory: 8.92 GiB -- Worker memory limit: 10.67 GiB\n",
      "2023-08-31 21:50:07,013 - distributed.worker.memory - WARNING - Worker is at 69% memory usage. Resuming worker. Process memory: 7.37 GiB -- Worker memory limit: 10.67 GiB\n"
     ]
    },
    {
     "name": "stdout",
     "output_type": "stream",
     "text": [
      "Blob already exists and overwrite is set to False.\n"
     ]
    },
    {
     "name": "stderr",
     "output_type": "stream",
     "text": [
      "2023-08-31 21:50:07,417 - distributed.worker.memory - WARNING - Unmanaged memory use is high. This may indicate a memory leak or the memory may not be released to the OS; see https://distributed.dask.org/en/latest/worker-memory.html#memory-not-released-back-to-the-os for more information. -- Unmanaged memory: 7.65 GiB -- Worker memory limit: 10.67 GiB\n",
      "2023-08-31 21:50:07,957 - distributed.worker.memory - WARNING - Unmanaged memory use is high. This may indicate a memory leak or the memory may not be released to the OS; see https://distributed.dask.org/en/latest/worker-memory.html#memory-not-released-back-to-the-os for more information. -- Unmanaged memory: 7.13 GiB -- Worker memory limit: 10.67 GiB\n",
      "2023-08-31 21:50:07,975 - distributed.worker.memory - WARNING - Worker is at 81% memory usage. Pausing worker.  Process memory: 8.67 GiB -- Worker memory limit: 10.67 GiB\n"
     ]
    },
    {
     "name": "stdout",
     "output_type": "stream",
     "text": [
      "Blob already exists and overwrite is set to False.\n"
     ]
    },
    {
     "name": "stderr",
     "output_type": "stream",
     "text": [
      "2023-08-31 21:50:08,675 - distributed.worker.memory - WARNING - Worker is at 77% memory usage. Resuming worker. Process memory: 8.31 GiB -- Worker memory limit: 10.67 GiB\n"
     ]
    },
    {
     "name": "stdout",
     "output_type": "stream",
     "text": [
      "Blob already exists and overwrite is set to False.\n"
     ]
    },
    {
     "name": "stderr",
     "output_type": "stream",
     "text": [
      "2023-08-31 21:50:10,277 - distributed.worker.memory - WARNING - Unmanaged memory use is high. This may indicate a memory leak or the memory may not be released to the OS; see https://distributed.dask.org/en/latest/worker-memory.html#memory-not-released-back-to-the-os for more information. -- Unmanaged memory: 8.20 GiB -- Worker memory limit: 10.67 GiB\n",
      "2023-08-31 21:50:13,102 - distributed.worker.memory - WARNING - Worker is at 80% memory usage. Pausing worker.  Process memory: 8.54 GiB -- Worker memory limit: 10.67 GiB\n",
      "2023-08-31 21:50:13,176 - distributed.worker.memory - WARNING - Worker is at 52% memory usage. Resuming worker. Process memory: 5.57 GiB -- Worker memory limit: 10.67 GiB\n",
      "2023-08-31 21:50:14,372 - distributed.worker.memory - WARNING - Unmanaged memory use is high. This may indicate a memory leak or the memory may not be released to the OS; see https://distributed.dask.org/en/latest/worker-memory.html#memory-not-released-back-to-the-os for more information. -- Unmanaged memory: 7.63 GiB -- Worker memory limit: 10.67 GiB\n"
     ]
    },
    {
     "name": "stdout",
     "output_type": "stream",
     "text": [
      "Blob already exists and overwrite is set to False.\n"
     ]
    },
    {
     "name": "stderr",
     "output_type": "stream",
     "text": [
      "2023-08-31 21:50:16,903 - distributed.worker.memory - WARNING - Unmanaged memory use is high. This may indicate a memory leak or the memory may not be released to the OS; see https://distributed.dask.org/en/latest/worker-memory.html#memory-not-released-back-to-the-os for more information. -- Unmanaged memory: 7.09 GiB -- Worker memory limit: 10.67 GiB\n"
     ]
    },
    {
     "name": "stdout",
     "output_type": "stream",
     "text": [
      "Blob already exists and overwrite is set to False.\n",
      "Blob already exists and overwrite is set to False.\n"
     ]
    },
    {
     "name": "stderr",
     "output_type": "stream",
     "text": [
      "2023-08-31 21:50:18,212 - distributed.worker.memory - WARNING - Unmanaged memory use is high. This may indicate a memory leak or the memory may not be released to the OS; see https://distributed.dask.org/en/latest/worker-memory.html#memory-not-released-back-to-the-os for more information. -- Unmanaged memory: 8.41 GiB -- Worker memory limit: 10.67 GiB\n",
      "2023-08-31 21:50:18,889 - distributed.worker.memory - WARNING - Unmanaged memory use is high. This may indicate a memory leak or the memory may not be released to the OS; see https://distributed.dask.org/en/latest/worker-memory.html#memory-not-released-back-to-the-os for more information. -- Unmanaged memory: 7.49 GiB -- Worker memory limit: 10.67 GiB\n",
      "2023-08-31 21:50:19,352 - distributed.worker.memory - WARNING - Worker is at 81% memory usage. Pausing worker.  Process memory: 8.72 GiB -- Worker memory limit: 10.67 GiB\n",
      "2023-08-31 21:50:19,504 - distributed.worker.memory - WARNING - Worker is at 56% memory usage. Resuming worker. Process memory: 6.04 GiB -- Worker memory limit: 10.67 GiB\n"
     ]
    },
    {
     "name": "stdout",
     "output_type": "stream",
     "text": [
      "Blob already exists and overwrite is set to False.\n"
     ]
    },
    {
     "name": "stderr",
     "output_type": "stream",
     "text": [
      "2023-08-31 21:50:19,675 - distributed.worker.memory - WARNING - Unmanaged memory use is high. This may indicate a memory leak or the memory may not be released to the OS; see https://distributed.dask.org/en/latest/worker-memory.html#memory-not-released-back-to-the-os for more information. -- Unmanaged memory: 6.59 GiB -- Worker memory limit: 10.67 GiB\n"
     ]
    },
    {
     "name": "stdout",
     "output_type": "stream",
     "text": [
      "Blob already exists and overwrite is set to False.\n",
      "Blob already exists and overwrite is set to False.\n"
     ]
    },
    {
     "name": "stderr",
     "output_type": "stream",
     "text": [
      "2023-08-31 21:50:23,101 - distributed.worker.memory - WARNING - Worker is at 81% memory usage. Pausing worker.  Process memory: 8.65 GiB -- Worker memory limit: 10.67 GiB\n",
      "2023-08-31 21:50:23,190 - distributed.worker.memory - WARNING - Worker is at 47% memory usage. Resuming worker. Process memory: 5.03 GiB -- Worker memory limit: 10.67 GiB\n"
     ]
    },
    {
     "name": "stdout",
     "output_type": "stream",
     "text": [
      "Blob already exists and overwrite is set to False.\n"
     ]
    },
    {
     "name": "stderr",
     "output_type": "stream",
     "text": [
      "2023-08-31 21:50:24,509 - distributed.worker.memory - WARNING - Worker is at 80% memory usage. Pausing worker.  Process memory: 8.64 GiB -- Worker memory limit: 10.67 GiB\n"
     ]
    },
    {
     "name": "stdout",
     "output_type": "stream",
     "text": [
      "Blob already exists and overwrite is set to False.\n"
     ]
    },
    {
     "name": "stderr",
     "output_type": "stream",
     "text": [
      "2023-08-31 21:50:24,721 - distributed.worker.memory - WARNING - Worker is at 43% memory usage. Resuming worker. Process memory: 4.67 GiB -- Worker memory limit: 10.67 GiB\n"
     ]
    },
    {
     "name": "stdout",
     "output_type": "stream",
     "text": [
      "Blob already exists and overwrite is set to False.\n"
     ]
    },
    {
     "name": "stderr",
     "output_type": "stream",
     "text": [
      "2023-08-31 21:50:26,785 - distributed.worker.memory - WARNING - Unmanaged memory use is high. This may indicate a memory leak or the memory may not be released to the OS; see https://distributed.dask.org/en/latest/worker-memory.html#memory-not-released-back-to-the-os for more information. -- Unmanaged memory: 7.50 GiB -- Worker memory limit: 10.67 GiB\n"
     ]
    },
    {
     "name": "stdout",
     "output_type": "stream",
     "text": [
      "Blob already exists and overwrite is set to False.\n"
     ]
    },
    {
     "name": "stderr",
     "output_type": "stream",
     "text": [
      "2023-08-31 21:50:27,941 - distributed.worker.memory - WARNING - Unmanaged memory use is high. This may indicate a memory leak or the memory may not be released to the OS; see https://distributed.dask.org/en/latest/worker-memory.html#memory-not-released-back-to-the-os for more information. -- Unmanaged memory: 6.49 GiB -- Worker memory limit: 10.67 GiB\n",
      "2023-08-31 21:50:29,792 - distributed.worker.memory - WARNING - Unmanaged memory use is high. This may indicate a memory leak or the memory may not be released to the OS; see https://distributed.dask.org/en/latest/worker-memory.html#memory-not-released-back-to-the-os for more information. -- Unmanaged memory: 7.47 GiB -- Worker memory limit: 10.67 GiB\n"
     ]
    },
    {
     "name": "stdout",
     "output_type": "stream",
     "text": [
      "Blob already exists and overwrite is set to False.\n"
     ]
    },
    {
     "name": "stderr",
     "output_type": "stream",
     "text": [
      "2023-08-31 21:50:32,956 - distributed.worker.memory - WARNING - Unmanaged memory use is high. This may indicate a memory leak or the memory may not be released to the OS; see https://distributed.dask.org/en/latest/worker-memory.html#memory-not-released-back-to-the-os for more information. -- Unmanaged memory: 6.50 GiB -- Worker memory limit: 10.67 GiB\n"
     ]
    },
    {
     "name": "stdout",
     "output_type": "stream",
     "text": [
      "Blob already exists and overwrite is set to False.\n",
      "Blob already exists and overwrite is set to False.\n"
     ]
    },
    {
     "name": "stderr",
     "output_type": "stream",
     "text": [
      "2023-08-31 21:50:37,875 - distributed.worker.memory - WARNING - Unmanaged memory use is high. This may indicate a memory leak or the memory may not be released to the OS; see https://distributed.dask.org/en/latest/worker-memory.html#memory-not-released-back-to-the-os for more information. -- Unmanaged memory: 7.47 GiB -- Worker memory limit: 10.67 GiB\n",
      "2023-08-31 21:50:39,316 - distributed.worker.memory - WARNING - Unmanaged memory use is high. This may indicate a memory leak or the memory may not be released to the OS; see https://distributed.dask.org/en/latest/worker-memory.html#memory-not-released-back-to-the-os for more information. -- Unmanaged memory: 6.54 GiB -- Worker memory limit: 10.67 GiB\n"
     ]
    },
    {
     "name": "stdout",
     "output_type": "stream",
     "text": [
      "Blob already exists and overwrite is set to False.\n"
     ]
    },
    {
     "name": "stderr",
     "output_type": "stream",
     "text": [
      "2023-08-31 21:50:40,192 - distributed.worker.memory - WARNING - Unmanaged memory use is high. This may indicate a memory leak or the memory may not be released to the OS; see https://distributed.dask.org/en/latest/worker-memory.html#memory-not-released-back-to-the-os for more information. -- Unmanaged memory: 7.50 GiB -- Worker memory limit: 10.67 GiB\n"
     ]
    },
    {
     "name": "stdout",
     "output_type": "stream",
     "text": [
      "Blob already exists and overwrite is set to False.\n",
      "Blob already exists and overwrite is set to False.\n"
     ]
    },
    {
     "name": "stderr",
     "output_type": "stream",
     "text": [
      "2023-08-31 21:50:41,901 - distributed.worker.memory - WARNING - Worker is at 83% memory usage. Pausing worker.  Process memory: 8.87 GiB -- Worker memory limit: 10.67 GiB\n",
      "2023-08-31 21:50:42,038 - distributed.worker.memory - WARNING - Worker is at 76% memory usage. Resuming worker. Process memory: 8.19 GiB -- Worker memory limit: 10.67 GiB\n"
     ]
    },
    {
     "name": "stdout",
     "output_type": "stream",
     "text": [
      "Blob already exists and overwrite is set to False.\n",
      "Blob already exists and overwrite is set to False.\n"
     ]
    },
    {
     "name": "stderr",
     "output_type": "stream",
     "text": [
      "2023-08-31 21:50:43,602 - distributed.worker.memory - WARNING - Worker is at 85% memory usage. Pausing worker.  Process memory: 9.10 GiB -- Worker memory limit: 10.67 GiB\n",
      "2023-08-31 21:50:43,697 - distributed.worker.memory - WARNING - Worker is at 68% memory usage. Resuming worker. Process memory: 7.34 GiB -- Worker memory limit: 10.67 GiB\n",
      "2023-08-31 21:50:43,792 - distributed.worker.memory - WARNING - Unmanaged memory use is high. This may indicate a memory leak or the memory may not be released to the OS; see https://distributed.dask.org/en/latest/worker-memory.html#memory-not-released-back-to-the-os for more information. -- Unmanaged memory: 7.53 GiB -- Worker memory limit: 10.67 GiB\n"
     ]
    },
    {
     "name": "stdout",
     "output_type": "stream",
     "text": [
      "Blob already exists and overwrite is set to False.\n"
     ]
    },
    {
     "name": "stderr",
     "output_type": "stream",
     "text": [
      "2023-08-31 21:50:44,298 - distributed.worker.memory - WARNING - Worker is at 80% memory usage. Pausing worker.  Process memory: 8.59 GiB -- Worker memory limit: 10.67 GiB\n",
      "2023-08-31 21:50:44,497 - distributed.worker.memory - WARNING - Worker is at 71% memory usage. Resuming worker. Process memory: 7.59 GiB -- Worker memory limit: 10.67 GiB\n"
     ]
    },
    {
     "name": "stdout",
     "output_type": "stream",
     "text": [
      "Blob already exists and overwrite is set to False.\n",
      "Blob already exists and overwrite is set to False.\n",
      "Blob already exists and overwrite is set to False.\n"
     ]
    },
    {
     "name": "stderr",
     "output_type": "stream",
     "text": [
      "2023-08-31 21:50:45,241 - distributed.worker.memory - WARNING - Worker is at 82% memory usage. Pausing worker.  Process memory: 8.81 GiB -- Worker memory limit: 10.67 GiB\n",
      "2023-08-31 21:50:45,544 - distributed.worker.memory - WARNING - Worker is at 73% memory usage. Resuming worker. Process memory: 7.81 GiB -- Worker memory limit: 10.67 GiB\n"
     ]
    },
    {
     "name": "stdout",
     "output_type": "stream",
     "text": [
      "Blob already exists and overwrite is set to False.\n"
     ]
    },
    {
     "name": "stderr",
     "output_type": "stream",
     "text": [
      "2023-08-31 21:50:46,938 - distributed.worker.memory - WARNING - Worker is at 80% memory usage. Pausing worker.  Process memory: 8.63 GiB -- Worker memory limit: 10.67 GiB\n",
      "2023-08-31 21:50:47,116 - distributed.worker.memory - WARNING - Worker is at 62% memory usage. Resuming worker. Process memory: 6.66 GiB -- Worker memory limit: 10.67 GiB\n"
     ]
    },
    {
     "name": "stdout",
     "output_type": "stream",
     "text": [
      "Blob already exists and overwrite is set to False.\n"
     ]
    },
    {
     "name": "stderr",
     "output_type": "stream",
     "text": [
      "2023-08-31 21:50:48,629 - distributed.worker.memory - WARNING - Unmanaged memory use is high. This may indicate a memory leak or the memory may not be released to the OS; see https://distributed.dask.org/en/latest/worker-memory.html#memory-not-released-back-to-the-os for more information. -- Unmanaged memory: 6.82 GiB -- Worker memory limit: 10.67 GiB\n",
      "2023-08-31 21:50:49,676 - distributed.worker.memory - WARNING - Unmanaged memory use is high. This may indicate a memory leak or the memory may not be released to the OS; see https://distributed.dask.org/en/latest/worker-memory.html#memory-not-released-back-to-the-os for more information. -- Unmanaged memory: 7.47 GiB -- Worker memory limit: 10.67 GiB\n"
     ]
    },
    {
     "name": "stdout",
     "output_type": "stream",
     "text": [
      "Blob already exists and overwrite is set to False.\n"
     ]
    },
    {
     "name": "stderr",
     "output_type": "stream",
     "text": [
      "2023-08-31 21:50:54,188 - distributed.worker.memory - WARNING - Unmanaged memory use is high. This may indicate a memory leak or the memory may not be released to the OS; see https://distributed.dask.org/en/latest/worker-memory.html#memory-not-released-back-to-the-os for more information. -- Unmanaged memory: 6.98 GiB -- Worker memory limit: 10.67 GiB\n"
     ]
    },
    {
     "name": "stdout",
     "output_type": "stream",
     "text": [
      "Blob already exists and overwrite is set to False.\n",
      "Blob already exists and overwrite is set to False.\n",
      "Blob already exists and overwrite is set to False.\n",
      "Blob already exists and overwrite is set to False.\n"
     ]
    },
    {
     "name": "stderr",
     "output_type": "stream",
     "text": [
      "2023-08-31 21:50:57,953 - distributed.worker.memory - WARNING - Unmanaged memory use is high. This may indicate a memory leak or the memory may not be released to the OS; see https://distributed.dask.org/en/latest/worker-memory.html#memory-not-released-back-to-the-os for more information. -- Unmanaged memory: 7.16 GiB -- Worker memory limit: 10.67 GiB\n"
     ]
    },
    {
     "name": "stdout",
     "output_type": "stream",
     "text": [
      "Blob already exists and overwrite is set to False.\n"
     ]
    },
    {
     "name": "stderr",
     "output_type": "stream",
     "text": [
      "2023-08-31 21:50:58,689 - distributed.worker.memory - WARNING - Unmanaged memory use is high. This may indicate a memory leak or the memory may not be released to the OS; see https://distributed.dask.org/en/latest/worker-memory.html#memory-not-released-back-to-the-os for more information. -- Unmanaged memory: 8.05 GiB -- Worker memory limit: 10.67 GiB\n"
     ]
    },
    {
     "name": "stdout",
     "output_type": "stream",
     "text": [
      "Blob already exists and overwrite is set to False.\n"
     ]
    },
    {
     "name": "stderr",
     "output_type": "stream",
     "text": [
      "2023-08-31 21:51:00,527 - distributed.worker.memory - WARNING - Worker is at 81% memory usage. Pausing worker.  Process memory: 8.69 GiB -- Worker memory limit: 10.67 GiB\n",
      "2023-08-31 21:51:00,590 - distributed.worker.memory - WARNING - Worker is at 49% memory usage. Resuming worker. Process memory: 5.31 GiB -- Worker memory limit: 10.67 GiB\n"
     ]
    },
    {
     "name": "stdout",
     "output_type": "stream",
     "text": [
      "Blob already exists and overwrite is set to False.\n"
     ]
    },
    {
     "name": "stderr",
     "output_type": "stream",
     "text": [
      "2023-08-31 21:51:03,074 - distributed.worker.memory - WARNING - Unmanaged memory use is high. This may indicate a memory leak or the memory may not be released to the OS; see https://distributed.dask.org/en/latest/worker-memory.html#memory-not-released-back-to-the-os for more information. -- Unmanaged memory: 8.09 GiB -- Worker memory limit: 10.67 GiB\n"
     ]
    },
    {
     "name": "stdout",
     "output_type": "stream",
     "text": [
      "Blob already exists and overwrite is set to False.\n"
     ]
    },
    {
     "name": "stderr",
     "output_type": "stream",
     "text": [
      "2023-08-31 21:51:03,586 - distributed.worker.memory - WARNING - Worker is at 80% memory usage. Pausing worker.  Process memory: 8.54 GiB -- Worker memory limit: 10.67 GiB\n"
     ]
    },
    {
     "name": "stdout",
     "output_type": "stream",
     "text": [
      "Blob already exists and overwrite is set to False.\n"
     ]
    },
    {
     "name": "stderr",
     "output_type": "stream",
     "text": [
      "2023-08-31 21:51:03,798 - distributed.worker.memory - WARNING - Worker is at 39% memory usage. Resuming worker. Process memory: 4.17 GiB -- Worker memory limit: 10.67 GiB\n",
      "2023-08-31 21:51:04,018 - distributed.worker.memory - WARNING - Unmanaged memory use is high. This may indicate a memory leak or the memory may not be released to the OS; see https://distributed.dask.org/en/latest/worker-memory.html#memory-not-released-back-to-the-os for more information. -- Unmanaged memory: 7.91 GiB -- Worker memory limit: 10.67 GiB\n"
     ]
    },
    {
     "name": "stdout",
     "output_type": "stream",
     "text": [
      "Blob already exists and overwrite is set to False.\n",
      "Blob already exists and overwrite is set to False.\n"
     ]
    },
    {
     "name": "stderr",
     "output_type": "stream",
     "text": [
      "2023-08-31 21:51:04,330 - distributed.worker.memory - WARNING - Unmanaged memory use is high. This may indicate a memory leak or the memory may not be released to the OS; see https://distributed.dask.org/en/latest/worker-memory.html#memory-not-released-back-to-the-os for more information. -- Unmanaged memory: 6.80 GiB -- Worker memory limit: 10.67 GiB\n",
      "2023-08-31 21:51:04,919 - distributed.worker.memory - WARNING - Worker is at 80% memory usage. Pausing worker.  Process memory: 8.60 GiB -- Worker memory limit: 10.67 GiB\n",
      "2023-08-31 21:51:04,976 - distributed.worker.memory - WARNING - Worker is at 57% memory usage. Resuming worker. Process memory: 6.17 GiB -- Worker memory limit: 10.67 GiB\n",
      "2023-08-31 21:51:09,402 - distributed.worker.memory - WARNING - Unmanaged memory use is high. This may indicate a memory leak or the memory may not be released to the OS; see https://distributed.dask.org/en/latest/worker-memory.html#memory-not-released-back-to-the-os for more information. -- Unmanaged memory: 6.50 GiB -- Worker memory limit: 10.67 GiB\n",
      "2023-08-31 21:51:14,098 - distributed.worker.memory - WARNING - Unmanaged memory use is high. This may indicate a memory leak or the memory may not be released to the OS; see https://distributed.dask.org/en/latest/worker-memory.html#memory-not-released-back-to-the-os for more information. -- Unmanaged memory: 6.50 GiB -- Worker memory limit: 10.67 GiB\n"
     ]
    },
    {
     "name": "stdout",
     "output_type": "stream",
     "text": [
      "Blob already exists and overwrite is set to False.\n"
     ]
    },
    {
     "name": "stderr",
     "output_type": "stream",
     "text": [
      "2023-08-31 21:51:15,119 - distributed.worker.memory - WARNING - Unmanaged memory use is high. This may indicate a memory leak or the memory may not be released to the OS; see https://distributed.dask.org/en/latest/worker-memory.html#memory-not-released-back-to-the-os for more information. -- Unmanaged memory: 6.98 GiB -- Worker memory limit: 10.67 GiB\n",
      "2023-08-31 21:51:16,209 - distributed.worker.memory - WARNING - Unmanaged memory use is high. This may indicate a memory leak or the memory may not be released to the OS; see https://distributed.dask.org/en/latest/worker-memory.html#memory-not-released-back-to-the-os for more information. -- Unmanaged memory: 6.59 GiB -- Worker memory limit: 10.67 GiB\n"
     ]
    },
    {
     "name": "stdout",
     "output_type": "stream",
     "text": [
      "Blob already exists and overwrite is set to False.\n",
      "Blob already exists and overwrite is set to False.\n",
      "Blob already exists and overwrite is set to False.\n",
      "Blob already exists and overwrite is set to False.\n"
     ]
    },
    {
     "name": "stderr",
     "output_type": "stream",
     "text": [
      "2023-08-31 21:51:19,691 - distributed.worker.memory - WARNING - Unmanaged memory use is high. This may indicate a memory leak or the memory may not be released to the OS; see https://distributed.dask.org/en/latest/worker-memory.html#memory-not-released-back-to-the-os for more information. -- Unmanaged memory: 7.47 GiB -- Worker memory limit: 10.67 GiB\n",
      "2023-08-31 21:51:19,767 - distributed.worker.memory - WARNING - Unmanaged memory use is high. This may indicate a memory leak or the memory may not be released to the OS; see https://distributed.dask.org/en/latest/worker-memory.html#memory-not-released-back-to-the-os for more information. -- Unmanaged memory: 7.07 GiB -- Worker memory limit: 10.67 GiB\n"
     ]
    },
    {
     "name": "stdout",
     "output_type": "stream",
     "text": [
      "Blob already exists and overwrite is set to False.\n"
     ]
    },
    {
     "name": "stderr",
     "output_type": "stream",
     "text": [
      "2023-08-31 21:51:26,505 - distributed.worker.memory - WARNING - Unmanaged memory use is high. This may indicate a memory leak or the memory may not be released to the OS; see https://distributed.dask.org/en/latest/worker-memory.html#memory-not-released-back-to-the-os for more information. -- Unmanaged memory: 7.46 GiB -- Worker memory limit: 10.67 GiB\n"
     ]
    },
    {
     "name": "stdout",
     "output_type": "stream",
     "text": [
      "Blob already exists and overwrite is set to False.\n",
      "Blob already exists and overwrite is set to False.\n",
      "Blob already exists and overwrite is set to False.\n"
     ]
    },
    {
     "name": "stderr",
     "output_type": "stream",
     "text": [
      "2023-08-31 21:51:29,798 - distributed.worker.memory - WARNING - Unmanaged memory use is high. This may indicate a memory leak or the memory may not be released to the OS; see https://distributed.dask.org/en/latest/worker-memory.html#memory-not-released-back-to-the-os for more information. -- Unmanaged memory: 7.63 GiB -- Worker memory limit: 10.67 GiB\n"
     ]
    },
    {
     "name": "stdout",
     "output_type": "stream",
     "text": [
      "Blob already exists and overwrite is set to False.\n",
      "Blob already exists and overwrite is set to False.\n"
     ]
    },
    {
     "name": "stderr",
     "output_type": "stream",
     "text": [
      "2023-08-31 21:51:30,925 - distributed.worker.memory - WARNING - Unmanaged memory use is high. This may indicate a memory leak or the memory may not be released to the OS; see https://distributed.dask.org/en/latest/worker-memory.html#memory-not-released-back-to-the-os for more information. -- Unmanaged memory: 6.52 GiB -- Worker memory limit: 10.67 GiB\n"
     ]
    },
    {
     "name": "stdout",
     "output_type": "stream",
     "text": [
      "Blob already exists and overwrite is set to False.\n"
     ]
    },
    {
     "name": "stderr",
     "output_type": "stream",
     "text": [
      "2023-08-31 21:51:33,705 - distributed.worker.memory - WARNING - Unmanaged memory use is high. This may indicate a memory leak or the memory may not be released to the OS; see https://distributed.dask.org/en/latest/worker-memory.html#memory-not-released-back-to-the-os for more information. -- Unmanaged memory: 7.05 GiB -- Worker memory limit: 10.67 GiB\n"
     ]
    },
    {
     "name": "stdout",
     "output_type": "stream",
     "text": [
      "Blob already exists and overwrite is set to False.\n"
     ]
    },
    {
     "name": "stderr",
     "output_type": "stream",
     "text": [
      "2023-08-31 21:51:35,581 - distributed.worker.memory - WARNING - Unmanaged memory use is high. This may indicate a memory leak or the memory may not be released to the OS; see https://distributed.dask.org/en/latest/worker-memory.html#memory-not-released-back-to-the-os for more information. -- Unmanaged memory: 7.96 GiB -- Worker memory limit: 10.67 GiB\n"
     ]
    },
    {
     "name": "stdout",
     "output_type": "stream",
     "text": [
      "Blob already exists and overwrite is set to False.\n",
      "Blob already exists and overwrite is set to False.\n",
      "Blob already exists and overwrite is set to False.\n",
      "Blob already exists and overwrite is set to False.\n"
     ]
    },
    {
     "name": "stderr",
     "output_type": "stream",
     "text": [
      "2023-08-31 21:51:37,021 - distributed.worker.memory - WARNING - Worker is at 83% memory usage. Pausing worker.  Process memory: 8.86 GiB -- Worker memory limit: 10.67 GiB\n",
      "2023-08-31 21:51:37,056 - distributed.worker.memory - WARNING - Worker is at 82% memory usage. Pausing worker.  Process memory: 8.75 GiB -- Worker memory limit: 10.67 GiB\n",
      "2023-08-31 21:51:37,072 - distributed.worker.memory - WARNING - Worker is at 74% memory usage. Resuming worker. Process memory: 7.94 GiB -- Worker memory limit: 10.67 GiB\n",
      "2023-08-31 21:51:37,271 - distributed.worker.memory - WARNING - Worker is at 58% memory usage. Resuming worker. Process memory: 6.24 GiB -- Worker memory limit: 10.67 GiB\n"
     ]
    },
    {
     "name": "stdout",
     "output_type": "stream",
     "text": [
      "Blob already exists and overwrite is set to False.\n"
     ]
    },
    {
     "name": "stderr",
     "output_type": "stream",
     "text": [
      "2023-08-31 21:51:37,691 - distributed.worker.memory - WARNING - Unmanaged memory use is high. This may indicate a memory leak or the memory may not be released to the OS; see https://distributed.dask.org/en/latest/worker-memory.html#memory-not-released-back-to-the-os for more information. -- Unmanaged memory: 7.70 GiB -- Worker memory limit: 10.67 GiB\n",
      "2023-08-31 21:51:43,772 - distributed.worker.memory - WARNING - Unmanaged memory use is high. This may indicate a memory leak or the memory may not be released to the OS; see https://distributed.dask.org/en/latest/worker-memory.html#memory-not-released-back-to-the-os for more information. -- Unmanaged memory: 7.54 GiB -- Worker memory limit: 10.67 GiB\n",
      "2023-08-31 21:51:46,088 - distributed.worker.memory - WARNING - Worker is at 83% memory usage. Pausing worker.  Process memory: 8.86 GiB -- Worker memory limit: 10.67 GiB\n",
      "2023-08-31 21:51:46,357 - distributed.worker.memory - WARNING - Worker is at 58% memory usage. Resuming worker. Process memory: 6.21 GiB -- Worker memory limit: 10.67 GiB\n"
     ]
    },
    {
     "name": "stdout",
     "output_type": "stream",
     "text": [
      "Blob already exists and overwrite is set to False.\n",
      "Blob already exists and overwrite is set to False.\n"
     ]
    },
    {
     "name": "stderr",
     "output_type": "stream",
     "text": [
      "2023-08-31 21:51:47,967 - distributed.worker.memory - WARNING - Unmanaged memory use is high. This may indicate a memory leak or the memory may not be released to the OS; see https://distributed.dask.org/en/latest/worker-memory.html#memory-not-released-back-to-the-os for more information. -- Unmanaged memory: 7.81 GiB -- Worker memory limit: 10.67 GiB\n"
     ]
    },
    {
     "name": "stdout",
     "output_type": "stream",
     "text": [
      "Blob already exists and overwrite is set to False.\n"
     ]
    },
    {
     "name": "stderr",
     "output_type": "stream",
     "text": [
      "2023-08-31 21:51:48,592 - distributed.worker.memory - WARNING - Unmanaged memory use is high. This may indicate a memory leak or the memory may not be released to the OS; see https://distributed.dask.org/en/latest/worker-memory.html#memory-not-released-back-to-the-os for more information. -- Unmanaged memory: 7.31 GiB -- Worker memory limit: 10.67 GiB\n"
     ]
    },
    {
     "name": "stdout",
     "output_type": "stream",
     "text": [
      "Blob already exists and overwrite is set to False.\n"
     ]
    },
    {
     "name": "stderr",
     "output_type": "stream",
     "text": [
      "2023-08-31 21:51:49,699 - distributed.worker.memory - WARNING - Worker is at 82% memory usage. Pausing worker.  Process memory: 8.83 GiB -- Worker memory limit: 10.67 GiB\n",
      "2023-08-31 21:51:49,789 - distributed.worker.memory - WARNING - Worker is at 72% memory usage. Resuming worker. Process memory: 7.76 GiB -- Worker memory limit: 10.67 GiB\n",
      "2023-08-31 21:51:49,925 - distributed.worker.memory - WARNING - Unmanaged memory use is high. This may indicate a memory leak or the memory may not be released to the OS; see https://distributed.dask.org/en/latest/worker-memory.html#memory-not-released-back-to-the-os for more information. -- Unmanaged memory: 7.46 GiB -- Worker memory limit: 10.67 GiB\n"
     ]
    },
    {
     "name": "stdout",
     "output_type": "stream",
     "text": [
      "Blob already exists and overwrite is set to False.\n",
      "Blob already exists and overwrite is set to False.\n",
      "Blob already exists and overwrite is set to False.\n",
      "Blob already exists and overwrite is set to False.\n"
     ]
    },
    {
     "name": "stderr",
     "output_type": "stream",
     "text": [
      "2023-08-31 21:51:52,776 - distributed.worker.memory - WARNING - Worker is at 80% memory usage. Pausing worker.  Process memory: 8.58 GiB -- Worker memory limit: 10.67 GiB\n",
      "2023-08-31 21:51:52,901 - distributed.worker.memory - WARNING - Worker is at 63% memory usage. Resuming worker. Process memory: 6.77 GiB -- Worker memory limit: 10.67 GiB\n"
     ]
    },
    {
     "name": "stdout",
     "output_type": "stream",
     "text": [
      "Blob already exists and overwrite is set to False.\n",
      "Blob already exists and overwrite is set to False.\n"
     ]
    },
    {
     "name": "stderr",
     "output_type": "stream",
     "text": [
      "2023-08-31 21:51:54,184 - distributed.worker.memory - WARNING - Unmanaged memory use is high. This may indicate a memory leak or the memory may not be released to the OS; see https://distributed.dask.org/en/latest/worker-memory.html#memory-not-released-back-to-the-os for more information. -- Unmanaged memory: 6.50 GiB -- Worker memory limit: 10.67 GiB\n",
      "2023-08-31 21:51:55,103 - distributed.worker.memory - WARNING - Unmanaged memory use is high. This may indicate a memory leak or the memory may not be released to the OS; see https://distributed.dask.org/en/latest/worker-memory.html#memory-not-released-back-to-the-os for more information. -- Unmanaged memory: 7.61 GiB -- Worker memory limit: 10.67 GiB\n"
     ]
    },
    {
     "name": "stdout",
     "output_type": "stream",
     "text": [
      "Blob already exists and overwrite is set to False.\n",
      "Blob already exists and overwrite is set to False.\n"
     ]
    },
    {
     "name": "stderr",
     "output_type": "stream",
     "text": [
      "2023-08-31 21:51:57,920 - distributed.worker.memory - WARNING - Unmanaged memory use is high. This may indicate a memory leak or the memory may not be released to the OS; see https://distributed.dask.org/en/latest/worker-memory.html#memory-not-released-back-to-the-os for more information. -- Unmanaged memory: 6.55 GiB -- Worker memory limit: 10.67 GiB\n",
      "2023-08-31 21:51:58,123 - distributed.worker.memory - WARNING - Worker is at 80% memory usage. Pausing worker.  Process memory: 8.62 GiB -- Worker memory limit: 10.67 GiB\n",
      "2023-08-31 21:51:58,190 - distributed.worker.memory - WARNING - Worker is at 50% memory usage. Resuming worker. Process memory: 5.37 GiB -- Worker memory limit: 10.67 GiB\n",
      "2023-08-31 21:52:00,203 - distributed.worker.memory - WARNING - Unmanaged memory use is high. This may indicate a memory leak or the memory may not be released to the OS; see https://distributed.dask.org/en/latest/worker-memory.html#memory-not-released-back-to-the-os for more information. -- Unmanaged memory: 6.50 GiB -- Worker memory limit: 10.67 GiB\n",
      "2023-08-31 21:52:01,130 - distributed.worker.memory - WARNING - Unmanaged memory use is high. This may indicate a memory leak or the memory may not be released to the OS; see https://distributed.dask.org/en/latest/worker-memory.html#memory-not-released-back-to-the-os for more information. -- Unmanaged memory: 6.51 GiB -- Worker memory limit: 10.67 GiB\n"
     ]
    },
    {
     "name": "stdout",
     "output_type": "stream",
     "text": [
      "Blob already exists and overwrite is set to False.\n"
     ]
    },
    {
     "name": "stderr",
     "output_type": "stream",
     "text": [
      "2023-08-31 21:52:05,602 - distributed.worker.memory - WARNING - Unmanaged memory use is high. This may indicate a memory leak or the memory may not be released to the OS; see https://distributed.dask.org/en/latest/worker-memory.html#memory-not-released-back-to-the-os for more information. -- Unmanaged memory: 6.49 GiB -- Worker memory limit: 10.67 GiB\n",
      "2023-08-31 21:52:06,881 - distributed.worker.memory - WARNING - Worker is at 82% memory usage. Pausing worker.  Process memory: 8.84 GiB -- Worker memory limit: 10.67 GiB\n",
      "2023-08-31 21:52:07,109 - distributed.worker.memory - WARNING - Worker is at 51% memory usage. Resuming worker. Process memory: 5.47 GiB -- Worker memory limit: 10.67 GiB\n"
     ]
    },
    {
     "name": "stdout",
     "output_type": "stream",
     "text": [
      "Blob already exists and overwrite is set to False.\n",
      "Blob already exists and overwrite is set to False.\n",
      "Blob already exists and overwrite is set to False.\n",
      "Blob already exists and overwrite is set to False.\n"
     ]
    },
    {
     "name": "stderr",
     "output_type": "stream",
     "text": [
      "2023-08-31 21:52:08,669 - distributed.worker.memory - WARNING - Unmanaged memory use is high. This may indicate a memory leak or the memory may not be released to the OS; see https://distributed.dask.org/en/latest/worker-memory.html#memory-not-released-back-to-the-os for more information. -- Unmanaged memory: 6.43 GiB -- Worker memory limit: 10.67 GiB\n"
     ]
    },
    {
     "name": "stdout",
     "output_type": "stream",
     "text": [
      "Blob already exists and overwrite is set to False.\n",
      "Blob already exists and overwrite is set to False.\n",
      "Blob already exists and overwrite is set to False.\n"
     ]
    },
    {
     "name": "stderr",
     "output_type": "stream",
     "text": [
      "2023-08-31 21:52:11,279 - distributed.worker.memory - WARNING - Unmanaged memory use is high. This may indicate a memory leak or the memory may not be released to the OS; see https://distributed.dask.org/en/latest/worker-memory.html#memory-not-released-back-to-the-os for more information. -- Unmanaged memory: 7.95 GiB -- Worker memory limit: 10.67 GiB\n",
      "2023-08-31 21:52:11,421 - distributed.worker.memory - WARNING - Unmanaged memory use is high. This may indicate a memory leak or the memory may not be released to the OS; see https://distributed.dask.org/en/latest/worker-memory.html#memory-not-released-back-to-the-os for more information. -- Unmanaged memory: 7.47 GiB -- Worker memory limit: 10.67 GiB\n"
     ]
    },
    {
     "name": "stdout",
     "output_type": "stream",
     "text": [
      "Blob already exists and overwrite is set to False.\n",
      "Blob already exists and overwrite is set to False.\n"
     ]
    },
    {
     "name": "stderr",
     "output_type": "stream",
     "text": [
      "2023-08-31 21:52:12,898 - distributed.worker.memory - WARNING - Unmanaged memory use is high. This may indicate a memory leak or the memory may not be released to the OS; see https://distributed.dask.org/en/latest/worker-memory.html#memory-not-released-back-to-the-os for more information. -- Unmanaged memory: 7.47 GiB -- Worker memory limit: 10.67 GiB\n"
     ]
    },
    {
     "name": "stdout",
     "output_type": "stream",
     "text": [
      "Blob already exists and overwrite is set to False.\n",
      "Blob already exists and overwrite is set to False.\n",
      "Blob already exists and overwrite is set to False.\n"
     ]
    },
    {
     "name": "stderr",
     "output_type": "stream",
     "text": [
      "2023-08-31 21:52:18,688 - distributed.worker.memory - WARNING - Unmanaged memory use is high. This may indicate a memory leak or the memory may not be released to the OS; see https://distributed.dask.org/en/latest/worker-memory.html#memory-not-released-back-to-the-os for more information. -- Unmanaged memory: 6.51 GiB -- Worker memory limit: 10.67 GiB\n",
      "2023-08-31 21:52:22,618 - distributed.worker.memory - WARNING - Unmanaged memory use is high. This may indicate a memory leak or the memory may not be released to the OS; see https://distributed.dask.org/en/latest/worker-memory.html#memory-not-released-back-to-the-os for more information. -- Unmanaged memory: 8.41 GiB -- Worker memory limit: 10.67 GiB\n",
      "2023-08-31 21:52:22,691 - distributed.worker.memory - WARNING - Unmanaged memory use is high. This may indicate a memory leak or the memory may not be released to the OS; see https://distributed.dask.org/en/latest/worker-memory.html#memory-not-released-back-to-the-os for more information. -- Unmanaged memory: 7.47 GiB -- Worker memory limit: 10.67 GiB\n"
     ]
    },
    {
     "name": "stdout",
     "output_type": "stream",
     "text": [
      "Blob already exists and overwrite is set to False.\n"
     ]
    },
    {
     "name": "stderr",
     "output_type": "stream",
     "text": [
      "2023-08-31 21:52:22,997 - distributed.worker.memory - WARNING - Unmanaged memory use is high. This may indicate a memory leak or the memory may not be released to the OS; see https://distributed.dask.org/en/latest/worker-memory.html#memory-not-released-back-to-the-os for more information. -- Unmanaged memory: 8.04 GiB -- Worker memory limit: 10.67 GiB\n",
      "2023-08-31 21:52:23,478 - distributed.worker.memory - WARNING - Worker is at 84% memory usage. Pausing worker.  Process memory: 9.03 GiB -- Worker memory limit: 10.67 GiB\n",
      "2023-08-31 21:52:23,588 - distributed.worker.memory - WARNING - Worker is at 56% memory usage. Resuming worker. Process memory: 6.03 GiB -- Worker memory limit: 10.67 GiB\n",
      "2023-08-31 21:52:23,791 - distributed.worker.memory - WARNING - Worker is at 80% memory usage. Pausing worker.  Process memory: 8.58 GiB -- Worker memory limit: 10.67 GiB\n",
      "2023-08-31 21:52:24,031 - distributed.worker.memory - WARNING - Worker is at 71% memory usage. Resuming worker. Process memory: 7.64 GiB -- Worker memory limit: 10.67 GiB\n"
     ]
    },
    {
     "name": "stdout",
     "output_type": "stream",
     "text": [
      "Blob already exists and overwrite is set to False.\n",
      "Blob already exists and overwrite is set to False.\n",
      "Blob already exists and overwrite is set to False.\n"
     ]
    },
    {
     "name": "stderr",
     "output_type": "stream",
     "text": [
      "2023-08-31 21:52:28,617 - distributed.worker.memory - WARNING - Unmanaged memory use is high. This may indicate a memory leak or the memory may not be released to the OS; see https://distributed.dask.org/en/latest/worker-memory.html#memory-not-released-back-to-the-os for more information. -- Unmanaged memory: 7.47 GiB -- Worker memory limit: 10.67 GiB\n",
      "2023-08-31 21:52:29,113 - distributed.worker.memory - WARNING - Unmanaged memory use is high. This may indicate a memory leak or the memory may not be released to the OS; see https://distributed.dask.org/en/latest/worker-memory.html#memory-not-released-back-to-the-os for more information. -- Unmanaged memory: 7.41 GiB -- Worker memory limit: 10.67 GiB\n"
     ]
    },
    {
     "name": "stdout",
     "output_type": "stream",
     "text": [
      "Blob already exists and overwrite is set to False.\n",
      "Blob already exists and overwrite is set to False.\n",
      "Blob already exists and overwrite is set to False.\n"
     ]
    },
    {
     "name": "stderr",
     "output_type": "stream",
     "text": [
      "2023-08-31 21:52:31,134 - distributed.worker.memory - WARNING - Unmanaged memory use is high. This may indicate a memory leak or the memory may not be released to the OS; see https://distributed.dask.org/en/latest/worker-memory.html#memory-not-released-back-to-the-os for more information. -- Unmanaged memory: 6.65 GiB -- Worker memory limit: 10.67 GiB\n"
     ]
    },
    {
     "name": "stdout",
     "output_type": "stream",
     "text": [
      "Blob already exists and overwrite is set to False.\n"
     ]
    },
    {
     "name": "stderr",
     "output_type": "stream",
     "text": [
      "2023-08-31 21:52:35,917 - distributed.worker.memory - WARNING - Unmanaged memory use is high. This may indicate a memory leak or the memory may not be released to the OS; see https://distributed.dask.org/en/latest/worker-memory.html#memory-not-released-back-to-the-os for more information. -- Unmanaged memory: 6.74 GiB -- Worker memory limit: 10.67 GiB\n"
     ]
    },
    {
     "name": "stdout",
     "output_type": "stream",
     "text": [
      "Blob already exists and overwrite is set to False.\n"
     ]
    },
    {
     "name": "stderr",
     "output_type": "stream",
     "text": [
      "2023-08-31 21:52:36,958 - distributed.worker.memory - WARNING - Unmanaged memory use is high. This may indicate a memory leak or the memory may not be released to the OS; see https://distributed.dask.org/en/latest/worker-memory.html#memory-not-released-back-to-the-os for more information. -- Unmanaged memory: 6.62 GiB -- Worker memory limit: 10.67 GiB\n",
      "2023-08-31 21:52:37,392 - distributed.worker.memory - WARNING - Worker is at 80% memory usage. Pausing worker.  Process memory: 8.54 GiB -- Worker memory limit: 10.67 GiB\n",
      "2023-08-31 21:52:37,477 - distributed.worker.memory - WARNING - Worker is at 52% memory usage. Resuming worker. Process memory: 5.56 GiB -- Worker memory limit: 10.67 GiB\n"
     ]
    },
    {
     "name": "stdout",
     "output_type": "stream",
     "text": [
      "Blob already exists and overwrite is set to False.\n",
      "Blob already exists and overwrite is set to False.\n"
     ]
    },
    {
     "name": "stderr",
     "output_type": "stream",
     "text": [
      "2023-08-31 21:52:39,538 - distributed.worker.memory - WARNING - Worker is at 81% memory usage. Pausing worker.  Process memory: 8.71 GiB -- Worker memory limit: 10.67 GiB\n",
      "2023-08-31 21:52:39,713 - distributed.worker.memory - WARNING - Worker is at 72% memory usage. Resuming worker. Process memory: 7.71 GiB -- Worker memory limit: 10.67 GiB\n"
     ]
    },
    {
     "name": "stdout",
     "output_type": "stream",
     "text": [
      "Blob already exists and overwrite is set to False.\n"
     ]
    },
    {
     "name": "stderr",
     "output_type": "stream",
     "text": [
      "2023-08-31 21:52:41,581 - distributed.worker.memory - WARNING - Unmanaged memory use is high. This may indicate a memory leak or the memory may not be released to the OS; see https://distributed.dask.org/en/latest/worker-memory.html#memory-not-released-back-to-the-os for more information. -- Unmanaged memory: 8.28 GiB -- Worker memory limit: 10.67 GiB\n",
      "2023-08-31 21:52:41,680 - distributed.worker.memory - WARNING - Worker is at 81% memory usage. Pausing worker.  Process memory: 8.67 GiB -- Worker memory limit: 10.67 GiB\n",
      "2023-08-31 21:52:41,791 - distributed.worker.memory - WARNING - Worker is at 75% memory usage. Resuming worker. Process memory: 8.06 GiB -- Worker memory limit: 10.67 GiB\n"
     ]
    },
    {
     "name": "stdout",
     "output_type": "stream",
     "text": [
      "Blob already exists and overwrite is set to False.\n"
     ]
    },
    {
     "name": "stderr",
     "output_type": "stream",
     "text": [
      "2023-08-31 21:52:42,072 - distributed.worker.memory - WARNING - Worker is at 80% memory usage. Pausing worker.  Process memory: 8.58 GiB -- Worker memory limit: 10.67 GiB\n",
      "2023-08-31 21:52:42,472 - distributed.worker.memory - WARNING - Worker is at 72% memory usage. Resuming worker. Process memory: 7.77 GiB -- Worker memory limit: 10.67 GiB\n"
     ]
    },
    {
     "name": "stdout",
     "output_type": "stream",
     "text": [
      "Blob already exists and overwrite is set to False.\n"
     ]
    },
    {
     "name": "stderr",
     "output_type": "stream",
     "text": [
      "2023-08-31 21:52:42,840 - distributed.worker.memory - WARNING - Unmanaged memory use is high. This may indicate a memory leak or the memory may not be released to the OS; see https://distributed.dask.org/en/latest/worker-memory.html#memory-not-released-back-to-the-os for more information. -- Unmanaged memory: 7.51 GiB -- Worker memory limit: 10.67 GiB\n",
      "2023-08-31 21:52:45,656 - distributed.worker.memory - WARNING - Worker is at 80% memory usage. Pausing worker.  Process memory: 8.55 GiB -- Worker memory limit: 10.67 GiB\n",
      "2023-08-31 21:52:45,887 - distributed.worker.memory - WARNING - Worker is at 50% memory usage. Resuming worker. Process memory: 5.37 GiB -- Worker memory limit: 10.67 GiB\n"
     ]
    },
    {
     "name": "stdout",
     "output_type": "stream",
     "text": [
      "Blob already exists and overwrite is set to False.\n"
     ]
    },
    {
     "name": "stderr",
     "output_type": "stream",
     "text": [
      "2023-08-31 21:52:47,798 - distributed.worker.memory - WARNING - Unmanaged memory use is high. This may indicate a memory leak or the memory may not be released to the OS; see https://distributed.dask.org/en/latest/worker-memory.html#memory-not-released-back-to-the-os for more information. -- Unmanaged memory: 7.47 GiB -- Worker memory limit: 10.67 GiB\n"
     ]
    },
    {
     "name": "stdout",
     "output_type": "stream",
     "text": [
      "Blob already exists and overwrite is set to False.\n",
      "Blob already exists and overwrite is set to False.\n"
     ]
    },
    {
     "name": "stderr",
     "output_type": "stream",
     "text": [
      "2023-08-31 21:52:52,977 - distributed.worker.memory - WARNING - Unmanaged memory use is high. This may indicate a memory leak or the memory may not be released to the OS; see https://distributed.dask.org/en/latest/worker-memory.html#memory-not-released-back-to-the-os for more information. -- Unmanaged memory: 7.47 GiB -- Worker memory limit: 10.67 GiB\n",
      "2023-08-31 21:52:53,682 - distributed.worker.memory - WARNING - Unmanaged memory use is high. This may indicate a memory leak or the memory may not be released to the OS; see https://distributed.dask.org/en/latest/worker-memory.html#memory-not-released-back-to-the-os for more information. -- Unmanaged memory: 6.50 GiB -- Worker memory limit: 10.67 GiB\n"
     ]
    },
    {
     "name": "stdout",
     "output_type": "stream",
     "text": [
      "Blob already exists and overwrite is set to False.\n",
      "Blob already exists and overwrite is set to False.\n",
      "Blob already exists and overwrite is set to False.\n",
      "Blob already exists and overwrite is set to False.\n"
     ]
    },
    {
     "name": "stderr",
     "output_type": "stream",
     "text": [
      "2023-08-31 21:52:57,158 - distributed.worker.memory - WARNING - Unmanaged memory use is high. This may indicate a memory leak or the memory may not be released to the OS; see https://distributed.dask.org/en/latest/worker-memory.html#memory-not-released-back-to-the-os for more information. -- Unmanaged memory: 7.48 GiB -- Worker memory limit: 10.67 GiB\n"
     ]
    },
    {
     "name": "stdout",
     "output_type": "stream",
     "text": [
      "Blob already exists and overwrite is set to False.\n"
     ]
    },
    {
     "name": "stderr",
     "output_type": "stream",
     "text": [
      "2023-08-31 21:52:57,445 - distributed.worker.memory - WARNING - Unmanaged memory use is high. This may indicate a memory leak or the memory may not be released to the OS; see https://distributed.dask.org/en/latest/worker-memory.html#memory-not-released-back-to-the-os for more information. -- Unmanaged memory: 6.96 GiB -- Worker memory limit: 10.67 GiB\n"
     ]
    },
    {
     "name": "stdout",
     "output_type": "stream",
     "text": [
      "Blob already exists and overwrite is set to False.\n"
     ]
    }
   ],
   "source": [
    "def generate_slices(num_chunks: int, chunk_size: int) -> Tuple[slice, slice]:\n",
    "    \"\"\"Generate slices for chunk-based iteration.\"\"\"\n",
    "    for i in range(num_chunks):\n",
    "        yield slice(i * chunk_size, (i + 1) * chunk_size)\n",
    "\n",
    "\n",
    "cm = xr.open_dataset(\n",
    "    CM_FP, engine=\"rasterio\", mask_and_scale=False\n",
    ")  # .isel({\"x\":slice(0, 40000), \"y\":slice(0, 40000)})\n",
    "cm = cm.assign_coords(band=(\"band\", [f\"B{k+1:02}\" for k in range(cm.dims[\"band\"])]))\n",
    "cm = cm[\"band_data\"].to_dataset(\"band\")\n",
    "\n",
    "# Usage:\n",
    "profile_options = {\n",
    "    \"driver\": \"COG\",\n",
    "    \"dtype\": \"uint8\",\n",
    "    \"compress\": \"DEFLATE\",\n",
    "    \"interleave\": \"band\",\n",
    "    \"ZLEVEL\": 9,\n",
    "    \"predictor\": 1,\n",
    "}\n",
    "storage_options = {\"token\": \"google_default\"}\n",
    "\n",
    "chunk_size = 2**14  # 16384, which is large, but OK for int8 datatype.\n",
    "\n",
    "cm_chunked = cm.chunk({\"x\": chunk_size, \"y\": chunk_size})\n",
    "\n",
    "num_x_chunks = math.ceil(cm_chunked.dims[\"x\"] / chunk_size)\n",
    "num_y_chunks = math.ceil(cm_chunked.dims[\"y\"] / chunk_size)\n",
    "\n",
    "delayed_items = []\n",
    "\n",
    "for x_slice in generate_slices(num_x_chunks, chunk_size):\n",
    "    for y_slice in generate_slices(num_y_chunks, chunk_size):\n",
    "        chunk = cm_chunked.isel(x=x_slice, y=y_slice)\n",
    "\n",
    "        # Process the chunk using a delayed function\n",
    "        delayed_item = dask.delayed(process_block)(\n",
    "            chunk,\n",
    "            resolution=30,\n",
    "            data_type=raster.DataType.UINT8,\n",
    "            storage_prefix=HREF_PREFIX,\n",
    "            name_prefix=\"\",\n",
    "            include_band=\"\",\n",
    "            time_dim=False,\n",
    "            x_dim=\"x\",\n",
    "            y_dim=\"y\",\n",
    "            profile_options=profile_options,\n",
    "            storage_options=storage_options,\n",
    "        )\n",
    "\n",
    "        delayed_items.append(delayed_item)\n",
    "\n",
    "items = dask.compute(*delayed_items)"
   ]
  },
  {
   "cell_type": "code",
   "execution_count": null,
   "id": "cafbbb2d-57b3-4387-8292-bdd3d52127d4",
   "metadata": {
    "tags": []
   },
   "outputs": [],
   "source": [
    "stac_io = CoCliCoStacIO()\n",
    "layout = CoCliCoCOGLayout()\n",
    "\n",
    "collection = create_collection()\n",
    "\n",
    "for i in items:\n",
    "    collection.add_item(i)\n",
    "\n",
    "collection.update_extent_from_items()\n",
    "\n",
    "\n",
    "catalog = pystac.Catalog.from_file(str(STAC_DIR / \"catalog.json\"))\n",
    "\n",
    "if catalog.get_child(collection.id):\n",
    "    catalog.remove_child(collection.id)\n",
    "    print(f\"Removed child: {collection.id}.\")\n",
    "\n",
    "catalog.add_child(collection)\n",
    "\n",
    "collection.normalize_hrefs(str(STAC_DIR / collection.id), strategy=layout)\n",
    "\n",
    "catalog.save(\n",
    "    catalog_type=pystac.CatalogType.SELF_CONTAINED,\n",
    "    dest_href=str(STAC_DIR),\n",
    "    stac_io=stac_io,\n",
    ")"
   ]
  },
  {
   "cell_type": "code",
   "execution_count": null,
   "id": "18c43b86-5aa2-4347-9197-998874642121",
   "metadata": {
    "tags": []
   },
   "outputs": [],
   "source": [
    "collection.validate_all()"
   ]
  },
  {
   "cell_type": "code",
   "execution_count": null,
   "id": "16c06c18-7330-42bc-b4b9-c1d6dd5e5614",
   "metadata": {
    "tags": []
   },
   "outputs": [],
   "source": [
    "catalog.validate_all()"
   ]
  },
  {
   "cell_type": "code",
   "execution_count": null,
   "id": "a1f31555-d4bd-48a8-ad53-ab1667b463a9",
   "metadata": {},
   "outputs": [],
   "source": []
  }
 ],
 "metadata": {
  "kernelspec": {
   "display_name": "Python [conda env:testenv]",
   "language": "python",
   "name": "conda-env-testenv-py"
  },
  "language_info": {
   "codemirror_mode": {
    "name": "ipython",
    "version": 3
   },
   "file_extension": ".py",
   "mimetype": "text/x-python",
   "name": "python",
   "nbconvert_exporter": "python",
   "pygments_lexer": "ipython3",
   "version": "3.11.4"
  }
 },
 "nbformat": 4,
 "nbformat_minor": 5
}
