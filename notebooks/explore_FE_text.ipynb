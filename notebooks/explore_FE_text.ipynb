{
 "cells": [
  {
   "cell_type": "code",
   "execution_count": 10,
   "metadata": {},
   "outputs": [],
   "source": [
    "import pandas as pd\n",
    "import pystac_client\n",
    "from pathlib import Path\n"
   ]
  },
  {
   "cell_type": "code",
   "execution_count": 46,
   "metadata": {},
   "outputs": [
    {
     "data": {
      "text/plain": [
       "'Flood Maps'"
      ]
     },
     "execution_count": 46,
     "metadata": {},
     "output_type": "execute_result"
    }
   ],
   "source": [
    "fe_text_file = Path(r\"p:\\11207608-coclico\\docs\\FE_text_titles.xlsx\")\n",
    "fe_text = pd.read_excel(fe_text_file, sheet_name=\"Sheet1\")\n",
    "fe_text\n",
    "\n",
    "fe_text.loc[fe_text[\"Collection\"] == \"cfhp\", \"Title\"].values[0]"
   ]
  },
  {
   "cell_type": "code",
   "execution_count": null,
   "metadata": {},
   "outputs": [
    {
     "name": "stdout",
     "output_type": "stream",
     "text": [
      "Inundation distribution during flood events\n",
      "This is a collection of maps representing the flood simulation across Europe for different scenarios\n"
     ]
    },
    {
     "name": "stderr",
     "output_type": "stream",
     "text": [
      "c:\\SnapVolumesTemp\\MountPoints\\{45c63495-0000-0000-0000-100000000000}\\{93A17D55-84E7-4E6A-A12F-F4ABFCE7437E}\\SVROOT\\Users\\soest\\AppData\\Local\\mambaforge\\envs\\coclico\\Lib\\site-packages\\pystac_client\\client.py:187: NoConformsTo: Server does not advertise any conformance classes.\n",
      "  warnings.warn(NoConformsTo())\n"
     ]
    }
   ],
   "source": [
    "# Set up function for checking a collection based on a list of titles\n",
    "\n",
    "def update_collection_FE_text(collection, fe_text_file):\n",
    "\n",
    "    # Load FE_text excel file\n",
    "    fe_text = pd.read_excel(fe_text_file, sheet_name=\"Sheet1\")\n",
    "\n",
    "    # Check if collection ID is in the FE_text\n",
    "    collection_id = collection.id\n",
    "\n",
    "    if not fe_text[fe_text[\"Collection\"] == collection_id].empty:\n",
    "        print('Collection found in FE-text, metadata will be updated...')\n",
    "\n",
    "        # Change collection title\n",
    "        collection.title = fe_text.loc[fe_text[\"Collection\"] == collection_id, \"Title\"].values[0]\n",
    "\n",
    "        # Change descriptions\n",
    "        collection.description = fe_text.loc[fe_text[\"Collection\"] == collection_id, \"Markdown\"].values[0]\n",
    "\n",
    "    else:\n",
    "        print('Collection not found in FE-text, no metadata update needed...')\n",
    "\n",
    "def update_catalog_FE_text(catalog, fe_text_file):\n",
    "    \n",
    "    # Load FE_text excel file\n",
    "    fe_text = pd.read_excel(fe_text_file, sheet_name=\"Sheet1\")\n",
    "\n",
    "    # Get all collections from FE_text\n",
    "    fe_collections = fe_text[\"Collection\"].unique()\n",
    "\n",
    "    # Loop through collections and update metadata\n",
    "    for fe_collection_id in fe_collections:\n",
    "\n",
    "        # Check if collection_id exists in the catalog\n",
    "        if not catalog.get_child(fe_collection_id):\n",
    "            print(f'Collection {fe_collection_id} not found in catalog, skipping...')\n",
    "            continue\n",
    "\n",
    "        print(f'Updating collection: {fe_collection_id}')\n",
    "        collection = catalog.get_child(fe_collection_id)\n",
    "        update_collection_FE_text(collection, fe_text_file)\n",
    "\n",
    "# Load catalog using pystac_client\n",
    "catalog = pystac_client.Client.open(\"https://storage.googleapis.com/coclico-data-public/coclico/coclico-stac/catalog.json\")\n",
    "\n",
    "# Load collection\n",
    "collection = catalog.get_child(\"cfhp\")\n",
    "\n",
    "print(collection.title)\n",
    "print(collection.description)"
   ]
  },
  {
   "cell_type": "code",
   "execution_count": 70,
   "metadata": {},
   "outputs": [
    {
     "name": "stdout",
     "output_type": "stream",
     "text": [
      "Updating collection: slp\n",
      "Collection found in FE-text, metadata will be updated...\n",
      "Updating collection: ssl\n",
      "Collection found in FE-text, metadata will be updated...\n",
      "Updating collection: eesl\n",
      "Collection found in FE-text, metadata will be updated...\n",
      "Updating collection: cfhp\n",
      "Collection found in FE-text, metadata will be updated...\n",
      "Updating collection: shorelinemonitor-raw-series\n",
      "Collection found in FE-text, metadata will be updated...\n",
      "Updating collection: cba\n",
      "Collection found in FE-text, metadata will be updated...\n",
      "Updating collection: ceed\n",
      "Collection found in FE-text, metadata will be updated...\n",
      "Updating collection: pp_stats\n",
      "Collection found in FE-text, metadata will be updated...\n",
      "Collection … not found in catalog, skipping...\n",
      "Updating collection: LAU_CM\n",
      "Collection found in FE-text, metadata will be updated...\n",
      "Updating collection: NUTS0_CM\n",
      "Collection found in FE-text, metadata will be updated...\n",
      "Updating collection: NUTS2_CM\n",
      "Collection found in FE-text, metadata will be updated...\n"
     ]
    }
   ],
   "source": [
    "update_catalog_FE_text(catalog,fe_text_file)"
   ]
  },
  {
   "cell_type": "code",
   "execution_count": null,
   "metadata": {},
   "outputs": [
    {
     "name": "stdout",
     "output_type": "stream",
     "text": [
      "Collection found in FE-text, metadata will be updated...\n",
      "Flood Maps\n",
      "**Inundation Distribution During Flood Events** user story provides flood extent projections under various scenarios, including different coastal protection levels, return periods, and future climate conditions.​\n",
      "\n",
      "- **Spatial coverage**: European coastal areas.​\n",
      "- **Sources**: Coastal flood models, tide gauge records.​\n",
      "- **Common usage**: Flood mapping, urban planning, emergency response.​\n",
      "\n",
      "​More Info about the dataset: [User Handbook](https://www.openearth.nl/coclico-workbench/Datasets/)\n"
     ]
    }
   ],
   "source": [
    "# Test function\n",
    "update_collection_FE_text(collection, fe_text_file)\n",
    "\n",
    "print(collection.title)\n",
    "print(collection.description)"
   ]
  },
  {
   "cell_type": "code",
   "execution_count": null,
   "metadata": {},
   "outputs": [],
   "source": []
  }
 ],
 "metadata": {
  "kernelspec": {
   "display_name": "coclico",
   "language": "python",
   "name": "python3"
  },
  "language_info": {
   "codemirror_mode": {
    "name": "ipython",
    "version": 3
   },
   "file_extension": ".py",
   "mimetype": "text/x-python",
   "name": "python",
   "nbconvert_exporter": "python",
   "pygments_lexer": "ipython3",
   "version": "3.11.4"
  }
 },
 "nbformat": 4,
 "nbformat_minor": 2
}
