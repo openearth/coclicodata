{
 "cells": [
  {
   "attachments": {},
   "cell_type": "markdown",
   "id": "58b6628a",
   "metadata": {},
   "source": [
    "# Storm surge level\n",
    "\n",
    "Notebook environment to migrate netcdf files to CF compliant zarr"
   ]
  },
  {
   "cell_type": "code",
   "execution_count": 9,
   "id": "d213fe1c",
   "metadata": {},
   "outputs": [
    {
     "name": "stdout",
     "output_type": "stream",
     "text": [
      "The nb_black extension is already loaded. To reload it, use:\n",
      "  %reload_ext nb_black\n"
     ]
    },
    {
     "data": {
      "application/javascript": "\n            setTimeout(function() {\n                var nbb_cell_id = 9;\n                var nbb_unformatted_code = \"# Optional; code formatter, installed as jupyter lab extension\\n#%load_ext lab_black\\n# Optional; code formatter, installed as jupyter notebook extension\\n%load_ext nb_black\";\n                var nbb_formatted_code = \"# Optional; code formatter, installed as jupyter lab extension\\n# %load_ext lab_black\\n# Optional; code formatter, installed as jupyter notebook extension\\n%load_ext nb_black\";\n                var nbb_cells = Jupyter.notebook.get_cells();\n                for (var i = 0; i < nbb_cells.length; ++i) {\n                    if (nbb_cells[i].input_prompt_number == nbb_cell_id) {\n                        if (nbb_cells[i].get_text() == nbb_unformatted_code) {\n                             nbb_cells[i].set_text(nbb_formatted_code);\n                        }\n                        break;\n                    }\n                }\n            }, 500);\n            ",
      "text/plain": [
       "<IPython.core.display.Javascript object>"
      ]
     },
     "metadata": {},
     "output_type": "display_data"
    }
   ],
   "source": [
    "# Optional; code formatter, installed as jupyter lab extension\n",
    "#%load_ext lab_black\n",
    "# Optional; code formatter, installed as jupyter notebook extension\n",
    "%load_ext nb_black"
   ]
  },
  {
   "attachments": {},
   "cell_type": "markdown",
   "id": "892785ae",
   "metadata": {},
   "source": [
    "### Configure OS independent paths"
   ]
  },
  {
   "cell_type": "code",
   "execution_count": 10,
   "id": "e200dc11",
   "metadata": {},
   "outputs": [
    {
     "data": {
      "application/javascript": "\n            setTimeout(function() {\n                var nbb_cell_id = 10;\n                var nbb_unformatted_code = \"# Import standard packages\\nimport os\\nimport pathlib\\nimport sys\\nimport numpy as np\\nimport geopandas as gpd\\nimport pandas as pd\\nimport matplotlib.pyplot as plt\\nimport xarray as xr\\n\\n# Make root directories importable by appending root to path\\ncwd = pathlib.Path().resolve()\\nsys.path.append(os.path.dirname(cwd))\\n\\n# Get root paths\\nhome = pathlib.Path().home()\\nroot = home.root\\n\\n# Import custom functionality\\nfrom coclicodata.drive_config import p_drive\\nfrom coclicodata.etl.cf_compliancy_checker import check_compliancy, save_compliancy\\n\\n# Define (local and) remote drives\\ncoclico_data_dir = p_drive.joinpath(r\\\"C:\\\\Users\\\\Skoulikaris\\\\test_github\\\\11207608-coclico\\\\FASTTRACK_DATA\\\")\\n\\n# Workaround to the Windows OS (10) udunits error after installation of cfchecker: https://github.com/SciTools/iris/issues/404\\n# os.environ[\\\"UDUNITS2_XML_PATH\\\"] = str(\\n#     home.joinpath(  # change to the udunits2.xml file dir in your Python installation\\n#         r\\\"Anaconda3\\\\pkgs\\\\udunits2-2.2.28-h892ecd3_0\\\\Library\\\\share\\\\udunits\\\\udunits2.xml\\\"\\n#     )\\n# )\";\n                var nbb_formatted_code = \"# Import standard packages\\nimport os\\nimport pathlib\\nimport sys\\nimport numpy as np\\nimport geopandas as gpd\\nimport pandas as pd\\nimport matplotlib.pyplot as plt\\nimport xarray as xr\\n\\n# Make root directories importable by appending root to path\\ncwd = pathlib.Path().resolve()\\nsys.path.append(os.path.dirname(cwd))\\n\\n# Get root paths\\nhome = pathlib.Path().home()\\nroot = home.root\\n\\n# Import custom functionality\\nfrom coclicodata.drive_config import p_drive\\nfrom coclicodata.etl.cf_compliancy_checker import check_compliancy, save_compliancy\\n\\n# Define (local and) remote drives\\ncoclico_data_dir = p_drive.joinpath(\\n    r\\\"C:\\\\Users\\\\Skoulikaris\\\\test_github\\\\11207608-coclico\\\\FASTTRACK_DATA\\\"\\n)\\n\\n# Workaround to the Windows OS (10) udunits error after installation of cfchecker: https://github.com/SciTools/iris/issues/404\\n# os.environ[\\\"UDUNITS2_XML_PATH\\\"] = str(\\n#     home.joinpath(  # change to the udunits2.xml file dir in your Python installation\\n#         r\\\"Anaconda3\\\\pkgs\\\\udunits2-2.2.28-h892ecd3_0\\\\Library\\\\share\\\\udunits\\\\udunits2.xml\\\"\\n#     )\\n# )\";\n                var nbb_cells = Jupyter.notebook.get_cells();\n                for (var i = 0; i < nbb_cells.length; ++i) {\n                    if (nbb_cells[i].input_prompt_number == nbb_cell_id) {\n                        if (nbb_cells[i].get_text() == nbb_unformatted_code) {\n                             nbb_cells[i].set_text(nbb_formatted_code);\n                        }\n                        break;\n                    }\n                }\n            }, 500);\n            ",
      "text/plain": [
       "<IPython.core.display.Javascript object>"
      ]
     },
     "metadata": {},
     "output_type": "display_data"
    }
   ],
   "source": [
    "# Import standard packages\n",
    "import os\n",
    "import pathlib\n",
    "import sys\n",
    "import numpy as np\n",
    "import geopandas as gpd\n",
    "import pandas as pd\n",
    "import matplotlib.pyplot as plt\n",
    "import xarray as xr\n",
    "\n",
    "# Make root directories importable by appending root to path\n",
    "cwd = pathlib.Path().resolve()\n",
    "sys.path.append(os.path.dirname(cwd))\n",
    "\n",
    "# Get root paths\n",
    "home = pathlib.Path().home()\n",
    "root = home.root\n",
    "\n",
    "# Import custom functionality\n",
    "from coclicodata.drive_config import p_drive\n",
    "from coclicodata.etl.cf_compliancy_checker import check_compliancy, save_compliancy\n",
    "\n",
    "# Define (local and) remote drives\n",
    "coclico_data_dir = p_drive.joinpath(r\"C:\\Users\\Skoulikaris\\test_github\\11207608-coclico\\FASTTRACK_DATA\")\n",
    "\n",
    "# Workaround to the Windows OS (10) udunits error after installation of cfchecker: https://github.com/SciTools/iris/issues/404\n",
    "# os.environ[\"UDUNITS2_XML_PATH\"] = str(\n",
    "#     home.joinpath(  # change to the udunits2.xml file dir in your Python installation\n",
    "#         r\"Anaconda3\\pkgs\\udunits2-2.2.28-h892ecd3_0\\Library\\share\\udunits\\udunits2.xml\"\n",
    "#     )\n",
    "# )"
   ]
  },
  {
   "cell_type": "code",
   "execution_count": 18,
   "id": "96c526d7",
   "metadata": {},
   "outputs": [
    {
     "data": {
      "application/javascript": "\n            setTimeout(function() {\n                var nbb_cell_id = 18;\n                var nbb_unformatted_code = \"# Project paths & files (manual input)\\ndataset_dir = coclico_data_dir.joinpath(\\\"01_HighRes_Bascay_Sea_Level\\\")\\ndataset_ssp126_path = dataset_dir.joinpath(\\\"DSL_change_ssh_ibc_ENS_ssp126.nc\\\")\\ndataset_ssp245_path = dataset_dir.joinpath(\\\"DSL_change_ssh_ibc_ENS_ssp245.nc\\\")\\ndataset_ssp585_path = dataset_dir.joinpath(\\\"DSL_change_ssh_ibc_ENS_ssp585.nc\\\")\\ndataset_DSLproj_path = dataset_dir.joinpath(\\\"DSL_proj_ENS.nc\\\")\\ndataset_out_file = \\\"DSL_change_ssh_ibs_output\\\"\\nCF_dir = coclico_data_dir.joinpath(r\\\"CF_WP3\\\")  # directory to save output CF check files\";\n                var nbb_formatted_code = \"# Project paths & files (manual input)\\ndataset_dir = coclico_data_dir.joinpath(\\\"01_HighRes_Bascay_Sea_Level\\\")\\ndataset_ssp126_path = dataset_dir.joinpath(\\\"DSL_change_ssh_ibc_ENS_ssp126.nc\\\")\\ndataset_ssp245_path = dataset_dir.joinpath(\\\"DSL_change_ssh_ibc_ENS_ssp245.nc\\\")\\ndataset_ssp585_path = dataset_dir.joinpath(\\\"DSL_change_ssh_ibc_ENS_ssp585.nc\\\")\\ndataset_DSLproj_path = dataset_dir.joinpath(\\\"DSL_proj_ENS.nc\\\")\\ndataset_out_file = \\\"DSL_change_ssh_ibs_output\\\"\\nCF_dir = coclico_data_dir.joinpath(r\\\"CF_WP3\\\")  # directory to save output CF check files\";\n                var nbb_cells = Jupyter.notebook.get_cells();\n                for (var i = 0; i < nbb_cells.length; ++i) {\n                    if (nbb_cells[i].input_prompt_number == nbb_cell_id) {\n                        if (nbb_cells[i].get_text() == nbb_unformatted_code) {\n                             nbb_cells[i].set_text(nbb_formatted_code);\n                        }\n                        break;\n                    }\n                }\n            }, 500);\n            ",
      "text/plain": [
       "<IPython.core.display.Javascript object>"
      ]
     },
     "metadata": {},
     "output_type": "display_data"
    }
   ],
   "source": [
    "# Project paths & files (manual input)\n",
    "dataset_dir = coclico_data_dir.joinpath(\"01_HighRes_Bascay_Sea_Level\")\n",
    "dataset_ssp126_path = dataset_dir.joinpath(\"DSL_change_ssh_ibc_ENS_ssp126.nc\")\n",
    "dataset_ssp245_path = dataset_dir.joinpath(\"DSL_change_ssh_ibc_ENS_ssp245.nc\")\n",
    "dataset_ssp585_path = dataset_dir.joinpath(\"DSL_change_ssh_ibc_ENS_ssp585.nc\")\n",
    "dataset_DSLproj_path = dataset_dir.joinpath(\"DSL_proj_ENS.nc\")\n",
    "dataset_out_file = \"DSL_change_ssh_ibs_output\"\n",
    "CF_dir = coclico_data_dir.joinpath(r\"CF_WP3\")  # directory to save output CF check files"
   ]
  },
  {
   "attachments": {},
   "cell_type": "markdown",
   "id": "f8d5c913",
   "metadata": {},
   "source": [
    "### Check CF compliancy original NetCDF files"
   ]
  },
  {
   "cell_type": "code",
   "execution_count": 20,
   "id": "7d9c6980",
   "metadata": {},
   "outputs": [
    {
     "data": {
      "text/html": [
       "<div><svg style=\"position: absolute; width: 0; height: 0; overflow: hidden\">\n",
       "<defs>\n",
       "<symbol id=\"icon-database\" viewBox=\"0 0 32 32\">\n",
       "<path d=\"M16 0c-8.837 0-16 2.239-16 5v4c0 2.761 7.163 5 16 5s16-2.239 16-5v-4c0-2.761-7.163-5-16-5z\"></path>\n",
       "<path d=\"M16 17c-8.837 0-16-2.239-16-5v6c0 2.761 7.163 5 16 5s16-2.239 16-5v-6c0 2.761-7.163 5-16 5z\"></path>\n",
       "<path d=\"M16 26c-8.837 0-16-2.239-16-5v6c0 2.761 7.163 5 16 5s16-2.239 16-5v-6c0 2.761-7.163 5-16 5z\"></path>\n",
       "</symbol>\n",
       "<symbol id=\"icon-file-text2\" viewBox=\"0 0 32 32\">\n",
       "<path d=\"M28.681 7.159c-0.694-0.947-1.662-2.053-2.724-3.116s-2.169-2.030-3.116-2.724c-1.612-1.182-2.393-1.319-2.841-1.319h-15.5c-1.378 0-2.5 1.121-2.5 2.5v27c0 1.378 1.122 2.5 2.5 2.5h23c1.378 0 2.5-1.122 2.5-2.5v-19.5c0-0.448-0.137-1.23-1.319-2.841zM24.543 5.457c0.959 0.959 1.712 1.825 2.268 2.543h-4.811v-4.811c0.718 0.556 1.584 1.309 2.543 2.268zM28 29.5c0 0.271-0.229 0.5-0.5 0.5h-23c-0.271 0-0.5-0.229-0.5-0.5v-27c0-0.271 0.229-0.5 0.5-0.5 0 0 15.499-0 15.5 0v7c0 0.552 0.448 1 1 1h7v19.5z\"></path>\n",
       "<path d=\"M23 26h-14c-0.552 0-1-0.448-1-1s0.448-1 1-1h14c0.552 0 1 0.448 1 1s-0.448 1-1 1z\"></path>\n",
       "<path d=\"M23 22h-14c-0.552 0-1-0.448-1-1s0.448-1 1-1h14c0.552 0 1 0.448 1 1s-0.448 1-1 1z\"></path>\n",
       "<path d=\"M23 18h-14c-0.552 0-1-0.448-1-1s0.448-1 1-1h14c0.552 0 1 0.448 1 1s-0.448 1-1 1z\"></path>\n",
       "</symbol>\n",
       "</defs>\n",
       "</svg>\n",
       "<style>/* CSS stylesheet for displaying xarray objects in jupyterlab.\n",
       " *\n",
       " */\n",
       "\n",
       ":root {\n",
       "  --xr-font-color0: var(--jp-content-font-color0, rgba(0, 0, 0, 1));\n",
       "  --xr-font-color2: var(--jp-content-font-color2, rgba(0, 0, 0, 0.54));\n",
       "  --xr-font-color3: var(--jp-content-font-color3, rgba(0, 0, 0, 0.38));\n",
       "  --xr-border-color: var(--jp-border-color2, #e0e0e0);\n",
       "  --xr-disabled-color: var(--jp-layout-color3, #bdbdbd);\n",
       "  --xr-background-color: var(--jp-layout-color0, white);\n",
       "  --xr-background-color-row-even: var(--jp-layout-color1, white);\n",
       "  --xr-background-color-row-odd: var(--jp-layout-color2, #eeeeee);\n",
       "}\n",
       "\n",
       "html[theme=dark],\n",
       "body[data-theme=dark],\n",
       "body.vscode-dark {\n",
       "  --xr-font-color0: rgba(255, 255, 255, 1);\n",
       "  --xr-font-color2: rgba(255, 255, 255, 0.54);\n",
       "  --xr-font-color3: rgba(255, 255, 255, 0.38);\n",
       "  --xr-border-color: #1F1F1F;\n",
       "  --xr-disabled-color: #515151;\n",
       "  --xr-background-color: #111111;\n",
       "  --xr-background-color-row-even: #111111;\n",
       "  --xr-background-color-row-odd: #313131;\n",
       "}\n",
       "\n",
       ".xr-wrap {\n",
       "  display: block !important;\n",
       "  min-width: 300px;\n",
       "  max-width: 700px;\n",
       "}\n",
       "\n",
       ".xr-text-repr-fallback {\n",
       "  /* fallback to plain text repr when CSS is not injected (untrusted notebook) */\n",
       "  display: none;\n",
       "}\n",
       "\n",
       ".xr-header {\n",
       "  padding-top: 6px;\n",
       "  padding-bottom: 6px;\n",
       "  margin-bottom: 4px;\n",
       "  border-bottom: solid 1px var(--xr-border-color);\n",
       "}\n",
       "\n",
       ".xr-header > div,\n",
       ".xr-header > ul {\n",
       "  display: inline;\n",
       "  margin-top: 0;\n",
       "  margin-bottom: 0;\n",
       "}\n",
       "\n",
       ".xr-obj-type,\n",
       ".xr-array-name {\n",
       "  margin-left: 2px;\n",
       "  margin-right: 10px;\n",
       "}\n",
       "\n",
       ".xr-obj-type {\n",
       "  color: var(--xr-font-color2);\n",
       "}\n",
       "\n",
       ".xr-sections {\n",
       "  padding-left: 0 !important;\n",
       "  display: grid;\n",
       "  grid-template-columns: 150px auto auto 1fr 20px 20px;\n",
       "}\n",
       "\n",
       ".xr-section-item {\n",
       "  display: contents;\n",
       "}\n",
       "\n",
       ".xr-section-item input {\n",
       "  display: none;\n",
       "}\n",
       "\n",
       ".xr-section-item input + label {\n",
       "  color: var(--xr-disabled-color);\n",
       "}\n",
       "\n",
       ".xr-section-item input:enabled + label {\n",
       "  cursor: pointer;\n",
       "  color: var(--xr-font-color2);\n",
       "}\n",
       "\n",
       ".xr-section-item input:enabled + label:hover {\n",
       "  color: var(--xr-font-color0);\n",
       "}\n",
       "\n",
       ".xr-section-summary {\n",
       "  grid-column: 1;\n",
       "  color: var(--xr-font-color2);\n",
       "  font-weight: 500;\n",
       "}\n",
       "\n",
       ".xr-section-summary > span {\n",
       "  display: inline-block;\n",
       "  padding-left: 0.5em;\n",
       "}\n",
       "\n",
       ".xr-section-summary-in:disabled + label {\n",
       "  color: var(--xr-font-color2);\n",
       "}\n",
       "\n",
       ".xr-section-summary-in + label:before {\n",
       "  display: inline-block;\n",
       "  content: '►';\n",
       "  font-size: 11px;\n",
       "  width: 15px;\n",
       "  text-align: center;\n",
       "}\n",
       "\n",
       ".xr-section-summary-in:disabled + label:before {\n",
       "  color: var(--xr-disabled-color);\n",
       "}\n",
       "\n",
       ".xr-section-summary-in:checked + label:before {\n",
       "  content: '▼';\n",
       "}\n",
       "\n",
       ".xr-section-summary-in:checked + label > span {\n",
       "  display: none;\n",
       "}\n",
       "\n",
       ".xr-section-summary,\n",
       ".xr-section-inline-details {\n",
       "  padding-top: 4px;\n",
       "  padding-bottom: 4px;\n",
       "}\n",
       "\n",
       ".xr-section-inline-details {\n",
       "  grid-column: 2 / -1;\n",
       "}\n",
       "\n",
       ".xr-section-details {\n",
       "  display: none;\n",
       "  grid-column: 1 / -1;\n",
       "  margin-bottom: 5px;\n",
       "}\n",
       "\n",
       ".xr-section-summary-in:checked ~ .xr-section-details {\n",
       "  display: contents;\n",
       "}\n",
       "\n",
       ".xr-array-wrap {\n",
       "  grid-column: 1 / -1;\n",
       "  display: grid;\n",
       "  grid-template-columns: 20px auto;\n",
       "}\n",
       "\n",
       ".xr-array-wrap > label {\n",
       "  grid-column: 1;\n",
       "  vertical-align: top;\n",
       "}\n",
       "\n",
       ".xr-preview {\n",
       "  color: var(--xr-font-color3);\n",
       "}\n",
       "\n",
       ".xr-array-preview,\n",
       ".xr-array-data {\n",
       "  padding: 0 5px !important;\n",
       "  grid-column: 2;\n",
       "}\n",
       "\n",
       ".xr-array-data,\n",
       ".xr-array-in:checked ~ .xr-array-preview {\n",
       "  display: none;\n",
       "}\n",
       "\n",
       ".xr-array-in:checked ~ .xr-array-data,\n",
       ".xr-array-preview {\n",
       "  display: inline-block;\n",
       "}\n",
       "\n",
       ".xr-dim-list {\n",
       "  display: inline-block !important;\n",
       "  list-style: none;\n",
       "  padding: 0 !important;\n",
       "  margin: 0;\n",
       "}\n",
       "\n",
       ".xr-dim-list li {\n",
       "  display: inline-block;\n",
       "  padding: 0;\n",
       "  margin: 0;\n",
       "}\n",
       "\n",
       ".xr-dim-list:before {\n",
       "  content: '(';\n",
       "}\n",
       "\n",
       ".xr-dim-list:after {\n",
       "  content: ')';\n",
       "}\n",
       "\n",
       ".xr-dim-list li:not(:last-child):after {\n",
       "  content: ',';\n",
       "  padding-right: 5px;\n",
       "}\n",
       "\n",
       ".xr-has-index {\n",
       "  font-weight: bold;\n",
       "}\n",
       "\n",
       ".xr-var-list,\n",
       ".xr-var-item {\n",
       "  display: contents;\n",
       "}\n",
       "\n",
       ".xr-var-item > div,\n",
       ".xr-var-item label,\n",
       ".xr-var-item > .xr-var-name span {\n",
       "  background-color: var(--xr-background-color-row-even);\n",
       "  margin-bottom: 0;\n",
       "}\n",
       "\n",
       ".xr-var-item > .xr-var-name:hover span {\n",
       "  padding-right: 5px;\n",
       "}\n",
       "\n",
       ".xr-var-list > li:nth-child(odd) > div,\n",
       ".xr-var-list > li:nth-child(odd) > label,\n",
       ".xr-var-list > li:nth-child(odd) > .xr-var-name span {\n",
       "  background-color: var(--xr-background-color-row-odd);\n",
       "}\n",
       "\n",
       ".xr-var-name {\n",
       "  grid-column: 1;\n",
       "}\n",
       "\n",
       ".xr-var-dims {\n",
       "  grid-column: 2;\n",
       "}\n",
       "\n",
       ".xr-var-dtype {\n",
       "  grid-column: 3;\n",
       "  text-align: right;\n",
       "  color: var(--xr-font-color2);\n",
       "}\n",
       "\n",
       ".xr-var-preview {\n",
       "  grid-column: 4;\n",
       "}\n",
       "\n",
       ".xr-index-preview {\n",
       "  grid-column: 2 / 5;\n",
       "  color: var(--xr-font-color2);\n",
       "}\n",
       "\n",
       ".xr-var-name,\n",
       ".xr-var-dims,\n",
       ".xr-var-dtype,\n",
       ".xr-preview,\n",
       ".xr-attrs dt {\n",
       "  white-space: nowrap;\n",
       "  overflow: hidden;\n",
       "  text-overflow: ellipsis;\n",
       "  padding-right: 10px;\n",
       "}\n",
       "\n",
       ".xr-var-name:hover,\n",
       ".xr-var-dims:hover,\n",
       ".xr-var-dtype:hover,\n",
       ".xr-attrs dt:hover {\n",
       "  overflow: visible;\n",
       "  width: auto;\n",
       "  z-index: 1;\n",
       "}\n",
       "\n",
       ".xr-var-attrs,\n",
       ".xr-var-data,\n",
       ".xr-index-data {\n",
       "  display: none;\n",
       "  background-color: var(--xr-background-color) !important;\n",
       "  padding-bottom: 5px !important;\n",
       "}\n",
       "\n",
       ".xr-var-attrs-in:checked ~ .xr-var-attrs,\n",
       ".xr-var-data-in:checked ~ .xr-var-data,\n",
       ".xr-index-data-in:checked ~ .xr-index-data {\n",
       "  display: block;\n",
       "}\n",
       "\n",
       ".xr-var-data > table {\n",
       "  float: right;\n",
       "}\n",
       "\n",
       ".xr-var-name span,\n",
       ".xr-var-data,\n",
       ".xr-index-name div,\n",
       ".xr-index-data,\n",
       ".xr-attrs {\n",
       "  padding-left: 25px !important;\n",
       "}\n",
       "\n",
       ".xr-attrs,\n",
       ".xr-var-attrs,\n",
       ".xr-var-data,\n",
       ".xr-index-data {\n",
       "  grid-column: 1 / -1;\n",
       "}\n",
       "\n",
       "dl.xr-attrs {\n",
       "  padding: 0;\n",
       "  margin: 0;\n",
       "  display: grid;\n",
       "  grid-template-columns: 125px auto;\n",
       "}\n",
       "\n",
       ".xr-attrs dt,\n",
       ".xr-attrs dd {\n",
       "  padding: 0;\n",
       "  margin: 0;\n",
       "  float: left;\n",
       "  padding-right: 10px;\n",
       "  width: auto;\n",
       "}\n",
       "\n",
       ".xr-attrs dt {\n",
       "  font-weight: normal;\n",
       "  grid-column: 1;\n",
       "}\n",
       "\n",
       ".xr-attrs dt:hover span {\n",
       "  display: inline-block;\n",
       "  background: var(--xr-background-color);\n",
       "  padding-right: 10px;\n",
       "}\n",
       "\n",
       ".xr-attrs dd {\n",
       "  grid-column: 2;\n",
       "  white-space: pre-wrap;\n",
       "  word-break: break-all;\n",
       "}\n",
       "\n",
       ".xr-icon-database,\n",
       ".xr-icon-file-text2,\n",
       ".xr-no-icon {\n",
       "  display: inline-block;\n",
       "  vertical-align: middle;\n",
       "  width: 1em;\n",
       "  height: 1.5em !important;\n",
       "  stroke-width: 0;\n",
       "  stroke: currentColor;\n",
       "  fill: currentColor;\n",
       "}\n",
       "</style><pre class='xr-text-repr-fallback'>&lt;xarray.Dataset&gt; Size: 35MB\n",
       "Dimensions:         (y: 634, x: 434, ensm: 4, ssp: 1)\n",
       "Coordinates:\n",
       "    nav_lon         (y, x) float32 1MB ...\n",
       "    nav_lat         (y, x) float32 1MB ...\n",
       "  * ssp             (ssp) &lt;U6 24B &#x27;ssp126&#x27;\n",
       "  * ensm            (ensm) &lt;U13 208B &#x27;CNRM-CM6-1-HR&#x27; ... &#x27;EC-Earth3&#x27;\n",
       "Dimensions without coordinates: y, x\n",
       "Data variables: (12/15)\n",
       "    DSLC            (ensm, ssp, y, x) float32 4MB ...\n",
       "    sDSLC_DJF       (ensm, ssp, y, x) float32 4MB ...\n",
       "    sDSLC_MAM       (ensm, ssp, y, x) float32 4MB ...\n",
       "    sDSLC_JJA       (ensm, ssp, y, x) float32 4MB ...\n",
       "    sDSLC_SON       (ensm, ssp, y, x) float32 4MB ...\n",
       "    DSLC_std        (ssp, y, x) float32 1MB ...\n",
       "    ...              ...\n",
       "    sDSLC_MAM_std   (ssp, y, x) float32 1MB ...\n",
       "    sDSLC_MAM_mean  (ssp, y, x) float32 1MB ...\n",
       "    sDSLC_JJA_std   (ssp, y, x) float32 1MB ...\n",
       "    sDSLC_JJA_mean  (ssp, y, x) float32 1MB ...\n",
       "    sDSLC_SON_std   (ssp, y, x) float32 1MB ...\n",
       "    sDSLC_SON_mean  (ssp, y, x) float32 1MB ...</pre><div class='xr-wrap' style='display:none'><div class='xr-header'><div class='xr-obj-type'>xarray.Dataset</div></div><ul class='xr-sections'><li class='xr-section-item'><input id='section-c8ca223a-405f-4976-8cb0-8ebcd7e72472' class='xr-section-summary-in' type='checkbox' disabled ><label for='section-c8ca223a-405f-4976-8cb0-8ebcd7e72472' class='xr-section-summary'  title='Expand/collapse section'>Dimensions:</label><div class='xr-section-inline-details'><ul class='xr-dim-list'><li><span>y</span>: 634</li><li><span>x</span>: 434</li><li><span class='xr-has-index'>ensm</span>: 4</li><li><span class='xr-has-index'>ssp</span>: 1</li></ul></div><div class='xr-section-details'></div></li><li class='xr-section-item'><input id='section-f9e5d900-51f5-499d-b1c5-ba23c8117fce' class='xr-section-summary-in' type='checkbox'  checked><label for='section-f9e5d900-51f5-499d-b1c5-ba23c8117fce' class='xr-section-summary' >Coordinates: <span>(4)</span></label><div class='xr-section-inline-details'></div><div class='xr-section-details'><ul class='xr-var-list'><li class='xr-var-item'><div class='xr-var-name'><span>nav_lon</span></div><div class='xr-var-dims'>(y, x)</div><div class='xr-var-dtype'>float32</div><div class='xr-var-preview xr-preview'>...</div><input id='attrs-378d9efc-15a1-40a6-91c3-29abd0ca0df9' class='xr-var-attrs-in' type='checkbox' ><label for='attrs-378d9efc-15a1-40a6-91c3-29abd0ca0df9' title='Show/Hide attributes'><svg class='icon xr-icon-file-text2'><use xlink:href='#icon-file-text2'></use></svg></label><input id='data-b51ac8c7-8bd7-4df4-b98d-fb2337134b59' class='xr-var-data-in' type='checkbox'><label for='data-b51ac8c7-8bd7-4df4-b98d-fb2337134b59' title='Show/Hide data repr'><svg class='icon xr-icon-database'><use xlink:href='#icon-database'></use></svg></label><div class='xr-var-attrs'><dl class='xr-attrs'><dt><span>standard_name :</span></dt><dd>longitude</dd><dt><span>long_name :</span></dt><dd>Longitude</dd><dt><span>units :</span></dt><dd>degrees_east</dd><dt><span>_CoordinateAxisType :</span></dt><dd>Lon</dd></dl></div><div class='xr-var-data'><pre>[275156 values with dtype=float32]</pre></div></li><li class='xr-var-item'><div class='xr-var-name'><span>nav_lat</span></div><div class='xr-var-dims'>(y, x)</div><div class='xr-var-dtype'>float32</div><div class='xr-var-preview xr-preview'>...</div><input id='attrs-17e987f1-fc4d-419a-8a03-9d077e91d772' class='xr-var-attrs-in' type='checkbox' ><label for='attrs-17e987f1-fc4d-419a-8a03-9d077e91d772' title='Show/Hide attributes'><svg class='icon xr-icon-file-text2'><use xlink:href='#icon-file-text2'></use></svg></label><input id='data-2d151237-6735-431e-a014-3d229e4cca7b' class='xr-var-data-in' type='checkbox'><label for='data-2d151237-6735-431e-a014-3d229e4cca7b' title='Show/Hide data repr'><svg class='icon xr-icon-database'><use xlink:href='#icon-database'></use></svg></label><div class='xr-var-attrs'><dl class='xr-attrs'><dt><span>standard_name :</span></dt><dd>latitude</dd><dt><span>long_name :</span></dt><dd>Latitude</dd><dt><span>units :</span></dt><dd>degrees_north</dd><dt><span>_CoordinateAxisType :</span></dt><dd>Lat</dd></dl></div><div class='xr-var-data'><pre>[275156 values with dtype=float32]</pre></div></li><li class='xr-var-item'><div class='xr-var-name'><span class='xr-has-index'>ssp</span></div><div class='xr-var-dims'>(ssp)</div><div class='xr-var-dtype'>&lt;U6</div><div class='xr-var-preview xr-preview'>&#x27;ssp126&#x27;</div><input id='attrs-e1390e92-063e-45a2-9c40-4420ed64908d' class='xr-var-attrs-in' type='checkbox' disabled><label for='attrs-e1390e92-063e-45a2-9c40-4420ed64908d' title='Show/Hide attributes'><svg class='icon xr-icon-file-text2'><use xlink:href='#icon-file-text2'></use></svg></label><input id='data-3a111aa3-31cc-4519-b8fe-fb9afcb30175' class='xr-var-data-in' type='checkbox'><label for='data-3a111aa3-31cc-4519-b8fe-fb9afcb30175' title='Show/Hide data repr'><svg class='icon xr-icon-database'><use xlink:href='#icon-database'></use></svg></label><div class='xr-var-attrs'><dl class='xr-attrs'></dl></div><div class='xr-var-data'><pre>array([&#x27;ssp126&#x27;], dtype=&#x27;&lt;U6&#x27;)</pre></div></li><li class='xr-var-item'><div class='xr-var-name'><span class='xr-has-index'>ensm</span></div><div class='xr-var-dims'>(ensm)</div><div class='xr-var-dtype'>&lt;U13</div><div class='xr-var-preview xr-preview'>&#x27;CNRM-CM6-1-HR&#x27; ... &#x27;EC-Earth3&#x27;</div><input id='attrs-efcfa945-0837-4f57-99e5-1b2e3b5b10b9' class='xr-var-attrs-in' type='checkbox' disabled><label for='attrs-efcfa945-0837-4f57-99e5-1b2e3b5b10b9' title='Show/Hide attributes'><svg class='icon xr-icon-file-text2'><use xlink:href='#icon-file-text2'></use></svg></label><input id='data-524274e5-38a5-41cb-9bff-dfb26a565a75' class='xr-var-data-in' type='checkbox'><label for='data-524274e5-38a5-41cb-9bff-dfb26a565a75' title='Show/Hide data repr'><svg class='icon xr-icon-database'><use xlink:href='#icon-database'></use></svg></label><div class='xr-var-attrs'><dl class='xr-attrs'></dl></div><div class='xr-var-data'><pre>array([&#x27;CNRM-CM6-1-HR&#x27;, &#x27;CNRM-CM6-1&#x27;, &#x27;MPI-ESM1-2-HR&#x27;, &#x27;EC-Earth3&#x27;],\n",
       "      dtype=&#x27;&lt;U13&#x27;)</pre></div></li></ul></div></li><li class='xr-section-item'><input id='section-9321f679-6f81-4674-a21d-624fc6149051' class='xr-section-summary-in' type='checkbox'  ><label for='section-9321f679-6f81-4674-a21d-624fc6149051' class='xr-section-summary' >Data variables: <span>(15)</span></label><div class='xr-section-inline-details'></div><div class='xr-section-details'><ul class='xr-var-list'><li class='xr-var-item'><div class='xr-var-name'><span>DSLC</span></div><div class='xr-var-dims'>(ensm, ssp, y, x)</div><div class='xr-var-dtype'>float32</div><div class='xr-var-preview xr-preview'>...</div><input id='attrs-706b6291-a5d7-4787-b186-dbde5eaca1fe' class='xr-var-attrs-in' type='checkbox' disabled><label for='attrs-706b6291-a5d7-4787-b186-dbde5eaca1fe' title='Show/Hide attributes'><svg class='icon xr-icon-file-text2'><use xlink:href='#icon-file-text2'></use></svg></label><input id='data-9647e763-0bf5-43c1-ade5-d2c1a506aa3b' class='xr-var-data-in' type='checkbox'><label for='data-9647e763-0bf5-43c1-ade5-d2c1a506aa3b' title='Show/Hide data repr'><svg class='icon xr-icon-database'><use xlink:href='#icon-database'></use></svg></label><div class='xr-var-attrs'><dl class='xr-attrs'></dl></div><div class='xr-var-data'><pre>[1100624 values with dtype=float32]</pre></div></li><li class='xr-var-item'><div class='xr-var-name'><span>sDSLC_DJF</span></div><div class='xr-var-dims'>(ensm, ssp, y, x)</div><div class='xr-var-dtype'>float32</div><div class='xr-var-preview xr-preview'>...</div><input id='attrs-2f9cab7e-4816-4971-9888-39f91c16b49d' class='xr-var-attrs-in' type='checkbox' disabled><label for='attrs-2f9cab7e-4816-4971-9888-39f91c16b49d' title='Show/Hide attributes'><svg class='icon xr-icon-file-text2'><use xlink:href='#icon-file-text2'></use></svg></label><input id='data-939a5655-3a4e-4385-99ba-839467c06a3d' class='xr-var-data-in' type='checkbox'><label for='data-939a5655-3a4e-4385-99ba-839467c06a3d' title='Show/Hide data repr'><svg class='icon xr-icon-database'><use xlink:href='#icon-database'></use></svg></label><div class='xr-var-attrs'><dl class='xr-attrs'></dl></div><div class='xr-var-data'><pre>[1100624 values with dtype=float32]</pre></div></li><li class='xr-var-item'><div class='xr-var-name'><span>sDSLC_MAM</span></div><div class='xr-var-dims'>(ensm, ssp, y, x)</div><div class='xr-var-dtype'>float32</div><div class='xr-var-preview xr-preview'>...</div><input id='attrs-b38d8e86-0108-4ec9-b2cc-9255f336e63b' class='xr-var-attrs-in' type='checkbox' disabled><label for='attrs-b38d8e86-0108-4ec9-b2cc-9255f336e63b' title='Show/Hide attributes'><svg class='icon xr-icon-file-text2'><use xlink:href='#icon-file-text2'></use></svg></label><input id='data-bedba563-b71d-4fa7-8b51-a8f7ee8b5875' class='xr-var-data-in' type='checkbox'><label for='data-bedba563-b71d-4fa7-8b51-a8f7ee8b5875' title='Show/Hide data repr'><svg class='icon xr-icon-database'><use xlink:href='#icon-database'></use></svg></label><div class='xr-var-attrs'><dl class='xr-attrs'></dl></div><div class='xr-var-data'><pre>[1100624 values with dtype=float32]</pre></div></li><li class='xr-var-item'><div class='xr-var-name'><span>sDSLC_JJA</span></div><div class='xr-var-dims'>(ensm, ssp, y, x)</div><div class='xr-var-dtype'>float32</div><div class='xr-var-preview xr-preview'>...</div><input id='attrs-d33c0c74-5838-443c-8b54-e18be858e666' class='xr-var-attrs-in' type='checkbox' disabled><label for='attrs-d33c0c74-5838-443c-8b54-e18be858e666' title='Show/Hide attributes'><svg class='icon xr-icon-file-text2'><use xlink:href='#icon-file-text2'></use></svg></label><input id='data-bbe37014-26df-4454-ba0a-7c32f5880551' class='xr-var-data-in' type='checkbox'><label for='data-bbe37014-26df-4454-ba0a-7c32f5880551' title='Show/Hide data repr'><svg class='icon xr-icon-database'><use xlink:href='#icon-database'></use></svg></label><div class='xr-var-attrs'><dl class='xr-attrs'></dl></div><div class='xr-var-data'><pre>[1100624 values with dtype=float32]</pre></div></li><li class='xr-var-item'><div class='xr-var-name'><span>sDSLC_SON</span></div><div class='xr-var-dims'>(ensm, ssp, y, x)</div><div class='xr-var-dtype'>float32</div><div class='xr-var-preview xr-preview'>...</div><input id='attrs-331f468a-5117-488f-aac6-44a94bc5cd5a' class='xr-var-attrs-in' type='checkbox' disabled><label for='attrs-331f468a-5117-488f-aac6-44a94bc5cd5a' title='Show/Hide attributes'><svg class='icon xr-icon-file-text2'><use xlink:href='#icon-file-text2'></use></svg></label><input id='data-099e0a01-000d-4d19-a738-54528c83289f' class='xr-var-data-in' type='checkbox'><label for='data-099e0a01-000d-4d19-a738-54528c83289f' title='Show/Hide data repr'><svg class='icon xr-icon-database'><use xlink:href='#icon-database'></use></svg></label><div class='xr-var-attrs'><dl class='xr-attrs'></dl></div><div class='xr-var-data'><pre>[1100624 values with dtype=float32]</pre></div></li><li class='xr-var-item'><div class='xr-var-name'><span>DSLC_std</span></div><div class='xr-var-dims'>(ssp, y, x)</div><div class='xr-var-dtype'>float32</div><div class='xr-var-preview xr-preview'>...</div><input id='attrs-061215e1-a123-4151-8c64-c92affc54c5a' class='xr-var-attrs-in' type='checkbox' disabled><label for='attrs-061215e1-a123-4151-8c64-c92affc54c5a' title='Show/Hide attributes'><svg class='icon xr-icon-file-text2'><use xlink:href='#icon-file-text2'></use></svg></label><input id='data-4a0ab948-2992-4792-84bb-b42e1af5e82f' class='xr-var-data-in' type='checkbox'><label for='data-4a0ab948-2992-4792-84bb-b42e1af5e82f' title='Show/Hide data repr'><svg class='icon xr-icon-database'><use xlink:href='#icon-database'></use></svg></label><div class='xr-var-attrs'><dl class='xr-attrs'></dl></div><div class='xr-var-data'><pre>[275156 values with dtype=float32]</pre></div></li><li class='xr-var-item'><div class='xr-var-name'><span>DSLC_mean</span></div><div class='xr-var-dims'>(ssp, y, x)</div><div class='xr-var-dtype'>float32</div><div class='xr-var-preview xr-preview'>...</div><input id='attrs-3865adc6-df67-40bd-9e63-87cc12eb7f04' class='xr-var-attrs-in' type='checkbox' disabled><label for='attrs-3865adc6-df67-40bd-9e63-87cc12eb7f04' title='Show/Hide attributes'><svg class='icon xr-icon-file-text2'><use xlink:href='#icon-file-text2'></use></svg></label><input id='data-fb217ee9-9228-4323-942d-4d45b6f75726' class='xr-var-data-in' type='checkbox'><label for='data-fb217ee9-9228-4323-942d-4d45b6f75726' title='Show/Hide data repr'><svg class='icon xr-icon-database'><use xlink:href='#icon-database'></use></svg></label><div class='xr-var-attrs'><dl class='xr-attrs'></dl></div><div class='xr-var-data'><pre>[275156 values with dtype=float32]</pre></div></li><li class='xr-var-item'><div class='xr-var-name'><span>sDSLC_DJF_std</span></div><div class='xr-var-dims'>(ssp, y, x)</div><div class='xr-var-dtype'>float32</div><div class='xr-var-preview xr-preview'>...</div><input id='attrs-744f09ab-0922-4fca-978d-bababe80a238' class='xr-var-attrs-in' type='checkbox' disabled><label for='attrs-744f09ab-0922-4fca-978d-bababe80a238' title='Show/Hide attributes'><svg class='icon xr-icon-file-text2'><use xlink:href='#icon-file-text2'></use></svg></label><input id='data-a98d42b8-2f1d-4373-82e9-a8b3a2228054' class='xr-var-data-in' type='checkbox'><label for='data-a98d42b8-2f1d-4373-82e9-a8b3a2228054' title='Show/Hide data repr'><svg class='icon xr-icon-database'><use xlink:href='#icon-database'></use></svg></label><div class='xr-var-attrs'><dl class='xr-attrs'></dl></div><div class='xr-var-data'><pre>[275156 values with dtype=float32]</pre></div></li><li class='xr-var-item'><div class='xr-var-name'><span>sDSLC_DJF_mean</span></div><div class='xr-var-dims'>(ssp, y, x)</div><div class='xr-var-dtype'>float32</div><div class='xr-var-preview xr-preview'>...</div><input id='attrs-de994ba6-7aeb-46f4-aecf-6412653fed8d' class='xr-var-attrs-in' type='checkbox' disabled><label for='attrs-de994ba6-7aeb-46f4-aecf-6412653fed8d' title='Show/Hide attributes'><svg class='icon xr-icon-file-text2'><use xlink:href='#icon-file-text2'></use></svg></label><input id='data-1746718f-4ba7-401c-a08c-50fd86008dc5' class='xr-var-data-in' type='checkbox'><label for='data-1746718f-4ba7-401c-a08c-50fd86008dc5' title='Show/Hide data repr'><svg class='icon xr-icon-database'><use xlink:href='#icon-database'></use></svg></label><div class='xr-var-attrs'><dl class='xr-attrs'></dl></div><div class='xr-var-data'><pre>[275156 values with dtype=float32]</pre></div></li><li class='xr-var-item'><div class='xr-var-name'><span>sDSLC_MAM_std</span></div><div class='xr-var-dims'>(ssp, y, x)</div><div class='xr-var-dtype'>float32</div><div class='xr-var-preview xr-preview'>...</div><input id='attrs-375372eb-5dcd-4b0d-9f56-32f6e552e1de' class='xr-var-attrs-in' type='checkbox' disabled><label for='attrs-375372eb-5dcd-4b0d-9f56-32f6e552e1de' title='Show/Hide attributes'><svg class='icon xr-icon-file-text2'><use xlink:href='#icon-file-text2'></use></svg></label><input id='data-8005b41a-4db6-452c-8d50-017f4341bb52' class='xr-var-data-in' type='checkbox'><label for='data-8005b41a-4db6-452c-8d50-017f4341bb52' title='Show/Hide data repr'><svg class='icon xr-icon-database'><use xlink:href='#icon-database'></use></svg></label><div class='xr-var-attrs'><dl class='xr-attrs'></dl></div><div class='xr-var-data'><pre>[275156 values with dtype=float32]</pre></div></li><li class='xr-var-item'><div class='xr-var-name'><span>sDSLC_MAM_mean</span></div><div class='xr-var-dims'>(ssp, y, x)</div><div class='xr-var-dtype'>float32</div><div class='xr-var-preview xr-preview'>...</div><input id='attrs-b36d111b-a966-4d23-b3cf-27478f9a85cc' class='xr-var-attrs-in' type='checkbox' disabled><label for='attrs-b36d111b-a966-4d23-b3cf-27478f9a85cc' title='Show/Hide attributes'><svg class='icon xr-icon-file-text2'><use xlink:href='#icon-file-text2'></use></svg></label><input id='data-e539d044-7618-4beb-a7eb-87ae09bcbcd9' class='xr-var-data-in' type='checkbox'><label for='data-e539d044-7618-4beb-a7eb-87ae09bcbcd9' title='Show/Hide data repr'><svg class='icon xr-icon-database'><use xlink:href='#icon-database'></use></svg></label><div class='xr-var-attrs'><dl class='xr-attrs'></dl></div><div class='xr-var-data'><pre>[275156 values with dtype=float32]</pre></div></li><li class='xr-var-item'><div class='xr-var-name'><span>sDSLC_JJA_std</span></div><div class='xr-var-dims'>(ssp, y, x)</div><div class='xr-var-dtype'>float32</div><div class='xr-var-preview xr-preview'>...</div><input id='attrs-8add5e64-96d3-4e60-a1ae-9fabbdd5d1cb' class='xr-var-attrs-in' type='checkbox' disabled><label for='attrs-8add5e64-96d3-4e60-a1ae-9fabbdd5d1cb' title='Show/Hide attributes'><svg class='icon xr-icon-file-text2'><use xlink:href='#icon-file-text2'></use></svg></label><input id='data-ddccf210-8aa5-4cf1-8c75-cd63a1cacd6b' class='xr-var-data-in' type='checkbox'><label for='data-ddccf210-8aa5-4cf1-8c75-cd63a1cacd6b' title='Show/Hide data repr'><svg class='icon xr-icon-database'><use xlink:href='#icon-database'></use></svg></label><div class='xr-var-attrs'><dl class='xr-attrs'></dl></div><div class='xr-var-data'><pre>[275156 values with dtype=float32]</pre></div></li><li class='xr-var-item'><div class='xr-var-name'><span>sDSLC_JJA_mean</span></div><div class='xr-var-dims'>(ssp, y, x)</div><div class='xr-var-dtype'>float32</div><div class='xr-var-preview xr-preview'>...</div><input id='attrs-d186cb2b-8b04-4c6f-8755-19570606a71e' class='xr-var-attrs-in' type='checkbox' disabled><label for='attrs-d186cb2b-8b04-4c6f-8755-19570606a71e' title='Show/Hide attributes'><svg class='icon xr-icon-file-text2'><use xlink:href='#icon-file-text2'></use></svg></label><input id='data-5168158d-834d-48b1-9beb-4aaa9edc526d' class='xr-var-data-in' type='checkbox'><label for='data-5168158d-834d-48b1-9beb-4aaa9edc526d' title='Show/Hide data repr'><svg class='icon xr-icon-database'><use xlink:href='#icon-database'></use></svg></label><div class='xr-var-attrs'><dl class='xr-attrs'></dl></div><div class='xr-var-data'><pre>[275156 values with dtype=float32]</pre></div></li><li class='xr-var-item'><div class='xr-var-name'><span>sDSLC_SON_std</span></div><div class='xr-var-dims'>(ssp, y, x)</div><div class='xr-var-dtype'>float32</div><div class='xr-var-preview xr-preview'>...</div><input id='attrs-e7a00e5a-cece-493f-86cc-b08fef4ef422' class='xr-var-attrs-in' type='checkbox' disabled><label for='attrs-e7a00e5a-cece-493f-86cc-b08fef4ef422' title='Show/Hide attributes'><svg class='icon xr-icon-file-text2'><use xlink:href='#icon-file-text2'></use></svg></label><input id='data-f113610d-93f0-4a94-9360-b2fd9285a391' class='xr-var-data-in' type='checkbox'><label for='data-f113610d-93f0-4a94-9360-b2fd9285a391' title='Show/Hide data repr'><svg class='icon xr-icon-database'><use xlink:href='#icon-database'></use></svg></label><div class='xr-var-attrs'><dl class='xr-attrs'></dl></div><div class='xr-var-data'><pre>[275156 values with dtype=float32]</pre></div></li><li class='xr-var-item'><div class='xr-var-name'><span>sDSLC_SON_mean</span></div><div class='xr-var-dims'>(ssp, y, x)</div><div class='xr-var-dtype'>float32</div><div class='xr-var-preview xr-preview'>...</div><input id='attrs-92ee6f22-c84b-4f98-9eb9-651e210ecc3e' class='xr-var-attrs-in' type='checkbox' disabled><label for='attrs-92ee6f22-c84b-4f98-9eb9-651e210ecc3e' title='Show/Hide attributes'><svg class='icon xr-icon-file-text2'><use xlink:href='#icon-file-text2'></use></svg></label><input id='data-6947edf4-cd8e-4b16-96e2-ed61befdb0cc' class='xr-var-data-in' type='checkbox'><label for='data-6947edf4-cd8e-4b16-96e2-ed61befdb0cc' title='Show/Hide data repr'><svg class='icon xr-icon-database'><use xlink:href='#icon-database'></use></svg></label><div class='xr-var-attrs'><dl class='xr-attrs'></dl></div><div class='xr-var-data'><pre>[275156 values with dtype=float32]</pre></div></li></ul></div></li><li class='xr-section-item'><input id='section-721fc6d5-f135-4292-ab3d-7a9781466b96' class='xr-section-summary-in' type='checkbox'  ><label for='section-721fc6d5-f135-4292-ab3d-7a9781466b96' class='xr-section-summary' >Indexes: <span>(2)</span></label><div class='xr-section-inline-details'></div><div class='xr-section-details'><ul class='xr-var-list'><li class='xr-var-item'><div class='xr-index-name'><div>ssp</div></div><div class='xr-index-preview'>PandasIndex</div><div></div><input id='index-5423458a-d987-48d5-85fb-3d65c8c28c0d' class='xr-index-data-in' type='checkbox'/><label for='index-5423458a-d987-48d5-85fb-3d65c8c28c0d' title='Show/Hide index repr'><svg class='icon xr-icon-database'><use xlink:href='#icon-database'></use></svg></label><div class='xr-index-data'><pre>PandasIndex(Index([&#x27;ssp126&#x27;], dtype=&#x27;object&#x27;, name=&#x27;ssp&#x27;))</pre></div></li><li class='xr-var-item'><div class='xr-index-name'><div>ensm</div></div><div class='xr-index-preview'>PandasIndex</div><div></div><input id='index-280a9ad3-e88f-4c52-bbaa-1e9784ab6c5a' class='xr-index-data-in' type='checkbox'/><label for='index-280a9ad3-e88f-4c52-bbaa-1e9784ab6c5a' title='Show/Hide index repr'><svg class='icon xr-icon-database'><use xlink:href='#icon-database'></use></svg></label><div class='xr-index-data'><pre>PandasIndex(Index([&#x27;CNRM-CM6-1-HR&#x27;, &#x27;CNRM-CM6-1&#x27;, &#x27;MPI-ESM1-2-HR&#x27;, &#x27;EC-Earth3&#x27;], dtype=&#x27;object&#x27;, name=&#x27;ensm&#x27;))</pre></div></li></ul></div></li><li class='xr-section-item'><input id='section-f418ec86-e9b9-4bb3-905b-646d95b4292c' class='xr-section-summary-in' type='checkbox' disabled ><label for='section-f418ec86-e9b9-4bb3-905b-646d95b4292c' class='xr-section-summary'  title='Expand/collapse section'>Attributes: <span>(0)</span></label><div class='xr-section-inline-details'></div><div class='xr-section-details'><dl class='xr-attrs'></dl></div></li></ul></div></div>"
      ],
      "text/plain": [
       "<xarray.Dataset> Size: 35MB\n",
       "Dimensions:         (y: 634, x: 434, ensm: 4, ssp: 1)\n",
       "Coordinates:\n",
       "    nav_lon         (y, x) float32 1MB ...\n",
       "    nav_lat         (y, x) float32 1MB ...\n",
       "  * ssp             (ssp) <U6 24B 'ssp126'\n",
       "  * ensm            (ensm) <U13 208B 'CNRM-CM6-1-HR' ... 'EC-Earth3'\n",
       "Dimensions without coordinates: y, x\n",
       "Data variables: (12/15)\n",
       "    DSLC            (ensm, ssp, y, x) float32 4MB ...\n",
       "    sDSLC_DJF       (ensm, ssp, y, x) float32 4MB ...\n",
       "    sDSLC_MAM       (ensm, ssp, y, x) float32 4MB ...\n",
       "    sDSLC_JJA       (ensm, ssp, y, x) float32 4MB ...\n",
       "    sDSLC_SON       (ensm, ssp, y, x) float32 4MB ...\n",
       "    DSLC_std        (ssp, y, x) float32 1MB ...\n",
       "    ...              ...\n",
       "    sDSLC_MAM_std   (ssp, y, x) float32 1MB ...\n",
       "    sDSLC_MAM_mean  (ssp, y, x) float32 1MB ...\n",
       "    sDSLC_JJA_std   (ssp, y, x) float32 1MB ...\n",
       "    sDSLC_JJA_mean  (ssp, y, x) float32 1MB ...\n",
       "    sDSLC_SON_std   (ssp, y, x) float32 1MB ...\n",
       "    sDSLC_SON_mean  (ssp, y, x) float32 1MB ..."
      ]
     },
     "execution_count": 20,
     "metadata": {},
     "output_type": "execute_result"
    },
    {
     "data": {
      "application/javascript": "\n            setTimeout(function() {\n                var nbb_cell_id = 20;\n                var nbb_unformatted_code = \"# open datasets\\ndataset_ssp126 = xr.open_dataset(dataset_ssp126_path)\\ndataset_ssp245 = xr.open_dataset(dataset_ssp245_path)\\ndataset_ssp585 = xr.open_dataset(dataset_ssp585_path)\\ndataset_proj = xr.open_dataset(dataset_DSLproj_path)\\n\\n# check original dataset\\ndataset_ssp126\";\n                var nbb_formatted_code = \"# open datasets\\ndataset_ssp126 = xr.open_dataset(dataset_ssp126_path)\\ndataset_ssp245 = xr.open_dataset(dataset_ssp245_path)\\ndataset_ssp585 = xr.open_dataset(dataset_ssp585_path)\\ndataset_proj = xr.open_dataset(dataset_DSLproj_path)\\n\\n# check original dataset\\ndataset_ssp126\";\n                var nbb_cells = Jupyter.notebook.get_cells();\n                for (var i = 0; i < nbb_cells.length; ++i) {\n                    if (nbb_cells[i].input_prompt_number == nbb_cell_id) {\n                        if (nbb_cells[i].get_text() == nbb_unformatted_code) {\n                             nbb_cells[i].set_text(nbb_formatted_code);\n                        }\n                        break;\n                    }\n                }\n            }, 500);\n            ",
      "text/plain": [
       "<IPython.core.display.Javascript object>"
      ]
     },
     "metadata": {},
     "output_type": "display_data"
    }
   ],
   "source": [
    "# open datasets\n",
    "dataset_ssp126 = xr.open_dataset(dataset_ssp126_path)\n",
    "dataset_ssp245 = xr.open_dataset(dataset_ssp245_path)\n",
    "dataset_ssp585 = xr.open_dataset(dataset_ssp585_path)\n",
    "dataset_proj = xr.open_dataset(dataset_DSLproj_path)\n",
    "\n",
    "# check original dataset\n",
    "dataset_ssp126"
   ]
  },
  {
   "cell_type": "code",
   "execution_count": 21,
   "id": "5e0a7b33",
   "metadata": {},
   "outputs": [
    {
     "ename": "TypeError",
     "evalue": "unsupported operand type(s) for -: 'str' and 'str'",
     "output_type": "error",
     "traceback": [
      "\u001b[1;31m---------------------------------------------------------------------------\u001b[0m",
      "\u001b[1;31mTypeError\u001b[0m                                 Traceback (most recent call last)",
      "Cell \u001b[1;32mIn[21], line 3\u001b[0m\n\u001b[0;32m      1\u001b[0m \u001b[38;5;66;03m# check original CF compliancy\u001b[39;00m\n\u001b[1;32m----> 3\u001b[0m \u001b[43mcheck_compliancy\u001b[49m\u001b[43m(\u001b[49m\u001b[43mtestfile\u001b[49m\u001b[38;5;241;43m=\u001b[39;49m\u001b[43mdataset_ssp126_path\u001b[49m\u001b[43m,\u001b[49m\u001b[43m \u001b[49m\u001b[43mworking_dir\u001b[49m\u001b[38;5;241;43m=\u001b[39;49m\u001b[43mCF_dir\u001b[49m\u001b[43m)\u001b[49m\n",
      "File \u001b[1;32m~\\GitHub\\coclicodata\\src\\coclicodata\\etl\\cf_compliancy_checker.py:106\u001b[0m, in \u001b[0;36mcheck_compliancy\u001b[1;34m(testfile, working_dir, update_versions, download_tables)\u001b[0m\n\u001b[0;32m     94\u001b[0m \u001b[38;5;28;01mfrom\u001b[39;00m \u001b[38;5;21;01mcfchecker\u001b[39;00m\u001b[38;5;21;01m.\u001b[39;00m\u001b[38;5;21;01mcfchecks\u001b[39;00m \u001b[38;5;28;01mimport\u001b[39;00m (\n\u001b[0;32m     95\u001b[0m     CFChecker,\n\u001b[0;32m     96\u001b[0m )  \u001b[38;5;66;03m# import the cfchecker package i.s.o. subprocess application as in https://cmip-data-pool.dkrz.de/quality-assurance-cfchecker-ceda.html\u001b[39;00m\n\u001b[0;32m     98\u001b[0m inst \u001b[38;5;241m=\u001b[39m CFChecker(\n\u001b[0;32m     99\u001b[0m     useFileName\u001b[38;5;241m=\u001b[39m\u001b[38;5;124m\"\u001b[39m\u001b[38;5;124myes\u001b[39m\u001b[38;5;124m\"\u001b[39m,\n\u001b[0;32m    100\u001b[0m     cfStandardNamesXML\u001b[38;5;241m=\u001b[39mtable_dict[\u001b[38;5;124m\"\u001b[39m\u001b[38;5;124mcf-standard-name-table\u001b[39m\u001b[38;5;124m\"\u001b[39m][\u001b[38;5;124m\"\u001b[39m\u001b[38;5;124murl\u001b[39m\u001b[38;5;124m\"\u001b[39m],\n\u001b[1;32m   (...)\u001b[0m\n\u001b[0;32m    104\u001b[0m     silent\u001b[38;5;241m=\u001b[39m\u001b[38;5;28;01mFalse\u001b[39;00m,\n\u001b[0;32m    105\u001b[0m )\n\u001b[1;32m--> 106\u001b[0m \u001b[43minst\u001b[49m\u001b[38;5;241;43m.\u001b[39;49m\u001b[43mchecker\u001b[49m\u001b[43m(\u001b[49m\u001b[38;5;28;43mstr\u001b[39;49m\u001b[43m(\u001b[49m\u001b[43mtestfile\u001b[49m\u001b[43m)\u001b[49m\u001b[43m)\u001b[49m\n",
      "File \u001b[1;32mc:\\ProgramData\\miniforge3\\envs\\coclico\\Lib\\site-packages\\cfchecker\\cfchecks.py:531\u001b[0m, in \u001b[0;36mCFChecker.checker\u001b[1;34m(self, file)\u001b[0m\n\u001b[0;32m    528\u001b[0m     \u001b[38;5;28mprint\u001b[39m(\u001b[38;5;124m\"\u001b[39m\u001b[38;5;124m\"\u001b[39m)\n\u001b[0;32m    530\u001b[0m \u001b[38;5;28;01mtry\u001b[39;00m:\n\u001b[1;32m--> 531\u001b[0m     \u001b[38;5;28;01mreturn\u001b[39;00m \u001b[38;5;28;43mself\u001b[39;49m\u001b[38;5;241;43m.\u001b[39;49m\u001b[43m_checker\u001b[49m\u001b[43m(\u001b[49m\u001b[43m)\u001b[49m\n\u001b[0;32m    532\u001b[0m \u001b[38;5;28;01mfinally\u001b[39;00m:\n\u001b[0;32m    533\u001b[0m     \u001b[38;5;28mself\u001b[39m\u001b[38;5;241m.\u001b[39mf\u001b[38;5;241m.\u001b[39mclose()\n",
      "File \u001b[1;32mc:\\ProgramData\\miniforge3\\envs\\coclico\\Lib\\site-packages\\cfchecker\\cfchecks.py:814\u001b[0m, in \u001b[0;36mCFChecker._checker\u001b[1;34m(self)\u001b[0m\n\u001b[0;32m    812\u001b[0m \u001b[38;5;28;01mif\u001b[39;00m var \u001b[38;5;129;01min\u001b[39;00m coordVars:\n\u001b[0;32m    813\u001b[0m     \u001b[38;5;28mself\u001b[39m\u001b[38;5;241m.\u001b[39mchkMultiDimCoord(var, axes)\n\u001b[1;32m--> 814\u001b[0m     \u001b[38;5;28;43mself\u001b[39;49m\u001b[38;5;241;43m.\u001b[39;49m\u001b[43mchkValuesMonotonic\u001b[49m\u001b[43m(\u001b[49m\u001b[43mvar\u001b[49m\u001b[43m)\u001b[49m\n\u001b[0;32m    816\u001b[0m \u001b[38;5;28;01mif\u001b[39;00m var \u001b[38;5;129;01min\u001b[39;00m gridMappingVars:\n\u001b[0;32m    817\u001b[0m     \u001b[38;5;28mself\u001b[39m\u001b[38;5;241m.\u001b[39mchkGridMappingVar(var)\n",
      "File \u001b[1;32mc:\\ProgramData\\miniforge3\\envs\\coclico\\Lib\\site-packages\\cfchecker\\cfchecks.py:3259\u001b[0m, in \u001b[0;36mCFChecker.chkValuesMonotonic\u001b[1;34m(self, varName)\u001b[0m\n\u001b[0;32m   3255\u001b[0m \u001b[38;5;250m\u001b[39m\u001b[38;5;124;03m\"\"\"A coordinate variable must have values that are strictly monotonic\u001b[39;00m\n\u001b[0;32m   3256\u001b[0m \u001b[38;5;124;03m(increasing or decreasing).\"\"\"\u001b[39;00m\n\u001b[0;32m   3257\u001b[0m values \u001b[38;5;241m=\u001b[39m \u001b[38;5;28mself\u001b[39m\u001b[38;5;241m.\u001b[39mf\u001b[38;5;241m.\u001b[39mvariables[varName][:]\n\u001b[1;32m-> 3259\u001b[0m \u001b[38;5;28;01mif\u001b[39;00m \u001b[38;5;129;01mnot\u001b[39;00m \u001b[38;5;28;43mself\u001b[39;49m\u001b[38;5;241;43m.\u001b[39;49m\u001b[43misStrictlyMonotonic\u001b[49m\u001b[43m(\u001b[49m\u001b[43mvalues\u001b[49m\u001b[43m)\u001b[49m:\n\u001b[0;32m   3260\u001b[0m     \u001b[38;5;28mself\u001b[39m\u001b[38;5;241m.\u001b[39m_add_error(\u001b[38;5;124m\"\u001b[39m\u001b[38;5;124mco-ordinate variable not monotonic\u001b[39m\u001b[38;5;124m\"\u001b[39m, varName, code\u001b[38;5;241m=\u001b[39m\u001b[38;5;124m\"\u001b[39m\u001b[38;5;124m5\u001b[39m\u001b[38;5;124m\"\u001b[39m)\n",
      "File \u001b[1;32mc:\\ProgramData\\miniforge3\\envs\\coclico\\Lib\\site-packages\\cfchecker\\cfchecks.py:3265\u001b[0m, in \u001b[0;36mCFChecker.isStrictlyMonotonic\u001b[1;34m(self, values)\u001b[0m\n\u001b[0;32m   3262\u001b[0m \u001b[38;5;28;01mdef\u001b[39;00m \u001b[38;5;21misStrictlyMonotonic\u001b[39m(\u001b[38;5;28mself\u001b[39m, values):\n\u001b[0;32m   3263\u001b[0m \u001b[38;5;250m    \u001b[39m\u001b[38;5;124;03m\"\"\"Is array strictly monotonic increasing or decreasing\"\"\"\u001b[39;00m\n\u001b[1;32m-> 3265\u001b[0m     \u001b[38;5;28;01mif\u001b[39;00m numpy\u001b[38;5;241m.\u001b[39mall(\u001b[43mnumpy\u001b[49m\u001b[38;5;241;43m.\u001b[39;49m\u001b[43mdiff\u001b[49m\u001b[43m(\u001b[49m\u001b[43mvalues\u001b[49m\u001b[43m)\u001b[49m \u001b[38;5;241m>\u001b[39m \u001b[38;5;241m0\u001b[39m):\n\u001b[0;32m   3266\u001b[0m         \u001b[38;5;66;03m# monotonic increasing\u001b[39;00m\n\u001b[0;32m   3267\u001b[0m         \u001b[38;5;28;01mreturn\u001b[39;00m \u001b[38;5;241m1\u001b[39m\n\u001b[0;32m   3268\u001b[0m     \u001b[38;5;28;01melif\u001b[39;00m numpy\u001b[38;5;241m.\u001b[39mall(numpy\u001b[38;5;241m.\u001b[39mdiff(values) \u001b[38;5;241m<\u001b[39m \u001b[38;5;241m0\u001b[39m):\n\u001b[0;32m   3269\u001b[0m         \u001b[38;5;66;03m# monotonic decreasing\u001b[39;00m\n",
      "File \u001b[1;32mc:\\ProgramData\\miniforge3\\envs\\coclico\\Lib\\site-packages\\numpy\\lib\\function_base.py:1452\u001b[0m, in \u001b[0;36mdiff\u001b[1;34m(a, n, axis, prepend, append)\u001b[0m\n\u001b[0;32m   1450\u001b[0m op \u001b[38;5;241m=\u001b[39m not_equal \u001b[38;5;28;01mif\u001b[39;00m a\u001b[38;5;241m.\u001b[39mdtype \u001b[38;5;241m==\u001b[39m np\u001b[38;5;241m.\u001b[39mbool_ \u001b[38;5;28;01melse\u001b[39;00m subtract\n\u001b[0;32m   1451\u001b[0m \u001b[38;5;28;01mfor\u001b[39;00m _ \u001b[38;5;129;01min\u001b[39;00m \u001b[38;5;28mrange\u001b[39m(n):\n\u001b[1;32m-> 1452\u001b[0m     a \u001b[38;5;241m=\u001b[39m \u001b[43mop\u001b[49m\u001b[43m(\u001b[49m\u001b[43ma\u001b[49m\u001b[43m[\u001b[49m\u001b[43mslice1\u001b[49m\u001b[43m]\u001b[49m\u001b[43m,\u001b[49m\u001b[43m \u001b[49m\u001b[43ma\u001b[49m\u001b[43m[\u001b[49m\u001b[43mslice2\u001b[49m\u001b[43m]\u001b[49m\u001b[43m)\u001b[49m\n\u001b[0;32m   1454\u001b[0m \u001b[38;5;28;01mreturn\u001b[39;00m a\n",
      "\u001b[1;31mTypeError\u001b[0m: unsupported operand type(s) for -: 'str' and 'str'"
     ]
    },
    {
     "data": {
      "application/javascript": "\n            setTimeout(function() {\n                var nbb_cell_id = 21;\n                var nbb_unformatted_code = \"%%capture cap --no-stderr\\n# check original CF compliancy\\n\\ncheck_compliancy(testfile=dataset_ssp126_path, working_dir=CF_dir)\";\n                var nbb_formatted_code = \"%%capture cap --no-stderr\\n# check original CF compliancy\\n\\ncheck_compliancy(testfile=dataset_ssp126_path, working_dir=CF_dir)\";\n                var nbb_cells = Jupyter.notebook.get_cells();\n                for (var i = 0; i < nbb_cells.length; ++i) {\n                    if (nbb_cells[i].input_prompt_number == nbb_cell_id) {\n                        if (nbb_cells[i].get_text() == nbb_unformatted_code) {\n                             nbb_cells[i].set_text(nbb_formatted_code);\n                        }\n                        break;\n                    }\n                }\n            }, 500);\n            ",
      "text/plain": [
       "<IPython.core.display.Javascript object>"
      ]
     },
     "metadata": {},
     "output_type": "display_data"
    }
   ],
   "source": [
    "%%capture cap --no-stderr\n",
    "# check original CF compliancy\n",
    "\n",
    "check_compliancy(testfile=dataset_ssp126_path, working_dir=CF_dir)"
   ]
  },
  {
   "cell_type": "code",
   "execution_count": 22,
   "id": "f5550244",
   "metadata": {},
   "outputs": [
    {
     "ename": "IndexError",
     "evalue": "list index out of range",
     "output_type": "error",
     "traceback": [
      "\u001b[1;31m---------------------------------------------------------------------------\u001b[0m",
      "\u001b[1;31mIndexError\u001b[0m                                Traceback (most recent call last)",
      "Cell \u001b[1;32mIn[22], line 2\u001b[0m\n\u001b[0;32m      1\u001b[0m \u001b[38;5;66;03m# save original CF compliancy\u001b[39;00m\n\u001b[1;32m----> 2\u001b[0m \u001b[43msave_compliancy\u001b[49m\u001b[43m(\u001b[49m\u001b[43mcap\u001b[49m\u001b[43m,\u001b[49m\u001b[43m \u001b[49m\u001b[43mtestfile\u001b[49m\u001b[38;5;241;43m=\u001b[39;49m\u001b[43mdataset_ssp126_path\u001b[49m\u001b[43m,\u001b[49m\u001b[43m \u001b[49m\u001b[43mworking_dir\u001b[49m\u001b[38;5;241;43m=\u001b[39;49m\u001b[43mCF_dir\u001b[49m\u001b[43m)\u001b[49m\n",
      "File \u001b[1;32m~\\GitHub\\coclicodata\\src\\coclicodata\\etl\\cf_compliancy_checker.py:165\u001b[0m, in \u001b[0;36msave_compliancy\u001b[1;34m(cap, testfile, working_dir)\u001b[0m\n\u001b[0;32m    163\u001b[0m result_dict \u001b[38;5;241m=\u001b[39m {}\n\u001b[0;32m    164\u001b[0m \u001b[38;5;28;01mfor\u001b[39;00m idx, f \u001b[38;5;129;01min\u001b[39;00m \u001b[38;5;28menumerate\u001b[39m(files):\n\u001b[1;32m--> 165\u001b[0m     result_dict[f] \u001b[38;5;241m=\u001b[39m {\u001b[38;5;124m\"\u001b[39m\u001b[38;5;124mwarnings\u001b[39m\u001b[38;5;124m\"\u001b[39m: \u001b[43mwarnings\u001b[49m\u001b[43m[\u001b[49m\u001b[43midx\u001b[49m\u001b[43m]\u001b[49m, \u001b[38;5;124m\"\u001b[39m\u001b[38;5;124merrors\u001b[39m\u001b[38;5;124m\"\u001b[39m: errors[idx]}\n\u001b[0;32m    167\u001b[0m \u001b[38;5;28mprint\u001b[39m(result_dict)\n",
      "\u001b[1;31mIndexError\u001b[0m: list index out of range"
     ]
    },
    {
     "data": {
      "application/javascript": "\n            setTimeout(function() {\n                var nbb_cell_id = 22;\n                var nbb_unformatted_code = \"# save original CF compliancy\\nsave_compliancy(cap, testfile=dataset_ssp126_path, working_dir=CF_dir)\";\n                var nbb_formatted_code = \"# save original CF compliancy\\nsave_compliancy(cap, testfile=dataset_ssp126_path, working_dir=CF_dir)\";\n                var nbb_cells = Jupyter.notebook.get_cells();\n                for (var i = 0; i < nbb_cells.length; ++i) {\n                    if (nbb_cells[i].input_prompt_number == nbb_cell_id) {\n                        if (nbb_cells[i].get_text() == nbb_unformatted_code) {\n                             nbb_cells[i].set_text(nbb_formatted_code);\n                        }\n                        break;\n                    }\n                }\n            }, 500);\n            ",
      "text/plain": [
       "<IPython.core.display.Javascript object>"
      ]
     },
     "metadata": {},
     "output_type": "display_data"
    }
   ],
   "source": [
    "# save original CF compliancy\n",
    "save_compliancy(cap, testfile=dataset_ssp126_path, working_dir=CF_dir)"
   ]
  },
  {
   "cell_type": "code",
   "execution_count": null,
   "id": "ac6632d3",
   "metadata": {},
   "outputs": [
    {
     "data": {
      "application/javascript": "\n            setTimeout(function() {\n                var nbb_cell_id = 34;\n                var nbb_unformatted_code = \"%%capture cap --no-stderr\\n# check original CF compliancy\\n\\ncheck_compliancy(testfile=dataset_rcp45_path, working_dir=CF_dir)\";\n                var nbb_formatted_code = \"%%capture cap --no-stderr\\n# check original CF compliancy\\n\\ncheck_compliancy(testfile=dataset_rcp45_path, working_dir=CF_dir)\";\n                var nbb_cells = Jupyter.notebook.get_cells();\n                for (var i = 0; i < nbb_cells.length; ++i) {\n                    if (nbb_cells[i].input_prompt_number == nbb_cell_id) {\n                        if (nbb_cells[i].get_text() == nbb_unformatted_code) {\n                             nbb_cells[i].set_text(nbb_formatted_code);\n                        }\n                        break;\n                    }\n                }\n            }, 500);\n            ",
      "text/plain": [
       "<IPython.core.display.Javascript object>"
      ]
     },
     "metadata": {},
     "output_type": "display_data"
    }
   ],
   "source": [
    "%%capture cap --no-stderr\n",
    "# check original CF compliancy\n",
    "\n",
    "check_compliancy(testfile=dataset_ssp245_path, working_dir=CF_dir)"
   ]
  },
  {
   "cell_type": "code",
   "execution_count": null,
   "id": "4f94a2e4",
   "metadata": {},
   "outputs": [
    {
     "ename": "IndexError",
     "evalue": "list index out of range",
     "output_type": "error",
     "traceback": [
      "\u001b[1;31m---------------------------------------------------------------------------\u001b[0m",
      "\u001b[1;31mIndexError\u001b[0m                                Traceback (most recent call last)",
      "Cell \u001b[1;32mIn[7], line 2\u001b[0m\n\u001b[0;32m      1\u001b[0m \u001b[38;5;66;03m# save original CF compliancy\u001b[39;00m\n\u001b[1;32m----> 2\u001b[0m \u001b[43msave_compliancy\u001b[49m\u001b[43m(\u001b[49m\u001b[43mcap\u001b[49m\u001b[43m,\u001b[49m\u001b[43m \u001b[49m\u001b[43mtestfile\u001b[49m\u001b[38;5;241;43m=\u001b[39;49m\u001b[43mdataset_ssp245_path\u001b[49m\u001b[43m,\u001b[49m\u001b[43m \u001b[49m\u001b[43mworking_dir\u001b[49m\u001b[38;5;241;43m=\u001b[39;49m\u001b[43mCF_dir\u001b[49m\u001b[43m)\u001b[49m\n",
      "File \u001b[1;32m~\\GitHub\\coclicodata\\src\\coclicodata\\etl\\cf_compliancy_checker.py:165\u001b[0m, in \u001b[0;36msave_compliancy\u001b[1;34m(cap, testfile, working_dir)\u001b[0m\n\u001b[0;32m    163\u001b[0m result_dict \u001b[38;5;241m=\u001b[39m {}\n\u001b[0;32m    164\u001b[0m \u001b[38;5;28;01mfor\u001b[39;00m idx, f \u001b[38;5;129;01min\u001b[39;00m \u001b[38;5;28menumerate\u001b[39m(files):\n\u001b[1;32m--> 165\u001b[0m     result_dict[f] \u001b[38;5;241m=\u001b[39m {\u001b[38;5;124m\"\u001b[39m\u001b[38;5;124mwarnings\u001b[39m\u001b[38;5;124m\"\u001b[39m: \u001b[43mwarnings\u001b[49m\u001b[43m[\u001b[49m\u001b[43midx\u001b[49m\u001b[43m]\u001b[49m, \u001b[38;5;124m\"\u001b[39m\u001b[38;5;124merrors\u001b[39m\u001b[38;5;124m\"\u001b[39m: errors[idx]}\n\u001b[0;32m    167\u001b[0m \u001b[38;5;28mprint\u001b[39m(result_dict)\n",
      "\u001b[1;31mIndexError\u001b[0m: list index out of range"
     ]
    },
    {
     "data": {
      "application/javascript": "\n            setTimeout(function() {\n                var nbb_cell_id = 7;\n                var nbb_unformatted_code = \"# save original CF compliancy\\nsave_compliancy(cap, testfile=dataset_ssp245_path, working_dir=CF_dir)\";\n                var nbb_formatted_code = \"# save original CF compliancy\\nsave_compliancy(cap, testfile=dataset_ssp245_path, working_dir=CF_dir)\";\n                var nbb_cells = Jupyter.notebook.get_cells();\n                for (var i = 0; i < nbb_cells.length; ++i) {\n                    if (nbb_cells[i].input_prompt_number == nbb_cell_id) {\n                        if (nbb_cells[i].get_text() == nbb_unformatted_code) {\n                             nbb_cells[i].set_text(nbb_formatted_code);\n                        }\n                        break;\n                    }\n                }\n            }, 500);\n            ",
      "text/plain": [
       "<IPython.core.display.Javascript object>"
      ]
     },
     "metadata": {},
     "output_type": "display_data"
    }
   ],
   "source": [
    "# save original CF compliancy\n",
    "save_compliancy(cap, testfile=dataset_ssp245_path, working_dir=CF_dir)"
   ]
  },
  {
   "cell_type": "code",
   "execution_count": null,
   "id": "05e69f6a",
   "metadata": {},
   "outputs": [
    {
     "ename": "TypeError",
     "evalue": "unsupported operand type(s) for -: 'str' and 'str'",
     "output_type": "error",
     "traceback": [
      "\u001b[1;31m---------------------------------------------------------------------------\u001b[0m",
      "\u001b[1;31mTypeError\u001b[0m                                 Traceback (most recent call last)",
      "Cell \u001b[1;32mIn[8], line 3\u001b[0m\n\u001b[0;32m      1\u001b[0m \u001b[38;5;66;03m# check original CF compliancy\u001b[39;00m\n\u001b[1;32m----> 3\u001b[0m \u001b[43mcheck_compliancy\u001b[49m\u001b[43m(\u001b[49m\u001b[43mtestfile\u001b[49m\u001b[38;5;241;43m=\u001b[39;49m\u001b[43mdataset_ssp585_path\u001b[49m\u001b[43m,\u001b[49m\u001b[43m \u001b[49m\u001b[43mworking_dir\u001b[49m\u001b[38;5;241;43m=\u001b[39;49m\u001b[43mCF_dir\u001b[49m\u001b[43m)\u001b[49m\n",
      "File \u001b[1;32m~\\GitHub\\coclicodata\\src\\coclicodata\\etl\\cf_compliancy_checker.py:106\u001b[0m, in \u001b[0;36mcheck_compliancy\u001b[1;34m(testfile, working_dir, update_versions, download_tables)\u001b[0m\n\u001b[0;32m     94\u001b[0m \u001b[38;5;28;01mfrom\u001b[39;00m \u001b[38;5;21;01mcfchecker\u001b[39;00m\u001b[38;5;21;01m.\u001b[39;00m\u001b[38;5;21;01mcfchecks\u001b[39;00m \u001b[38;5;28;01mimport\u001b[39;00m (\n\u001b[0;32m     95\u001b[0m     CFChecker,\n\u001b[0;32m     96\u001b[0m )  \u001b[38;5;66;03m# import the cfchecker package i.s.o. subprocess application as in https://cmip-data-pool.dkrz.de/quality-assurance-cfchecker-ceda.html\u001b[39;00m\n\u001b[0;32m     98\u001b[0m inst \u001b[38;5;241m=\u001b[39m CFChecker(\n\u001b[0;32m     99\u001b[0m     useFileName\u001b[38;5;241m=\u001b[39m\u001b[38;5;124m\"\u001b[39m\u001b[38;5;124myes\u001b[39m\u001b[38;5;124m\"\u001b[39m,\n\u001b[0;32m    100\u001b[0m     cfStandardNamesXML\u001b[38;5;241m=\u001b[39mtable_dict[\u001b[38;5;124m\"\u001b[39m\u001b[38;5;124mcf-standard-name-table\u001b[39m\u001b[38;5;124m\"\u001b[39m][\u001b[38;5;124m\"\u001b[39m\u001b[38;5;124murl\u001b[39m\u001b[38;5;124m\"\u001b[39m],\n\u001b[1;32m   (...)\u001b[0m\n\u001b[0;32m    104\u001b[0m     silent\u001b[38;5;241m=\u001b[39m\u001b[38;5;28;01mFalse\u001b[39;00m,\n\u001b[0;32m    105\u001b[0m )\n\u001b[1;32m--> 106\u001b[0m \u001b[43minst\u001b[49m\u001b[38;5;241;43m.\u001b[39;49m\u001b[43mchecker\u001b[49m\u001b[43m(\u001b[49m\u001b[38;5;28;43mstr\u001b[39;49m\u001b[43m(\u001b[49m\u001b[43mtestfile\u001b[49m\u001b[43m)\u001b[49m\u001b[43m)\u001b[49m\n",
      "File \u001b[1;32mc:\\ProgramData\\miniforge3\\envs\\coclico\\Lib\\site-packages\\cfchecker\\cfchecks.py:531\u001b[0m, in \u001b[0;36mCFChecker.checker\u001b[1;34m(self, file)\u001b[0m\n\u001b[0;32m    528\u001b[0m     \u001b[38;5;28mprint\u001b[39m(\u001b[38;5;124m\"\u001b[39m\u001b[38;5;124m\"\u001b[39m)\n\u001b[0;32m    530\u001b[0m \u001b[38;5;28;01mtry\u001b[39;00m:\n\u001b[1;32m--> 531\u001b[0m     \u001b[38;5;28;01mreturn\u001b[39;00m \u001b[38;5;28;43mself\u001b[39;49m\u001b[38;5;241;43m.\u001b[39;49m\u001b[43m_checker\u001b[49m\u001b[43m(\u001b[49m\u001b[43m)\u001b[49m\n\u001b[0;32m    532\u001b[0m \u001b[38;5;28;01mfinally\u001b[39;00m:\n\u001b[0;32m    533\u001b[0m     \u001b[38;5;28mself\u001b[39m\u001b[38;5;241m.\u001b[39mf\u001b[38;5;241m.\u001b[39mclose()\n",
      "File \u001b[1;32mc:\\ProgramData\\miniforge3\\envs\\coclico\\Lib\\site-packages\\cfchecker\\cfchecks.py:814\u001b[0m, in \u001b[0;36mCFChecker._checker\u001b[1;34m(self)\u001b[0m\n\u001b[0;32m    812\u001b[0m \u001b[38;5;28;01mif\u001b[39;00m var \u001b[38;5;129;01min\u001b[39;00m coordVars:\n\u001b[0;32m    813\u001b[0m     \u001b[38;5;28mself\u001b[39m\u001b[38;5;241m.\u001b[39mchkMultiDimCoord(var, axes)\n\u001b[1;32m--> 814\u001b[0m     \u001b[38;5;28;43mself\u001b[39;49m\u001b[38;5;241;43m.\u001b[39;49m\u001b[43mchkValuesMonotonic\u001b[49m\u001b[43m(\u001b[49m\u001b[43mvar\u001b[49m\u001b[43m)\u001b[49m\n\u001b[0;32m    816\u001b[0m \u001b[38;5;28;01mif\u001b[39;00m var \u001b[38;5;129;01min\u001b[39;00m gridMappingVars:\n\u001b[0;32m    817\u001b[0m     \u001b[38;5;28mself\u001b[39m\u001b[38;5;241m.\u001b[39mchkGridMappingVar(var)\n",
      "File \u001b[1;32mc:\\ProgramData\\miniforge3\\envs\\coclico\\Lib\\site-packages\\cfchecker\\cfchecks.py:3259\u001b[0m, in \u001b[0;36mCFChecker.chkValuesMonotonic\u001b[1;34m(self, varName)\u001b[0m\n\u001b[0;32m   3255\u001b[0m \u001b[38;5;250m\u001b[39m\u001b[38;5;124;03m\"\"\"A coordinate variable must have values that are strictly monotonic\u001b[39;00m\n\u001b[0;32m   3256\u001b[0m \u001b[38;5;124;03m(increasing or decreasing).\"\"\"\u001b[39;00m\n\u001b[0;32m   3257\u001b[0m values \u001b[38;5;241m=\u001b[39m \u001b[38;5;28mself\u001b[39m\u001b[38;5;241m.\u001b[39mf\u001b[38;5;241m.\u001b[39mvariables[varName][:]\n\u001b[1;32m-> 3259\u001b[0m \u001b[38;5;28;01mif\u001b[39;00m \u001b[38;5;129;01mnot\u001b[39;00m \u001b[38;5;28;43mself\u001b[39;49m\u001b[38;5;241;43m.\u001b[39;49m\u001b[43misStrictlyMonotonic\u001b[49m\u001b[43m(\u001b[49m\u001b[43mvalues\u001b[49m\u001b[43m)\u001b[49m:\n\u001b[0;32m   3260\u001b[0m     \u001b[38;5;28mself\u001b[39m\u001b[38;5;241m.\u001b[39m_add_error(\u001b[38;5;124m\"\u001b[39m\u001b[38;5;124mco-ordinate variable not monotonic\u001b[39m\u001b[38;5;124m\"\u001b[39m, varName, code\u001b[38;5;241m=\u001b[39m\u001b[38;5;124m\"\u001b[39m\u001b[38;5;124m5\u001b[39m\u001b[38;5;124m\"\u001b[39m)\n",
      "File \u001b[1;32mc:\\ProgramData\\miniforge3\\envs\\coclico\\Lib\\site-packages\\cfchecker\\cfchecks.py:3265\u001b[0m, in \u001b[0;36mCFChecker.isStrictlyMonotonic\u001b[1;34m(self, values)\u001b[0m\n\u001b[0;32m   3262\u001b[0m \u001b[38;5;28;01mdef\u001b[39;00m \u001b[38;5;21misStrictlyMonotonic\u001b[39m(\u001b[38;5;28mself\u001b[39m, values):\n\u001b[0;32m   3263\u001b[0m \u001b[38;5;250m    \u001b[39m\u001b[38;5;124;03m\"\"\"Is array strictly monotonic increasing or decreasing\"\"\"\u001b[39;00m\n\u001b[1;32m-> 3265\u001b[0m     \u001b[38;5;28;01mif\u001b[39;00m numpy\u001b[38;5;241m.\u001b[39mall(\u001b[43mnumpy\u001b[49m\u001b[38;5;241;43m.\u001b[39;49m\u001b[43mdiff\u001b[49m\u001b[43m(\u001b[49m\u001b[43mvalues\u001b[49m\u001b[43m)\u001b[49m \u001b[38;5;241m>\u001b[39m \u001b[38;5;241m0\u001b[39m):\n\u001b[0;32m   3266\u001b[0m         \u001b[38;5;66;03m# monotonic increasing\u001b[39;00m\n\u001b[0;32m   3267\u001b[0m         \u001b[38;5;28;01mreturn\u001b[39;00m \u001b[38;5;241m1\u001b[39m\n\u001b[0;32m   3268\u001b[0m     \u001b[38;5;28;01melif\u001b[39;00m numpy\u001b[38;5;241m.\u001b[39mall(numpy\u001b[38;5;241m.\u001b[39mdiff(values) \u001b[38;5;241m<\u001b[39m \u001b[38;5;241m0\u001b[39m):\n\u001b[0;32m   3269\u001b[0m         \u001b[38;5;66;03m# monotonic decreasing\u001b[39;00m\n",
      "File \u001b[1;32mc:\\ProgramData\\miniforge3\\envs\\coclico\\Lib\\site-packages\\numpy\\lib\\function_base.py:1452\u001b[0m, in \u001b[0;36mdiff\u001b[1;34m(a, n, axis, prepend, append)\u001b[0m\n\u001b[0;32m   1450\u001b[0m op \u001b[38;5;241m=\u001b[39m not_equal \u001b[38;5;28;01mif\u001b[39;00m a\u001b[38;5;241m.\u001b[39mdtype \u001b[38;5;241m==\u001b[39m np\u001b[38;5;241m.\u001b[39mbool_ \u001b[38;5;28;01melse\u001b[39;00m subtract\n\u001b[0;32m   1451\u001b[0m \u001b[38;5;28;01mfor\u001b[39;00m _ \u001b[38;5;129;01min\u001b[39;00m \u001b[38;5;28mrange\u001b[39m(n):\n\u001b[1;32m-> 1452\u001b[0m     a \u001b[38;5;241m=\u001b[39m \u001b[43mop\u001b[49m\u001b[43m(\u001b[49m\u001b[43ma\u001b[49m\u001b[43m[\u001b[49m\u001b[43mslice1\u001b[49m\u001b[43m]\u001b[49m\u001b[43m,\u001b[49m\u001b[43m \u001b[49m\u001b[43ma\u001b[49m\u001b[43m[\u001b[49m\u001b[43mslice2\u001b[49m\u001b[43m]\u001b[49m\u001b[43m)\u001b[49m\n\u001b[0;32m   1454\u001b[0m \u001b[38;5;28;01mreturn\u001b[39;00m a\n",
      "\u001b[1;31mTypeError\u001b[0m: unsupported operand type(s) for -: 'str' and 'str'"
     ]
    },
    {
     "data": {
      "application/javascript": "\n            setTimeout(function() {\n                var nbb_cell_id = 8;\n                var nbb_unformatted_code = \"%%capture cap --no-stderr\\n# check original CF compliancy\\n\\ncheck_compliancy(testfile=dataset_ssp585_path, working_dir=CF_dir)\";\n                var nbb_formatted_code = \"%%capture cap --no-stderr\\n# check original CF compliancy\\n\\ncheck_compliancy(testfile=dataset_ssp585_path, working_dir=CF_dir)\";\n                var nbb_cells = Jupyter.notebook.get_cells();\n                for (var i = 0; i < nbb_cells.length; ++i) {\n                    if (nbb_cells[i].input_prompt_number == nbb_cell_id) {\n                        if (nbb_cells[i].get_text() == nbb_unformatted_code) {\n                             nbb_cells[i].set_text(nbb_formatted_code);\n                        }\n                        break;\n                    }\n                }\n            }, 500);\n            ",
      "text/plain": [
       "<IPython.core.display.Javascript object>"
      ]
     },
     "metadata": {},
     "output_type": "display_data"
    }
   ],
   "source": [
    "%%capture cap --no-stderr\n",
    "# check original CF compliancy\n",
    "\n",
    "check_compliancy(testfile=dataset_ssp585_path, working_dir=CF_dir)"
   ]
  },
  {
   "cell_type": "code",
   "execution_count": 13,
   "id": "d444ca8a",
   "metadata": {},
   "outputs": [
    {
     "ename": "IndexError",
     "evalue": "list index out of range",
     "output_type": "error",
     "traceback": [
      "\u001b[1;31m---------------------------------------------------------------------------\u001b[0m",
      "\u001b[1;31mIndexError\u001b[0m                                Traceback (most recent call last)",
      "Cell \u001b[1;32mIn[13], line 2\u001b[0m\n\u001b[0;32m      1\u001b[0m \u001b[38;5;66;03m# save original CF compliancy\u001b[39;00m\n\u001b[1;32m----> 2\u001b[0m \u001b[43msave_compliancy\u001b[49m\u001b[43m(\u001b[49m\u001b[43mcap\u001b[49m\u001b[43m,\u001b[49m\u001b[43m \u001b[49m\u001b[43mtestfile\u001b[49m\u001b[38;5;241;43m=\u001b[39;49m\u001b[43mdataset_ssp585_path\u001b[49m\u001b[43m,\u001b[49m\u001b[43m \u001b[49m\u001b[43mworking_dir\u001b[49m\u001b[38;5;241;43m=\u001b[39;49m\u001b[43mCF_dir\u001b[49m\u001b[43m)\u001b[49m\n",
      "File \u001b[1;32m~\\GitHub\\coclicodata\\src\\coclicodata\\etl\\cf_compliancy_checker.py:165\u001b[0m, in \u001b[0;36msave_compliancy\u001b[1;34m(cap, testfile, working_dir)\u001b[0m\n\u001b[0;32m    163\u001b[0m result_dict \u001b[38;5;241m=\u001b[39m {}\n\u001b[0;32m    164\u001b[0m \u001b[38;5;28;01mfor\u001b[39;00m idx, f \u001b[38;5;129;01min\u001b[39;00m \u001b[38;5;28menumerate\u001b[39m(files):\n\u001b[1;32m--> 165\u001b[0m     result_dict[f] \u001b[38;5;241m=\u001b[39m {\u001b[38;5;124m\"\u001b[39m\u001b[38;5;124mwarnings\u001b[39m\u001b[38;5;124m\"\u001b[39m: \u001b[43mwarnings\u001b[49m\u001b[43m[\u001b[49m\u001b[43midx\u001b[49m\u001b[43m]\u001b[49m, \u001b[38;5;124m\"\u001b[39m\u001b[38;5;124merrors\u001b[39m\u001b[38;5;124m\"\u001b[39m: errors[idx]}\n\u001b[0;32m    167\u001b[0m \u001b[38;5;28mprint\u001b[39m(result_dict)\n",
      "\u001b[1;31mIndexError\u001b[0m: list index out of range"
     ]
    },
    {
     "data": {
      "application/javascript": "\n            setTimeout(function() {\n                var nbb_cell_id = 13;\n                var nbb_unformatted_code = \"# save original CF compliancy\\nsave_compliancy(cap, testfile=dataset_ssp585_path, working_dir=CF_dir)\";\n                var nbb_formatted_code = \"# save original CF compliancy\\nsave_compliancy(cap, testfile=dataset_ssp585_path, working_dir=CF_dir)\";\n                var nbb_cells = Jupyter.notebook.get_cells();\n                for (var i = 0; i < nbb_cells.length; ++i) {\n                    if (nbb_cells[i].input_prompt_number == nbb_cell_id) {\n                        if (nbb_cells[i].get_text() == nbb_unformatted_code) {\n                             nbb_cells[i].set_text(nbb_formatted_code);\n                        }\n                        break;\n                    }\n                }\n            }, 500);\n            ",
      "text/plain": [
       "<IPython.core.display.Javascript object>"
      ]
     },
     "metadata": {},
     "output_type": "display_data"
    }
   ],
   "source": [
    "# save original CF compliancy\n",
    "save_compliancy(cap, testfile=dataset_ssp585_path, working_dir=CF_dir)"
   ]
  },
  {
   "cell_type": "code",
   "execution_count": 14,
   "id": "313a67ad",
   "metadata": {},
   "outputs": [
    {
     "ename": "FatalCheckerError",
     "evalue": "",
     "output_type": "error",
     "traceback": [
      "\u001b[1;31m---------------------------------------------------------------------------\u001b[0m",
      "\u001b[1;31mRuntimeError\u001b[0m                              Traceback (most recent call last)",
      "File \u001b[1;32mc:\\ProgramData\\miniforge3\\envs\\coclico\\Lib\\site-packages\\cfchecker\\cfchecks.py:470\u001b[0m, in \u001b[0;36mCFChecker.checker\u001b[1;34m(self, file)\u001b[0m\n\u001b[0;32m    469\u001b[0m \u001b[38;5;28;01mtry\u001b[39;00m:\n\u001b[1;32m--> 470\u001b[0m     \u001b[38;5;28mself\u001b[39m\u001b[38;5;241m.\u001b[39mf \u001b[38;5;241m=\u001b[39m \u001b[43mnetCDF4\u001b[49m\u001b[38;5;241;43m.\u001b[39;49m\u001b[43mDataset\u001b[49m\u001b[43m(\u001b[49m\u001b[43mfile\u001b[49m\u001b[43m,\u001b[49m\u001b[43m \u001b[49m\u001b[38;5;124;43m\"\u001b[39;49m\u001b[38;5;124;43mr\u001b[39;49m\u001b[38;5;124;43m\"\u001b[39;49m\u001b[43m)\u001b[49m\n\u001b[0;32m    471\u001b[0m \u001b[38;5;28;01mexcept\u001b[39;00m \u001b[38;5;167;01mRuntimeError\u001b[39;00m \u001b[38;5;28;01mas\u001b[39;00m e:\n",
      "File \u001b[1;32msrc\\\\netCDF4\\\\_netCDF4.pyx:2492\u001b[0m, in \u001b[0;36mnetCDF4._netCDF4.Dataset.__init__\u001b[1;34m()\u001b[0m\n",
      "File \u001b[1;32msrc\\\\netCDF4\\\\_netCDF4.pyx:1927\u001b[0m, in \u001b[0;36mnetCDF4._netCDF4._get_vars\u001b[1;34m()\u001b[0m\n",
      "File \u001b[1;32msrc\\\\netCDF4\\\\_netCDF4.pyx:2034\u001b[0m, in \u001b[0;36mnetCDF4._netCDF4._ensure_nc_success\u001b[1;34m()\u001b[0m\n",
      "\u001b[1;31mRuntimeError\u001b[0m: NetCDF: HDF error",
      "\nDuring handling of the above exception, another exception occurred:\n",
      "\u001b[1;31mFatalCheckerError\u001b[0m                         Traceback (most recent call last)",
      "Cell \u001b[1;32mIn[14], line 3\u001b[0m\n\u001b[0;32m      1\u001b[0m \u001b[38;5;66;03m# check original CF compliancy\u001b[39;00m\n\u001b[1;32m----> 3\u001b[0m \u001b[43mcheck_compliancy\u001b[49m\u001b[43m(\u001b[49m\u001b[43mtestfile\u001b[49m\u001b[38;5;241;43m=\u001b[39;49m\u001b[43mdataset_DSLproj_path\u001b[49m\u001b[43m,\u001b[49m\u001b[43m \u001b[49m\u001b[43mworking_dir\u001b[49m\u001b[38;5;241;43m=\u001b[39;49m\u001b[43mCF_dir\u001b[49m\u001b[43m)\u001b[49m\n",
      "File \u001b[1;32m~\\GitHub\\coclicodata\\src\\coclicodata\\etl\\cf_compliancy_checker.py:106\u001b[0m, in \u001b[0;36mcheck_compliancy\u001b[1;34m(testfile, working_dir, update_versions, download_tables)\u001b[0m\n\u001b[0;32m     94\u001b[0m \u001b[38;5;28;01mfrom\u001b[39;00m \u001b[38;5;21;01mcfchecker\u001b[39;00m\u001b[38;5;21;01m.\u001b[39;00m\u001b[38;5;21;01mcfchecks\u001b[39;00m \u001b[38;5;28;01mimport\u001b[39;00m (\n\u001b[0;32m     95\u001b[0m     CFChecker,\n\u001b[0;32m     96\u001b[0m )  \u001b[38;5;66;03m# import the cfchecker package i.s.o. subprocess application as in https://cmip-data-pool.dkrz.de/quality-assurance-cfchecker-ceda.html\u001b[39;00m\n\u001b[0;32m     98\u001b[0m inst \u001b[38;5;241m=\u001b[39m CFChecker(\n\u001b[0;32m     99\u001b[0m     useFileName\u001b[38;5;241m=\u001b[39m\u001b[38;5;124m\"\u001b[39m\u001b[38;5;124myes\u001b[39m\u001b[38;5;124m\"\u001b[39m,\n\u001b[0;32m    100\u001b[0m     cfStandardNamesXML\u001b[38;5;241m=\u001b[39mtable_dict[\u001b[38;5;124m\"\u001b[39m\u001b[38;5;124mcf-standard-name-table\u001b[39m\u001b[38;5;124m\"\u001b[39m][\u001b[38;5;124m\"\u001b[39m\u001b[38;5;124murl\u001b[39m\u001b[38;5;124m\"\u001b[39m],\n\u001b[1;32m   (...)\u001b[0m\n\u001b[0;32m    104\u001b[0m     silent\u001b[38;5;241m=\u001b[39m\u001b[38;5;28;01mFalse\u001b[39;00m,\n\u001b[0;32m    105\u001b[0m )\n\u001b[1;32m--> 106\u001b[0m \u001b[43minst\u001b[49m\u001b[38;5;241;43m.\u001b[39;49m\u001b[43mchecker\u001b[49m\u001b[43m(\u001b[49m\u001b[38;5;28;43mstr\u001b[39;49m\u001b[43m(\u001b[49m\u001b[43mtestfile\u001b[49m\u001b[43m)\u001b[49m\u001b[43m)\u001b[49m\n",
      "File \u001b[1;32mc:\\ProgramData\\miniforge3\\envs\\coclico\\Lib\\site-packages\\cfchecker\\cfchecks.py:472\u001b[0m, in \u001b[0;36mCFChecker.checker\u001b[1;34m(self, file)\u001b[0m\n\u001b[0;32m    470\u001b[0m     \u001b[38;5;28mself\u001b[39m\u001b[38;5;241m.\u001b[39mf \u001b[38;5;241m=\u001b[39m netCDF4\u001b[38;5;241m.\u001b[39mDataset(file, \u001b[38;5;124m\"\u001b[39m\u001b[38;5;124mr\u001b[39m\u001b[38;5;124m\"\u001b[39m)\n\u001b[0;32m    471\u001b[0m \u001b[38;5;28;01mexcept\u001b[39;00m \u001b[38;5;167;01mRuntimeError\u001b[39;00m \u001b[38;5;28;01mas\u001b[39;00m e:\n\u001b[1;32m--> 472\u001b[0m     \u001b[38;5;28;43mself\u001b[39;49m\u001b[38;5;241;43m.\u001b[39;49m\u001b[43m_fatal\u001b[49m\u001b[43m(\u001b[49m\u001b[38;5;124;43m\"\u001b[39;49m\u001b[38;5;132;43;01m%s\u001b[39;49;00m\u001b[38;5;124;43m: \u001b[39;49m\u001b[38;5;132;43;01m%s\u001b[39;49;00m\u001b[38;5;124;43m\"\u001b[39;49m\u001b[43m \u001b[49m\u001b[38;5;241;43m%\u001b[39;49m\u001b[43m \u001b[49m\u001b[43m(\u001b[49m\u001b[43me\u001b[49m\u001b[43m,\u001b[49m\u001b[43m \u001b[49m\u001b[43mfile\u001b[49m\u001b[43m)\u001b[49m\u001b[43m)\u001b[49m\n\u001b[0;32m    474\u001b[0m \u001b[38;5;66;03m#if 'auto' version, check the CF version in the file\u001b[39;00m\n\u001b[0;32m    475\u001b[0m \u001b[38;5;66;03m#if none found, use the default\u001b[39;00m\n\u001b[0;32m    476\u001b[0m \u001b[38;5;28;01mif\u001b[39;00m \u001b[38;5;129;01mnot\u001b[39;00m \u001b[38;5;28mself\u001b[39m\u001b[38;5;241m.\u001b[39mversion:\n",
      "File \u001b[1;32mc:\\ProgramData\\miniforge3\\envs\\coclico\\Lib\\site-packages\\cfchecker\\cfchecks.py:565\u001b[0m, in \u001b[0;36mCFChecker._fatal\u001b[1;34m(self, *args, **kwargs)\u001b[0m\n\u001b[0;32m    563\u001b[0m \u001b[38;5;28mself\u001b[39m\u001b[38;5;241m.\u001b[39m_add_message(\u001b[38;5;124m\"\u001b[39m\u001b[38;5;124mFATAL\u001b[39m\u001b[38;5;124m\"\u001b[39m, \u001b[38;5;241m*\u001b[39margs, \u001b[38;5;241m*\u001b[39m\u001b[38;5;241m*\u001b[39mkwargs)\n\u001b[0;32m    564\u001b[0m \u001b[38;5;28mself\u001b[39m\u001b[38;5;241m.\u001b[39mshow_counts(append_to_all_messages\u001b[38;5;241m=\u001b[39m\u001b[38;5;28;01mTrue\u001b[39;00m)\n\u001b[1;32m--> 565\u001b[0m \u001b[38;5;28;01mraise\u001b[39;00m FatalCheckerError\n",
      "\u001b[1;31mFatalCheckerError\u001b[0m: "
     ]
    },
    {
     "data": {
      "application/javascript": "\n            setTimeout(function() {\n                var nbb_cell_id = 14;\n                var nbb_unformatted_code = \"%%capture cap --no-stderr\\n# check original CF compliancy\\n\\ncheck_compliancy(testfile=dataset_DSLproj_path, working_dir=CF_dir)\";\n                var nbb_formatted_code = \"%%capture cap --no-stderr\\n# check original CF compliancy\\n\\ncheck_compliancy(testfile=dataset_DSLproj_path, working_dir=CF_dir)\";\n                var nbb_cells = Jupyter.notebook.get_cells();\n                for (var i = 0; i < nbb_cells.length; ++i) {\n                    if (nbb_cells[i].input_prompt_number == nbb_cell_id) {\n                        if (nbb_cells[i].get_text() == nbb_unformatted_code) {\n                             nbb_cells[i].set_text(nbb_formatted_code);\n                        }\n                        break;\n                    }\n                }\n            }, 500);\n            ",
      "text/plain": [
       "<IPython.core.display.Javascript object>"
      ]
     },
     "metadata": {},
     "output_type": "display_data"
    }
   ],
   "source": [
    "%%capture cap --no-stderr\n",
    "# check original CF compliancy\n",
    "\n",
    "check_compliancy(testfile=dataset_DSLproj_path, working_dir=CF_dir)"
   ]
  },
  {
   "cell_type": "code",
   "execution_count": 15,
   "id": "440fd56c",
   "metadata": {},
   "outputs": [
    {
     "name": "stdout",
     "output_type": "stream",
     "text": [
      "{'C:\\\\Users\\\\Skoulikaris\\\\test_github\\\\11207608-coclico\\\\FASTTRACK_DATA\\\\01_HighRes_Bascay_Sea_Level\\\\DSL_proj_ENS.nc': {'warnings': '0', 'errors': '0'}}\n"
     ]
    },
    {
     "data": {
      "application/javascript": "\n            setTimeout(function() {\n                var nbb_cell_id = 15;\n                var nbb_unformatted_code = \"# save original CF compliancy\\nsave_compliancy(cap, testfile=dataset_DSLproj_path, working_dir=CF_dir)\";\n                var nbb_formatted_code = \"# save original CF compliancy\\nsave_compliancy(cap, testfile=dataset_DSLproj_path, working_dir=CF_dir)\";\n                var nbb_cells = Jupyter.notebook.get_cells();\n                for (var i = 0; i < nbb_cells.length; ++i) {\n                    if (nbb_cells[i].input_prompt_number == nbb_cell_id) {\n                        if (nbb_cells[i].get_text() == nbb_unformatted_code) {\n                             nbb_cells[i].set_text(nbb_formatted_code);\n                        }\n                        break;\n                    }\n                }\n            }, 500);\n            ",
      "text/plain": [
       "<IPython.core.display.Javascript object>"
      ]
     },
     "metadata": {},
     "output_type": "display_data"
    }
   ],
   "source": [
    "# save original CF compliancy\n",
    "save_compliancy(cap, testfile=dataset_DSLproj_path, working_dir=CF_dir)"
   ]
  }
 ],
 "metadata": {
  "kernelspec": {
   "display_name": "Python 3",
   "language": "python",
   "name": "python3"
  },
  "language_info": {
   "codemirror_mode": {
    "name": "ipython",
    "version": 3
   },
   "file_extension": ".py",
   "mimetype": "text/x-python",
   "name": "python",
   "nbconvert_exporter": "python",
   "pygments_lexer": "ipython3",
   "version": "3.12.3"
  }
 },
 "nbformat": 4,
 "nbformat_minor": 5
}
