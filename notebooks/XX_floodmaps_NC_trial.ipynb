{
 "cells": [
  {
   "attachments": {},
   "cell_type": "markdown",
   "id": "58b6628a",
   "metadata": {},
   "source": [
    "# TEST\n",
    "\n",
    "Notebook environment to migrate netcdf files to CF compliant zarr"
   ]
  },
  {
   "cell_type": "code",
   "execution_count": 1,
   "id": "d213fe1c",
   "metadata": {},
   "outputs": [
    {
     "data": {
      "application/javascript": "\n            setTimeout(function() {\n                var nbb_cell_id = 1;\n                var nbb_unformatted_code = \"# Optional; code formatter, installed as jupyter lab extension\\n#%load_ext lab_black\\n# Optional; code formatter, installed as jupyter notebook extension\\n%load_ext nb_black\";\n                var nbb_formatted_code = \"# Optional; code formatter, installed as jupyter lab extension\\n# %load_ext lab_black\\n# Optional; code formatter, installed as jupyter notebook extension\\n%load_ext nb_black\";\n                var nbb_cells = Jupyter.notebook.get_cells();\n                for (var i = 0; i < nbb_cells.length; ++i) {\n                    if (nbb_cells[i].input_prompt_number == nbb_cell_id) {\n                        if (nbb_cells[i].get_text() == nbb_unformatted_code) {\n                             nbb_cells[i].set_text(nbb_formatted_code);\n                        }\n                        break;\n                    }\n                }\n            }, 500);\n            ",
      "text/plain": [
       "<IPython.core.display.Javascript object>"
      ]
     },
     "metadata": {},
     "output_type": "display_data"
    }
   ],
   "source": [
    "# Optional; code formatter, installed as jupyter lab extension\n",
    "#%load_ext lab_black\n",
    "# Optional; code formatter, installed as jupyter notebook extension\n",
    "%load_ext nb_black"
   ]
  },
  {
   "attachments": {},
   "cell_type": "markdown",
   "id": "892785ae",
   "metadata": {},
   "source": [
    "### Configure OS independent paths"
   ]
  },
  {
   "cell_type": "code",
   "execution_count": 4,
   "id": "e200dc11",
   "metadata": {},
   "outputs": [
    {
     "data": {
      "application/javascript": "\n            setTimeout(function() {\n                var nbb_cell_id = 4;\n                var nbb_unformatted_code = \"# Import standard packages\\nimport os\\nimport pathlib\\nimport sys\\nimport numpy as np\\nimport geopandas as gpd\\nimport pandas as pd\\nimport matplotlib.pyplot as plt\\nimport xarray as xr\\n\\n# Make root directories importable by appending root to path\\ncwd = pathlib.Path().resolve()\\nsys.path.append(os.path.dirname(cwd))\\n\\n# Get root paths\\nhome = pathlib.Path().home()\\nroot = home.root\\n\\n# Import custom functionality\\nfrom coclicodata.drive_config import p_drive\\nfrom coclicodata.etl.cf_compliancy_checker import check_compliancy, save_compliancy\\n\\n# Define (local and) remote drives\\ncoclico_data_dir = p_drive.joinpath(\\\"11207608-coclico\\\", \\\"FULLTRACK_DATA\\\")\\n\\n# Workaround to the Windows OS (10) udunits error after installation of cfchecker: https://github.com/SciTools/iris/issues/404\\nos.environ[\\\"UDUNITS2_XML_PATH\\\"] = str(\\n    pathlib.Path().home().joinpath(  # change to the udunits2.xml file dir in your Python installation\\n        r\\\"Anaconda3\\\\pkgs\\\\udunits2-2.2.28-h892ecd3_0\\\\Library\\\\share\\\\udunits\\\\udunits2.xml\\\"\\n    )\\n)\";\n                var nbb_formatted_code = \"# Import standard packages\\nimport os\\nimport pathlib\\nimport sys\\nimport numpy as np\\nimport geopandas as gpd\\nimport pandas as pd\\nimport matplotlib.pyplot as plt\\nimport xarray as xr\\n\\n# Make root directories importable by appending root to path\\ncwd = pathlib.Path().resolve()\\nsys.path.append(os.path.dirname(cwd))\\n\\n# Get root paths\\nhome = pathlib.Path().home()\\nroot = home.root\\n\\n# Import custom functionality\\nfrom coclicodata.drive_config import p_drive\\nfrom coclicodata.etl.cf_compliancy_checker import check_compliancy, save_compliancy\\n\\n# Define (local and) remote drives\\ncoclico_data_dir = p_drive.joinpath(\\\"11207608-coclico\\\", \\\"FULLTRACK_DATA\\\")\\n\\n# Workaround to the Windows OS (10) udunits error after installation of cfchecker: https://github.com/SciTools/iris/issues/404\\nos.environ[\\\"UDUNITS2_XML_PATH\\\"] = str(\\n    pathlib.Path()\\n    .home()\\n    .joinpath(  # change to the udunits2.xml file dir in your Python installation\\n        r\\\"Anaconda3\\\\pkgs\\\\udunits2-2.2.28-h892ecd3_0\\\\Library\\\\share\\\\udunits\\\\udunits2.xml\\\"\\n    )\\n)\";\n                var nbb_cells = Jupyter.notebook.get_cells();\n                for (var i = 0; i < nbb_cells.length; ++i) {\n                    if (nbb_cells[i].input_prompt_number == nbb_cell_id) {\n                        if (nbb_cells[i].get_text() == nbb_unformatted_code) {\n                             nbb_cells[i].set_text(nbb_formatted_code);\n                        }\n                        break;\n                    }\n                }\n            }, 500);\n            ",
      "text/plain": [
       "<IPython.core.display.Javascript object>"
      ]
     },
     "metadata": {},
     "output_type": "display_data"
    }
   ],
   "source": [
    "# Import standard packages\n",
    "import os\n",
    "import pathlib\n",
    "import sys\n",
    "import numpy as np\n",
    "import geopandas as gpd\n",
    "import pandas as pd\n",
    "import matplotlib.pyplot as plt\n",
    "import xarray as xr\n",
    "\n",
    "# Make root directories importable by appending root to path\n",
    "cwd = pathlib.Path().resolve()\n",
    "sys.path.append(os.path.dirname(cwd))\n",
    "\n",
    "# Get root paths\n",
    "home = pathlib.Path().home()\n",
    "root = home.root\n",
    "\n",
    "# Import custom functionality\n",
    "from coclicodata.drive_config import p_drive\n",
    "from coclicodata.etl.cf_compliancy_checker import check_compliancy, save_compliancy\n",
    "\n",
    "# Define (local and) remote drives\n",
    "coclico_data_dir = p_drive.joinpath(\"11207608-coclico\", \"FULLTRACK_DATA\")\n",
    "\n",
    "# Workaround to the Windows OS (10) udunits error after installation of cfchecker: https://github.com/SciTools/iris/issues/404\n",
    "os.environ[\"UDUNITS2_XML_PATH\"] = str(\n",
    "    pathlib.Path().home().joinpath(  # change to the udunits2.xml file dir in your Python installation\n",
    "        r\"Anaconda3\\pkgs\\udunits2-2.2.28-h892ecd3_0\\Library\\share\\udunits\\udunits2.xml\"\n",
    "    )\n",
    ")"
   ]
  },
  {
   "cell_type": "code",
   "execution_count": 14,
   "id": "96c526d7",
   "metadata": {},
   "outputs": [
    {
     "data": {
      "application/javascript": "\n            setTimeout(function() {\n                var nbb_cell_id = 14;\n                var nbb_unformatted_code = \"# Project paths & files (manual input)\\ndataset_dir = coclico_data_dir.joinpath(\\\"WP4\\\", \\\"data\\\")\\ndataset = dataset_dir.joinpath(\\\"CTP_ReturnPeriods.nc\\\")\\nCF_dir = coclico_data_dir.joinpath(r\\\"CF\\\")  # directory to save output CF check files\";\n                var nbb_formatted_code = \"# Project paths & files (manual input)\\ndataset_dir = coclico_data_dir.joinpath(\\\"WP4\\\", \\\"data\\\")\\ndataset = dataset_dir.joinpath(\\\"CTP_ReturnPeriods.nc\\\")\\nCF_dir = coclico_data_dir.joinpath(r\\\"CF\\\")  # directory to save output CF check files\";\n                var nbb_cells = Jupyter.notebook.get_cells();\n                for (var i = 0; i < nbb_cells.length; ++i) {\n                    if (nbb_cells[i].input_prompt_number == nbb_cell_id) {\n                        if (nbb_cells[i].get_text() == nbb_unformatted_code) {\n                             nbb_cells[i].set_text(nbb_formatted_code);\n                        }\n                        break;\n                    }\n                }\n            }, 500);\n            ",
      "text/plain": [
       "<IPython.core.display.Javascript object>"
      ]
     },
     "metadata": {},
     "output_type": "display_data"
    }
   ],
   "source": [
    "# Project paths & files (manual input)\n",
    "dataset_dir = coclico_data_dir.joinpath(\"WP4\", \"data\")\n",
    "dataset = dataset_dir.joinpath(\"CTP_ReturnPeriods.nc\")\n",
    "CF_dir = coclico_data_dir.joinpath(r\"CF\")  # directory to save output CF check files"
   ]
  },
  {
   "cell_type": "code",
   "execution_count": 18,
   "id": "3e97d402",
   "metadata": {},
   "outputs": [
    {
     "data": {
      "text/plain": [
       "WindowsPath('P:/11207608-coclico/FULLTRACK_DATA/CF')"
      ]
     },
     "execution_count": 18,
     "metadata": {},
     "output_type": "execute_result"
    },
    {
     "data": {
      "application/javascript": "\n            setTimeout(function() {\n                var nbb_cell_id = 18;\n                var nbb_unformatted_code = \"CF_dir\";\n                var nbb_formatted_code = \"CF_dir\";\n                var nbb_cells = Jupyter.notebook.get_cells();\n                for (var i = 0; i < nbb_cells.length; ++i) {\n                    if (nbb_cells[i].input_prompt_number == nbb_cell_id) {\n                        if (nbb_cells[i].get_text() == nbb_unformatted_code) {\n                             nbb_cells[i].set_text(nbb_formatted_code);\n                        }\n                        break;\n                    }\n                }\n            }, 500);\n            ",
      "text/plain": [
       "<IPython.core.display.Javascript object>"
      ]
     },
     "metadata": {},
     "output_type": "display_data"
    }
   ],
   "source": [
    "CF_dir"
   ]
  },
  {
   "attachments": {},
   "cell_type": "markdown",
   "id": "f8d5c913",
   "metadata": {},
   "source": [
    "### Check CF compliancy original NetCDF files"
   ]
  },
  {
   "cell_type": "code",
   "execution_count": 7,
   "id": "7d9c6980",
   "metadata": {},
   "outputs": [
    {
     "data": {
      "text/html": [
       "<div><svg style=\"position: absolute; width: 0; height: 0; overflow: hidden\">\n",
       "<defs>\n",
       "<symbol id=\"icon-database\" viewBox=\"0 0 32 32\">\n",
       "<path d=\"M16 0c-8.837 0-16 2.239-16 5v4c0 2.761 7.163 5 16 5s16-2.239 16-5v-4c0-2.761-7.163-5-16-5z\"></path>\n",
       "<path d=\"M16 17c-8.837 0-16-2.239-16-5v6c0 2.761 7.163 5 16 5s16-2.239 16-5v-6c0 2.761-7.163 5-16 5z\"></path>\n",
       "<path d=\"M16 26c-8.837 0-16-2.239-16-5v6c0 2.761 7.163 5 16 5s16-2.239 16-5v-6c0 2.761-7.163 5-16 5z\"></path>\n",
       "</symbol>\n",
       "<symbol id=\"icon-file-text2\" viewBox=\"0 0 32 32\">\n",
       "<path d=\"M28.681 7.159c-0.694-0.947-1.662-2.053-2.724-3.116s-2.169-2.030-3.116-2.724c-1.612-1.182-2.393-1.319-2.841-1.319h-15.5c-1.378 0-2.5 1.121-2.5 2.5v27c0 1.378 1.122 2.5 2.5 2.5h23c1.378 0 2.5-1.122 2.5-2.5v-19.5c0-0.448-0.137-1.23-1.319-2.841zM24.543 5.457c0.959 0.959 1.712 1.825 2.268 2.543h-4.811v-4.811c0.718 0.556 1.584 1.309 2.543 2.268zM28 29.5c0 0.271-0.229 0.5-0.5 0.5h-23c-0.271 0-0.5-0.229-0.5-0.5v-27c0-0.271 0.229-0.5 0.5-0.5 0 0 15.499-0 15.5 0v7c0 0.552 0.448 1 1 1h7v19.5z\"></path>\n",
       "<path d=\"M23 26h-14c-0.552 0-1-0.448-1-1s0.448-1 1-1h14c0.552 0 1 0.448 1 1s-0.448 1-1 1z\"></path>\n",
       "<path d=\"M23 22h-14c-0.552 0-1-0.448-1-1s0.448-1 1-1h14c0.552 0 1 0.448 1 1s-0.448 1-1 1z\"></path>\n",
       "<path d=\"M23 18h-14c-0.552 0-1-0.448-1-1s0.448-1 1-1h14c0.552 0 1 0.448 1 1s-0.448 1-1 1z\"></path>\n",
       "</symbol>\n",
       "</defs>\n",
       "</svg>\n",
       "<style>/* CSS stylesheet for displaying xarray objects in jupyterlab.\n",
       " *\n",
       " */\n",
       "\n",
       ":root {\n",
       "  --xr-font-color0: var(--jp-content-font-color0, rgba(0, 0, 0, 1));\n",
       "  --xr-font-color2: var(--jp-content-font-color2, rgba(0, 0, 0, 0.54));\n",
       "  --xr-font-color3: var(--jp-content-font-color3, rgba(0, 0, 0, 0.38));\n",
       "  --xr-border-color: var(--jp-border-color2, #e0e0e0);\n",
       "  --xr-disabled-color: var(--jp-layout-color3, #bdbdbd);\n",
       "  --xr-background-color: var(--jp-layout-color0, white);\n",
       "  --xr-background-color-row-even: var(--jp-layout-color1, white);\n",
       "  --xr-background-color-row-odd: var(--jp-layout-color2, #eeeeee);\n",
       "}\n",
       "\n",
       "html[theme=dark],\n",
       "body[data-theme=dark],\n",
       "body.vscode-dark {\n",
       "  --xr-font-color0: rgba(255, 255, 255, 1);\n",
       "  --xr-font-color2: rgba(255, 255, 255, 0.54);\n",
       "  --xr-font-color3: rgba(255, 255, 255, 0.38);\n",
       "  --xr-border-color: #1F1F1F;\n",
       "  --xr-disabled-color: #515151;\n",
       "  --xr-background-color: #111111;\n",
       "  --xr-background-color-row-even: #111111;\n",
       "  --xr-background-color-row-odd: #313131;\n",
       "}\n",
       "\n",
       ".xr-wrap {\n",
       "  display: block !important;\n",
       "  min-width: 300px;\n",
       "  max-width: 700px;\n",
       "}\n",
       "\n",
       ".xr-text-repr-fallback {\n",
       "  /* fallback to plain text repr when CSS is not injected (untrusted notebook) */\n",
       "  display: none;\n",
       "}\n",
       "\n",
       ".xr-header {\n",
       "  padding-top: 6px;\n",
       "  padding-bottom: 6px;\n",
       "  margin-bottom: 4px;\n",
       "  border-bottom: solid 1px var(--xr-border-color);\n",
       "}\n",
       "\n",
       ".xr-header > div,\n",
       ".xr-header > ul {\n",
       "  display: inline;\n",
       "  margin-top: 0;\n",
       "  margin-bottom: 0;\n",
       "}\n",
       "\n",
       ".xr-obj-type,\n",
       ".xr-array-name {\n",
       "  margin-left: 2px;\n",
       "  margin-right: 10px;\n",
       "}\n",
       "\n",
       ".xr-obj-type {\n",
       "  color: var(--xr-font-color2);\n",
       "}\n",
       "\n",
       ".xr-sections {\n",
       "  padding-left: 0 !important;\n",
       "  display: grid;\n",
       "  grid-template-columns: 150px auto auto 1fr 20px 20px;\n",
       "}\n",
       "\n",
       ".xr-section-item {\n",
       "  display: contents;\n",
       "}\n",
       "\n",
       ".xr-section-item input {\n",
       "  display: none;\n",
       "}\n",
       "\n",
       ".xr-section-item input + label {\n",
       "  color: var(--xr-disabled-color);\n",
       "}\n",
       "\n",
       ".xr-section-item input:enabled + label {\n",
       "  cursor: pointer;\n",
       "  color: var(--xr-font-color2);\n",
       "}\n",
       "\n",
       ".xr-section-item input:enabled + label:hover {\n",
       "  color: var(--xr-font-color0);\n",
       "}\n",
       "\n",
       ".xr-section-summary {\n",
       "  grid-column: 1;\n",
       "  color: var(--xr-font-color2);\n",
       "  font-weight: 500;\n",
       "}\n",
       "\n",
       ".xr-section-summary > span {\n",
       "  display: inline-block;\n",
       "  padding-left: 0.5em;\n",
       "}\n",
       "\n",
       ".xr-section-summary-in:disabled + label {\n",
       "  color: var(--xr-font-color2);\n",
       "}\n",
       "\n",
       ".xr-section-summary-in + label:before {\n",
       "  display: inline-block;\n",
       "  content: '►';\n",
       "  font-size: 11px;\n",
       "  width: 15px;\n",
       "  text-align: center;\n",
       "}\n",
       "\n",
       ".xr-section-summary-in:disabled + label:before {\n",
       "  color: var(--xr-disabled-color);\n",
       "}\n",
       "\n",
       ".xr-section-summary-in:checked + label:before {\n",
       "  content: '▼';\n",
       "}\n",
       "\n",
       ".xr-section-summary-in:checked + label > span {\n",
       "  display: none;\n",
       "}\n",
       "\n",
       ".xr-section-summary,\n",
       ".xr-section-inline-details {\n",
       "  padding-top: 4px;\n",
       "  padding-bottom: 4px;\n",
       "}\n",
       "\n",
       ".xr-section-inline-details {\n",
       "  grid-column: 2 / -1;\n",
       "}\n",
       "\n",
       ".xr-section-details {\n",
       "  display: none;\n",
       "  grid-column: 1 / -1;\n",
       "  margin-bottom: 5px;\n",
       "}\n",
       "\n",
       ".xr-section-summary-in:checked ~ .xr-section-details {\n",
       "  display: contents;\n",
       "}\n",
       "\n",
       ".xr-array-wrap {\n",
       "  grid-column: 1 / -1;\n",
       "  display: grid;\n",
       "  grid-template-columns: 20px auto;\n",
       "}\n",
       "\n",
       ".xr-array-wrap > label {\n",
       "  grid-column: 1;\n",
       "  vertical-align: top;\n",
       "}\n",
       "\n",
       ".xr-preview {\n",
       "  color: var(--xr-font-color3);\n",
       "}\n",
       "\n",
       ".xr-array-preview,\n",
       ".xr-array-data {\n",
       "  padding: 0 5px !important;\n",
       "  grid-column: 2;\n",
       "}\n",
       "\n",
       ".xr-array-data,\n",
       ".xr-array-in:checked ~ .xr-array-preview {\n",
       "  display: none;\n",
       "}\n",
       "\n",
       ".xr-array-in:checked ~ .xr-array-data,\n",
       ".xr-array-preview {\n",
       "  display: inline-block;\n",
       "}\n",
       "\n",
       ".xr-dim-list {\n",
       "  display: inline-block !important;\n",
       "  list-style: none;\n",
       "  padding: 0 !important;\n",
       "  margin: 0;\n",
       "}\n",
       "\n",
       ".xr-dim-list li {\n",
       "  display: inline-block;\n",
       "  padding: 0;\n",
       "  margin: 0;\n",
       "}\n",
       "\n",
       ".xr-dim-list:before {\n",
       "  content: '(';\n",
       "}\n",
       "\n",
       ".xr-dim-list:after {\n",
       "  content: ')';\n",
       "}\n",
       "\n",
       ".xr-dim-list li:not(:last-child):after {\n",
       "  content: ',';\n",
       "  padding-right: 5px;\n",
       "}\n",
       "\n",
       ".xr-has-index {\n",
       "  font-weight: bold;\n",
       "}\n",
       "\n",
       ".xr-var-list,\n",
       ".xr-var-item {\n",
       "  display: contents;\n",
       "}\n",
       "\n",
       ".xr-var-item > div,\n",
       ".xr-var-item label,\n",
       ".xr-var-item > .xr-var-name span {\n",
       "  background-color: var(--xr-background-color-row-even);\n",
       "  margin-bottom: 0;\n",
       "}\n",
       "\n",
       ".xr-var-item > .xr-var-name:hover span {\n",
       "  padding-right: 5px;\n",
       "}\n",
       "\n",
       ".xr-var-list > li:nth-child(odd) > div,\n",
       ".xr-var-list > li:nth-child(odd) > label,\n",
       ".xr-var-list > li:nth-child(odd) > .xr-var-name span {\n",
       "  background-color: var(--xr-background-color-row-odd);\n",
       "}\n",
       "\n",
       ".xr-var-name {\n",
       "  grid-column: 1;\n",
       "}\n",
       "\n",
       ".xr-var-dims {\n",
       "  grid-column: 2;\n",
       "}\n",
       "\n",
       ".xr-var-dtype {\n",
       "  grid-column: 3;\n",
       "  text-align: right;\n",
       "  color: var(--xr-font-color2);\n",
       "}\n",
       "\n",
       ".xr-var-preview {\n",
       "  grid-column: 4;\n",
       "}\n",
       "\n",
       ".xr-index-preview {\n",
       "  grid-column: 2 / 5;\n",
       "  color: var(--xr-font-color2);\n",
       "}\n",
       "\n",
       ".xr-var-name,\n",
       ".xr-var-dims,\n",
       ".xr-var-dtype,\n",
       ".xr-preview,\n",
       ".xr-attrs dt {\n",
       "  white-space: nowrap;\n",
       "  overflow: hidden;\n",
       "  text-overflow: ellipsis;\n",
       "  padding-right: 10px;\n",
       "}\n",
       "\n",
       ".xr-var-name:hover,\n",
       ".xr-var-dims:hover,\n",
       ".xr-var-dtype:hover,\n",
       ".xr-attrs dt:hover {\n",
       "  overflow: visible;\n",
       "  width: auto;\n",
       "  z-index: 1;\n",
       "}\n",
       "\n",
       ".xr-var-attrs,\n",
       ".xr-var-data,\n",
       ".xr-index-data {\n",
       "  display: none;\n",
       "  background-color: var(--xr-background-color) !important;\n",
       "  padding-bottom: 5px !important;\n",
       "}\n",
       "\n",
       ".xr-var-attrs-in:checked ~ .xr-var-attrs,\n",
       ".xr-var-data-in:checked ~ .xr-var-data,\n",
       ".xr-index-data-in:checked ~ .xr-index-data {\n",
       "  display: block;\n",
       "}\n",
       "\n",
       ".xr-var-data > table {\n",
       "  float: right;\n",
       "}\n",
       "\n",
       ".xr-var-name span,\n",
       ".xr-var-data,\n",
       ".xr-index-name div,\n",
       ".xr-index-data,\n",
       ".xr-attrs {\n",
       "  padding-left: 25px !important;\n",
       "}\n",
       "\n",
       ".xr-attrs,\n",
       ".xr-var-attrs,\n",
       ".xr-var-data,\n",
       ".xr-index-data {\n",
       "  grid-column: 1 / -1;\n",
       "}\n",
       "\n",
       "dl.xr-attrs {\n",
       "  padding: 0;\n",
       "  margin: 0;\n",
       "  display: grid;\n",
       "  grid-template-columns: 125px auto;\n",
       "}\n",
       "\n",
       ".xr-attrs dt,\n",
       ".xr-attrs dd {\n",
       "  padding: 0;\n",
       "  margin: 0;\n",
       "  float: left;\n",
       "  padding-right: 10px;\n",
       "  width: auto;\n",
       "}\n",
       "\n",
       ".xr-attrs dt {\n",
       "  font-weight: normal;\n",
       "  grid-column: 1;\n",
       "}\n",
       "\n",
       ".xr-attrs dt:hover span {\n",
       "  display: inline-block;\n",
       "  background: var(--xr-background-color);\n",
       "  padding-right: 10px;\n",
       "}\n",
       "\n",
       ".xr-attrs dd {\n",
       "  grid-column: 2;\n",
       "  white-space: pre-wrap;\n",
       "  word-break: break-all;\n",
       "}\n",
       "\n",
       ".xr-icon-database,\n",
       ".xr-icon-file-text2,\n",
       ".xr-no-icon {\n",
       "  display: inline-block;\n",
       "  vertical-align: middle;\n",
       "  width: 1em;\n",
       "  height: 1.5em !important;\n",
       "  stroke-width: 0;\n",
       "  stroke: currentColor;\n",
       "  fill: currentColor;\n",
       "}\n",
       "</style><pre class='xr-text-repr-fallback'>&lt;xarray.Dataset&gt;\n",
       "Dimensions:  (lon: 51010, lat: 51010)\n",
       "Coordinates:\n",
       "  * lon      (lon) float64 -5.28 -5.269 -5.315 -5.303 ... 14.57 14.57 14.58\n",
       "  * lat      (lat) float64 35.69 35.69 35.69 35.69 ... 35.84 35.87 35.85 35.86\n",
       "Data variables:\n",
       "    RP1      (lon) float64 ...\n",
       "    RP100    (lon) float64 ...\n",
       "    RP1000   (lon) float64 ...\n",
       "Attributes:\n",
       "    title:         EU Coastal Target Points - TWL Return Periods\n",
       "    summary:       Location of Coastal Target Points and their respective TWL...\n",
       "    institution:   Universidad de Cantabria, Instituto de Hidráulica Ambienta...\n",
       "    keywords:      extreme event, hindcast, EU scale\n",
       "    date_created:  14th of February 2024\n",
       "    project:       CoCliCo - Coastal Climate Core Services\n",
       "    coventions:    CF conventions 1.3</pre><div class='xr-wrap' style='display:none'><div class='xr-header'><div class='xr-obj-type'>xarray.Dataset</div></div><ul class='xr-sections'><li class='xr-section-item'><input id='section-a312d4d7-edfd-480a-976f-64a9ea773b26' class='xr-section-summary-in' type='checkbox' disabled ><label for='section-a312d4d7-edfd-480a-976f-64a9ea773b26' class='xr-section-summary'  title='Expand/collapse section'>Dimensions:</label><div class='xr-section-inline-details'><ul class='xr-dim-list'><li><span class='xr-has-index'>lon</span>: 51010</li><li><span class='xr-has-index'>lat</span>: 51010</li></ul></div><div class='xr-section-details'></div></li><li class='xr-section-item'><input id='section-4872ab1d-fccd-426b-85ea-9f82f3962cfa' class='xr-section-summary-in' type='checkbox'  checked><label for='section-4872ab1d-fccd-426b-85ea-9f82f3962cfa' class='xr-section-summary' >Coordinates: <span>(2)</span></label><div class='xr-section-inline-details'></div><div class='xr-section-details'><ul class='xr-var-list'><li class='xr-var-item'><div class='xr-var-name'><span class='xr-has-index'>lon</span></div><div class='xr-var-dims'>(lon)</div><div class='xr-var-dtype'>float64</div><div class='xr-var-preview xr-preview'>-5.28 -5.269 -5.315 ... 14.57 14.58</div><input id='attrs-285cd50a-b23a-4d47-939a-6796eee6ade9' class='xr-var-attrs-in' type='checkbox' ><label for='attrs-285cd50a-b23a-4d47-939a-6796eee6ade9' title='Show/Hide attributes'><svg class='icon xr-icon-file-text2'><use xlink:href='#icon-file-text2'></use></svg></label><input id='data-3b484aeb-705d-432e-900c-e9efef06d46b' class='xr-var-data-in' type='checkbox'><label for='data-3b484aeb-705d-432e-900c-e9efef06d46b' title='Show/Hide data repr'><svg class='icon xr-icon-database'><use xlink:href='#icon-database'></use></svg></label><div class='xr-var-attrs'><dl class='xr-attrs'><dt><span>long_name :</span></dt><dd>Longitude</dd><dt><span>units :</span></dt><dd>degrees</dd></dl></div><div class='xr-var-data'><pre>array([-5.28    , -5.2695  , -5.3153  , ..., 14.572617, 14.574962, 14.577797])</pre></div></li><li class='xr-var-item'><div class='xr-var-name'><span class='xr-has-index'>lat</span></div><div class='xr-var-dims'>(lat)</div><div class='xr-var-dtype'>float64</div><div class='xr-var-preview xr-preview'>35.69 35.69 35.69 ... 35.85 35.86</div><input id='attrs-5404cc10-3341-4dd3-a8f5-600f4c68fb0f' class='xr-var-attrs-in' type='checkbox' ><label for='attrs-5404cc10-3341-4dd3-a8f5-600f4c68fb0f' title='Show/Hide attributes'><svg class='icon xr-icon-file-text2'><use xlink:href='#icon-file-text2'></use></svg></label><input id='data-92fcbe53-dbb4-4adc-aa76-829edfb560d6' class='xr-var-data-in' type='checkbox'><label for='data-92fcbe53-dbb4-4adc-aa76-829edfb560d6' title='Show/Hide data repr'><svg class='icon xr-icon-database'><use xlink:href='#icon-database'></use></svg></label><div class='xr-var-attrs'><dl class='xr-attrs'><dt><span>long_name :</span></dt><dd>Latitude</dd><dt><span>units :</span></dt><dd>degrees</dd></dl></div><div class='xr-var-data'><pre>array([35.693   , 35.6897  , 35.6936  , ..., 35.874083, 35.854917, 35.86471 ])</pre></div></li></ul></div></li><li class='xr-section-item'><input id='section-ac6029a6-99fb-49ca-90f5-9ab537168cae' class='xr-section-summary-in' type='checkbox'  checked><label for='section-ac6029a6-99fb-49ca-90f5-9ab537168cae' class='xr-section-summary' >Data variables: <span>(3)</span></label><div class='xr-section-inline-details'></div><div class='xr-section-details'><ul class='xr-var-list'><li class='xr-var-item'><div class='xr-var-name'><span>RP1</span></div><div class='xr-var-dims'>(lon)</div><div class='xr-var-dtype'>float64</div><div class='xr-var-preview xr-preview'>...</div><input id='attrs-bcc62a44-f24d-47fd-bb58-fb2a0bf14e75' class='xr-var-attrs-in' type='checkbox' ><label for='attrs-bcc62a44-f24d-47fd-bb58-fb2a0bf14e75' title='Show/Hide attributes'><svg class='icon xr-icon-file-text2'><use xlink:href='#icon-file-text2'></use></svg></label><input id='data-7d70f8a5-5b12-4118-ba98-9a5e16f7b797' class='xr-var-data-in' type='checkbox'><label for='data-7d70f8a5-5b12-4118-ba98-9a5e16f7b797' title='Show/Hide data repr'><svg class='icon xr-icon-database'><use xlink:href='#icon-database'></use></svg></label><div class='xr-var-attrs'><dl class='xr-attrs'><dt><span>long_name :</span></dt><dd>1-year return period</dd><dt><span>standard_name :</span></dt><dd>RP1</dd><dt><span>units :</span></dt><dd>meters</dd></dl></div><div class='xr-var-data'><pre>[51010 values with dtype=float64]</pre></div></li><li class='xr-var-item'><div class='xr-var-name'><span>RP100</span></div><div class='xr-var-dims'>(lon)</div><div class='xr-var-dtype'>float64</div><div class='xr-var-preview xr-preview'>...</div><input id='attrs-24768bb3-9349-4621-adc4-b4fdfe86378b' class='xr-var-attrs-in' type='checkbox' ><label for='attrs-24768bb3-9349-4621-adc4-b4fdfe86378b' title='Show/Hide attributes'><svg class='icon xr-icon-file-text2'><use xlink:href='#icon-file-text2'></use></svg></label><input id='data-9d8e72f7-3838-46a5-96ce-ac41a2407198' class='xr-var-data-in' type='checkbox'><label for='data-9d8e72f7-3838-46a5-96ce-ac41a2407198' title='Show/Hide data repr'><svg class='icon xr-icon-database'><use xlink:href='#icon-database'></use></svg></label><div class='xr-var-attrs'><dl class='xr-attrs'><dt><span>long_name :</span></dt><dd>100-year return period</dd><dt><span>standard_name :</span></dt><dd>RP100</dd><dt><span>units :</span></dt><dd>meters</dd></dl></div><div class='xr-var-data'><pre>[51010 values with dtype=float64]</pre></div></li><li class='xr-var-item'><div class='xr-var-name'><span>RP1000</span></div><div class='xr-var-dims'>(lon)</div><div class='xr-var-dtype'>float64</div><div class='xr-var-preview xr-preview'>...</div><input id='attrs-36e0e986-154c-4049-8f49-31ceb828a9a6' class='xr-var-attrs-in' type='checkbox' ><label for='attrs-36e0e986-154c-4049-8f49-31ceb828a9a6' title='Show/Hide attributes'><svg class='icon xr-icon-file-text2'><use xlink:href='#icon-file-text2'></use></svg></label><input id='data-70dfb212-e008-46e4-a88b-01e4304a1eec' class='xr-var-data-in' type='checkbox'><label for='data-70dfb212-e008-46e4-a88b-01e4304a1eec' title='Show/Hide data repr'><svg class='icon xr-icon-database'><use xlink:href='#icon-database'></use></svg></label><div class='xr-var-attrs'><dl class='xr-attrs'><dt><span>long_name :</span></dt><dd>1000-year return period</dd><dt><span>standard_name :</span></dt><dd>RP1000</dd><dt><span>units :</span></dt><dd>meters</dd></dl></div><div class='xr-var-data'><pre>[51010 values with dtype=float64]</pre></div></li></ul></div></li><li class='xr-section-item'><input id='section-0f415d6b-63e4-4fa6-89c6-1dfd8acf15de' class='xr-section-summary-in' type='checkbox'  ><label for='section-0f415d6b-63e4-4fa6-89c6-1dfd8acf15de' class='xr-section-summary' >Indexes: <span>(2)</span></label><div class='xr-section-inline-details'></div><div class='xr-section-details'><ul class='xr-var-list'><li class='xr-var-item'><div class='xr-index-name'><div>lon</div></div><div class='xr-index-preview'>PandasIndex</div><div></div><input id='index-050c69e0-8d75-478e-958b-0014c6f1e052' class='xr-index-data-in' type='checkbox'/><label for='index-050c69e0-8d75-478e-958b-0014c6f1e052' title='Show/Hide index repr'><svg class='icon xr-icon-database'><use xlink:href='#icon-database'></use></svg></label><div class='xr-index-data'><pre>PandasIndex(Index([             -5.28,            -5.2695,            -5.3153,\n",
       "                  -5.3031,            -5.2911,            -5.3211,\n",
       "                  -5.3261,            -5.3286,            -5.3303,\n",
       "                  -5.3319,\n",
       "       ...\n",
       "       14.551743440000052, 14.554925362000063, 14.562084503000051,\n",
       "       14.563933117000033, 14.567020049000064,  14.56945578500006,\n",
       "       14.572796630000028, 14.572617085000047, 14.574961935000033,\n",
       "       14.577796852000063],\n",
       "      dtype=&#x27;float64&#x27;, name=&#x27;lon&#x27;, length=51010))</pre></div></li><li class='xr-var-item'><div class='xr-index-name'><div>lat</div></div><div class='xr-index-preview'>PandasIndex</div><div></div><input id='index-1daa8d88-6774-41af-8baa-8d18f3cf77c6' class='xr-index-data-in' type='checkbox'/><label for='index-1daa8d88-6774-41af-8baa-8d18f3cf77c6' title='Show/Hide index repr'><svg class='icon xr-icon-database'><use xlink:href='#icon-database'></use></svg></label><div class='xr-index-data'><pre>PandasIndex(Index([            35.693,            35.6897,            35.6936,\n",
       "                  35.6939,            35.6942,            35.7035,\n",
       "                  35.7125,            35.7227,            35.7339,\n",
       "                  35.7452,\n",
       "       ...\n",
       "       35.814614938000034,  35.88750964700006,  35.81840102800004,\n",
       "       35.881009206000044,  35.82727912300004,  35.83696992300003,\n",
       "        35.84487935000004,  35.87408277700007,  35.85491654400005,\n",
       "        35.86471030200005],\n",
       "      dtype=&#x27;float64&#x27;, name=&#x27;lat&#x27;, length=51010))</pre></div></li></ul></div></li><li class='xr-section-item'><input id='section-f833ebaf-58ba-4f0b-914d-e1d0daf38a2c' class='xr-section-summary-in' type='checkbox'  checked><label for='section-f833ebaf-58ba-4f0b-914d-e1d0daf38a2c' class='xr-section-summary' >Attributes: <span>(7)</span></label><div class='xr-section-inline-details'></div><div class='xr-section-details'><dl class='xr-attrs'><dt><span>title :</span></dt><dd>EU Coastal Target Points - TWL Return Periods</dd><dt><span>summary :</span></dt><dd>Location of Coastal Target Points and their respective TWL return period values for RP1, RP100 and RP1000</dd><dt><span>institution :</span></dt><dd>Universidad de Cantabria, Instituto de Hidráulica Ambiental de la Universidad de Cantabria - IHCantabria (UC-IHC)</dd><dt><span>keywords :</span></dt><dd>extreme event, hindcast, EU scale</dd><dt><span>date_created :</span></dt><dd>14th of February 2024</dd><dt><span>project :</span></dt><dd>CoCliCo - Coastal Climate Core Services</dd><dt><span>coventions :</span></dt><dd>CF conventions 1.3</dd></dl></div></li></ul></div></div>"
      ],
      "text/plain": [
       "<xarray.Dataset>\n",
       "Dimensions:  (lon: 51010, lat: 51010)\n",
       "Coordinates:\n",
       "  * lon      (lon) float64 -5.28 -5.269 -5.315 -5.303 ... 14.57 14.57 14.58\n",
       "  * lat      (lat) float64 35.69 35.69 35.69 35.69 ... 35.84 35.87 35.85 35.86\n",
       "Data variables:\n",
       "    RP1      (lon) float64 ...\n",
       "    RP100    (lon) float64 ...\n",
       "    RP1000   (lon) float64 ...\n",
       "Attributes:\n",
       "    title:         EU Coastal Target Points - TWL Return Periods\n",
       "    summary:       Location of Coastal Target Points and their respective TWL...\n",
       "    institution:   Universidad de Cantabria, Instituto de Hidráulica Ambienta...\n",
       "    keywords:      extreme event, hindcast, EU scale\n",
       "    date_created:  14th of February 2024\n",
       "    project:       CoCliCo - Coastal Climate Core Services\n",
       "    coventions:    CF conventions 1.3"
      ]
     },
     "execution_count": 7,
     "metadata": {},
     "output_type": "execute_result"
    },
    {
     "data": {
      "application/javascript": "\n            setTimeout(function() {\n                var nbb_cell_id = 7;\n                var nbb_unformatted_code = \"# open datasets\\ndataset = xr.open_dataset(dataset)\\n\\n# check original dataset\\ndataset\";\n                var nbb_formatted_code = \"# open datasets\\ndataset = xr.open_dataset(dataset)\\n\\n# check original dataset\\ndataset\";\n                var nbb_cells = Jupyter.notebook.get_cells();\n                for (var i = 0; i < nbb_cells.length; ++i) {\n                    if (nbb_cells[i].input_prompt_number == nbb_cell_id) {\n                        if (nbb_cells[i].get_text() == nbb_unformatted_code) {\n                             nbb_cells[i].set_text(nbb_formatted_code);\n                        }\n                        break;\n                    }\n                }\n            }, 500);\n            ",
      "text/plain": [
       "<IPython.core.display.Javascript object>"
      ]
     },
     "metadata": {},
     "output_type": "display_data"
    }
   ],
   "source": [
    "# open datasets\n",
    "dataset = xr.open_dataset(dataset)\n",
    "\n",
    "# check original dataset\n",
    "dataset"
   ]
  },
  {
   "cell_type": "code",
   "execution_count": 12,
   "id": "12b5d8f4",
   "metadata": {},
   "outputs": [
    {
     "data": {
      "text/plain": [
       "[<matplotlib.lines.Line2D at 0x1edbb08dd90>]"
      ]
     },
     "execution_count": 12,
     "metadata": {},
     "output_type": "execute_result"
    },
    {
     "data": {
      "image/png": "[encoded data removed]",
      "text/plain": [
       "<Figure size 640x480 with 1 Axes>"
      ]
     },
     "metadata": {},
     "output_type": "display_data"
    },
    {
     "data": {
      "application/javascript": "\n            setTimeout(function() {\n                var nbb_cell_id = 12;\n                var nbb_unformatted_code = \"# plot the data points lon lat\\nplt.plot(dataset.lon, dataset.lat, \\\"o\\\", markersize=0.1)\";\n                var nbb_formatted_code = \"# plot the data points lon lat\\nplt.plot(dataset.lon, dataset.lat, \\\"o\\\", markersize=0.1)\";\n                var nbb_cells = Jupyter.notebook.get_cells();\n                for (var i = 0; i < nbb_cells.length; ++i) {\n                    if (nbb_cells[i].input_prompt_number == nbb_cell_id) {\n                        if (nbb_cells[i].get_text() == nbb_unformatted_code) {\n                             nbb_cells[i].set_text(nbb_formatted_code);\n                        }\n                        break;\n                    }\n                }\n            }, 500);\n            ",
      "text/plain": [
       "<IPython.core.display.Javascript object>"
      ]
     },
     "metadata": {},
     "output_type": "display_data"
    }
   ],
   "source": [
    "# plot the data points lon lat\n",
    "plt.plot(dataset.lon, dataset.lat, \"o\", markersize=0.1)"
   ]
  },
  {
   "cell_type": "code",
   "execution_count": 16,
   "id": "5e0a7b33",
   "metadata": {},
   "outputs": [
    {
     "data": {
      "application/javascript": "\n            setTimeout(function() {\n                var nbb_cell_id = 16;\n                var nbb_unformatted_code = \"%%capture cap --no-stderr\\n# check original CF compliancy\\n\\ncheck_compliancy(testfile=dataset, working_dir=CF_dir)\";\n                var nbb_formatted_code = \"%%capture cap --no-stderr\\n# check original CF compliancy\\n\\ncheck_compliancy(testfile=dataset, working_dir=CF_dir)\";\n                var nbb_cells = Jupyter.notebook.get_cells();\n                for (var i = 0; i < nbb_cells.length; ++i) {\n                    if (nbb_cells[i].input_prompt_number == nbb_cell_id) {\n                        if (nbb_cells[i].get_text() == nbb_unformatted_code) {\n                             nbb_cells[i].set_text(nbb_formatted_code);\n                        }\n                        break;\n                    }\n                }\n            }, 500);\n            ",
      "text/plain": [
       "<IPython.core.display.Javascript object>"
      ]
     },
     "metadata": {},
     "output_type": "display_data"
    }
   ],
   "source": [
    "%%capture cap --no-stderr\n",
    "# check original CF compliancy\n",
    "\n",
    "check_compliancy(testfile=dataset, working_dir=CF_dir)"
   ]
  },
  {
   "cell_type": "code",
   "execution_count": 17,
   "id": "f5550244",
   "metadata": {},
   "outputs": [
    {
     "name": "stdout",
     "output_type": "stream",
     "text": [
      "{'P:\\\\11207608-coclico\\\\FULLTRACK_DATA\\\\WP4\\\\data\\\\CTP_ReturnPeriods.nc': {'warnings': '1', 'errors': '5'}}\n"
     ]
    },
    {
     "data": {
      "application/javascript": "\n            setTimeout(function() {\n                var nbb_cell_id = 17;\n                var nbb_unformatted_code = \"# save original CF compliancy\\nsave_compliancy(cap, testfile=dataset, working_dir=CF_dir)\";\n                var nbb_formatted_code = \"# save original CF compliancy\\nsave_compliancy(cap, testfile=dataset, working_dir=CF_dir)\";\n                var nbb_cells = Jupyter.notebook.get_cells();\n                for (var i = 0; i < nbb_cells.length; ++i) {\n                    if (nbb_cells[i].input_prompt_number == nbb_cell_id) {\n                        if (nbb_cells[i].get_text() == nbb_unformatted_code) {\n                             nbb_cells[i].set_text(nbb_formatted_code);\n                        }\n                        break;\n                    }\n                }\n            }, 500);\n            ",
      "text/plain": [
       "<IPython.core.display.Javascript object>"
      ]
     },
     "metadata": {},
     "output_type": "display_data"
    }
   ],
   "source": [
    "# save original CF compliancy\n",
    "save_compliancy(cap, testfile=dataset, working_dir=CF_dir)"
   ]
  },
  {
   "cell_type": "code",
   "execution_count": null,
   "id": "4f6e03a5",
   "metadata": {},
   "outputs": [],
   "source": []
  },
  {
   "cell_type": "code",
   "execution_count": null,
   "id": "40540fc0",
   "metadata": {},
   "outputs": [],
   "source": []
  },
  {
   "cell_type": "code",
   "execution_count": null,
   "id": "d2f6efb5",
   "metadata": {},
   "outputs": [],
   "source": []
  },
  {
   "cell_type": "code",
   "execution_count": null,
   "id": "ac6632d3",
   "metadata": {},
   "outputs": [],
   "source": [
    "%%capture cap --no-stderr\n",
    "# check original CF compliancy\n",
    "\n",
    "check_compliancy(testfile=dataset_rcp45_path, working_dir=CF_dir)"
   ]
  },
  {
   "cell_type": "code",
   "execution_count": null,
   "id": "4f94a2e4",
   "metadata": {},
   "outputs": [],
   "source": [
    "# save original CF compliancy\n",
    "save_compliancy(cap, testfile=dataset_rcp45_path, working_dir=CF_dir)"
   ]
  },
  {
   "cell_type": "code",
   "execution_count": null,
   "id": "05e69f6a",
   "metadata": {},
   "outputs": [],
   "source": [
    "%%capture cap --no-stderr\n",
    "# check original CF compliancy\n",
    "\n",
    "check_compliancy(testfile=dataset_rcp85_path, working_dir=CF_dir)"
   ]
  },
  {
   "cell_type": "code",
   "execution_count": null,
   "id": "d444ca8a",
   "metadata": {},
   "outputs": [],
   "source": [
    "# save original CF compliancy\n",
    "save_compliancy(cap, testfile=dataset_rcp85_path, working_dir=CF_dir)"
   ]
  },
  {
   "attachments": {},
   "cell_type": "markdown",
   "id": "8ba9aa6e",
   "metadata": {},
   "source": [
    "### Make CF compliant alterations to the NetCDF files (dataset dependent)"
   ]
  },
  {
   "cell_type": "code",
   "execution_count": null,
   "id": "eb4aae89",
   "metadata": {},
   "outputs": [],
   "source": [
    "# NetCDF attribute alterations\n",
    "\n",
    "# rename global attribute names\n",
    "dataset_historical.attrs[\"Project_Name\"] = dataset_historical.attrs.pop(\"Project Name\")\n",
    "dataset_historical.attrs[\"Project_Acronym\"] = dataset_historical.attrs.pop(\n",
    "    \"Project Acronym\"\n",
    ")\n",
    "dataset_45rcp.attrs[\"Project_Name\"] = dataset_45rcp.attrs.pop(\"Project Name\")\n",
    "dataset_45rcp.attrs[\"Project_Acronym\"] = dataset_45rcp.attrs.pop(\"Project Acronym\")\n",
    "dataset_85rcp.attrs[\"Project_Name\"] = dataset_85rcp.attrs.pop(\"Project Name\")\n",
    "dataset_85rcp.attrs[\"Project_Acronym\"] = dataset_85rcp.attrs.pop(\"Project Acronym\")\n",
    "\n",
    "# add global attributes\n",
    "dataset_historical.attrs[\"Conventions\"] = \"CF-1.8\"\n",
    "dataset_45rcp.attrs[\"Conventions\"] = \"CF-1.8\"\n",
    "dataset_85rcp.attrs[\"Conventions\"] = \"CF-1.8\"\n",
    "dataset_historical.attrs[\"Starting_date\"] = \"01-Dec-1969\"\n",
    "dataset_historical.attrs[\"End_date\"] = \"30-Nov-2004 21:00:00\"\n",
    "dataset_45rcp.attrs[\"Starting_date\"] = \"01-Dec-2009\"\n",
    "dataset_45rcp.attrs[\"End_date\"] = \"30-Nov-2099 21:00:00\"\n",
    "dataset_85rcp.attrs[\"Starting_date\"] = \"01-Dec-2009\"\n",
    "dataset_85rcp.attrs[\"End_date\"] = \"30-Nov-2099 21:00:00\"\n",
    "\n",
    "# remove certain variable attributes\n",
    "del dataset_historical[\"RP\"].attrs[\"Starting date\"]\n",
    "del dataset_historical[\"RP\"].attrs[\"End date\"]\n",
    "del dataset_45rcp[\"RP\"].attrs[\"Starting date\"]\n",
    "del dataset_45rcp[\"RP\"].attrs[\"End date\"]\n",
    "del dataset_85rcp[\"RP\"].attrs[\"Starting date\"]\n",
    "del dataset_85rcp[\"RP\"].attrs[\"End date\"]"
   ]
  },
  {
   "cell_type": "code",
   "execution_count": null,
   "id": "acf79ea1",
   "metadata": {},
   "outputs": [],
   "source": [
    "# NetCDF variable and dimension alterations\n",
    "\n",
    "# rename or swap dimension names, the latter in case the name already exists as coordinate\n",
    "dataset_historical = dataset_historical.rename_dims({\"row\": \"stations\"})\n",
    "dataset_45rcp = dataset_45rcp.rename_dims({\"row\": \"stations\"})\n",
    "dataset_85rcp = dataset_85rcp.rename_dims({\"row\": \"stations\"})\n",
    "dataset_historical = dataset_historical.swap_dims({\"col\": \"rp\"})\n",
    "dataset_45rcp = dataset_45rcp.swap_dims({\"col\": \"rp\"})\n",
    "dataset_85rcp = dataset_85rcp.swap_dims({\"col\": \"rp\"})\n",
    "\n",
    "# rename variables, if necessary\n",
    "dataset_historical = dataset_historical.rename_vars(\n",
    "    {\"RP\": \"rp\", \"longitude\": \"lon\", \"latitude\": \"lat\"}\n",
    ")\n",
    "dataset_45rcp = dataset_45rcp.rename_vars(\n",
    "    {\"RP\": \"rp\", \"longitude\": \"lon\", \"latitude\": \"lat\"}\n",
    ")\n",
    "dataset_85rcp = dataset_85rcp.rename_vars(\n",
    "    {\"RP\": \"rp\", \"longitude\": \"lon\", \"latitude\": \"lat\"}\n",
    ")\n",
    "\n",
    "# set some data variables to coordinates to avoid duplication of dimensions in later stage\n",
    "dataset_historical = dataset_historical.set_coords([\"lon\", \"lat\", \"rp\"])\n",
    "dataset_45rcp = dataset_45rcp.set_coords([\"lon\", \"lat\", \"rp\"])\n",
    "dataset_85rcp = dataset_85rcp.set_coords([\"lon\", \"lat\", \"rp\"])"
   ]
  },
  {
   "cell_type": "code",
   "execution_count": null,
   "id": "2437c6d8",
   "metadata": {},
   "outputs": [],
   "source": [
    "# concat datasets along new dimension with index values and name derived from pandas index object, if necessary\n",
    "dataset = xr.concat(\n",
    "    [dataset_historical, dataset_45rcp, dataset_85rcp], dim=\"nscenarios\",\n",
    ")\n",
    "dataset = dataset.assign_coords(\n",
    "    scenarios=(\"nscenarios\", np.array([\"Historical\", \"RCP45\", \"RCP85\"], dtype=\"S\"))\n",
    ")\n",
    "\n",
    "# dataset = xr.concat(\n",
    "#     [dataset_historical, dataset_45rcp, dataset_85rcp],\n",
    "#     pd.Index([\"historical\", \"rcp45\", \"rcp85\"], name=\"scenarios\"),\n",
    "# )\n",
    "\n",
    "# dataset[\"scenarios\"].values.astype(\"U\") # retrieve scenarios as string"
   ]
  },
  {
   "cell_type": "code",
   "execution_count": null,
   "id": "2b8a4ed1",
   "metadata": {},
   "outputs": [],
   "source": [
    "# re-order shape of the data variables\n",
    "dataset_historical = dataset_historical.transpose(\"stations\", \"rp\")\n",
    "dataset_45rcp = dataset_45rcp.transpose(\"stations\", \"rp\")\n",
    "dataset_85rcp = dataset_85rcp.transpose(\"stations\", \"rp\")\n",
    "dataset = dataset.transpose(\"nscenarios\", \"stations\", \"rp\")\n",
    "\n",
    "# add or change certain variable / coordinate attributes\n",
    "dataset_attributes = {\n",
    "    \"scenarios\": {\"long_name\": \"climate scenarios\"}\n",
    "}  # specify custom (CF convention) attributes\n",
    "\n",
    "# add / overwrite attributes\n",
    "for k, v in dataset_attributes.items():\n",
    "    try:\n",
    "        dataset[k].attrs = dataset_attributes[k]\n",
    "    except:\n",
    "        continue\n",
    "\n",
    "# add epsg\n",
    "dataset_historical.attrs[\"crs\"] = 4326\n",
    "dataset_45rcp.attrs[\"crs\"] = 4326\n",
    "dataset_85rcp.attrs[\"crs\"] = 4326\n",
    "dataset.attrs[\"crs\"] = 4326"
   ]
  },
  {
   "cell_type": "code",
   "execution_count": null,
   "id": "8811d7db",
   "metadata": {},
   "outputs": [],
   "source": [
    "# check the xarray dataset, best practice is to have as many as possible bold dimensions (dimension == coordinate name).\n",
    "# in this way, the Front-End can access the variable directly without having to index the variable first\n",
    "\n",
    "dataset\n",
    "# dataset[\"scenarios\"]"
   ]
  },
  {
   "cell_type": "code",
   "execution_count": null,
   "id": "ce9f59c5",
   "metadata": {},
   "outputs": [],
   "source": [
    "# save new .nc files\n",
    "dataset_historical.to_netcdf(path=str(dataset_historical_path).replace(\".nc\", \"_CF.nc\"))\n",
    "dataset_45rcp.to_netcdf(path=str(dataset_rcp45_path).replace(\".nc\", \"_CF.nc\"))\n",
    "dataset_85rcp.to_netcdf(path=str(dataset_rcp85_path).replace(\".nc\", \"_CF.nc\"))\n",
    "dataset.to_netcdf(path=dataset_dir.joinpath(dataset_out_file + \"_CF.nc\"))"
   ]
  },
  {
   "attachments": {},
   "cell_type": "markdown",
   "id": "bb6b7ed5",
   "metadata": {},
   "source": [
    "### Check CF compliancy altered NetCDF files"
   ]
  },
  {
   "cell_type": "code",
   "execution_count": null,
   "id": "ec2128ef",
   "metadata": {},
   "outputs": [],
   "source": [
    "%%capture cap --no-stderr\n",
    "# check altered CF compliancy\n",
    "\n",
    "check_compliancy(testfile=str(dataset_historical_path).replace(\".nc\", \"_CF.nc\"), working_dir=CF_dir)"
   ]
  },
  {
   "cell_type": "code",
   "execution_count": null,
   "id": "d915cc04",
   "metadata": {},
   "outputs": [],
   "source": [
    "# save altered CF compliancy\n",
    "save_compliancy(\n",
    "    cap,\n",
    "    testfile=str(dataset_historical_path).replace(\".nc\", \"_CF.nc\"),\n",
    "    working_dir=CF_dir,\n",
    ")"
   ]
  },
  {
   "cell_type": "code",
   "execution_count": null,
   "id": "d5dd0614",
   "metadata": {},
   "outputs": [],
   "source": [
    "%%capture cap --no-stderr\n",
    "# check altered CF compliancy\n",
    "\n",
    "check_compliancy(testfile=str(dataset_rcp45_path).replace(\".nc\", \"_CF.nc\"), working_dir=CF_dir)"
   ]
  },
  {
   "cell_type": "code",
   "execution_count": null,
   "id": "185059c8",
   "metadata": {},
   "outputs": [],
   "source": [
    "# save altered CF compliancy\n",
    "save_compliancy(\n",
    "    cap, testfile=str(dataset_rcp45_path).replace(\".nc\", \"_CF.nc\"), working_dir=CF_dir,\n",
    ")"
   ]
  },
  {
   "cell_type": "code",
   "execution_count": null,
   "id": "c659d335",
   "metadata": {},
   "outputs": [],
   "source": [
    "%%capture cap --no-stderr\n",
    "# check altered CF compliancy\n",
    "\n",
    "check_compliancy(testfile=str(dataset_rcp85_path).replace(\".nc\", \"_CF.nc\"), working_dir=CF_dir)"
   ]
  },
  {
   "cell_type": "code",
   "execution_count": null,
   "id": "916365dc",
   "metadata": {},
   "outputs": [],
   "source": [
    "# save altered CF compliancy\n",
    "save_compliancy(\n",
    "    cap, testfile=str(dataset_rcp85_path).replace(\".nc\", \"_CF.nc\"), working_dir=CF_dir,\n",
    ")"
   ]
  },
  {
   "cell_type": "code",
   "execution_count": null,
   "id": "c045560e",
   "metadata": {},
   "outputs": [],
   "source": [
    "%%capture cap --no-stderr\n",
    "# check altered CF compliancy\n",
    "\n",
    "check_compliancy(testfile=dataset_dir.joinpath(dataset_out_file + \"_CF.nc\"), working_dir=CF_dir)"
   ]
  },
  {
   "cell_type": "code",
   "execution_count": null,
   "id": "68a9450f",
   "metadata": {},
   "outputs": [],
   "source": [
    "# save altered CF compliancy\n",
    "save_compliancy(\n",
    "    cap, testfile=dataset_dir.joinpath(dataset_out_file + \"_CF.nc\"), working_dir=CF_dir,\n",
    ")"
   ]
  },
  {
   "attachments": {},
   "cell_type": "markdown",
   "id": "8155e887",
   "metadata": {},
   "source": [
    "### write data to Zarr files"
   ]
  },
  {
   "cell_type": "code",
   "execution_count": null,
   "id": "46d91d1e",
   "metadata": {},
   "outputs": [],
   "source": [
    "# export to zarr in write mode (to overwrite if exists)\n",
    "dataset.to_zarr(dataset_dir.joinpath(\"%s.zarr\" % dataset_out_file), mode=\"w\")"
   ]
  },
  {
   "cell_type": "code",
   "execution_count": null,
   "id": "88359b96",
   "metadata": {},
   "outputs": [],
   "source": []
  }
 ],
 "metadata": {
  "kernelspec": {
   "display_name": "geo_env",
   "language": "python",
   "name": "python3"
  },
  "language_info": {
   "codemirror_mode": {
    "name": "ipython",
    "version": 3
   },
   "file_extension": ".py",
   "mimetype": "text/x-python",
   "name": "python",
   "nbconvert_exporter": "python",
   "pygments_lexer": "ipython3",
   "version": "3.11.4"
  },
  "vscode": {
   "interpreter": {
    "hash": "92590b8b61d447ec77a1c897af89012828c879bd382a813b35f1d19994b1169c"
   }
  }
 },
 "nbformat": 4,
 "nbformat_minor": 5
}
