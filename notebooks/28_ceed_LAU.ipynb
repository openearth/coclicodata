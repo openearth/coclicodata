{
 "cells": [
  {
   "cell_type": "markdown",
   "metadata": {},
   "source": [
    "# Critical Infrastructure\n",
    "\n",
    "Notebook environment to migrate netcdf files to CF compliant zarr#"
   ]
  },
  {
   "cell_type": "code",
   "execution_count": 1,
   "metadata": {},
   "outputs": [
    {
     "data": {
      "application/javascript": "\n            setTimeout(function() {\n                var nbb_cell_id = 1;\n                var nbb_unformatted_code = \"# Optional; code formatter, installed as jupyter lab extension\\n#%load_ext lab_black\\n# Optional; code formatter, installed as jupyter notebook extension\\n%load_ext nb_black\";\n                var nbb_formatted_code = \"# Optional; code formatter, installed as jupyter lab extension\\n# %load_ext lab_black\\n# Optional; code formatter, installed as jupyter notebook extension\\n%load_ext nb_black\";\n                var nbb_cells = Jupyter.notebook.get_cells();\n                for (var i = 0; i < nbb_cells.length; ++i) {\n                    if (nbb_cells[i].input_prompt_number == nbb_cell_id) {\n                        if (nbb_cells[i].get_text() == nbb_unformatted_code) {\n                             nbb_cells[i].set_text(nbb_formatted_code);\n                        }\n                        break;\n                    }\n                }\n            }, 500);\n            ",
      "text/plain": [
       "<IPython.core.display.Javascript object>"
      ]
     },
     "metadata": {},
     "output_type": "display_data"
    }
   ],
   "source": [
    "# Optional; code formatter, installed as jupyter lab extension\n",
    "#%load_ext lab_black\n",
    "# Optional; code formatter, installed as jupyter notebook extension\n",
    "%load_ext nb_black"
   ]
  },
  {
   "cell_type": "markdown",
   "metadata": {},
   "source": [
    "### Configure OS independent paths"
   ]
  },
  {
   "cell_type": "code",
   "execution_count": 2,
   "metadata": {},
   "outputs": [
    {
     "name": "stderr",
     "output_type": "stream",
     "text": [
      "C:\\Users\\kras\\AppData\\Local\\Temp\\ipykernel_11400\\93513235.py:6: DeprecationWarning: Shapely 2.0 is installed, but because PyGEOS is also installed, GeoPandas still uses PyGEOS by default. However, starting with version 0.14, the default will switch to Shapely. To force to use Shapely 2.0 now, you can either uninstall PyGEOS or set the environment variable USE_PYGEOS=0. You can do this before starting the Python process, or in your code before importing geopandas:\n",
      "\n",
      "import os\n",
      "os.environ['USE_PYGEOS'] = '0'\n",
      "import geopandas\n",
      "\n",
      "In the next release, GeoPandas will switch to using Shapely by default, even if PyGEOS is installed. If you only have PyGEOS installed to get speed-ups, this switch should be smooth. However, if you are using PyGEOS directly (calling PyGEOS functions on geometries from GeoPandas), this will then stop working and you are encouraged to migrate from PyGEOS to Shapely 2.0 (https://shapely.readthedocs.io/en/latest/migration_pygeos.html).\n",
      "  import geopandas as gpd\n"
     ]
    },
    {
     "data": {
      "application/javascript": "\n            setTimeout(function() {\n                var nbb_cell_id = 2;\n                var nbb_unformatted_code = \"# Import standard packages\\nimport os\\nimport pathlib\\nimport sys\\nimport numpy as np\\nimport geopandas as gpd\\nimport pandas as pd\\nimport matplotlib.pyplot as plt\\nimport xarray as xr\\nfrom shapely import wkb\\n\\n# Make root directories importable by appending root to path\\ncwd = pathlib.Path().resolve()\\nsys.path.append(os.path.dirname(cwd))\\n\\n# Get root paths\\nhome = pathlib.Path().home()\\nroot = home.root\\n\\n# Import custom functionality\\nfrom coclicodata.drive_config import p_drive\\nfrom coclicodata.etl.cf_compliancy_checker import check_compliancy, save_compliancy\\nfrom coclicodata.etl.cloud_utils import (\\n    load_google_credentials,\\n    dir_to_google_cloud,\\n    file_to_google_cloud,\\n)\\n\\n# Define (local and) remote drives\\ncoclico_data_dir_fast = p_drive.joinpath(\\\"11207608-coclico\\\", \\\"FASTTRACK_DATA\\\")\\ncoclico_data_dir_full = p_drive.joinpath(\\\"11207608-coclico\\\", \\\"FULLTRACK_DATA\\\")\\n\\n# Workaround to the Windows OS (10) udunits error after installation of cfchecker: https://github.com/SciTools/iris/issues/404\\n# os.environ[\\\"UDUNITS2_XML_PATH\\\"] = str(\\n#     home.joinpath(  # change to the udunits2.xml file dir in your Python installation\\n#         r\\\"Anaconda3\\\\pkgs\\\\udunits2-2.2.28-h892ecd3_0\\\\Library\\\\share\\\\udunits\\\\udunits2.xml\\\"\\n#     )\\n# )\";\n                var nbb_formatted_code = \"# Import standard packages\\nimport os\\nimport pathlib\\nimport sys\\nimport numpy as np\\nimport geopandas as gpd\\nimport pandas as pd\\nimport matplotlib.pyplot as plt\\nimport xarray as xr\\nfrom shapely import wkb\\n\\n# Make root directories importable by appending root to path\\ncwd = pathlib.Path().resolve()\\nsys.path.append(os.path.dirname(cwd))\\n\\n# Get root paths\\nhome = pathlib.Path().home()\\nroot = home.root\\n\\n# Import custom functionality\\nfrom coclicodata.drive_config import p_drive\\nfrom coclicodata.etl.cf_compliancy_checker import check_compliancy, save_compliancy\\nfrom coclicodata.etl.cloud_utils import (\\n    load_google_credentials,\\n    dir_to_google_cloud,\\n    file_to_google_cloud,\\n)\\n\\n# Define (local and) remote drives\\ncoclico_data_dir_fast = p_drive.joinpath(\\\"11207608-coclico\\\", \\\"FASTTRACK_DATA\\\")\\ncoclico_data_dir_full = p_drive.joinpath(\\\"11207608-coclico\\\", \\\"FULLTRACK_DATA\\\")\\n\\n# Workaround to the Windows OS (10) udunits error after installation of cfchecker: https://github.com/SciTools/iris/issues/404\\n# os.environ[\\\"UDUNITS2_XML_PATH\\\"] = str(\\n#     home.joinpath(  # change to the udunits2.xml file dir in your Python installation\\n#         r\\\"Anaconda3\\\\pkgs\\\\udunits2-2.2.28-h892ecd3_0\\\\Library\\\\share\\\\udunits\\\\udunits2.xml\\\"\\n#     )\\n# )\";\n                var nbb_cells = Jupyter.notebook.get_cells();\n                for (var i = 0; i < nbb_cells.length; ++i) {\n                    if (nbb_cells[i].input_prompt_number == nbb_cell_id) {\n                        if (nbb_cells[i].get_text() == nbb_unformatted_code) {\n                             nbb_cells[i].set_text(nbb_formatted_code);\n                        }\n                        break;\n                    }\n                }\n            }, 500);\n            ",
      "text/plain": [
       "<IPython.core.display.Javascript object>"
      ]
     },
     "metadata": {},
     "output_type": "display_data"
    }
   ],
   "source": [
    "# Import standard packages\n",
    "import os\n",
    "import pathlib\n",
    "import sys\n",
    "import numpy as np\n",
    "import geopandas as gpd\n",
    "import pandas as pd\n",
    "import matplotlib.pyplot as plt\n",
    "import xarray as xr\n",
    "from shapely import wkb\n",
    "\n",
    "# Make root directories importable by appending root to path\n",
    "cwd = pathlib.Path().resolve()\n",
    "sys.path.append(os.path.dirname(cwd))\n",
    "\n",
    "# Get root paths\n",
    "home = pathlib.Path().home()\n",
    "root = home.root\n",
    "\n",
    "# Import custom functionality\n",
    "from coclicodata.drive_config import p_drive\n",
    "from coclicodata.etl.cf_compliancy_checker import check_compliancy, save_compliancy\n",
    "from coclicodata.etl.cloud_utils import (\n",
    "    load_google_credentials,\n",
    "    dir_to_google_cloud,\n",
    "    file_to_google_cloud,\n",
    ")\n",
    "\n",
    "# Define (local and) remote drives\n",
    "coclico_data_dir_fast = p_drive.joinpath(\"11207608-coclico\", \"FASTTRACK_DATA\")\n",
    "coclico_data_dir_full = p_drive.joinpath(\"11207608-coclico\", \"FULLTRACK_DATA\")\n",
    "\n",
    "# Workaround to the Windows OS (10) udunits error after installation of cfchecker: https://github.com/SciTools/iris/issues/404\n",
    "# os.environ[\"UDUNITS2_XML_PATH\"] = str(\n",
    "#     home.joinpath(  # change to the udunits2.xml file dir in your Python installation\n",
    "#         r\"Anaconda3\\pkgs\\udunits2-2.2.28-h892ecd3_0\\Library\\share\\udunits\\udunits2.xml\"\n",
    "#     )\n",
    "# )\n",
    "\n"
   ]
  },
  {
   "cell_type": "code",
   "execution_count": 3,
   "metadata": {},
   "outputs": [
    {
     "data": {
      "application/javascript": "\n            setTimeout(function() {\n                var nbb_cell_id = 3;\n                var nbb_unformatted_code = \"# Project paths & files (manual input)\\n\\n# coastal LAU and NUTS coastal \\nLAU_dataset_dir = coclico_data_dir_fast.joinpath(\\\"XX_LAU\\\")\\nNUTS2_dataset_dir = coclico_data_dir_fast.joinpath(\\\"XX_NUTS\\\")\\nLAU_ds_path = LAU_dataset_dir.joinpath(\\\"LAU_2020_NUTS_2021_01M_3035_CM.parquet\\\")\\nNUTS2_ds_path = NUTS2_dataset_dir.joinpath(\\\"NUTS2_RG_01M_2021_3035_CM.parquet\\\")\\n\\n# CEED data\\nCEED_dataset_dir = coclico_data_dir_full.joinpath(\\\"WP5/data/nuts2_ceed\\\")\";\n                var nbb_formatted_code = \"# Project paths & files (manual input)\\n\\n# coastal LAU and NUTS coastal\\nLAU_dataset_dir = coclico_data_dir_fast.joinpath(\\\"XX_LAU\\\")\\nNUTS2_dataset_dir = coclico_data_dir_fast.joinpath(\\\"XX_NUTS\\\")\\nLAU_ds_path = LAU_dataset_dir.joinpath(\\\"LAU_2020_NUTS_2021_01M_3035_CM.parquet\\\")\\nNUTS2_ds_path = NUTS2_dataset_dir.joinpath(\\\"NUTS2_RG_01M_2021_3035_CM.parquet\\\")\\n\\n# CEED data\\nCEED_dataset_dir = coclico_data_dir_full.joinpath(\\\"WP5/data/nuts2_ceed\\\")\";\n                var nbb_cells = Jupyter.notebook.get_cells();\n                for (var i = 0; i < nbb_cells.length; ++i) {\n                    if (nbb_cells[i].input_prompt_number == nbb_cell_id) {\n                        if (nbb_cells[i].get_text() == nbb_unformatted_code) {\n                             nbb_cells[i].set_text(nbb_formatted_code);\n                        }\n                        break;\n                    }\n                }\n            }, 500);\n            ",
      "text/plain": [
       "<IPython.core.display.Javascript object>"
      ]
     },
     "metadata": {},
     "output_type": "display_data"
    }
   ],
   "source": [
    "# Project paths & files (manual input)\n",
    "\n",
    "# coastal LAU and NUTS coastal \n",
    "LAU_dataset_dir = coclico_data_dir_fast.joinpath(\"XX_LAU\")\n",
    "NUTS2_dataset_dir = coclico_data_dir_fast.joinpath(\"XX_NUTS\")\n",
    "LAU_ds_path = LAU_dataset_dir.joinpath(\"LAU_2020_NUTS_2021_01M_3035_CM.parquet\")\n",
    "NUTS2_ds_path = NUTS2_dataset_dir.joinpath(\"NUTS2_RG_01M_2021_3035_CM.parquet\")\n",
    "\n",
    "# CEED data\n",
    "CEED_dataset_dir = coclico_data_dir_full.joinpath(\"WP5/data/nuts2_ceed\")"
   ]
  },
  {
   "cell_type": "markdown",
   "metadata": {},
   "source": [
    "### Creation of small test file"
   ]
  },
  {
   "cell_type": "code",
   "execution_count": 29,
   "metadata": {},
   "outputs": [
    {
     "data": {
      "text/plain": [
       "<Axes: >"
      ]
     },
     "execution_count": 29,
     "metadata": {},
     "output_type": "execute_result"
    },
    {
     "data": {
      "image/png": "[encoded data removed]",
      "text/plain": [
       "<Figure size 640x480 with 1 Axes>"
      ]
     },
     "metadata": {},
     "output_type": "display_data"
    },
    {
     "data": {
      "application/javascript": "\n            setTimeout(function() {\n                var nbb_cell_id = 29;\n                var nbb_unformatted_code = \"# load parquet data into geopandas geodataframes\\nLAU = pd.read_parquet(LAU_ds_path)\\nNUTS2 = pd.read_parquet(NUTS2_ds_path)\\n\\n# fix geometries\\nLAU[\\\"geometry\\\"] = LAU[\\\"geometry\\\"].apply(lambda x: wkb.loads(x) if x else None)\\nNUTS2[\\\"geometry\\\"] = NUTS2[\\\"geometry\\\"].apply(lambda x: wkb.loads(x) if x else None)\\n\\n# make geodataframe\\nLAU_gdf = gpd.GeoDataFrame(LAU, geometry=\\\"geometry\\\")\\nNUTS2_gdf = gpd.GeoDataFrame(NUTS2, geometry=\\\"geometry\\\")\\nLAU_gdf.plot()\";\n                var nbb_formatted_code = \"# load parquet data into geopandas geodataframes\\nLAU = pd.read_parquet(LAU_ds_path)\\nNUTS2 = pd.read_parquet(NUTS2_ds_path)\\n\\n# fix geometries\\nLAU[\\\"geometry\\\"] = LAU[\\\"geometry\\\"].apply(lambda x: wkb.loads(x) if x else None)\\nNUTS2[\\\"geometry\\\"] = NUTS2[\\\"geometry\\\"].apply(lambda x: wkb.loads(x) if x else None)\\n\\n# make geodataframe\\nLAU_gdf = gpd.GeoDataFrame(LAU, geometry=\\\"geometry\\\")\\nNUTS2_gdf = gpd.GeoDataFrame(NUTS2, geometry=\\\"geometry\\\")\\nLAU_gdf.plot()\";\n                var nbb_cells = Jupyter.notebook.get_cells();\n                for (var i = 0; i < nbb_cells.length; ++i) {\n                    if (nbb_cells[i].input_prompt_number == nbb_cell_id) {\n                        if (nbb_cells[i].get_text() == nbb_unformatted_code) {\n                             nbb_cells[i].set_text(nbb_formatted_code);\n                        }\n                        break;\n                    }\n                }\n            }, 500);\n            ",
      "text/plain": [
       "<IPython.core.display.Javascript object>"
      ]
     },
     "metadata": {},
     "output_type": "display_data"
    }
   ],
   "source": [
    "# load parquet data into geopandas geodataframes\n",
    "LAU = pd.read_parquet(LAU_ds_path)\n",
    "NUTS2 = pd.read_parquet(NUTS2_ds_path)\n",
    "\n",
    "# fix geometries\n",
    "LAU[\"geometry\"] = LAU[\"geometry\"].apply(lambda x: wkb.loads(x) if x else None)\n",
    "NUTS2[\"geometry\"] = NUTS2[\"geometry\"].apply(lambda x: wkb.loads(x) if x else None)\n",
    "\n",
    "# make geodataframe\n",
    "LAU_gdf = gpd.GeoDataFrame(LAU, geometry=\"geometry\")\n",
    "NUTS2_gdf = gpd.GeoDataFrame(NUTS2, geometry=\"geometry\")\n",
    "LAU_gdf.plot()"
   ]
  },
  {
   "cell_type": "code",
   "execution_count": 30,
   "metadata": {},
   "outputs": [
    {
     "data": {
      "application/javascript": "\n            setTimeout(function() {\n                var nbb_cell_id = 30;\n                var nbb_unformatted_code = \"# load CEED parquet data into geopandas dataframes\\n# NL33 (South Holland - largest)\\n# NL41 (Brabant - second largest)\\n# NL32 (North Holland - third largest)\\n# NL22 (Gelderland - fourth largest)\\nCEED = pd.read_parquet(CEED_dataset_dir.joinpath(\\\"NL32_CEED.parquet\\\"))\\n\\n# fix geometries\\nCEED[\\\"geometry\\\"] = CEED[\\\"geometry\\\"].apply(lambda x: wkb.loads(x) if x else None)\\n\\n# make geodataframe\\nCEED_gdf = gpd.GeoDataFrame(CEED, geometry=\\\"geometry\\\")\";\n                var nbb_formatted_code = \"# load CEED parquet data into geopandas dataframes\\n# NL33 (South Holland - largest)\\n# NL41 (Brabant - second largest)\\n# NL32 (North Holland - third largest)\\n# NL22 (Gelderland - fourth largest)\\nCEED = pd.read_parquet(CEED_dataset_dir.joinpath(\\\"NL32_CEED.parquet\\\"))\\n\\n# fix geometries\\nCEED[\\\"geometry\\\"] = CEED[\\\"geometry\\\"].apply(lambda x: wkb.loads(x) if x else None)\\n\\n# make geodataframe\\nCEED_gdf = gpd.GeoDataFrame(CEED, geometry=\\\"geometry\\\")\";\n                var nbb_cells = Jupyter.notebook.get_cells();\n                for (var i = 0; i < nbb_cells.length; ++i) {\n                    if (nbb_cells[i].input_prompt_number == nbb_cell_id) {\n                        if (nbb_cells[i].get_text() == nbb_unformatted_code) {\n                             nbb_cells[i].set_text(nbb_formatted_code);\n                        }\n                        break;\n                    }\n                }\n            }, 500);\n            ",
      "text/plain": [
       "<IPython.core.display.Javascript object>"
      ]
     },
     "metadata": {},
     "output_type": "display_data"
    }
   ],
   "source": [
    "# load CEED parquet data into geopandas dataframes\n",
    "# NL33 (South Holland - largest)\n",
    "# NL41 (Brabant - second largest)\n",
    "# NL32 (North Holland - third largest)\n",
    "# NL22 (Gelderland - fourth largest)\n",
    "CEED = pd.read_parquet(CEED_dataset_dir.joinpath(\"NL32_CEED.parquet\"))\n",
    "\n",
    "# fix geometries\n",
    "CEED[\"geometry\"] = CEED[\"geometry\"].apply(lambda x: wkb.loads(x) if x else None)\n",
    "\n",
    "# make geodataframe\n",
    "CEED_gdf = gpd.GeoDataFrame(CEED, geometry=\"geometry\")"
   ]
  },
  {
   "cell_type": "code",
   "execution_count": 31,
   "metadata": {},
   "outputs": [
    {
     "data": {
      "text/plain": [
       "<Axes: >"
      ]
     },
     "execution_count": 31,
     "metadata": {},
     "output_type": "execute_result"
    },
    {
     "data": {
      "image/png": "[encoded data removed]",
      "text/plain": [
       "<Figure size 640x480 with 1 Axes>"
      ]
     },
     "metadata": {},
     "output_type": "display_data"
    },
    {
     "data": {
      "application/javascript": "\n            setTimeout(function() {\n                var nbb_cell_id = 31;\n                var nbb_unformatted_code = \"# cut up the NUTS2 CEED into smaller LAU CEED files\\ntest_file = \\\"NL_GM0363\\\"\\n\\n# select one LAU in the file\\nLAU_AMS = LAU_gdf[LAU_gdf[\\\"GISCO_ID\\\"] == test_file]\\nLAU_AMS.plot(alpha=0.5)\";\n                var nbb_formatted_code = \"# cut up the NUTS2 CEED into smaller LAU CEED files\\ntest_file = \\\"NL_GM0363\\\"\\n\\n# select one LAU in the file\\nLAU_AMS = LAU_gdf[LAU_gdf[\\\"GISCO_ID\\\"] == test_file]\\nLAU_AMS.plot(alpha=0.5)\";\n                var nbb_cells = Jupyter.notebook.get_cells();\n                for (var i = 0; i < nbb_cells.length; ++i) {\n                    if (nbb_cells[i].input_prompt_number == nbb_cell_id) {\n                        if (nbb_cells[i].get_text() == nbb_unformatted_code) {\n                             nbb_cells[i].set_text(nbb_formatted_code);\n                        }\n                        break;\n                    }\n                }\n            }, 500);\n            ",
      "text/plain": [
       "<IPython.core.display.Javascript object>"
      ]
     },
     "metadata": {},
     "output_type": "display_data"
    }
   ],
   "source": [
    "# cut up the NUTS2 CEED into smaller LAU CEED files\n",
    "test_file = \"NL_GM0363\"\n",
    "\n",
    "# select one LAU in the file\n",
    "LAU_AMS = LAU_gdf[LAU_gdf[\"GISCO_ID\"] == test_file]\n",
    "LAU_AMS.plot(alpha=0.5)"
   ]
  },
  {
   "cell_type": "code",
   "execution_count": 32,
   "metadata": {},
   "outputs": [
    {
     "name": "stderr",
     "output_type": "stream",
     "text": [
      "c:\\SnapVolumesTemp\\MountPoints\\{45c63495-0000-0000-0000-100000000000}\\{548BD435-0C48-4314-A26F-734F82A3D043}\\SVROOT\\Users\\kras\\AppData\\Local\\mambaforge\\envs\\coclico\\Lib\\site-packages\\IPython\\core\\interactiveshell.py:3448: FutureWarning: The `op` parameter is deprecated and will be removed in a future release. Please use the `predicate` parameter instead.\n",
      "  if await self.run_code(code, result, async_=asy):\n"
     ]
    },
    {
     "data": {
      "application/javascript": "\n            setTimeout(function() {\n                var nbb_cell_id = 32;\n                var nbb_unformatted_code = \"# match geospatially the geodataframes (spatial join)\\nLAU_AMS_CEED = gpd.sjoin(CEED_gdf, LAU_AMS, how=\\\"inner\\\", op=\\\"intersects\\\")\";\n                var nbb_formatted_code = \"# match geospatially the geodataframes (spatial join)\\nLAU_AMS_CEED = gpd.sjoin(CEED_gdf, LAU_AMS, how=\\\"inner\\\", op=\\\"intersects\\\")\";\n                var nbb_cells = Jupyter.notebook.get_cells();\n                for (var i = 0; i < nbb_cells.length; ++i) {\n                    if (nbb_cells[i].input_prompt_number == nbb_cell_id) {\n                        if (nbb_cells[i].get_text() == nbb_unformatted_code) {\n                             nbb_cells[i].set_text(nbb_formatted_code);\n                        }\n                        break;\n                    }\n                }\n            }, 500);\n            ",
      "text/plain": [
       "<IPython.core.display.Javascript object>"
      ]
     },
     "metadata": {},
     "output_type": "display_data"
    }
   ],
   "source": [
    "# match geospatially the geodataframes (spatial join)\n",
    "LAU_AMS_CEED = gpd.sjoin(CEED_gdf, LAU_AMS, how=\"inner\", op=\"intersects\")"
   ]
  },
  {
   "cell_type": "code",
   "execution_count": 35,
   "metadata": {},
   "outputs": [
    {
     "data": {
      "application/javascript": "\n            setTimeout(function() {\n                var nbb_cell_id = 35;\n                var nbb_unformatted_code = \"# set the CRS\\nLAU_AMS_CEED = LAU_AMS_CEED.set_crs(epsg=3035)\\n\\n# rename the FID column to avoid confusion\\nLAU_AMS_CEED = LAU_AMS_CEED.rename(columns={\\\"FID\\\": \\\"LAU_FID\\\"})\\n\\n# drop all attributes except geometry\\nLAU_AMS_CEED = LAU_AMS_CEED[[\\\"geometry\\\"]]\\n\\n# reset multi-index to add type\\nLAU_AMS_CEED_plain = LAU_AMS_CEED.reset_index()\\nLAU_AMS_CEED[\\\"type\\\"] = np.array(LAU_AMS_CEED_plain.level_0)\\n\\n# multi-index names and counter info \\n# CEEDtype = np.array(LAU_AMS_CEED.index.levels[0])\\n# for i in CEEDtype:\\n#     print(i, LAU_AMS_CEED.xs(i).shape)\";\n                var nbb_formatted_code = \"# set the CRS\\nLAU_AMS_CEED = LAU_AMS_CEED.set_crs(epsg=3035)\\n\\n# rename the FID column to avoid confusion\\nLAU_AMS_CEED = LAU_AMS_CEED.rename(columns={\\\"FID\\\": \\\"LAU_FID\\\"})\\n\\n# drop all attributes except geometry\\nLAU_AMS_CEED = LAU_AMS_CEED[[\\\"geometry\\\"]]\\n\\n# reset multi-index to add type\\nLAU_AMS_CEED_plain = LAU_AMS_CEED.reset_index()\\nLAU_AMS_CEED[\\\"type\\\"] = np.array(LAU_AMS_CEED_plain.level_0)\\n\\n# multi-index names and counter info\\n# CEEDtype = np.array(LAU_AMS_CEED.index.levels[0])\\n# for i in CEEDtype:\\n#     print(i, LAU_AMS_CEED.xs(i).shape)\";\n                var nbb_cells = Jupyter.notebook.get_cells();\n                for (var i = 0; i < nbb_cells.length; ++i) {\n                    if (nbb_cells[i].input_prompt_number == nbb_cell_id) {\n                        if (nbb_cells[i].get_text() == nbb_unformatted_code) {\n                             nbb_cells[i].set_text(nbb_formatted_code);\n                        }\n                        break;\n                    }\n                }\n            }, 500);\n            ",
      "text/plain": [
       "<IPython.core.display.Javascript object>"
      ]
     },
     "metadata": {},
     "output_type": "display_data"
    }
   ],
   "source": [
    "# set the CRS\n",
    "LAU_AMS_CEED = LAU_AMS_CEED.set_crs(epsg=3035)\n",
    "\n",
    "# rename the FID column to avoid confusion\n",
    "LAU_AMS_CEED = LAU_AMS_CEED.rename(columns={\"FID\": \"LAU_FID\"})\n",
    "\n",
    "# drop all attributes except geometry\n",
    "LAU_AMS_CEED = LAU_AMS_CEED[[\"geometry\"]]\n",
    "\n",
    "# reset multi-index to add type\n",
    "LAU_AMS_CEED_plain = LAU_AMS_CEED.reset_index()\n",
    "LAU_AMS_CEED[\"type\"] = np.array(LAU_AMS_CEED_plain.level_0)\n",
    "\n",
    "# multi-index names and counter info \n",
    "# CEEDtype = np.array(LAU_AMS_CEED.index.levels[0])\n",
    "# for i in CEEDtype:\n",
    "#     print(i, LAU_AMS_CEED.xs(i).shape)"
   ]
  },
  {
   "cell_type": "code",
   "execution_count": 36,
   "metadata": {},
   "outputs": [
    {
     "data": {
      "text/html": [
       "<div>\n",
       "<style scoped>\n",
       "    .dataframe tbody tr th:only-of-type {\n",
       "        vertical-align: middle;\n",
       "    }\n",
       "\n",
       "    .dataframe tbody tr th {\n",
       "        vertical-align: top;\n",
       "    }\n",
       "\n",
       "    .dataframe thead th {\n",
       "        text-align: right;\n",
       "    }\n",
       "</style>\n",
       "<table border=\"1\" class=\"dataframe\">\n",
       "  <thead>\n",
       "    <tr style=\"text-align: right;\">\n",
       "      <th></th>\n",
       "      <th>type</th>\n",
       "      <th>geometry</th>\n",
       "    </tr>\n",
       "  </thead>\n",
       "  <tbody>\n",
       "    <tr>\n",
       "      <th>0</th>\n",
       "      <td>buildings</td>\n",
       "      <td>POLYGON ((3980679.456 3255448.051, 3980679.457...</td>\n",
       "    </tr>\n",
       "    <tr>\n",
       "      <th>1</th>\n",
       "      <td>buildings</td>\n",
       "      <td>POLYGON ((3979429.675 3254097.242, 3979429.675...</td>\n",
       "    </tr>\n",
       "    <tr>\n",
       "      <th>2</th>\n",
       "      <td>buildings</td>\n",
       "      <td>POLYGON ((3979424.475 3254098.462, 3979424.475...</td>\n",
       "    </tr>\n",
       "    <tr>\n",
       "      <th>3</th>\n",
       "      <td>buildings</td>\n",
       "      <td>POLYGON ((3979419.210 3254099.694, 3979419.210...</td>\n",
       "    </tr>\n",
       "    <tr>\n",
       "      <th>4</th>\n",
       "      <td>buildings</td>\n",
       "      <td>POLYGON ((3979411.056 3254112.433, 3979411.056...</td>\n",
       "    </tr>\n",
       "    <tr>\n",
       "      <th>...</th>\n",
       "      <td>...</td>\n",
       "      <td>...</td>\n",
       "    </tr>\n",
       "    <tr>\n",
       "      <th>193871</th>\n",
       "      <td>road</td>\n",
       "      <td>LINESTRING (3965615.648 3268527.148, 3965600.1...</td>\n",
       "    </tr>\n",
       "    <tr>\n",
       "      <th>193872</th>\n",
       "      <td>road</td>\n",
       "      <td>LINESTRING (3964691.293 3268754.238, 3964753.0...</td>\n",
       "    </tr>\n",
       "    <tr>\n",
       "      <th>193873</th>\n",
       "      <td>road</td>\n",
       "      <td>LINESTRING (3965144.431 3268463.035, 3965136.5...</td>\n",
       "    </tr>\n",
       "    <tr>\n",
       "      <th>193874</th>\n",
       "      <td>road</td>\n",
       "      <td>LINESTRING (3964753.004 3268767.519, 3964767.8...</td>\n",
       "    </tr>\n",
       "    <tr>\n",
       "      <th>193875</th>\n",
       "      <td>road</td>\n",
       "      <td>LINESTRING (3965303.920 3269278.662, 3965325.1...</td>\n",
       "    </tr>\n",
       "  </tbody>\n",
       "</table>\n",
       "<p>193876 rows × 2 columns</p>\n",
       "</div>"
      ],
      "text/plain": [
       "             type                                           geometry\n",
       "0       buildings  POLYGON ((3980679.456 3255448.051, 3980679.457...\n",
       "1       buildings  POLYGON ((3979429.675 3254097.242, 3979429.675...\n",
       "2       buildings  POLYGON ((3979424.475 3254098.462, 3979424.475...\n",
       "3       buildings  POLYGON ((3979419.210 3254099.694, 3979419.210...\n",
       "4       buildings  POLYGON ((3979411.056 3254112.433, 3979411.056...\n",
       "...           ...                                                ...\n",
       "193871       road  LINESTRING (3965615.648 3268527.148, 3965600.1...\n",
       "193872       road  LINESTRING (3964691.293 3268754.238, 3964753.0...\n",
       "193873       road  LINESTRING (3965144.431 3268463.035, 3965136.5...\n",
       "193874       road  LINESTRING (3964753.004 3268767.519, 3964767.8...\n",
       "193875       road  LINESTRING (3965303.920 3269278.662, 3965325.1...\n",
       "\n",
       "[193876 rows x 2 columns]"
      ]
     },
     "execution_count": 36,
     "metadata": {},
     "output_type": "execute_result"
    },
    {
     "data": {
      "application/javascript": "\n            setTimeout(function() {\n                var nbb_cell_id = 36;\n                var nbb_unformatted_code = \"# test\\nLAU_AMS_CEED_refact = LAU_AMS_CEED_plain.drop(columns=[\\\"level_1\\\"], inplace=True) \\nLAU_AMS_CEED_refact = LAU_AMS_CEED_plain.rename(columns={\\\"level_0\\\": \\\"type\\\"})\\nLAU_AMS_CEED_refact\";\n                var nbb_formatted_code = \"# test\\nLAU_AMS_CEED_refact = LAU_AMS_CEED_plain.drop(columns=[\\\"level_1\\\"], inplace=True)\\nLAU_AMS_CEED_refact = LAU_AMS_CEED_plain.rename(columns={\\\"level_0\\\": \\\"type\\\"})\\nLAU_AMS_CEED_refact\";\n                var nbb_cells = Jupyter.notebook.get_cells();\n                for (var i = 0; i < nbb_cells.length; ++i) {\n                    if (nbb_cells[i].input_prompt_number == nbb_cell_id) {\n                        if (nbb_cells[i].get_text() == nbb_unformatted_code) {\n                             nbb_cells[i].set_text(nbb_formatted_code);\n                        }\n                        break;\n                    }\n                }\n            }, 500);\n            ",
      "text/plain": [
       "<IPython.core.display.Javascript object>"
      ]
     },
     "metadata": {},
     "output_type": "display_data"
    }
   ],
   "source": [
    "# test\n",
    "LAU_AMS_CEED_refact = LAU_AMS_CEED_plain.drop(columns=[\"level_1\"], inplace=True) \n",
    "LAU_AMS_CEED_refact = LAU_AMS_CEED_plain.rename(columns={\"level_0\": \"type\"})\n",
    "LAU_AMS_CEED_refact"
   ]
  },
  {
   "cell_type": "code",
   "execution_count": 39,
   "metadata": {},
   "outputs": [
    {
     "data": {
      "application/javascript": "\n            setTimeout(function() {\n                var nbb_cell_id = 39;\n                var nbb_unformatted_code = \"# export to parquet\\nLAU_AMS_CEED_refact.to_parquet(coclico_data_dir_full.joinpath(\\\"WP5/data/LAU_ceed\\\").joinpath(\\\"%s_refact.parquet\\\"%test_file))\";\n                var nbb_formatted_code = \"# export to parquet\\nLAU_AMS_CEED_refact.to_parquet(\\n    coclico_data_dir_full.joinpath(\\\"WP5/data/LAU_ceed\\\").joinpath(\\n        \\\"%s_refact.parquet\\\" % test_file\\n    )\\n)\";\n                var nbb_cells = Jupyter.notebook.get_cells();\n                for (var i = 0; i < nbb_cells.length; ++i) {\n                    if (nbb_cells[i].input_prompt_number == nbb_cell_id) {\n                        if (nbb_cells[i].get_text() == nbb_unformatted_code) {\n                             nbb_cells[i].set_text(nbb_formatted_code);\n                        }\n                        break;\n                    }\n                }\n            }, 500);\n            ",
      "text/plain": [
       "<IPython.core.display.Javascript object>"
      ]
     },
     "metadata": {},
     "output_type": "display_data"
    }
   ],
   "source": [
    "# export to parquet\n",
    "LAU_AMS_CEED_refact.to_parquet(coclico_data_dir_full.joinpath(\"WP5/data/LAU_ceed\").joinpath(\"%s_refact.parquet\"%test_file))"
   ]
  },
  {
   "cell_type": "code",
   "execution_count": 40,
   "metadata": {},
   "outputs": [
    {
     "data": {
      "application/javascript": "\n            setTimeout(function() {\n                var nbb_cell_id = 40;\n                var nbb_unformatted_code = \"# export to gkpg\\nLAU_AMS_CEED_refact.to_file(coclico_data_dir_full.joinpath(\\\"WP5/data/LAU_ceed\\\").joinpath(\\\"%s_refact.gpkg\\\"%test_file), driver=\\\"GPKG\\\")\";\n                var nbb_formatted_code = \"# export to gkpg\\nLAU_AMS_CEED_refact.to_file(\\n    coclico_data_dir_full.joinpath(\\\"WP5/data/LAU_ceed\\\").joinpath(\\n        \\\"%s_refact.gpkg\\\" % test_file\\n    ),\\n    driver=\\\"GPKG\\\",\\n)\";\n                var nbb_cells = Jupyter.notebook.get_cells();\n                for (var i = 0; i < nbb_cells.length; ++i) {\n                    if (nbb_cells[i].input_prompt_number == nbb_cell_id) {\n                        if (nbb_cells[i].get_text() == nbb_unformatted_code) {\n                             nbb_cells[i].set_text(nbb_formatted_code);\n                        }\n                        break;\n                    }\n                }\n            }, 500);\n            ",
      "text/plain": [
       "<IPython.core.display.Javascript object>"
      ]
     },
     "metadata": {},
     "output_type": "display_data"
    }
   ],
   "source": [
    "# export to gkpg\n",
    "LAU_AMS_CEED_refact.to_file(coclico_data_dir_full.joinpath(\"WP5/data/LAU_ceed/gpkg\").joinpath(\"%s_refact.gpkg\"%test_file), driver=\"GPKG\")"
   ]
  },
  {
   "cell_type": "code",
   "execution_count": 46,
   "metadata": {},
   "outputs": [
    {
     "name": "stdout",
     "output_type": "stream",
     "text": [
      "Google Application Credentials load into environment.\n"
     ]
    },
    {
     "data": {
      "application/javascript": "\n            setTimeout(function() {\n                var nbb_cell_id = 46;\n                var nbb_unformatted_code = \"# put in bucket\\nGCS_PROTOCOL = \\\"https://storage.googleapis.com\\\"\\nGCS_PROJECT = \\\"coclico-11207608-002\\\"\\nBUCKET_NAME = \\\"coclico-data-public\\\"\\nBUCKET_PROJ = \\\"coclico\\\"\\nPROJ_NAME = \\\"LAU_ceed\\\"\\n\\n# loading credentials\\ncred_data_dir = p_drive.joinpath(\\\"11207608-coclico\\\", \\\"FASTTRACK_DATA\\\")\\nload_google_credentials(\\n    google_token_fp=cred_data_dir.joinpath(\\\"google_credentials_new.json\\\")\\n)\\n\\nfile_to_google_cloud(file_path=str(coclico_data_dir_full.joinpath(\\\"WP5/data/LAU_ceed\\\").joinpath(\\\"%s_refact.parquet\\\"%test_file)),\\n                     gcs_project=GCS_PROJECT,\\n                     bucket_name=BUCKET_NAME,\\n                     bucket_proj=BUCKET_PROJ,\\n                     dir_name=PROJ_NAME,\\n                     file_name=\\\"%s_refact.parquet\\\"%test_file)\\n\\nfile_to_google_cloud(file_path=str(coclico_data_dir_full.joinpath(\\\"WP5/data/LAU_ceed\\\").joinpath(\\\"%s_refact.gpkg\\\"%test_file)),\\n                     gcs_project=GCS_PROJECT,\\n                     bucket_name=BUCKET_NAME,\\n                     bucket_proj=BUCKET_PROJ,\\n                     dir_name=PROJ_NAME,\\n                     file_name=\\\"%s_refact.gpkg\\\"%test_file)\";\n                var nbb_formatted_code = \"# put in bucket\\nGCS_PROTOCOL = \\\"https://storage.googleapis.com\\\"\\nGCS_PROJECT = \\\"coclico-11207608-002\\\"\\nBUCKET_NAME = \\\"coclico-data-public\\\"\\nBUCKET_PROJ = \\\"coclico\\\"\\nPROJ_NAME = \\\"LAU_ceed\\\"\\n\\n# loading credentials\\ncred_data_dir = p_drive.joinpath(\\\"11207608-coclico\\\", \\\"FASTTRACK_DATA\\\")\\nload_google_credentials(\\n    google_token_fp=cred_data_dir.joinpath(\\\"google_credentials_new.json\\\")\\n)\\n\\nfile_to_google_cloud(\\n    file_path=str(\\n        coclico_data_dir_full.joinpath(\\\"WP5/data/LAU_ceed\\\").joinpath(\\n            \\\"%s_refact.parquet\\\" % test_file\\n        )\\n    ),\\n    gcs_project=GCS_PROJECT,\\n    bucket_name=BUCKET_NAME,\\n    bucket_proj=BUCKET_PROJ,\\n    dir_name=PROJ_NAME,\\n    file_name=\\\"%s_refact.parquet\\\" % test_file,\\n)\\n\\nfile_to_google_cloud(\\n    file_path=str(\\n        coclico_data_dir_full.joinpath(\\\"WP5/data/LAU_ceed\\\").joinpath(\\n            \\\"%s_refact.gpkg\\\" % test_file\\n        )\\n    ),\\n    gcs_project=GCS_PROJECT,\\n    bucket_name=BUCKET_NAME,\\n    bucket_proj=BUCKET_PROJ,\\n    dir_name=PROJ_NAME,\\n    file_name=\\\"%s_refact.gpkg\\\" % test_file,\\n)\";\n                var nbb_cells = Jupyter.notebook.get_cells();\n                for (var i = 0; i < nbb_cells.length; ++i) {\n                    if (nbb_cells[i].input_prompt_number == nbb_cell_id) {\n                        if (nbb_cells[i].get_text() == nbb_unformatted_code) {\n                             nbb_cells[i].set_text(nbb_formatted_code);\n                        }\n                        break;\n                    }\n                }\n            }, 500);\n            ",
      "text/plain": [
       "<IPython.core.display.Javascript object>"
      ]
     },
     "metadata": {},
     "output_type": "display_data"
    }
   ],
   "source": [
    "# put in bucket\n",
    "GCS_PROTOCOL = \"https://storage.googleapis.com\"\n",
    "GCS_PROJECT = \"coclico-11207608-002\"\n",
    "BUCKET_NAME = \"coclico-data-public\"\n",
    "BUCKET_PROJ = \"coclico\"\n",
    "PROJ_NAME = \"LAU_ceed\"\n",
    "\n",
    "# loading credentials\n",
    "cred_data_dir = p_drive.joinpath(\"11207608-coclico\", \"FASTTRACK_DATA\")\n",
    "load_google_credentials(\n",
    "    google_token_fp=cred_data_dir.joinpath(\"google_credentials_new.json\")\n",
    ")\n",
    "\n",
    "file_to_google_cloud(file_path=str(coclico_data_dir_full.joinpath(\"WP5/data/LAU_ceed\").joinpath(\"%s_refact.parquet\"%test_file)),\n",
    "                     gcs_project=GCS_PROJECT,\n",
    "                     bucket_name=BUCKET_NAME,\n",
    "                     bucket_proj=BUCKET_PROJ,\n",
    "                     dir_name=PROJ_NAME,\n",
    "                     file_name=\"%s_refact.parquet\"%test_file)\n",
    "\n",
    "file_to_google_cloud(file_path=str(coclico_data_dir_full.joinpath(\"WP5/data/LAU_ceed/gpkg\").joinpath(\"%s_refact.gpkg\"%test_file)),\n",
    "                     gcs_project=GCS_PROJECT,\n",
    "                     bucket_name=BUCKET_NAME,\n",
    "                     bucket_proj=BUCKET_PROJ,\n",
    "                     dir_name=PROJ_NAME,\n",
    "                     file_name=\"%s_refact.gpkg\"%test_file)"
   ]
  },
  {
   "cell_type": "code",
   "execution_count": null,
   "metadata": {},
   "outputs": [],
   "source": []
  }
 ],
 "metadata": {
  "kernelspec": {
   "display_name": "coclico",
   "language": "python",
   "name": "python3"
  },
  "language_info": {
   "codemirror_mode": {
    "name": "ipython",
    "version": 3
   },
   "file_extension": ".py",
   "mimetype": "text/x-python",
   "name": "python",
   "nbconvert_exporter": "python",
   "pygments_lexer": "ipython3",
   "version": "3.11.4"
  }
 },
 "nbformat": 4,
 "nbformat_minor": 2
}
