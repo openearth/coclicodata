{
 "cells": [
  {
   "cell_type": "markdown",
   "metadata": {},
   "source": [
    "## Population projections\n",
    "\n",
    "\n",
    "Notebook environment to migrate TIF files to CF compliant CoG"
   ]
  },
  {
   "cell_type": "code",
   "execution_count": 1,
   "metadata": {},
   "outputs": [
    {
     "data": {
      "application/javascript": "\n            setTimeout(function() {\n                var nbb_cell_id = 1;\n                var nbb_unformatted_code = \"# Optional; code formatter, installed as jupyter lab extension\\n#%load_ext lab_black\\n# Optional; code formatter, installed as jupyter notebook extension\\n%load_ext nb_black\";\n                var nbb_formatted_code = \"# Optional; code formatter, installed as jupyter lab extension\\n# %load_ext lab_black\\n# Optional; code formatter, installed as jupyter notebook extension\\n%load_ext nb_black\";\n                var nbb_cells = Jupyter.notebook.get_cells();\n                for (var i = 0; i < nbb_cells.length; ++i) {\n                    if (nbb_cells[i].input_prompt_number == nbb_cell_id) {\n                        if (nbb_cells[i].get_text() == nbb_unformatted_code) {\n                             nbb_cells[i].set_text(nbb_formatted_code);\n                        }\n                        break;\n                    }\n                }\n            }, 500);\n            ",
      "text/plain": [
       "<IPython.core.display.Javascript object>"
      ]
     },
     "metadata": {},
     "output_type": "display_data"
    }
   ],
   "source": [
    "# Optional; code formatter, installed as jupyter lab extension\n",
    "#%load_ext lab_black\n",
    "# Optional; code formatter, installed as jupyter notebook extension\n",
    "%load_ext nb_black"
   ]
  },
  {
   "cell_type": "markdown",
   "metadata": {},
   "source": [
    "### Configure OS independent paths"
   ]
  },
  {
   "cell_type": "code",
   "execution_count": 2,
   "metadata": {},
   "outputs": [
    {
     "name": "stderr",
     "output_type": "stream",
     "text": [
      "C:\\Users\\kras\\AppData\\Local\\Temp\\ipykernel_3488\\1639954749.py:7: DeprecationWarning: Shapely 2.0 is installed, but because PyGEOS is also installed, GeoPandas still uses PyGEOS by default. However, starting with version 0.14, the default will switch to Shapely. To force to use Shapely 2.0 now, you can either uninstall PyGEOS or set the environment variable USE_PYGEOS=0. You can do this before starting the Python process, or in your code before importing geopandas:\n",
      "\n",
      "import os\n",
      "os.environ['USE_PYGEOS'] = '0'\n",
      "import geopandas\n",
      "\n",
      "In the next release, GeoPandas will switch to using Shapely by default, even if PyGEOS is installed. If you only have PyGEOS installed to get speed-ups, this switch should be smooth. However, if you are using PyGEOS directly (calling PyGEOS functions on geometries from GeoPandas), this will then stop working and you are encouraged to migrate from PyGEOS to Shapely 2.0 (https://shapely.readthedocs.io/en/latest/migration_pygeos.html).\n",
      "  import geopandas as gpd\n",
      "c:\\SnapVolumesTemp\\MountPoints\\{45c63495-0000-0000-0000-100000000000}\\{548BD435-0C48-4314-A26F-734F82A3D043}\\SVROOT\\Users\\kras\\AppData\\Local\\mambaforge\\envs\\coclico\\Lib\\site-packages\\dask\\dataframe\\_pyarrow_compat.py:17: FutureWarning: Minimal version of pyarrow will soon be increased to 14.0.1. You are using 12.0.1. Please consider upgrading.\n",
      "  warnings.warn(\n"
     ]
    },
    {
     "data": {
      "application/javascript": "\n            setTimeout(function() {\n                var nbb_cell_id = 2;\n                var nbb_unformatted_code = \"# Import standard packages\\nimport os\\nimport glob\\nimport pathlib\\nimport sys\\nimport numpy as np\\nimport geopandas as gpd\\nimport pandas as pd\\nimport matplotlib.pyplot as plt\\nimport xarray as xr\\nfrom dotenv import load_dotenv\\nimport math\\nfrom pathlib import Path\\nfrom typing import Any, Dict, List, Optional, Tuple, Union\\nimport rioxarray as rio\\n#load_dotenv()\\n\\n# Import custom functionality\\nfrom coclicodata.drive_config import p_drive\\nfrom coclicodata.etl.cf_compliancy_checker import check_compliancy, save_compliancy\\nfrom coastmonitor.io.utils import name_block\\n\\n# Define (local and) remote drives\\ncoclico_data_dir = p_drive.joinpath(\\\"11207608-coclico\\\", \\\"FULLTRACK_DATA\\\")\\n\\n# Workaround to the Windows OS (10) udunits error after installation of cfchecker: https://github.com/SciTools/iris/issues/404\\nos.environ[\\\"UDUNITS2_XML_PATH\\\"] = str(\\n    pathlib.Path().home().joinpath(  # change to the udunits2.xml file dir in your Python installation\\n        r\\\"Anaconda3\\\\pkgs\\\\udunits2-2.2.28-h892ecd3_0\\\\Library\\\\share\\\\udunits\\\\udunits2.xml\\\"\\n    )\\n)\\n\\n# use local or remote data dir\\nuse_local_data = False\\nds_dirname = \\\"WP5\\\"\\n\\nif use_local_data: \\n    ds_dir = pathlib.Path().home().joinpath(\\\"data\\\", \\\"tmp\\\", ds_dirname)\\nelse: \\n    ds_dir = coclico_data_dir.joinpath(ds_dirname)\\n\\nif not ds_dir.exists():\\n    raise FileNotFoundError(\\\"Directory with data does not exist.\\\")\\n\\n# directory to export result (make if not exists)\\ncog_dir = ds_dir.joinpath(\\\"single_cog_test\\\") # for checking CF compliancy\\ncog_dirs = ds_dir.joinpath(\\\"cogs\\\") # for making all files CF compliant\\ncog_dir.mkdir(parents=True, exist_ok=True)\\ncog_dirs.mkdir(parents=True, exist_ok=True)\";\n                var nbb_formatted_code = \"# Import standard packages\\nimport os\\nimport glob\\nimport pathlib\\nimport sys\\nimport numpy as np\\nimport geopandas as gpd\\nimport pandas as pd\\nimport matplotlib.pyplot as plt\\nimport xarray as xr\\nfrom dotenv import load_dotenv\\nimport math\\nfrom pathlib import Path\\nfrom typing import Any, Dict, List, Optional, Tuple, Union\\nimport rioxarray as rio\\n\\n# load_dotenv()\\n\\n# Import custom functionality\\nfrom coclicodata.drive_config import p_drive\\nfrom coclicodata.etl.cf_compliancy_checker import check_compliancy, save_compliancy\\nfrom coastmonitor.io.utils import name_block\\n\\n# Define (local and) remote drives\\ncoclico_data_dir = p_drive.joinpath(\\\"11207608-coclico\\\", \\\"FULLTRACK_DATA\\\")\\n\\n# Workaround to the Windows OS (10) udunits error after installation of cfchecker: https://github.com/SciTools/iris/issues/404\\nos.environ[\\\"UDUNITS2_XML_PATH\\\"] = str(\\n    pathlib.Path()\\n    .home()\\n    .joinpath(  # change to the udunits2.xml file dir in your Python installation\\n        r\\\"Anaconda3\\\\pkgs\\\\udunits2-2.2.28-h892ecd3_0\\\\Library\\\\share\\\\udunits\\\\udunits2.xml\\\"\\n    )\\n)\\n\\n# use local or remote data dir\\nuse_local_data = False\\nds_dirname = \\\"WP5\\\"\\n\\nif use_local_data:\\n    ds_dir = pathlib.Path().home().joinpath(\\\"data\\\", \\\"tmp\\\", ds_dirname)\\nelse:\\n    ds_dir = coclico_data_dir.joinpath(ds_dirname)\\n\\nif not ds_dir.exists():\\n    raise FileNotFoundError(\\\"Directory with data does not exist.\\\")\\n\\n# directory to export result (make if not exists)\\ncog_dir = ds_dir.joinpath(\\\"single_cog_test\\\")  # for checking CF compliancy\\ncog_dirs = ds_dir.joinpath(\\\"cogs\\\")  # for making all files CF compliant\\ncog_dir.mkdir(parents=True, exist_ok=True)\\ncog_dirs.mkdir(parents=True, exist_ok=True)\";\n                var nbb_cells = Jupyter.notebook.get_cells();\n                for (var i = 0; i < nbb_cells.length; ++i) {\n                    if (nbb_cells[i].input_prompt_number == nbb_cell_id) {\n                        if (nbb_cells[i].get_text() == nbb_unformatted_code) {\n                             nbb_cells[i].set_text(nbb_formatted_code);\n                        }\n                        break;\n                    }\n                }\n            }, 500);\n            ",
      "text/plain": [
       "<IPython.core.display.Javascript object>"
      ]
     },
     "metadata": {},
     "output_type": "display_data"
    }
   ],
   "source": [
    "# Import standard packages\n",
    "import os\n",
    "import glob\n",
    "import pathlib\n",
    "import sys\n",
    "import numpy as np\n",
    "import geopandas as gpd\n",
    "import pandas as pd\n",
    "import matplotlib.pyplot as plt\n",
    "import xarray as xr\n",
    "from dotenv import load_dotenv\n",
    "import math\n",
    "from pathlib import Path\n",
    "from typing import Any, Dict, List, Optional, Tuple, Union\n",
    "import rioxarray as rio\n",
    "#load_dotenv()\n",
    "\n",
    "# Import custom functionality\n",
    "from coclicodata.drive_config import p_drive\n",
    "from coclicodata.etl.cf_compliancy_checker import check_compliancy, save_compliancy\n",
    "from coastmonitor.io.utils import name_block\n",
    "\n",
    "# Define (local and) remote drives\n",
    "coclico_data_dir = p_drive.joinpath(\"11207608-coclico\", \"FULLTRACK_DATA\")\n",
    "\n",
    "# Workaround to the Windows OS (10) udunits error after installation of cfchecker: https://github.com/SciTools/iris/issues/404\n",
    "os.environ[\"UDUNITS2_XML_PATH\"] = str(\n",
    "    pathlib.Path().home().joinpath(  # change to the udunits2.xml file dir in your Python installation\n",
    "        r\"Anaconda3\\pkgs\\udunits2-2.2.28-h892ecd3_0\\Library\\share\\udunits\\udunits2.xml\"\n",
    "    )\n",
    ")\n",
    "\n",
    "# use local or remote data dir\n",
    "use_local_data = False\n",
    "ds_dirname = \"WP5\"\n",
    "\n",
    "if use_local_data: \n",
    "    ds_dir = pathlib.Path().home().joinpath(\"data\", \"tmp\", ds_dirname)\n",
    "else: \n",
    "    ds_dir = coclico_data_dir.joinpath(ds_dirname)\n",
    "\n",
    "if not ds_dir.exists():\n",
    "    raise FileNotFoundError(\"Directory with data does not exist.\")\n",
    "\n",
    "# directory to export result (make if not exists)\n",
    "cog_dir = ds_dir.joinpath(\"single_cog_test\") # for checking CF compliancy\n",
    "cog_dirs = ds_dir.joinpath(\"cogs\") # for making all files CF compliant\n",
    "cog_dir.mkdir(parents=True, exist_ok=True)\n",
    "cog_dirs.mkdir(parents=True, exist_ok=True)"
   ]
  },
  {
   "cell_type": "code",
   "execution_count": 18,
   "metadata": {},
   "outputs": [
    {
     "data": {
      "application/javascript": "\n            setTimeout(function() {\n                var nbb_cell_id = 18;\n                var nbb_unformatted_code = \"# Project paths & files (manual input)\\ntest_path = ds_dir.joinpath(\\\"data\\\",\\\"population_v2_EU\\\",\\\"Europe_ssp1_nSLR_tot_pop.tif\\\")\\n#test_path = ds_dir.joinpath(\\\"data\\\",\\\"population_v2\\\",\\\"SSP1_2010_EU_UK.tif\\\")\\nCF_dir = ds_dir.joinpath(\\\"CF\\\")\";\n                var nbb_formatted_code = \"# Project paths & files (manual input)\\ntest_path = ds_dir.joinpath(\\\"data\\\", \\\"population_v2_EU\\\", \\\"Europe_ssp1_nSLR_tot_pop.tif\\\")\\n# test_path = ds_dir.joinpath(\\\"data\\\",\\\"population_v2\\\",\\\"SSP1_2010_EU_UK.tif\\\")\\nCF_dir = ds_dir.joinpath(\\\"CF\\\")\";\n                var nbb_cells = Jupyter.notebook.get_cells();\n                for (var i = 0; i < nbb_cells.length; ++i) {\n                    if (nbb_cells[i].input_prompt_number == nbb_cell_id) {\n                        if (nbb_cells[i].get_text() == nbb_unformatted_code) {\n                             nbb_cells[i].set_text(nbb_formatted_code);\n                        }\n                        break;\n                    }\n                }\n            }, 500);\n            ",
      "text/plain": [
       "<IPython.core.display.Javascript object>"
      ]
     },
     "metadata": {},
     "output_type": "display_data"
    }
   ],
   "source": [
    "# Project paths & files (manual input)\n",
    "test_path = ds_dir.joinpath(\"data\",\"population_v2_EU\",\"Europe_ssp1_nSLR_tot_pop.tif\")\n",
    "#test_path = ds_dir.joinpath(\"data\",\"population_v2\",\"SSP1_2010_EU_UK.tif\")\n",
    "CF_dir = ds_dir.joinpath(\"CF\")"
   ]
  },
  {
   "cell_type": "code",
   "execution_count": 19,
   "metadata": {},
   "outputs": [
    {
     "data": {
      "application/javascript": "\n            setTimeout(function() {\n                var nbb_cell_id = 19;\n                var nbb_unformatted_code = \"# NetCDF attribute alterations by means of metadata template\\nimport json\\nmeta_json = open(ds_dir.joinpath(\\\"metadata\\\", \\\"metadata_population.json\\\"), 'r')\\nmeta_data = json.load(meta_json)\\n\\n# NOTE: json module can not handle trailing comma's, these have manually been deleted from the data\";\n                var nbb_formatted_code = \"# NetCDF attribute alterations by means of metadata template\\nimport json\\n\\nmeta_json = open(ds_dir.joinpath(\\\"metadata\\\", \\\"metadata_population.json\\\"), \\\"r\\\")\\nmeta_data = json.load(meta_json)\\n\\n# NOTE: json module can not handle trailing comma's, these have manually been deleted from the data\";\n                var nbb_cells = Jupyter.notebook.get_cells();\n                for (var i = 0; i < nbb_cells.length; ++i) {\n                    if (nbb_cells[i].input_prompt_number == nbb_cell_id) {\n                        if (nbb_cells[i].get_text() == nbb_unformatted_code) {\n                             nbb_cells[i].set_text(nbb_formatted_code);\n                        }\n                        break;\n                    }\n                }\n            }, 500);\n            ",
      "text/plain": [
       "<IPython.core.display.Javascript object>"
      ]
     },
     "metadata": {},
     "output_type": "display_data"
    }
   ],
   "source": [
    "# NetCDF attribute alterations by means of metadata template\n",
    "import json\n",
    "meta_json = open(ds_dir.joinpath(\"metadata\", \"metadata_population.json\"), 'r')\n",
    "meta_data = json.load(meta_json)\n",
    "\n",
    "# NOTE: json module can not handle trailing comma's, these have manually been deleted from the data"
   ]
  },
  {
   "cell_type": "code",
   "execution_count": 20,
   "metadata": {},
   "outputs": [
    {
     "data": {
      "application/javascript": "\n            setTimeout(function() {\n                var nbb_cell_id = 20;\n                var nbb_unformatted_code = \"# Run pp_test.band_data.attrs to get the _FillValue in xarray\\n# For this data its: -99999.0\\npp_test = xr.open_dataset(test_path, engine=\\\"rasterio\\\", mask_and_scale=False) \";\n                var nbb_formatted_code = \"# Run pp_test.band_data.attrs to get the _FillValue in xarray\\n# For this data its: -99999.0\\npp_test = xr.open_dataset(test_path, engine=\\\"rasterio\\\", mask_and_scale=False)\";\n                var nbb_cells = Jupyter.notebook.get_cells();\n                for (var i = 0; i < nbb_cells.length; ++i) {\n                    if (nbb_cells[i].input_prompt_number == nbb_cell_id) {\n                        if (nbb_cells[i].get_text() == nbb_unformatted_code) {\n                             nbb_cells[i].set_text(nbb_formatted_code);\n                        }\n                        break;\n                    }\n                }\n            }, 500);\n            ",
      "text/plain": [
       "<IPython.core.display.Javascript object>"
      ]
     },
     "metadata": {},
     "output_type": "display_data"
    }
   ],
   "source": [
    "# Run pp_test.band_data.attrs to get the _FillValue in xarray\n",
    "# For this data its: -99999.0\n",
    "pp_test = xr.open_dataset(test_path, engine=\"rasterio\", mask_and_scale=False) "
   ]
  },
  {
   "cell_type": "code",
   "execution_count": 21,
   "metadata": {},
   "outputs": [
    {
     "data": {
      "text/plain": [
       "{'AREA_OR_POINT': 'Area',\n",
       " '_FillValue': -99999.0,\n",
       " 'scale_factor': 1.0,\n",
       " 'add_offset': 0.0}"
      ]
     },
     "execution_count": 21,
     "metadata": {},
     "output_type": "execute_result"
    },
    {
     "data": {
      "application/javascript": "\n            setTimeout(function() {\n                var nbb_cell_id = 21;\n                var nbb_unformatted_code = \"pp_test.band_data.attrs\";\n                var nbb_formatted_code = \"pp_test.band_data.attrs\";\n                var nbb_cells = Jupyter.notebook.get_cells();\n                for (var i = 0; i < nbb_cells.length; ++i) {\n                    if (nbb_cells[i].input_prompt_number == nbb_cell_id) {\n                        if (nbb_cells[i].get_text() == nbb_unformatted_code) {\n                             nbb_cells[i].set_text(nbb_formatted_code);\n                        }\n                        break;\n                    }\n                }\n            }, 500);\n            ",
      "text/plain": [
       "<IPython.core.display.Javascript object>"
      ]
     },
     "metadata": {},
     "output_type": "display_data"
    }
   ],
   "source": [
    "pp_test.band_data.attrs"
   ]
  },
  {
   "cell_type": "code",
   "execution_count": 22,
   "metadata": {},
   "outputs": [
    {
     "data": {
      "application/javascript": "\n            setTimeout(function() {\n                var nbb_cell_id = 22;\n                var nbb_unformatted_code = \"# Test for single .tif-file\\npp_test = xr.open_dataset(test_path, engine=\\\"rasterio\\\", mask_and_scale=False) \\npp_test = pp_test.assign_coords(band=(\\\"band\\\", [f\\\"B{k+1:02}\\\" for k in range(pp_test.dims[\\\"band\\\"])]))\\npp_test = pp_test[\\\"band_data\\\"].to_dataset(\\\"band\\\")\\n\\nfor var in pp_test:\\n\\n    da = pp_test[var]\\n\\n    da = (\\n    da.where(da != -2147483647, -9999)\\n    .astype(\\\"int32\\\")\\n    .rio.write_nodata(-9999)\\n    .rio.set_spatial_dims(x_dim=\\\"x\\\", y_dim=\\\"y\\\")\\n    )\\n\\n    item_name = name_block(\\n    da,\\n    storage_prefix=\\\"\\\",\\n    name_prefix=\\\"\\\",\\n    include_band=da.name,\\n    time_dim=False,\\n    x_dim=\\\"x\\\",\\n    y_dim=\\\"y\\\",\\n    )\\n\\n    # convert to dataset\\n    dad = da.to_dataset()\\n\\n    # add all attributes (again)\\n    for attr_name, attr_val in meta_data.items():\\n        if attr_name == 'PROVIDERS':\\n            attr_val = json.dumps(attr_val)\\n        if attr_name == \\\"MEDIA_TYPE\\\": # change media type to tiff, leave the rest as is\\n            attr_val = \\\"IMAGE/TIFF\\\"\\n        dad.attrs[attr_name] = attr_val\\n\\n    dad.attrs['Conventions'] = \\\"CF-1.8\\\"\\n\\n    # export file\\n    outpath = cog_dir.joinpath(item_name)\\n    dad.rio.to_raster(outpath, driver= 'COG')\";\n                var nbb_formatted_code = \"# Test for single .tif-file\\npp_test = xr.open_dataset(test_path, engine=\\\"rasterio\\\", mask_and_scale=False)\\npp_test = pp_test.assign_coords(\\n    band=(\\\"band\\\", [f\\\"B{k+1:02}\\\" for k in range(pp_test.dims[\\\"band\\\"])])\\n)\\npp_test = pp_test[\\\"band_data\\\"].to_dataset(\\\"band\\\")\\n\\nfor var in pp_test:\\n    da = pp_test[var]\\n\\n    da = (\\n        da.where(da != -2147483647, -9999)\\n        .astype(\\\"int32\\\")\\n        .rio.write_nodata(-9999)\\n        .rio.set_spatial_dims(x_dim=\\\"x\\\", y_dim=\\\"y\\\")\\n    )\\n\\n    item_name = name_block(\\n        da,\\n        storage_prefix=\\\"\\\",\\n        name_prefix=\\\"\\\",\\n        include_band=da.name,\\n        time_dim=False,\\n        x_dim=\\\"x\\\",\\n        y_dim=\\\"y\\\",\\n    )\\n\\n    # convert to dataset\\n    dad = da.to_dataset()\\n\\n    # add all attributes (again)\\n    for attr_name, attr_val in meta_data.items():\\n        if attr_name == \\\"PROVIDERS\\\":\\n            attr_val = json.dumps(attr_val)\\n        if attr_name == \\\"MEDIA_TYPE\\\":  # change media type to tiff, leave the rest as is\\n            attr_val = \\\"IMAGE/TIFF\\\"\\n        dad.attrs[attr_name] = attr_val\\n\\n    dad.attrs[\\\"Conventions\\\"] = \\\"CF-1.8\\\"\\n\\n    # export file\\n    outpath = cog_dir.joinpath(item_name)\\n    dad.rio.to_raster(outpath, driver=\\\"COG\\\")\";\n                var nbb_cells = Jupyter.notebook.get_cells();\n                for (var i = 0; i < nbb_cells.length; ++i) {\n                    if (nbb_cells[i].input_prompt_number == nbb_cell_id) {\n                        if (nbb_cells[i].get_text() == nbb_unformatted_code) {\n                             nbb_cells[i].set_text(nbb_formatted_code);\n                        }\n                        break;\n                    }\n                }\n            }, 500);\n            ",
      "text/plain": [
       "<IPython.core.display.Javascript object>"
      ]
     },
     "metadata": {},
     "output_type": "display_data"
    }
   ],
   "source": [
    "# Test for single .tif-file\n",
    "pp_test = xr.open_dataset(test_path, engine=\"rasterio\", mask_and_scale=False) \n",
    "pp_test = pp_test.assign_coords(band=(\"band\", [f\"B{k+1:02}\" for k in range(pp_test.dims[\"band\"])]))\n",
    "pp_test = pp_test[\"band_data\"].to_dataset(\"band\")\n",
    "\n",
    "for var in pp_test:\n",
    "\n",
    "    da = pp_test[var]\n",
    "\n",
    "    da = (\n",
    "    da.where(da != -2147483647, -9999)\n",
    "    .astype(\"int32\")\n",
    "    .rio.write_nodata(-9999)\n",
    "    .rio.set_spatial_dims(x_dim=\"x\", y_dim=\"y\")\n",
    "    )\n",
    "\n",
    "    item_name = name_block(\n",
    "    da,\n",
    "    storage_prefix=\"\",\n",
    "    name_prefix=\"\",\n",
    "    include_band=da.name,\n",
    "    time_dim=False,\n",
    "    x_dim=\"x\",\n",
    "    y_dim=\"y\",\n",
    "    )\n",
    "\n",
    "    # convert to dataset\n",
    "    dad = da.to_dataset()\n",
    "\n",
    "    # add all attributes (again)\n",
    "    for attr_name, attr_val in meta_data.items():\n",
    "        if attr_name == 'PROVIDERS':\n",
    "            attr_val = json.dumps(attr_val)\n",
    "        if attr_name == \"MEDIA_TYPE\": # change media type to tiff, leave the rest as is\n",
    "            attr_val = \"IMAGE/TIFF\"\n",
    "        dad.attrs[attr_name] = attr_val\n",
    "\n",
    "    dad.attrs['Conventions'] = \"CF-1.8\"\n",
    "\n",
    "    # export file\n",
    "    outpath = cog_dir.joinpath(item_name)\n",
    "    dad.rio.to_raster(outpath, driver= 'COG')"
   ]
  },
  {
   "cell_type": "code",
   "execution_count": 23,
   "metadata": {},
   "outputs": [
    {
     "name": "stdout",
     "output_type": "stream",
     "text": [
      "min of created  COG: 1\n",
      "min of original TIF: 1.8026876e-06\n",
      "max of created  COG: 105758\n",
      "max of original TIF: 105758.07\n",
      "Values should be the same\n"
     ]
    },
    {
     "data": {
      "application/javascript": "\n            setTimeout(function() {\n                var nbb_cell_id = 23;\n                var nbb_unformatted_code = \"# Check newly created .tif\\n\\npp_test_new = xr.open_dataset(outpath, engine=\\\"rasterio\\\", mask_and_scale=False)\\n\\nprint('min of created  COG: ' + str(np.min(pp_test_new['band_data'].values[pp_test_new['band_data'].values>0]))) # For min no data values are excluded\\nprint('min of original TIF: ' + str(np.min(pp_test['B01'].values[pp_test['B01'].values>0]))) # For min no data values are excluded\\nprint('max of created  COG: ' + str(np.max(pp_test_new['band_data'].values)))\\nprint('max of original TIF: ' + str(np.max(pp_test['B01'].values)))\\nprint('Values should be the same')\";\n                var nbb_formatted_code = \"# Check newly created .tif\\n\\npp_test_new = xr.open_dataset(outpath, engine=\\\"rasterio\\\", mask_and_scale=False)\\n\\nprint(\\n    \\\"min of created  COG: \\\"\\n    + str(np.min(pp_test_new[\\\"band_data\\\"].values[pp_test_new[\\\"band_data\\\"].values > 0]))\\n)  # For min no data values are excluded\\nprint(\\n    \\\"min of original TIF: \\\"\\n    + str(np.min(pp_test[\\\"B01\\\"].values[pp_test[\\\"B01\\\"].values > 0]))\\n)  # For min no data values are excluded\\nprint(\\\"max of created  COG: \\\" + str(np.max(pp_test_new[\\\"band_data\\\"].values)))\\nprint(\\\"max of original TIF: \\\" + str(np.max(pp_test[\\\"B01\\\"].values)))\\nprint(\\\"Values should be the same\\\")\";\n                var nbb_cells = Jupyter.notebook.get_cells();\n                for (var i = 0; i < nbb_cells.length; ++i) {\n                    if (nbb_cells[i].input_prompt_number == nbb_cell_id) {\n                        if (nbb_cells[i].get_text() == nbb_unformatted_code) {\n                             nbb_cells[i].set_text(nbb_formatted_code);\n                        }\n                        break;\n                    }\n                }\n            }, 500);\n            ",
      "text/plain": [
       "<IPython.core.display.Javascript object>"
      ]
     },
     "metadata": {},
     "output_type": "display_data"
    }
   ],
   "source": [
    "# Check newly created .tif\n",
    "\n",
    "pp_test_new = xr.open_dataset(outpath, engine=\"rasterio\", mask_and_scale=False)\n",
    "\n",
    "print('min of created  COG: ' + str(np.min(pp_test_new['band_data'].values[pp_test_new['band_data'].values>0]))) # For min no data values are excluded\n",
    "print('min of original TIF: ' + str(np.min(pp_test['B01'].values[pp_test['B01'].values>0]))) # For min no data values are excluded\n",
    "print('max of created  COG: ' + str(np.max(pp_test_new['band_data'].values)))\n",
    "print('max of original TIF: ' + str(np.max(pp_test['B01'].values)))\n",
    "print('Values should be the same')\n"
   ]
  },
  {
   "cell_type": "code",
   "execution_count": 24,
   "metadata": {},
   "outputs": [
    {
     "data": {
      "text/plain": [
       "WindowsPath('P:/11207608-coclico/FULLTRACK_DATA/WP5/CF')"
      ]
     },
     "execution_count": 24,
     "metadata": {},
     "output_type": "execute_result"
    },
    {
     "data": {
      "application/javascript": "\n            setTimeout(function() {\n                var nbb_cell_id = 24;\n                var nbb_unformatted_code = \"# export to nc for quick CF compliancy check..\\ndad.to_netcdf(path=cog_dir.joinpath(item_name.replace(\\\".tif\\\", \\\".nc\\\")))\\n\\nCF_dir\";\n                var nbb_formatted_code = \"# export to nc for quick CF compliancy check..\\ndad.to_netcdf(path=cog_dir.joinpath(item_name.replace(\\\".tif\\\", \\\".nc\\\")))\\n\\nCF_dir\";\n                var nbb_cells = Jupyter.notebook.get_cells();\n                for (var i = 0; i < nbb_cells.length; ++i) {\n                    if (nbb_cells[i].input_prompt_number == nbb_cell_id) {\n                        if (nbb_cells[i].get_text() == nbb_unformatted_code) {\n                             nbb_cells[i].set_text(nbb_formatted_code);\n                        }\n                        break;\n                    }\n                }\n            }, 500);\n            ",
      "text/plain": [
       "<IPython.core.display.Javascript object>"
      ]
     },
     "metadata": {},
     "output_type": "display_data"
    }
   ],
   "source": [
    "# export to nc for quick CF compliancy check..\n",
    "dad.to_netcdf(path=cog_dir.joinpath(item_name.replace(\".tif\", \".nc\")))\n",
    "\n",
    "CF_dir"
   ]
  },
  {
   "cell_type": "code",
   "execution_count": 25,
   "metadata": {},
   "outputs": [
    {
     "data": {
      "application/javascript": "\n            setTimeout(function() {\n                var nbb_cell_id = 25;\n                var nbb_unformatted_code = \"%%capture cap --no-stderr\\n# check original CF compliancy\\n\\ncheck_compliancy(testfile=cog_dir.joinpath(item_name.replace(\\\".tif\\\", \\\".nc\\\")), working_dir=CF_dir)\";\n                var nbb_formatted_code = \"%%capture cap --no-stderr\\n# check original CF compliancy\\n\\ncheck_compliancy(testfile=cog_dir.joinpath(item_name.replace(\\\".tif\\\", \\\".nc\\\")), working_dir=CF_dir)\";\n                var nbb_cells = Jupyter.notebook.get_cells();\n                for (var i = 0; i < nbb_cells.length; ++i) {\n                    if (nbb_cells[i].input_prompt_number == nbb_cell_id) {\n                        if (nbb_cells[i].get_text() == nbb_unformatted_code) {\n                             nbb_cells[i].set_text(nbb_formatted_code);\n                        }\n                        break;\n                    }\n                }\n            }, 500);\n            ",
      "text/plain": [
       "<IPython.core.display.Javascript object>"
      ]
     },
     "metadata": {},
     "output_type": "display_data"
    }
   ],
   "source": [
    "%%capture cap --no-stderr\n",
    "# check original CF compliancy\n",
    "\n",
    "check_compliancy(testfile=cog_dir.joinpath(item_name.replace(\".tif\", \".nc\")), working_dir=CF_dir)"
   ]
  },
  {
   "cell_type": "code",
   "execution_count": 27,
   "metadata": {},
   "outputs": [
    {
     "name": "stdout",
     "output_type": "stream",
     "text": [
      "{'P:\\\\11207608-coclico\\\\FULLTRACK_DATA\\\\WP5\\\\single_cog_test\\\\B01_x=-25.39_y=33.85.nc': {'warnings': '7', 'errors': '0'}}\n"
     ]
    },
    {
     "data": {
      "application/javascript": "\n            setTimeout(function() {\n                var nbb_cell_id = 27;\n                var nbb_unformatted_code = \"# save original CF compliancy\\nsave_compliancy(cap, testfile=cog_dir.joinpath(item_name.replace(\\\".tif\\\", \\\".nc\\\")), working_dir=CF_dir)\";\n                var nbb_formatted_code = \"# save original CF compliancy\\nsave_compliancy(\\n    cap, testfile=cog_dir.joinpath(item_name.replace(\\\".tif\\\", \\\".nc\\\")), working_dir=CF_dir\\n)\";\n                var nbb_cells = Jupyter.notebook.get_cells();\n                for (var i = 0; i < nbb_cells.length; ++i) {\n                    if (nbb_cells[i].input_prompt_number == nbb_cell_id) {\n                        if (nbb_cells[i].get_text() == nbb_unformatted_code) {\n                             nbb_cells[i].set_text(nbb_formatted_code);\n                        }\n                        break;\n                    }\n                }\n            }, 500);\n            ",
      "text/plain": [
       "<IPython.core.display.Javascript object>"
      ]
     },
     "metadata": {},
     "output_type": "display_data"
    }
   ],
   "source": [
    "# save original CF compliancy\n",
    "save_compliancy(cap, testfile=cog_dir.joinpath(item_name.replace(\".tif\", \".nc\")), working_dir=CF_dir)"
   ]
  },
  {
   "cell_type": "code",
   "execution_count": 28,
   "metadata": {},
   "outputs": [
    {
     "data": {
      "application/javascript": "\n            setTimeout(function() {\n                var nbb_cell_id = 28;\n                var nbb_unformatted_code = \"def get_paths(folder_structure, base_dir=''):\\n    \\\"\\\"\\\"Generate paths for a folder structure defined by a dict\\\"\\\"\\\"\\n    paths = []\\n    for key, value in folder_structure.items():\\n        if isinstance(value, dict):\\n            paths.extend(get_paths(value, os.path.join(base_dir, key)))\\n        elif isinstance(value, list):\\n            if value:\\n                for item in value:\\n                    if item != \\\"\\\":\\n                        paths.append(os.path.join(base_dir, key, item))\\n            else:\\n                paths.append(os.path.join(base_dir, key))\\n        else:\\n            continue\\n    return paths\\n\\n# List all tif files present in first folder (note: it is assumed that the same files are present in all folders)\\ntif_list = glob.glob(str(ds_dir.joinpath(\\\"data\\\",\\\"population_v2_EU\\\", \\\"*.tif\\\")))\\n\\n# List the desired folder structure as a dict\\n# NOTE: make sure the resulting path_list (based on folder structure) matches the tif_list\\n# NOTE: shortcut taken by calling every year twice, because there are two tif's per year. \\nfolder_structure = {\\n    \\\"SSP1\\\": [\\\"2010\\\",\\\"2030\\\",\\\"2050\\\",\\\"2100\\\"],\\n    \\\"SSP2\\\": [\\\"2010\\\",\\\"2030\\\",\\\"2050\\\",\\\"2100\\\"],\\n    #\\\"SSP3\\\": [\\\"2010\\\",\\\"2030\\\",\\\"2050\\\",\\\"2100\\\"],\\n    #\\\"SSP4\\\": [\\\"2010\\\",\\\"2030\\\",\\\"2050\\\",\\\"2100\\\"],\\n    \\\"SSP5\\\": [\\\"2010\\\",\\\"2030\\\",\\\"2050\\\",\\\"2100\\\"],\\n}\\n\\n# Get list of paths for the folder structure\\npath_list = get_paths(folder_structure)\";\n                var nbb_formatted_code = \"def get_paths(folder_structure, base_dir=\\\"\\\"):\\n    \\\"\\\"\\\"Generate paths for a folder structure defined by a dict\\\"\\\"\\\"\\n    paths = []\\n    for key, value in folder_structure.items():\\n        if isinstance(value, dict):\\n            paths.extend(get_paths(value, os.path.join(base_dir, key)))\\n        elif isinstance(value, list):\\n            if value:\\n                for item in value:\\n                    if item != \\\"\\\":\\n                        paths.append(os.path.join(base_dir, key, item))\\n            else:\\n                paths.append(os.path.join(base_dir, key))\\n        else:\\n            continue\\n    return paths\\n\\n\\n# List all tif files present in first folder (note: it is assumed that the same files are present in all folders)\\ntif_list = glob.glob(str(ds_dir.joinpath(\\\"data\\\", \\\"population_v2_EU\\\", \\\"*.tif\\\")))\\n\\n# List the desired folder structure as a dict\\n# NOTE: make sure the resulting path_list (based on folder structure) matches the tif_list\\n# NOTE: shortcut taken by calling every year twice, because there are two tif's per year.\\nfolder_structure = {\\n    \\\"SSP1\\\": [\\\"2010\\\", \\\"2030\\\", \\\"2050\\\", \\\"2100\\\"],\\n    \\\"SSP2\\\": [\\\"2010\\\", \\\"2030\\\", \\\"2050\\\", \\\"2100\\\"],\\n    # \\\"SSP3\\\": [\\\"2010\\\",\\\"2030\\\",\\\"2050\\\",\\\"2100\\\"],\\n    # \\\"SSP4\\\": [\\\"2010\\\",\\\"2030\\\",\\\"2050\\\",\\\"2100\\\"],\\n    \\\"SSP5\\\": [\\\"2010\\\", \\\"2030\\\", \\\"2050\\\", \\\"2100\\\"],\\n}\\n\\n# Get list of paths for the folder structure\\npath_list = get_paths(folder_structure)\";\n                var nbb_cells = Jupyter.notebook.get_cells();\n                for (var i = 0; i < nbb_cells.length; ++i) {\n                    if (nbb_cells[i].input_prompt_number == nbb_cell_id) {\n                        if (nbb_cells[i].get_text() == nbb_unformatted_code) {\n                             nbb_cells[i].set_text(nbb_formatted_code);\n                        }\n                        break;\n                    }\n                }\n            }, 500);\n            ",
      "text/plain": [
       "<IPython.core.display.Javascript object>"
      ]
     },
     "metadata": {},
     "output_type": "display_data"
    }
   ],
   "source": [
    "def get_paths(folder_structure, base_dir=''):\n",
    "    \"\"\"Generate paths for a folder structure defined by a dict\"\"\"\n",
    "    paths = []\n",
    "    for key, value in folder_structure.items():\n",
    "        if isinstance(value, dict):\n",
    "            paths.extend(get_paths(value, os.path.join(base_dir, key)))\n",
    "        elif isinstance(value, list):\n",
    "            if value:\n",
    "                for item in value:\n",
    "                    if item != \"\":\n",
    "                        paths.append(os.path.join(base_dir, key, item))\n",
    "            else:\n",
    "                paths.append(os.path.join(base_dir, key))\n",
    "        else:\n",
    "            continue\n",
    "    return paths\n",
    "\n",
    "# List all tif files present in first folder (note: it is assumed that the same files are present in all folders)\n",
    "tif_list = glob.glob(str(ds_dir.joinpath(\"data\",\"population_v2_EU\", \"*.tif\")))\n",
    "\n",
    "# List the desired folder structure as a dict\n",
    "# NOTE: make sure the resulting path_list (based on folder structure) matches the tif_list\n",
    "# NOTE: shortcut taken by calling every year twice, because there are two tif's per year. \n",
    "folder_structure = {\n",
    "    \"SSP1\": [\"2010\",\"2030\",\"2050\",\"2100\"],\n",
    "    \"SSP2\": [\"2010\",\"2030\",\"2050\",\"2100\"],\n",
    "    #\"SSP3\": [\"2010\",\"2030\",\"2050\",\"2100\"],\n",
    "    #\"SSP4\": [\"2010\",\"2030\",\"2050\",\"2100\"],\n",
    "    \"SSP5\": [\"2010\",\"2030\",\"2050\",\"2100\"],\n",
    "}\n",
    "\n",
    "# Get list of paths for the folder structure\n",
    "path_list = get_paths(folder_structure)"
   ]
  },
  {
   "cell_type": "code",
   "execution_count": 29,
   "metadata": {},
   "outputs": [
    {
     "data": {
      "text/plain": [
       "['SSP1\\\\2010',\n",
       " 'SSP1\\\\2030',\n",
       " 'SSP1\\\\2050',\n",
       " 'SSP1\\\\2100',\n",
       " 'SSP2\\\\2010',\n",
       " 'SSP2\\\\2030',\n",
       " 'SSP2\\\\2050',\n",
       " 'SSP2\\\\2100',\n",
       " 'SSP5\\\\2010',\n",
       " 'SSP5\\\\2030',\n",
       " 'SSP5\\\\2050',\n",
       " 'SSP5\\\\2100']"
      ]
     },
     "execution_count": 29,
     "metadata": {},
     "output_type": "execute_result"
    },
    {
     "data": {
      "application/javascript": "\n            setTimeout(function() {\n                var nbb_cell_id = 29;\n                var nbb_unformatted_code = \"path_list\";\n                var nbb_formatted_code = \"path_list\";\n                var nbb_cells = Jupyter.notebook.get_cells();\n                for (var i = 0; i < nbb_cells.length; ++i) {\n                    if (nbb_cells[i].input_prompt_number == nbb_cell_id) {\n                        if (nbb_cells[i].get_text() == nbb_unformatted_code) {\n                             nbb_cells[i].set_text(nbb_formatted_code);\n                        }\n                        break;\n                    }\n                }\n            }, 500);\n            ",
      "text/plain": [
       "<IPython.core.display.Javascript object>"
      ]
     },
     "metadata": {},
     "output_type": "display_data"
    }
   ],
   "source": [
    "path_list"
   ]
  },
  {
   "cell_type": "code",
   "execution_count": 32,
   "metadata": {},
   "outputs": [
    {
     "name": "stdout",
     "output_type": "stream",
     "text": [
      "currently working on: Europe_ssp1_nSLR_tot_pop.tif\n",
      "currently working on: Europe_ssp1_nSLR_tot_pop2030.tif\n",
      "currently working on: Europe_ssp1_nSLR_tot_pop2050.tif\n",
      "currently working on: Europe_ssp1_nSLR_tot_pop2100.tif\n",
      "currently working on: Europe_ssp2_nSLR_tot_pop.tif\n",
      "currently working on: Europe_ssp2_nSLR_tot_pop2030.tif\n",
      "currently working on: Europe_ssp2_nSLR_tot_pop2050.tif\n",
      "currently working on: Europe_ssp2_nSLR_tot_pop2100.tif\n",
      "currently working on: Europe_ssp5_nSLR_tot_pop.tif\n",
      "currently working on: Europe_ssp5_nSLR_tot_pop2030.tif\n",
      "currently working on: Europe_ssp5_nSLR_tot_pop2050.tif\n",
      "currently working on: Europe_ssp5_nSLR_tot_pop2100.tif\n"
     ]
    },
    {
     "data": {
      "application/javascript": "\n            setTimeout(function() {\n                var nbb_cell_id = 32;\n                var nbb_unformatted_code = \"# Iterate over the original tif files\\n\\nfor cur_path, cur_tif in zip(path_list, tif_list):\\n    \\n    # Convert current paths to pathlib\\n    cur_tif = pathlib.Path(cur_tif)\\n    cur_dir = pathlib.Path(os.path.join(cog_dirs,cur_path))\\n    # Mkdir if not existing\\n    cur_dir.mkdir(parents=True,exist_ok=True)\\n    # Print what we're working on\\n    print('currently working on: ' +str(cur_tif.name))\\n\\n    # Open original dataset\\n    pp = xr.open_dataset(cur_tif, engine=\\\"rasterio\\\", mask_and_scale=False) \\n    pp = pp.assign_coords(band=(\\\"band\\\", [f\\\"B{k+1:02}\\\" for k in range(pp.dims[\\\"band\\\"])]))\\n    pp = pp[\\\"band_data\\\"].to_dataset(\\\"band\\\")\\n\\n    for var in pp:\\n\\n        da = pp[var]\\n\\n        da = (\\n        da.where(da != -2147483647, -9999)\\n        .astype(\\\"int32\\\")\\n        .rio.write_nodata(-9999)\\n        .rio.set_spatial_dims(x_dim=\\\"x\\\", y_dim=\\\"y\\\")\\n        )\\n\\n        # convert to dataset\\n        dad = da.to_dataset()\\n\\n        # add all attributes (again)\\n        for attr_name, attr_val in meta_data.items():\\n            if attr_name == 'PROVIDERS':\\n                attr_val = json.dumps(attr_val)\\n            if attr_name == \\\"MEDIA_TYPE\\\": # change media type to tiff, leave the rest as is\\n                attr_val = \\\"IMAGE/TIFF\\\"\\n            dad.attrs[attr_name] = attr_val\\n\\n        dad.attrs['Conventions'] = \\\"CF-1.8\\\"\\n\\n        # export file\\n        outpath = cog_dirs.joinpath(cur_path,cur_tif.name)\\n        dad.rio.to_raster(outpath, driver= 'COG')\";\n                var nbb_formatted_code = \"# Iterate over the original tif files\\n\\nfor cur_path, cur_tif in zip(path_list, tif_list):\\n    # Convert current paths to pathlib\\n    cur_tif = pathlib.Path(cur_tif)\\n    cur_dir = pathlib.Path(os.path.join(cog_dirs, cur_path))\\n    # Mkdir if not existing\\n    cur_dir.mkdir(parents=True, exist_ok=True)\\n    # Print what we're working on\\n    print(\\\"currently working on: \\\" + str(cur_tif.name))\\n\\n    # Open original dataset\\n    pp = xr.open_dataset(cur_tif, engine=\\\"rasterio\\\", mask_and_scale=False)\\n    pp = pp.assign_coords(band=(\\\"band\\\", [f\\\"B{k+1:02}\\\" for k in range(pp.dims[\\\"band\\\"])]))\\n    pp = pp[\\\"band_data\\\"].to_dataset(\\\"band\\\")\\n\\n    for var in pp:\\n        da = pp[var]\\n\\n        da = (\\n            da.where(da != -2147483647, -9999)\\n            .astype(\\\"int32\\\")\\n            .rio.write_nodata(-9999)\\n            .rio.set_spatial_dims(x_dim=\\\"x\\\", y_dim=\\\"y\\\")\\n        )\\n\\n        # convert to dataset\\n        dad = da.to_dataset()\\n\\n        # add all attributes (again)\\n        for attr_name, attr_val in meta_data.items():\\n            if attr_name == \\\"PROVIDERS\\\":\\n                attr_val = json.dumps(attr_val)\\n            if (\\n                attr_name == \\\"MEDIA_TYPE\\\"\\n            ):  # change media type to tiff, leave the rest as is\\n                attr_val = \\\"IMAGE/TIFF\\\"\\n            dad.attrs[attr_name] = attr_val\\n\\n        dad.attrs[\\\"Conventions\\\"] = \\\"CF-1.8\\\"\\n\\n        # export file\\n        outpath = cog_dirs.joinpath(cur_path, cur_tif.name)\\n        dad.rio.to_raster(outpath, driver=\\\"COG\\\")\";\n                var nbb_cells = Jupyter.notebook.get_cells();\n                for (var i = 0; i < nbb_cells.length; ++i) {\n                    if (nbb_cells[i].input_prompt_number == nbb_cell_id) {\n                        if (nbb_cells[i].get_text() == nbb_unformatted_code) {\n                             nbb_cells[i].set_text(nbb_formatted_code);\n                        }\n                        break;\n                    }\n                }\n            }, 500);\n            ",
      "text/plain": [
       "<IPython.core.display.Javascript object>"
      ]
     },
     "metadata": {},
     "output_type": "display_data"
    }
   ],
   "source": [
    "# Iterate over the original tif files\n",
    "\n",
    "for cur_path, cur_tif in zip(path_list, tif_list):\n",
    "    \n",
    "    # Convert current paths to pathlib\n",
    "    cur_tif = pathlib.Path(cur_tif)\n",
    "    cur_dir = pathlib.Path(os.path.join(cog_dirs,cur_path))\n",
    "    # Mkdir if not existing\n",
    "    cur_dir.mkdir(parents=True,exist_ok=True)\n",
    "    # Print what we're working on\n",
    "    print('currently working on: ' +str(cur_tif.name))\n",
    "\n",
    "    # Open original dataset\n",
    "    pp = xr.open_dataset(cur_tif, engine=\"rasterio\", mask_and_scale=False) \n",
    "    pp = pp.assign_coords(band=(\"band\", [f\"B{k+1:02}\" for k in range(pp.dims[\"band\"])]))\n",
    "    pp = pp[\"band_data\"].to_dataset(\"band\")\n",
    "\n",
    "    for var in pp:\n",
    "\n",
    "        da = pp[var]\n",
    "\n",
    "        da = (\n",
    "        da.where(da != -2147483647, -9999)\n",
    "        .astype(\"int32\")\n",
    "        .rio.write_nodata(-9999)\n",
    "        .rio.set_spatial_dims(x_dim=\"x\", y_dim=\"y\")\n",
    "        )\n",
    "\n",
    "        # convert to dataset\n",
    "        dad = da.to_dataset()\n",
    "\n",
    "        # add all attributes (again)\n",
    "        for attr_name, attr_val in meta_data.items():\n",
    "            if attr_name == 'PROVIDERS':\n",
    "                attr_val = json.dumps(attr_val)\n",
    "            if attr_name == \"MEDIA_TYPE\": # change media type to tiff, leave the rest as is\n",
    "                attr_val = \"IMAGE/TIFF\"\n",
    "            dad.attrs[attr_name] = attr_val\n",
    "\n",
    "        dad.attrs['Conventions'] = \"CF-1.8\"\n",
    "\n",
    "        # export file\n",
    "        outpath = cog_dirs.joinpath(cur_path,cur_tif.name)\n",
    "        dad.rio.to_raster(outpath, driver= 'COG')"
   ]
  },
  {
   "cell_type": "code",
   "execution_count": 33,
   "metadata": {},
   "outputs": [
    {
     "data": {
      "text/html": [
       "<div><svg style=\"position: absolute; width: 0; height: 0; overflow: hidden\">\n",
       "<defs>\n",
       "<symbol id=\"icon-database\" viewBox=\"0 0 32 32\">\n",
       "<path d=\"M16 0c-8.837 0-16 2.239-16 5v4c0 2.761 7.163 5 16 5s16-2.239 16-5v-4c0-2.761-7.163-5-16-5z\"></path>\n",
       "<path d=\"M16 17c-8.837 0-16-2.239-16-5v6c0 2.761 7.163 5 16 5s16-2.239 16-5v-6c0 2.761-7.163 5-16 5z\"></path>\n",
       "<path d=\"M16 26c-8.837 0-16-2.239-16-5v6c0 2.761 7.163 5 16 5s16-2.239 16-5v-6c0 2.761-7.163 5-16 5z\"></path>\n",
       "</symbol>\n",
       "<symbol id=\"icon-file-text2\" viewBox=\"0 0 32 32\">\n",
       "<path d=\"M28.681 7.159c-0.694-0.947-1.662-2.053-2.724-3.116s-2.169-2.030-3.116-2.724c-1.612-1.182-2.393-1.319-2.841-1.319h-15.5c-1.378 0-2.5 1.121-2.5 2.5v27c0 1.378 1.122 2.5 2.5 2.5h23c1.378 0 2.5-1.122 2.5-2.5v-19.5c0-0.448-0.137-1.23-1.319-2.841zM24.543 5.457c0.959 0.959 1.712 1.825 2.268 2.543h-4.811v-4.811c0.718 0.556 1.584 1.309 2.543 2.268zM28 29.5c0 0.271-0.229 0.5-0.5 0.5h-23c-0.271 0-0.5-0.229-0.5-0.5v-27c0-0.271 0.229-0.5 0.5-0.5 0 0 15.499-0 15.5 0v7c0 0.552 0.448 1 1 1h7v19.5z\"></path>\n",
       "<path d=\"M23 26h-14c-0.552 0-1-0.448-1-1s0.448-1 1-1h14c0.552 0 1 0.448 1 1s-0.448 1-1 1z\"></path>\n",
       "<path d=\"M23 22h-14c-0.552 0-1-0.448-1-1s0.448-1 1-1h14c0.552 0 1 0.448 1 1s-0.448 1-1 1z\"></path>\n",
       "<path d=\"M23 18h-14c-0.552 0-1-0.448-1-1s0.448-1 1-1h14c0.552 0 1 0.448 1 1s-0.448 1-1 1z\"></path>\n",
       "</symbol>\n",
       "</defs>\n",
       "</svg>\n",
       "<style>/* CSS stylesheet for displaying xarray objects in jupyterlab.\n",
       " *\n",
       " */\n",
       "\n",
       ":root {\n",
       "  --xr-font-color0: var(--jp-content-font-color0, rgba(0, 0, 0, 1));\n",
       "  --xr-font-color2: var(--jp-content-font-color2, rgba(0, 0, 0, 0.54));\n",
       "  --xr-font-color3: var(--jp-content-font-color3, rgba(0, 0, 0, 0.38));\n",
       "  --xr-border-color: var(--jp-border-color2, #e0e0e0);\n",
       "  --xr-disabled-color: var(--jp-layout-color3, #bdbdbd);\n",
       "  --xr-background-color: var(--jp-layout-color0, white);\n",
       "  --xr-background-color-row-even: var(--jp-layout-color1, white);\n",
       "  --xr-background-color-row-odd: var(--jp-layout-color2, #eeeeee);\n",
       "}\n",
       "\n",
       "html[theme=dark],\n",
       "body[data-theme=dark],\n",
       "body.vscode-dark {\n",
       "  --xr-font-color0: rgba(255, 255, 255, 1);\n",
       "  --xr-font-color2: rgba(255, 255, 255, 0.54);\n",
       "  --xr-font-color3: rgba(255, 255, 255, 0.38);\n",
       "  --xr-border-color: #1F1F1F;\n",
       "  --xr-disabled-color: #515151;\n",
       "  --xr-background-color: #111111;\n",
       "  --xr-background-color-row-even: #111111;\n",
       "  --xr-background-color-row-odd: #313131;\n",
       "}\n",
       "\n",
       ".xr-wrap {\n",
       "  display: block !important;\n",
       "  min-width: 300px;\n",
       "  max-width: 700px;\n",
       "}\n",
       "\n",
       ".xr-text-repr-fallback {\n",
       "  /* fallback to plain text repr when CSS is not injected (untrusted notebook) */\n",
       "  display: none;\n",
       "}\n",
       "\n",
       ".xr-header {\n",
       "  padding-top: 6px;\n",
       "  padding-bottom: 6px;\n",
       "  margin-bottom: 4px;\n",
       "  border-bottom: solid 1px var(--xr-border-color);\n",
       "}\n",
       "\n",
       ".xr-header > div,\n",
       ".xr-header > ul {\n",
       "  display: inline;\n",
       "  margin-top: 0;\n",
       "  margin-bottom: 0;\n",
       "}\n",
       "\n",
       ".xr-obj-type,\n",
       ".xr-array-name {\n",
       "  margin-left: 2px;\n",
       "  margin-right: 10px;\n",
       "}\n",
       "\n",
       ".xr-obj-type {\n",
       "  color: var(--xr-font-color2);\n",
       "}\n",
       "\n",
       ".xr-sections {\n",
       "  padding-left: 0 !important;\n",
       "  display: grid;\n",
       "  grid-template-columns: 150px auto auto 1fr 20px 20px;\n",
       "}\n",
       "\n",
       ".xr-section-item {\n",
       "  display: contents;\n",
       "}\n",
       "\n",
       ".xr-section-item input {\n",
       "  display: none;\n",
       "}\n",
       "\n",
       ".xr-section-item input + label {\n",
       "  color: var(--xr-disabled-color);\n",
       "}\n",
       "\n",
       ".xr-section-item input:enabled + label {\n",
       "  cursor: pointer;\n",
       "  color: var(--xr-font-color2);\n",
       "}\n",
       "\n",
       ".xr-section-item input:enabled + label:hover {\n",
       "  color: var(--xr-font-color0);\n",
       "}\n",
       "\n",
       ".xr-section-summary {\n",
       "  grid-column: 1;\n",
       "  color: var(--xr-font-color2);\n",
       "  font-weight: 500;\n",
       "}\n",
       "\n",
       ".xr-section-summary > span {\n",
       "  display: inline-block;\n",
       "  padding-left: 0.5em;\n",
       "}\n",
       "\n",
       ".xr-section-summary-in:disabled + label {\n",
       "  color: var(--xr-font-color2);\n",
       "}\n",
       "\n",
       ".xr-section-summary-in + label:before {\n",
       "  display: inline-block;\n",
       "  content: '►';\n",
       "  font-size: 11px;\n",
       "  width: 15px;\n",
       "  text-align: center;\n",
       "}\n",
       "\n",
       ".xr-section-summary-in:disabled + label:before {\n",
       "  color: var(--xr-disabled-color);\n",
       "}\n",
       "\n",
       ".xr-section-summary-in:checked + label:before {\n",
       "  content: '▼';\n",
       "}\n",
       "\n",
       ".xr-section-summary-in:checked + label > span {\n",
       "  display: none;\n",
       "}\n",
       "\n",
       ".xr-section-summary,\n",
       ".xr-section-inline-details {\n",
       "  padding-top: 4px;\n",
       "  padding-bottom: 4px;\n",
       "}\n",
       "\n",
       ".xr-section-inline-details {\n",
       "  grid-column: 2 / -1;\n",
       "}\n",
       "\n",
       ".xr-section-details {\n",
       "  display: none;\n",
       "  grid-column: 1 / -1;\n",
       "  margin-bottom: 5px;\n",
       "}\n",
       "\n",
       ".xr-section-summary-in:checked ~ .xr-section-details {\n",
       "  display: contents;\n",
       "}\n",
       "\n",
       ".xr-array-wrap {\n",
       "  grid-column: 1 / -1;\n",
       "  display: grid;\n",
       "  grid-template-columns: 20px auto;\n",
       "}\n",
       "\n",
       ".xr-array-wrap > label {\n",
       "  grid-column: 1;\n",
       "  vertical-align: top;\n",
       "}\n",
       "\n",
       ".xr-preview {\n",
       "  color: var(--xr-font-color3);\n",
       "}\n",
       "\n",
       ".xr-array-preview,\n",
       ".xr-array-data {\n",
       "  padding: 0 5px !important;\n",
       "  grid-column: 2;\n",
       "}\n",
       "\n",
       ".xr-array-data,\n",
       ".xr-array-in:checked ~ .xr-array-preview {\n",
       "  display: none;\n",
       "}\n",
       "\n",
       ".xr-array-in:checked ~ .xr-array-data,\n",
       ".xr-array-preview {\n",
       "  display: inline-block;\n",
       "}\n",
       "\n",
       ".xr-dim-list {\n",
       "  display: inline-block !important;\n",
       "  list-style: none;\n",
       "  padding: 0 !important;\n",
       "  margin: 0;\n",
       "}\n",
       "\n",
       ".xr-dim-list li {\n",
       "  display: inline-block;\n",
       "  padding: 0;\n",
       "  margin: 0;\n",
       "}\n",
       "\n",
       ".xr-dim-list:before {\n",
       "  content: '(';\n",
       "}\n",
       "\n",
       ".xr-dim-list:after {\n",
       "  content: ')';\n",
       "}\n",
       "\n",
       ".xr-dim-list li:not(:last-child):after {\n",
       "  content: ',';\n",
       "  padding-right: 5px;\n",
       "}\n",
       "\n",
       ".xr-has-index {\n",
       "  font-weight: bold;\n",
       "}\n",
       "\n",
       ".xr-var-list,\n",
       ".xr-var-item {\n",
       "  display: contents;\n",
       "}\n",
       "\n",
       ".xr-var-item > div,\n",
       ".xr-var-item label,\n",
       ".xr-var-item > .xr-var-name span {\n",
       "  background-color: var(--xr-background-color-row-even);\n",
       "  margin-bottom: 0;\n",
       "}\n",
       "\n",
       ".xr-var-item > .xr-var-name:hover span {\n",
       "  padding-right: 5px;\n",
       "}\n",
       "\n",
       ".xr-var-list > li:nth-child(odd) > div,\n",
       ".xr-var-list > li:nth-child(odd) > label,\n",
       ".xr-var-list > li:nth-child(odd) > .xr-var-name span {\n",
       "  background-color: var(--xr-background-color-row-odd);\n",
       "}\n",
       "\n",
       ".xr-var-name {\n",
       "  grid-column: 1;\n",
       "}\n",
       "\n",
       ".xr-var-dims {\n",
       "  grid-column: 2;\n",
       "}\n",
       "\n",
       ".xr-var-dtype {\n",
       "  grid-column: 3;\n",
       "  text-align: right;\n",
       "  color: var(--xr-font-color2);\n",
       "}\n",
       "\n",
       ".xr-var-preview {\n",
       "  grid-column: 4;\n",
       "}\n",
       "\n",
       ".xr-index-preview {\n",
       "  grid-column: 2 / 5;\n",
       "  color: var(--xr-font-color2);\n",
       "}\n",
       "\n",
       ".xr-var-name,\n",
       ".xr-var-dims,\n",
       ".xr-var-dtype,\n",
       ".xr-preview,\n",
       ".xr-attrs dt {\n",
       "  white-space: nowrap;\n",
       "  overflow: hidden;\n",
       "  text-overflow: ellipsis;\n",
       "  padding-right: 10px;\n",
       "}\n",
       "\n",
       ".xr-var-name:hover,\n",
       ".xr-var-dims:hover,\n",
       ".xr-var-dtype:hover,\n",
       ".xr-attrs dt:hover {\n",
       "  overflow: visible;\n",
       "  width: auto;\n",
       "  z-index: 1;\n",
       "}\n",
       "\n",
       ".xr-var-attrs,\n",
       ".xr-var-data,\n",
       ".xr-index-data {\n",
       "  display: none;\n",
       "  background-color: var(--xr-background-color) !important;\n",
       "  padding-bottom: 5px !important;\n",
       "}\n",
       "\n",
       ".xr-var-attrs-in:checked ~ .xr-var-attrs,\n",
       ".xr-var-data-in:checked ~ .xr-var-data,\n",
       ".xr-index-data-in:checked ~ .xr-index-data {\n",
       "  display: block;\n",
       "}\n",
       "\n",
       ".xr-var-data > table {\n",
       "  float: right;\n",
       "}\n",
       "\n",
       ".xr-var-name span,\n",
       ".xr-var-data,\n",
       ".xr-index-name div,\n",
       ".xr-index-data,\n",
       ".xr-attrs {\n",
       "  padding-left: 25px !important;\n",
       "}\n",
       "\n",
       ".xr-attrs,\n",
       ".xr-var-attrs,\n",
       ".xr-var-data,\n",
       ".xr-index-data {\n",
       "  grid-column: 1 / -1;\n",
       "}\n",
       "\n",
       "dl.xr-attrs {\n",
       "  padding: 0;\n",
       "  margin: 0;\n",
       "  display: grid;\n",
       "  grid-template-columns: 125px auto;\n",
       "}\n",
       "\n",
       ".xr-attrs dt,\n",
       ".xr-attrs dd {\n",
       "  padding: 0;\n",
       "  margin: 0;\n",
       "  float: left;\n",
       "  padding-right: 10px;\n",
       "  width: auto;\n",
       "}\n",
       "\n",
       ".xr-attrs dt {\n",
       "  font-weight: normal;\n",
       "  grid-column: 1;\n",
       "}\n",
       "\n",
       ".xr-attrs dt:hover span {\n",
       "  display: inline-block;\n",
       "  background: var(--xr-background-color);\n",
       "  padding-right: 10px;\n",
       "}\n",
       "\n",
       ".xr-attrs dd {\n",
       "  grid-column: 2;\n",
       "  white-space: pre-wrap;\n",
       "  word-break: break-all;\n",
       "}\n",
       "\n",
       ".xr-icon-database,\n",
       ".xr-icon-file-text2,\n",
       ".xr-no-icon {\n",
       "  display: inline-block;\n",
       "  vertical-align: middle;\n",
       "  width: 1em;\n",
       "  height: 1.5em !important;\n",
       "  stroke-width: 0;\n",
       "  stroke: currentColor;\n",
       "  fill: currentColor;\n",
       "}\n",
       "</style><pre class='xr-text-repr-fallback'>&lt;xarray.Dataset&gt;\n",
       "Dimensions:      (x: 8480, y: 4554)\n",
       "Coordinates:\n",
       "  * x            (x) float64 -25.39 -25.39 -25.38 -25.37 ... 45.25 45.26 45.26\n",
       "  * y            (y) float64 71.8 71.79 71.78 71.77 ... 33.88 33.87 33.86 33.85\n",
       "    spatial_ref  int32 0\n",
       "Data variables:\n",
       "    B01          (y, x) int32 -99999 -99999 -99999 ... -99999 -99999 -99999\n",
       "Attributes: (12/21)\n",
       "    TITLE:               Gridded population projections for the EU under the ...\n",
       "    TITLE_ABBREVIATION:  POP_SSPs\n",
       "    DESCRIPTION:         The spatially-explicit population projections for th...\n",
       "    SHORT_DESCRIPTION:   Bonatz et al. (in preparation) have developed region...\n",
       "    INSTITUTION:         Geography Institute, Kiel University\n",
       "    PROVIDERS:           {&quot;name&quot;: &quot;Geography Institute, Kiel University&quot;, &quot;ur...\n",
       "    ...                  ...\n",
       "    DOI:                 \n",
       "    LONG_NAME:           Gridded population projections for the EU\n",
       "    UNITS:               \n",
       "    COMMENT:             \n",
       "    CRS:                 D_WGS_1984\n",
       "    Conventions:         CF-1.8</pre><div class='xr-wrap' style='display:none'><div class='xr-header'><div class='xr-obj-type'>xarray.Dataset</div></div><ul class='xr-sections'><li class='xr-section-item'><input id='section-1b57774a-44dd-4345-82cc-efb2f4a70321' class='xr-section-summary-in' type='checkbox' disabled ><label for='section-1b57774a-44dd-4345-82cc-efb2f4a70321' class='xr-section-summary'  title='Expand/collapse section'>Dimensions:</label><div class='xr-section-inline-details'><ul class='xr-dim-list'><li><span class='xr-has-index'>x</span>: 8480</li><li><span class='xr-has-index'>y</span>: 4554</li></ul></div><div class='xr-section-details'></div></li><li class='xr-section-item'><input id='section-587ab24f-c9a3-485a-97f0-a47f979a14df' class='xr-section-summary-in' type='checkbox'  checked><label for='section-587ab24f-c9a3-485a-97f0-a47f979a14df' class='xr-section-summary' >Coordinates: <span>(3)</span></label><div class='xr-section-inline-details'></div><div class='xr-section-details'><ul class='xr-var-list'><li class='xr-var-item'><div class='xr-var-name'><span class='xr-has-index'>x</span></div><div class='xr-var-dims'>(x)</div><div class='xr-var-dtype'>float64</div><div class='xr-var-preview xr-preview'>-25.39 -25.39 ... 45.26 45.26</div><input id='attrs-a5709061-fb39-4df0-a648-993ceb60c17f' class='xr-var-attrs-in' type='checkbox' disabled><label for='attrs-a5709061-fb39-4df0-a648-993ceb60c17f' title='Show/Hide attributes'><svg class='icon xr-icon-file-text2'><use xlink:href='#icon-file-text2'></use></svg></label><input id='data-bdc42b52-8cb5-4186-901d-13045c5b8913' class='xr-var-data-in' type='checkbox'><label for='data-bdc42b52-8cb5-4186-901d-13045c5b8913' title='Show/Hide data repr'><svg class='icon xr-icon-database'><use xlink:href='#icon-database'></use></svg></label><div class='xr-var-attrs'><dl class='xr-attrs'></dl></div><div class='xr-var-data'><pre>array([-25.39375 , -25.385417, -25.377083, ...,  45.247917,  45.25625 ,\n",
       "        45.264583])</pre></div></li><li class='xr-var-item'><div class='xr-var-name'><span class='xr-has-index'>y</span></div><div class='xr-var-dims'>(y)</div><div class='xr-var-dtype'>float64</div><div class='xr-var-preview xr-preview'>71.8 71.79 71.78 ... 33.86 33.85</div><input id='attrs-b816a5cf-bc26-457b-85de-5bad464ea572' class='xr-var-attrs-in' type='checkbox' disabled><label for='attrs-b816a5cf-bc26-457b-85de-5bad464ea572' title='Show/Hide attributes'><svg class='icon xr-icon-file-text2'><use xlink:href='#icon-file-text2'></use></svg></label><input id='data-2f367f5c-4eeb-4b6e-8db2-ca77d2021ae5' class='xr-var-data-in' type='checkbox'><label for='data-2f367f5c-4eeb-4b6e-8db2-ca77d2021ae5' title='Show/Hide data repr'><svg class='icon xr-icon-database'><use xlink:href='#icon-database'></use></svg></label><div class='xr-var-attrs'><dl class='xr-attrs'></dl></div><div class='xr-var-data'><pre>array([71.795417, 71.787083, 71.77875 , ..., 33.870417, 33.862083, 33.85375 ])</pre></div></li><li class='xr-var-item'><div class='xr-var-name'><span>spatial_ref</span></div><div class='xr-var-dims'>()</div><div class='xr-var-dtype'>int32</div><div class='xr-var-preview xr-preview'>0</div><input id='attrs-aa6e4080-069c-4fed-a4ac-e594098affa4' class='xr-var-attrs-in' type='checkbox' ><label for='attrs-aa6e4080-069c-4fed-a4ac-e594098affa4' title='Show/Hide attributes'><svg class='icon xr-icon-file-text2'><use xlink:href='#icon-file-text2'></use></svg></label><input id='data-d6347e24-b91f-4350-828f-70193bf182e0' class='xr-var-data-in' type='checkbox'><label for='data-d6347e24-b91f-4350-828f-70193bf182e0' title='Show/Hide data repr'><svg class='icon xr-icon-database'><use xlink:href='#icon-database'></use></svg></label><div class='xr-var-attrs'><dl class='xr-attrs'><dt><span>crs_wkt :</span></dt><dd>GEOGCS[&quot;WGS 84&quot;,DATUM[&quot;WGS_1984&quot;,SPHEROID[&quot;WGS 84&quot;,6378137,298.257223563,AUTHORITY[&quot;EPSG&quot;,&quot;7030&quot;]],AUTHORITY[&quot;EPSG&quot;,&quot;6326&quot;]],PRIMEM[&quot;Greenwich&quot;,0,AUTHORITY[&quot;EPSG&quot;,&quot;8901&quot;]],UNIT[&quot;degree&quot;,0.0174532925199433,AUTHORITY[&quot;EPSG&quot;,&quot;9122&quot;]],AXIS[&quot;Latitude&quot;,NORTH],AXIS[&quot;Longitude&quot;,EAST],AUTHORITY[&quot;EPSG&quot;,&quot;4326&quot;]]</dd><dt><span>semi_major_axis :</span></dt><dd>6378137.0</dd><dt><span>semi_minor_axis :</span></dt><dd>6356752.314245179</dd><dt><span>inverse_flattening :</span></dt><dd>298.257223563</dd><dt><span>reference_ellipsoid_name :</span></dt><dd>WGS 84</dd><dt><span>longitude_of_prime_meridian :</span></dt><dd>0.0</dd><dt><span>prime_meridian_name :</span></dt><dd>Greenwich</dd><dt><span>geographic_crs_name :</span></dt><dd>WGS 84</dd><dt><span>horizontal_datum_name :</span></dt><dd>World Geodetic System 1984</dd><dt><span>grid_mapping_name :</span></dt><dd>latitude_longitude</dd><dt><span>spatial_ref :</span></dt><dd>GEOGCS[&quot;WGS 84&quot;,DATUM[&quot;WGS_1984&quot;,SPHEROID[&quot;WGS 84&quot;,6378137,298.257223563,AUTHORITY[&quot;EPSG&quot;,&quot;7030&quot;]],AUTHORITY[&quot;EPSG&quot;,&quot;6326&quot;]],PRIMEM[&quot;Greenwich&quot;,0,AUTHORITY[&quot;EPSG&quot;,&quot;8901&quot;]],UNIT[&quot;degree&quot;,0.0174532925199433,AUTHORITY[&quot;EPSG&quot;,&quot;9122&quot;]],AXIS[&quot;Latitude&quot;,NORTH],AXIS[&quot;Longitude&quot;,EAST],AUTHORITY[&quot;EPSG&quot;,&quot;4326&quot;]]</dd><dt><span>GeoTransform :</span></dt><dd>-25.397916667 0.008333333333372642 0.0 71.799583333 0.0 -0.008333333333333333</dd></dl></div><div class='xr-var-data'><pre>array(0)</pre></div></li></ul></div></li><li class='xr-section-item'><input id='section-7b96c022-6ace-4558-8502-ef426be65dcf' class='xr-section-summary-in' type='checkbox'  checked><label for='section-7b96c022-6ace-4558-8502-ef426be65dcf' class='xr-section-summary' >Data variables: <span>(1)</span></label><div class='xr-section-inline-details'></div><div class='xr-section-details'><ul class='xr-var-list'><li class='xr-var-item'><div class='xr-var-name'><span>B01</span></div><div class='xr-var-dims'>(y, x)</div><div class='xr-var-dtype'>int32</div><div class='xr-var-preview xr-preview'>-99999 -99999 ... -99999 -99999</div><input id='attrs-47ba261e-e123-4c70-bec8-1011ae874928' class='xr-var-attrs-in' type='checkbox' ><label for='attrs-47ba261e-e123-4c70-bec8-1011ae874928' title='Show/Hide attributes'><svg class='icon xr-icon-file-text2'><use xlink:href='#icon-file-text2'></use></svg></label><input id='data-4dd6ff83-0d0d-42b8-b770-197e692b0170' class='xr-var-data-in' type='checkbox'><label for='data-4dd6ff83-0d0d-42b8-b770-197e692b0170' title='Show/Hide data repr'><svg class='icon xr-icon-database'><use xlink:href='#icon-database'></use></svg></label><div class='xr-var-attrs'><dl class='xr-attrs'><dt><span>_FillValue :</span></dt><dd>-9999</dd></dl></div><div class='xr-var-data'><pre>array([[-99999, -99999, -99999, ..., -99999, -99999, -99999],\n",
       "       [-99999, -99999, -99999, ..., -99999, -99999, -99999],\n",
       "       [-99999, -99999, -99999, ..., -99999, -99999, -99999],\n",
       "       ...,\n",
       "       [-99999, -99999, -99999, ..., -99999, -99999, -99999],\n",
       "       [-99999, -99999, -99999, ..., -99999, -99999, -99999],\n",
       "       [-99999, -99999, -99999, ..., -99999, -99999, -99999]])</pre></div></li></ul></div></li><li class='xr-section-item'><input id='section-86b050ac-abe4-4f46-8cd9-59687b9f9c5b' class='xr-section-summary-in' type='checkbox'  ><label for='section-86b050ac-abe4-4f46-8cd9-59687b9f9c5b' class='xr-section-summary' >Indexes: <span>(2)</span></label><div class='xr-section-inline-details'></div><div class='xr-section-details'><ul class='xr-var-list'><li class='xr-var-item'><div class='xr-index-name'><div>x</div></div><div class='xr-index-preview'>PandasIndex</div><div></div><input id='index-ee9999e8-75b5-420d-9d13-6ed084763105' class='xr-index-data-in' type='checkbox'/><label for='index-ee9999e8-75b5-420d-9d13-6ed084763105' title='Show/Hide index repr'><svg class='icon xr-icon-database'><use xlink:href='#icon-database'></use></svg></label><div class='xr-index-data'><pre>PandasIndex(Index([-25.393750000333313,  -25.38541666699994,  -25.37708333366657,\n",
       "       -25.368750000333193,  -25.36041666699982,  -25.35208333366645,\n",
       "       -25.343750000333078, -25.335416666999706,  -25.32708333366633,\n",
       "       -25.318750000332958,\n",
       "       ...\n",
       "         45.18958333333296,  45.197916666666345,   45.20624999999971,\n",
       "         45.21458333333308,   45.22291666666645,   45.23124999999983,\n",
       "          45.2395833333332,   45.24791666666657,   45.25624999999995,\n",
       "         45.26458333333332],\n",
       "      dtype=&#x27;float64&#x27;, name=&#x27;x&#x27;, length=8480))</pre></div></li><li class='xr-var-item'><div class='xr-index-name'><div>y</div></div><div class='xr-index-preview'>PandasIndex</div><div></div><input id='index-f7167d7f-e27f-4233-b058-7204026624a9' class='xr-index-data-in' type='checkbox'/><label for='index-f7167d7f-e27f-4233-b058-7204026624a9' title='Show/Hide index repr'><svg class='icon xr-icon-database'><use xlink:href='#icon-database'></use></svg></label><div class='xr-index-data'><pre>PandasIndex(Index([ 71.79541666633334,       71.787083333,  71.77874999966667,\n",
       "        71.77041666633333,       71.762083333,  71.75374999966667,\n",
       "        71.74541666633334,       71.737083333,  71.72874999966668,\n",
       "        71.72041666633334,\n",
       "       ...\n",
       "        33.92874999966667,  33.92041666633334, 33.912083333000005,\n",
       "        33.90374999966667,  33.89541666633334,  33.88708333300001,\n",
       "       33.878749999666674,  33.87041666633334,  33.86208333300001,\n",
       "       33.853749999666675],\n",
       "      dtype=&#x27;float64&#x27;, name=&#x27;y&#x27;, length=4554))</pre></div></li></ul></div></li><li class='xr-section-item'><input id='section-f2172aa1-d78d-445a-981b-280c01dcf9d0' class='xr-section-summary-in' type='checkbox'  ><label for='section-f2172aa1-d78d-445a-981b-280c01dcf9d0' class='xr-section-summary' >Attributes: <span>(21)</span></label><div class='xr-section-inline-details'></div><div class='xr-section-details'><dl class='xr-attrs'><dt><span>TITLE :</span></dt><dd>Gridded population projections for the EU under the Shared Socioeconomic Pathways</dd><dt><span>TITLE_ABBREVIATION :</span></dt><dd>POP_SSPs</dd><dt><span>DESCRIPTION :</span></dt><dd>The spatially-explicit population projections for the EU include gridded population projections for each SSP. The produced grids have a spatial resolution of 30*30 arcsecond (approx. 1 km at the equator) and represent the population count per cell. The national SSP3.0 projections of IIASA have been downscaled with an extended gravity-model, based on regionally observed population development</dd><dt><span>SHORT_DESCRIPTION :</span></dt><dd>Bonatz et al. (in preparation) have developed regionalised population projections based on the IIASA SSP3.0-Database. The produced grids have a spatial resolution of 30*30 arcsecond (approx. 1 km at the equator) and represent the population count per cell. A detailed description of the methods is given in the reference below.</dd><dt><span>INSTITUTION :</span></dt><dd>Geography Institute, Kiel University</dd><dt><span>PROVIDERS :</span></dt><dd>{&quot;name&quot;: &quot;Geography Institute, Kiel University&quot;, &quot;url&quot;: &quot;www.uni-kiel.de&quot;, &quot;roles&quot;: &quot;provider&quot;, &quot;description&quot;: &quot;&quot;}</dd><dt><span>HISTORY :</span></dt><dd></dd><dt><span>MEDIA_TYPE :</span></dt><dd>IMAGE/TIFF</dd><dt><span>SPATIAL_EXTENT :</span></dt><dd>[-31.28125, 27.641249, 34.085416667, 70.0995833329]</dd><dt><span>TEMPORAL_EXTENT :</span></dt><dd>[&#x27;temporal resolution: 2010, 2030, 2050, 2100&#x27;, &#x27;&#x27;]</dd><dt><span>LICENSE :</span></dt><dd>Creative Commons Attribution 4.0 International</dd><dt><span>AUTHOR :</span></dt><dd>Hedda Bonatz, Theodore Nikoletopoulos, Athanasios T. Vafeidis</dd><dt><span>KEYWORDS :</span></dt><dd>[&#x27;Shared Socioeconomic Pathways&#x27;, &#x27;population&#x27;]</dd><dt><span>TAGS :</span></dt><dd>[&#x27;Shared Socioeconomic Pathways&#x27;, &#x27;population&#x27;]</dd><dt><span>CITATION :</span></dt><dd>In preparation</dd><dt><span>DOI :</span></dt><dd></dd><dt><span>LONG_NAME :</span></dt><dd>Gridded population projections for the EU</dd><dt><span>UNITS :</span></dt><dd></dd><dt><span>COMMENT :</span></dt><dd></dd><dt><span>CRS :</span></dt><dd>D_WGS_1984</dd><dt><span>Conventions :</span></dt><dd>CF-1.8</dd></dl></div></li></ul></div></div>"
      ],
      "text/plain": [
       "<xarray.Dataset>\n",
       "Dimensions:      (x: 8480, y: 4554)\n",
       "Coordinates:\n",
       "  * x            (x) float64 -25.39 -25.39 -25.38 -25.37 ... 45.25 45.26 45.26\n",
       "  * y            (y) float64 71.8 71.79 71.78 71.77 ... 33.88 33.87 33.86 33.85\n",
       "    spatial_ref  int32 0\n",
       "Data variables:\n",
       "    B01          (y, x) int32 -99999 -99999 -99999 ... -99999 -99999 -99999\n",
       "Attributes: (12/21)\n",
       "    TITLE:               Gridded population projections for the EU under the ...\n",
       "    TITLE_ABBREVIATION:  POP_SSPs\n",
       "    DESCRIPTION:         The spatially-explicit population projections for th...\n",
       "    SHORT_DESCRIPTION:   Bonatz et al. (in preparation) have developed region...\n",
       "    INSTITUTION:         Geography Institute, Kiel University\n",
       "    PROVIDERS:           {\"name\": \"Geography Institute, Kiel University\", \"ur...\n",
       "    ...                  ...\n",
       "    DOI:                 \n",
       "    LONG_NAME:           Gridded population projections for the EU\n",
       "    UNITS:               \n",
       "    COMMENT:             \n",
       "    CRS:                 D_WGS_1984\n",
       "    Conventions:         CF-1.8"
      ]
     },
     "execution_count": 33,
     "metadata": {},
     "output_type": "execute_result"
    },
    {
     "data": {
      "application/javascript": "\n            setTimeout(function() {\n                var nbb_cell_id = 33;\n                var nbb_unformatted_code = \"dad\";\n                var nbb_formatted_code = \"dad\";\n                var nbb_cells = Jupyter.notebook.get_cells();\n                for (var i = 0; i < nbb_cells.length; ++i) {\n                    if (nbb_cells[i].input_prompt_number == nbb_cell_id) {\n                        if (nbb_cells[i].get_text() == nbb_unformatted_code) {\n                             nbb_cells[i].set_text(nbb_formatted_code);\n                        }\n                        break;\n                    }\n                }\n            }, 500);\n            ",
      "text/plain": [
       "<IPython.core.display.Javascript object>"
      ]
     },
     "metadata": {},
     "output_type": "display_data"
    }
   ],
   "source": [
    "dad"
   ]
  },
  {
   "cell_type": "code",
   "execution_count": null,
   "metadata": {},
   "outputs": [],
   "source": []
  }
 ],
 "metadata": {
  "kernelspec": {
   "display_name": "coclico",
   "language": "python",
   "name": "python3"
  },
  "language_info": {
   "codemirror_mode": {
    "name": "ipython",
    "version": 3
   },
   "file_extension": ".py",
   "mimetype": "text/x-python",
   "name": "python",
   "nbconvert_exporter": "python",
   "pygments_lexer": "ipython3",
   "version": "3.11.4"
  }
 },
 "nbformat": 4,
 "nbformat_minor": 2
}
